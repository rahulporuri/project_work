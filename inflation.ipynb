{
 "metadata": {
  "name": "",
  "signature": "sha256:3b350bd84187d9501d7c2823464b89fb3606da46a5d291dde38cd694e19c4f29"
 },
 "nbformat": 3,
 "nbformat_minor": 0,
 "worksheets": [
  {
   "cells": [
    {
     "cell_type": "code",
     "collapsed": false,
     "input": [
      "import numpy\n",
      "import matplotlib.pyplot as plt\n",
      "%matplotlib inline\n",
      "\n",
      "import sympy as sym\n",
      "from sympy.functions import exp\n",
      "x = sym.symbols('x')"
     ],
     "language": "python",
     "metadata": {},
     "outputs": [],
     "prompt_number": 1
    },
    {
     "cell_type": "code",
     "collapsed": false,
     "input": [
      "q = 51.\n",
      "V0 = (204./100.)*1e-08\n",
      "ti = (q*(3*q -1)/V0)**(1./2)\n",
      "phi_i = 1.\n",
      "phi_di = (2.*q)**(1./2)/ti\n",
      "Ni = 0.\n",
      "Nf = 70.\n",
      "kp = 5.*1e-02\n",
      "\n",
      "#beta = -((2*q -1)/(q -1))\n",
      "#e1a = ((beta +2)/(beta +1))"
     ],
     "language": "python",
     "metadata": {},
     "outputs": [],
     "prompt_number": 2
    },
    {
     "cell_type": "code",
     "collapsed": false,
     "input": [
      "print phi_i"
     ],
     "language": "python",
     "metadata": {},
     "outputs": [
      {
       "output_type": "stream",
       "stream": "stdout",
       "text": [
        "1.0\n"
       ]
      }
     ],
     "prompt_number": 3
    },
    {
     "cell_type": "code",
     "collapsed": false,
     "input": [
      "#V = lambda phi : V0*numpy.exp(-(2*q)**(1./2.)*(phi-phi_i))\n",
      "V = lambda phi : V0*exp(-(2./q)**(1./2)*(x -phi_i)).subs(x,phi).evalf()\n",
      "dV = lambda phi : sym.diff(V0*exp(-(2./q)**(1./2)*(x -phi_i)),x).subs(x,phi).evalf()"
     ],
     "language": "python",
     "metadata": {},
     "outputs": [],
     "prompt_number": 4
    },
    {
     "cell_type": "code",
     "collapsed": false,
     "input": [
      "dV = lambda phi : sym.diff(V0*exp(-(2./q)**(1./2)*(x -phi_i)),x).subs(x,phi).evalf()"
     ],
     "language": "python",
     "metadata": {},
     "outputs": [],
     "prompt_number": 5
    },
    {
     "cell_type": "code",
     "collapsed": false,
     "input": [
      "plt.plot(numpy.linspace(1,4,101), numpy.asarray([V(i) for i in numpy.linspace(1,4,101)])/V0)"
     ],
     "language": "python",
     "metadata": {},
     "outputs": [
      {
       "metadata": {},
       "output_type": "pyout",
       "prompt_number": 6,
       "text": [
        "[<matplotlib.lines.Line2D at 0xafc1220c>]"
       ]
      },
      {
       "metadata": {},
       "output_type": "display_data",
       "png": "[encoded data removed]",
       "text": [
        "<matplotlib.figure.Figure at 0xafcde5ac>"
       ]
      }
     ],
     "prompt_number": 6
    },
    {
     "cell_type": "code",
     "collapsed": false,
     "input": [
      "Hi = ((1./3)*(phi_di**2/2. +V(phi_i)))**(1./2.)\n",
      "phi_Ni = phi_di/Hi"
     ],
     "language": "python",
     "metadata": {},
     "outputs": [],
     "prompt_number": 7
    },
    {
     "cell_type": "code",
     "collapsed": false,
     "input": [
      "print Hi, phi_Ni"
     ],
     "language": "python",
     "metadata": {},
     "outputs": [
      {
       "output_type": "stream",
       "stream": "stdout",
       "text": [
        "8.27329247766889e-5 0.198029508595335\n"
       ]
      }
     ],
     "prompt_number": 8
    },
    {
     "cell_type": "code",
     "collapsed": false,
     "input": [
      "def DDphi(N, phi0, Dphi0):\n",
      "    return -(3 -Dphi0**2/2.)*Dphi0 -(dV(phi0)/(2*V(phi0)))*(6 -Dphi0**2)"
     ],
     "language": "python",
     "metadata": {},
     "outputs": [],
     "prompt_number": 9
    },
    {
     "cell_type": "code",
     "collapsed": false,
     "input": [
      "def rk4_step(N, phi0, Dphi0, step):\n",
      "    F1 = Dphi0\n",
      "    f1 = DDphi(N, phi0, Dphi0)\n",
      "    F2 = Dphi0 +f1*step/2.\n",
      "    f2 = DDphi(N +step/2., phi0 +F1*step/2., Dphi0 +f1*step/2.)\n",
      "    F3 = Dphi0 +f2*step/2.\n",
      "    f3 = DDphi(N +step/2., phi0 +F2*step/2., Dphi0 +f2*step/2.)\n",
      "    F4 = Dphi0 +f3*step\n",
      "    f4 = DDphi(N +step, phi0 +F3*step, Dphi0 +f3*step)\n",
      "    \n",
      "    return numpy.array([(f1 +2*f2 +2*f3 +f4)*step/6.]), numpy.array([(F1 +2*F2 +2*F3 +F4)*step/6.]) # [Dhk, hk] update"
     ],
     "language": "python",
     "metadata": {},
     "outputs": [],
     "prompt_number": 10
    },
    {
     "cell_type": "code",
     "collapsed": false,
     "input": [
      "phi0 = 1.0\n",
      "Dphi0 = phi_Ni"
     ],
     "language": "python",
     "metadata": {},
     "outputs": [],
     "prompt_number": 11
    },
    {
     "cell_type": "code",
     "collapsed": false,
     "input": [
      "print phi0, phi_i"
     ],
     "language": "python",
     "metadata": {},
     "outputs": [
      {
       "output_type": "stream",
       "stream": "stdout",
       "text": [
        "1.0 1.0\n"
       ]
      }
     ],
     "prompt_number": 12
    },
    {
     "cell_type": "code",
     "collapsed": false,
     "input": [
      "npts = 1000\n",
      "step = (Nf-Ni)/(npts)"
     ],
     "language": "python",
     "metadata": {},
     "outputs": [],
     "prompt_number": 13
    },
    {
     "cell_type": "code",
     "collapsed": false,
     "input": [
      "print Ni + npts*step, Nf"
     ],
     "language": "python",
     "metadata": {},
     "outputs": [
      {
       "output_type": "stream",
       "stream": "stdout",
       "text": [
        "70.0 70.0\n"
       ]
      }
     ],
     "prompt_number": 14
    },
    {
     "cell_type": "code",
     "collapsed": false,
     "input": [
      "phi_array = numpy.array([phi0])\n",
      "Dphi_array = numpy.array([Dphi0])\n",
      "N_array = numpy.array([Ni])\n",
      "\n",
      "N = Ni\n",
      "while N < Nf:\n",
      "    array = rk4_step(N, phi0, Dphi0, step)\n",
      "    phi0 = phi0 + array[1]\n",
      "    Dphi0 = Dphi0 + array[0]\n",
      "    phi_array = numpy.append(phi_array,phi0)\n",
      "    Dphi_array = numpy.append(Dphi_array,Dphi0)\n",
      "    N += step\n",
      "    N_array = numpy.append(N_array,N)"
     ],
     "language": "python",
     "metadata": {},
     "outputs": [],
     "prompt_number": 22
    },
    {
     "cell_type": "code",
     "collapsed": false,
     "input": [
      "print len(phi_array), N_array[0:2], N_array[-3:-1]"
     ],
     "language": "python",
     "metadata": {},
     "outputs": [
      {
       "output_type": "stream",
       "stream": "stdout",
       "text": [
        "1002 [ 0.    0.07] [ 69.93  70.  ]\n"
       ]
      }
     ],
     "prompt_number": 24
    },
    {
     "cell_type": "code",
     "collapsed": false,
     "input": [
      "N_array - numpy.linspace(0,70,1002,endpoint= True)"
     ],
     "language": "python",
     "metadata": {},
     "outputs": [
      {
       "metadata": {},
       "output_type": "pyout",
       "prompt_number": 34,
       "text": [
        "array([  0.00000000e+00,   6.99300699e-05,   1.39860140e-04, ...,\n",
        "         6.98601399e-02,   6.99300699e-02,   7.00000000e-02])"
       ]
      }
     ],
     "prompt_number": 34
    },
    {
     "cell_type": "code",
     "collapsed": false,
     "input": [
      "#plt.plot(numpy.linspace(0,70,npts+1), phi_array)\n",
      "plt.plot(N_array, phi_array)"
     ],
     "language": "python",
     "metadata": {},
     "outputs": [
      {
       "metadata": {},
       "output_type": "pyout",
       "prompt_number": 35,
       "text": [
        "[<matplotlib.lines.Line2D at 0xaf76b4cc>]"
       ]
      },
      {
       "metadata": {},
       "output_type": "display_data",
       "png": "[encoded data removed]",
       "text": [
        "<matplotlib.figure.Figure at 0xaf771d0c>"
       ]
      }
     ],
     "prompt_number": 35
    },
    {
     "cell_type": "code",
     "collapsed": false,
     "input": [],
     "language": "python",
     "metadata": {},
     "outputs": []
    },
    {
     "cell_type": "code",
     "collapsed": false,
     "input": [
      "H = [((V(phi_array[i]))/(3 -Dphi_array[i]**2/2))**(1./2) for i in range(len(phi_array))]"
     ],
     "language": "python",
     "metadata": {},
     "outputs": [],
     "prompt_number": 18
    },
    {
     "cell_type": "code",
     "collapsed": false,
     "input": [
      "#plt.plot(numpy.linspace(0,70,npts+1), numpy.asarray(H)/Hi)\n",
      "plt.plot(N_array, numpy.asarray(H)/Hi)"
     ],
     "language": "python",
     "metadata": {},
     "outputs": [
      {
       "metadata": {},
       "output_type": "pyout",
       "prompt_number": 36,
       "text": [
        "[<matplotlib.lines.Line2D at 0xaf63e6cc>]"
       ]
      },
      {
       "metadata": {},
       "output_type": "display_data",
       "png": "[encoded data removed]",
       "text": [
        "<matplotlib.figure.Figure at 0xaf78d8ec>"
       ]
      }
     ],
     "prompt_number": 36
    },
    {
     "cell_type": "code",
     "collapsed": false,
     "input": [
      "#plt.plot(numpy.linspace(0,70,npts+1), [H[i]*Dphi_array[i] for i in range(len(H))])\n",
      "plt.plot([H[i]*Dphi_array[i] for i in range(len(H))])"
     ],
     "language": "python",
     "metadata": {},
     "outputs": [
      {
       "metadata": {},
       "output_type": "pyout",
       "prompt_number": 20,
       "text": [
        "[<matplotlib.lines.Line2D at 0xaf829bac>]"
       ]
      },
      {
       "metadata": {},
       "output_type": "display_data",
       "png": "[encoded data removed]",
       "text": [
        "<matplotlib.figure.Figure at 0xafbe45ac>"
       ]
      }
     ],
     "prompt_number": 20
    },
    {
     "cell_type": "code",
     "collapsed": false,
     "input": [
      "plt.plot(N_array, [Dphi_array[i]**2/2 for i in range(len(H))])"
     ],
     "language": "python",
     "metadata": {},
     "outputs": [
      {
       "metadata": {},
       "output_type": "pyout",
       "prompt_number": 37,
       "text": [
        "[<matplotlib.lines.Line2D at 0xaf5bde4c>]"
       ]
      },
      {
       "metadata": {},
       "output_type": "display_data",
       "png": "[encoded data removed]",
       "text": [
        "<matplotlib.figure.Figure at 0xafbb9f0c>"
       ]
      }
     ],
     "prompt_number": 37
    },
    {
     "cell_type": "code",
     "collapsed": false,
     "input": [
      "ai = 1e-05\n",
      "z = [ai*numpy.exp(N_array[i])*Dphi_array[i] for i in range(len(N_array))]"
     ],
     "language": "python",
     "metadata": {},
     "outputs": [],
     "prompt_number": 39
    },
    {
     "cell_type": "code",
     "collapsed": false,
     "input": [
      "plt.plot()"
     ],
     "language": "python",
     "metadata": {},
     "outputs": []
    },
    {
     "cell_type": "code",
     "collapsed": false,
     "input": [],
     "language": "python",
     "metadata": {},
     "outputs": []
    },
    {
     "cell_type": "code",
     "collapsed": false,
     "input": [
      "import scipy.optimize as opt"
     ],
     "language": "python",
     "metadata": {},
     "outputs": [],
     "prompt_number": 40
    },
    {
     "cell_type": "code",
     "collapsed": false,
     "input": [
      "Nics = numpy.array([0.])\n",
      "for i in range(200):\n",
      "    Nics = opt.newton_krylov(lambda N : (1./(10**(11./2))) -100*ai*numpy.exp(N)*H(N),Nics)"
     ],
     "language": "python",
     "metadata": {},
     "outputs": []
    }
   ],
   "metadata": {}
  }
 ]
}