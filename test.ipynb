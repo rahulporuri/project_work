{
 "metadata": {
  "name": "",
  "signature": "sha256:98b0a8e8920dd904be31497e80f21f1e8659912542ff836b39d98c665a5c60d5"
 },
 "nbformat": 3,
 "nbformat_minor": 0,
 "worksheets": [
  {
   "cells": [
    {
     "cell_type": "code",
     "collapsed": false,
     "input": [
      "import numpy as numpy\n",
      "import matplotlib.pyplot as plt\n",
      "%matplotlib inline"
     ],
     "language": "python",
     "metadata": {},
     "outputs": [],
     "prompt_number": 1
    },
    {
     "cell_type": "code",
     "collapsed": false,
     "input": [
      "import sympy as sym\n",
      "x = sym.symbols('x')"
     ],
     "language": "python",
     "metadata": {},
     "outputs": [],
     "prompt_number": 2
    },
    {
     "cell_type": "code",
     "collapsed": false,
     "input": [
      "#import scipy\n",
      "import scipy.optimize as opt"
     ],
     "language": "python",
     "metadata": {},
     "outputs": [],
     "prompt_number": 25
    },
    {
     "cell_type": "code",
     "collapsed": false,
     "input": [
      "a0 = 1e-05\n",
      "fa0 = 1e-05\n",
      "n0 = numpy.exp(25)\n",
      "p = 1"
     ],
     "language": "python",
     "metadata": {},
     "outputs": [],
     "prompt_number": 3
    },
    {
     "cell_type": "code",
     "collapsed": false,
     "input": [
      "def fa(n):\n",
      "    return fa0*((1+(n/n0)**2)**p)"
     ],
     "language": "python",
     "metadata": {},
     "outputs": [],
     "prompt_number": 4
    },
    {
     "cell_type": "markdown",
     "metadata": {},
     "source": [
      "$$a(\\eta) = a_0*(1+(\\frac{\\eta}{\\eta_0})^2)^p$$"
     ]
    },
    {
     "cell_type": "markdown",
     "metadata": {},
     "source": [
      "checking the behavior of fa(n) for various n\n",
      "==="
     ]
    },
    {
     "cell_type": "code",
     "collapsed": false,
     "input": [
      "n = numpy.arange(-1e06, 1e06,100)"
     ],
     "language": "python",
     "metadata": {},
     "outputs": [],
     "prompt_number": 5
    },
    {
     "cell_type": "code",
     "collapsed": false,
     "input": [
      "plt.plot(n,fa(n))"
     ],
     "language": "python",
     "metadata": {},
     "outputs": [
      {
       "metadata": {},
       "output_type": "pyout",
       "prompt_number": 6,
       "text": [
        "[<matplotlib.lines.Line2D at 0xafc0198c>]"
       ]
      },
      {
       "metadata": {},
       "output_type": "display_data",
       "png": "[encoded data removed]",
       "text": [
        "<matplotlib.figure.Figure at 0xafc2b9cc>"
       ]
      }
     ],
     "prompt_number": 6
    },
    {
     "cell_type": "code",
     "collapsed": false,
     "input": [
      "a0 = 1e-05\n",
      "fa0 = 1e-05\n",
      "n0 = numpy.exp(25)\n",
      "p = 1"
     ],
     "language": "python",
     "metadata": {},
     "outputs": [],
     "prompt_number": 12
    },
    {
     "cell_type": "code",
     "collapsed": false,
     "input": [
      "def a(N):\n",
      "    return a0*numpy.exp(N**2/2)\n",
      "\n",
      "def fa(n):\n",
      "    return fa0*((1+(n/n0)**2)**p)\n",
      "\n",
      "def np(N):\n",
      "    return n0*((a(N)/a0)**(1./p)-1)**(1./2)\n",
      "\n",
      "def nm(N):\n",
      "    return -n0*((a(N)/a0)**(1./p)-1)**(1./2)\n",
      "\n",
      "def Heavi(N):\n",
      "    return (1./2)*(numpy.sign(N)+1.)\n",
      "\n",
      "def n(N):\n",
      "    return Heavi(N)*np(N) + Heavi(-N)*nm(N)\n",
      "\n",
      "def fa1(N):\n",
      "    return fa(n(N))\n",
      "\n",
      "def dfa(n):\n",
      "    return fa0*p*((1+(n/n0)**2)**(p-1))*2*(n/n0)\n",
      "\n",
      "def fH(n):\n",
      "    return dfa(n)/(fa(n)**2)\n",
      "\n",
      "def H(N):\n",
      "    return fH(n(N))"
     ],
     "language": "python",
     "metadata": {},
     "outputs": [],
     "prompt_number": 7
    },
    {
     "cell_type": "code",
     "collapsed": false,
     "input": [
      "'''\n",
      "a = lambda N : a0*numpy.exp(N**2/2)\n",
      "fa = lambda n : fa0*((1+(n/n0)**2)**p)\n",
      "np = lambda N : n0*((a(N)/a0)**(1./p)-1)**(1./2)\n",
      "nm = lambda N : -n0*((a(N)/a0)**(1./p)-1)**(1./2)\n",
      "Heavi = lambda N : (1./2)*(numpy.sign(N)+1.)\n",
      "n = lambda N : Heavi(N)*np(N) + Heavi(-N)*nm(N)\n",
      "fa1 = lambda N : fa(n(N))\n",
      "dfa = lambda n : fa0*p*((1+(n/n0)**2)**(p-1))*2*(n/n0)\n",
      "fH = lambda n : dfa(n)/(fa(n)**2)\n",
      "H = lambda N : fH(n(N))\n",
      "'''"
     ],
     "language": "python",
     "metadata": {},
     "outputs": [
      {
       "metadata": {},
       "output_type": "pyout",
       "prompt_number": 8,
       "text": [
        "'\\na = lambda N : a0*numpy.exp(N**2/2)\\nfa = lambda n : fa0*((1+(n/n0)**2)**p)\\nnp = lambda N : n0*((a(N)/a0)**(1./p)-1)**(1./2)\\nnm = lambda N : -n0*((a(N)/a0)**(1./p)-1)**(1./2)\\nHeavi = lambda N : (1./2)*(numpy.sign(N)+1.)\\nn = lambda N : Heavi(N)*np(N) + Heavi(-N)*nm(N)\\nfa1 = lambda N : fa(n(N))\\ndfa = lambda n : fa0*p*((1+(n/n0)**2)**(p-1))*2*(n/n0)\\nfH = lambda n : dfa(n)/(fa(n)**2)\\nH = lambda N : fH(n(N))\\n'"
       ]
      }
     ],
     "prompt_number": 8
    },
    {
     "cell_type": "markdown",
     "metadata": {},
     "source": [
      "$$a(\\mathcal{N}) = a_0*e^{\\frac{\\mathcal{N}^2}{2}}$$\n",
      "\n",
      "$$a(\\eta) = a_0*(1+(\\frac{\\eta}{\\eta_0})^2)^p$$\n",
      "\n",
      "$$\\eta^+(\\mathcal{N}) = \\eta_0\\left[\\left(\\frac{a(\\mathcal{N})}{a_0}\\right)^{\\frac{1}{p}}-1\\right]^{\\frac{1}{2}}$$\n",
      "$$\\eta^-(\\mathcal{N}) = -\\eta_0\\left[\\left(\\frac{a(\\mathcal{N})}{a_0}\\right)^{\\frac{1}{p}}-1\\right]^{\\frac{1}{2}}$$\n",
      "\n",
      "<!--i could also use \\big(, \\Big(, \\bigg(, \\Bigg(-->\n",
      "\n",
      "$$\\eta(\\mathcal{N}) = \\theta(\\mathcal{N})*\\eta^+(\\mathcal{N}) + \\theta(\\mathcal{-N})*\\eta^-(\\mathcal{N})$$\n",
      "\n",
      "$$a(\\mathcal{N}) = a(\\eta(\\mathcal{N}))$$\n",
      "\n",
      "$$\\mathcal{H}(\\eta) = \\frac{a^{'}(\\eta)}{a(\\eta)^2}$$"
     ]
    },
    {
     "cell_type": "code",
     "collapsed": false,
     "input": [
      "plt.plot(numpy.arange(-.1,.1,0.01),Heavi(numpy.arange(-.1,.1,0.01)))"
     ],
     "language": "python",
     "metadata": {},
     "outputs": [
      {
       "metadata": {},
       "output_type": "pyout",
       "prompt_number": 9,
       "text": [
        "[<matplotlib.lines.Line2D at 0xafb560ac>]"
       ]
      },
      {
       "metadata": {},
       "output_type": "display_data",
       "png": "[encoded data removed]",
       "text": [
        "<matplotlib.figure.Figure at 0xafbcb04c>"
       ]
      }
     ],
     "prompt_number": 9
    },
    {
     "cell_type": "markdown",
     "metadata": {},
     "source": [
      "evaluation by specifically writing out the first derivative of fa(n)\n",
      "==="
     ]
    },
    {
     "cell_type": "code",
     "collapsed": false,
     "input": [
      "#y0 = n(N)\n",
      "#y1 = fH(y0)\n",
      "#plt.plot(N,y1)\n",
      "N = numpy.linspace(-5,5,101)\n",
      "plt.plot(fH(n(N)))"
     ],
     "language": "python",
     "metadata": {},
     "outputs": [
      {
       "metadata": {},
       "output_type": "pyout",
       "prompt_number": 10,
       "text": [
        "[<matplotlib.lines.Line2D at 0xaf9986ec>]"
       ]
      },
      {
       "metadata": {},
       "output_type": "display_data",
       "png": "[encoded data removed]",
       "text": [
        "<matplotlib.figure.Figure at 0xafa4132c>"
       ]
      }
     ],
     "prompt_number": 10
    },
    {
     "cell_type": "markdown",
     "metadata": {},
     "source": [
      "evaluation by using symbolic derivatives using sympy\n",
      "======"
     ]
    },
    {
     "cell_type": "code",
     "collapsed": false,
     "input": [
      "def DfH(a):\n",
      "    return (sym.diff(fa(x),x).subs(x,a).evalf())/fa(a)**2"
     ],
     "language": "python",
     "metadata": {},
     "outputs": [],
     "prompt_number": 11
    },
    {
     "cell_type": "code",
     "collapsed": false,
     "input": [
      "y2 = [DfH(i) for i in n(N)]"
     ],
     "language": "python",
     "metadata": {},
     "outputs": [],
     "prompt_number": 12
    },
    {
     "cell_type": "code",
     "collapsed": false,
     "input": [
      "plt.plot(N,y2)"
     ],
     "language": "python",
     "metadata": {},
     "outputs": [
      {
       "metadata": {},
       "output_type": "pyout",
       "prompt_number": 13,
       "text": [
        "[<matplotlib.lines.Line2D at 0xaf91caec>]"
       ]
      },
      {
       "metadata": {},
       "output_type": "display_data",
       "png": "[encoded data removed]",
       "text": [
        "<matplotlib.figure.Figure at 0xafb7d80c>"
       ]
      }
     ],
     "prompt_number": 13
    },
    {
     "cell_type": "code",
     "collapsed": false,
     "input": [
      "#n,N = sym.symbols('n N')\n",
      "def DDfH(a):\n",
      "    return (sym.diff(DfH(x),x).subs(x,a).evalf())"
     ],
     "language": "python",
     "metadata": {},
     "outputs": [],
     "prompt_number": 14
    },
    {
     "cell_type": "code",
     "collapsed": false,
     "input": [
      "y3 = [DDfH(i) for i in n(N)]\n",
      "plt.plot(N,y3)"
     ],
     "language": "python",
     "metadata": {},
     "outputs": [
      {
       "metadata": {},
       "output_type": "pyout",
       "prompt_number": 15,
       "text": [
        "[<matplotlib.lines.Line2D at 0xaf85cbcc>]"
       ]
      },
      {
       "metadata": {},
       "output_type": "display_data",
       "png": "[encoded data removed]",
       "text": [
        "<matplotlib.figure.Figure at 0xaf91cb6c>"
       ]
      }
     ],
     "prompt_number": 15
    },
    {
     "cell_type": "code",
     "collapsed": false,
     "input": [
      "def fappba(a):\n",
      "    return (sym.diff(sym.diff(fa(x),x),x).subs(x,a).evalf())/(fa(a))"
     ],
     "language": "python",
     "metadata": {},
     "outputs": [],
     "prompt_number": 16
    },
    {
     "cell_type": "code",
     "collapsed": false,
     "input": [
      "ya = [fappba(i) for i in n(N)]\n",
      "plt.plot(N,ya)"
     ],
     "language": "python",
     "metadata": {},
     "outputs": [
      {
       "metadata": {},
       "output_type": "pyout",
       "prompt_number": 17,
       "text": [
        "[<matplotlib.lines.Line2D at 0xaf7b91cc>]"
       ]
      },
      {
       "metadata": {},
       "output_type": "display_data",
       "png": "[encoded data removed]",
       "text": [
        "<matplotlib.figure.Figure at 0xaf86e56c>"
       ]
      }
     ],
     "prompt_number": 17
    },
    {
     "cell_type": "markdown",
     "metadata": {},
     "source": [
      "$$h^{''}(\\mathcal{N}) + \\left(3\\mathcal{N} - \\frac{1}{\\mathcal{N}} - \\frac{\\mathcal{H}^{'}(\\mathcal{N})}{\\mathcal{H}(\\mathcal{N})}\\right)h^{'}(\\mathcal{N}) + \\left(\\frac{k_s\\mathcal{N}}{a(\\mathcal{N})\\mathcal{H}(\\mathcal{N})}\\right)^2 h(\\mathcal{N}) = 0$$\n",
      "\n",
      "$$h(Nics) = \\frac{1}{(2k_s)^\\frac{1}{2}*a(Nics)}$$\n",
      "$$h^{'}(Nics) = -\\frac{I*Nics*(2ks)^\\frac{1}{2}}{2*a(Nics)*a(Nics)*H(Nics)} - \\frac{a^{'}(Nics)}{a^2(Nics)*(2ks)^\\frac{1}{2}}$$"
     ]
    },
    {
     "cell_type": "markdown",
     "metadata": {},
     "source": [
      "finding the roots and initial conditions to solve the diff. eqn\n",
      "==="
     ]
    },
    {
     "cell_type": "code",
     "collapsed": false,
     "input": [
      "#opt.bisect((1/(n0*n0))-1e+04*fappba,-5,-3)\n",
      "#opt.bisect(lambda w : fappba(n(w)),-5,-3)\n",
      "opt.newton_krylov(lambda N : (1./n0)**2 - 1e+04*fappba(n(N)),-4.449)"
     ],
     "language": "python",
     "metadata": {},
     "outputs": [
      {
       "metadata": {},
       "output_type": "pyout",
       "prompt_number": 57,
       "text": [
        "array(-4.450498032115866)"
       ]
      }
     ],
     "prompt_number": 57
    },
    {
     "cell_type": "code",
     "collapsed": false,
     "input": [
      "opt.newton_krylov(lambda N : (1./n0)**2 - 1e+06*fappba(n(N)),5.3867)"
     ],
     "language": "python",
     "metadata": {},
     "outputs": [
      {
       "metadata": {},
       "output_type": "pyout",
       "prompt_number": 63,
       "text": [
        "array(5.386772255310419)"
       ]
      }
     ],
     "prompt_number": 63
    },
    {
     "cell_type": "code",
     "collapsed": false,
     "input": [
      "Nics = -4.450498032115866\n",
      "print 1./((2/n0)**(1./2)*a(Nics))"
     ],
     "language": "python",
     "metadata": {},
     "outputs": [
      {
       "output_type": "stream",
       "stream": "stdout",
       "text": [
        "948735.674045\n"
       ]
      }
     ],
     "prompt_number": 66
    },
    {
     "cell_type": "markdown",
     "metadata": {},
     "source": [
      "testing\n",
      "====="
     ]
    },
    {
     "cell_type": "code",
     "collapsed": false,
     "input": [
      "#N = sym.symbols('N')\n",
      "sym.diff(DfH(x),x)"
     ],
     "language": "python",
     "metadata": {},
     "outputs": [
      {
       "metadata": {},
       "output_type": "pyout",
       "prompt_number": 43,
       "text": [
        "-2.97606078081667e-53*x**2/(1.92874984796392e-27*x**2 + 1.0e-5)**3 + 3.85749969592783e-27/(1.92874984796392e-27*x**2 + 1.0e-5)**2"
       ]
      }
     ],
     "prompt_number": 43
    },
    {
     "cell_type": "code",
     "collapsed": false,
     "input": [
      "x = sym.symbols('x')\n",
      "'''\n",
      "def func(x):\n",
      "    return x**2\n",
      "\n",
      "def dfunc(a):\n",
      "    return sym.diff(func(x),x).subs(x,a).evalf()\n",
      "'''\n",
      "def func(x):\n",
      "    a = 2\n",
      "    a0 = 1\n",
      "    #return ((x/a)**2)**3\n",
      "    return a0*((1+(x/a)**2)**3)\n",
      "\n",
      "def dfunc(a):\n",
      "    return sym.diff(func(x),x).subs(x,a).evalf()"
     ],
     "language": "python",
     "metadata": {},
     "outputs": [],
     "prompt_number": 22
    },
    {
     "cell_type": "code",
     "collapsed": false,
     "input": [
      "a = numpy.arange(0,9,1)\n",
      "print a,func(a),[dfunc(i) for i in a]"
     ],
     "language": "python",
     "metadata": {},
     "outputs": [
      {
       "output_type": "stream",
       "stream": "stdout",
       "text": [
        "[0 1 2 3 4 5 6 7 8] [ 0  1  4  9 16 25 36 49 64] [0, 2.00000000000000, 4.00000000000000, 6.00000000000000, 8.00000000000000, 10.0000000000000, 12.0000000000000, 14.0000000000000, 16.0000000000000]\n"
       ]
      }
     ],
     "prompt_number": 18
    },
    {
     "cell_type": "code",
     "collapsed": false,
     "input": [
      "appbam = lambda N : fappba(n(N))"
     ],
     "language": "python",
     "metadata": {},
     "outputs": [],
     "prompt_number": 20
    },
    {
     "cell_type": "code",
     "collapsed": false,
     "input": [
      "1/n0, n0, numpy.exp(25)"
     ],
     "language": "python",
     "metadata": {},
     "outputs": [
      {
       "metadata": {},
       "output_type": "pyout",
       "prompt_number": 51,
       "text": [
        "(1.3887943864964019e-11, 72004899337.38588, 72004899337.38588)"
       ]
      }
     ],
     "prompt_number": 51
    }
   ],
   "metadata": {}
  }
 ]
}