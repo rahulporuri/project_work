{
 "metadata": {
  "name": "",
  "signature": "sha256:bec39a893b65b97950804a1ad98fd2b9a9876312347ae9d2e63ce33a63d87dd6"
 },
 "nbformat": 3,
 "nbformat_minor": 0,
 "worksheets": [
  {
   "cells": [
    {
     "cell_type": "markdown",
     "metadata": {},
     "source": [
      "reference[http://arxiv.org/abs/0904.4584]"
     ]
    },
    {
     "cell_type": "markdown",
     "metadata": {},
     "source": [
      "recall that $$h(t) = a(t)\\int^{t}_{t_0}\\frac{d\\tilde{t}}{a(\\tilde{t})}$$\n",
      "\n",
      "during the radiation dominated epoch, using the friedmann equations, we can derive that \n",
      "$$a(t) \\propto t^{1/2}$$ and therefore $$h(t) \\propto 2t_{dec}$$. note that integration is done from $t_0 = 0$ to $t = t_{dec}$ i.e the epoch of decoupling.\n",
      "\n",
      "during the matter dominated epoch, using the friedmann equations, we can derive that \n",
      "$$a(t) \\propto t^{2/3}$$ and therefore $$h(t) \\propto 3(t_{dec}^2t_0)^{1/3}$$. note that integration is done from $t_0 = t_dec$ i.e the epoch of decoupling to $t = t_0$ i.e today and ew made the assumption that $t_0 >> t_{dec}$"
     ]
    },
    {
     "cell_type": "markdown",
     "metadata": {},
     "source": [
      "assuming that a(t) $$\\propto t^q$$\n",
      "\n",
      "$$\\frac{\\lambda_p}{d_H} \\propto a^{\\frac{q-1}{q}} \\propto \\dot{a}$$\n",
      "\n",
      "$$-\\frac{d}{dt}\\frac{\\lambda_p}{d_H} < 0$$\n",
      "\n",
      "$$\\ddot{a} > 0$$"
     ]
    },
    {
     "cell_type": "markdown",
     "metadata": {},
     "source": [
      "recall that $$N = ln(\\frac{a(t)}{a_0})$$\n",
      "and the friedmann equations\n",
      "\n",
      "$$H^2 = (\\frac{\\dot{a}}{a})^2 = \\frac{8\\pi G}{3}\\rho$$\n",
      "\n",
      "$$\\dot{H} - H^2 = (\\frac{\\ddot{a}}{a}) = -\\frac{4\\pi G}{3}(\\rho + 3p)$$\n",
      "\n",
      "$$\\dot{H} = -(4\\pi G)(\\rho +p)$$"
     ]
    },
    {
     "cell_type": "markdown",
     "metadata": {},
     "source": [
      "since $$\\ddot{a} > 0$$\n",
      "$$(\\rho + 3p) < 0$$\n",
      "\n",
      "which isnt satisfied by matter or radiation"
     ]
    },
    {
     "cell_type": "code",
     "collapsed": false,
     "input": [],
     "language": "python",
     "metadata": {},
     "outputs": []
    }
   ],
   "metadata": {}
  }
 ]
}