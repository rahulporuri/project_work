{
 "metadata": {
  "name": "",
  "signature": "sha256:858391c2d39b4ea7d15667f45bbb3de64718af6dcda62b97fb39c25da87b8adf"
 },
 "nbformat": 3,
 "nbformat_minor": 0,
 "worksheets": [
  {
   "cells": [
    {
     "cell_type": "code",
     "collapsed": false,
     "input": [
      "import numpy\n",
      "import matplotlib.pyplot as plt\n",
      "import scipy.optimize as opt\n",
      "from scipy.integrate import romb, simps\n",
      "\n",
      "import time\n",
      "import multiprocessing as mp\n",
      "import random\n",
      "import string"
     ],
     "language": "python",
     "metadata": {},
     "outputs": [],
     "prompt_number": 1
    },
    {
     "cell_type": "code",
     "collapsed": false,
     "input": [
      "%matplotlib inline\n",
      "parallel_output = mp.Queue()\n",
      "\n",
      "plt.rc('text', usetex=True)\n",
      "plt.rc('font', family='serif')"
     ],
     "language": "python",
     "metadata": {},
     "outputs": [],
     "prompt_number": 2
    },
    {
     "cell_type": "code",
     "collapsed": false,
     "input": [
      "q = 51.\n",
      "V0 = (204./100.)*1e-08\n",
      "t0 = (q*(3.*q -1.)/V0)**(1./2)\n",
      "\n",
      "phi0 = 1.\n",
      "dphi0 = (2.*q)**(1./2)/t0\n",
      "\n",
      "Ni = 0.\n",
      "Nf = 70."
     ],
     "language": "python",
     "metadata": {},
     "outputs": [],
     "prompt_number": 3
    },
    {
     "cell_type": "code",
     "collapsed": false,
     "input": [
      "V = lambda _phi : V0*numpy.exp(-(2./q)**(1./2)*(_phi -phi0))\n",
      "dV = lambda _phi : -(2./q)**(1./2)*V0*numpy.exp(-(2./q)**(1./2)*(_phi -phi0)) \n",
      "\n",
      "H0 = ((1./3)*(dphi0**2/2. +V(phi0)))**(1./2.)\n",
      "Dphi0 = dphi0/H0\n",
      "\n",
      "def DDphi(_N, _phi, _Dphi):\n",
      "    return -(3 -_Dphi**2/2.)*_Dphi -(dV(_phi)/(2*V(_phi)))*(6 -_Dphi**2)\n",
      "\n",
      "def rk4_step(_N, _phi, _Dphi, _step):\n",
      "    F1 = _Dphi\n",
      "    f1 = DDphi(_N, _phi, _Dphi)\n",
      "    F2 = _Dphi +f1*_step/2.\n",
      "    f2 = DDphi(_N +_step/2., _phi +F1*_step/2., _Dphi +f1*_step/2.)\n",
      "    F3 = _Dphi +f2*step/2.\n",
      "    f3 = DDphi(_N +_step/2., _phi +F2*_step/2., _Dphi +f2*_step/2.)\n",
      "    F4 = _Dphi +f3*step\n",
      "    f4 = DDphi(_N +_step, _phi +F3*_step, _Dphi +f3*_step)  \n",
      "\n",
      "    return [(f1 +2*f2 +2*f3 +f4)*_step/6., (F1 +2*F2 +2*F3 +F4)*_step/6.] # [Dhk, hk] update"
     ],
     "language": "python",
     "metadata": {},
     "outputs": [],
     "prompt_number": 4
    },
    {
     "cell_type": "code",
     "collapsed": false,
     "input": [
      "npts = 250000\n",
      "step = (Nf-Ni)/(npts)\n",
      "\n",
      "phi_ = phi0\n",
      "Dphi_ = Dphi0\n",
      "\n",
      "phi_array = numpy.array([phi_])\n",
      "Dphi_array = numpy.array([Dphi_])\n",
      "N_array = numpy.array([Ni]) \n",
      "\n",
      "phi_theory = lambda _N : (2./q)**(1./2)*_N + phi0 \n",
      "\n",
      "N = Ni\n",
      "while N < Nf:\n",
      "    array = rk4_step(N, phi_, Dphi_, step)\n",
      "    phi_ = phi_ + array[1]\n",
      "    Dphi_ = Dphi_ + array[0]\n",
      "    phi_array = numpy.append(phi_array,phi_)\n",
      "    Dphi_array = numpy.append(Dphi_array,Dphi_)\n",
      "    N += step\n",
      "    N_array = numpy.append(N_array,N)"
     ],
     "language": "python",
     "metadata": {},
     "outputs": [],
     "prompt_number": 5
    },
    {
     "cell_type": "code",
     "collapsed": false,
     "input": [
      "phi = lambda _N : phi_array[int((_N-Ni)/step)]\n",
      "Dphi = lambda _N : Dphi_array[int((_N-Ni)/step)]\n",
      "\n",
      "eps0 = (3./2)*((dphi0**2)/(dphi0**2/2. + V(phi0)))\n",
      "eps = 1./q \n",
      "\n",
      "H = lambda _N : (V(phi(_N))/(3 -Dphi(_N)**2/2))**(1./2)\n",
      "DH = lambda _N : H(_N)*Dphi(_N)\n",
      "\n",
      "H_theory = lambda _N : H0*numpy.exp(-_N/q)\n",
      "ai = 1e-05\n",
      "\n",
      "eps1 = lambda _N : Dphi_array[int((_N-Ni)/step)]**2/2.\n",
      "eps1_theory = eps0\n",
      "\n",
      "z = lambda _N: ai*numpy.exp(_N)*Dphi(_N)\n",
      "A = lambda _N : ai*numpy.exp(_N)\n",
      "\n",
      "k0 = numpy.empty(0)\n",
      "\n",
      "def DDhk(_k, _N, _hk, _Dhk):\n",
      "    return -((3. +(DH(_N)/H(_N)))*_Dhk +((_k/(A(_N)*H(_N)))**2)*_hk)\n",
      "\n",
      "def rk4_step(_k, _N, _hk, _Dhk, _step):\n",
      "    F1 = _Dhk\n",
      "    f1 = DDhk(_k, _N, _hk, _Dhk)\n",
      "    F2 = _Dhk +f1*_step/2.\n",
      "    f2 = DDhk(_k, _N +_step/2., _hk +F1*_step/2., _Dhk +f1*_step/2.)\n",
      "    F3 = _Dhk +f2*_step/2.\n",
      "    f3 = DDhk(_k, _N +_step/2., _hk +F2*_step/2., _Dhk +f2*_step/2.)\n",
      "    F4 = _Dhk +f3*_step\n",
      "    f4 = DDhk(_k, _N +_step, _hk +F3*_step, _Dhk +f3*_step)\n",
      "\n",
      "    return (numpy.array([(f1 +2*f2 +2*f3 +f4)*_step/6.], dtype=complex),\n",
      "            numpy.array([(F1 +2*F2 +2*F3 +F4)*_step/6.], dtype=complex))\n",
      "            # [Dhk, hk] update"
     ],
     "language": "python",
     "metadata": {},
     "outputs": [],
     "prompt_number": 6
    },
    {
     "cell_type": "code",
     "collapsed": false,
     "input": [
      "def solve_Nics(k, eN_array):\n",
      "    Ni = eN_array[0]\n",
      "    step = eN_array[1] -eN_array[0]\n",
      "    Nics_temp = numpy.asarray([k - 1e+02*A(N)*H(N) for N in eN_array])\n",
      "    nics_test = numpy.where(Nics_temp > 0)\n",
      "    return Ni + nics_test[0][-1]*step\n",
      "\n",
      "def solve_Nshss(k, eN_array):\n",
      "    Ni = eN_array[0]\n",
      "    step = eN_array[1] -eN_array[0]\n",
      "    Nshss_temp = numpy.asarray([k - 1e-05*A(N)*H(N) for N in eN_array])\n",
      "    nshss_test = numpy.where(Nshss_temp > 0)\n",
      "    return Ni + nshss_test[0][-1]*step\n",
      "\n",
      "def initialize_hk(k, _Nics):\n",
      "    hk0 = numpy.zeros(1,dtype=complex)             \n",
      "    hk0.real = (((2.*k)**(1./2.))*A(_Nics))**(-1.)\n",
      "    return hk0\n",
      "\n",
      "def initialize_Dhk(k, _Nics):\n",
      "    Dhk0 = numpy.zeros(1,dtype=complex)\n",
      "    Dhk0.real = (1./A(_Nics))*((2.*k)**(-1./2))\n",
      "    Dhk0.imag = -((k/2.)**(1./2.))/(A(_Nics)*A(_Nics)*H(_Nics))\n",
      "    return Dhk0 \n",
      "\n",
      "def evolve_hk(k, _Nics, _Nshss, _step):    \n",
      "    hk = numpy.empty(0, dtype=complex)\n",
      "    Dhk = numpy.empty(0, dtype=complex)\n",
      "\n",
      "    hk = initialize_hk(k, _Nics)\n",
      "    Dhk = initialize_Dhk(k, _Nics)\n",
      "\n",
      "    #print _Nics, str(hk).strip('[]'), str(Dhk).strip('[]')\n",
      "\n",
      "    hk_array = numpy.empty(0, dtype=complex)\n",
      "    N = _Nics\n",
      "\n",
      "    while N < _Nshss:\n",
      "        hk_array = numpy.append(hk_array, hk)\n",
      "        array = rk4_step(k, N, hk, Dhk, _step)\n",
      "        hk = hk + array[1]\n",
      "        Dhk = Dhk + array[0]\n",
      "        N += _step\n",
      "\n",
      "    #print N, _Nshss, str(hk).strip('[]'), str(Dhk).strip('[]'), '\\n'\n",
      "    return hk_array"
     ],
     "language": "python",
     "metadata": {},
     "outputs": [],
     "prompt_number": 16
    },
    {
     "cell_type": "code",
     "collapsed": false,
     "input": [
      "k0 = 1e-06\n",
      "while k0 < 1e-01:\n",
      "    Nics = solve_Nics(k0, N_array)\n",
      "    print k0, Nics, initialize_hk(k0, Nics), initialize_Dhk(k0, Nics)\n",
      "    k0 = 10*k0"
     ],
     "language": "python",
     "metadata": {},
     "outputs": [
      {
       "output_type": "stream",
       "stream": "stdout",
       "text": [
        "1e-06 2.54184 [ 5566444.92265788+0.j] [ 5566444.92265788 -5.56721110e+08j]\n",
        "1e-05"
       ]
      },
      {
       "output_type": "stream",
       "stream": "stdout",
       "text": [
        " 4.89048 [ 168103.41041019+0.j] [ 168103.41041019-16812602.02972256j]\n",
        "0.0001"
       ]
      },
      {
       "output_type": "stream",
       "stream": "stdout",
       "text": [
        " 7.23912 [ 5076.62556338+0.j] [ 5076.62556338-507729.24144678j]\n",
        "0.001"
       ]
      },
      {
       "output_type": "stream",
       "stream": "stdout",
       "text": [
        " 9.58776 [ 153.31114965+0.j] [ 153.31114965-15333.08063585j]\n",
        "0.01"
       ]
      },
      {
       "output_type": "stream",
       "stream": "stdout",
       "text": [
        " 11.9364 [ 4.62990786+0.j] [ 4.62990786-463.04869327j]\n"
       ]
      }
     ],
     "prompt_number": 8
    },
    {
     "cell_type": "code",
     "collapsed": false,
     "input": [
      "k0 = 1e-06\n",
      "Nics = solve_Nics(k0, N_array)\n",
      "while k0 < 1e-01:\n",
      "    print k0, Nics, initialize_hk(k0, Nics), initialize_Dhk(k0, Nics)\n",
      "    k0 = 10*k0"
     ],
     "language": "python",
     "metadata": {},
     "outputs": [
      {
       "output_type": "stream",
       "stream": "stdout",
       "text": [
        "1e-06 2.54184 [ 5566444.92265788+0.j] [ 5566444.92265788 -5.56721110e+08j]\n",
        "1e-05 2.54184 [ 1760264.44254787+0.j] [ 1760264.44254787 -1.76050673e+09j]\n",
        "0.0001 2.54184 [ 556644.49226579+0.j] [ 556644.49226579 -5.56721110e+09j]\n",
        "0.001 2.54184 [ 176026.44425479+0.j] [ 176026.44425479 -1.76050673e+10j]\n",
        "0.01 2.54184 [ 55664.44922658+0.j] [ 55664.44922658 -5.56721110e+10j]\n"
       ]
      }
     ],
     "prompt_number": 9
    },
    {
     "cell_type": "code",
     "collapsed": false,
     "input": [
      "k0 = 1e-06\n",
      "while k0 < 1e-01:\n",
      "    Nics = solve_Nics(k0, N_array)\n",
      "    Nshss = solve_Nshss(k0, N_array)\n",
      "\n",
      "    hk_k0_array = numpy.empty(0, dtype=complex)\n",
      "    hk_k0_array = evolve_hk(k0, Nics, Nshss, step)\n",
      "    tps_k0 = 8.*(k0)**3./(2.*numpy.pi**2.)*(numpy.absolute(hk_k0_array[-1]))**2.\n",
      "\n",
      "    print k0, Nics, Nshss, str(hk_k0_array[-1]).strip('[]'), str(tps_k0).strip('[]')\n",
      "    k0 = 10*k0"
     ],
     "language": "python",
     "metadata": {},
     "outputs": [
      {
       "output_type": "stream",
       "stream": "stdout",
       "text": [
        "1e-06 2.54184 18.98232 (31512.9521954+9182.40946147j) 4.3664680196e-10\n",
        "1e-05"
       ]
      },
      {
       "output_type": "stream",
       "stream": "stdout",
       "text": [
        " 4.89048 21.33096 (951.580863363+277.61135694j) 3.98222325876e-10\n",
        "0.0001"
       ]
      },
      {
       "output_type": "stream",
       "stream": "stdout",
       "text": [
        " 7.23912 23.6796 (28.7344083797+8.39300005529j) 3.63179166435e-10\n",
        "0.001"
       ]
      },
      {
       "output_type": "stream",
       "stream": "stdout",
       "text": [
        " 9.58776 26.02824 (0.867678369536+0.253744505746j) 3.31219770903e-10\n",
        "0.01"
       ]
      },
      {
       "output_type": "stream",
       "stream": "stdout",
       "text": [
        " 11.9364 28.37688 (0.0262008411054+0.00767141530036j) 3.02072770924e-10\n"
       ]
      }
     ],
     "prompt_number": 10
    },
    {
     "cell_type": "code",
     "collapsed": false,
     "input": [
      "k0 = 1e-06\n",
      "while k0 < 1e-01:\n",
      "    Nics = solve_Nics(k0, N_array)\n",
      "    Nshss = solve_Nshss(k0, N_array)\n",
      "\n",
      "    hk_k0_array = numpy.empty(0, dtype=complex)\n",
      "    hk_k0_array = evolve_hk(k0, Nics-1, Nshss, step)\n",
      "    tps_k0 = 8.*(k0)**3./(2.*numpy.pi**2.)*(numpy.absolute(hk_k0_array[-1]))**2.\n",
      "\n",
      "    print k0, Nics-1, Nshss, str(hk_k0_array[-1]).strip('[]'), str(tps_k0).strip('[]')\n",
      "    k0 = 10*k0"
     ],
     "language": "python",
     "metadata": {},
     "outputs": [
      {
       "output_type": "stream",
       "stream": "stdout",
       "text": [
        "1e-06 1.54184 18.98232 (29585.723614+915.041317708j) 3.55091169523e-10\n",
        "1e-05"
       ]
      },
      {
       "output_type": "stream",
       "stream": "stdout",
       "text": [
        " 3.89048 21.33096 (893.444902627+28.3974178087j) 3.23842851201e-10\n",
        "0.0001"
       ]
      },
      {
       "output_type": "stream",
       "stream": "stdout",
       "text": [
        " 6.23912 23.6796 (26.9806890924+0.880648331753j) 2.95344411293e-10\n",
        "0.001"
       ]
      },
      {
       "output_type": "stream",
       "stream": "stdout",
       "text": [
        " 8.58776 26.02824 (0.814775538469+0.0272915349131j) 2.69353858152e-10\n",
        "0.01"
       ]
      },
      {
       "output_type": "stream",
       "stream": "stdout",
       "text": [
        " 10.9364 28.37688 (0.024604956915+0.000845220878944j) 2.456504956e-10\n"
       ]
      }
     ],
     "prompt_number": 11
    },
    {
     "cell_type": "code",
     "collapsed": false,
     "input": [
      "k0 = 1e-06\n",
      "while k0 < 1e-01:\n",
      "    Nics = solve_Nics(k0, N_array)\n",
      "    Nshss = solve_Nshss(k0, N_array)\n",
      "\n",
      "    hk_k0_array = numpy.empty(0, dtype=complex)\n",
      "    hk_k0_array = evolve_hk(k0, Nics, Nshss+1, step)\n",
      "    tps_k0 = 8.*(k0)**3./(2.*numpy.pi**2.)*(numpy.absolute(hk_k0_array[-1]))**2.\n",
      "\n",
      "    print k0, Nics, Nshss+1, str(hk_k0_array[-1]).strip('[]'), str(tps_k0).strip('[]')\n",
      "    k0 = 10*k0"
     ],
     "language": "python",
     "metadata": {},
     "outputs": [
      {
       "output_type": "stream",
       "stream": "stdout",
       "text": [
        "1e-06 2.54184 19.98232 (31512.9521942+9182.40946115j) 4.36646801929e-10\n",
        "1e-05"
       ]
      },
      {
       "output_type": "stream",
       "stream": "stdout",
       "text": [
        " 4.89048 22.33096 (951.580863329+277.61135693j) 3.98222325848e-10\n",
        "0.0001"
       ]
      },
      {
       "output_type": "stream",
       "stream": "stdout",
       "text": [
        " 7.23912 24.6796 (28.7344083786+8.39300005499j) 3.63179166409e-10\n",
        "0.001"
       ]
      },
      {
       "output_type": "stream",
       "stream": "stdout",
       "text": [
        " 9.58776 27.02824 (0.867678369506+0.253744505737j) 3.31219770879e-10\n",
        "0.01"
       ]
      },
      {
       "output_type": "stream",
       "stream": "stdout",
       "text": [
        " 11.9364 29.37688 (0.0262008411045+0.00767141530009j) 3.02072770903e-10\n"
       ]
      }
     ],
     "prompt_number": 12
    },
    {
     "cell_type": "code",
     "collapsed": false,
     "input": [
      "k0 = 1e-06\n",
      "while k0 < 1e-01:\n",
      "    Nics = solve_Nics(k0, N_array)\n",
      "    Nshss = solve_Nshss(k0, N_array)\n",
      "\n",
      "    hk_k0_array = numpy.empty(0, dtype=complex)\n",
      "    hk_k0_array = evolve_hk(k0, Nics, Nshss, step)\n",
      "    tps_k0 = 8.*(k0)**3./(2.*numpy.pi**2.)*(numpy.absolute(hk_k0_array[-1]))**2.\n",
      "\n",
      "    print k0, Nics, Nshss, str(hk_k0_array[0]).strip('[]'), str(hk_k0_array[0]*A(Nics)).strip('[]')\n",
      "    print str(hk_k0_array[-1]).strip('[]'), str(tps_k0).strip('[]')\n",
      "    k0 = 10*k0"
     ],
     "language": "python",
     "metadata": {},
     "outputs": [
      {
       "output_type": "stream",
       "stream": "stdout",
       "text": [
        "1e-06 2.54184 18.98232 (5566444.92266+0j) (707.106781187+0j)\n",
        "(31512.9521954+9182.40946147j) 4.3664680196e-10\n",
        "1e-05"
       ]
      },
      {
       "output_type": "stream",
       "stream": "stdout",
       "text": [
        " 4.89048 21.33096 (168103.41041+0j) (223.60679775+0j)\n",
        "(951.580863363+277.61135694j) 3.98222325876e-10\n",
        "0.0001"
       ]
      },
      {
       "output_type": "stream",
       "stream": "stdout",
       "text": [
        " 7.23912 23.6796 (5076.62556338+0j) (70.7106781187+0j)\n",
        "(28.7344083797+8.39300005529j) 3.63179166435e-10\n",
        "0.001"
       ]
      },
      {
       "output_type": "stream",
       "stream": "stdout",
       "text": [
        " 9.58776 26.02824 (153.311149654+0j) (22.360679775+0j)\n",
        "(0.867678369536+0.253744505746j) 3.31219770903e-10\n",
        "0.01"
       ]
      },
      {
       "output_type": "stream",
       "stream": "stdout",
       "text": [
        " 11.9364 28.37688 (4.629907862+0j) (7.07106781187+0j)\n",
        "(0.0262008411054+0.00767141530036j) 3.02072770924e-10\n"
       ]
      }
     ],
     "prompt_number": 15
    },
    {
     "cell_type": "code",
     "collapsed": false,
     "input": [
      "k0 = 1e-06\n",
      "Nics = solve_Nics(k0, N_array)\n",
      "while k0 < 1e-01:\n",
      "    Nshss = solve_Nshss(k0, N_array)\n",
      "\n",
      "    hk_k0_array = numpy.empty(0, dtype=complex)\n",
      "    hk_k0_array = evolve_hk(k0, Nics, Nshss, step)\n",
      "    tps_k0 = 8.*(k0)**3./(2.*numpy.pi**2.)*(numpy.absolute(hk_k0_array[-1]))**2.\n",
      "\n",
      "    print k0, Nics, Nshss, str(hk_k0_array[-1]).strip('[]'), str(tps_k0).strip('[]')\n",
      "    k0 = 10*k0"
     ],
     "language": "python",
     "metadata": {},
     "outputs": [
      {
       "output_type": "stream",
       "stream": "stdout",
       "text": [
        "1e-06 2.54184 18.98232 (31512.9521954+9182.40946147j) 4.3664680196e-10\n",
        "1e-05"
       ]
      },
      {
       "output_type": "stream",
       "stream": "stdout",
       "text": [
        " 2.54184 21.33096 (685.383550087-353.699949453j) 2.41085352887e-10\n",
        "0.0001"
       ]
      },
      {
       "output_type": "stream",
       "stream": "stdout",
       "text": [
        " 2.54184 23.6796 (2.96439387505e-323-1.97626258336e-323j) 0.0\n",
        "0.001"
       ]
      },
      {
       "output_type": "stream",
       "stream": "stdout",
       "text": [
        " 2.54184 26.02824 (nan+nan*j) nan\n",
        "0.01"
       ]
      },
      {
       "output_type": "stream",
       "stream": "stdout",
       "text": [
        " 2.54184 28.37688 (nan+nan*j) nan\n"
       ]
      }
     ],
     "prompt_number": 17
    },
    {
     "cell_type": "code",
     "collapsed": false,
     "input": [
      "k0 = 1e-06\n",
      "Nics = solve_Nics(k0, N_array)\n",
      "while k0 < 1e-01:\n",
      "    Nshss = solve_Nshss(k0, N_array)\n",
      "\n",
      "    hk_k0_array = numpy.empty(0, dtype=complex)\n",
      "    hk_k0_array = evolve_hk(k0, Nics, Nshss, step)\n",
      "    tps_k0 = 8.*(k0)**3./(2.*numpy.pi**2.)*(numpy.absolute(hk_k0_array[-1]))**2.\n",
      "\n",
      "    print k0, Nics, Nshss, str(hk_k0_array[0]).strip('[]'), str(hk_k0_array[0]*A(Nics)).strip('[]')\n",
      "    print str(hk_k0_array[-1]).strip('[]'), str(tps_k0).strip('[]')\n",
      "    k0 = 10*k0"
     ],
     "language": "python",
     "metadata": {},
     "outputs": [
      {
       "output_type": "stream",
       "stream": "stdout",
       "text": [
        "1e-06 2.54184 18.98232 (5566444.92266+0j) (707.106781187+0j)\n",
        "(31512.9521954+9182.40946147j) 4.3664680196e-10\n",
        "1e-05"
       ]
      },
      {
       "output_type": "stream",
       "stream": "stdout",
       "text": [
        " 2.54184 21.33096 (1760264.44255+0j) (223.60679775+0j)\n",
        "(685.383550087-353.699949453j) 2.41085352887e-10\n",
        "0.0001"
       ]
      },
      {
       "output_type": "stream",
       "stream": "stdout",
       "text": [
        " 2.54184 23.6796 (556644.492266+0j) (70.7106781187+0j)\n",
        "(2.96439387505e-323-1.97626258336e-323j) 0.0\n",
        "0.001"
       ]
      },
      {
       "output_type": "stream",
       "stream": "stdout",
       "text": [
        " 2.54184 26.02824 (176026.444255+0j) (22.360679775+0j)\n",
        "(nan+nan*j) nan\n",
        "0.01"
       ]
      },
      {
       "output_type": "stream",
       "stream": "stdout",
       "text": [
        " 2.54184"
       ]
      },
      {
       "output_type": "stream",
       "stream": "stdout",
       "text": [
        " 28.37688 (55664.4492266+0j) "
       ]
      },
      {
       "output_type": "stream",
       "stream": "stdout",
       "text": [
        "(7.07106781187+0j)\n",
        "(nan+nan*j) nan\n"
       ]
      }
     ],
     "prompt_number": 14
    },
    {
     "cell_type": "code",
     "collapsed": false,
     "input": [],
     "language": "python",
     "metadata": {},
     "outputs": [],
     "prompt_number": 15
    },
    {
     "cell_type": "code",
     "collapsed": false,
     "input": [],
     "language": "python",
     "metadata": {},
     "outputs": []
    }
   ],
   "metadata": {}
  }
 ]
}