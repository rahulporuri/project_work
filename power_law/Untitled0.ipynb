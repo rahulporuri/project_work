{
 "metadata": {
  "name": "",
  "signature": "sha256:dff0e91c52032b3451ba40ded80c1f16831e58b0ac7aa501591ca376a4142f5d"
 },
 "nbformat": 3,
 "nbformat_minor": 0,
 "worksheets": [
  {
   "cells": [
    {
     "cell_type": "code",
     "collapsed": false,
     "input": [
      "import numpy\n",
      "import matplotlib.pyplot as plt\n",
      "%matplotlib inline"
     ],
     "language": "python",
     "metadata": {},
     "outputs": [],
     "prompt_number": 1
    },
    {
     "cell_type": "code",
     "collapsed": false,
     "input": [
      "f = open('power_spectrum_power_law.dat','w')\n",
      "\n",
      "q = 51.\n",
      "V0 = (204./100.)*1e-08\n",
      "t0 = (q*(3.*q -1.)/V0)**(1./2)\n",
      "\n",
      "phi0 = 1.\n",
      "dphi0 = (2.*q)**(1./2)/t0\n",
      "\n",
      "Ni = 0.\n",
      "Nf = 70. \n",
      "\n",
      "kp = 5.*1e-02\n",
      "beta = -((2.*q -1.)/(q -1.))\n",
      "eps1a = ((beta +2.)/(beta +1.))"
     ],
     "language": "python",
     "metadata": {},
     "outputs": [],
     "prompt_number": 2
    },
    {
     "cell_type": "code",
     "collapsed": false,
     "input": [
      "#V = lambda phi : V0*numpy.exp(-(2*q)**(1./2.)*(phi-phi_i))\n",
      "V = lambda phi : V0*numpy.exp(-(2./q)**(1./2)*(phi -phi0))\n",
      "dV = lambda phi : -(2./q)**(1./2)*V0*numpy.exp(-(2./q)**(1./2)*(phi -phi0))\n",
      "\n",
      "H0 = ((1./3)*(dphi0**2/2. +V(phi0)))**(1./2.)\n",
      "Dphi0 = dphi0/H0\n",
      "\n",
      "def DDphi(N, phi0, Dphi0):\n",
      "    return -(3 -Dphi0**2/2.)*Dphi0 -(dV(phi0)/(2*V(phi0)))*(6 -Dphi0**2)\n",
      "\n",
      "def rk4_step(N, phi0, Dphi0, step):\n",
      "    F1 = Dphi0\n",
      "    f1 = DDphi(N, phi0, Dphi0)\n",
      "    F2 = Dphi0 +f1*step/2.\n",
      "    f2 = DDphi(N +step/2., phi0 +F1*step/2., Dphi0 +f1*step/2.)\n",
      "    F3 = Dphi0 +f2*step/2.\n",
      "    f3 = DDphi(N +step/2., phi0 +F2*step/2., Dphi0 +f2*step/2.)\n",
      "    F4 = Dphi0 +f3*step\n",
      "    f4 = DDphi(N +step, phi0 +F3*step, Dphi0 +f3*step)  \n",
      "\n",
      "    return numpy.array([(f1 +2*f2 +2*f3 +f4)*step/6.]), numpy.array([(F1 +2*F2 +2*F3 +F4)*step/6.]) # [Dhk, hk] update"
     ],
     "language": "python",
     "metadata": {},
     "outputs": [],
     "prompt_number": 3
    },
    {
     "cell_type": "code",
     "collapsed": false,
     "input": [
      "npts = 100\n",
      "step = (Nf-Ni)/(npts)\n",
      "\n",
      "phi_ = phi0\n",
      "Dphi_ = Dphi0\n",
      "\n",
      "phi_array = numpy.array([phi_])\n",
      "Dphi_array = numpy.array([Dphi_])\n",
      "N_array = numpy.array([Ni]) \n",
      "\n",
      "N = Ni\n",
      "while N < Nf:\n",
      "    array = rk4_step(N, phi_, Dphi_, step)\n",
      "    phi_ = phi_ + array[1]\n",
      "    Dphi_ = Dphi_ + array[0]\n",
      "    phi_array = numpy.append(phi_array,phi_)\n",
      "    Dphi_array = numpy.append(Dphi_array,Dphi_)\n",
      "    N += step\n",
      "    N_array = numpy.append(N_array,N)\n",
      "\n",
      "#plt.plot(numpy.linspace(0,70,npts+1), phi_array)"
     ],
     "language": "python",
     "metadata": {},
     "outputs": [],
     "prompt_number": 4
    },
    {
     "cell_type": "code",
     "collapsed": false,
     "input": [
      "phi = lambda N : phi_array[int((N-Ni)/step)]\n",
      "Dphi = lambda N : Dphi_array[int((N-Ni)/step)]\n",
      "\n",
      "phi_theory = lambda N : (2./q)**(1./2)*N + phi0\n",
      "\n",
      "plt.cla()\n",
      "plt.hold()\n",
      "plt.plot(N_array, [phi(N) for N in N_array],'*')\n",
      "plt.plot(N_array, [phi_theory(N) for N in N_array],'--')\n",
      "#plt.show()\n",
      "plt.savefig('phi_vs_N_power_law.png')"
     ],
     "language": "python",
     "metadata": {},
     "outputs": [
      {
       "metadata": {},
       "output_type": "display_data",
       "png": "[encoded data removed]",
       "text": [
        "<matplotlib.figure.Figure at 0xb00faf2c>"
       ]
      }
     ],
     "prompt_number": 11
    },
    {
     "cell_type": "code",
     "collapsed": false,
     "input": [
      "plt.hold()\n",
      "plt.plot(N_array, phi_array,'*')\n",
      "plt.plot(N_array, [phi_theory(N) for N in N_array],'--')\n",
      "plt.show()"
     ],
     "language": "python",
     "metadata": {},
     "outputs": [
      {
       "metadata": {},
       "output_type": "display_data",
       "png": "[encoded data removed]",
       "text": [
        "<matplotlib.figure.Figure at 0xb007efcc>"
       ]
      }
     ],
     "prompt_number": 17
    },
    {
     "cell_type": "code",
     "collapsed": false,
     "input": [
      "numpy.asarray([phi(N) for N in N_array]) - numpy.asarray([phi_theory(N) for N in N_array])"
     ],
     "language": "python",
     "metadata": {},
     "outputs": [
      {
       "metadata": {},
       "output_type": "pyout",
       "prompt_number": 13,
       "text": [
        "array([  0.00000000e+00,   0.00000000e+00,   0.00000000e+00,\n",
        "        -1.38620656e-01,   2.22044605e-16,   2.22044605e-16,\n",
        "         4.44089210e-16,   2.22044605e-16,   4.44089210e-16,\n",
        "         4.44089210e-16,   0.00000000e+00,  -4.44089210e-16,\n",
        "         0.00000000e+00,  -4.44089210e-16,  -4.44089210e-16,\n",
        "        -1.38620656e-01,  -1.38620656e-01,  -1.38620656e-01,\n",
        "        -1.38620656e-01,  -1.38620656e-01,  -1.38620656e-01,\n",
        "        -1.38620656e-01,  -1.38620656e-01,  -1.38620656e-01,\n",
        "        -1.38620656e-01,  -1.38620656e-01,  -1.38620656e-01,\n",
        "        -1.38620656e-01,  -1.38620656e-01,  -1.38620656e-01,\n",
        "        -1.38620656e-01,  -1.38620656e-01,  -1.38620656e-01,\n",
        "        -1.38620656e-01,  -1.38620656e-01,  -1.38620656e-01,\n",
        "        -1.38620656e-01,  -1.38620656e-01,  -1.38620656e-01,\n",
        "        -1.38620656e-01,  -1.38620656e-01,  -1.38620656e-01,\n",
        "        -1.38620656e-01,  -1.38620656e-01,  -1.38620656e-01,\n",
        "        -1.38620656e-01,  -1.38620656e-01,  -1.38620656e-01,\n",
        "        -1.38620656e-01,  -1.38620656e-01,  -1.38620656e-01,\n",
        "         7.10542736e-15,   5.32907052e-15,   5.32907052e-15,\n",
        "         3.55271368e-15,   1.77635684e-15,   1.77635684e-15,\n",
        "         0.00000000e+00,  -1.77635684e-15,  -1.77635684e-15,\n",
        "        -3.55271368e-15,  -5.32907052e-15,  -5.32907052e-15,\n",
        "        -7.10542736e-15,  -8.88178420e-15,  -8.88178420e-15,\n",
        "        -1.06581410e-14,  -1.24344979e-14,  -1.24344979e-14,\n",
        "        -1.42108547e-14,  -1.59872116e-14,  -1.59872116e-14,\n",
        "        -1.77635684e-14,  -1.95399252e-14,  -1.95399252e-14,\n",
        "        -2.13162821e-14,  -2.30926389e-14,  -2.30926389e-14,\n",
        "        -2.48689958e-14,  -2.66453526e-14,  -2.66453526e-14,\n",
        "        -2.84217094e-14,  -3.01980663e-14,  -3.01980663e-14,\n",
        "        -3.19744231e-14,  -3.37507799e-14,  -3.37507799e-14,\n",
        "        -3.55271368e-14,  -3.55271368e-14,  -3.73034936e-14,\n",
        "        -3.90798505e-14,  -3.90798505e-14,  -3.90798505e-14,\n",
        "        -4.08562073e-14,  -4.26325641e-14,  -4.26325641e-14,\n",
        "        -4.44089210e-14,  -4.61852778e-14,  -4.61852778e-14,\n",
        "        -4.79616347e-14,  -4.97379915e-14])"
       ]
      }
     ],
     "prompt_number": 13
    },
    {
     "cell_type": "code",
     "collapsed": false,
     "input": [
      "H = lambda N : ((V(phi(N))/(3 -Dphi(N))**2/2))**(1./2)\n",
      "DH = lambda N : H(N)*Dphi(N)\n",
      "\n",
      "H_theory = lambda N : H0*numpy.exp(-N/q)\n",
      "\n",
      "plt.cla()\n",
      "plt.hold()\n",
      "plt.plot(N_array, numpy.asarray([str(H(i)).strip('[]') for i in N_array], dtype= numpy.float64)/H0, '*')\n",
      "plt.plot(N_array, [H_theory(N) for N in N_array],'-')\n",
      "plt.show()"
     ],
     "language": "python",
     "metadata": {},
     "outputs": [
      {
       "metadata": {},
       "output_type": "display_data",
       "png": "[encoded data removed]",
       "text": [
        "<matplotlib.figure.Figure at 0xb026212c>"
       ]
      }
     ],
     "prompt_number": 14
    },
    {
     "cell_type": "code",
     "collapsed": false,
     "input": [
      "ai = 1e-05\n",
      "eps0 = (3./2)*((dphi0**2)/(dphi0**2/2. + V(phi0)))\n",
      "eps = 1./q \n",
      "\n",
      "eps1 = lambda N : Dphi_array[int((N-Ni)/step)]**2/2.\n",
      "eps1_theory = eps0\n",
      "\n",
      "plt.cla()\n",
      "plt.axhline(y=eps0)\n",
      "plt.scatter(N_array, [str(eps1(i)).strip('[]') for i in N_array])\n",
      "plt.savefig('eps1_vs_N_power_law.png')"
     ],
     "language": "python",
     "metadata": {},
     "outputs": [
      {
       "metadata": {},
       "output_type": "display_data",
       "png": "[encoded data removed]",
       "text": [
        "<matplotlib.figure.Figure at 0xb10c656c>"
       ]
      }
     ],
     "prompt_number": 15
    },
    {
     "cell_type": "code",
     "collapsed": false,
     "input": [],
     "language": "python",
     "metadata": {},
     "outputs": []
    }
   ],
   "metadata": {}
  }
 ]
}