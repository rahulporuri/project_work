{
 "metadata": {
  "name": "",
  "signature": "sha256:9cd4f75b3aa6c6fb2a357166cf6bc7425500196e5f9769576a7fe03d9c75f79a"
 },
 "nbformat": 3,
 "nbformat_minor": 0,
 "worksheets": [
  {
   "cells": [
    {
     "cell_type": "code",
     "collapsed": false,
     "input": [
      "import numpy\n",
      "import matplotlib.pyplot as plt\n",
      "import scipy.optimize as opt\n",
      "from scipy.integrate import romb, simps\n",
      "\n",
      "import time\n",
      "import multiprocessing as mp\n",
      "import random\n",
      "import string"
     ],
     "language": "python",
     "metadata": {},
     "outputs": [],
     "prompt_number": 1
    },
    {
     "cell_type": "code",
     "collapsed": false,
     "input": [
      "%matplotlib inline"
     ],
     "language": "python",
     "metadata": {},
     "outputs": [],
     "prompt_number": 2
    },
    {
     "cell_type": "code",
     "collapsed": false,
     "input": [
      "parallel_output = mp.Queue()\n",
      "\n",
      "plt.rc('text', usetex=True)\n",
      "plt.rc('font', family='serif')"
     ],
     "language": "python",
     "metadata": {},
     "outputs": [],
     "prompt_number": 3
    },
    {
     "cell_type": "code",
     "collapsed": false,
     "input": [
      "q = 51.\n",
      "V0 = (204./100.)*1e-08\n",
      "t0 = (q*(3.*q -1.)/V0)**(1./2)\n",
      "\n",
      "phi0 = 1.\n",
      "dphi0 = (2.*q)**(1./2)/t0\n",
      "\n",
      "Ni = 0.\n",
      "Nf = 70."
     ],
     "language": "python",
     "metadata": {},
     "outputs": [],
     "prompt_number": 4
    },
    {
     "cell_type": "code",
     "collapsed": false,
     "input": [
      "V = lambda _phi : V0*numpy.exp(-(2./q)**(1./2)*(_phi -phi0))\n",
      "dV = lambda _phi : -(2./q)**(1./2)*V0*numpy.exp(-(2./q)**(1./2)*(_phi -phi0))\n",
      "\n",
      "H0 = ((1./3)*(dphi0**2/2. +V(phi0)))**(1./2.)\n",
      "Dphi0 = dphi0/H0\n",
      "\n",
      "def DDphi(_N, _phi, _Dphi):\n",
      "    return -(3 -_Dphi**2/2.)*_Dphi -(dV(_phi)/(2*V(_phi)))*(6 -_Dphi**2)\n",
      "\n",
      "def rk4_step(_N, _phi, _Dphi, _step):\n",
      "    F1 = _Dphi\n",
      "    f1 = DDphi(_N, _phi, _Dphi)\n",
      "    F2 = _Dphi +f1*_step/2.\n",
      "    f2 = DDphi(_N +_step/2., _phi +F1*_step/2., _Dphi +f1*_step/2.)\n",
      "    F3 = _Dphi +f2*step/2.\n",
      "    f3 = DDphi(_N +_step/2., _phi +F2*_step/2., _Dphi +f2*_step/2.)\n",
      "    F4 = _Dphi +f3*step\n",
      "    f4 = DDphi(_N +_step, _phi +F3*_step, _Dphi +f3*_step)  \n",
      "\n",
      "    return [(f1 +2*f2 +2*f3 +f4)*_step/6., (F1 +2*F2 +2*F3 +F4)*_step/6.] # [Dhk, hk] update"
     ],
     "language": "python",
     "metadata": {},
     "outputs": [],
     "prompt_number": 5
    },
    {
     "cell_type": "code",
     "collapsed": false,
     "input": [
      "npts = 250000\n",
      "step = (Nf-Ni)/(npts)\n",
      "\n",
      "phi_ = phi0\n",
      "Dphi_ = Dphi0\n",
      "\n",
      "phi_array = numpy.array([phi_])\n",
      "Dphi_array = numpy.array([Dphi_])\n",
      "N_array = numpy.array([Ni]) \n",
      "\n",
      "phi_theory = lambda _N : (2./q)**(1./2)*_N + phi0\n",
      "\n",
      "N = Ni\n",
      "while N < Nf:\n",
      "    array = rk4_step(N, phi_, Dphi_, step)\n",
      "    phi_ = phi_ + array[1]\n",
      "    Dphi_ = Dphi_ + array[0]\n",
      "    phi_array = numpy.append(phi_array,phi_)\n",
      "    Dphi_array = numpy.append(Dphi_array,Dphi_)\n",
      "    N += step\n",
      "    N_array = numpy.append(N_array,N)"
     ],
     "language": "python",
     "metadata": {},
     "outputs": [],
     "prompt_number": 6
    },
    {
     "cell_type": "code",
     "collapsed": false,
     "input": [
      "phi = lambda _N : phi_array[int((_N-Ni)/step)]\n",
      "Dphi = lambda _N : Dphi_array[int((_N-Ni)/step)]\n",
      "\n",
      "eps0 = (3./2)*((dphi0**2)/(dphi0**2/2. + V(phi0)))\n",
      "eps = 1./q \n",
      "\n",
      "H = lambda _N : (V(phi(_N))/(3 -Dphi(_N)**2/2))**(1./2)\n",
      "DH = lambda _N : H(_N)*Dphi(_N)\n",
      "\n",
      "H_theory = lambda _N : H0*numpy.exp(-_N/q)\n",
      "\n",
      "ai = 1e-05\n",
      "\n",
      "eps1 = lambda _N : Dphi_array[int((_N-Ni)/step)]**2/2.\n",
      "eps1_theory = eps0\n",
      "\n",
      "z = lambda _N: ai*numpy.exp(_N)*Dphi(_N)\n",
      "A = lambda _N : ai*numpy.exp(_N)\n",
      "\n",
      "k0 = numpy.empty(0)\n",
      "\n",
      "def DDhk(_k, _N, _hk, _Dhk):\n",
      "    return -((3. +(DH(_N)/H(_N)))*_Dhk +((_k/(A(_N)*H(_N)))**2)*_hk)\n",
      "\n",
      "\n",
      "def rk4_step(_k, _N, _hk, _Dhk, _step):\n",
      "    F1 = _Dhk\n",
      "    f1 = DDhk(_k, _N, _hk, _Dhk)\n",
      "    F2 = _Dhk +f1*_step/2.\n",
      "    f2 = DDhk(_k, _N +_step/2., _hk +F1*_step/2., _Dhk +f1*_step/2.)\n",
      "    F3 = _Dhk +f2*_step/2.\n",
      "    f3 = DDhk(_k, _N +_step/2., _hk +F2*_step/2., _Dhk +f2*_step/2.)\n",
      "    F4 = _Dhk +f3*_step\n",
      "    f4 = DDhk(_k, _N +_step, _hk +F3*_step, _Dhk +f3*_step)\n",
      "\n",
      "    return (numpy.array([(f1 +2*f2 +2*f3 +f4)*_step/6.], dtype=complex),\n",
      "            numpy.array([(F1 +2*F2 +2*F3 +F4)*_step/6.], dtype=complex))\n",
      "            # [Dhk, hk] update"
     ],
     "language": "python",
     "metadata": {},
     "outputs": [],
     "prompt_number": 8
    },
    {
     "cell_type": "code",
     "collapsed": false,
     "input": [
      "def solve_Nics(k, eN_array):\n",
      "    Ni = eN_array[0]\n",
      "    step = eN_array[1] -eN_array[0]\n",
      "    Nics_temp = numpy.asarray([k - 1e+02*A(N)*H(N) for N in eN_array])\n",
      "    nics_test = numpy.where(Nics_temp > 0)\n",
      "    return Ni + nics_test[0][-1]*step\n",
      "\n",
      "def solve_Nshss(k, eN_array):\n",
      "    Ni = eN_array[0]\n",
      "    step = eN_array[1] -eN_array[0]\n",
      "    Nshss_temp = numpy.asarray([k - 1e-05*A(N)*H(N) for N in eN_array])\n",
      "    nshss_test = numpy.where(Nshss_temp > 0)\n",
      "    return Ni + nshss_test[0][-1]*step\n",
      "\n",
      "def initialize_hk(k, _Nics):\n",
      "    hk0 = numpy.zeros(1,dtype=complex)             \n",
      "    hk0.real = (((2.*k)**(1./2))*A(_Nics))**(-1.)\n",
      "    return hk0\n",
      "\n",
      "def initialize_Dhk(k, _Nics):\n",
      "    Dhk0 = numpy.zeros(1,dtype=complex)\n",
      "    Dhk0.real = -(1/A(_Nics))*((2*k)**(-1./2))\n",
      "    Dhk0.imag = -((k/2)**(1./2))/(A(_Nics)*A(_Nics)*H(_Nics))\n",
      "    return Dhk0\n",
      "\n",
      "def evolve_hk(k, _Nics, _Nshss, _step):    \n",
      "    hk = numpy.empty(0, dtype=complex)\n",
      "    Dhk = numpy.empty(0, dtype=complex)\n",
      "    \n",
      "    hk = initialize_hk(k, _Nics)\n",
      "    Dhk = initialize_Dhk(k, _Nics)\n",
      "    \n",
      "#    print _Nics, str(hk).strip('[]'), str(Dhk).strip('[]')\n",
      "    \n",
      "    hk_array = numpy.empty(0, dtype=complex)\n",
      "    \n",
      "    N = _Nics\n",
      "    while N < _Nshss:\n",
      "        hk_array = numpy.append(hk_array, hk)\n",
      "        array = rk4_step(k, N, hk, Dhk, _step)\n",
      "        hk = hk + array[1]\n",
      "        Dhk = Dhk + array[0]\n",
      "        N += _step\n",
      "\n",
      "#    print N, _Nshss, str(hk).strip('[]'), str(Dhk).strip('[]'), '\\n'\n",
      "    return hk_array"
     ],
     "language": "python",
     "metadata": {},
     "outputs": [],
     "prompt_number": 14
    },
    {
     "cell_type": "code",
     "collapsed": false,
     "input": [
      "def calG(hk_k1_array, hk_k2_array, hk_k3_array, k1, k2, k3, _Nics, _Nshss):\n",
      "    N_range = numpy.linspace(_Nics, _Nshss, len(hk_k1_array))\n",
      "    func_int = ((A(N_range)/numpy.asarray([H(N) for N in N_range]))*\n",
      "                (numpy.conj(hk_k1_array)*numpy.conj(hk_k2_array)*numpy.conj(hk_k3_array)))\n",
      "    result = simps(func_int, N_range)\n",
      "\n",
      "    return -(k1**2. +k2**2. +k3**2)/4.*result*numpy.array([0.+1.j], dtype=complex)\n",
      "\n",
      "\n",
      "def calG_cc(hk_k1_array, hk_k2_array, hk_k3_array, k1, k2, k3, _Nics, _Nshss):\n",
      "    N_range = numpy.linspace(_Nics, _Nshss, len(hk_k1_array))\n",
      "    func_int = ((A(N_range)/numpy.asarray([H(N) for N in N_range]))*\n",
      "                (hk_k1_array*hk_k2_array*hk_k3_array))\n",
      "    result = simps(func_int, N_range)\n",
      "\n",
      "    return (k1**2. +k2**2. +k3**2)/4.*result*numpy.array([0.+1.j], dtype=complex)"
     ],
     "language": "python",
     "metadata": {},
     "outputs": [],
     "prompt_number": 10
    },
    {
     "cell_type": "code",
     "collapsed": false,
     "input": [
      "k0 = 1e-06\n",
      "\n",
      "k_min = k0\n",
      "k_max = 1e+05*k0\n",
      "\n",
      "#k_list = numpy.array([10**((-12 + i)/2.) for i in range(13)])\n",
      "#k_list = [1e+00*k0]\n",
      "\n",
      "Nics_k0 = solve_Nics(k_min, N_array)\n",
      "Nshss_k0 = solve_Nshss(k_max, N_array)\n",
      "\n",
      "hk_k0_array = numpy.empty(0, dtype=complex)\n",
      "hk_k0_array = evolve_hk(k0, Nics_k0, Nshss_k0, step)\n",
      "tps_k0 = 8.*(k0)**3./(2.*numpy.pi**2.)*(numpy.absolute(hk_k0_array[-1]))**2.\n",
      "\n",
      "print k0, Nics_k0, Nshss_k0, str(hk_k0_array[-1]).strip('[]'), str(tps_k0).strip('[]')"
     ],
     "language": "python",
     "metadata": {},
     "outputs": [
      {
       "output_type": "stream",
       "stream": "stdout",
       "text": [
        "2.54184  5566444.92265788+0.j -5566444.92265788 -5.56721110e+08j\n",
        "30.72552"
       ]
      },
      {
       "output_type": "stream",
       "stream": "stdout",
       "text": [
        " 30.72552 ['[[[[[[[[[[[[[[[[[[[[[[[[[[[[[[[[ 31696.57510895+9182.4094611j]]]]]]]]]]]]]]]]]]]]]]]]]]]]]]]]'] ['[[[[[[[[[[[[[[[[[[[[[[[[[[[[[[[[ -2.56236956e-16 -7.42311320e-17j]]]]]]]]]]]]]]]]]]]]]]]]]]]]]]]]'] \n",
        "\n",
        "1e-06 2.54184 30.72552 (31696.575109+9182.4094611j) 4.41350827406e-10\n"
       ]
      }
     ],
     "prompt_number": 11
    },
    {
     "cell_type": "code",
     "collapsed": false,
     "input": [
      "len(hk_k0_array)"
     ],
     "language": "python",
     "metadata": {},
     "outputs": [
      {
       "metadata": {},
       "output_type": "pyout",
       "prompt_number": 12,
       "text": [
        "100656"
       ]
      }
     ],
     "prompt_number": 12
    },
    {
     "cell_type": "code",
     "collapsed": false,
     "input": [
      "k_list = [10**(1./2)*k0, 1e+01*k0, 10**(3./2)*k0, 1e+02*k0, 10**(5./2)*k0, 1e+03*k0, 10**(7./2)*k0, 1e+04*k0, 10**(9./2)*k0, 1e+05*k0]\n",
      "\n",
      "for ki in k_list:\n",
      "    Nics = solve_Nics(ki, N_array)\n",
      "    Nshss = solve_Nshss(ki, N_array)\n",
      "\n",
      "    hk_ki_array = numpy.empty(0, dtype=complex)\n",
      "    hk_ki_array = evolve_hk(ki, Nics, Nshss, step)\n",
      "    tps_ki = 8.*(ki)**3./(2.*numpy.pi**2.)*(numpy.absolute(hk_ki_array[-1]))**2.\n",
      "\n",
      "    if int((Nshss -Nics_k0)/step) -int((Nics -Nics_k0)/step) == len(hk_ki_array):\n",
      "        test_array= hk_k0_array[int((Nics -Nics_k0)/step):int((Nshss -Nics_k0)/step)]\n",
      "\n",
      "        CalG = calG(test_array, hk_ki_array, hk_ki_array, k0, ki, ki, Nics, Nshss)\n",
      "        CalG_cc = calG_cc(test_array, hk_ki_array, hk_ki_array, k0, ki, ki, Nics, Nshss)\n",
      "\n",
      "        G = (test_array[-1]*hk_ki_array[-1]**2)*CalG +(numpy.conj(test_array[-1])*numpy.conj(hk_ki_array[-1])**2)*CalG_cc\n",
      "        h_NL = (-1./2.)*((4./(2.*numpy.pi**2.))**2.)*(k0**3.*ki**6.*G)/(k0**3.*tps_ki**2. +2.*ki**3.*tps_k0*tps_ki)\n",
      "\n",
      "        print '\\n', ki, Nics, Nshss, str(hk_ki_array[-1]).strip('[]'), str(tps_ki).strip('[]')\n",
      "        print str(CalG).strip('[]'), str(CalG_cc).strip('[]'), str(G).strip('[]'), str(h_NL).strip('[]')"
     ],
     "language": "python",
     "metadata": {},
     "outputs": [
      {
       "output_type": "stream",
       "stream": "stdout",
       "text": [
        "\n",
        "3.16227766017e-06 3.71616 20.15664 (5507.97767511+1596.60326886j) 4.21486798888e-10\n",
        " -4.25963952e+08 -3.77053410e+08j  -4.25963952e+08 +3.77053410e+08j   2.91198403e+16+0.j -0.05006254+0.j\n",
        "\n"
       ]
      }
     ]
    },
    {
     "cell_type": "code",
     "collapsed": false,
     "input": [
      "ki = 10*k0\n",
      "Nics = solve_Nics(ki, N_array)\n",
      "Nshss = solve_Nshss(ki, N_array)\n",
      "\n",
      "hk_ki_array = numpy.empty(0, dtype=complex)\n",
      "hk_ki_array = evolve_hk(ki, Nics, Nshss, step)\n",
      "\n",
      "tps_ki = 8.*(ki)**3./(2.*numpy.pi**2.)*(numpy.absolute(hk_ki_array[-1]))**2. "
     ],
     "language": "python",
     "metadata": {},
     "outputs": [
      {
       "output_type": "stream",
       "stream": "stdout",
       "text": [
        "4.8902 [ 168150.48595537+0.j] [-168150.48595537-16821927.36763543j]\n",
        "21.3311"
       ]
      },
      {
       "output_type": "stream",
       "stream": "stdout",
       "text": [
        " 21.3304 [[[[[[[[[[[[[[[[[[[[[[[[[[[[[[[[ 964.46094984+250.95852748j]]]]]]]]]]]]]]]]]]]]]]]]]]]]]]]] [[[[[[[[[[[[[[[[[[[[[[[[[[[[[[[[ -7.79470127e-08 -2.02823234e-08j]]]]]]]]]]]]]]]]]]]]]]]]]]]]]]]]\n"
       ]
      }
     ],
     "prompt_number": 33
    },
    {
     "cell_type": "code",
     "collapsed": false,
     "input": [
      "len(hk_k0_array), len(hk_ki_array)"
     ],
     "language": "python",
     "metadata": {},
     "outputs": [
      {
       "metadata": {},
       "output_type": "pyout",
       "prompt_number": 34,
       "text": [
        "(40263, 23487)"
       ]
      }
     ],
     "prompt_number": 34
    },
    {
     "cell_type": "code",
     "collapsed": false,
     "input": [
      "Nics = solve_Nics(k0, N_array)\n",
      "Nshss = solve_Nshss(1e+05*k0, N_array)\n",
      "_N_array = numpy.linspace(Nics, Nshss, len(hk_k0_array))\n",
      "_Nics = solve_Nics(10*k0, N_array)\n",
      "_Nshss = solve_Nshss(10*k0, N_array)\n",
      "print Nics, _Nics, Nshss, _Nshss"
     ],
     "language": "python",
     "metadata": {},
     "outputs": [
      {
       "output_type": "stream",
       "stream": "stdout",
       "text": [
        "2.5417 4.8902 30.7251 21.3304\n"
       ]
      }
     ],
     "prompt_number": 35
    },
    {
     "cell_type": "code",
     "collapsed": false,
     "input": [
      "print numpy.where(_N_array ==_Nics)[0], numpy.where(_N_array ==_Nshss)[0]\n",
      "print numpy.where(_N_array ==_Nics)[0] -numpy.where(_N_array ==_Nshss)[0]\n",
      "begin = numpy.where(_N_array ==_Nics)[0]\n",
      "end = numpy.where(_N_array ==_Nshss)[0]\n",
      "test_array= hk_k0_array[begin:end+1]\n",
      "print len(test_array)"
     ],
     "language": "python",
     "metadata": {},
     "outputs": [
      {
       "output_type": "stream",
       "stream": "stdout",
       "text": [
        "[3355] [26841]\n",
        "[-23486]\n",
        "23487\n"
       ]
      }
     ],
     "prompt_number": 41
    },
    {
     "cell_type": "code",
     "collapsed": false,
     "input": [
      "k0 = 1e-06\n",
      "Nics = solve_Nics(k0, N_array)\n",
      "Nshss = solve_Nshss(1e+05*k0, N_array)\n",
      "_N_array = numpy.linspace(Nics, Nshss, len(hk_k0_array))\n",
      "while k0 < 1e-01:    \n",
      "    _Nics = solve_Nics(k0, N_array)\n",
      "    _Nshss = solve_Nshss(k0, N_array)\n",
      "    print Nics, _Nics, Nshss, _Nshss\n",
      "    #print numpy.where(_N_array ==_Nics)[0], numpy.where(_N_array ==_Nshss)[0]\n",
      "    print _N_array[int((_Nics-Nics)/step)], _Nics, _N_array[int((_Nshss-Nics)/step)], _Nshss\n",
      "    k0 = 10*k0"
     ],
     "language": "python",
     "metadata": {},
     "outputs": [
      {
       "output_type": "stream",
       "stream": "stdout",
       "text": [
        "2.5417 2.5417 30.7251 18.9819\n",
        "2.5417 2.5417 18.9819 18.9819\n",
        "2.5417"
       ]
      },
      {
       "output_type": "stream",
       "stream": "stdout",
       "text": [
        " 4.8902 30.7251 21.3304\n",
        "4.8902 4.8902 21.3304 21.3304\n",
        "2.5417"
       ]
      },
      {
       "output_type": "stream",
       "stream": "stdout",
       "text": [
        " 7.2387 30.7251 23.6796\n",
        "7.238 7.2387 23.6796 23.6796\n",
        "2.5417"
       ]
      },
      {
       "output_type": "stream",
       "stream": "stdout",
       "text": [
        " 9.5872 30.7251 26.0281\n",
        "9.5865 9.5872 26.0281 26.0281\n",
        "2.5417"
       ]
      },
      {
       "output_type": "stream",
       "stream": "stdout",
       "text": [
        " 11.9364 30.7251 28.3766\n",
        "11.9357 11.9364 28.3766 28.3766\n"
       ]
      }
     ],
     "prompt_number": 47
    },
    {
     "cell_type": "code",
     "collapsed": false,
     "input": [
      "test_array= hk_k0_array[int((_Nics-Nics)/step):int((_Nshss-Nics)/step)]\n",
      "print len(test_array)"
     ],
     "language": "python",
     "metadata": {},
     "outputs": [
      {
       "output_type": "stream",
       "stream": "stdout",
       "text": [
        "23487\n"
       ]
      }
     ],
     "prompt_number": 49
    },
    {
     "cell_type": "code",
     "collapsed": false,
     "input": [
      "CalG = calG(test_array, hk_ki_array, hk_ki_array, k0, ki, ki, Nics, Nshss)\n",
      "CalG_cc = calG_cc(test_array, hk_ki_array, hk_ki_array, k0, ki, ki, Nics, Nshss)\n",
      "\n",
      "G = (test_array[-1]*hk_ki_array[-1]**2)*CalG +(numpy.conj(test_array[-1])*numpy.conj(hk_ki_array[-1])**2)*CalG_cc\n",
      "h_NL = (-1./2.)*((4./(2.*numpy.pi**2.))**2.)*(k0**3.*ki**6.*G)/(k0**3.*tps_ki**2. +2.*ki**3.*tps_k0*tps_ki)\n",
      "\n",
      "print k0, ki, Nics, Nshss, str(test_array[-1]).strip('[]'), str(hk_ki_array[-1]).strip('[]')\n",
      "print str(tps_k0).strip('[]'), str(tps_ki).strip('[]')\n",
      "print str(CalG).strip('[]'), str(CalG_cc).strip('[]'), str(G).strip('[]'), str(h_NL).strip('[]')"
     ],
     "language": "python",
     "metadata": {},
     "outputs": [
      {
       "output_type": "stream",
       "stream": "stdout",
       "text": [
        "0.1 1e-05 2.5417 30.7251 (31819.6264049+8746.50178856j) (964.460949839+250.95852748j)\n",
        "4.41350989901e-10 4.02514656482e-10\n",
        " -2.74608582e+20 -2.79051108e+20j  -2.74608582e+20 +2.79051108e+20j  -6.97105262e+22+0.j   8.83416423e+09-0.j\n"
       ]
      }
     ],
     "prompt_number": 50
    },
    {
     "cell_type": "code",
     "collapsed": false,
     "input": [
      "CalG = calG(hk_k0_array, hk_ki_array, hk_ki_array, k0, ki, ki, Nics, Nshss)\n",
      "CalG_cc = calG_cc(hk_k0_array, hk_ki_array, hk_ki_array, k0, ki, ki, Nics, Nshss)\n",
      "\n",
      "G = (hk_k0_array[-1]*hk_ki_array[-1]**2)*CalG +(numpy.conj(hk_k0_array[-1])*numpy.conj(hk_ki_array[-1])**2)*CalG_cc\n",
      "h_NL = (-1./2.)*((4./(2.*numpy.pi**2.))**2.)*(k0**3.*ki**6.*G)/(k0**3.*tps_ki**2. +2.*ki**3.*tps_k0*tps_ki)\n",
      "\n",
      "print k0, ki, Nics, Nshss, str(hk_k0_array[-1]).strip('[]'), str(hk_ki_array[-1]).strip('[]')\n",
      "print str(tps_k0).strip('[]'), str(tps_ki).strip('[]')\n",
      "print str(CalG).strip('[]'), str(CalG_cc).strip('[]'), str(G).strip('[]'), str(h_NL).strip('[]')"
     ],
     "language": "python",
     "metadata": {},
     "outputs": []
    },
    {
     "cell_type": "code",
     "collapsed": false,
     "input": [
      "plt.hold(True)\n",
      "plt.subplot(121)\n",
      "plt.semilogy(hk_k0_array.real)\n",
      "plt.semilogy(hk_ki_array.real)\n",
      "plt.subplot(122)\n",
      "plt.semilogy(hk_k0_array.imag)\n",
      "plt.semilogy(hk_ki_array.imag)"
     ],
     "language": "python",
     "metadata": {},
     "outputs": [
      {
       "metadata": {},
       "output_type": "pyout",
       "prompt_number": 19,
       "text": [
        "[<matplotlib.lines.Line2D at 0xaeed046c>]"
       ]
      },
      {
       "metadata": {},
       "output_type": "display_data",
       "png": "[encoded data removed]",
       "text": [
        "<matplotlib.figure.Figure at 0xaeeac46c>"
       ]
      }
     ],
     "prompt_number": 19
    },
    {
     "cell_type": "code",
     "collapsed": false,
     "input": [
      "Nics= solve_Nics(k0, N_array)\n",
      "Nshss= solve_Nshss(ki, N_array)\n",
      "\n",
      "N_range = numpy.linspace(Nics, Nshss, len(hk_k0_array))\n",
      "func_int = ((A(N_range)/numpy.asarray([H(N) for N in N_range]))*\n",
      "            (numpy.conj(hk_k0_array)*numpy.conj(hk_ki_array)*numpy.conj(hk_ki_array)))"
     ],
     "language": "python",
     "metadata": {},
     "outputs": [],
     "prompt_number": 49
    },
    {
     "cell_type": "code",
     "collapsed": false,
     "input": [
      "plt.hold(True)\n",
      "plt.subplot(121)\n",
      "plt.plot(func_int.real)\n",
      "plt.subplot(122)\n",
      "plt.plot(func_int.imag)"
     ],
     "language": "python",
     "metadata": {},
     "outputs": [
      {
       "metadata": {},
       "output_type": "pyout",
       "prompt_number": 56,
       "text": [
        "[<matplotlib.lines.Line2D at 0xae962c8c>]"
       ]
      },
      {
       "metadata": {},
       "output_type": "display_data",
       "png": "[encoded data removed]",
       "text": [
        "<matplotlib.figure.Figure at 0xaea3308c>"
       ]
      }
     ],
     "prompt_number": 56
    },
    {
     "cell_type": "code",
     "collapsed": false,
     "input": [
      "print simps(func_int, N_range), simps(func_int[:5000], N_range[:5000]), simps(func_int[15000:], N_range[15000:])\n",
      "print -(k0**2. +ki**2. +ki**2)/4.*simps(func_int, N_range)*numpy.array([0.+1.j], dtype=complex)"
     ],
     "language": "python",
     "metadata": {},
     "outputs": [
      {
       "output_type": "stream",
       "stream": "stdout",
       "text": [
        "(7.51115798531e+20-7.79864785203e+20j) (-2.33428993643e+15+9.16357594201e+17j) (7.49364024598e+20-7.78954453852e+20j)\n",
        "[ -5.84898589e+08 -5.63336849e+08j]\n"
       ]
      }
     ],
     "prompt_number": 58
    },
    {
     "cell_type": "code",
     "collapsed": false,
     "input": [
      "k0 = 1e-06\n",
      "#k_list = numpy.array([10**((-12 + i)/2.) for i in range(13)])\n",
      "k_list = [1e+00*k0, 10**(1./2.)*k0, 1e+01*k0, 10**(3./2.)*k0]#, 1e+02*k0]\n",
      "#k_list = [1e+00*k0]\n",
      "\n",
      "for k in k_list:\n",
      "    Nics = solve_Nics(k, N_array)\n",
      "    Nshss = solve_Nshss(k, N_array)\n",
      "    hk_k_array = numpy.empty(0, dtype=complex)\n",
      "    hk_k_array = evolve_hk(k, Nics, Nshss, step)\n",
      "\n",
      "    tps_k = 8.*(k)**3./(2.*numpy.pi**2.)*(numpy.absolute(hk_k_array[-1]))**2.\n",
      "\n",
      "    CalG = calG(hk_k_array, hk_k_array, hk_k_array, k, k, k, Nics, Nshss)\n",
      "    CalG_cc = calG_cc(hk_k_array, hk_k_array, hk_k_array, k, k, k, Nics, Nshss)\n",
      "\n",
      "    G = (hk_k_array[-1]*hk_k_array[-1]**2)*CalG +(numpy.conj(hk_k_array[-1])*numpy.conj(hk_k_array[-1])**2)*CalG_cc\n",
      "    h_NL = (-1./2.)*((4./(2.*numpy.pi**2.))**2.)*(k**3.*k**6.*G)/(k**3.*tps_k**2. +2.*k**3.*tps_k*tps_k)\n",
      "    \n",
      "    print k, Nics, Nshss, str(hk_k_array[-1]).strip('[]')\n",
      "    print str(tps_k).strip('[]'), str(CalG).strip('[]'), str(CalG_cc).strip('[]')\n",
      "    print str(G).strip('[]'), str(h_NL).strip('[]')"
     ],
     "language": "python",
     "metadata": {},
     "outputs": [
      {
       "output_type": "stream",
       "stream": "stdout",
       "text": [
        "2.5417 [ 5567224.27950075+0.j] [-5567224.27950075 -5.56875485e+08j]\n",
        "18.9826"
       ]
      },
      {
       "output_type": "stream",
       "stream": "stdout",
       "text": [
        " 18.9819 [[[[[[[[[[[[[[[[[[[[[[[[[[[[[[[[ 31819.62640626+8746.50178892j]]]]]]]]]]]]]]]]]]]]]]]]]]]]]]]] [[[[[[[[[[[[[[[[[[[[[[[[[[[[[[[[ -2.57095118e-06 -7.06698254e-07j]]]]]]]]]]]]]]]]]]]]]]]]]]]]]]]]\n",
        "1e-06"
       ]
      },
      {
       "output_type": "stream",
       "stream": "stdout",
       "text": [
        " 2.5417 18.9819 (31819.6264063+8746.50178892j)\n",
        "4.41350989937e-10  -5.84898589e+08 -5.63336849e+08j  -5.84898589e+08 +5.63336849e+08j\n",
        "  3.40309989e+19+0.j -1.19568213+0.j\n",
        "3.7156"
       ]
      },
      {
       "output_type": "stream",
       "stream": "stdout",
       "text": [
        " [ 967877.56945491+0.j] [-967877.56945491-96854087.17362185j]\n",
        "20.1572"
       ]
      },
      {
       "output_type": "stream",
       "stream": "stdout",
       "text": [
        " 20.1565 [[[[[[[[[[[[[[[[[[[[[[[[[[[[[[[[ 5588.36421771+1287.10762236j]]]]]]]]]]]]]]]]]]]]]]]]]]]]]]]] [[[[[[[[[[[[[[[[[[[[[[[[[[[[[[[[ -4.51277124e-07 -1.03938035e-07j]]]]]]]]]]]]]]]]]]]]]]]]]]]]]]]]\n",
        "3.16227766017e-06"
       ]
      },
      {
       "output_type": "stream",
       "stream": "stdout",
       "text": [
        " 3.7156 20.1565 (5588.36421771+1287.10762236j)\n",
        "4.21480398382e-10 -88597662.00094059 -1.09906829e+08j -88597662.00094059 +1.09906829e+08j\n",
        "  3.49019280e+16+0.j -1.34463343+0.j\n",
        "4.8902"
       ]
      },
      {
       "output_type": "stream",
       "stream": "stdout",
       "text": [
        " [ 168150.48595537+0.j] [-168150.48595537-16821927.36763543j]\n",
        "21.3311"
       ]
      },
      {
       "output_type": "stream",
       "stream": "stdout",
       "text": [
        " 21.3304 [[[[[[[[[[[[[[[[[[[[[[[[[[[[[[[[ 964.46094984+250.95852748j]]]]]]]]]]]]]]]]]]]]]]]]]]]]]]]] [[[[[[[[[[[[[[[[[[[[[[[[[[[[[[[[ -7.79470127e-08 -2.02823234e-08j]]]]]]]]]]]]]]]]]]]]]]]]]]]]]]]]\n",
        "1e-05"
       ]
      },
      {
       "output_type": "stream",
       "stream": "stdout",
       "text": [
        " 4.8902 21.3304 (964.460949839+250.95852748j)\n",
        "4.02514656482e-10 -16947691.76096184-17721752.91013318j -16947691.76096184+17721752.91013318j\n",
        "  2.95146875e+13+0.j -1.24676339+0.j\n",
        "6.0648"
       ]
      },
      {
       "output_type": "stream",
       "stream": "stdout",
       "text": [
        " [ 29212.97777667+0.j] [-29212.97777667-2921686.10143137j]\n",
        "22.5057"
       ]
      },
      {
       "output_type": "stream",
       "stream": "stdout",
       "text": [
        " 22.505 [[[[[[[[[[[[[[[[[[[[[[[[[[[[[[[[ 166.30959055+48.31754299j]]]]]]]]]]]]]]]]]]]]]]]]]]]]]]]] [[[[[[[[[[[[[[[[[[[[[[[[[[[[[[[[ -1.34335965e-08 -3.90283942e-09j]]]]]]]]]]]]]]]]]]]]]]]]]]]]]]]]\n",
        "3.16227766017e-05"
       ]
      },
      {
       "output_type": "stream",
       "stream": "stdout",
       "text": [
        " 6.0648 22.505 (166.309590552+48.3175429933j)\n",
        "3.84403102928e-10 -3195663.75763053-2820500.06781848j -3195663.75763053+2820500.06781848j\n",
        "  2.46000783e+10+0.j -1.13938886+0.j\n"
       ]
      }
     ],
     "prompt_number": 17
    },
    {
     "cell_type": "code",
     "collapsed": false,
     "input": [],
     "language": "python",
     "metadata": {},
     "outputs": []
    },
    {
     "cell_type": "code",
     "collapsed": false,
     "input": [
      "def main(k0, N_array):\n",
      "    Nics = solve_Nics(k0, N_array)\n",
      "    Nshss = solve_Nshss(k0, N_array)\n",
      "    step = N_array[1] -N_array[0]\n",
      "\n",
      "    hk0 = numpy.empty(0,dtype=complex)             \n",
      "    Dhk0 = numpy.empty(0,dtype=complex)\n",
      "\n",
      "    hk0 = initialize_hk(k0, Nics)\n",
      "    Dhk0 = initialize_Dhk(k0, Nics)\n",
      "\n",
      "    hk_array = numpy.empty(0, dtype=complex)\n",
      "    hk_array = evolve_hk(k0, Nics, Nshss, step)\n",
      "    tps= 8.*(k0)**3/(2.*numpy.pi**2)*(numpy.absolute(hk_array[-1]))**2\n",
      "\n",
      "    CalG = calG(hk_array, hk_array, hk_array, k0, k0, k0, Nics)\n",
      "    CalG_cc = calG_cc(hk_array, hk_array, hk_array, k0, k0, k0, Nics)\n",
      "\n",
      "    G = (hk_array[-1]**3)*CalG + (numpy.conj(hk_array[-1])**3)*CalG_cc\n",
      "    h_NL = (-1./6)*((4./(2.*numpy.pi**2))**2)*(k0**6)*G/(tps**2)\n",
      "\n",
      "    print k0, N-step, Nics, Nshss, str(hk0).strip('[]'), str(Dhk0).strip('[]'), str(tps).strip('[]')\n",
      "    print str(CalG).strip('[]'), str((k0**(3./2))*numpy.absolute(CalG)).strip('[]')\n",
      "    print str(G.real).strip('[]'), str((k0**6)*G.real).strip('[]'), str(h_NL.real).strip('[]')\n",
      "#    print '\\n'\n",
      "#    return str(tps).strip('[]')\n",
      "    return None\n",
      "\n",
      "k_list = numpy.array([10**((-12 + i)/2.) for i in range(1)])\n",
      "\n",
      "#pool = mp.Pool(processes = 4)\n",
      "#temp_results = [pool.apply_async(main, args = (k0, N_array,)) for k0 in k_list]\n",
      "#results = []\n",
      "print main(k0, N_array)\n",
      "\n",
      "#for i in range(len(k_list)):\n",
      "#    results.append(temp_results[i].get())"
     ],
     "language": "python",
     "metadata": {},
     "outputs": [
      {
       "output_type": "stream",
       "stream": "stdout",
       "text": [
        "2.5417 [ 5567224.27950075+0.j] [-5567224.27950075 -5.56875485e+08j]\n",
        "18.9826"
       ]
      },
      {
       "output_type": "stream",
       "stream": "stdout",
       "text": [
        " 18.9819 [[[[[[[[[[[[[[[[[[[[[[[[[[[[[[[[ 31819.62640626+8746.50178892j]]]]]]]]]]]]]]]]]]]]]]]]]]]]]]]] [[[[[[[[[[[[[[[[[[[[[[[[[[[[[[[[ -2.57095118e-06 -7.06698254e-07j]]]]]]]]]]]]]]]]]]]]]]]]]]]]]]]]\n"
       ]
      },
      {
       "ename": "TypeError",
       "evalue": "calG() takes exactly 8 arguments (7 given)",
       "output_type": "pyerr",
       "traceback": [
        "\u001b[0;31m---------------------------------------------------------------------------\u001b[0m\n\u001b[0;31mTypeError\u001b[0m                                 Traceback (most recent call last)",
        "\u001b[0;32m<ipython-input-12-9207475e2214>\u001b[0m in \u001b[0;36m<module>\u001b[0;34m()\u001b[0m\n\u001b[1;32m     32\u001b[0m \u001b[0;31m#temp_results = [pool.apply_async(main, args = (k0, N_array,)) for k0 in k_list]\u001b[0m\u001b[0;34m\u001b[0m\u001b[0;34m\u001b[0m\u001b[0m\n\u001b[1;32m     33\u001b[0m \u001b[0;31m#results = []\u001b[0m\u001b[0;34m\u001b[0m\u001b[0;34m\u001b[0m\u001b[0m\n\u001b[0;32m---> 34\u001b[0;31m \u001b[0;32mprint\u001b[0m \u001b[0mmain\u001b[0m\u001b[0;34m(\u001b[0m\u001b[0mk0\u001b[0m\u001b[0;34m,\u001b[0m \u001b[0mN_array\u001b[0m\u001b[0;34m)\u001b[0m\u001b[0;34m\u001b[0m\u001b[0m\n\u001b[0m\u001b[1;32m     35\u001b[0m \u001b[0;34m\u001b[0m\u001b[0m\n\u001b[1;32m     36\u001b[0m \u001b[0;31m#for i in range(len(k_list)):\u001b[0m\u001b[0;34m\u001b[0m\u001b[0;34m\u001b[0m\u001b[0m\n",
        "\u001b[0;32m<ipython-input-12-9207475e2214>\u001b[0m in \u001b[0;36mmain\u001b[0;34m(k0, N_array)\u001b[0m\n\u001b[1;32m     14\u001b[0m     \u001b[0mtps\u001b[0m\u001b[0;34m=\u001b[0m \u001b[0;36m8.\u001b[0m\u001b[0;34m*\u001b[0m\u001b[0;34m(\u001b[0m\u001b[0mk0\u001b[0m\u001b[0;34m)\u001b[0m\u001b[0;34m**\u001b[0m\u001b[0;36m3\u001b[0m\u001b[0;34m/\u001b[0m\u001b[0;34m(\u001b[0m\u001b[0;36m2.\u001b[0m\u001b[0;34m*\u001b[0m\u001b[0mnumpy\u001b[0m\u001b[0;34m.\u001b[0m\u001b[0mpi\u001b[0m\u001b[0;34m**\u001b[0m\u001b[0;36m2\u001b[0m\u001b[0;34m)\u001b[0m\u001b[0;34m*\u001b[0m\u001b[0;34m(\u001b[0m\u001b[0mnumpy\u001b[0m\u001b[0;34m.\u001b[0m\u001b[0mabsolute\u001b[0m\u001b[0;34m(\u001b[0m\u001b[0mhk_array\u001b[0m\u001b[0;34m[\u001b[0m\u001b[0;34m-\u001b[0m\u001b[0;36m1\u001b[0m\u001b[0;34m]\u001b[0m\u001b[0;34m)\u001b[0m\u001b[0;34m)\u001b[0m\u001b[0;34m**\u001b[0m\u001b[0;36m2\u001b[0m\u001b[0;34m\u001b[0m\u001b[0m\n\u001b[1;32m     15\u001b[0m \u001b[0;34m\u001b[0m\u001b[0m\n\u001b[0;32m---> 16\u001b[0;31m     \u001b[0mCalG\u001b[0m \u001b[0;34m=\u001b[0m \u001b[0mcalG\u001b[0m\u001b[0;34m(\u001b[0m\u001b[0mhk_array\u001b[0m\u001b[0;34m,\u001b[0m \u001b[0mhk_array\u001b[0m\u001b[0;34m,\u001b[0m \u001b[0mhk_array\u001b[0m\u001b[0;34m,\u001b[0m \u001b[0mk0\u001b[0m\u001b[0;34m,\u001b[0m \u001b[0mk0\u001b[0m\u001b[0;34m,\u001b[0m \u001b[0mk0\u001b[0m\u001b[0;34m,\u001b[0m \u001b[0mNics\u001b[0m\u001b[0;34m)\u001b[0m\u001b[0;34m\u001b[0m\u001b[0m\n\u001b[0m\u001b[1;32m     17\u001b[0m     \u001b[0mCalG_cc\u001b[0m \u001b[0;34m=\u001b[0m \u001b[0mcalG_cc\u001b[0m\u001b[0;34m(\u001b[0m\u001b[0mhk_array\u001b[0m\u001b[0;34m,\u001b[0m \u001b[0mhk_array\u001b[0m\u001b[0;34m,\u001b[0m \u001b[0mhk_array\u001b[0m\u001b[0;34m,\u001b[0m \u001b[0mk0\u001b[0m\u001b[0;34m,\u001b[0m \u001b[0mk0\u001b[0m\u001b[0;34m,\u001b[0m \u001b[0mk0\u001b[0m\u001b[0;34m,\u001b[0m \u001b[0mNics\u001b[0m\u001b[0;34m)\u001b[0m\u001b[0;34m\u001b[0m\u001b[0m\n\u001b[1;32m     18\u001b[0m \u001b[0;34m\u001b[0m\u001b[0m\n",
        "\u001b[0;31mTypeError\u001b[0m: calG() takes exactly 8 arguments (7 given)"
       ]
      }
     ],
     "prompt_number": 12
    },
    {
     "cell_type": "code",
     "collapsed": false,
     "input": [
      "k0*numpy.absolute(CalG)"
     ],
     "language": "python",
     "metadata": {},
     "outputs": [
      {
       "metadata": {},
       "output_type": "pyout",
       "prompt_number": 63,
       "text": [
        "array([ 812.06820196])"
       ]
      }
     ],
     "prompt_number": 63
    },
    {
     "cell_type": "code",
     "collapsed": false,
     "input": [],
     "language": "python",
     "metadata": {},
     "outputs": []
    },
    {
     "cell_type": "code",
     "collapsed": false,
     "input": [],
     "language": "python",
     "metadata": {},
     "outputs": []
    },
    {
     "cell_type": "code",
     "collapsed": false,
     "input": [],
     "language": "python",
     "metadata": {},
     "outputs": []
    },
    {
     "cell_type": "code",
     "collapsed": false,
     "input": [
      "plt.hold(True)\n",
      "plt.plot(hk_k0_array.real)\n",
      "plt.plot(hk_k0_array.imag)"
     ],
     "language": "python",
     "metadata": {},
     "outputs": [
      {
       "metadata": {},
       "output_type": "pyout",
       "prompt_number": 13,
       "text": [
        "[<matplotlib.lines.Line2D at 0xaedd0f8c>]"
       ]
      },
      {
       "metadata": {},
       "output_type": "display_data",
       "png": "[encoded data removed]",
       "text": [
        "<matplotlib.figure.Figure at 0xaea58e2c>"
       ]
      }
     ],
     "prompt_number": 13
    },
    {
     "cell_type": "code",
     "collapsed": false,
     "input": [
      "plt.hold(True)\n",
      "plt.plot(hk_k0_array[:5000].real)\n",
      "plt.plot(hk_k0_array[:5000].imag)"
     ],
     "language": "python",
     "metadata": {},
     "outputs": [
      {
       "metadata": {},
       "output_type": "pyout",
       "prompt_number": 16,
       "text": [
        "[<matplotlib.lines.Line2D at 0xaec249ec>]"
       ]
      },
      {
       "metadata": {},
       "output_type": "display_data",
       "png": "[encoded data removed]",
       "text": [
        "<matplotlib.figure.Figure at 0xaecdc70c>"
       ]
      }
     ],
     "prompt_number": 16
    },
    {
     "cell_type": "code",
     "collapsed": false,
     "input": [
      "plt.hold(True)\n",
      "plt.plot(hk_ki_array.real)\n",
      "plt.plot(hk_ki_array.imag)"
     ],
     "language": "python",
     "metadata": {},
     "outputs": [
      {
       "metadata": {},
       "output_type": "pyout",
       "prompt_number": 18,
       "text": [
        "[<matplotlib.lines.Line2D at 0xaec0040c>]"
       ]
      },
      {
       "metadata": {},
       "output_type": "display_data",
       "png": "[encoded data removed]",
       "text": [
        "<matplotlib.figure.Figure at 0xaec390ec>"
       ]
      }
     ],
     "prompt_number": 18
    },
    {
     "cell_type": "code",
     "collapsed": false,
     "input": [
      "print hk_ki_array[-1], hk_k0_array[-1]"
     ],
     "language": "python",
     "metadata": {},
     "outputs": [
      {
       "output_type": "stream",
       "stream": "stdout",
       "text": [
        "(31819.6264063+8746.50178892j) (31819.6264063+8746.50178892j)\n"
       ]
      }
     ],
     "prompt_number": 20
    },
    {
     "cell_type": "code",
     "collapsed": false,
     "input": [
      "print CalG, CalG_cc\n",
      "print calG(hk_k0_array, hk_k0_array, hk_k0_array, k0, k0, k0, Nics, Nshss), calG(hk_k0_array, hk_k0_array, hk_k0_array, k0, k0, k0, Nics, Nshss)\n",
      "print calG_cc(hk_k0_array, hk_k0_array, hk_k0_array, k0, k0, k0, Nics, Nshss), calG_cc(hk_k0_array, hk_k0_array, hk_k0_array, k0, k0, k0, Nics, Nshss)"
     ],
     "language": "python",
     "metadata": {},
     "outputs": [
      {
       "output_type": "stream",
       "stream": "stdout",
       "text": [
        "[ -5.84898589e+08 -5.63336849e+08j] [ -5.84898589e+08 -5.63336849e+08j]\n",
        "[ -5.84898589e+08 -5.63336849e+08j]"
       ]
      },
      {
       "output_type": "stream",
       "stream": "stdout",
       "text": [
        " [ -5.84898589e+08 -5.63336849e+08j]\n",
        "[ -5.84898589e+08 +5.63336849e+08j]"
       ]
      },
      {
       "output_type": "stream",
       "stream": "stdout",
       "text": [
        " [ -5.84898589e+08 +5.63336849e+08j]\n"
       ]
      }
     ],
     "prompt_number": 24
    },
    {
     "cell_type": "code",
     "collapsed": false,
     "input": [
      "'''\n",
      "pool = mp.Pool(processes = 4)\n",
      "temp_results = [pool.apply_async(main, args = (k0, N_array,)) for k0 in k_list]\n",
      "results = []\n",
      "\n",
      "for i in range(len(k_list)):\n",
      "    results.append(temp_results[i].get())\n",
      "#    k_vs_hk[i] = temp_results[i].get()\n",
      "\n",
      "#results = numpy.asarray(results, dtype=numpy.float)\n",
      "#print k_list, results\n",
      "#print k_vs_hk\n",
      "#print '\\n'\n",
      "'''\n",
      "'''\n",
      "for k0 in k_list:\n",
      "    hk0 = numpy.zeros(1,dtype=complex)\n",
      "    hk0 = main(k0, N_array)\n",
      "    k_vs_hk = numpy.append(k_vs_hk, hk0) \n",
      "\ttemp = 8*(k0)**3/(2*numpy.pi**2)*(numpy.absolute(hk0))**2\n",
      "    print str(temp).strip('[]')\n",
      "    print '\\n'\n",
      "    tps_file.write(str(k0)+\"\\t\"+str(temp).strip('[]')+\"\\n\")\n",
      "#    tps_file.write(str(k0)+\"\\t\"+str(hk0.real)+\"\\t\"+str(hk0.imag)+\"\\t\"+str(temp).strip('[]')+\"\\n\")\n",
      "\n",
      "#print len(k_list), len(k_vs_hkhk)\n",
      "#TPS = [8*(k_list[i])**3/(2*numpy.pi**2)*(numpy.absolute(k_vs_hk[i]))**2 for i in range(len(k_list))]\n",
      "#TPS = [8*(k_list[i])**3/(2*numpy.pi**2)*(k_vs_hk[i])**2 for i in range(len(k_list))]\n",
      "#print k_list, TPS\n",
      "\n",
      "tps_file.close()\n",
      "\n",
      "plt.cla()\n",
      "plt.xlabel(r'$k$')\n",
      "plt.ylabel(r'${\\mathcal{P}}_{\\rm T}(k)$')\n",
      "plt.title(r'${\\mathcal{P}}_{\\rm T}(k)$ as a function of $k$')\n",
      "numerics, = plt.loglog(k_list, TPS)\n",
      "plt.legend([numerics],['numerical results'])\n",
      "plt.savefig('power_spectrum_power_law.png')\n",
      "'''"
     ],
     "language": "python",
     "metadata": {},
     "outputs": []
    }
   ],
   "metadata": {}
  }
 ]
}