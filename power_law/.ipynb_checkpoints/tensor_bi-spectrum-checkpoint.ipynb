{
 "metadata": {
  "name": "",
  "signature": "sha256:78414bb1c7631e76bc3499c805972c48b70193342ae0e8f5d0e5580b2dd0f743"
 },
 "nbformat": 3,
 "nbformat_minor": 0,
 "worksheets": [
  {
   "cells": [
    {
     "cell_type": "markdown",
     "metadata": {},
     "source": [
      "Inthe following IPython notebook, I first numerically estimate the scalar field $\\phi$ by solving the second order ODE governing it's evolution:\n",
      "\n",
      "$$\\ddot{\\phi} + 3H\\dot{\\phi} + \\frac{{\\rm d}V}{{\\rm d}\\phi} = 0$$\n",
      "\n",
      "where an overdot denotes differentiation with respect to coordinate time $t$ and H is the Hubble parameter $H = \\dot{a}/a$.\n",
      "\n",
      "Using the solution for $\\phi$, we solve the second order ODE governing the tensor perturbation h_{\\bf k}$\n",
      "\n",
      "$$h_{\\bf k}'' +\\frac{2a'}{a}h_{\\bf k}' +k^2h_{\\bf k} = 0$$\n",
      "\n",
      "where an overprime denotes differentiation with respect to conformal time $\\eta$.\n",
      "\n",
      "The Bunch-Davies initial conditions are imposed when the modes ${\\bf k}$ are sufficiently inside the Hubble radius i.e $k^2 >> a'/a$. In such a case, we can see that the equation governing the tensor perturbations is similar to a simple harmonic oscillator.\n",
      "Numerically speaking, we set the initial conditions when $k/a\\mathcal{H} = 10^2$ where $\\mathcal{H} = a'/a$. Similarly, we stop the evaluation when $k/a\\mathcal{H} = 10^{-5}$. For the modes of interest, if we compute these numbers in terms of conformal time $\\eta$, we will see that they are extremely large. As such, a numerical solution is not plausible. We therefore work in e-fold $N$ where $N = ln(a(t)/a_0)$. In terms of e-fold $N$, we can rewrite the above equations as\n",
      "\n",
      "$$\\frac{{\\rm d}^2\\phi}{{\\rm d}N^2} +\\left[3 -\\frac{1}{2}\\left(\\frac{{\\rm d}\\phi}{dN}\\right)^2\\right]\\frac{{\\rm d}\\phi}{dN} +\\frac{1}{2V(\\phi)}\\frac{{\\rm d} V}{{\\rm d}\\phi}\\left[6 -\\left(\\frac{{\\rm d}\\phi}{{\\rm d}N}\\right)^2\\right] =  0$$\n",
      "\n",
      "$$\\frac{ {\\rm d}^2 h_{\\bf k} }{ {\\rm d} N^2} \n",
      "+\\left(3 +\\frac{1}{H}\\frac{ {\\rm d} H }{ {\\rm d} N} \\right)\\frac{ {\\rm d} h_{\\bf k} }{ {\\rm d} N}\n",
      "+\\left(\\frac{k^2}{a^2H^2}\\right)h_{\\bf k} = 0$$\n",
      "\n",
      "We assume that a potential of the form\n",
      "\n",
      "$$V = V_0\\exp\\left[-\\sqrt{\\frac{2}{q}}\\left(\\phi -\\phi_0\\right)\\right]$$\n",
      "\n",
      "drives inflation and using the above potential, we can solve for $\\phi$.\n",
      "Once we have a solution for $\\phi$, we can obtain a numerical solution for the \n",
      "Hubble parameter $H$ using\n",
      "\n",
      "$$H^2 = \\frac{V(\\phi)}{\\left[3 -\\frac{1}{2}\\left(\\frac{{\\rm d}\\phi}{{\\rm d}N}\\right)^2\\right]}$$\n",
      "\n",
      "On a final note, the prefix d refers to differentiation with respect to conformal time $\\eta$ and \n",
      "the prefix D refers to differentiation with respect to e-fold $N$. The suffix 0 is used to denote \n",
      "the initial conditions. Nics and Nshss are used to refer to the values of e-fold $N$ when we start \n",
      "and end the numerical evaluation of $\\phi$ and $h_{\\bf k}$."
     ]
    },
    {
     "cell_type": "code",
     "collapsed": false,
     "input": [
      "import numpy\n",
      "import matplotlib.pyplot as plt\n",
      "import scipy.optimize as opt\n",
      "from scipy.integrate import romb, simps\n",
      "%matplotlib inline"
     ],
     "language": "python",
     "metadata": {},
     "outputs": [],
     "prompt_number": 1
    },
    {
     "cell_type": "code",
     "collapsed": false,
     "input": [
      "q = 51.\n",
      "V0 = (204./100.)*1e-08\n",
      "t0 = (q*(3.*q -1.)/V0)**(1./2)\n",
      "\n",
      "phi0 = 1.\n",
      "dphi0 = (2.*q)**(1./2)/t0\n",
      "\n",
      "Ni = 0.\n",
      "Nf = 70. \n",
      "\n",
      "kp = 5.*1e-02\n",
      "beta = -((2.*q -1.)/(q -1.))\n",
      "eps1a = ((beta +2.)/(beta +1.))"
     ],
     "language": "python",
     "metadata": {},
     "outputs": [],
     "prompt_number": 2
    },
    {
     "cell_type": "code",
     "collapsed": false,
     "input": [
      "#V = lambda phi : V0*numpy.exp(-(2*q)**(1./2.)*(phi-phi_i))\n",
      "V = lambda phi : V0*numpy.exp(-(2./q)**(1./2)*(phi -phi0))\n",
      "dV = lambda phi : -(2./q)**(1./2)*V0*numpy.exp(-(2./q)**(1./2)*(phi -phi0))\n",
      "\n",
      "H0 = ((1./3)*(dphi0**2/2. +V(phi0)))**(1./2.)\n",
      "Dphi0 = dphi0/H0\n",
      "\n",
      "def DDphi(N, phi0, Dphi0):\n",
      "    return -(3 -Dphi0**2/2.)*Dphi0 -(dV(phi0)/(2*V(phi0)))*(6 -Dphi0**2)\n",
      "\n",
      "def rk4_step(N, phi0, Dphi0, step):\n",
      "    F1 = Dphi0\n",
      "    f1 = DDphi(N, phi0, Dphi0)\n",
      "    F2 = Dphi0 +f1*step/2.\n",
      "    f2 = DDphi(N +step/2., phi0 +F1*step/2., Dphi0 +f1*step/2.)\n",
      "    F3 = Dphi0 +f2*step/2.\n",
      "    f3 = DDphi(N +step/2., phi0 +F2*step/2., Dphi0 +f2*step/2.)\n",
      "    F4 = Dphi0 +f3*step\n",
      "    f4 = DDphi(N +step, phi0 +F3*step, Dphi0 +f3*step)  \n",
      "\n",
      "    return [(f1 +2*f2 +2*f3 +f4)*step/6, (F1 +2*F2 +2*F3 +F4)*step/6.] # [Dhk, hk] update"
     ],
     "language": "python",
     "metadata": {},
     "outputs": [],
     "prompt_number": 3
    },
    {
     "cell_type": "code",
     "collapsed": false,
     "input": [
      "npts = 10000\n",
      "step = (Nf-Ni)/(npts)\n",
      "\n",
      "phi_temp = phi0\n",
      "Dphi_temp = Dphi0\n",
      "\n",
      "phi_array = numpy.array([phi_temp])\n",
      "Dphi_array = numpy.array([Dphi_temp])\n",
      "N_array = numpy.array([Ni]) \n",
      "\n",
      "N = Ni\n",
      "print N, phi_temp, Dphi_temp\n",
      "while N < Nf:\n",
      "    array = rk4_step(N, phi_temp, Dphi_temp, step)\n",
      "    phi_temp = phi_temp + array[1]\n",
      "    Dphi_temp = Dphi_temp + array[0]\n",
      "    phi_array = numpy.append(phi_array,phi_temp)\n",
      "    Dphi_array = numpy.append(Dphi_array,Dphi_temp)\n",
      "    N += step\n",
      "#    print N, phi_temp, Dphi_temp\n",
      "    N_array = numpy.append(N_array,N)\n",
      "\n",
      "#plt.plot(numpy.linspace(0,70,npts+1), phi_array)\n",
      "print N, phi_temp, Dphi_temp"
     ],
     "language": "python",
     "metadata": {},
     "outputs": [
      {
       "output_type": "stream",
       "stream": "stdout",
       "text": [
        "0.0 1.0 0.198029508595\n",
        "70.007"
       ]
      },
      {
       "output_type": "stream",
       "stream": "stdout",
       "text": [
        " 14.8634518082 0.198029508595\n"
       ]
      }
     ],
     "prompt_number": 4
    },
    {
     "cell_type": "code",
     "collapsed": false,
     "input": [],
     "language": "python",
     "metadata": {},
     "outputs": [],
     "prompt_number": 4
    },
    {
     "cell_type": "markdown",
     "metadata": {},
     "source": [
      "we can do interpolation to get phi at more points\n",
      "instead of implementing RK4.\n",
      "\n",
      "```\n",
      "N_new = numpy.linspace(Ni,Nf,1000000)\n",
      "phi_array_new = numpy.interp(N_new, N_array, phi_array)\n",
      "Dphi_array_new = numpy.interp(N_new, N_array, Dphi_array)\n",
      "\n",
      "phi_array = phi_array_new\n",
      "Dphi_array = Dphi_array_new\n",
      "N_array = N_new\n",
      "step = (Nf-Ni)/(1000000)\n",
      "```"
     ]
    },
    {
     "cell_type": "code",
     "collapsed": false,
     "input": [
      "N_new = numpy.linspace(Ni,Nf,1000000)\n",
      "phi_array_new = numpy.interp(N_new, N_array, phi_array)\n",
      "Dphi_array_new = numpy.interp(N_new, N_array, Dphi_array)"
     ],
     "language": "python",
     "metadata": {},
     "outputs": [],
     "prompt_number": 5
    },
    {
     "cell_type": "code",
     "collapsed": false,
     "input": [
      "plt.cla()\n",
      "plt.hold(True)\n",
      "plt.plot(N_array, phi_array, 'o')\n",
      "plt.plot(N_new, phi_array_new, '-')"
     ],
     "language": "python",
     "metadata": {},
     "outputs": [
      {
       "metadata": {},
       "output_type": "pyout",
       "prompt_number": 6,
       "text": [
        "[<matplotlib.lines.Line2D at 0xad9f8d4c>]"
       ]
      },
      {
       "metadata": {},
       "output_type": "display_data",
       "png": "[encoded data removed]",
       "text": [
        "<matplotlib.figure.Figure at 0xaf168e2c>"
       ]
      }
     ],
     "prompt_number": 6
    },
    {
     "cell_type": "code",
     "collapsed": false,
     "input": [
      "phi_array = phi_array_new\n",
      "Dphi_array = Dphi_array_new\n",
      "N_array = N_new\n",
      "step = (N_array[1]-N_array[0])"
     ],
     "language": "python",
     "metadata": {},
     "outputs": [],
     "prompt_number": 7
    },
    {
     "cell_type": "code",
     "collapsed": false,
     "input": [
      "phi = lambda N : phi_array[int((N-Ni)/step)]\n",
      "Dphi = lambda N : Dphi_array[int((N-Ni)/step)]\n",
      "\n",
      "phi_theory = lambda N : (2./q)**(1./2)*N + phi0"
     ],
     "language": "python",
     "metadata": {},
     "outputs": [],
     "prompt_number": 8
    },
    {
     "cell_type": "code",
     "collapsed": false,
     "input": [
      "#H = [((V(phi_array[i]))/(3 -Dphi_array[i]**2/2))**(1./2) for i in range(len(phi_array))]\n",
      "H = lambda N : (V(phi(N))/(3 -Dphi(N)**2/2))**(1./2)\n",
      "DH = lambda N : H(N)*Dphi(N)\n",
      "\n",
      "H_theory = lambda N : H0*numpy.exp(-N/q)"
     ],
     "language": "python",
     "metadata": {},
     "outputs": [],
     "prompt_number": 9
    },
    {
     "cell_type": "code",
     "collapsed": false,
     "input": [
      "ai = 1e-05\n",
      "\n",
      "eps0 = (3./2)*((dphi0**2)/(dphi0**2/2. + V(phi0)))\n",
      "eps = 1./q \n",
      "\n",
      "eps1 = lambda N : Dphi_array[int((N-Ni)/step)]**2/2.\n",
      "eps1_theory = eps0"
     ],
     "language": "python",
     "metadata": {},
     "outputs": [],
     "prompt_number": 10
    },
    {
     "cell_type": "code",
     "collapsed": false,
     "input": [],
     "language": "python",
     "metadata": {},
     "outputs": [],
     "prompt_number": 10
    },
    {
     "cell_type": "code",
     "collapsed": false,
     "input": [],
     "language": "python",
     "metadata": {},
     "outputs": [],
     "prompt_number": 10
    },
    {
     "cell_type": "code",
     "collapsed": false,
     "input": [
      "#z = [ai*numpy.exp(N_array[i])*Dphi_array[i] for i in range(len(N_array))]\n",
      "z = lambda N: ai*numpy.exp(N)*Dphi(N)\n",
      "A = lambda N : ai*numpy.exp(N)\n",
      "\n",
      "def DDhk(k0, N, hk0, Dhk0):\n",
      "    return -((3. +(DH(N)/H(N)))*Dhk0 +((k0/(A(N)*H(N)))**2)*hk0)\n",
      "\n",
      "def rk4_step(k0, N, hk0, Dhk0, step):\n",
      "    F1 = Dhk0\n",
      "    f1 = DDhk(k0, N, hk0, Dhk0)\n",
      "    F2 = Dhk0 +f1*step/2.\n",
      "    f2 = DDhk(k0, N +step/2., hk0 +F1*step/2., Dhk0 +f1*step/2.)\n",
      "    F3 = Dhk0 +f2*step/2.\n",
      "    f3 = DDhk(k0, N +step/2., hk0 +F2*step/2., Dhk0 +f2*step/2.)\n",
      "    F4 = Dhk0 +f3*step\n",
      "    f4 = DDhk(k0, N +step, hk0 +F3*step, Dhk0 +f3*step)   \n",
      "\n",
      "    return [numpy.array([(f1 +2*f2 +2*f3 +f4)*step/6.], dtype=complex), numpy.array([(F1 +2*F2 +2*F3 +F4)*step/6.], dtype=complex)] # [Dhk, hk] update"
     ],
     "language": "python",
     "metadata": {},
     "outputs": [],
     "prompt_number": 11
    },
    {
     "cell_type": "code",
     "collapsed": false,
     "input": [
      "k_list = numpy.array([10**((-12 + i)/2.) for i in range(13)])\n",
      "Nics_array = []\n",
      "Nshss_array = []\n",
      "\n",
      "for k in k_list:\n",
      "    #temp = numpy.asarray([k/(A(N)*H(N)) for N in N_array])\n",
      "    Nics_temp = numpy.asarray([k - 1e+02*A(N)*H(N) for N in N_array])\n",
      "    Nshss_temp = numpy.asarray([k - 1e-05*A(N)*H(N) for N in N_array])\n",
      "    nics_test = numpy.where(Nics_temp > 0)\n",
      "    nshss_test = numpy.where(Nshss_temp > 0)\n",
      "    Nics_array.append(Ni + nics_test[0][-1]*step)\n",
      "    Nshss_array.append(Ni + nshss_test[0][-1]*step)"
     ],
     "language": "python",
     "metadata": {},
     "outputs": [],
     "prompt_number": 12
    },
    {
     "cell_type": "code",
     "collapsed": false,
     "input": [
      "print Nics_array\n",
      "print Nshss_array"
     ],
     "language": "python",
     "metadata": {},
     "outputs": [
      {
       "output_type": "stream",
       "stream": "stdout",
       "text": [
        "[2.5419125419125419, 3.7162337162337162, 4.8905548905548901, 6.0648760648760645, 7.2391972391972388, 8.413518413518414, 9.5878395878395875, 10.762160762160761, 11.936481936481936, 13.11080311080311, 14.285124285124285, 15.459445459445458, 16.633766633766633]\n",
        "[18.98240898240898, 20.156730156730156, 21.331051331051331, 22.505372505372506, 23.679693679693678, 24.854014854014853, 26.028336028336028, 27.202657202657203, 28.376978376978375, 29.55129955129955, 30.725620725620725, 31.899871899871897, 33.074193074193076]\n"
       ]
      }
     ],
     "prompt_number": 13
    },
    {
     "cell_type": "code",
     "collapsed": false,
     "input": [
      "def calG(hk_array, k0, N_Array):\n",
      "    N_range = numpy.linspace(N_Array[0], N_Array[-1], len(hk_array))\n",
      "    func_int = (A(N_range)/numpy.asarray([H(N) for N in N_range]))*numpy.conj(hk_array)**3\n",
      "    #result = romb(func_int, N_Array[1]-N_Array[0])\n",
      "    result = simps(func_int, N_range)\n",
      "    return (-3.*k0**2/4.)*result*numpy.array([0.+1.j], dtype=complex)\n",
      "\n",
      "def calG_cc(hk_array, k0, N_Array):\n",
      "    N_range = numpy.linspace(N_Array[0], N_Array[-1], len(hk_array))\n",
      "    func_int = (A(N_range)/numpy.asarray([H(N) for N in N_range]))*(hk_array)**3\n",
      "    #result = romb(func_int, N_Array[1]-N_Array[0])\n",
      "    result = simps(func_int, N_range)\n",
      "    return (+3.*k0**2/4.)*result*numpy.array([0.+1.j], dtype=complex)\n",
      "\n",
      "def G(hk_array, N_array, k0, calG_array, calG_cc_array):\n",
      "    term1 = calG(hk_array, k0, N_array)\n",
      "    term2 = calG_cc(hk_array, k0, N_array)\n",
      "    calG_array = numpy.append(calG_array, term1)\n",
      "    calG_cc_array = numpy.append(calG_cc_array, term2)\n",
      "    print 'calG =', term1, 'calG* =', term2\n",
      "    \n",
      "    print 2*(hk_array[-1].real**3)*term1.real\n",
      "    print -6*hk_array[-1].real*(hk_array[-1].imag**2)*term1.real\n",
      "    print -6*(hk_array[-1].real**2)*hk_array[-1].imag*term1.imag\n",
      "    print 2*(hk_array[-1].imag**3)*term1.imag\n",
      "    \n",
      "    print '1st term =', (hk_array[-1]**3)*term1, '2nd term =', (numpy.conj(hk_array[-1])**3)*term2\n",
      "    result = (hk_array[-1]**3)*term1 + (numpy.conj(hk_array[-1])**3)*term2\n",
      "    return result"
     ],
     "language": "python",
     "metadata": {},
     "outputs": [],
     "prompt_number": 14
    },
    {
     "cell_type": "code",
     "collapsed": false,
     "input": [
      "k_min = 1e-6\n",
      "k_max = 10**(0.)\n",
      "\n",
      "print 'lift off!'\n",
      "\n",
      "k_vs_hk = numpy.empty(0,dtype=complex)\n",
      "\n",
      "G_array = numpy.empty(0, dtype=complex)\n",
      "calG_array = numpy.empty(0, dtype=complex)\n",
      "calG_cc_array = numpy.empty(0, dtype=complex)\n",
      "\n",
      "i = 0\n",
      "k0 = k_min\n",
      "\n",
      "while k0 < k_max:\n",
      "    print 'k0 = ', k0\n",
      "\n",
      "    hk_array = numpy.empty(0, dtype=complex)\n",
      "    N_array = numpy.empty(0)\n",
      "    \n",
      "    Nics = Nics_array[i]\n",
      "    Nshss = Nshss_array[i]\n",
      "\n",
      "    hk0 = numpy.zeros(1,dtype=complex)\n",
      "    hk0.real = (((2.*k0)**(1./2))*A(Nics))**(-1.)\n",
      "\n",
      "    Dhk0 = numpy.zeros(1,dtype=complex)\n",
      "    Dhk0.real = -(1/A(Nics))*((2*k0)**(-1./2))\n",
      "    Dhk0.imag = -((k0/2)**(1./2))/(A(Nics)*A(Nics)*H(Nics))\n",
      " \n",
      "    print 'got Nics, hk0 and Dhk0'\n",
      "    print 'starting from Nics'\n",
      "\n",
      "    N = Nics\n",
      "    j = 0\n",
      "    while N < Nshss:\n",
      "        hk_array = numpy.append(hk_array, hk0)\n",
      "        N_array =numpy.append(N_array, N)\n",
      "        #array = euler_step()\n",
      "        array = rk4_step(k0, N, hk0, Dhk0, step)\n",
      "        hk0 = hk0 + array[1]\n",
      "        Dhk0 = Dhk0 + array[0]\n",
      "        N += step\n",
      "        j += 1\n",
      "\n",
      "    k_vs_hk = numpy.append(k_vs_hk, hk0) \n",
      "    print N-step, Nshss, hk0, Dhk0, Nics\n",
      "    print '\\n'\n",
      "    \n",
      "    temp = 8*(k0)**3/(2*numpy.pi**2)*(numpy.absolute(hk0))**2\n",
      "    \n",
      "    another_temp = G(hk_array, N_array, k0, calG_array, calG_cc_array)\n",
      "    G_array = numpy.append(G_array, another_temp)\n",
      "\n",
      "    k0 = 10**(1./2)*k0\n",
      "    i += 1"
     ],
     "language": "python",
     "metadata": {},
     "outputs": [
      {
       "output_type": "stream",
       "stream": "stdout",
       "text": [
        "lift off!\n",
        "k0 =  1e-06\n",
        "got Nics, hk0 and Dhk0\n",
        "starting from Nics\n",
        "18.9824089824"
       ]
      },
      {
       "output_type": "stream",
       "stream": "stdout",
       "text": [
        " 18.9824089824 [[[[[[[[[[[[[[[[[[[[[[[[[[[[[[[[ 31629.98814477+9409.29415616j]]]]]]]]]]]]]]]]]]]]]]]]]]]]]]]]"
       ]
      },
      {
       "output_type": "stream",
       "stream": "stdout",
       "text": [
        " [[[[[[[[[[[[[[[[[[[[[[[[[[[[[[[[ -2.55627485e-06 -7.60442505e-07j]]]]]]]]]]]]]]]]]]]]]]]]]]]]]]]] 2.54191254191\n",
        "\n",
        "\n",
        "calG ="
       ]
      },
      {
       "output_type": "stream",
       "stream": "stdout",
       "text": [
        " [ -6.19356377e+08 -5.25829003e+08j] calG* = [ -6.19356377e+08 +5.25829003e+08j]\n",
        "[ -3.91983419e+22]\n",
        "[  1.04065071e+22]\n",
        "[  2.96996199e+22]\n",
        "[ -8.76083840e+20]\n",
        "1st term = [  1.58506102e+19 -2.91971669e+22j] 2nd term = [  1.58506102e+19 +2.91971669e+22j]\n",
        "k0 =  3.16227766017e-06\n",
        "got Nics, hk0 and Dhk0\n",
        "starting from Nics\n",
        "20.1567301567"
       ]
      },
      {
       "output_type": "stream",
       "stream": "stdout",
       "text": [
        " 20.1567301567 [[[[[[[[[[[[[[[[[[[[[[[[[[[[[[[[ 5496.2077691+1636.67530758j]]]]]]]]]]]]]]]]]]]]]]]]]]]]]]]] [[[[[[[[[[[[[[[[[[[[[[[[[[[[[[[[ -4.44190530e-07 -1.32272482e-07j]]]]]]]]]]]]]]]]]]]]]]]]]]]]]]]] 3.71623371623\n",
        "\n",
        "\n",
        "calG ="
       ]
      },
      {
       "output_type": "stream",
       "stream": "stdout",
       "text": [
        " [ -1.07708266e+08-91289030.2522669j] calG* = [ -1.07708266e+08+91289030.2522669j]\n",
        "[ -3.57658421e+19]\n",
        "[  9.51455512e+18]\n",
        "[  2.70806234e+19]\n",
        "[ -8.00453633e+17]\n",
        "1st term = [  1.44414058e+16 -2.66282067e+19j] 2nd term = [  1.44414058e+16 +2.66282067e+19j]\n",
        "k0 =  1e-05\n",
        "got Nics, hk0 and Dhk0\n",
        "starting from Nics\n",
        "21.331051331"
       ]
      },
      {
       "output_type": "stream",
       "stream": "stdout",
       "text": [
        " 21.3310513311 [[[[[[[[[[[[[[[[[[[[[[[[[[[[[[[[ 955.0524323+284.68697824j]]]]]]]]]]]]]]]]]]]]]]]]]]]]]]]] [[[[[[[[[[[[[[[[[[[[[[[[[[[[[[[[ -7.71846615e-08 -2.30076472e-08j]]]]]]]]]]]]]]]]]]]]]]]]]]]]]]]] 4.89055489055\n",
        "\n",
        "\n",
        "calG ="
       ]
      },
      {
       "output_type": "stream",
       "stream": "stdout",
       "text": [
        " [-18730825.99193538-15848636.99305297j] calG* = [-18730825.99193538+15848636.99305297j]\n",
        "[ -3.26338693e+16]\n",
        "[  8.69902542e+15]\n",
        "[  2.46925079e+16]\n",
        "[ -7.31349084e+14]\n",
        "1st term = [  1.31574617e+13 -2.42852799e+16j] 2nd term = [  1.31574617e+13 +2.42852799e+16j]\n",
        "k0 =  3.16227766017e-05\n",
        "got Nics, hk0 and Dhk0\n",
        "starting from Nics\n",
        "22.5053725054"
       ]
      },
      {
       "output_type": "stream",
       "stream": "stdout",
       "text": [
        " 22.5053725054 [[[[[[[[[[[[[[[[[[[[[[[[[[[[[[[[ 165.95534891+49.51904527j]]]]]]]]]]]]]]]]]]]]]]]]]]]]]]]] [[[[[[[[[[[[[[[[[[[[[[[[[[[[[[[[ -1.34119733e-08 -4.00197623e-09j]]]]]]]]]]]]]]]]]]]]]]]]]]]]]]]] 6.06487606488\n",
        "\n",
        "\n",
        "calG ="
       ]
      },
      {
       "output_type": "stream",
       "stream": "stdout",
       "text": [
        " [-3257349.1426374-2751468.40710054j] calG* = [-3257349.1426374+2751468.40710054j]\n",
        "[ -2.97761176e+13]\n",
        "[  7.95337285e+12]\n",
        "[  2.25149275e+13]\n",
        "[ -6.68207452e+11]\n",
        "1st term = [  1.19876512e+10 -2.21485001e+13j] 2nd term = [  1.19876512e+10 +2.21485001e+13j]\n",
        "k0 =  0.0001\n",
        "got Nics, hk0 and Dhk0\n",
        "starting from Nics\n",
        "23.6796936797"
       ]
      },
      {
       "output_type": "stream",
       "stream": "stdout",
       "text": [
        " 23.6796936797 [[[[[[[[[[[[[[[[[[[[[[[[[[[[[[[[ 28.837344+8.61343761j]]]]]]]]]]]]]]]]]]]]]]]]]]]]]]]] [[[[[[[[[[[[[[[[[[[[[[[[[[[[[[[[ -2.33052796e-09 -6.96107621e-10j]]]]]]]]]]]]]]]]]]]]]]]]]]]]]]]] 7.2391972392\n",
        "\n",
        "\n",
        "calG ="
       ]
      },
      {
       "output_type": "stream",
       "stream": "stdout",
       "text": [
        " [-566462.51407199-477679.29630572j] calG* = [-566462.51407199+477679.29630572j]\n",
        "[ -2.71685803e+10]\n",
        "[  7.27161218e+09]\n",
        "[  2.05293263e+10]\n",
        "[ -6.10514454e+08]\n",
        "1st term = [ 10921828.33155427 -2.01997284e+10j] 2nd term = [ 10921828.33155427 +2.01997284e+10j]\n",
        "k0 =  0.000316227766017\n",
        "got Nics, hk0 and Dhk0\n",
        "starting from Nics\n",
        "24.854014854"
       ]
      },
      {
       "output_type": "stream",
       "stream": "stdout",
       "text": [
        " 24.854014854 [[[[[[[[[[[[[[[[[[[[[[[[[[[[[[[[ 5.0109405+1.49823639j]]]]]]]]]]]]]]]]]]]]]]]]]]]]]]]] [[[[[[[[[[[[[[[[[[[[[[[[[[[[[[[[ -4.04963555e-10 -1.21081517e-10j]]]]]]]]]]]]]]]]]]]]]]]]]]]]]]]] 8.41351841352\n",
        "\n",
        "\n",
        "calG ="
       ]
      },
      {
       "output_type": "stream",
       "stream": "stdout",
       "text": [
        " [-98509.37344986-82929.23606275j] calG* = [-98509.37344986+82929.23606275j]\n",
        "[-24789358.61064376]\n",
        "[ 6648271.35982208]\n",
        "[ 18718789.00849174]\n",
        "[-557800.2275105]\n",
        "1st term = [ 9950.76507978-18422427.28356361j] 2nd term = [ 9950.76507978+18422427.28356361j]\n",
        "k0 =  0.001\n",
        "got Nics, hk0 and Dhk0\n",
        "starting from Nics\n",
        "26.0283360283"
       ]
      },
      {
       "output_type": "stream",
       "stream": "stdout",
       "text": [
        " 26.0283360283 [[[[[[[[[[[[[[[[[[[[[[[[[[[[[[[[ 0.87072932+0.26060562j]]]]]]]]]]]]]]]]]]]]]]]]]]]]]]]] [[[[[[[[[[[[[[[[[[[[[[[[[[[[[[[[ -7.03683709e-11 -2.10609968e-11j]]]]]]]]]]]]]]]]]]]]]]]]]]]]]]]] 9.58783958784\n",
        "\n",
        "\n",
        "calG ="
       ]
      },
      {
       "output_type": "stream",
       "stream": "stdout",
       "text": [
        " [-17131.02590498-14397.20071048j] calG* = [-17131.02590498+14397.20071048j]\n",
        "[-22618.45143822]\n",
        "[ 6078.34493938]\n",
        "[ 17067.87367031]\n",
        "[-509.63516241]\n",
        "1st term = [ 9.06600453-16801.49821705j] 2nd term = [ 9.06600453+16801.49821705j]\n",
        "k0 =  0.00316227766017\n",
        "got Nics, hk0 and Dhk0\n",
        "starting from Nics\n",
        "27.2026572026"
       ]
      },
      {
       "output_type": "stream",
       "stream": "stdout",
       "text": [
        " 27.2026572027 [[[[[[[[[[[[[[[[[[[[[[[[[[[[[[[[ 0.15130283+0.04533011j]]]]]]]]]]]]]]]]]]]]]]]]]]]]]]]]"
       ]
      },
      {
       "output_type": "stream",
       "stream": "stdout",
       "text": [
        " [[[[[[[[[[[[[[[[[[[[[[[[[[[[[[[[ -1.22275376e-11 -3.66335986e-12j]]]]]]]]]]]]]]]]]]]]]]]]]]]]]]]] 10.7621607622\n",
        "\n",
        "\n",
        "calG ="
       ]
      },
      {
       "output_type": "stream",
       "stream": "stdout",
       "text": [
        " [-2979.12449597-2499.4686332j] calG* = [-2979.12449597+2499.4686332j]\n",
        "[-20.63762778]\n",
        "[ 5.55725787]\n",
        "[ 15.56251662]\n",
        "[-0.46562693]\n",
        "1st term = [ 0.00825989-15.32318767j] 2nd term = [ 0.00825989+15.32318767j]\n",
        "k0 =  0.01\n",
        "got Nics, hk0 and Dhk0\n",
        "starting from Nics\n",
        "28.376978377"
       ]
      },
      {
       "output_type": "stream",
       "stream": "stdout",
       "text": [
        " 28.376978377 [[[[[[[[[[[[[[[[[[[[[[[[[[[[[[[[ 0.02629123+0.00788478j]]]]]]]]]]]]]]]]]]]]]]]]]]]]]]]] [[[[[[[[[[[[[[[[[[[[[[[[[[[[[[[[ -2.12471420e-12 -6.37205952e-13j]]]]]]]]]]]]]]]]]]]]]]]]]]]]]]]] 11.9364819365\n",
        "\n",
        "\n",
        "calG ="
       ]
      },
      {
       "output_type": "stream",
       "stream": "stdout",
       "text": [
        " [-518.07601427-433.92706853j] calG* = [-518.07601427+433.92706853j]\n",
        "[-0.01883026]\n",
        "[ 0.00508083]\n",
        "[ 0.0141899]\n",
        "[-0.00042542]\n",
        "1st term = [  7.52546208e-06-0.01397496j] 2nd term = [  7.52546208e-06+0.01397496j]\n",
        "k0 =  0.0316227766017\n",
        "got Nics, hk0 and Dhk0\n",
        "starting from Nics\n",
        "29.5512995513"
       ]
      },
      {
       "output_type": "stream",
       "stream": "stdout",
       "text": [
        " 29.5512995513 [[[[[[[[[[[[[[[[[[[[[[[[[[[[[[[[ 0.00456851+0.00137149j]]]]]]]]]]]]]]]]]]]]]]]]]]]]]]]]"
       ]
      },
      {
       "output_type": "stream",
       "stream": "stdout",
       "text": [
        " [[[[[[[[[[[[[[[[[[[[[[[[[[[[[[[[ -3.69200225e-13 -1.10835700e-13j]]]]]]]]]]]]]]]]]]]]]]]]]]]]]]]] 13.1108031108\n",
        "\n",
        "\n",
        "calG ="
       ]
      },
      {
       "output_type": "stream",
       "stream": "stdout",
       "text": [
        " [-90.09438744-75.33293861j] calG* = [-90.09438744+75.33293861j]\n",
        "[ -1.71811368e-05]\n",
        "[  4.64522709e-06]\n",
        "[  1.29383002e-05]\n",
        "[ -3.88677828e-07]\n",
        "1st term = [  6.85630355e-09 -1.27453434e-05j] 2nd term = [  6.85630355e-09 +1.27453434e-05j]\n",
        "k0 =  0.1\n",
        "got Nics, hk0 and Dhk0\n",
        "starting from Nics\n",
        "30.7256207256"
       ]
      },
      {
       "output_type": "stream",
       "stream": "stdout",
       "text": [
        " 30.7256207256 [[[[[[[[[[[[[[[[[[[[[[[[[[[[[[[[ 0.00079385+0.00023856j]]]]]]]]]]]]]]]]]]]]]]]]]]]]]]]]"
       ]
      },
      {
       "output_type": "stream",
       "stream": "stdout",
       "text": [
        " [[[[[[[[[[[[[[[[[[[[[[[[[[[[[[[[ -6.41539494e-14 -1.92787600e-14j]]]]]]]]]]]]]]]]]]]]]]]]]]]]]]]] 14.2851242851\n",
        "\n",
        "\n",
        "calG ="
       ]
      },
      {
       "output_type": "stream",
       "stream": "stdout",
       "text": [
        " [-15.66756635-13.07833624j] calG* = [-15.66756635+13.07833624j]\n",
        "[ -1.56764282e-08]\n",
        "[  4.24695975e-09]\n",
        "[  1.17970716e-08]\n",
        "[ -3.55109862e-10]\n",
        "1st term = [  6.24665317e-12 -1.16239267e-08j] 2nd term = [  6.24665317e-12 +1.16239267e-08j]\n",
        "k0 =  0.316227766017\n",
        "got Nics, hk0 and Dhk0\n",
        "starting from Nics\n",
        "31.8998718999"
       ]
      },
      {
       "output_type": "stream",
       "stream": "stdout",
       "text": [
        " 31.8998718999 [[[[[[[[[[[[[[[[[[[[[[[[[[[[[[[[ 0.00013794 +4.14949087e-05j]]]]]]]]]]]]]]]]]]]]]]]]]]]]]]]]"
       ]
      },
      {
       "output_type": "stream",
       "stream": "stdout",
       "text": [
        " [[[[[[[[[[[[[[[[[[[[[[[[[[[[[[[[ -1.11492171e-14 -3.35380448e-15j]]]]]]]]]]]]]]]]]]]]]]]]]]]]]]]] 15.4594454594\n",
        "\n",
        "\n",
        "calG ="
       ]
      },
      {
       "output_type": "stream",
       "stream": "stdout",
       "text": [
        " [-2.72441798-2.27032588j] calG* = [-2.72441798+2.27032588j]\n",
        "[ -1.43024520e-11]\n",
        "[  3.88254833e-12]\n",
        "[  1.07557024e-11]\n",
        "[ -3.24416277e-13]\n",
        "1st term = [  5.69118304e-15 -1.06004171e-11j] 2nd term = [  5.69118304e-15 +1.06004171e-11j]\n"
       ]
      }
     ],
     "prompt_number": 15
    },
    {
     "cell_type": "code",
     "collapsed": false,
     "input": [
      "k_list = numpy.array([10**((-12 + i)/2.) for i in range(12)])\n",
      "#print len(k_list), len(k_vs_hkhk)\n",
      "TPS = [8*(k_list[i])**3/(2*numpy.pi**2)*(numpy.absolute(k_vs_hk[i]))**2 for i in range(len(k_list))]\n",
      "print k_list, TPS\n",
      "\n",
      "plt.loglog(k_list, TPS)\n",
      "#plt.savefig('power_spectrum_power_law.png')"
     ],
     "language": "python",
     "metadata": {},
     "outputs": [
      {
       "output_type": "stream",
       "stream": "stdout",
       "text": [
        "[  1.00000000e-06   3.16227766e-06   1.00000000e-05   3.16227766e-05\n",
        "   1.00000000e-04   3.16227766e-04   1.00000000e-03   3.16227766e-03\n",
        "   1.00000000e-02   3.16227766e-02   1.00000000e-01   3.16227766e-01] [4.4135141482876351e-10, 4.2148738633120889e-10, 4.0251737907653999e-10, 3.8440116519481159e-10, 3.6710031299699405e-10, 3.5057815486823069e-10, 3.347995715252169e-10, 3.1973112793584968e-10, 3.05340922721895e-10, 2.9159833448882723e-10, 2.7847430857286492e-10, 2.6594091625613565e-10]\n"
       ]
      },
      {
       "metadata": {},
       "output_type": "pyout",
       "prompt_number": 16,
       "text": [
        "[<matplotlib.lines.Line2D at 0xaca72a4c>]"
       ]
      },
      {
       "metadata": {},
       "output_type": "display_data",
       "png": "[encoded data removed]",
       "text": [
        "<matplotlib.figure.Figure at 0xac953bac>"
       ]
      }
     ],
     "prompt_number": 16
    },
    {
     "cell_type": "code",
     "collapsed": false,
     "input": [
      "calG_array = numpy.array([ -6.08581623e+08 -5.38030260e+08j, -1.05856925e+08-93389839.50443056j,-18413885.99859421-16208939.26440895j,-3203364.81995761-2812979.47120421j,-557293.72854343-488144.71633945j,-96964.87485232-84694.97654026j,-16868.08354141-14698.34301136j,-2934.37733371-2550.80743039j,-510.46391768-442.67551198j,-88.79958388-76.82297033j,-15.44712404-13.33239017j,-2.68691879-2.31401922j], dtype=complex)"
     ],
     "language": "python",
     "metadata": {},
     "outputs": [],
     "prompt_number": 21
    },
    {
     "cell_type": "code",
     "collapsed": false,
     "input": [
      "plt.loglog(k_list, numpy.absolute(calG_array))"
     ],
     "language": "python",
     "metadata": {},
     "outputs": [
      {
       "metadata": {},
       "output_type": "pyout",
       "prompt_number": 22,
       "text": [
        "[<matplotlib.lines.Line2D at 0xada2754c>]"
       ]
      },
      {
       "metadata": {},
       "output_type": "display_data",
       "png": "[encoded data removed]",
       "text": [
        "<matplotlib.figure.Figure at 0xada3daec>"
       ]
      }
     ],
     "prompt_number": 22
    },
    {
     "cell_type": "code",
     "collapsed": false,
     "input": [
      "plt.loglog(k_list, (k_list**(3./2))*numpy.absolute(calG_array))"
     ],
     "language": "python",
     "metadata": {},
     "outputs": [
      {
       "metadata": {},
       "output_type": "pyout",
       "prompt_number": 23,
       "text": [
        "[<matplotlib.lines.Line2D at 0xad45104c>]"
       ]
      },
      {
       "metadata": {},
       "output_type": "display_data",
       "png": "[encoded data removed]",
       "text": [
        "<matplotlib.figure.Figure at 0xad63e44c>"
       ]
      }
     ],
     "prompt_number": 23
    },
    {
     "cell_type": "code",
     "collapsed": false,
     "input": [
      "plt.loglog(k_list, G_array.real)\n",
      "plt.title(r\"$k$ vs $G$ in the equilateral limit\")\n",
      "plt.xlabel(r\"$k$\")\n",
      "plt.ylabel(r\"$G$\")\n",
      "plt.savefig(\"G_equilateral_lt.png\")"
     ],
     "language": "python",
     "metadata": {},
     "outputs": [
      {
       "metadata": {},
       "output_type": "display_data",
       "png": "[encoded data removed]",
       "text": [
        "<matplotlib.figure.Figure at 0xac308dcc>"
       ]
      }
     ],
     "prompt_number": 17
    },
    {
     "cell_type": "code",
     "collapsed": false,
     "input": [
      "plt.loglog(k_list, (k_list**6)*G_array.real)\n",
      "plt.title(r\"$k$ vs $k^6*G$ in the equilateral limit\")\n",
      "plt.xlabel(r\"$k$\")\n",
      "plt.ylabel(r\"$k^6*G$\")\n",
      "plt.savefig(\"k6G_equilateral_lt.png\")"
     ],
     "language": "python",
     "metadata": {},
     "outputs": [
      {
       "metadata": {},
       "output_type": "display_data",
       "png": "[encoded data removed]",
       "text": [
        "<matplotlib.figure.Figure at 0xac0613ec>"
       ]
      }
     ],
     "prompt_number": 18
    },
    {
     "cell_type": "code",
     "collapsed": false,
     "input": [
      "h_NL = (-1./6)*((4./(2.*numpy.pi**2))**2)*(k_list**6)*G_array/TPS"
     ],
     "language": "python",
     "metadata": {},
     "outputs": [],
     "prompt_number": 19
    },
    {
     "cell_type": "code",
     "collapsed": false,
     "input": [
      "plt.semilogx(k_list, h_NL.real)\n",
      "plt.title(r\"$k$ vs $h_{NL}$ in the equilateral limit\")\n",
      "plt.xlabel(r\"$k$\")\n",
      "plt.ylabel(r\"$h_{NL}$\")\n",
      "plt.savefig(\"h_NL_equilateral_lt.png\")"
     ],
     "language": "python",
     "metadata": {},
     "outputs": [
      {
       "metadata": {},
       "output_type": "display_data",
       "png": "[encoded data removed]",
       "text": [
        "<matplotlib.figure.Figure at 0xaca9456c>"
       ]
      }
     ],
     "prompt_number": 20
    },
    {
     "cell_type": "code",
     "collapsed": false,
     "input": [
      "print k_list, '\\n', TPS, '\\n', calG_array,'\\n',G_array, '\\n', h_NL"
     ],
     "language": "python",
     "metadata": {},
     "outputs": [
      {
       "output_type": "stream",
       "stream": "stdout",
       "text": [
        "[  1.00000000e-06   3.16227766e-06   1.00000000e-05   3.16227766e-05\n",
        "   1.00000000e-04   3.16227766e-04   1.00000000e-03   3.16227766e-03\n",
        "   1.00000000e-02   3.16227766e-02   1.00000000e-01   3.16227766e-01\n",
        "   1.00000000e+00] \n",
        "[4.4134926313267251e-10, 4.2148610300293617e-10, 4.0251620278274973e-10, 3.8440126302237239e-10, 3.6710031529231582e-10, 3.5057782617922565e-10, 3.3479929115996324e-10, 3.1973089857898339e-10, 3.0534066887441402e-10, 2.9159740412853552e-10, 2.7847305495189162e-10, 2.6594020294984701e-10, 2.5397098422575646e-10] \n",
        "[ -6.08581623e+08 -5.38030260e+08j  -1.05856925e+08 -9.33898395e+07j\n",
        "  -1.84138860e+07 -1.62089393e+07j  -3.20336482e+06 -2.81297947e+06j\n",
        "  -5.57293729e+05 -4.88144716e+05j  -9.69648749e+04 -8.46949765e+04j\n",
        "  -1.68680835e+04 -1.46983430e+04j  -2.93437733e+03 -2.55080743e+03j\n",
        "  -5.10463918e+02 -4.42675512e+02j  -8.87995839e+01 -7.68229703e+01j\n",
        "  -1.54471240e+01 -1.33323902e+01j  -2.68691879e+00 -2.31401922e+00j\n",
        "  -4.67352740e-01 -4.01646130e-01j] \n",
        "[  3.24592911e+19+0.j   2.95677823e+16+0.j   2.69315348e+13+0.j\n",
        "   2.45277941e+10+0.j   2.23370409e+07+0.j   2.03384254e+04+0.j\n",
        "   1.85230936e+01+0.j   1.68697327e-02+0.j   1.53638963e-05+0.j\n",
        "   1.39924025e-08+0.j   1.27436777e-11+0.j   1.16075237e-14+0.j\n",
        "   1.05731361e-17+0.j] \n",
        "[ -5.03345135e-10+0.j  -4.80114412e-10+0.j  -4.57917233e-10+0.j\n",
        "  -4.36699742e-10+0.j  -4.16437789e-10+0.j  -3.97047195e-10+0.j\n",
        "  -3.78650245e-10+0.j  -3.61104453e-10+0.j  -3.44370519e-10+0.j\n",
        "  -3.28411143e-10+0.j  -3.13199348e-10+0.j  -2.98720366e-10+0.j\n",
        "  -2.84923958e-10+0.j]"
       ]
      },
      {
       "output_type": "stream",
       "stream": "stdout",
       "text": [
        "\n"
       ]
      }
     ],
     "prompt_number": 41
    },
    {
     "cell_type": "code",
     "collapsed": false,
     "input": [
      "k_list = numpy.array([  1.00000000e-06,   3.16227766e-06,   1.00000000e-05,   3.16227766e-05,\n",
      "   1.00000000e-04,   3.16227766e-04,   1.00000000e-03,   3.16227766e-03,\n",
      "   1.00000000e-02,   3.16227766e-02,   1.00000000e-01,   3.16227766e-01,\n",
      "   1.00000000e+00])\n",
      "TPS = numpy.array([4.4134926313267251e-10, 4.2148610300293617e-10, 4.0251620278274973e-10, 3.8440126302237239e-10, 3.6710031529231582e-10, 3.5057782617922565e-10, 3.3479929115996324e-10, 3.1973089857898339e-10, 3.0534066887441402e-10, 2.9159740412853552e-10, 2.7847305495189162e-10, 2.6594020294984701e-10, 2.5397098422575646e-10])\n",
      "G_array = numpy.array([  3.24592911e+19+0.j,   2.95677823e+16+0.j,   2.69315348e+13+0.j,\n",
      "   2.45277941e+10+0.j,   2.23370409e+07+0.j,   2.03384254e+04+0.j,\n",
      "   1.85230936e+01+0.j,   1.68697327e-02+0.j,   1.53638963e-05+0.j,\n",
      "   1.39924025e-08+0.j,   1.27436777e-11+0.j,   1.16075237e-14+0.j,\n",
      "   1.05731361e-17+0.j])"
     ],
     "language": "python",
     "metadata": {},
     "outputs": [],
     "prompt_number": 3
    },
    {
     "cell_type": "code",
     "collapsed": false,
     "input": [
      "h_NL = (-1./3)*(4.**2/(2.*numpy.pi)**(1./2))*(k_list**3)*G_array/TPS"
     ],
     "language": "python",
     "metadata": {},
     "outputs": [],
     "prompt_number": 4
    },
    {
     "cell_type": "code",
     "collapsed": false,
     "input": [
      "plt.semilogx(k_list[3:], numpy.real(h_NL[3:]))"
     ],
     "language": "python",
     "metadata": {},
     "outputs": [
      {
       "metadata": {},
       "output_type": "pyout",
       "prompt_number": 8,
       "text": [
        "[<matplotlib.lines.Line2D at 0xaf0c14cc>]"
       ]
      },
      {
       "metadata": {},
       "output_type": "display_data",
       "png": "[encoded data removed]",
       "text": [
        "<matplotlib.figure.Figure at 0xaed5558c>"
       ]
      }
     ],
     "prompt_number": 8
    },
    {
     "cell_type": "code",
     "collapsed": false,
     "input": [],
     "language": "python",
     "metadata": {},
     "outputs": []
    }
   ],
   "metadata": {}
  }
 ]
}