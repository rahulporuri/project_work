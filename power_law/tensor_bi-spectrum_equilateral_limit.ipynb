{
 "metadata": {
  "name": "",
  "signature": "sha256:20147e18131aa6aa404f0cb1b0ac39ddcde5b9d7af0658e4008960dcab8ecc2d"
 },
 "nbformat": 3,
 "nbformat_minor": 0,
 "worksheets": [
  {
   "cells": [
    {
     "cell_type": "code",
     "collapsed": false,
     "input": [
      "import numpy\n",
      "import matplotlib.pyplot as plt\n",
      "import scipy.optimize as opt\n",
      "from scipy.integrate import romb, simps\n",
      "%matplotlib inline\n",
      "\n",
      "import time\n",
      "import multiprocessing as mp\n",
      "import random\n",
      "import string"
     ],
     "language": "python",
     "metadata": {},
     "outputs": [],
     "prompt_number": 1
    },
    {
     "cell_type": "code",
     "collapsed": false,
     "input": [
      "parallel_output = mp.Queue()"
     ],
     "language": "python",
     "metadata": {},
     "outputs": [],
     "prompt_number": 2
    },
    {
     "cell_type": "code",
     "collapsed": false,
     "input": [
      "q = 51.\n",
      "V0 = (204./100.)*1e-08\n",
      "t0 = (q*(3.*q -1.)/V0)**(1./2)\n",
      "\n",
      "phi0 = 1.\n",
      "dphi0 = (2.*q)**(1./2)/t0\n",
      "\n",
      "Ni = 0.\n",
      "Nf = 70."
     ],
     "language": "python",
     "metadata": {},
     "outputs": [],
     "prompt_number": 3
    },
    {
     "cell_type": "code",
     "collapsed": false,
     "input": [
      "V = lambda phi : V0*numpy.exp(-(2./q)**(1./2)*(phi -phi0))\n",
      "dV = lambda phi : -(2./q)**(1./2)*V0*numpy.exp(-(2./q)**(1./2)*(phi -phi0))\n",
      "\n",
      "H0 = ((1./3)*(dphi0**2/2. +V(phi0)))**(1./2.)\n",
      "Dphi0 = dphi0/H0\n",
      "\n",
      "def DDphi(N, phi0, Dphi0):\n",
      "    return -(3 -Dphi0**2/2.)*Dphi0 -(dV(phi0)/(2*V(phi0)))*(6 -Dphi0**2)\n",
      "\n",
      "def rk4_step(N, phi0, Dphi0, step):\n",
      "    F1 = Dphi0\n",
      "    f1 = DDphi(N, phi0, Dphi0)\n",
      "    F2 = Dphi0 +f1*step/2.\n",
      "    f2 = DDphi(N +step/2., phi0 +F1*step/2., Dphi0 +f1*step/2.)\n",
      "    F3 = Dphi0 +f2*step/2.\n",
      "    f3 = DDphi(N +step/2., phi0 +F2*step/2., Dphi0 +f2*step/2.)\n",
      "    F4 = Dphi0 +f3*step\n",
      "    f4 = DDphi(N +step, phi0 +F3*step, Dphi0 +f3*step)  \n",
      "\n",
      "    return [(f1 +2*f2 +2*f3 +f4)*step/6, (F1 +2*F2 +2*F3 +F4)*step/6.] # [Dhk, hk] update"
     ],
     "language": "python",
     "metadata": {},
     "outputs": [],
     "prompt_number": 4
    },
    {
     "cell_type": "code",
     "collapsed": false,
     "input": [
      "npts = 500000\n",
      "step = (Nf-Ni)/(npts)\n",
      "\n",
      "phi_temp = phi0\n",
      "Dphi_temp = Dphi0\n",
      "\n",
      "phi_array = numpy.array([phi_temp])\n",
      "Dphi_array = numpy.array([Dphi_temp])\n",
      "N_array = numpy.array([Ni]) \n",
      "\n",
      "N = Ni\n",
      "print N, phi_temp, Dphi_temp\n",
      "while N < Nf:\n",
      "    array = rk4_step(N, phi_temp, Dphi_temp, step)\n",
      "    phi_temp = phi_temp + array[1]\n",
      "    Dphi_temp = Dphi_temp + array[0]\n",
      "    phi_array = numpy.append(phi_array,phi_temp)\n",
      "    Dphi_array = numpy.append(Dphi_array,Dphi_temp)\n",
      "    N += step\n",
      "    N_array = numpy.append(N_array,N)\n",
      "\n",
      "print N, phi_temp, Dphi_temp"
     ],
     "language": "python",
     "metadata": {},
     "outputs": [
      {
       "output_type": "stream",
       "stream": "stderr",
       "text": [
        "\n",
        "KeyboardInterrupt\n"
       ]
      }
     ],
     "prompt_number": 5
    },
    {
     "cell_type": "markdown",
     "metadata": {},
     "source": [
      "N_new = numpy.linspace(Ni,Nf,1000000)\n",
      "phi_array_new = numpy.interp(N_new, N_array, phi_array)\n",
      "Dphi_array_new = numpy.interp(N_new, N_array, Dphi_array)"
     ]
    },
    {
     "cell_type": "markdown",
     "metadata": {},
     "source": [
      "plt.cla()\n",
      "plt.hold(True)\n",
      "plt.plot(N_array, phi_array, 'o')\n",
      "plt.plot(N_new, phi_array_new, '-')"
     ]
    },
    {
     "cell_type": "markdown",
     "metadata": {},
     "source": [
      "phi_array = phi_array_new\n",
      "Dphi_array = Dphi_array_new\n",
      "N_array = N_new\n",
      "step = (N_array[1]-N_array[0])"
     ]
    },
    {
     "cell_type": "code",
     "collapsed": false,
     "input": [
      "phi = lambda N : phi_array[int((N-Ni)/step)]\n",
      "Dphi = lambda N : Dphi_array[int((N-Ni)/step)]\n",
      "\n",
      "phi_theory = lambda N : (2./q)**(1./2)*N + phi0"
     ],
     "language": "python",
     "metadata": {},
     "outputs": [],
     "prompt_number": 6
    },
    {
     "cell_type": "code",
     "collapsed": false,
     "input": [
      "H = lambda N : (V(phi(N))/(3 -Dphi(N)**2/2))**(1./2)\n",
      "DH = lambda N : H(N)*Dphi(N)\n",
      "\n",
      "H_theory = lambda N : H0*numpy.exp(-N/q)"
     ],
     "language": "python",
     "metadata": {},
     "outputs": [],
     "prompt_number": 7
    },
    {
     "cell_type": "code",
     "collapsed": false,
     "input": [
      "ai = 1e-05\n",
      "\n",
      "eps0 = (3./2)*((dphi0**2)/(dphi0**2/2. + V(phi0)))\n",
      "eps = 1./q \n",
      "\n",
      "eps1 = lambda N : Dphi_array[int((N-Ni)/step)]**2/2.\n",
      "eps1_theory = eps0"
     ],
     "language": "python",
     "metadata": {},
     "outputs": [],
     "prompt_number": 8
    },
    {
     "cell_type": "code",
     "collapsed": false,
     "input": [
      "def calG(hk_array, k0, N_Array):\n",
      "    N_range = numpy.linspace(N_Array[0], N_Array[-1], len(hk_array))\n",
      "    func_int = (A(N_range)/numpy.asarray([H(N) for N in N_range]))*numpy.conj(hk_array)**3\n",
      "    result = simps(func_int, N_range)\n",
      "    return (-3.*k0**2/4.)*result*numpy.array([0.+1.j], dtype=complex)\n",
      "\n",
      "def calG_cc(hk_array, k0, N_Array):\n",
      "    N_range = numpy.linspace(N_Array[0], N_Array[-1], len(hk_array))\n",
      "    func_int = (A(N_range)/numpy.asarray([H(N) for N in N_range]))*(hk_array)**3\n",
      "    result = simps(func_int, N_range)\n",
      "    return (+3.*k0**2/4.)*result*numpy.array([0.+1.j], dtype=complex)\n",
      "\n",
      "def G(hk_array, N_array, k0, calG_array, calG_cc_array):\n",
      "    term1 = calG(hk_array, k0, N_array)\n",
      "    term2 = calG_cc(hk_array, k0, N_array)\n",
      "    calG_array = numpy.append(calG_array, term1)\n",
      "    calG_cc_array = numpy.append(calG_cc_array, term2)\n",
      "    print 'calG =', term1, 'calG* =', term2\n",
      "\n",
      "    result = (hk_array[-1]**3)*term1 + (numpy.conj(hk_array[-1])**3)*term2\n",
      "    return result"
     ],
     "language": "python",
     "metadata": {},
     "outputs": [],
     "prompt_number": 9
    },
    {
     "cell_type": "code",
     "collapsed": false,
     "input": [
      "z = lambda N: ai*numpy.exp(N)*Dphi(N)\n",
      "A = lambda N : ai*numpy.exp(N)\n",
      "\n",
      "def DDhk(k0, N, hk0, Dhk0):\n",
      "    return -((3. +(DH(N)/H(N)))*Dhk0 +((k0/(A(N)*H(N)))**2)*hk0)\n",
      "\n",
      "def rk4_step(k0, N, hk0, Dhk0, step):\n",
      "    F1 = Dhk0\n",
      "    f1 = DDhk(k0, N, hk0, Dhk0)\n",
      "    F2 = Dhk0 +f1*step/2.\n",
      "    f2 = DDhk(k0, N +step/2., hk0 +F1*step/2., Dhk0 +f1*step/2.)\n",
      "    F3 = Dhk0 +f2*step/2.\n",
      "    f3 = DDhk(k0, N +step/2., hk0 +F2*step/2., Dhk0 +f2*step/2.)\n",
      "    F4 = Dhk0 +f3*step\n",
      "    f4 = DDhk(k0, N +step, hk0 +F3*step, Dhk0 +f3*step)   \n",
      "\n",
      "    return [numpy.array([(f1 +2*f2 +2*f3 +f4)*step/6.], dtype=complex), numpy.array([(F1 +2*F2 +2*F3 +F4)*step/6.], dtype=complex)] # [Dhk, hk] update"
     ],
     "language": "python",
     "metadata": {},
     "outputs": [],
     "prompt_number": 10
    },
    {
     "cell_type": "code",
     "collapsed": false,
     "input": [
      "def solve_Nics(k0, N_array):\n",
      "    Nics_temp = numpy.asarray([k0 - 1e+02*A(N)*H(N) for N in N_array])\n",
      "    nics_test = numpy.where(Nics_temp > 0)\n",
      "\n",
      "    return Ni + nics_test[0][-1]*step\n",
      "\n",
      "def solve_Nshss(k0, N_array):\n",
      "    Nshss_temp = numpy.asarray([k0 - 1e-05*A(N)*H(N) for N in N_array])\n",
      "    nshss_test = numpy.where(Nshss_temp > 0)\n",
      "\n",
      "    return Ni + nshss_test[0][-1]*step\n",
      "\n",
      "def initialize(Nics, k0):\n",
      "    hk0 = numpy.zeros(1,dtype=complex)\n",
      "    hk0.real = (((2.*k0)**(1./2))*A(Nics))**(-1.)\n",
      "\n",
      "    Dhk0 = numpy.zeros(1,dtype=complex)\n",
      "    Dhk0.real = -(Nics/A(Nics))*((2*k0)**(-1./2))\n",
      "    Dhk0.imag = -Nics*((k0/2)**(1./2))/(A(Nics)*A(Nics)*H(Nics))\n",
      "    \n",
      "    return [hk0, Dhk0]\n",
      "\n",
      "def evolve_hk(Nics, Nshss, k0, hk0, Dhk0, step):\n",
      "    N = Nics\n",
      "    while N < Nshss:\n",
      "        array = rk4_step(k0, N, hk0, Dhk0, step)\n",
      "        hk0 = hk0 + array[1]\n",
      "        Dhk0 = Dhk0 + array[0]\n",
      "        N += step\n",
      "        \n",
      "    return hk0"
     ],
     "language": "python",
     "metadata": {},
     "outputs": [],
     "prompt_number": 11
    },
    {
     "cell_type": "code",
     "collapsed": false,
     "input": [
      "def main(k0):\n",
      "    \n",
      "    Nics = solve_Nics(k0, N_array)\n",
      "    Nshss = solve_Nshss(k0, N_array)\n",
      "    \n",
      "    temp_array = initialize(Nics, k0)\n",
      "    hk0 = temp_array[0]\n",
      "    Dhk0 = temp_array[1]\n",
      "    \n",
      "    hk0 = evolve_hk(Nics, Nshss, k0, hk0, Dhk0, step)\n",
      "    tps = 8*(k0)**3/(2*numpy.pi**2)*(numpy.absolute(hk0))**2\n",
      "    \n",
      "    print k0, Nics, Nshss, str(numpy.absolute(hk0)).strip('[]'), str(tps).strip('[]')\n",
      "    \n",
      "    return str(tps).strip('[]')"
     ],
     "language": "python",
     "metadata": {},
     "outputs": [],
     "prompt_number": 12
    },
    {
     "cell_type": "code",
     "collapsed": false,
     "input": [
      "k_list = numpy.array([10**((-12. + i)/2.) for i in range(13)])\n",
      "\n",
      "pool = mp.Pool(processes = 4)\n",
      "temp_results = [pool.apply_async(main, args = (k0,)) for k0 in k_list]\n",
      "results = []\n",
      "\n",
      "for i in range(len(temp_results)):\n",
      "    results.append(temp_results[i].get())\n",
      "\n",
      "results = numpy.asarray(results, dtype=numpy.float)\n",
      "print results"
     ],
     "language": "python",
     "metadata": {},
     "outputs": [
      {
       "output_type": "stream",
       "stream": "stdout",
       "text": [
        "[  6.14128969e-10   6.98389036e-10   9.95061455e-10   1.46552261e-09\n",
        "   1.45146444e-09   2.09270260e-09   1.89151101e-09   2.67740046e-09\n",
        "   3.70464727e-09   3.16268780e-09   4.31898667e-09   3.52314881e-09\n",
        "   4.78446171e-09]\n",
        "3.16227766017e-06 3.7156 20.1565  7381.90723555   6.98389036e-10\n",
        "3.16227766017e-05 6.0648 22.505  338.15525286   1.46552261e-09\n",
        "1e-05 4.8902 21.3304  1566.91280171   9.95061455e-10\n",
        "1e-06 2.5417 18.9819  38926.8865222   6.14128969e-10\n",
        "0.00010.0003162277660170.0010.00316227766017 7.2387 23.6796  59.84433947   1.45146444e-09\n",
        " 8.4133 24.8535  12.7783163   2.09270260e-09\n",
        " 9.5872 26.0281  2.16035098   1.89151101e-09\n",
        " 10.7618 27.202  0.4570635   2.67740046e-09\n",
        "0.03162277660170.010.3162277660170.1 13.1103 29.5512  0.01570898   3.16268780e-09\n",
        " 11.9364 28.3766  0.0956078   3.70464727e-09\n",
        " 15.4588 31.8997  0.00052431   3.52314881e-09\n",
        " 14.2849 30.7251  0.00326446   4.31898667e-09\n",
        "1.0 16.6334 33.0736  0.00010865   4.78446171e-09\n"
       ]
      }
     ],
     "prompt_number": 14
    },
    {
     "cell_type": "code",
     "collapsed": false,
     "input": [],
     "language": "python",
     "metadata": {},
     "outputs": []
    },
    {
     "cell_type": "code",
     "collapsed": false,
     "input": [
      "data = [line.split() for line in open('fort.30')]\n",
      "data = numpy.asarray(data, dtype=numpy.float)\n",
      "\n",
      "plt.cla()\n",
      "plt.hold(True)\n",
      "plt.xlabel(r'$k$')\n",
      "plt.ylabel(r'${\\mathcal{P}}_{\\rm T}(k)$')\n",
      "plt.title(r'${\\mathcal{P}}_{\\rm T}(k)$ as a function of $k$')\n",
      "py_numerics, = plt.loglog(k_list, TPS)\n",
      "f_numerics, = plt.loglog(data[:,0], data[:,1])\n",
      "plt.legend([py_numerics, f_numerics],['python', 'fortran'], loc='lower left')\n",
      "plt.savefig('power_spectrum_matter_bounce.png')\n",
      "'''\n",
      "plt.cla()\n",
      "plt.hold(True)\n",
      "plt.xlabel(r'$k$')\n",
      "plt.ylabel(r'${\\mathcal{P}}_{\\rm T}(k)$')\n",
      "plt.title(r'${\\mathcal{P}}_{\\rm T}(k)$ as a function of $k$')\n",
      "py_numerics, = plt.loglog(k_list[:24], TPS[:24])\n",
      "f_numerics, = plt.loglog(data[:19,0], data[:19,1])\n",
      "plt.legend([py_numerics, f_numerics],['python', 'fortran'], loc='lower left')\n",
      "plt.savefig('power_spectrum_matter_bounce_2.png')\n",
      "'''"
     ],
     "language": "python",
     "metadata": {},
     "outputs": []
    },
    {
     "cell_type": "markdown",
     "metadata": {},
     "source": [
      "to obtain expression for DH using sympy\n",
      "==="
     ]
    },
    {
     "cell_type": "code",
     "collapsed": false,
     "input": [
      "import sympy as sym\n",
      "from sympy.functions import exp\n",
      "x = sym.symbols('x')"
     ],
     "language": "python",
     "metadata": {},
     "outputs": [],
     "prompt_number": 2
    },
    {
     "cell_type": "code",
     "collapsed": false,
     "input": [
      "A = lambda N : a0*exp(x**2/2).subs(x,N).evalf()\n",
      "an = lambda n : a0*((1+(n/n0)**2)**p)\n",
      "\n",
      "nm = lambda N : -n0*((A(N)/a0)**(1./p)-1)**(1./2)\n",
      "n = lambda N : nm(N)\n",
      "\n",
      "aN = lambda N : an(n(N))\n",
      "\n",
      "h = lambda n : (sym.diff(an(x),x).subs(x,n).evalf())/(an(n)**2)\n",
      "H = lambda N : h(n(N))"
     ],
     "language": "python",
     "metadata": {},
     "outputs": [],
     "prompt_number": 3
    },
    {
     "cell_type": "code",
     "collapsed": false,
     "input": [
      "sym.diff(H(x),x) # DHm"
     ],
     "language": "python",
     "metadata": {},
     "outputs": [
      {
       "metadata": {},
       "output_type": "pyout",
       "prompt_number": 6,
       "text": [
        "-100000.0*x*(1.0*exp(x**2/2)**1.0 - 1.0)**(-0.5)*exp(x**2/2)**1.0/(100000.0*(1.0*exp(x**2/2)**1.0 - 1)**1.0 + 100000.0)**2 + 40000000000.0*x*(1.0*exp(x**2/2)**1.0 - 1.0)**0.5*exp(x**2/2)**1.0/(100000.0*(1.0*exp(x**2/2)**1.0 - 1)**1.0 + 100000.0)**3"
       ]
      }
     ],
     "prompt_number": 6
    },
    {
     "cell_type": "code",
     "collapsed": false,
     "input": [
      "np = lambda N : +n0*((A(N)/a0)**(1./p)-1)**(1./2)\n",
      "n = lambda N : np(N)"
     ],
     "language": "python",
     "metadata": {},
     "outputs": [],
     "prompt_number": 7
    },
    {
     "cell_type": "code",
     "collapsed": false,
     "input": [
      "sym.diff(H(x),x)"
     ],
     "language": "python",
     "metadata": {},
     "outputs": [
      {
       "metadata": {},
       "output_type": "pyout",
       "prompt_number": 8,
       "text": [
        "100000.0*x*(1.0*exp(x**2/2)**1.0 - 1.0)**(-0.5)*exp(x**2/2)**1.0/(100000.0*(1.0*exp(x**2/2)**1.0 - 1)**1.0 + 100000.0)**2 - 40000000000.0*x*(1.0*exp(x**2/2)**1.0 - 1.0)**0.5*exp(x**2/2)**1.0/(100000.0*(1.0*exp(x**2/2)**1.0 - 1)**1.0 + 100000.0)**3"
       ]
      }
     ],
     "prompt_number": 8
    },
    {
     "cell_type": "code",
     "collapsed": false,
     "input": [],
     "language": "python",
     "metadata": {},
     "outputs": []
    }
   ],
   "metadata": {}
  }
 ]
}