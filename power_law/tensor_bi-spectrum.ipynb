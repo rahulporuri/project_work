{
 "metadata": {
  "name": "",
  "signature": "sha256:d60d5045a7c7f9b05cb15c538cd7746b0da224d39e8068044ccb2507bc30a99a"
 },
 "nbformat": 3,
 "nbformat_minor": 0,
 "worksheets": [
  {
   "cells": [
    {
     "cell_type": "markdown",
     "metadata": {},
     "source": [
      "Inthe following IPython notebook, I first numerically estimate the scalar field $\\phi$ by solving the second order ODE governing it's evolution:\n",
      "\n",
      "$$\\ddot{\\phi} + 3H\\dot{\\phi} + \\frac{{\\rm d}V}{{\\rm d}\\phi} = 0$$\n",
      "\n",
      "where an overdot denotes differentiation with respect to coordinate time $t$ and H is the Hubble parameter $H = \\dot{a}/a$.\n",
      "\n",
      "Using the solution for $\\phi$, we solve the second order ODE governing the tensor perturbation h_{\\bf k}$\n",
      "\n",
      "$$h_{\\bf k}'' +\\frac{2a'}{a}h_{\\bf k}' +k^2h_{\\bf k} = 0$$\n",
      "\n",
      "where an overprime denotes differentiation with respect to conformal time $\\eta$.\n",
      "\n",
      "The Bunch-Davies initial conditions are imposed when the modes ${\\bf k}$ are sufficiently inside the Hubble radius i.e $k^2 >> a'/a$. In such a case, we can see that the equation governing the tensor perturbations is similar to a simple harmonic oscillator.\n",
      "Numerically speaking, we set the initial conditions when $k/a\\mathcal{H} = 10^2$ where $\\mathcal{H} = a'/a$. Similarly, we stop the evaluation when $k/a\\mathcal{H} = 10^{-5}$. For the modes of interest, if we compute these numbers in terms of conformal time $\\eta$, we will see that they are extremely large. As such, a numerical solution is not plausible. We therefore work in e-fold $N$ where $N = ln(a(t)/a_0)$. In terms of e-fold $N$, we can rewrite the above equations as\n",
      "\n",
      "$$\\frac{{\\rm d}^2\\phi}{{\\rm d}N^2} +\\left[3 -\\frac{1}{2}\\left(\\frac{{\\rm d}\\phi}{dN}\\right)^2\\right]\\frac{{\\rm d}\\phi}{dN} +\\frac{1}{2V(\\phi)}\\frac{{\\rm d} V}{{\\rm d}\\phi}\\left[6 -\\left(\\frac{{\\rm d}\\phi}{{\\rm d}N}\\right)^2\\right] =  0$$\n",
      "\n",
      "$$\\frac{ {\\rm d}^2 h_{\\bf k} }{ {\\rm d} N^2} \n",
      "+\\left(3 +\\frac{1}{H}\\frac{ {\\rm d} H }{ {\\rm d} N} \\right)\\frac{ {\\rm d} h_{\\bf k} }{ {\\rm d} N}\n",
      "+\\left(\\frac{k^2}{a^2H^2}\\right)h_{\\bf k} = 0$$\n",
      "\n",
      "We assume that a potential of the form\n",
      "\n",
      "$$V = V_0\\exp\\left[-\\sqrt{\\frac{2}{q}}\\left(\\phi -\\phi_0\\right)\\right]$$\n",
      "\n",
      "drives inflation and using the above potential, we can solve for $\\phi$.\n",
      "Once we have a solution for $\\phi$, we can obtain a numerical solution for the \n",
      "Hubble parameter $H$ using\n",
      "\n",
      "$$H^2 = \\frac{V(\\phi)}{\\left[3 -\\frac{1}{2}\\left(\\frac{{\\rm d}\\phi}{{\\rm d}N}\\right)^2\\right]}$$\n",
      "\n",
      "On a final note, the prefix d refers to differentiation with respect to conformal time $\\eta$ and \n",
      "the prefix D refers to differentiation with respect to e-fold $N$. The suffix 0 is used to denote \n",
      "the initial conditions. Nics and Nshss are used to refer to the values of e-fold $N$ when we start \n",
      "and end the numerical evaluation of $\\phi$ and $h_{\\bf k}$."
     ]
    },
    {
     "cell_type": "code",
     "collapsed": false,
     "input": [
      "import numpy\n",
      "import matplotlib.pyplot as plt\n",
      "import scipy.optimize as opt\n",
      "from scipy.integrate import romb, simps\n",
      "%matplotlib inline"
     ],
     "language": "python",
     "metadata": {},
     "outputs": [],
     "prompt_number": 1
    },
    {
     "cell_type": "code",
     "collapsed": false,
     "input": [
      "q = 51.\n",
      "V0 = (204./100.)*1e-08\n",
      "t0 = (q*(3.*q -1.)/V0)**(1./2)\n",
      "\n",
      "phi0 = 1.\n",
      "dphi0 = (2.*q)**(1./2)/t0\n",
      "\n",
      "Ni = 0.\n",
      "Nf = 70. \n",
      "\n",
      "kp = 5.*1e-02\n",
      "beta = -((2.*q -1.)/(q -1.))\n",
      "eps1a = ((beta +2.)/(beta +1.))"
     ],
     "language": "python",
     "metadata": {},
     "outputs": [],
     "prompt_number": 2
    },
    {
     "cell_type": "code",
     "collapsed": false,
     "input": [
      "#V = lambda phi : V0*numpy.exp(-(2*q)**(1./2.)*(phi-phi_i))\n",
      "V = lambda phi : V0*numpy.exp(-(2./q)**(1./2)*(phi -phi0))\n",
      "dV = lambda phi : -(2./q)**(1./2)*V0*numpy.exp(-(2./q)**(1./2)*(phi -phi0))\n",
      "\n",
      "H0 = ((1./3)*(dphi0**2/2. +V(phi0)))**(1./2.)\n",
      "Dphi0 = dphi0/H0\n",
      "\n",
      "def DDphi(N, phi0, Dphi0):\n",
      "    return -(3 -Dphi0**2/2.)*Dphi0 -(dV(phi0)/(2*V(phi0)))*(6 -Dphi0**2)\n",
      "\n",
      "def rk4_step(N, phi0, Dphi0, step):\n",
      "    F1 = Dphi0\n",
      "    f1 = DDphi(N, phi0, Dphi0)\n",
      "    F2 = Dphi0 +f1*step/2.\n",
      "    f2 = DDphi(N +step/2., phi0 +F1*step/2., Dphi0 +f1*step/2.)\n",
      "    F3 = Dphi0 +f2*step/2.\n",
      "    f3 = DDphi(N +step/2., phi0 +F2*step/2., Dphi0 +f2*step/2.)\n",
      "    F4 = Dphi0 +f3*step\n",
      "    f4 = DDphi(N +step, phi0 +F3*step, Dphi0 +f3*step)  \n",
      "\n",
      "    return [(f1 +2*f2 +2*f3 +f4)*step/6, (F1 +2*F2 +2*F3 +F4)*step/6.] # [Dhk, hk] update"
     ],
     "language": "python",
     "metadata": {},
     "outputs": [],
     "prompt_number": 3
    },
    {
     "cell_type": "code",
     "collapsed": false,
     "input": [
      "npts = 10000\n",
      "step = (Nf-Ni)/(npts)\n",
      "\n",
      "phi_temp = phi0\n",
      "Dphi_temp = Dphi0\n",
      "\n",
      "phi_array = numpy.array([phi_temp])\n",
      "Dphi_array = numpy.array([Dphi_temp])\n",
      "N_array = numpy.array([Ni]) \n",
      "\n",
      "N = Ni\n",
      "print N, phi_temp, Dphi_temp\n",
      "while N < Nf:\n",
      "    array = rk4_step(N, phi_temp, Dphi_temp, step)\n",
      "    phi_temp = phi_temp + array[1]\n",
      "    Dphi_temp = Dphi_temp + array[0]\n",
      "    phi_array = numpy.append(phi_array,phi_temp)\n",
      "    Dphi_array = numpy.append(Dphi_array,Dphi_temp)\n",
      "    N += step\n",
      "#    print N, phi_temp, Dphi_temp\n",
      "    N_array = numpy.append(N_array,N)\n",
      "\n",
      "#plt.plot(numpy.linspace(0,70,npts+1), phi_array)\n",
      "print N, phi_temp, Dphi_temp"
     ],
     "language": "python",
     "metadata": {},
     "outputs": [
      {
       "output_type": "stream",
       "stream": "stdout",
       "text": [
        "0.0 1.0 0.198029508595\n",
        "70.007"
       ]
      },
      {
       "output_type": "stream",
       "stream": "stdout",
       "text": [
        " 14.8634518082 0.198029508595\n"
       ]
      }
     ],
     "prompt_number": 4
    },
    {
     "cell_type": "code",
     "collapsed": false,
     "input": [],
     "language": "python",
     "metadata": {},
     "outputs": []
    },
    {
     "cell_type": "markdown",
     "metadata": {},
     "source": [
      "we can do interpolation to get phi at more points\n",
      "instead of implementing RK4.\n",
      "\n",
      "```\n",
      "N_new = numpy.linspace(Ni,Nf,1000000)\n",
      "phi_array_new = numpy.interp(N_new, N_array, phi_array)\n",
      "Dphi_array_new = numpy.interp(N_new, N_array, Dphi_array)\n",
      "\n",
      "phi_array = phi_array_new\n",
      "Dphi_array = Dphi_array_new\n",
      "N_array = N_new\n",
      "step = (Nf-Ni)/(1000000)\n",
      "```"
     ]
    },
    {
     "cell_type": "code",
     "collapsed": false,
     "input": [
      "N_new = numpy.linspace(Ni,Nf,1000000)\n",
      "phi_array_new = numpy.interp(N_new, N_array, phi_array)\n",
      "Dphi_array_new = numpy.interp(N_new, N_array, Dphi_array)"
     ],
     "language": "python",
     "metadata": {},
     "outputs": [],
     "prompt_number": 5
    },
    {
     "cell_type": "code",
     "collapsed": false,
     "input": [
      "plt.cla()\n",
      "plt.hold(True)\n",
      "plt.plot(N_array, phi_array, 'o')\n",
      "plt.plot(N_new, phi_array_new, '-')"
     ],
     "language": "python",
     "metadata": {},
     "outputs": [
      {
       "metadata": {},
       "output_type": "pyout",
       "prompt_number": 6,
       "text": [
        "[<matplotlib.lines.Line2D at 0xad9c6d8c>]"
       ]
      },
      {
       "metadata": {},
       "output_type": "display_data",
       "png": "[encoded data removed]",
       "text": [
        "<matplotlib.figure.Figure at 0xaf138f2c>"
       ]
      }
     ],
     "prompt_number": 6
    },
    {
     "cell_type": "code",
     "collapsed": false,
     "input": [
      "phi_array = phi_array_new\n",
      "Dphi_array = Dphi_array_new\n",
      "N_array = N_new\n",
      "step = (N_array[1]-N_array[0])"
     ],
     "language": "python",
     "metadata": {},
     "outputs": [],
     "prompt_number": 7
    },
    {
     "cell_type": "code",
     "collapsed": false,
     "input": [
      "phi = lambda N : phi_array[int((N-Ni)/step)]\n",
      "Dphi = lambda N : Dphi_array[int((N-Ni)/step)]\n",
      "\n",
      "phi_theory = lambda N : (2./q)**(1./2)*N + phi0"
     ],
     "language": "python",
     "metadata": {},
     "outputs": [],
     "prompt_number": 8
    },
    {
     "cell_type": "code",
     "collapsed": false,
     "input": [
      "#H = [((V(phi_array[i]))/(3 -Dphi_array[i]**2/2))**(1./2) for i in range(len(phi_array))]\n",
      "H = lambda N : (V(phi(N))/(3 -Dphi(N)**2/2))**(1./2)\n",
      "DH = lambda N : H(N)*Dphi(N)\n",
      "\n",
      "H_theory = lambda N : H0*numpy.exp(-N/q)"
     ],
     "language": "python",
     "metadata": {},
     "outputs": [],
     "prompt_number": 9
    },
    {
     "cell_type": "code",
     "collapsed": false,
     "input": [
      "ai = 1e-05\n",
      "\n",
      "eps0 = (3./2)*((dphi0**2)/(dphi0**2/2. + V(phi0)))\n",
      "eps = 1./q \n",
      "\n",
      "eps1 = lambda N : Dphi_array[int((N-Ni)/step)]**2/2.\n",
      "eps1_theory = eps0"
     ],
     "language": "python",
     "metadata": {},
     "outputs": [],
     "prompt_number": 10
    },
    {
     "cell_type": "code",
     "collapsed": false,
     "input": [],
     "language": "python",
     "metadata": {},
     "outputs": []
    },
    {
     "cell_type": "code",
     "collapsed": false,
     "input": [],
     "language": "python",
     "metadata": {},
     "outputs": []
    },
    {
     "cell_type": "code",
     "collapsed": false,
     "input": [
      "#z = [ai*numpy.exp(N_array[i])*Dphi_array[i] for i in range(len(N_array))]\n",
      "z = lambda N: ai*numpy.exp(N)*Dphi(N)\n",
      "A = lambda N : ai*numpy.exp(N)\n",
      "\n",
      "def DDhk(k0, N, hk0, Dhk0):\n",
      "    return -((3. +(DH(N)/H(N)))*Dhk0 +((k0/(A(N)*H(N)))**2)*hk0)\n",
      "\n",
      "def rk4_step(k0, N, hk0, Dhk0, step):\n",
      "    F1 = Dhk0\n",
      "    f1 = DDhk(k0, N, hk0, Dhk0)\n",
      "    F2 = Dhk0 +f1*step/2.\n",
      "    f2 = DDhk(k0, N +step/2., hk0 +F1*step/2., Dhk0 +f1*step/2.)\n",
      "    F3 = Dhk0 +f2*step/2.\n",
      "    f3 = DDhk(k0, N +step/2., hk0 +F2*step/2., Dhk0 +f2*step/2.)\n",
      "    F4 = Dhk0 +f3*step\n",
      "    f4 = DDhk(k0, N +step, hk0 +F3*step, Dhk0 +f3*step)   \n",
      "\n",
      "    return [numpy.array([(f1 +2*f2 +2*f3 +f4)*step/6.], dtype=complex), numpy.array([(F1 +2*F2 +2*F3 +F4)*step/6.], dtype=complex)] # [Dhk, hk] update"
     ],
     "language": "python",
     "metadata": {},
     "outputs": [],
     "prompt_number": 11
    },
    {
     "cell_type": "code",
     "collapsed": false,
     "input": [
      "k_list = numpy.array([10**((-12 + i)/2.) for i in range(13)])\n",
      "Nics_array = []\n",
      "Nshss_array = []\n",
      "\n",
      "for k in k_list:\n",
      "    #temp = numpy.asarray([k/(A(N)*H(N)) for N in N_array])\n",
      "    Nics_temp = numpy.asarray([k - 1e+02*A(N)*H(N) for N in N_array])\n",
      "    Nshss_temp = numpy.asarray([k - 1e-05*A(N)*H(N) for N in N_array])\n",
      "    nics_test = numpy.where(Nics_temp > 0)\n",
      "    nshss_test = numpy.where(Nshss_temp > 0)\n",
      "    Nics_array.append(Ni + nics_test[0][-1]*step)\n",
      "    Nshss_array.append(Ni + nshss_test[0][-1]*step)"
     ],
     "language": "python",
     "metadata": {},
     "outputs": [],
     "prompt_number": 12
    },
    {
     "cell_type": "code",
     "collapsed": false,
     "input": [
      "print Nics_array\n",
      "print Nshss_array"
     ],
     "language": "python",
     "metadata": {},
     "outputs": [
      {
       "output_type": "stream",
       "stream": "stdout",
       "text": [
        "[2.5419125419125419, 3.7162337162337162, 4.8905548905548901, 6.0648760648760645, 7.2391972391972388, 8.413518413518414, 9.5878395878395875, 10.762160762160761, 11.936481936481936, 13.11080311080311, 14.285124285124285, 15.459445459445458, 16.633766633766633]\n",
        "[18.98240898240898, 20.156730156730156, 21.331051331051331, 22.505372505372506, 23.679693679693678, 24.854014854014853, 26.028336028336028, 27.202657202657203, 28.376978376978375, 29.55129955129955, 30.725620725620725, 31.899871899871897, 33.074193074193076]\n"
       ]
      }
     ],
     "prompt_number": 13
    },
    {
     "cell_type": "code",
     "collapsed": false,
     "input": [
      "def calG(hk_array, k0, N_Array):\n",
      "    N_range = numpy.linspace(N_Array[0], N_Array[-1], len(hk_array))\n",
      "    func_int = (A(N_range)/numpy.asarray([H(N) for N in N_range]))*numpy.conj(hk_array)**3\n",
      "    #result = romb(func_int, N_Array[1]-N_Array[0])\n",
      "    result = simps(func_int, N_range)\n",
      "    return (-3.*k0**2/4.)*result*numpy.array([0.+1.j], dtype=complex)\n",
      "\n",
      "def calG_cc(hk_array, k0, N_Array):\n",
      "    N_range = numpy.linspace(N_Array[0], N_Array[-1], len(hk_array))\n",
      "    func_int = (A(N_range)/numpy.asarray([H(N) for N in N_range]))*(hk_array)**3\n",
      "    #result = romb(func_int, N_Array[1]-N_Array[0])\n",
      "    result = simps(func_int, N_range)\n",
      "    return (+3.*k0**2/4.)*result*numpy.array([0.+1.j], dtype=complex)\n",
      "\n",
      "def G(hk_array, N_array, k0, calG_array, calG_cc_array):\n",
      "    term1 = calG(hk_array, k0, N_array)\n",
      "    term2 = calG_cc(hk_array, k0, N_array)\n",
      "    calG_array = numpy.append(calG_array, term1)\n",
      "    calG_cc_array = numpy.append(calG_cc_array, term2)\n",
      "    print 'calG =', term1, 'calG* =', term2\n",
      "    \n",
      "    print 2*(hk_array[-1].real**3)*term1.real\n",
      "    print -6*hk_array[-1].real*(hk_array[-1].imag**2)*term1.real\n",
      "    print -6*(hk_array[-1].real**2)*hk_array[-1].imag*term1.imag\n",
      "    print 2*(hk_array[-1].imag**3)*term1.imag\n",
      "    \n",
      "    print '1st term =', (hk_array[-1]**3)*term1, '2nd term =', (numpy.conj(hk_array[-1])**3)*term2\n",
      "    result = (hk_array[-1]**3)*term1 + (numpy.conj(hk_array[-1])**3)*term2\n",
      "    return result"
     ],
     "language": "python",
     "metadata": {},
     "outputs": [],
     "prompt_number": 14
    },
    {
     "cell_type": "code",
     "collapsed": false,
     "input": [
      "k_min = 1e-6\n",
      "k_max = 10**(0.)\n",
      "\n",
      "print 'lift off!'\n",
      "\n",
      "k_vs_hk = numpy.empty(0,dtype=complex)\n",
      "\n",
      "G_array = numpy.empty(0, dtype=complex)\n",
      "calG_array = numpy.empty(0, dtype=complex)\n",
      "calG_cc_array = numpy.empty(0, dtype=complex)\n",
      "\n",
      "i = 0\n",
      "k0 = k_min\n",
      "\n",
      "while k0 < k_max:\n",
      "    print 'k0 = ', k0\n",
      "\n",
      "    hk_array = numpy.empty(0, dtype=complex)\n",
      "    N_array = numpy.empty(0)\n",
      "    \n",
      "    Nics = Nics_array[i]\n",
      "    Nshss = Nshss_array[i]\n",
      "\n",
      "    hk0 = numpy.zeros(1,dtype=complex)\n",
      "    hk0.real = (((2.*k0)**(1./2))*A(Nics))**(-1.)\n",
      "\n",
      "    Dhk0 = numpy.zeros(1,dtype=complex)\n",
      "    Dhk0.real = -(1/A(Nics))*((2*k0)**(-1./2))\n",
      "    Dhk0.imag = -((k0/2)**(1./2))/(A(Nics)*A(Nics)*H(Nics))\n",
      " \n",
      "    print 'got Nics, hk0 and Dhk0'\n",
      "    print 'starting from Nics'\n",
      "\n",
      "    N = Nics\n",
      "    j = 0\n",
      "    while N < Nshss:\n",
      "        hk_array = numpy.append(hk_array, hk0)\n",
      "        N_array =numpy.append(N_array, N)\n",
      "        #array = euler_step()\n",
      "        array = rk4_step(k0, N, hk0, Dhk0, step)\n",
      "        hk0 = hk0 + array[1]\n",
      "        Dhk0 = Dhk0 + array[0]\n",
      "        N += step\n",
      "        j += 1\n",
      "\n",
      "    k_vs_hk = numpy.append(k_vs_hk, hk0) \n",
      "    print N-step, Nshss, hk0, Dhk0, Nics\n",
      "    print '\\n'\n",
      "    \n",
      "    temp = 8*(k0)**3/(2*numpy.pi**2)*(numpy.absolute(hk0))**2\n",
      "    \n",
      "    another_temp = G(hk_array, N_array, k0, calG_array, calG_cc_array)\n",
      "    G_array = numpy.append(G_array, another_temp)\n",
      "\n",
      "    k0 = 10**(1./2)*k0\n",
      "    i += 1"
     ],
     "language": "python",
     "metadata": {},
     "outputs": []
    },
    {
     "cell_type": "code",
     "collapsed": false,
     "input": [
      "k_list = numpy.array([10**((-12 + i)/2.) for i in range(12)])\n",
      "#print len(k_list), len(k_vs_hkhk)\n",
      "TPS = [8*(k_list[i])**3/(2*numpy.pi**2)*(numpy.absolute(k_vs_hk[i]))**2 for i in range(len(k_list))]\n",
      "print k_list, TPS\n",
      "\n",
      "plt.loglog(k_list, TPS)\n",
      "#plt.savefig('power_spectrum_power_law.png')"
     ],
     "language": "python",
     "metadata": {},
     "outputs": [
      {
       "output_type": "stream",
       "stream": "stdout",
       "text": [
        "[  1.00000000e-06   3.16227766e-06   1.00000000e-05   3.16227766e-05\n",
        "   1.00000000e-04   3.16227766e-04   1.00000000e-03   3.16227766e-03\n",
        "   1.00000000e-02   3.16227766e-02   1.00000000e-01   3.16227766e-01] [4.4134926313267251e-10, 4.2148610300293617e-10, 4.0251620278274973e-10, 3.8440126302237239e-10, 3.6710031529231582e-10, 3.5057782617922565e-10, 3.3479929115996324e-10, 3.1973089857898339e-10, 3.0534066887441402e-10, 2.9159740412853552e-10, 2.7847305495189162e-10, 2.6594020294984701e-10]\n"
       ]
      },
      {
       "metadata": {},
       "output_type": "pyout",
       "prompt_number": 17,
       "text": [
        "[<matplotlib.lines.Line2D at 0xada27aac>]"
       ]
      },
      {
       "metadata": {},
       "output_type": "display_data",
       "png": "[encoded data removed]",
       "text": [
        "<matplotlib.figure.Figure at 0xada98a4c>"
       ]
      }
     ],
     "prompt_number": 17
    },
    {
     "cell_type": "code",
     "collapsed": false,
     "input": [
      "calG_array = numpy.array([ -6.08581623e+08 -5.38030260e+08j, -1.05856925e+08-93389839.50443056j,-18413885.99859421-16208939.26440895j,-3203364.81995761-2812979.47120421j,-557293.72854343-488144.71633945j,-96964.87485232-84694.97654026j,-16868.08354141-14698.34301136j,-2934.37733371-2550.80743039j,-510.46391768-442.67551198j,-88.79958388-76.82297033j,-15.44712404-13.33239017j,-2.68691879-2.31401922j], dtype=complex)"
     ],
     "language": "python",
     "metadata": {},
     "outputs": [],
     "prompt_number": 21
    },
    {
     "cell_type": "code",
     "collapsed": false,
     "input": [
      "plt.loglog(k_list, numpy.absolute(calG_array))"
     ],
     "language": "python",
     "metadata": {},
     "outputs": [
      {
       "metadata": {},
       "output_type": "pyout",
       "prompt_number": 22,
       "text": [
        "[<matplotlib.lines.Line2D at 0xada2754c>]"
       ]
      },
      {
       "metadata": {},
       "output_type": "display_data",
       "png": "[encoded data removed]",
       "text": [
        "<matplotlib.figure.Figure at 0xada3daec>"
       ]
      }
     ],
     "prompt_number": 22
    },
    {
     "cell_type": "code",
     "collapsed": false,
     "input": [
      "plt.loglog(k_list, (k_list**(3./2))*numpy.absolute(calG_array))"
     ],
     "language": "python",
     "metadata": {},
     "outputs": [
      {
       "metadata": {},
       "output_type": "pyout",
       "prompt_number": 23,
       "text": [
        "[<matplotlib.lines.Line2D at 0xad45104c>]"
       ]
      },
      {
       "metadata": {},
       "output_type": "display_data",
       "png": "[encoded data removed]",
       "text": [
        "<matplotlib.figure.Figure at 0xad63e44c>"
       ]
      }
     ],
     "prompt_number": 23
    },
    {
     "cell_type": "code",
     "collapsed": false,
     "input": [
      "plt.loglog(k_list, G_array.real)\n",
      "plt.title(r\"$k$ vs $G$ in the equilateral limit\")\n",
      "plt.xlabel(r\"$k$\")\n",
      "plt.ylabel(r\"$G$\")\n",
      "plt.savefig(\"G_equilateral_lt.png\")"
     ],
     "language": "python",
     "metadata": {},
     "outputs": [
      {
       "metadata": {},
       "output_type": "display_data",
       "png": "[encoded data removed]",
       "text": [
        "<matplotlib.figure.Figure at 0xad3738ac>"
       ]
      }
     ],
     "prompt_number": 24
    },
    {
     "cell_type": "code",
     "collapsed": false,
     "input": [
      "plt.loglog(k_list, (k_list**6)*G_array.real)\n",
      "plt.title(r\"$k$ vs $k^6*G$ in the equilateral limit\")\n",
      "plt.xlabel(r\"$k$\")\n",
      "plt.ylabel(r\"$k^6*G$\")\n",
      "plt.savefig(\"k6G_equilateral_lt.png\")"
     ],
     "language": "python",
     "metadata": {},
     "outputs": [
      {
       "metadata": {},
       "output_type": "display_data",
       "png": "[encoded data removed]",
       "text": [
        "<matplotlib.figure.Figure at 0xad42e5cc>"
       ]
      }
     ],
     "prompt_number": 25
    },
    {
     "cell_type": "code",
     "collapsed": false,
     "input": [
      "h_NL = (-1./6)*((4./(2.*numpy.pi**2))**2)*(k_list**6)*G_array/TPS"
     ],
     "language": "python",
     "metadata": {},
     "outputs": [],
     "prompt_number": 26
    },
    {
     "cell_type": "code",
     "collapsed": false,
     "input": [
      "plt.semilogx(k_list, h_NL.real)\n",
      "plt.title(r\"$k$ vs $h_{NL}$ in the equilateral limit\")\n",
      "plt.xlabel(r\"$k$\")\n",
      "plt.ylabel(r\"$h_{NL}$\")\n",
      "plt.savefig(\"h_NL_equilateral_lt.png\")"
     ],
     "language": "python",
     "metadata": {},
     "outputs": [
      {
       "metadata": {},
       "output_type": "display_data",
       "png": "[encoded data removed]",
       "text": [
        "<matplotlib.figure.Figure at 0xad4beaac>"
       ]
      }
     ],
     "prompt_number": 28
    },
    {
     "cell_type": "code",
     "collapsed": false,
     "input": [
      "print k_list, '\\n', TPS, '\\n', calG_array,'\\n',G_array, '\\n', h_NL"
     ],
     "language": "python",
     "metadata": {},
     "outputs": [
      {
       "output_type": "stream",
       "stream": "stdout",
       "text": [
        "[  1.00000000e-06   3.16227766e-06   1.00000000e-05   3.16227766e-05\n",
        "   1.00000000e-04   3.16227766e-04   1.00000000e-03   3.16227766e-03\n",
        "   1.00000000e-02   3.16227766e-02   1.00000000e-01   3.16227766e-01\n",
        "   1.00000000e+00] \n",
        "[4.4134926313267251e-10, 4.2148610300293617e-10, 4.0251620278274973e-10, 3.8440126302237239e-10, 3.6710031529231582e-10, 3.5057782617922565e-10, 3.3479929115996324e-10, 3.1973089857898339e-10, 3.0534066887441402e-10, 2.9159740412853552e-10, 2.7847305495189162e-10, 2.6594020294984701e-10, 2.5397098422575646e-10] \n",
        "[ -6.08581623e+08 -5.38030260e+08j  -1.05856925e+08 -9.33898395e+07j\n",
        "  -1.84138860e+07 -1.62089393e+07j  -3.20336482e+06 -2.81297947e+06j\n",
        "  -5.57293729e+05 -4.88144716e+05j  -9.69648749e+04 -8.46949765e+04j\n",
        "  -1.68680835e+04 -1.46983430e+04j  -2.93437733e+03 -2.55080743e+03j\n",
        "  -5.10463918e+02 -4.42675512e+02j  -8.87995839e+01 -7.68229703e+01j\n",
        "  -1.54471240e+01 -1.33323902e+01j  -2.68691879e+00 -2.31401922e+00j\n",
        "  -4.67352740e-01 -4.01646130e-01j] \n",
        "[  3.24592911e+19+0.j   2.95677823e+16+0.j   2.69315348e+13+0.j\n",
        "   2.45277941e+10+0.j   2.23370409e+07+0.j   2.03384254e+04+0.j\n",
        "   1.85230936e+01+0.j   1.68697327e-02+0.j   1.53638963e-05+0.j\n",
        "   1.39924025e-08+0.j   1.27436777e-11+0.j   1.16075237e-14+0.j\n",
        "   1.05731361e-17+0.j] \n",
        "[ -5.03345135e-10+0.j  -4.80114412e-10+0.j  -4.57917233e-10+0.j\n",
        "  -4.36699742e-10+0.j  -4.16437789e-10+0.j  -3.97047195e-10+0.j\n",
        "  -3.78650245e-10+0.j  -3.61104453e-10+0.j  -3.44370519e-10+0.j\n",
        "  -3.28411143e-10+0.j  -3.13199348e-10+0.j  -2.98720366e-10+0.j\n",
        "  -2.84923958e-10+0.j]"
       ]
      },
      {
       "output_type": "stream",
       "stream": "stdout",
       "text": [
        "\n"
       ]
      }
     ],
     "prompt_number": 41
    },
    {
     "cell_type": "code",
     "collapsed": false,
     "input": [
      "k_list = numpy.array([  1.00000000e-06,   3.16227766e-06,   1.00000000e-05,   3.16227766e-05,\n",
      "   1.00000000e-04,   3.16227766e-04,   1.00000000e-03,   3.16227766e-03,\n",
      "   1.00000000e-02,   3.16227766e-02,   1.00000000e-01,   3.16227766e-01,\n",
      "   1.00000000e+00])\n",
      "TPS = numpy.array([4.4134926313267251e-10, 4.2148610300293617e-10, 4.0251620278274973e-10, 3.8440126302237239e-10, 3.6710031529231582e-10, 3.5057782617922565e-10, 3.3479929115996324e-10, 3.1973089857898339e-10, 3.0534066887441402e-10, 2.9159740412853552e-10, 2.7847305495189162e-10, 2.6594020294984701e-10, 2.5397098422575646e-10])\n",
      "G_array = numpy.array([  3.24592911e+19+0.j,   2.95677823e+16+0.j,   2.69315348e+13+0.j,\n",
      "   2.45277941e+10+0.j,   2.23370409e+07+0.j,   2.03384254e+04+0.j,\n",
      "   1.85230936e+01+0.j,   1.68697327e-02+0.j,   1.53638963e-05+0.j,\n",
      "   1.39924025e-08+0.j,   1.27436777e-11+0.j,   1.16075237e-14+0.j,\n",
      "   1.05731361e-17+0.j])"
     ],
     "language": "python",
     "metadata": {},
     "outputs": [],
     "prompt_number": 3
    },
    {
     "cell_type": "code",
     "collapsed": false,
     "input": [
      "h_NL = (-1./3)*(4.**2/(2.*numpy.pi)**(1./2))*(k_list**3)*G_array/TPS"
     ],
     "language": "python",
     "metadata": {},
     "outputs": [],
     "prompt_number": 4
    },
    {
     "cell_type": "code",
     "collapsed": false,
     "input": [
      "plt.semilogx(k_list[3:], numpy.real(h_NL[3:]))"
     ],
     "language": "python",
     "metadata": {},
     "outputs": [
      {
       "metadata": {},
       "output_type": "pyout",
       "prompt_number": 8,
       "text": [
        "[<matplotlib.lines.Line2D at 0xaf0c14cc>]"
       ]
      },
      {
       "metadata": {},
       "output_type": "display_data",
       "png": "[encoded data removed]",
       "text": [
        "<matplotlib.figure.Figure at 0xaed5558c>"
       ]
      }
     ],
     "prompt_number": 8
    },
    {
     "cell_type": "code",
     "collapsed": false,
     "input": [],
     "language": "python",
     "metadata": {},
     "outputs": []
    }
   ],
   "metadata": {}
  }
 ]
}