{
 "metadata": {
  "name": "",
  "signature": "sha256:1fea8a7f9aca6dab0ca12b8fb300270e56fe5be8c13d30332ead349af1a4994d"
 },
 "nbformat": 3,
 "nbformat_minor": 0,
 "worksheets": [
  {
   "cells": [
    {
     "cell_type": "markdown",
     "metadata": {},
     "source": [
      "Inthe following IPython notebook, I first numerically estimate the scalar field $\\phi$ by solving the second order ODE governing it's evolution:\n",
      "\n",
      "$$\\ddot{\\phi} + 3H\\dot{\\phi} + \\frac{{\\rm d}V}{{\\rm d}\\phi} = 0$$\n",
      "\n",
      "where an overdot denotes differentiation with respect to coordinate time $t$ and H is the Hubble parameter $H = \\dot{a}/a$.\n",
      "\n",
      "Using the solution for $\\phi$, we solve the second order ODE governing the tensor perturbation h_{\\bf k}$\n",
      "\n",
      "$$h_{\\bf k}'' +\\frac{2a'}{a}h_{\\bf k}' +k^2h_{\\bf k} = 0$$\n",
      "\n",
      "where an overprime denotes differentiation with respect to conformal time $\\eta$.\n",
      "\n",
      "The Bunch-Davies initial conditions are imposed when the modes ${\\bf k}$ are sufficiently inside the Hubble radius i.e $k^2 >> a'/a$. In such a case, we can see that the equation governing the tensor perturbations is similar to a simple harmonic oscillator.\n",
      "Numerically speaking, we set the initial conditions when $k/a\\mathcal{H} = 10^2$ where $\\mathcal{H} = a'/a$. Similarly, we stop the evaluation when $k/a\\mathcal{H} = 10^{-5}$. For the modes of interest, if we compute these numbers in terms of conformal time $\\eta$, we will see that they are extremely large. As such, a numerical solution is not plausible. We therefore work in e-fold $N$ where $N = ln(a(t)/a_0)$. In terms of e-fold $N$, we can rewrite the above equations as\n",
      "\n",
      "$$\\frac{{\\rm d}^2\\phi}{{\\rm d}N^2} +\\left[3 -\\frac{1}{2}\\left(\\frac{{\\rm d}\\phi}{dN}\\right)^2\\right]\\frac{{\\rm d}\\phi}{dN} +\\frac{1}{2V(\\phi)}\\frac{{\\rm d} V}{{\\rm d}\\phi}\\left[6 -\\left(\\frac{{\\rm d}\\phi}{{\\rm d}N}\\right)^2\\right] =  0$$\n",
      "\n",
      "$$\\frac{ {\\rm d}^2 h_{\\bf k} }{ {\\rm d} N^2} \n",
      "+\\left(3 +\\frac{1}{H}\\frac{ {\\rm d} H }{ {\\rm d} N} \\right)\\frac{ {\\rm d} h_{\\bf k} }{ {\\rm d} N}\n",
      "+\\left(\\frac{k^2}{a^2H^2}\\right)h_{\\bf k} = 0$$\n",
      "\n",
      "We assume that a potential of the form\n",
      "\n",
      "$$V = V_0\\exp\\left[-\\sqrt{\\frac{2}{q}}\\left(\\phi -\\phi_0\\right)\\right]$$\n",
      "\n",
      "drives inflation and using the above potential, we can solve for $\\phi$.\n",
      "Once we have a solution for $\\phi$, we can obtain a numerical solution for the \n",
      "Hubble parameter $H$ using\n",
      "\n",
      "$$H^2 = \\frac{V(\\phi)}{\\left[3 -\\frac{1}{2}\\left(\\frac{{\\rm d}\\phi}{{\\rm d}N}\\right)^2\\right]}$$\n",
      "\n",
      "On a final note, the prefix d refers to differentiation with respect to conformal time $\\eta$ and \n",
      "the prefix D refers to differentiation with respect to e-fold $N$. The suffix 0 is used to denote \n",
      "the initial conditions. Nics and Nshss are used to refer to the values of e-fold $N$ when we start \n",
      "and end the numerical evaluation of $\\phi$ and $h_{\\bf k}$."
     ]
    },
    {
     "cell_type": "code",
     "collapsed": false,
     "input": [
      "import numpy\n",
      "import matplotlib.pyplot as plt\n",
      "import scipy.optimize as opt\n",
      "from scipy.integrate import romb, simps\n",
      "%matplotlib inline"
     ],
     "language": "python",
     "metadata": {},
     "outputs": [],
     "prompt_number": 1
    },
    {
     "cell_type": "code",
     "collapsed": false,
     "input": [
      "q = 51.\n",
      "V0 = (204./100.)*1e-08\n",
      "t0 = (q*(3.*q -1.)/V0)**(1./2)\n",
      "\n",
      "phi0 = 1.\n",
      "dphi0 = (2.*q)**(1./2)/t0\n",
      "\n",
      "Ni = 0.\n",
      "Nf = 70. \n",
      "\n",
      "kp = 5.*1e-02\n",
      "beta = -((2.*q -1.)/(q -1.))\n",
      "eps1a = ((beta +2.)/(beta +1.))"
     ],
     "language": "python",
     "metadata": {},
     "outputs": [],
     "prompt_number": 2
    },
    {
     "cell_type": "code",
     "collapsed": false,
     "input": [
      "#V = lambda phi : V0*numpy.exp(-(2*q)**(1./2.)*(phi-phi_i))\n",
      "V = lambda phi : V0*numpy.exp(-(2./q)**(1./2)*(phi -phi0))\n",
      "dV = lambda phi : -(2./q)**(1./2)*V0*numpy.exp(-(2./q)**(1./2)*(phi -phi0))\n",
      "\n",
      "H0 = ((1./3)*(dphi0**2/2. +V(phi0)))**(1./2.)\n",
      "Dphi0 = dphi0/H0\n",
      "\n",
      "def DDphi(N, phi0, Dphi0):\n",
      "    return -(3 -Dphi0**2/2.)*Dphi0 -(dV(phi0)/(2*V(phi0)))*(6 -Dphi0**2)\n",
      "\n",
      "def rk4_step(N, phi0, Dphi0, step):\n",
      "    F1 = Dphi0\n",
      "    f1 = DDphi(N, phi0, Dphi0)\n",
      "    F2 = Dphi0 +f1*step/2.\n",
      "    f2 = DDphi(N +step/2., phi0 +F1*step/2., Dphi0 +f1*step/2.)\n",
      "    F3 = Dphi0 +f2*step/2.\n",
      "    f3 = DDphi(N +step/2., phi0 +F2*step/2., Dphi0 +f2*step/2.)\n",
      "    F4 = Dphi0 +f3*step\n",
      "    f4 = DDphi(N +step, phi0 +F3*step, Dphi0 +f3*step)  \n",
      "\n",
      "    return [(f1 +2*f2 +2*f3 +f4)*step/6, (F1 +2*F2 +2*F3 +F4)*step/6.] # [Dhk, hk] update"
     ],
     "language": "python",
     "metadata": {},
     "outputs": [],
     "prompt_number": 3
    },
    {
     "cell_type": "code",
     "collapsed": false,
     "input": [
      "npts = 10000\n",
      "step = (Nf-Ni)/(npts)\n",
      "\n",
      "phi_temp = phi0\n",
      "Dphi_temp = Dphi0\n",
      "\n",
      "phi_array = numpy.array([phi_temp])\n",
      "Dphi_array = numpy.array([Dphi_temp])\n",
      "N_array = numpy.array([Ni]) \n",
      "\n",
      "N = Ni\n",
      "print N, phi_temp, Dphi_temp\n",
      "while N < Nf:\n",
      "    array = rk4_step(N, phi_temp, Dphi_temp, step)\n",
      "    phi_temp = phi_temp + array[1]\n",
      "    Dphi_temp = Dphi_temp + array[0]\n",
      "    phi_array = numpy.append(phi_array,phi_temp)\n",
      "    Dphi_array = numpy.append(Dphi_array,Dphi_temp)\n",
      "    N += step\n",
      "#    print N, phi_temp, Dphi_temp\n",
      "    N_array = numpy.append(N_array,N)\n",
      "\n",
      "#plt.plot(numpy.linspace(0,70,npts+1), phi_array)\n",
      "print N, phi_temp, Dphi_temp"
     ],
     "language": "python",
     "metadata": {},
     "outputs": [
      {
       "output_type": "stream",
       "stream": "stdout",
       "text": [
        "0.0 1.0 0.198029508595\n",
        "70.007"
       ]
      },
      {
       "output_type": "stream",
       "stream": "stdout",
       "text": [
        " 14.8634518082 0.198029508595\n"
       ]
      }
     ],
     "prompt_number": 5
    },
    {
     "cell_type": "code",
     "collapsed": false,
     "input": [],
     "language": "python",
     "metadata": {},
     "outputs": []
    },
    {
     "cell_type": "markdown",
     "metadata": {},
     "source": [
      "we can do interpolation to get phi at more points\n",
      "instead of implementing RK4.\n",
      "\n",
      "```\n",
      "N_new = numpy.linspace(Ni,Nf,1000000)\n",
      "phi_array_new = numpy.interp(N_new, N_array, phi_array)\n",
      "Dphi_array_new = numpy.interp(N_new, N_array, Dphi_array)\n",
      "\n",
      "phi_array = phi_array_new\n",
      "Dphi_array = Dphi_array_new\n",
      "N_array = N_new\n",
      "step = (Nf-Ni)/(1000000)\n",
      "```"
     ]
    },
    {
     "cell_type": "code",
     "collapsed": false,
     "input": [
      "N_new = numpy.linspace(Ni,Nf,1000000)\n",
      "phi_array_new = numpy.interp(N_new, N_array, phi_array)\n",
      "Dphi_array_new = numpy.interp(N_new, N_array, Dphi_array)"
     ],
     "language": "python",
     "metadata": {},
     "outputs": [],
     "prompt_number": 6
    },
    {
     "cell_type": "code",
     "collapsed": false,
     "input": [
      "plt.cla()\n",
      "plt.hold(True)\n",
      "plt.plot(N_array, phi_array, 'o')\n",
      "plt.plot(N_new, phi_array_new, '-')"
     ],
     "language": "python",
     "metadata": {},
     "outputs": [
      {
       "metadata": {},
       "output_type": "pyout",
       "prompt_number": 7,
       "text": [
        "[<matplotlib.lines.Line2D at 0xaf06218c>]"
       ]
      },
      {
       "metadata": {},
       "output_type": "display_data",
       "png": "[encoded data removed]",
       "text": [
        "<matplotlib.figure.Figure at 0xaf0c19cc>"
       ]
      }
     ],
     "prompt_number": 7
    },
    {
     "cell_type": "code",
     "collapsed": false,
     "input": [
      "phi_array = phi_array_new\n",
      "Dphi_array = Dphi_array_new\n",
      "N_array = N_new\n",
      "step = (N_array[1]-N_array[0])"
     ],
     "language": "python",
     "metadata": {},
     "outputs": [],
     "prompt_number": 8
    },
    {
     "cell_type": "code",
     "collapsed": false,
     "input": [
      "phi = lambda N : phi_array[int((N-Ni)/step)]\n",
      "Dphi = lambda N : Dphi_array[int((N-Ni)/step)]\n",
      "\n",
      "phi_theory = lambda N : (2./q)**(1./2)*N + phi0"
     ],
     "language": "python",
     "metadata": {},
     "outputs": [],
     "prompt_number": 9
    },
    {
     "cell_type": "code",
     "collapsed": false,
     "input": [
      "#H = [((V(phi_array[i]))/(3 -Dphi_array[i]**2/2))**(1./2) for i in range(len(phi_array))]\n",
      "H = lambda N : (V(phi(N))/(3 -Dphi(N)**2/2))**(1./2)\n",
      "DH = lambda N : H(N)*Dphi(N)\n",
      "\n",
      "H_theory = lambda N : H0*numpy.exp(-N/q)"
     ],
     "language": "python",
     "metadata": {},
     "outputs": [],
     "prompt_number": 10
    },
    {
     "cell_type": "code",
     "collapsed": false,
     "input": [
      "ai = 1e-05\n",
      "\n",
      "eps0 = (3./2)*((dphi0**2)/(dphi0**2/2. + V(phi0)))\n",
      "eps = 1./q \n",
      "\n",
      "eps1 = lambda N : Dphi_array[int((N-Ni)/step)]**2/2.\n",
      "eps1_theory = eps0"
     ],
     "language": "python",
     "metadata": {},
     "outputs": [],
     "prompt_number": 11
    },
    {
     "cell_type": "code",
     "collapsed": false,
     "input": [],
     "language": "python",
     "metadata": {},
     "outputs": []
    },
    {
     "cell_type": "code",
     "collapsed": false,
     "input": [],
     "language": "python",
     "metadata": {},
     "outputs": []
    },
    {
     "cell_type": "code",
     "collapsed": false,
     "input": [
      "#z = [ai*numpy.exp(N_array[i])*Dphi_array[i] for i in range(len(N_array))]\n",
      "z = lambda N: ai*numpy.exp(N)*Dphi(N)\n",
      "A = lambda N : ai*numpy.exp(N)\n",
      "\n",
      "def DDhk(k0, N, hk0, Dhk0):\n",
      "    return -((3. +(DH(N)/H(N)))*Dhk0 +((k0/(A(N)*H(N)))**2)*hk0)\n",
      "\n",
      "def rk4_step(k0, N, hk0, Dhk0, step):\n",
      "    F1 = Dhk0\n",
      "    f1 = DDhk(k0, N, hk0, Dhk0)\n",
      "    F2 = Dhk0 +f1*step/2.\n",
      "    f2 = DDhk(k0, N +step/2., hk0 +F1*step/2., Dhk0 +f1*step/2.)\n",
      "    F3 = Dhk0 +f2*step/2.\n",
      "    f3 = DDhk(k0, N +step/2., hk0 +F2*step/2., Dhk0 +f2*step/2.)\n",
      "    F4 = Dhk0 +f3*step\n",
      "    f4 = DDhk(k0, N +step, hk0 +F3*step, Dhk0 +f3*step)   \n",
      "\n",
      "    return [numpy.array([(f1 +2*f2 +2*f3 +f4)*step/6.], dtype=complex), numpy.array([(F1 +2*F2 +2*F3 +F4)*step/6.], dtype=complex)] # [Dhk, hk] update"
     ],
     "language": "python",
     "metadata": {},
     "outputs": [],
     "prompt_number": 12
    },
    {
     "cell_type": "code",
     "collapsed": false,
     "input": [
      "k_list = numpy.array([10**((-18 + i)/3.) for i in range(19)])\n",
      "Nics_array = []\n",
      "Nshss_array = []\n",
      "\n",
      "for k in k_list:\n",
      "    #temp = numpy.asarray([k/(A(N)*H(N)) for N in N_array])\n",
      "    Nics_temp = numpy.asarray([k - 1e+02*A(N)*H(N) for N in N_array])\n",
      "    Nshss_temp = numpy.asarray([k - 1e-05*A(N)*H(N) for N in N_array])\n",
      "    nics_test = numpy.where(Nics_temp > 0)\n",
      "    nshss_test = numpy.where(Nshss_temp > 0)\n",
      "    Nics_array.append(Ni + nics_test[0][-1]*step)\n",
      "    Nshss_array.append(Ni + nshss_test[0][-1]*step)"
     ],
     "language": "python",
     "metadata": {},
     "outputs": []
    },
    {
     "cell_type": "code",
     "collapsed": false,
     "input": [
      "print Nics_array\n",
      "print Nshss_array"
     ],
     "language": "python",
     "metadata": {},
     "outputs": [
      {
       "output_type": "stream",
       "stream": "stdout",
       "text": [
        "[2.5419125419125419, 3.3247933247933248, 4.1076741076741072, 4.8905548905548901, 5.673435673435673, 6.4563164563164559, 7.2391972391972388, 8.0220780220780217, 8.8049588049588046, 9.5878395878395875, 10.37072037072037, 11.153601153601153]\n",
        "[18.98240898240898, 19.765289765289765, 20.548170548170546, 21.331051331051331, 22.113932113932112, 22.896812896812897, 23.679693679693678, 24.462574462574462, 25.245455245455243, 26.028336028336028, 26.811216811216809, 27.594097594097594]\n"
       ]
      }
     ],
     "prompt_number": 14
    },
    {
     "cell_type": "code",
     "collapsed": false,
     "input": [
      "print Nics_array\n",
      "print Nshss_array"
     ],
     "language": "python",
     "metadata": {},
     "outputs": [
      {
       "output_type": "stream",
       "stream": "stdout",
       "text": [
        "[2.5418450836901672, 3.7161674323348648, 4.8904897809795616, 6.0648121296242588, 7.239134478268956, 8.413456826913654, 9.5877791755583512, 10.762101524203048, 11.936423872847746, 13.110746221492443, 14.28506857013714, 15.459390918781837, 16.633713267426536] [18.982357964715931, 20.156680313360628, 21.331002662005325, 22.505325010650022, 23.679647359294719, 24.853969707939417, 26.028292056584114, 27.202614405228811, 28.376936753873508, 29.551259102518205, 30.725581451162903, 31.8999037998076, 33.074226148452297]\n"
       ]
      }
     ],
     "prompt_number": 20
    },
    {
     "cell_type": "code",
     "collapsed": false,
     "input": [
      "def calG(hk_array, k0, N_Array):\n",
      "    N_range = numpy.linspace(N_Array[0], N_Array[-1], len(hk_array))\n",
      "    func_int = (A(N_range)/numpy.asarray([H(N) for N in N_range]))*numpy.conj(hk_array)**3\n",
      "    #result = romb(func_int, N_Array[1]-N_Array[0])\n",
      "    result = simps(func_int, N_range)\n",
      "    return (-3.*k0**2/4.)*result*numpy.array([0.+1.j], dtype=complex)\n",
      "\n",
      "def calG_cc(hk_array, k0, N_Array):\n",
      "    N_range = numpy.linspace(N_Array[0], N_Array[-1], len(hk_array))\n",
      "    func_int = (A(N_range)/numpy.asarray([H(N) for N in N_range]))*(hk_array)**3\n",
      "    #result = romb(func_int, N_Array[1]-N_Array[0])\n",
      "    result = simps(func_int, N_range)\n",
      "    return (+3.*k0**2/4.)*result*numpy.array([0.+1.j], dtype=complex)\n",
      "\n",
      "def G(hk_array, N_array, k0, calG_array, calG_cc_array):\n",
      "    term1 = calG(hk_array, k0, N_array)\n",
      "    term2 = calG_cc(hk_array, k0, N_array)\n",
      "    calG_array = numpy.append(calG_array, term1)\n",
      "    calG_cc_array = numpy.append(calG_cc_array, term2)\n",
      "    print 'calG =', term1, 'calG* =', term2\n",
      "    \n",
      "    print 2*(hk_array[-1].real**3)*term1.real\n",
      "    print -6*hk_array[-1].real*(hk_array[-1].imag**2)*term1.real\n",
      "    print -6*(hk_array[-1].real**2)*hk_array[-1].imag*term1.imag\n",
      "    print 2*(hk_array[-1].imag**3)*term1.imag\n",
      "    \n",
      "    print '1st term =', (hk_array[-1]**3)*term1, '2nd term =', (numpy.conj(hk_array[-1])**3)*term2\n",
      "    result = (hk_array[-1]**3)*term1 + (numpy.conj(hk_array[-1])**3)*term2\n",
      "    return result"
     ],
     "language": "python",
     "metadata": {},
     "outputs": [],
     "prompt_number": 21
    },
    {
     "cell_type": "code",
     "collapsed": false,
     "input": [
      "k_min = 1e-6\n",
      "k_max = 10**(1./2)\n",
      "\n",
      "print 'lift off!'\n",
      "\n",
      "k_vs_hk = numpy.zeros(1,dtype=complex)\n",
      "\n",
      "G_array = numpy.empty(0, dtype=complex)\n",
      "calG_array = numpy.empty(0, dtype=complex)\n",
      "calG_cc_array = numpy.empty(0, dtype=complex)\n",
      "\n",
      "i = 0\n",
      "k0 = k_min\n",
      "\n",
      "while k0 < k_max:\n",
      "    print 'k0 = ', k0\n",
      "\n",
      "    hk_array = numpy.empty(0, dtype=complex)\n",
      "    N_array = numpy.empty(0)\n",
      "    \n",
      "    Nics = Nics_array[i]\n",
      "    Nshss = Nshss_array[i]\n",
      "\n",
      "    hk0 = numpy.zeros(1,dtype=complex)\n",
      "    hk0.real = (((2.*k0)**(1./2))*A(Nics))**(-1.)\n",
      "\n",
      "    Dhk0 = numpy.zeros(1,dtype=complex)\n",
      "    Dhk0.real = -(1/A(Nics))*((2*k0)**(-1./2))\n",
      "    Dhk0.imag = -((k0/2)**(1./2))/(A(Nics)*A(Nics)*H(Nics))\n",
      " \n",
      "    print 'got Nics, hk0 and Dhk0'\n",
      "    print 'starting from Nics'\n",
      "\n",
      "    N = Nics\n",
      "    j = 0\n",
      "    while N < Nshss:\n",
      "        hk_array = numpy.append(hk_array, hk0)\n",
      "        N_array =numpy.append(N_array, N)\n",
      "        #array = euler_step()\n",
      "        array = rk4_step(k0, N, hk0, Dhk0, step)\n",
      "        hk0 = hk0 + array[1]\n",
      "        Dhk0 = Dhk0 + array[0]\n",
      "        N += step\n",
      "        j += 1\n",
      "\n",
      "    k_vs_hk = numpy.append(k_vs_hk, hk0) \n",
      "    print N-step, Nshss, hk0, Dhk0, Nics\n",
      "    print '\\n'\n",
      "    \n",
      "    temp = 8*(k0)**3/(2*numpy.pi**2)*(numpy.absolute(hk0))**2\n",
      "    \n",
      "    another_temp = G(hk_array, N_array, k0, calG_array, calG_cc_array)\n",
      "    G_array = numpy.append(G_array, another_temp)\n",
      "\n",
      "    k0 = 10**(1./2)*k0\n",
      "    i += 1"
     ],
     "language": "python",
     "metadata": {},
     "outputs": [
      {
       "output_type": "stream",
       "stream": "stdout",
       "text": [
        "lift off!\n",
        "k0 =  1e-06\n",
        "got Nics, hk0 and Dhk0\n",
        "starting from Nics\n",
        "18.9822179644"
       ]
      },
      {
       "output_type": "stream",
       "stream": "stdout",
       "text": [
        " 18.9823579647 [[[[[[[[[[[[[[[[[[[[[[[[[[[[[[[[ 31692.00763706+9197.95136922j]]]]]]]]]]]]]]]]]]]]]]]]]]]]]]]] [[[[[[[[[[[[[[[[[[[[[[[[[[[[[[[[ -2.56189347e-06 -7.43538157e-07j]]]]]]]]]]]]]]]]]]]]]]]]]]]]]]]] 2.54184508369\n",
        "\n",
        "\n",
        "calG ="
       ]
      },
      {
       "output_type": "stream",
       "stream": "stdout",
       "text": [
        " [ -6.08581623e+08 -5.38030260e+08j] calG* = [ -6.08581623e+08 +5.38030260e+08j]\n",
        "[ -3.87434317e+22]\n",
        "[  9.79043649e+21]\n",
        "[  2.98228103e+22]\n",
        "[ -8.37355785e+20]\n",
        "1st term = [  1.62296456e+19 -2.91914169e+22j] 2nd term = [  1.62296456e+19 +2.91914169e+22j]\n",
        "k0 =  3.16227766017e-06\n",
        "got Nics, hk0 and Dhk0\n",
        "starting from Nics\n",
        "20.1565403131"
       ]
      },
      {
       "output_type": "stream",
       "stream": "stdout",
       "text": [
        " 20.1566803134 [[[[[[[[[[[[[[[[[[[[[[[[[[[[[[[[ 5506.8927449+1600.32436293j]]]]]]]]]]]]]]]]]]]]]]]]]]]]]]]] [[[[[[[[[[[[[[[[[[[[[[[[[[[[[[[[ -4.45158603e-07 -1.29365063e-07j]]]]]]]]]]]]]]]]]]]]]]]]]]]]]]]] 3.71616743233\n",
        "\n",
        "\n",
        "calG ="
       ]
      },
      {
       "output_type": "stream",
       "stream": "stdout",
       "text": [
        " [ -1.05856925e+08-93389839.50443056j] calG* = [ -1.05856925e+08+93389839.50443056j]\n",
        "[ -3.53564882e+19]\n",
        "[  8.95763114e+18]\n",
        "[  2.71939398e+19]\n",
        "[ -7.65514948e+17]\n",
        "1st term = [  1.47838912e+16 -2.66231375e+19j] 2nd term = [  1.47838912e+16 +2.66231375e+19j]\n",
        "k0 =  1e-05\n",
        "got Nics, hk0 and Dhk0\n",
        "starting from Nics\n",
        "21.3308626618"
       ]
      },
      {
       "output_type": "stream",
       "stream": "stdout",
       "text": [
        " 21.331002662 [[[[[[[[[[[[[[[[[[[[[[[[[[[[[[[[ 956.88556542+278.45814105j]]]]]]]]]]]]]]]]]]]]]]]]]]]]]]]] [[[[[[[[[[[[[[[[[[[[[[[[[[[[[[[[ -7.73508035e-08 -2.25094861e-08j]]]]]]]]]]]]]]]]]]]]]]]]]]]]]]]] 4.89048978098\n",
        "\n",
        "\n",
        "calG ="
       ]
      },
      {
       "output_type": "stream",
       "stream": "stdout",
       "text": [
        " [-18413885.99859421-16208939.26440895j] calG* = [-18413885.99859421+16208939.26440895j]\n",
        "[ -3.22667672e+16]\n",
        "[  8.19740784e+15]\n",
        "[  2.47962366e+16]\n",
        "[ -6.99945699e+14]\n",
        "1st term = [  1.34657674e+13 -2.42806906e+16j] 2nd term = [  1.34657674e+13 +2.42806906e+16j]\n",
        "k0 =  3.16227766017e-05\n",
        "got Nics, hk0 and Dhk0\n",
        "starting from Nics\n",
        "22.5051850104"
       ]
      },
      {
       "output_type": "stream",
       "stream": "stdout",
       "text": [
        " 22.5053250107 [[[[[[[[[[[[[[[[[[[[[[[[[[[[[[[[ 166.26860776+48.45690234j]]]]]]]]]]]]]]]]]]]]]]]]]]]]]]]]"
       ]
      },
      {
       "output_type": "stream",
       "stream": "stdout",
       "text": [
        " [[[[[[[[[[[[[[[[[[[[[[[[[[[[[[[[ -1.34403857e-08 -3.91703953e-09j]]]]]]]]]]]]]]]]]]]]]]]]]]]]]]]] 6.06481212962\n",
        "\n",
        "\n",
        "calG ="
       ]
      },
      {
       "output_type": "stream",
       "stream": "stdout",
       "text": [
        " [-3203364.81995761-2812979.47120421j] calG* = [-3203364.81995761+2812979.47120421j]\n",
        "[ -2.94487712e+13]\n",
        "[  7.50376472e+12]\n",
        "[  2.26096574e+13]\n",
        "[ -6.40123104e+11]\n",
        "1st term = [  1.22638970e+10 -2.21445475e+13j] 2nd term = [  1.22638970e+10 +2.21445475e+13j]\n",
        "k0 =  0.0001\n",
        "got Nics, hk0 and Dhk0\n",
        "starting from Nics\n",
        "23.6795073591"
       ]
      },
      {
       "output_type": "stream",
       "stream": "stdout",
       "text": [
        " 23.6796473593 [[[[[[[[[[[[[[[[[[[[[[[[[[[[[[[[ 28.89065989+8.43288165j]]]]]]]]]]]]]]]]]]]]]]]]]]]]]]]] [[[[[[[[[[[[[[[[[[[[[[[[[[[[[[[[ -2.33536934e-09 -6.81671207e-10j]]]]]]]]]]]]]]]]]]]]]]]]]]]]]]]] 7.23913447827\n",
        "\n",
        "\n",
        "calG ="
       ]
      },
      {
       "output_type": "stream",
       "stream": "stdout",
       "text": [
        " [-557293.72854343-488144.71633945j] calG* = [-557293.72854343+488144.71633945j]\n",
        "[ -2.68773556e+10]\n",
        "[  6.86981241e+09]\n",
        "[  2.06153528e+10]\n",
        "[ -5.85472640e+08]\n",
        "1st term = [ 11168520.4574869 -2.01961278e+10j] 2nd term = [ 11168520.4574869 +2.01961278e+10j]\n",
        "k0 =  0.000316227766017\n",
        "got Nics, hk0 and Dhk0\n",
        "starting from Nics\n",
        "24.8538297077"
       ]
      },
      {
       "output_type": "stream",
       "stream": "stdout",
       "text": [
        " 24.8539697079 [[[[[[[[[[[[[[[[[[[[[[[[[[[[[[[[ 5.01993866+1.46779672j]]]]]]]]]]]]]]]]]]]]]]]]]]]]]]]] [[[[[[[[[[[[[[[[[[[[[[[[[[[[[[[[ -4.05782356e-10 -1.18648293e-10j]]]]]]]]]]]]]]]]]]]]]]]]]]]]]]]] 8.41345682691\n",
        "\n",
        "\n",
        "calG ="
       ]
      },
      {
       "output_type": "stream",
       "stream": "stdout",
       "text": [
        " [-96964.87485232-84694.97654026j] calG* = [-96964.87485232+84694.97654026j]\n",
        "[-24532379.10984387]\n",
        "[ 6292104.50927456]\n",
        "[ 18796268.30107452]\n",
        "[-535655.27512834]\n",
        "1st term = [ 10169.21268844-18419107.39479636j] 2nd term = [ 10169.21268844+18419107.39479636j]\n",
        "k0 =  0.001\n",
        "got Nics, hk0 and Dhk0\n",
        "starting from Nics\n",
        "26.0281520564"
       ]
      },
      {
       "output_type": "stream",
       "stream": "stdout",
       "text": [
        " 26.0282920566 [[[[[[[[[[[[[[[[[[[[[[[[[[[[[[[[ 0.87226452+0.25541876j]]]]]]]]]]]]]]]]]]]]]]]]]]]]]]]] [[[[[[[[[[[[[[[[[[[[[[[[[[[[[[[[ -7.05081944e-11 -2.06464322e-11j]]]]]]]]]]]]]]]]]]]]]]]]]]]]]]]] 9.58777917556\n",
        "\n",
        "\n",
        "calG ="
       ]
      },
      {
       "output_type": "stream",
       "stream": "stdout",
       "text": [
        " [-16868.08354141-14698.34301136j] calG* = [-16868.08354141+14698.34301136j]\n",
        "[-22389.29213421]\n",
        "[ 5759.31455937]\n",
        "[ 17138.34351505]\n",
        "[-489.84284659]\n",
        "1st term = [ 9.26154681-16798.4921212j] 2nd term = [ 9.26154681+16798.4921212j]\n",
        "k0 =  0.00316227766017\n",
        "got Nics, hk0 and Dhk0\n",
        "starting from Nics\n",
        "27.202474405"
       ]
      },
      {
       "output_type": "stream",
       "stream": "stdout",
       "text": [
        " 27.2026144052 [[[[[[[[[[[[[[[[[[[[[[[[[[[[[[[[ 0.15156465+0.04444663j]]]]]]]]]]]]]]]]]]]]]]]]]]]]]]]] [[[[[[[[[[[[[[[[[[[[[[[[[[[[[[[[ -1.22514065e-11 -3.59275558e-12j]]]]]]]]]]]]]]]]]]]]]]]]]]]]]]]] 10.7621015242\n",
        "\n",
        "\n",
        "calG ="
       ]
      },
      {
       "output_type": "stream",
       "stream": "stdout",
       "text": [
        " [-2934.37733371-2550.80743039j] calG* = [-2934.37733371+2550.80743039j]\n",
        "[-20.43335779]\n",
        "[ 5.27160406]\n",
        "[ 15.62656789]\n",
        "[-0.44794443]\n",
        "1st term = [ 0.00843487-15.32046678j] 2nd term = [ 0.00843487+15.32046678j]\n",
        "k0 =  0.01\n",
        "got Nics, hk0 and Dhk0\n",
        "starting from Nics\n",
        "28.3767967537"
       ]
      },
      {
       "output_type": "stream",
       "stream": "stdout",
       "text": [
        " 28.3769367539 [[[[[[[[[[[[[[[[[[[[[[[[[[[[[[[[ 0.02633586+0.00773435j]]]]]]]]]]]]]]]]]]]]]]]]]]]]]]]] [[[[[[[[[[[[[[[[[[[[[[[[[[[[[[[[ -2.12878702e-12 -6.25186303e-13j]]]]]]]]]]]]]]]]]]]]]]]]]]]]]]]] 11.9364238728\n",
        "\n",
        "\n",
        "calG ="
       ]
      },
      {
       "output_type": "stream",
       "stream": "stdout",
       "text": [
        " [-510.46391768-442.67551198j] calG* = [-510.46391768+442.67551198j]\n",
        "[-0.01864823]\n",
        "[ 0.00482516]\n",
        "[ 0.01424806]\n",
        "[-0.00040963]\n",
        "1st term = [  7.68194817e-06-0.01397248j] 2nd term = [  7.68194817e-06+0.01397248j]\n",
        "k0 =  0.0316227766017\n",
        "got Nics, hk0 and Dhk0\n",
        "starting from Nics\n",
        "29.5511191024"
       ]
      },
      {
       "output_type": "stream",
       "stream": "stdout",
       "text": [
        " 29.5512591025 [[[[[[[[[[[[[[[[[[[[[[[[[[[[[[[[ 0.00457611+0.00134588j]]]]]]]]]]]]]]]]]]]]]]]]]]]]]]]] [[[[[[[[[[[[[[[[[[[[[[[[[[[[[[[[ -3.69894562e-13 -1.08790034e-13j]]]]]]]]]]]]]]]]]]]]]]]]]]]]]]]] 13.1107462215\n",
        "\n",
        "\n",
        "calG ="
       ]
      },
      {
       "output_type": "stream",
       "stream": "stdout",
       "text": [
        " [-88.79958388-76.82297033j] calG* = [-88.79958388+76.82297033j]\n",
        "[ -1.70188769e-05]\n",
        "[  4.41644500e-06]\n",
        "[  1.29910021e-05]\n",
        "[ -3.74577834e-07]\n",
        "1st term = [  6.99620123e-09 -1.27430110e-05j] 2nd term = [  6.99620123e-09 +1.27430110e-05j]\n",
        "k0 =  0.1\n",
        "got Nics, hk0 and Dhk0\n",
        "starting from Nics\n",
        "30.725441451"
       ]
      },
      {
       "output_type": "stream",
       "stream": "stdout",
       "text": [
        " 30.7255814512 [[[[[[[[[[[[[[[[[[[[[[[[[[[[[[[[ 0.00079515+0.0002342j]]]]]]]]]]]]]]]]]]]]]]]]]]]]]]]] [[[[[[[[[[[[[[[[[[[[[[[[[[[[[[[[ -6.42724540e-14 -1.89302571e-14j]]]]]]]]]]]]]]]]]]]]]]]]]]]]]]]] 14.2850685701\n",
        "\n",
        "\n",
        "calG ="
       ]
      },
      {
       "output_type": "stream",
       "stream": "stdout",
       "text": [
        " [-15.44712404-13.33239017j] calG* = [-15.44712404+13.33239017j]\n",
        "[ -1.55316823e-08]\n",
        "[  4.04204702e-09]\n",
        "[  1.18448874e-08]\n",
        "[ -3.42508450e-10]\n",
        "1st term = [  6.37183883e-12 -1.16217654e-08j] 2nd term = [  6.37183883e-12 +1.16217654e-08j]\n",
        "k0 =  0.316227766017\n",
        "got Nics, hk0 and Dhk0\n",
        "starting from Nics\n",
        "31.8997637997"
       ]
      },
      {
       "output_type": "stream",
       "stream": "stdout",
       "text": [
        " 31.8999037998 [[[[[[[[[[[[[[[[[[[[[[[[[[[[[[[[ 0.00013817 +4.07481642e-05j]]]]]]]]]]]]]]]]]]]]]]]]]]]]]]]] [[[[[[[[[[[[[[[[[[[[[[[[[[[[[[[[ -1.11680127e-14 -3.29369540e-15j]]]]]]]]]]]]]]]]]]]]]]]]]]]]]]]] 15.4593909188\n",
        "\n",
        "\n",
        "calG ="
       ]
      },
      {
       "output_type": "stream",
       "stream": "stdout",
       "text": [
        " [-2.68691879-2.31401922j] calG* = [-2.68691879+2.31401922j]\n",
        "[ -1.41738734e-11]\n",
        "[  3.69847956e-12]\n",
        "[  1.08001288e-11]\n",
        "[ -3.13127419e-13]\n",
        "1st term = [  5.80376185e-15 -1.05992722e-11j] 2nd term = [  5.80376185e-15 +1.05992722e-11j]\n",
        "k0 =  1.0\n",
        "got Nics, hk0 and Dhk0\n",
        "starting from Nics\n",
        "33.0740861483"
       ]
      },
      {
       "output_type": "stream",
       "stream": "stdout",
       "text": [
        " 33.0742261485 [[[[[[[[[[[[[[[[[[[[[[[[[[[[[[[[  2.40080555e-05 +7.08953849e-06j]]]]]]]]]]]]]]]]]]]]]]]]]]]]]]]] [[[[[[[[[[[[[[[[[[[[[[[[[[[[[[[[ -1.94056495e-15 -5.73046660e-16j]]]]]]]]]]]]]]]]]]]]]]]]]]]]]]]] 16.6337132674\n",
        "\n",
        "\n",
        "calG ="
       ]
      },
      {
       "output_type": "stream",
       "stream": "stdout",
       "text": [
        " [-0.46735274-0.40164613j] calG* = [-0.46735274+0.40164613j]\n",
        "[ -1.29343840e-14]\n",
        "[  3.38367748e-15]\n",
        "[  9.84751780e-15]\n",
        "[ -2.86238123e-16]\n",
        "1st term = [  5.28656803e-18 -9.66669157e-15j] 2nd term = [  5.28656803e-18 +9.66669157e-15j]\n"
       ]
      }
     ],
     "prompt_number": 24
    },
    {
     "cell_type": "code",
     "collapsed": false,
     "input": [
      "k_list = numpy.array([10**((-12 + i)/2.) for i in range(13)])\n",
      "#print len(k_list), len(k_vs_hkhk)\n",
      "TPS = [8*(k_list[i])**3/(2*numpy.pi**2)*(numpy.absolute(k_vs_hk[i+1]))**2 for i in range(len(k_list))]\n",
      "print k_list, TPS\n",
      "\n",
      "plt.loglog(k_list, TPS)\n",
      "#plt.savefig('power_spectrum_power_law.png')"
     ],
     "language": "python",
     "metadata": {},
     "outputs": [
      {
       "output_type": "stream",
       "stream": "stdout",
       "text": [
        "[  1.00000000e-06   3.16227766e-06   1.00000000e-05   3.16227766e-05\n",
        "   1.00000000e-04   3.16227766e-04   1.00000000e-03   3.16227766e-03\n",
        "   1.00000000e-02   3.16227766e-02   1.00000000e-01   3.16227766e-01\n",
        "   1.00000000e+00] [4.4134926313267251e-10, 4.2148610300293617e-10, 4.0251620278274973e-10, 3.8440126302237239e-10, 3.6710031529231582e-10, 3.5057782617922565e-10, 3.3479929115996324e-10, 3.1973089857898339e-10, 3.0534066887441402e-10, 2.9159740412853552e-10, 2.7847305495189162e-10, 2.6594020294984701e-10, 2.5397098422575646e-10]\n"
       ]
      },
      {
       "metadata": {},
       "output_type": "pyout",
       "prompt_number": 25,
       "text": [
        "[<matplotlib.lines.Line2D at 0xadcbbcec>]"
       ]
      },
      {
       "metadata": {},
       "output_type": "display_data",
       "png": "[encoded data removed]",
       "text": [
        "<matplotlib.figure.Figure at 0xadcd5e4c>"
       ]
      }
     ],
     "prompt_number": 25
    },
    {
     "cell_type": "code",
     "collapsed": false,
     "input": [
      "calG_array = numpy.array([ -6.08581623e+08 -5.38030260e+08j, -1.05856925e+08-93389839.50443056j, -18413885.99859421-16208939.26440895j, -3203364.81995761-2812979.47120421j, -557293.72854343-488144.71633945j, -96964.87485232-84694.97654026j, -16868.08354141-14698.34301136j, -2934.37733371-2550.80743039j, -510.46391768-442.67551198j, -88.79958388-76.82297033j, -15.44712404-13.33239017j, -2.68691879-2.31401922j, -0.46735274-0.40164613j], dtype=complex)"
     ],
     "language": "python",
     "metadata": {},
     "outputs": [],
     "prompt_number": 37
    },
    {
     "cell_type": "code",
     "collapsed": false,
     "input": [
      "plt.loglog(k_list, numpy.absolute(calG_array))"
     ],
     "language": "python",
     "metadata": {},
     "outputs": [
      {
       "metadata": {},
       "output_type": "pyout",
       "prompt_number": 38,
       "text": [
        "[<matplotlib.lines.Line2D at 0xacccf38c>]"
       ]
      },
      {
       "metadata": {},
       "output_type": "display_data",
       "png": "[encoded data removed]",
       "text": [
        "<matplotlib.figure.Figure at 0xad3a4fec>"
       ]
      }
     ],
     "prompt_number": 38
    },
    {
     "cell_type": "code",
     "collapsed": false,
     "input": [
      "plt.loglog(k_list, (k_list**(3./2))*numpy.absolute(calG_array))"
     ],
     "language": "python",
     "metadata": {},
     "outputs": [
      {
       "metadata": {},
       "output_type": "pyout",
       "prompt_number": 39,
       "text": [
        "[<matplotlib.lines.Line2D at 0xace8c1ac>]"
       ]
      },
      {
       "metadata": {},
       "output_type": "display_data",
       "png": "[encoded data removed]",
       "text": [
        "<matplotlib.figure.Figure at 0xacd306ac>"
       ]
      }
     ],
     "prompt_number": 39
    },
    {
     "cell_type": "code",
     "collapsed": false,
     "input": [
      "plt.loglog(k_list, G_array.real)\n",
      "plt.title(r\"$k$ vs $G$ in the equilateral limit\")\n",
      "plt.xlabel(r\"$k$\")\n",
      "plt.ylabel(r\"$G$\")\n",
      "plt.savefig(\"G_equilateral_lt.png\")"
     ],
     "language": "python",
     "metadata": {},
     "outputs": [
      {
       "metadata": {},
       "output_type": "display_data",
       "png": "[encoded data removed]",
       "text": [
        "<matplotlib.figure.Figure at 0xae618fac>"
       ]
      }
     ],
     "prompt_number": 16
    },
    {
     "cell_type": "code",
     "collapsed": false,
     "input": [
      "plt.loglog(k_list, (k_list**6)*G_array.real)\n",
      "plt.title(r\"$k$ vs $k^6*G$ in the equilateral limit\")\n",
      "plt.xlabel(r\"$k$\")\n",
      "plt.ylabel(r\"$k^6*G$\")\n",
      "plt.savefig(\"k6G_equilateral_lt.png\")"
     ],
     "language": "python",
     "metadata": {},
     "outputs": [
      {
       "metadata": {},
       "output_type": "display_data",
       "png": "[encoded data removed]",
       "text": [
        "<matplotlib.figure.Figure at 0xae6ac32c>"
       ]
      }
     ],
     "prompt_number": 17
    },
    {
     "cell_type": "code",
     "collapsed": false,
     "input": [
      "h_NL = (-1./6)*((4./(2.*numpy.pi**2))**2)*(k_list**6)*G_array/TPS"
     ],
     "language": "python",
     "metadata": {},
     "outputs": [],
     "prompt_number": 9
    },
    {
     "cell_type": "code",
     "collapsed": false,
     "input": [
      "plt.semilogx(k_list, h_NL)\n",
      "plt.title(r\"$k$ vs $h_{NL}$ in the equilateral limit\")\n",
      "plt.xlabel(r\"$k$\")\n",
      "plt.ylabel(r\"$h_{NL}$\")\n",
      "plt.savefig(\"h_NL_equilateral_lt.png\")"
     ],
     "language": "python",
     "metadata": {},
     "outputs": [
      {
       "metadata": {},
       "output_type": "display_data",
       "png": "[encoded data removed]",
       "text": [
        "<matplotlib.figure.Figure at 0xaea9510c>"
       ]
      }
     ],
     "prompt_number": 18
    },
    {
     "cell_type": "code",
     "collapsed": false,
     "input": [
      "print k_list, '\\n', TPS, '\\n', calG_array,'\\n',G_array, '\\n', h_NL"
     ],
     "language": "python",
     "metadata": {},
     "outputs": [
      {
       "output_type": "stream",
       "stream": "stdout",
       "text": [
        "[  1.00000000e-06   3.16227766e-06   1.00000000e-05   3.16227766e-05\n",
        "   1.00000000e-04   3.16227766e-04   1.00000000e-03   3.16227766e-03\n",
        "   1.00000000e-02   3.16227766e-02   1.00000000e-01   3.16227766e-01\n",
        "   1.00000000e+00] \n",
        "[4.4134926313267251e-10, 4.2148610300293617e-10, 4.0251620278274973e-10, 3.8440126302237239e-10, 3.6710031529231582e-10, 3.5057782617922565e-10, 3.3479929115996324e-10, 3.1973089857898339e-10, 3.0534066887441402e-10, 2.9159740412853552e-10, 2.7847305495189162e-10, 2.6594020294984701e-10, 2.5397098422575646e-10] \n",
        "[ -6.08581623e+08 -5.38030260e+08j  -1.05856925e+08 -9.33898395e+07j\n",
        "  -1.84138860e+07 -1.62089393e+07j  -3.20336482e+06 -2.81297947e+06j\n",
        "  -5.57293729e+05 -4.88144716e+05j  -9.69648749e+04 -8.46949765e+04j\n",
        "  -1.68680835e+04 -1.46983430e+04j  -2.93437733e+03 -2.55080743e+03j\n",
        "  -5.10463918e+02 -4.42675512e+02j  -8.87995839e+01 -7.68229703e+01j\n",
        "  -1.54471240e+01 -1.33323902e+01j  -2.68691879e+00 -2.31401922e+00j\n",
        "  -4.67352740e-01 -4.01646130e-01j] \n",
        "[  3.24592911e+19+0.j   2.95677823e+16+0.j   2.69315348e+13+0.j\n",
        "   2.45277941e+10+0.j   2.23370409e+07+0.j   2.03384254e+04+0.j\n",
        "   1.85230936e+01+0.j   1.68697327e-02+0.j   1.53638963e-05+0.j\n",
        "   1.39924025e-08+0.j   1.27436777e-11+0.j   1.16075237e-14+0.j\n",
        "   1.05731361e-17+0.j] \n",
        "[ -5.03345135e-10+0.j  -4.80114412e-10+0.j  -4.57917233e-10+0.j\n",
        "  -4.36699742e-10+0.j  -4.16437789e-10+0.j  -3.97047195e-10+0.j\n",
        "  -3.78650245e-10+0.j  -3.61104453e-10+0.j  -3.44370519e-10+0.j\n",
        "  -3.28411143e-10+0.j  -3.13199348e-10+0.j  -2.98720366e-10+0.j\n",
        "  -2.84923958e-10+0.j]"
       ]
      },
      {
       "output_type": "stream",
       "stream": "stdout",
       "text": [
        "\n"
       ]
      }
     ],
     "prompt_number": 41
    },
    {
     "cell_type": "code",
     "collapsed": false,
     "input": [
      "k_list = numpy.array([  1.00000000e-06,   3.16227766e-06,   1.00000000e-05,   3.16227766e-05,\n",
      "   1.00000000e-04,   3.16227766e-04,   1.00000000e-03,   3.16227766e-03,\n",
      "   1.00000000e-02,   3.16227766e-02,   1.00000000e-01,   3.16227766e-01,\n",
      "   1.00000000e+00])\n",
      "TPS = numpy.array([4.4134926313267251e-10, 4.2148610300293617e-10, 4.0251620278274973e-10, 3.8440126302237239e-10, 3.6710031529231582e-10, 3.5057782617922565e-10, 3.3479929115996324e-10, 3.1973089857898339e-10, 3.0534066887441402e-10, 2.9159740412853552e-10, 2.7847305495189162e-10, 2.6594020294984701e-10, 2.5397098422575646e-10])\n",
      "G_array = numpy.array([  3.24592911e+19+0.j,   2.95677823e+16+0.j,   2.69315348e+13+0.j,\n",
      "   2.45277941e+10+0.j,   2.23370409e+07+0.j,   2.03384254e+04+0.j,\n",
      "   1.85230936e+01+0.j,   1.68697327e-02+0.j,   1.53638963e-05+0.j,\n",
      "   1.39924025e-08+0.j,   1.27436777e-11+0.j,   1.16075237e-14+0.j,\n",
      "   1.05731361e-17+0.j])"
     ],
     "language": "python",
     "metadata": {},
     "outputs": [],
     "prompt_number": 3
    },
    {
     "cell_type": "code",
     "collapsed": false,
     "input": [
      "h_NL = (-1./3)*(4.**2/(2.*numpy.pi)**(1./2))*(k_list**3)*G_array/TPS"
     ],
     "language": "python",
     "metadata": {},
     "outputs": [],
     "prompt_number": 4
    },
    {
     "cell_type": "code",
     "collapsed": false,
     "input": [
      "plt.semilogx(k_list[3:], numpy.real(h_NL[3:]))"
     ],
     "language": "python",
     "metadata": {},
     "outputs": [
      {
       "metadata": {},
       "output_type": "pyout",
       "prompt_number": 8,
       "text": [
        "[<matplotlib.lines.Line2D at 0xaf0c14cc>]"
       ]
      },
      {
       "metadata": {},
       "output_type": "display_data",
       "png": "[encoded data removed]",
       "text": [
        "<matplotlib.figure.Figure at 0xaed5558c>"
       ]
      }
     ],
     "prompt_number": 8
    },
    {
     "cell_type": "code",
     "collapsed": false,
     "input": [],
     "language": "python",
     "metadata": {},
     "outputs": []
    }
   ],
   "metadata": {}
  }
 ]
}