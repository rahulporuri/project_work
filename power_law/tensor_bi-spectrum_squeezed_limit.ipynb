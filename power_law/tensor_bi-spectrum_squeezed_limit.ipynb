{
 "metadata": {
  "name": "",
  "signature": "sha256:dfc1bd10a834fbd866f5562a9808a298152a527d50751ac6fd1fac6fd9fd6e27"
 },
 "nbformat": 3,
 "nbformat_minor": 0,
 "worksheets": [
  {
   "cells": [
    {
     "cell_type": "code",
     "collapsed": false,
     "input": [
      "import numpy\n",
      "import matplotlib.pyplot as plt\n",
      "import scipy.optimize as opt\n",
      "from scipy.integrate import romb, simps\n",
      "\n",
      "import time\n",
      "import multiprocessing as mp\n",
      "import random\n",
      "import string"
     ],
     "language": "python",
     "metadata": {},
     "outputs": [],
     "prompt_number": 1
    },
    {
     "cell_type": "code",
     "collapsed": false,
     "input": [
      "%matplotlib inline"
     ],
     "language": "python",
     "metadata": {},
     "outputs": [],
     "prompt_number": 2
    },
    {
     "cell_type": "code",
     "collapsed": false,
     "input": [
      "parallel_output = mp.Queue()\n",
      "\n",
      "plt.rc('text', usetex=True)\n",
      "plt.rc('font', family='serif')"
     ],
     "language": "python",
     "metadata": {},
     "outputs": [],
     "prompt_number": 3
    },
    {
     "cell_type": "code",
     "collapsed": false,
     "input": [
      "q = 51.\n",
      "V0 = (204./100.)*1e-08\n",
      "t0 = (q*(3.*q -1.)/V0)**(1./2)\n",
      "\n",
      "phi0 = 1.\n",
      "dphi0 = (2.*q)**(1./2)/t0\n",
      "\n",
      "Ni = 0.\n",
      "Nf = 70."
     ],
     "language": "python",
     "metadata": {},
     "outputs": [],
     "prompt_number": 4
    },
    {
     "cell_type": "code",
     "collapsed": false,
     "input": [
      "V = lambda _phi : V0*numpy.exp(-(2./q)**(1./2)*(_phi -phi0))\n",
      "dV = lambda _phi : -(2./q)**(1./2)*V0*numpy.exp(-(2./q)**(1./2)*(_phi -phi0))\n",
      "\n",
      "H0 = ((1./3)*(dphi0**2/2. +V(phi0)))**(1./2.)\n",
      "Dphi0 = dphi0/H0\n",
      "\n",
      "def DDphi(_N, _phi, _Dphi):\n",
      "    return -(3 -_Dphi**2/2.)*_Dphi -(dV(_phi)/(2*V(_phi)))*(6 -_Dphi**2)\n",
      "\n",
      "def rk4_step(_N, _phi, _Dphi, _step):\n",
      "    F1 = _Dphi\n",
      "    f1 = DDphi(_N, _phi, _Dphi)\n",
      "    F2 = _Dphi +f1*_step/2.\n",
      "    f2 = DDphi(_N +_step/2., _phi +F1*_step/2., _Dphi +f1*_step/2.)\n",
      "    F3 = _Dphi +f2*step/2.\n",
      "    f3 = DDphi(_N +_step/2., _phi +F2*_step/2., _Dphi +f2*_step/2.)\n",
      "    F4 = _Dphi +f3*step\n",
      "    f4 = DDphi(_N +_step, _phi +F3*_step, _Dphi +f3*_step)  \n",
      "\n",
      "    return [(f1 +2*f2 +2*f3 +f4)*_step/6., (F1 +2*F2 +2*F3 +F4)*_step/6.] # [Dhk, hk] update"
     ],
     "language": "python",
     "metadata": {},
     "outputs": [],
     "prompt_number": 5
    },
    {
     "cell_type": "code",
     "collapsed": false,
     "input": [
      "npts = 100000\n",
      "step = (Nf-Ni)/(npts)\n",
      "\n",
      "phi_ = phi0\n",
      "Dphi_ = Dphi0\n",
      "\n",
      "phi_array = numpy.array([phi_])\n",
      "Dphi_array = numpy.array([Dphi_])\n",
      "N_array = numpy.array([Ni]) \n",
      "\n",
      "phi_theory = lambda _N : (2./q)**(1./2)*_N + phi0\n",
      "\n",
      "N = Ni\n",
      "while N < Nf:\n",
      "    array = rk4_step(N, phi_, Dphi_, step)\n",
      "    phi_ = phi_ + array[1]\n",
      "    Dphi_ = Dphi_ + array[0]\n",
      "    phi_array = numpy.append(phi_array,phi_)\n",
      "    Dphi_array = numpy.append(Dphi_array,Dphi_)\n",
      "    N += step\n",
      "    N_array = numpy.append(N_array,N)"
     ],
     "language": "python",
     "metadata": {},
     "outputs": [],
     "prompt_number": 6
    },
    {
     "cell_type": "code",
     "collapsed": false,
     "input": [
      "phi = lambda _N : phi_array[int((_N-Ni)/step)]\n",
      "Dphi = lambda _N : Dphi_array[int((_N-Ni)/step)]\n",
      "\n",
      "eps0 = (3./2)*((dphi0**2)/(dphi0**2/2. + V(phi0)))\n",
      "eps = 1./q \n",
      "\n",
      "H = lambda _N : (V(phi(_N))/(3 -Dphi(_N)**2/2))**(1./2)\n",
      "DH = lambda _N : H(_N)*Dphi(_N)\n",
      "\n",
      "H_theory = lambda _N : H0*numpy.exp(-_N/q)\n",
      "\n",
      "ai = 1e-05\n",
      "\n",
      "eps1 = lambda _N : Dphi_array[int((_N-Ni)/step)]**2/2.\n",
      "eps1_theory = eps0\n",
      "\n",
      "z = lambda _N: ai*numpy.exp(_N)*Dphi(_N)\n",
      "A = lambda _N : ai*numpy.exp(_N)\n",
      "\n",
      "k0 = numpy.empty(0)\n",
      "\n",
      "def DDhk(_k, _N, _hk, _Dhk):\n",
      "    return -((3. +(DH(_N)/H(_N)))*_Dhk +((_k/(A(_N)*H(_N)))**2)*_hk)\n",
      "\n",
      "\n",
      "def rk4_step(_k, _N, _hk, _Dhk, _step):\n",
      "    F1 = _Dhk\n",
      "    f1 = DDhk(_k, _N, _hk, _Dhk)\n",
      "    F2 = _Dhk +f1*_step/2.\n",
      "    f2 = DDhk(_k, _N +_step/2., _hk +F1*_step/2., _Dhk +f1*_step/2.)\n",
      "    F3 = _Dhk +f2*_step/2.\n",
      "    f3 = DDhk(_k, _N +_step/2., _hk +F2*_step/2., _Dhk +f2*_step/2.)\n",
      "    F4 = _Dhk +f3*_step\n",
      "    f4 = DDhk(_k, _N +_step, _hk +F3*_step, _Dhk +f3*_step)\n",
      "\n",
      "    return (numpy.array([(f1 +2*f2 +2*f3 +f4)*_step/6.], dtype=complex),\n",
      "            numpy.array([(F1 +2*F2 +2*F3 +F4)*_step/6.], dtype=complex))\n",
      "            # [Dhk, hk] update"
     ],
     "language": "python",
     "metadata": {},
     "outputs": [],
     "prompt_number": 7
    },
    {
     "cell_type": "code",
     "collapsed": false,
     "input": [
      "def solve_Nics(k, eN_array):\n",
      "    step = eN_array[1] -eN_array[0]\n",
      "    Nics_temp = numpy.asarray([k - 1e+02*A(N)*H(N) for N in eN_array])\n",
      "    nics_test = numpy.where(Nics_temp > 0)\n",
      "    return Ni + nics_test[0][-1]*step\n",
      "\n",
      "def solve_Nshss(k, eN_array):\n",
      "    step = eN_array[1] -eN_array[0]\n",
      "    Nshss_temp = numpy.asarray([k - 1e-05*A(N)*H(N) for N in eN_array])\n",
      "    nshss_test = numpy.where(Nshss_temp > 0)\n",
      "    return Ni + nshss_test[0][-1]*step\n",
      "\n",
      "def initialize_hk(k, _Nics):\n",
      "    hk0 = numpy.zeros(1,dtype=complex)             \n",
      "    hk0.real = (((2.*k)**(1./2))*A(_Nics))**(-1.)\n",
      "    return hk0\n",
      "\n",
      "def initialize_Dhk(k, _Nics):\n",
      "    Dhk0 = numpy.zeros(1,dtype=complex)\n",
      "    Dhk0.real = -(1/A(_Nics))*((2*k)**(-1./2))\n",
      "    Dhk0.imag = -((k/2)**(1./2))/(A(_Nics)*A(_Nics)*H(_Nics))\n",
      "    return Dhk0\n",
      "\n",
      "def evolve_hk(k, Nics, Nshss, step):    \n",
      "    hk = numpy.empty(0, dtype=complex)\n",
      "    Dhk = numpy.empty(0, dtype=complex)\n",
      "    \n",
      "    hk = initialize_hk(k, Nics)\n",
      "    Dhk = initialize_Dhk(k, Nics)\n",
      "    \n",
      "    hk_array = numpy.empty(0, dtype=complex)\n",
      "    \n",
      "    N = Nics\n",
      "    while N < Nshss:\n",
      "        hk_array = numpy.append(hk_array, hk)\n",
      "        array = rk4_step(k, N, hk, Dhk, step)\n",
      "        hk = hk + array[1]\n",
      "        Dhk = Dhk + array[0]\n",
      "        N += step\n",
      "\n",
      "    return hk_array"
     ],
     "language": "python",
     "metadata": {},
     "outputs": [],
     "prompt_number": 43
    },
    {
     "cell_type": "code",
     "collapsed": false,
     "input": [
      "def calG(hk_k1_array, hk_k2_array, hk_k3_array, k1, k2, k3, N_array):\n",
      "    Nics= solve_Nics(numpy.min([k1, k2, k3]), N_array)\n",
      "    Nshss= solve_Nshss(numpy.max([k1, k2, k3]), N_array)\n",
      "\n",
      "    N_range = numpy.linspace(Nics, Nshss, len(hk_k1_array))\n",
      "    func_int = ((A(N_range)/numpy.asarray([H(N) for N in N_range]))*\n",
      "                (numpy.conj(hk_k1_array)*numpy.conj(hk_k2_array)*numpy.conj(hk_k3_array)))\n",
      "    result = simps(func_int, N_range)\n",
      "\n",
      "    return -(k1**2. +k2**2. +k3**2)/4.*result*numpy.array([0.+1.j], dtype=complex)\n",
      "\n",
      "\n",
      "def calG_cc(hk_k1_array, hk_k2_array, hk_k3_array, k1, k2, k3, N_array):\n",
      "    Nics= solve_Nics(numpy.min([k1, k2, k3]), N_array)\n",
      "    Nshss= solve_Nshss(numpy.max([k1, k2, k3]), N_array)\n",
      "    \n",
      "    N_range = numpy.linspace(Nics, Nshss, len(hk_k1_array))\n",
      "    func_int = ((A(N_range)/numpy.asarray([H(N) for N in N_range]))*\n",
      "                (hk_k1_array*hk_k2_array*hk_k3_array))\n",
      "    result = simps(func_int, N_range)\n",
      "\n",
      "    return (k1**2. +k2**2. +k3**2)/4.*result*numpy.array([0.+1.j], dtype=complex)"
     ],
     "language": "python",
     "metadata": {},
     "outputs": [],
     "prompt_number": 31
    },
    {
     "cell_type": "code",
     "collapsed": false,
     "input": [
      "k0 = 1e-06\n",
      "#k_list = numpy.array([10**((-12 + i)/2.) for i in range(13)])\n",
      "k_list = [1e+00*k0, 10**(1./2.)*k0]#, 1e+01*k0, 10**(3./2.)*k0, 1e+02*k0]\n",
      "#k_list = [1e+00*k0]\n",
      "\n",
      "Nics = solve_Nics(k0, N_array)\n",
      "for ki in k_list:\n",
      "    Nshss = solve_Nshss(ki, N_array)\n",
      "    hk_k0_array = numpy.empty(0, dtype=complex)\n",
      "    hk_ki_array = numpy.empty(0, dtype=complex)\n",
      "    \n",
      "    hk_k0_array = evolve_hk(k0, Nics, Nshss, step)\n",
      "    hk_ki_array = evolve_hk(ki, Nics, Nshss, step)\n",
      "\n",
      "    tps_k0 = 8.*(k0)**3./(2.*numpy.pi**2.)*(numpy.absolute(hk_k0_array[-1]))**2.\n",
      "    tps_ki = 8.*(ki)**3./(2.*numpy.pi**2.)*(numpy.absolute(hk_ki_array[-1]))**2. \n",
      "\n",
      "    CalG = calG(hk_k0_array, hk_ki_array, hk_ki_array, k0, ki, ki, N_array)\n",
      "    CalG_cc = calG_cc(hk_k0_array, hk_ki_array, hk_ki_array, k0, ki, ki, N_array)\n",
      "\n",
      "    G = (hk_k0_array[-1]*hk_ki_array[-1]**2)*CalG +(numpy.conj(hk_k0_array[-1])*numpy.conj(hk_ki_array[-1])**2)*CalG_cc\n",
      "    h_NL = (-1./2.)*((4./(2.*numpy.pi**2.))**2.)*(k0**3.*ki**6.*G)/(k0**3.*tps_ki**2. +2.*ki**3.*tps_k0*tps_ki)\n",
      "    \n",
      "    print k0, ki, Nics, Nshss, str(hk_k0_array[-1]).strip('[]'), str(hk_ki_array[-1]).strip('[]')\n",
      "    print str(tps_k0).strip('[]'), str(tps_ki).strip('[]')\n",
      "    print str(CalG).strip('[]'), str(CalG_cc).strip('[]'), str(G).strip('[]'), str(h_NL).strip('[]')"
     ],
     "language": "python",
     "metadata": {},
     "outputs": [
      {
       "output_type": "stream",
       "stream": "stdout",
       "text": [
        "1e-06 1e-06 2.5417 18.9819 (31819.6264063+8746.50178892j) (31819.6264063+8746.50178892j)\n",
        "4.41350989937e-10 4.41350989937e-10\n",
        " -5.84898589e+08 -5.63336849e+08j  -5.84898589e+08 +5.63336849e+08j   3.40309989e+19+0.j -1.19568213+0.j\n",
        "1e-06"
       ]
      },
      {
       "output_type": "stream",
       "stream": "stdout",
       "text": [
        " 3.16227766017e-06 2.5417 20.1565 (31819.6264051+8746.50178859j) (4603.51076874-2071.8897415j)\n",
        "4.41350989904e-10 3.26622079825e-10\n",
        "  2.41356944e+08 -3.69390198e+08j   2.41356944e+08 +3.69390198e+08j   8.82676355e+17+0.j -1.96480783+0.j\n"
       ]
      }
     ],
     "prompt_number": 64
    },
    {
     "cell_type": "code",
     "collapsed": false,
     "input": [
      "plt.hold(True)\n",
      "plt.subplot(121)\n",
      "plt.plot(hk_k0_array.real)\n",
      "plt.plot(hk_ki_array.real)\n",
      "plt.subplot(122)\n",
      "plt.plot(hk_k0_array.imag)\n",
      "plt.plot(hk_ki_array.imag)"
     ],
     "language": "python",
     "metadata": {},
     "outputs": [
      {
       "metadata": {},
       "output_type": "pyout",
       "prompt_number": 48,
       "text": [
        "[<matplotlib.lines.Line2D at 0xaeede50c>]"
       ]
      },
      {
       "metadata": {},
       "output_type": "display_data",
       "png": "[encoded data removed]",
       "text": [
        "<matplotlib.figure.Figure at 0xaedf458c>"
       ]
      }
     ],
     "prompt_number": 48
    },
    {
     "cell_type": "code",
     "collapsed": false,
     "input": [
      "Nics= solve_Nics(k0, N_array)\n",
      "Nshss= solve_Nshss(ki, N_array)\n",
      "\n",
      "N_range = numpy.linspace(Nics, Nshss, len(hk_k0_array))\n",
      "func_int = ((A(N_range)/numpy.asarray([H(N) for N in N_range]))*\n",
      "            (numpy.conj(hk_k0_array)*numpy.conj(hk_ki_array)*numpy.conj(hk_ki_array)))"
     ],
     "language": "python",
     "metadata": {},
     "outputs": [],
     "prompt_number": 49
    },
    {
     "cell_type": "code",
     "collapsed": false,
     "input": [
      "plt.hold(True)\n",
      "plt.subplot(121)\n",
      "plt.plot(func_int.real)\n",
      "plt.subplot(122)\n",
      "plt.plot(func_int.imag)"
     ],
     "language": "python",
     "metadata": {},
     "outputs": [
      {
       "metadata": {},
       "output_type": "pyout",
       "prompt_number": 56,
       "text": [
        "[<matplotlib.lines.Line2D at 0xae962c8c>]"
       ]
      },
      {
       "metadata": {},
       "output_type": "display_data",
       "png": "[encoded data removed]",
       "text": [
        "<matplotlib.figure.Figure at 0xaea3308c>"
       ]
      }
     ],
     "prompt_number": 56
    },
    {
     "cell_type": "code",
     "collapsed": false,
     "input": [
      "print simps(func_int, N_range), simps(func_int[:5000], N_range[:5000]), simps(func_int[15000:], N_range[15000:])\n",
      "print -(k0**2. +ki**2. +ki**2)/4.*simps(func_int, N_range)*numpy.array([0.+1.j], dtype=complex)"
     ],
     "language": "python",
     "metadata": {},
     "outputs": [
      {
       "output_type": "stream",
       "stream": "stdout",
       "text": [
        "(7.51115798531e+20-7.79864785203e+20j) (-2.33428993643e+15+9.16357594201e+17j) (7.49364024598e+20-7.78954453852e+20j)\n",
        "[ -5.84898589e+08 -5.63336849e+08j]\n"
       ]
      }
     ],
     "prompt_number": 58
    },
    {
     "cell_type": "code",
     "collapsed": false,
     "input": [
      "def main(k0, N_array):\n",
      "    Nics = solve_Nics(k0, N_array)\n",
      "    Nshss = solve_Nshss(k0, N_array)\n",
      "    step = N_array[1] -N_array[0]\n",
      "\n",
      "    hk0 = numpy.empty(0,dtype=complex)             \n",
      "    Dhk0 = numpy.empty(0,dtype=complex)\n",
      "\n",
      "    hk0 = initialize_hk(k0, Nics)\n",
      "    Dhk0 = initialize_Dhk(k0, Nics)\n",
      "\n",
      "    hk_array = numpy.empty(0, dtype=complex)\n",
      "    hk_array = evolve_hk(k0, Nics, Nshss, step)\n",
      "    tps= 8.*(k0)**3/(2.*numpy.pi**2)*(numpy.absolute(hk_array[-1]))**2\n",
      "\n",
      "    CalG = calG(hk_array, hk_array, hk_array, k0, k0, k0, N_array)\n",
      "    CalG_cc = calG_cc(hk_array, hk_array, hk_array, k0, k0, k0, N_array)\n",
      "\n",
      "    G = (hk_array[-1]**3)*CalG + (numpy.conj(hk_array[-1])**3)*CalG_cc\n",
      "    h_NL = (-1./6)*((4./(2.*numpy.pi**2))**2)*(k0**6)*G/(tps**2)\n",
      "\n",
      "    print k0, N-step, Nics, Nshss, str(hk0).strip('[]'), str(Dhk0).strip('[]'), str(tps).strip('[]')\n",
      "    print str(CalG).strip('[]'), str((k0**(3./2))*numpy.absolute(CalG)).strip('[]')\n",
      "    print str(G.real).strip('[]'), str((k0**6)*G.real).strip('[]'), str(h_NL.real).strip('[]')\n",
      "#    print '\\n'\n",
      "#    return str(tps).strip('[]')\n",
      "    return None\n",
      "\n",
      "k_list = numpy.array([10**((-12 + i)/2.) for i in range(2)])\n",
      "\n",
      "pool = mp.Pool(processes = 4)\n",
      "temp_results = [pool.apply_async(main, args = (k0, N_array,)) for k0 in k_list]\n",
      "results = []\n",
      "\n",
      "for i in range(len(k_list)):\n",
      "    results.append(temp_results[i].get())"
     ],
     "language": "python",
     "metadata": {},
     "outputs": [
      {
       "output_type": "stream",
       "stream": "stdout",
       "text": [
        "1e-06 18.9812 2.5417 18.9819  5567224.27950075+0.j -5567224.27950075 -5.56875485e+08j 4.41350989937e-10\n",
        "3.16227766017e-06 18.9812 3.7156 20.1565  967877.56945491+0.j -967877.56945491-96854087.17362185j 4.21480398382e-10\n",
        " -5.84898589e+08 -5.63336849e+08j  0.8120682\n",
        "-88597662.00094059 -1.09906829e+08j  0.793859\n",
        "  3.40309989e+19   3.40309989e-17 -1.19568213\n",
        "  3.49019280e+16   3.49019280e-17 -1.34463343\n"
       ]
      }
     ],
     "prompt_number": 65
    },
    {
     "cell_type": "code",
     "collapsed": false,
     "input": [
      "k0*numpy.absolute(CalG)"
     ],
     "language": "python",
     "metadata": {},
     "outputs": [
      {
       "metadata": {},
       "output_type": "pyout",
       "prompt_number": 63,
       "text": [
        "array([ 812.06820196])"
       ]
      }
     ],
     "prompt_number": 63
    },
    {
     "cell_type": "code",
     "collapsed": false,
     "input": [],
     "language": "python",
     "metadata": {},
     "outputs": []
    },
    {
     "cell_type": "code",
     "collapsed": false,
     "input": [],
     "language": "python",
     "metadata": {},
     "outputs": []
    },
    {
     "cell_type": "code",
     "collapsed": false,
     "input": [],
     "language": "python",
     "metadata": {},
     "outputs": []
    },
    {
     "cell_type": "code",
     "collapsed": false,
     "input": [
      "plt.hold(True)\n",
      "plt.plot(hk_k0_array.real)\n",
      "plt.plot(hk_k0_array.imag)"
     ],
     "language": "python",
     "metadata": {},
     "outputs": [
      {
       "metadata": {},
       "output_type": "pyout",
       "prompt_number": 13,
       "text": [
        "[<matplotlib.lines.Line2D at 0xaedd0f8c>]"
       ]
      },
      {
       "metadata": {},
       "output_type": "display_data",
       "png": "[encoded data removed]",
       "text": [
        "<matplotlib.figure.Figure at 0xaea58e2c>"
       ]
      }
     ],
     "prompt_number": 13
    },
    {
     "cell_type": "code",
     "collapsed": false,
     "input": [
      "plt.hold(True)\n",
      "plt.plot(hk_k0_array[:5000].real)\n",
      "plt.plot(hk_k0_array[:5000].imag)"
     ],
     "language": "python",
     "metadata": {},
     "outputs": [
      {
       "metadata": {},
       "output_type": "pyout",
       "prompt_number": 16,
       "text": [
        "[<matplotlib.lines.Line2D at 0xaec249ec>]"
       ]
      },
      {
       "metadata": {},
       "output_type": "display_data",
       "png": "[encoded data removed]",
       "text": [
        "<matplotlib.figure.Figure at 0xaecdc70c>"
       ]
      }
     ],
     "prompt_number": 16
    },
    {
     "cell_type": "code",
     "collapsed": false,
     "input": [
      "plt.hold(True)\n",
      "plt.plot(hk_ki_array.real)\n",
      "plt.plot(hk_ki_array.imag)"
     ],
     "language": "python",
     "metadata": {},
     "outputs": [
      {
       "metadata": {},
       "output_type": "pyout",
       "prompt_number": 18,
       "text": [
        "[<matplotlib.lines.Line2D at 0xaec0040c>]"
       ]
      },
      {
       "metadata": {},
       "output_type": "display_data",
       "png": "[encoded data removed]",
       "text": [
        "<matplotlib.figure.Figure at 0xaec390ec>"
       ]
      }
     ],
     "prompt_number": 18
    },
    {
     "cell_type": "code",
     "collapsed": false,
     "input": [
      "print hk_ki_array[-1], hk_k0_array[-1]"
     ],
     "language": "python",
     "metadata": {},
     "outputs": [
      {
       "output_type": "stream",
       "stream": "stdout",
       "text": [
        "(31819.6264063+8746.50178892j) (31819.6264063+8746.50178892j)\n"
       ]
      }
     ],
     "prompt_number": 20
    },
    {
     "cell_type": "code",
     "collapsed": false,
     "input": [
      "print CalG, CalG_cc\n",
      "print calG(hk_k0_array, hk_k0_array, hk_k0_array, k0, k0, k0, Nics, Nshss), calG(hk_k0_array, hk_k0_array, hk_k0_array, k0, k0, k0, Nics, Nshss)\n",
      "print calG_cc(hk_k0_array, hk_k0_array, hk_k0_array, k0, k0, k0, Nics, Nshss), calG_cc(hk_k0_array, hk_k0_array, hk_k0_array, k0, k0, k0, Nics, Nshss)"
     ],
     "language": "python",
     "metadata": {},
     "outputs": [
      {
       "output_type": "stream",
       "stream": "stdout",
       "text": [
        "[ -5.84898589e+08 -5.63336849e+08j] [ -5.84898589e+08 -5.63336849e+08j]\n",
        "[ -5.84898589e+08 -5.63336849e+08j]"
       ]
      },
      {
       "output_type": "stream",
       "stream": "stdout",
       "text": [
        " [ -5.84898589e+08 -5.63336849e+08j]\n",
        "[ -5.84898589e+08 +5.63336849e+08j]"
       ]
      },
      {
       "output_type": "stream",
       "stream": "stdout",
       "text": [
        " [ -5.84898589e+08 +5.63336849e+08j]\n"
       ]
      }
     ],
     "prompt_number": 24
    },
    {
     "cell_type": "code",
     "collapsed": false,
     "input": [
      "'''\n",
      "pool = mp.Pool(processes = 4)\n",
      "temp_results = [pool.apply_async(main, args = (k0, N_array,)) for k0 in k_list]\n",
      "results = []\n",
      "\n",
      "for i in range(len(k_list)):\n",
      "    results.append(temp_results[i].get())\n",
      "#    k_vs_hk[i] = temp_results[i].get()\n",
      "\n",
      "#results = numpy.asarray(results, dtype=numpy.float)\n",
      "#print k_list, results\n",
      "#print k_vs_hk\n",
      "#print '\\n'\n",
      "'''\n",
      "'''\n",
      "for k0 in k_list:\n",
      "    hk0 = numpy.zeros(1,dtype=complex)\n",
      "    hk0 = main(k0, N_array)\n",
      "    k_vs_hk = numpy.append(k_vs_hk, hk0) \n",
      "\ttemp = 8*(k0)**3/(2*numpy.pi**2)*(numpy.absolute(hk0))**2\n",
      "    print str(temp).strip('[]')\n",
      "    print '\\n'\n",
      "    tps_file.write(str(k0)+\"\\t\"+str(temp).strip('[]')+\"\\n\")\n",
      "#    tps_file.write(str(k0)+\"\\t\"+str(hk0.real)+\"\\t\"+str(hk0.imag)+\"\\t\"+str(temp).strip('[]')+\"\\n\")\n",
      "\n",
      "#print len(k_list), len(k_vs_hkhk)\n",
      "#TPS = [8*(k_list[i])**3/(2*numpy.pi**2)*(numpy.absolute(k_vs_hk[i]))**2 for i in range(len(k_list))]\n",
      "#TPS = [8*(k_list[i])**3/(2*numpy.pi**2)*(k_vs_hk[i])**2 for i in range(len(k_list))]\n",
      "#print k_list, TPS\n",
      "\n",
      "tps_file.close()\n",
      "\n",
      "plt.cla()\n",
      "plt.xlabel(r'$k$')\n",
      "plt.ylabel(r'${\\mathcal{P}}_{\\rm T}(k)$')\n",
      "plt.title(r'${\\mathcal{P}}_{\\rm T}(k)$ as a function of $k$')\n",
      "numerics, = plt.loglog(k_list, TPS)\n",
      "plt.legend([numerics],['numerical results'])\n",
      "plt.savefig('power_spectrum_power_law.png')\n",
      "'''"
     ],
     "language": "python",
     "metadata": {},
     "outputs": []
    }
   ],
   "metadata": {}
  }
 ]
}