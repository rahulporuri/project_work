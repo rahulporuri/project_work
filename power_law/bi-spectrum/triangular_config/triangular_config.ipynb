{
 "metadata": {
  "name": "",
  "signature": "sha256:8fe9c75c1a2f08bc8c8c17f7c8dd47a4c3b60678ccb4f6ab276e3ca2188d8902"
 },
 "nbformat": 3,
 "nbformat_minor": 0,
 "worksheets": [
  {
   "cells": [
    {
     "cell_type": "code",
     "collapsed": false,
     "input": [
      "import numpy\n",
      "import matplotlib.pyplot as plt\n",
      "%matplotlib inline"
     ],
     "language": "python",
     "metadata": {},
     "outputs": [],
     "prompt_number": 2
    },
    {
     "cell_type": "code",
     "collapsed": false,
     "input": [
      "import random"
     ],
     "language": "python",
     "metadata": {},
     "outputs": [],
     "prompt_number": 6
    },
    {
     "cell_type": "code",
     "collapsed": false,
     "input": [
      "k1 = 1\n",
      "k3 = numpy.arange(0,1,10**(-2))\n",
      "\n",
      "plt.cla()\n",
      "plt.hold(True)\n",
      "\n",
      "for i in range(len(k3)):\n",
      "\tif k3[i] < 0.5:\n",
      "\t\tk2 = numpy.arange(1- k3[i]/k1, 1, 10**(-2))\n",
      "\t\tx = numpy.zeros(len(k2))\n",
      "\t\tx[:] = k3[i]\n",
      "\t\tplt.plot(x, k2,'.')\n",
      "\telse:\n",
      "\t\tk2 = numpy.arange(k3[i]/k1, 1, 10**(-2))\n",
      "\t\tx = numpy.zeros(len(k2))\n",
      "\t\tx[:] = k3[i]\n",
      "\t\tplt.plot(x, k2,'.')\n",
      "#plt.show()"
     ],
     "language": "python",
     "metadata": {},
     "outputs": [
      {
       "metadata": {},
       "output_type": "display_data",
       "png": "[encoded data removed]",
       "text": [
        "<matplotlib.figure.Figure at 0xb02a602c>"
       ]
      }
     ],
     "prompt_number": 5
    },
    {
     "cell_type": "code",
     "collapsed": false,
     "input": [
      "#random.random()\n",
      "k1 = 1\n",
      "k3 = numpy.arange(0,1,10**(-1))\n",
      "\n",
      "plt.cla()\n",
      "plt.hold(True)\n",
      "\n",
      "for i in range(len(k3)):\n",
      "\tif k3[i] < 0.5:\n",
      "\t\tk2 = numpy.arange(1- k3[i]/k1, 1, 10**(-1))\n",
      "\t\tx = numpy.zeros(len(k2))\n",
      "\t\tx[:] = k3[i]\n",
      "\t\tplt.plot(x, k2,'.')\n",
      "\telse:\n",
      "\t\tk2 = numpy.arange(k3[i]/k1, 1, 10**(-1))\n",
      "\t\tx = numpy.zeros(len(k2))\n",
      "\t\tx[:] = k3[i]\n",
      "\t\tplt.plot(x, k2,'.')\n",
      "#plt.show()"
     ],
     "language": "python",
     "metadata": {},
     "outputs": [
      {
       "metadata": {},
       "output_type": "display_data",
       "png": "[encoded data removed]",
       "text": [
        "<matplotlib.figure.Figure at 0xb01c848c>"
       ]
      }
     ],
     "prompt_number": 12
    },
    {
     "cell_type": "code",
     "collapsed": false,
     "input": [
      "k1 = 1\n",
      "k3 = numpy.arange(0,1,10**(-2))\n",
      "\n",
      "matrix = []\n",
      "\n",
      "for i in range(len(k3)):\n",
      "    if k3[i] < 0.5:\n",
      "        k2 = numpy.arange(1- k3[i]/k1, 1, 10**(-2))\n",
      "        color = numpy.zeros(len(k2))\n",
      "        color[:] = random.random()\n",
      "        temp_matrix = numpy.empty(shape=3)\n",
      "        temp_matrix[:,0] = k3[i]\n",
      "        temp_matrix[:,1] = k2[i]\n",
      "        temp_matrix[:,2] = color[i]\n",
      "        matrix.append(temp_matrix)\n",
      "    else:\n",
      "        k2 = numpy.arange(k3[i]/k1, 1, 10**(-2))\n",
      "        color = numpy.zeros(len(k2))\n",
      "        color[:] = random.random()\n",
      "        temp_matrix = numpy.empty(shape=3)\n",
      "        temp_matrix[:,0] = k3[i]\n",
      "        temp_matrix[:,1] = k2[i]\n",
      "        temp_matrix[:,2] = color[i]\n",
      "        matrix.append(temp_matrix)"
     ],
     "language": "python",
     "metadata": {},
     "outputs": [
      {
       "ename": "IndexError",
       "evalue": "too many indices for array",
       "output_type": "pyerr",
       "traceback": [
        "\u001b[0;31m---------------------------------------------------------------------------\u001b[0m\n\u001b[0;31mIndexError\u001b[0m                                Traceback (most recent call last)",
        "\u001b[0;32m<ipython-input-27-fd363dae543a>\u001b[0m in \u001b[0;36m<module>\u001b[0;34m()\u001b[0m\n\u001b[1;32m     10\u001b[0m         \u001b[0mcolor\u001b[0m\u001b[0;34m[\u001b[0m\u001b[0;34m:\u001b[0m\u001b[0;34m]\u001b[0m \u001b[0;34m=\u001b[0m \u001b[0mrandom\u001b[0m\u001b[0;34m.\u001b[0m\u001b[0mrandom\u001b[0m\u001b[0;34m(\u001b[0m\u001b[0;34m)\u001b[0m\u001b[0;34m\u001b[0m\u001b[0m\n\u001b[1;32m     11\u001b[0m         \u001b[0mtemp_matrix\u001b[0m \u001b[0;34m=\u001b[0m \u001b[0mnumpy\u001b[0m\u001b[0;34m.\u001b[0m\u001b[0mempty\u001b[0m\u001b[0;34m(\u001b[0m\u001b[0mshape\u001b[0m\u001b[0;34m=\u001b[0m\u001b[0;36m3\u001b[0m\u001b[0;34m)\u001b[0m\u001b[0;34m\u001b[0m\u001b[0m\n\u001b[0;32m---> 12\u001b[0;31m         \u001b[0mtemp_matrix\u001b[0m\u001b[0;34m[\u001b[0m\u001b[0;34m:\u001b[0m\u001b[0;34m,\u001b[0m\u001b[0;36m0\u001b[0m\u001b[0;34m]\u001b[0m \u001b[0;34m=\u001b[0m \u001b[0mk3\u001b[0m\u001b[0;34m[\u001b[0m\u001b[0mi\u001b[0m\u001b[0;34m]\u001b[0m\u001b[0;34m\u001b[0m\u001b[0m\n\u001b[0m\u001b[1;32m     13\u001b[0m         \u001b[0mtemp_matrix\u001b[0m\u001b[0;34m[\u001b[0m\u001b[0;34m:\u001b[0m\u001b[0;34m,\u001b[0m\u001b[0;36m1\u001b[0m\u001b[0;34m]\u001b[0m \u001b[0;34m=\u001b[0m \u001b[0mk2\u001b[0m\u001b[0;34m[\u001b[0m\u001b[0mi\u001b[0m\u001b[0;34m]\u001b[0m\u001b[0;34m\u001b[0m\u001b[0m\n\u001b[1;32m     14\u001b[0m         \u001b[0mtemp_matrix\u001b[0m\u001b[0;34m[\u001b[0m\u001b[0;34m:\u001b[0m\u001b[0;34m,\u001b[0m\u001b[0;36m2\u001b[0m\u001b[0;34m]\u001b[0m \u001b[0;34m=\u001b[0m \u001b[0mcolor\u001b[0m\u001b[0;34m[\u001b[0m\u001b[0mi\u001b[0m\u001b[0;34m]\u001b[0m\u001b[0;34m\u001b[0m\u001b[0m\n",
        "\u001b[0;31mIndexError\u001b[0m: too many indices for array"
       ]
      }
     ],
     "prompt_number": 27
    },
    {
     "cell_type": "code",
     "collapsed": false,
     "input": [
      "#numpy.empty(shape=3)\n",
      "temp_matrix[:,0]"
     ],
     "language": "python",
     "metadata": {},
     "outputs": [
      {
       "ename": "IndexError",
       "evalue": "too many indices for array",
       "output_type": "pyerr",
       "traceback": [
        "\u001b[0;31m---------------------------------------------------------------------------\u001b[0m\n\u001b[0;31mIndexError\u001b[0m                                Traceback (most recent call last)",
        "\u001b[0;32m<ipython-input-33-839ae95dca8d>\u001b[0m in \u001b[0;36m<module>\u001b[0;34m()\u001b[0m\n\u001b[1;32m      1\u001b[0m \u001b[0;31m#numpy.empty(shape=3)\u001b[0m\u001b[0;34m\u001b[0m\u001b[0;34m\u001b[0m\u001b[0m\n\u001b[0;32m----> 2\u001b[0;31m \u001b[0mtemp_matrix\u001b[0m\u001b[0;34m[\u001b[0m\u001b[0;34m:\u001b[0m\u001b[0;34m,\u001b[0m\u001b[0;36m0\u001b[0m\u001b[0;34m]\u001b[0m\u001b[0;34m\u001b[0m\u001b[0m\n\u001b[0m",
        "\u001b[0;31mIndexError\u001b[0m: too many indices for array"
       ]
      }
     ],
     "prompt_number": 33
    },
    {
     "cell_type": "code",
     "collapsed": false,
     "input": [
      "numpy.array([[1,2,3],[4,5,6]])[:,0]"
     ],
     "language": "python",
     "metadata": {},
     "outputs": [
      {
       "metadata": {},
       "output_type": "pyout",
       "prompt_number": 20,
       "text": [
        "array([1, 4])"
       ]
      }
     ],
     "prompt_number": 20
    },
    {
     "cell_type": "code",
     "collapsed": false,
     "input": [
      "numpy.meshgrid(numpy.array([[1,2]]),numpy.array([[1,2]]))"
     ],
     "language": "python",
     "metadata": {},
     "outputs": [
      {
       "metadata": {},
       "output_type": "pyout",
       "prompt_number": 39,
       "text": [
        "[array([[1, 2],\n",
        "        [1, 2]]), array([[1, 1],\n",
        "        [2, 2]])]"
       ]
      }
     ],
     "prompt_number": 39
    },
    {
     "cell_type": "code",
     "collapsed": false,
     "input": [
      "x = numpy.arange(-5, 5, 0.1)\n",
      "y = numpy.arange(-5, 5, 0.1)\n",
      "xx, yy = numpy.meshgrid(x, y, sparse=True)\n",
      "print len(xx), len(yy)\n",
      "#print xx\n",
      "z = numpy.sin(xx**2 + yy**2) / (xx**2 + yy**2)\n",
      "#h = plt.imshow(x,y,z)"
     ],
     "language": "python",
     "metadata": {},
     "outputs": [
      {
       "output_type": "stream",
       "stream": "stdout",
       "text": [
        "1 100\n"
       ]
      }
     ],
     "prompt_number": 61
    },
    {
     "cell_type": "code",
     "collapsed": false,
     "input": [
      "#numpy.concatenate((xx,yy,z),axis=1)\n",
      "#print len(xx), len(yy), len(z)\n",
      "numpy.hstack((x,yy,z))"
     ],
     "language": "python",
     "metadata": {},
     "outputs": [
      {
       "ename": "ValueError",
       "evalue": "all the input arrays must have same number of dimensions",
       "output_type": "pyerr",
       "traceback": [
        "\u001b[0;31m---------------------------------------------------------------------------\u001b[0m\n\u001b[0;31mValueError\u001b[0m                                Traceback (most recent call last)",
        "\u001b[0;32m<ipython-input-64-97d425b3fcd9>\u001b[0m in \u001b[0;36m<module>\u001b[0;34m()\u001b[0m\n\u001b[1;32m      1\u001b[0m \u001b[0;31m#numpy.concatenate((xx,yy,z),axis=1)\u001b[0m\u001b[0;34m\u001b[0m\u001b[0;34m\u001b[0m\u001b[0m\n\u001b[1;32m      2\u001b[0m \u001b[0;31m#print len(xx), len(yy), len(z)\u001b[0m\u001b[0;34m\u001b[0m\u001b[0;34m\u001b[0m\u001b[0m\n\u001b[0;32m----> 3\u001b[0;31m \u001b[0mnumpy\u001b[0m\u001b[0;34m.\u001b[0m\u001b[0mhstack\u001b[0m\u001b[0;34m(\u001b[0m\u001b[0;34m(\u001b[0m\u001b[0mx\u001b[0m\u001b[0;34m,\u001b[0m\u001b[0myy\u001b[0m\u001b[0;34m,\u001b[0m\u001b[0mz\u001b[0m\u001b[0;34m)\u001b[0m\u001b[0;34m)\u001b[0m\u001b[0;34m\u001b[0m\u001b[0m\n\u001b[0m",
        "\u001b[0;32m/usr/local/lib/python2.7/dist-packages/numpy/core/shape_base.pyc\u001b[0m in \u001b[0;36mhstack\u001b[0;34m(tup)\u001b[0m\n\u001b[1;32m    273\u001b[0m     \u001b[0;31m# As a special case, dimension 0 of 1-dimensional arrays is \"horizontal\"\u001b[0m\u001b[0;34m\u001b[0m\u001b[0;34m\u001b[0m\u001b[0m\n\u001b[1;32m    274\u001b[0m     \u001b[0;32mif\u001b[0m \u001b[0marrs\u001b[0m\u001b[0;34m[\u001b[0m\u001b[0;36m0\u001b[0m\u001b[0;34m]\u001b[0m\u001b[0;34m.\u001b[0m\u001b[0mndim\u001b[0m \u001b[0;34m==\u001b[0m \u001b[0;36m1\u001b[0m\u001b[0;34m:\u001b[0m\u001b[0;34m\u001b[0m\u001b[0m\n\u001b[0;32m--> 275\u001b[0;31m         \u001b[0;32mreturn\u001b[0m \u001b[0m_nx\u001b[0m\u001b[0;34m.\u001b[0m\u001b[0mconcatenate\u001b[0m\u001b[0;34m(\u001b[0m\u001b[0marrs\u001b[0m\u001b[0;34m,\u001b[0m \u001b[0;36m0\u001b[0m\u001b[0;34m)\u001b[0m\u001b[0;34m\u001b[0m\u001b[0m\n\u001b[0m\u001b[1;32m    276\u001b[0m     \u001b[0;32melse\u001b[0m\u001b[0;34m:\u001b[0m\u001b[0;34m\u001b[0m\u001b[0m\n\u001b[1;32m    277\u001b[0m         \u001b[0;32mreturn\u001b[0m \u001b[0m_nx\u001b[0m\u001b[0;34m.\u001b[0m\u001b[0mconcatenate\u001b[0m\u001b[0;34m(\u001b[0m\u001b[0marrs\u001b[0m\u001b[0;34m,\u001b[0m \u001b[0;36m1\u001b[0m\u001b[0;34m)\u001b[0m\u001b[0;34m\u001b[0m\u001b[0m\n",
        "\u001b[0;31mValueError\u001b[0m: all the input arrays must have same number of dimensions"
       ]
      }
     ],
     "prompt_number": 64
    },
    {
     "cell_type": "code",
     "collapsed": false,
     "input": [],
     "language": "python",
     "metadata": {},
     "outputs": []
    },
    {
     "cell_type": "code",
     "collapsed": false,
     "input": [],
     "language": "python",
     "metadata": {},
     "outputs": []
    },
    {
     "cell_type": "code",
     "collapsed": false,
     "input": [
      "#random.random()\n",
      "k1 = 1\n",
      "k3 = numpy.arange(0,1,10**(-1))\n",
      "\n",
      "matrix = numpy.empty((1,3))\n",
      "#matrix = []\n",
      "\n",
      "for i in range(len(k3)):\n",
      "    if k3[i] < 0.5:\n",
      "        k2 = numpy.arange(1 -k3[i]/k1, 1, 10**(-1))\n",
      "#        x = numpy.zeros(len(k2))\n",
      "        #x[:] = k3[i]\n",
      "        color = random.random()\n",
      "        for j in range(len(k2)):\n",
      "            #matrix = numpy.vstack((matrix, numpy.array([k3[i], k2[j], color])))\n",
      "            matrix = numpy.vstack((matrix, numpy.array([color, k3[i], k2[j]])))\n",
      "            #matrix.append(numpy.array([k3[i], k2[j]]))\n",
      "    else:\n",
      "        k2 = numpy.arange(k3[i]/k1, 1, 10**(-1))\n",
      "        #x = numpy.zeros(len(k2))\n",
      "        #x[:] = k3[i]\n",
      "        for j in range(len(k2)):\n",
      "#            matrix = numpy.append(matrix, numpy.array([k3[i],k2[j]]))\n",
      "            #matrix = numpy.vstack((matrix, numpy.array([k3[i], k2[j], color])))\n",
      "            matrix = numpy.vstack((matrix, numpy.array([color, k3[i], k2[j]])))\n",
      "#plt.show()"
     ],
     "language": "python",
     "metadata": {},
     "outputs": [],
     "prompt_number": 133
    },
    {
     "cell_type": "code",
     "collapsed": false,
     "input": [
      "#plt.plot(matrix[:,0], matrix[:,1])\n",
      "matrix\n",
      "#numpy.vstack((numpy.zeros((1,2)), numpy.ones((1,2))))"
     ],
     "language": "python",
     "metadata": {},
     "outputs": [
      {
       "metadata": {},
       "output_type": "pyout",
       "prompt_number": 134,
       "text": [
        "array([[ 0.        ,  0.        ,  1.        ],\n",
        "       [ 0.12332978,  0.1       ,  0.9       ],\n",
        "       [ 0.14223197,  0.2       ,  0.8       ],\n",
        "       [ 0.14223197,  0.2       ,  0.9       ],\n",
        "       [ 0.32049225,  0.3       ,  0.7       ],\n",
        "       [ 0.32049225,  0.3       ,  0.8       ],\n",
        "       [ 0.32049225,  0.3       ,  0.9       ],\n",
        "       [ 0.32049225,  0.3       ,  1.        ],\n",
        "       [ 0.31191976,  0.4       ,  0.6       ],\n",
        "       [ 0.31191976,  0.4       ,  0.7       ],\n",
        "       [ 0.31191976,  0.4       ,  0.8       ],\n",
        "       [ 0.31191976,  0.4       ,  0.9       ],\n",
        "       [ 0.31191976,  0.5       ,  0.5       ],\n",
        "       [ 0.31191976,  0.5       ,  0.6       ],\n",
        "       [ 0.31191976,  0.5       ,  0.7       ],\n",
        "       [ 0.31191976,  0.5       ,  0.8       ],\n",
        "       [ 0.31191976,  0.5       ,  0.9       ],\n",
        "       [ 0.31191976,  0.6       ,  0.6       ],\n",
        "       [ 0.31191976,  0.6       ,  0.7       ],\n",
        "       [ 0.31191976,  0.6       ,  0.8       ],\n",
        "       [ 0.31191976,  0.6       ,  0.9       ],\n",
        "       [ 0.31191976,  0.7       ,  0.7       ],\n",
        "       [ 0.31191976,  0.7       ,  0.8       ],\n",
        "       [ 0.31191976,  0.7       ,  0.9       ],\n",
        "       [ 0.31191976,  0.8       ,  0.8       ],\n",
        "       [ 0.31191976,  0.8       ,  0.9       ],\n",
        "       [ 0.31191976,  0.9       ,  0.9       ]])"
       ]
      }
     ],
     "prompt_number": 134
    },
    {
     "cell_type": "code",
     "collapsed": false,
     "input": [
      "plt.scatter(matrix[:,0], matrix[:,1])"
     ],
     "language": "python",
     "metadata": {},
     "outputs": [
      {
       "metadata": {},
       "output_type": "pyout",
       "prompt_number": 131,
       "text": [
        "<matplotlib.collections.PathCollection at 0xb008a1ac>"
       ]
      },
      {
       "metadata": {},
       "output_type": "display_data",
       "png": "[encoded data removed]",
       "text": [
        "<matplotlib.figure.Figure at 0xb0054eac>"
       ]
      }
     ],
     "prompt_number": 131
    },
    {
     "cell_type": "code",
     "collapsed": false,
     "input": [
      "plt.imshow(matrix)"
     ],
     "language": "python",
     "metadata": {},
     "outputs": [
      {
       "metadata": {},
       "output_type": "pyout",
       "prompt_number": 138,
       "text": [
        "<matplotlib.image.AxesImage at 0xafec1d2c>"
       ]
      },
      {
       "metadata": {},
       "output_type": "display_data",
       "png": "[encoded data removed]",
       "text": [
        "<matplotlib.figure.Figure at 0xafdb192c>"
       ]
      }
     ],
     "prompt_number": 138
    },
    {
     "cell_type": "code",
     "collapsed": false,
     "input": [
      "x = matrix[:,1]\n",
      "y = matrix[:,2]\n",
      "#triangles = [[0, 1, 4], [1, 2, 5], [2, 3, 6], [1, 5, 4], [2, 6, 5], [4, 5, 7],\n",
      "#             [5, 6, 8], [5, 8, 7], [7, 8, 9]]\n",
      "# for an upright triangle.\n",
      "# need to figure this out for an inverted triangle,\n",
      "# which is what we need!\n",
      "\n",
      "triang = mtri.Triangulation(x,y,triangles)"
     ],
     "language": "python",
     "metadata": {},
     "outputs": [],
     "prompt_number": 144
    },
    {
     "cell_type": "code",
     "collapsed": false,
     "input": [
      "import matplotlib.tri as mtri"
     ],
     "language": "python",
     "metadata": {},
     "outputs": [],
     "prompt_number": 140
    },
    {
     "cell_type": "code",
     "collapsed": false,
     "input": [
      "plt.cla()\n",
      "plt.hold(True)\n",
      "plt.tricontourf(triang, matrix[:,0])\n",
      "plt.triplot(triang, 'ko-')"
     ],
     "language": "python",
     "metadata": {},
     "outputs": [
      {
       "metadata": {},
       "output_type": "display_data",
       "png": "[encoded data removed]",
       "text": [
        "<matplotlib.figure.Figure at 0xafe1f0cc>"
       ]
      }
     ],
     "prompt_number": 145
    },
    {
     "cell_type": "code",
     "collapsed": false,
     "input": [],
     "language": "python",
     "metadata": {},
     "outputs": []
    }
   ],
   "metadata": {}
  }
 ]
}