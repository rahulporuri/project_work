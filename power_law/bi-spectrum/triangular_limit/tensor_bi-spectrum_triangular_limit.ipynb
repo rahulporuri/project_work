{
 "metadata": {
  "name": "",
  "signature": "sha256:acebf54d7b85eee0ce4e53c97d32efcc3b0f7b876437ea08204169faac7eb000"
 },
 "nbformat": 3,
 "nbformat_minor": 0,
 "worksheets": [
  {
   "cells": [
    {
     "cell_type": "code",
     "collapsed": false,
     "input": [
      "import numpy\n",
      "import matplotlib.pyplot as plt\n",
      "from scipy.integrate import simps"
     ],
     "language": "python",
     "metadata": {},
     "outputs": [],
     "prompt_number": 1
    },
    {
     "cell_type": "code",
     "collapsed": false,
     "input": [
      "%matplotlib inline\n",
      "\n",
      "plt.rc('text', usetex=True)\n",
      "plt.rc('font', family='serif')"
     ],
     "language": "python",
     "metadata": {},
     "outputs": [],
     "prompt_number": 2
    },
    {
     "cell_type": "code",
     "collapsed": false,
     "input": [
      "q = 51.\n",
      "V0 = (204./100.)*1e-08\n",
      "t0 = (q*(3.*q -1.)/V0)**(1./2)\n",
      "\n",
      "phi0 = 1.\n",
      "dphi0 = (2.*q)**(1./2)/t0\n",
      "\n",
      "Ni = 0.\n",
      "Nf = 70."
     ],
     "language": "python",
     "metadata": {},
     "outputs": [],
     "prompt_number": 3
    },
    {
     "cell_type": "markdown",
     "metadata": {},
     "source": [
      "Note that in this code, I use the prefix 'd' to represent derivative with respect to time (except for the case of dV where the derivative is with respect to phi) and the prefix 'D' to represent derivative with respect to e-fold N. Also, the suffix '0' is used to represent the initial conditions in various cases. Also, as can be seen here, we evaluate the scalar field in the e-fold N range Ni to Nf."
     ]
    },
    {
     "cell_type": "code",
     "collapsed": false,
     "input": [
      "V = lambda _phi : V0*numpy.exp(-(2./q)**(1./2)*(_phi -phi0))\n",
      "dV = lambda _phi : -(2./q)**(1./2)*V0*numpy.exp(-(2./q)**(1./2)*(_phi -phi0))\n",
      "\n",
      "''' Functions to evaluate the values of the potential function V(phi)\n",
      "and the derivative of V with respect to phi.\n",
      "Note that functions can be defined using the lambda notation, as shown \n",
      "above or using the usual def and return statements, as shown below.'''\n",
      "\n",
      "H0 = ((1./3)*(dphi0**2/2. +V(phi0)))**(1./2.)\n",
      "Dphi0 = dphi0/H0\n",
      "\n",
      "def DDphi(_N, _phi, _Dphi):\n",
      "    ''' Returns the value of the second derivative of \n",
      "    phi with respect to e-fold N.'''\n",
      "    return -(3 -_Dphi**2/2.)*_Dphi -(dV(_phi)/(2*V(_phi)))*(6 -_Dphi**2)\n",
      "\n",
      "def rk4_step(_N, _phi, _Dphi, _step):\n",
      "    ''' Returns 2 values, the first of the two is the value by which phi \n",
      "    needs to be updated and the second of the two is the value by which the \n",
      "    first derivative of phi with respect to e-fold N needs to be updated.'''\n",
      "    F1 = _Dphi\n",
      "    f1 = DDphi(_N, _phi, _Dphi)\n",
      "    F2 = _Dphi +f1*_step/2.\n",
      "    f2 = DDphi(_N +_step/2., _phi +F1*_step/2., _Dphi +f1*_step/2.)\n",
      "    F3 = _Dphi +f2*step/2.\n",
      "    f3 = DDphi(_N +_step/2., _phi +F2*_step/2., _Dphi +f2*_step/2.)\n",
      "    F4 = _Dphi +f3*step\n",
      "    f4 = DDphi(_N +_step, _phi +F3*_step, _Dphi +f3*_step)  \n",
      "\n",
      "    return (F1 +2*F2 +2*F3 +F4)*_step/6., (f1 +2*f2 +2*f3 +f4)*_step/6."
     ],
     "language": "python",
     "metadata": {},
     "outputs": [],
     "prompt_number": 4
    },
    {
     "cell_type": "code",
     "collapsed": false,
     "input": [
      "'''We evolve the scalar field phi for e-fold N ranging from Ni to Nf.'''\n",
      "\n",
      "npts = 100000\n",
      "step = (Nf-Ni)/(npts)\n",
      "\n",
      "phi_ = phi0\n",
      "Dphi_ = Dphi0\n",
      "\n",
      "phi_array = numpy.empty(0)\n",
      "Dphi_array = numpy.empty(0)\n",
      "N_array = numpy.empty(0)\n",
      "\n",
      "N = Ni\n",
      "while N < Nf +step:\n",
      "    phi_array = numpy.append(phi_array, phi_)\n",
      "    Dphi_array = numpy.append(Dphi_array, Dphi_)\n",
      "    N_array = numpy.append(N_array, N)\n",
      "    \n",
      "    phi_update, Dphi_update = rk4_step(N, phi_, Dphi_, step)\n",
      "    phi_ = phi_ +phi_update\n",
      "    Dphi_ = Dphi_ +Dphi_update\n",
      "    \n",
      "    N += step"
     ],
     "language": "python",
     "metadata": {},
     "outputs": [],
     "prompt_number": 5
    },
    {
     "cell_type": "code",
     "collapsed": false,
     "input": [
      "phi = lambda _N : phi_array[int((_N-Ni)/step)]\n",
      "Dphi = lambda _N : Dphi_array[int((_N-Ni)/step)]\n",
      "\n",
      "H = lambda _N : (V(phi(_N))/(3 -Dphi(_N)**2/2))**(1./2)\n",
      "DH = lambda _N : -(1./2)*H(_N)*Dphi(_N)**2.\n",
      "\n",
      "'''The above functions let us access the values of H(N) and DH(N) \n",
      "when we try to evaluate the tensor perturbations h_k. We have obtained \n",
      "these values from the phi and Dphi values earlier.'''\n",
      "\n",
      "ai = 1e-05\n",
      "A = lambda _N : ai*numpy.exp(_N)\n",
      "'''The scale factor in terms of e-fold N.'''\n",
      "\n",
      "\n",
      "k0 = numpy.empty(0)\n",
      "\n",
      "def DDhk(_k, _N, _hk, _Dhk):\n",
      "    '''Returns the value of the second derivative of the tensor perturbatons\n",
      "    h_k th respec to e-fold N. We need this value when we are trying to \n",
      "    evluate h_k'''\n",
      "    return -((3. +(DH(_N)/H(_N)))*_Dhk +((_k/(A(_N)*H(_N)))**2)*_hk)\n",
      "\n",
      "\n",
      "def rk4_step(_k, _N, _hk, _Dhk, _step):\n",
      "    '''a runge-kutta 4 stepper function that returns the value by which\n",
      "    h_k nd Dh_k need to be updated.'''\n",
      "    F1 = _Dhk\n",
      "    f1 = DDhk(_k, _N, _hk, _Dhk)\n",
      "    F2 = _Dhk +f1*_step/2.\n",
      "    f2 = DDhk(_k, _N +_step/2., _hk +F1*_step/2., _Dhk +f1*_step/2.)\n",
      "    F3 = _Dhk +f2*_step/2.\n",
      "    f3 = DDhk(_k, _N +_step/2., _hk +F2*_step/2., _Dhk +f2*_step/2.)\n",
      "    F4 = _Dhk +f3*_step\n",
      "    f4 = DDhk(_k, _N +_step, _hk +F3*_step, _Dhk +f3*_step)\n",
      "\n",
      "    return (numpy.array([(f1 +2*f2 +2*f3 +f4)*_step/6.], dtype=complex),\n",
      "            numpy.array([(F1 +2*F2 +2*F3 +F4)*_step/6.], dtype=complex))\n",
      "            # [Dhk, hk] update"
     ],
     "language": "python",
     "metadata": {},
     "outputs": [],
     "prompt_number": 6
    },
    {
     "cell_type": "code",
     "collapsed": false,
     "input": [
      "def solve_Nics(k, eN_array):\n",
      "    '''Returns the value of e-fold N when the mode is\n",
      "    in the sub-Hubble domain, which we define as k/(A*H) =10^2.'''\n",
      "    Ni = eN_array[0]\n",
      "    step = eN_array[1] -eN_array[0]\n",
      "    Nics_temp = numpy.asarray([k - 1e+02*A(N)*H(N) for N in eN_array])\n",
      "    nics_test = numpy.where(Nics_temp > 0)\n",
      "    return Ni + nics_test[0][-1]*step\n",
      "\n",
      "def solve_Nshss(k, eN_array):\n",
      "    '''Returns the value of e-fold N when the mode is\n",
      "    in the super-Hubble domain, which we define as k/(A*H) =10^(-5).'''\n",
      "    Ni = eN_array[0]\n",
      "    step = eN_array[1] -eN_array[0]\n",
      "    Nshss_temp = numpy.asarray([k - 1e-05*A(N)*H(N) for N in eN_array])\n",
      "    nshss_test = numpy.where(Nshss_temp > 0)\n",
      "    return Ni + nshss_test[0][-1]*step\n",
      "\n",
      "def initialize_hk(k, _Nics):\n",
      "    '''Returns the value of h_k for the mode k at e-fold N of _Nics.\n",
      "    We obtain his value by imposing the Bunch-Davies initial conditions'''\n",
      "    hk0 = numpy.zeros(1,dtype=complex)\n",
      "    hk0.real = (((2.*k)**(1./2))*A(_Nics))**(-1.)\n",
      "    return hk0\n",
      "\n",
      "def initialize_Dhk(k, _Nics):\n",
      "    '''Returns the value of h_k for the mode k at e-fold N of _Nshss.\n",
      "    We obtain his value by imposing the Bunch-Davies initial conditions'''\n",
      "    Dhk0 = numpy.zeros(1,dtype=complex)\n",
      "    Dhk0.real = -(1/A(_Nics))*((2*k)**(-1./2))\n",
      "    Dhk0.imag = -((k/2)**(1./2))/(A(_Nics)*A(_Nics)*H(_Nics))\n",
      "    return Dhk0\n",
      "\n",
      "def evolve_hk(k, _Nics, _Nshss, _step):\n",
      "    '''Returns the values of h_k for the mode k for e-fold N ranging from\n",
      "    _Nics to _Nshss. We use the h_k values later on to estimate calG.'''\n",
      "    hk = numpy.empty(0, dtype=complex)\n",
      "    Dhk = numpy.empty(0, dtype=complex)\n",
      "    \n",
      "    hk = initialize_hk(k, _Nics)\n",
      "    Dhk = initialize_Dhk(k, _Nics)\n",
      "    \n",
      "    hk_array = numpy.empty(0, dtype=complex)\n",
      "    \n",
      "    N = _Nics\n",
      "    while N < _Nshss:\n",
      "        hk_array = numpy.append(hk_array, hk)\n",
      "\n",
      "        array = rk4_step(k, N, hk, Dhk, _step)\n",
      "        hk = hk + array[1]\n",
      "        Dhk = Dhk + array[0]\n",
      "\n",
      "        N += _step\n",
      "\n",
      "    return hk_array"
     ],
     "language": "python",
     "metadata": {},
     "outputs": [],
     "prompt_number": 7
    },
    {
     "cell_type": "code",
     "collapsed": false,
     "input": [
      "def calG(hk_k1_array, hk_k2_array, hk_k3_array, k1, k2, k3, _Nics, _Nshss):\n",
      "    '''Returns the value of \\mathcal{G} which is in turn used to estimate G, the \n",
      "    tensor bi-spectrum. The integral is evaluated for e-fold N ranging from \n",
      "    _Nics till _Nshss. Note that the extra factor exp(-(e*k)/(A*H)) is put in by \n",
      "    hand to satisfy the consistency relation.'''\n",
      "    N_range = numpy.linspace(_Nics, _Nshss, len(hk_k1_array))\n",
      "    func_int = ((A(N_range)/numpy.asarray([H(N) for N in N_range]))*\n",
      "                (numpy.conj(hk_k1_array)*numpy.conj(hk_k2_array)*numpy.conj(hk_k3_array))*\n",
      "                (numpy.exp(-e*(k1 +k2 +k3)/(3.*A(N_range)*numpy.asarray([H(N) for N in N_range])))))\n",
      "    result = simps(func_int, N_range)\n",
      "\n",
      "    return -(k1**2. +k2**2. +k3**2)/4.*result*numpy.array([0.+1.j], dtype=complex)\n",
      "\n",
      "\n",
      "def calG_cc(hk_k1_array, hk_k2_array, hk_k3_array, k1, k2, k3, _Nics, _Nshss):\n",
      "    '''Returns the value of the complex conjugate of \\mathcal{G} which is \n",
      "    in turn used to estimate G, the tensor bi-spectrum. The integral is \n",
      "    evaluated for e-fold N ranging from _Nics till _Nshss. Note that the \n",
      "    extra factor exp(-(e*k)/(A*H)) is put in by hand to satisfy the consistency relation.'''\n",
      "    N_range = numpy.linspace(_Nics, _Nshss, len(hk_k1_array))\n",
      "    func_int = ((A(N_range)/numpy.asarray([H(N) for N in N_range]))*\n",
      "                (hk_k1_array*hk_k2_array*hk_k3_array)*\n",
      "                (numpy.exp(-e*(k1 +k2 +k3)/(3.*A(N_range)*numpy.asarray([H(N) for N in N_range])))))\n",
      "    result = simps(func_int, N_range)\n",
      "\n",
      "    return (k1**2. +k2**2. +k3**2)/4.*result*numpy.array([0.+1.j], dtype=complex)"
     ],
     "language": "python",
     "metadata": {},
     "outputs": [],
     "prompt_number": 8
    },
    {
     "cell_type": "code",
     "collapsed": false,
     "input": [
      "#k1 = 1e-06\n",
      "k1 = 5e-02\n",
      "k3 = numpy.arange(0.,1.,.01)*k1\n",
      "\n",
      "k_array = []\n",
      "'''Since k1 is fixed, k_array will contain the set of [k2, k3] values.'''\n",
      "for i in range(len(k3)):\n",
      "    if k3[i]/k1 < 0.5:\n",
      "        k2 = numpy.linspace(1. -k3[i]/k1, 1., 2 +int(k3[i]/k1/0.01))*k1\n",
      "        [k_array.append([kx, k3[i]]) for kx in k2]\n",
      "    else :\n",
      "        k2 = numpy.linspace(k3[i]/k1, 1., 2 +int((1. -k3[i]/k1)/0.01))*k1\n",
      "        [k_array.append([kx, k3[i]]) for kx in k2]"
     ],
     "language": "python",
     "metadata": {},
     "outputs": [],
     "prompt_number": 26
    },
    {
     "cell_type": "code",
     "collapsed": false,
     "input": [
      "print k_array[2][1], k1*0.1"
     ],
     "language": "python",
     "metadata": {},
     "outputs": [
      {
       "output_type": "stream",
       "stream": "stdout",
       "text": [
        "0.0025 0.005\n"
       ]
      }
     ],
     "prompt_number": 27
    },
    {
     "cell_type": "code",
     "collapsed": false,
     "input": [
      "k_array"
     ],
     "language": "python",
     "metadata": {},
     "outputs": [
      {
       "metadata": {},
       "output_type": "pyout",
       "prompt_number": 28,
       "text": [
        "[[0.050000000000000003, 0.0],\n",
        " [0.050000000000000003, 0.0],\n",
        " [0.047500000000000001, 0.0025000000000000005],\n",
        " [0.048750000000000002, 0.0025000000000000005],\n",
        " [0.050000000000000003, 0.0025000000000000005],\n",
        " [0.045000000000000005, 0.005000000000000001],\n",
        " [0.046666666666666669, 0.005000000000000001],\n",
        " [0.048333333333333339, 0.005000000000000001],\n",
        " [0.050000000000000003, 0.005000000000000001],\n",
        " [0.042500000000000003, 0.0075000000000000015],\n",
        " [0.044374999999999998, 0.0075000000000000015],\n",
        " [0.046250000000000006, 0.0075000000000000015],\n",
        " [0.048125000000000001, 0.0075000000000000015],\n",
        " [0.050000000000000003, 0.0075000000000000015],\n",
        " [0.040000000000000001, 0.010000000000000002],\n",
        " [0.042000000000000003, 0.010000000000000002],\n",
        " [0.044000000000000004, 0.010000000000000002],\n",
        " [0.045999999999999999, 0.010000000000000002],\n",
        " [0.048000000000000001, 0.010000000000000002],\n",
        " [0.050000000000000003, 0.010000000000000002],\n",
        " [0.037500000000000006, 0.012500000000000001],\n",
        " [0.039583333333333331, 0.012500000000000001],\n",
        " [0.041666666666666671, 0.012500000000000001],\n",
        " [0.043750000000000004, 0.012500000000000001],\n",
        " [0.045833333333333337, 0.012500000000000001],\n",
        " [0.047916666666666663, 0.012500000000000001],\n",
        " [0.050000000000000003, 0.012500000000000001],\n",
        " [0.034999999999999996, 0.015000000000000003],\n",
        " [0.037142857142857137, 0.015000000000000003],\n",
        " [0.039285714285714285, 0.015000000000000003],\n",
        " [0.041428571428571426, 0.015000000000000003],\n",
        " [0.043571428571428573, 0.015000000000000003],\n",
        " [0.045714285714285714, 0.015000000000000003],\n",
        " [0.047857142857142855, 0.015000000000000003],\n",
        " [0.050000000000000003, 0.015000000000000003],\n",
        " [0.032499999999999994, 0.017500000000000002],\n",
        " [0.034687499999999996, 0.017500000000000002],\n",
        " [0.036874999999999998, 0.017500000000000002],\n",
        " [0.0390625, 0.017500000000000002],\n",
        " [0.041250000000000002, 0.017500000000000002],\n",
        " [0.043437499999999997, 0.017500000000000002],\n",
        " [0.045624999999999999, 0.017500000000000002],\n",
        " [0.047812500000000008, 0.017500000000000002],\n",
        " [0.050000000000000003, 0.017500000000000002],\n",
        " [0.029999999999999995, 0.020000000000000004],\n",
        " [0.032222222222222222, 0.020000000000000004],\n",
        " [0.034444444444444437, 0.020000000000000004],\n",
        " [0.036666666666666667, 0.020000000000000004],\n",
        " [0.03888888888888889, 0.020000000000000004],\n",
        " [0.041111111111111112, 0.020000000000000004],\n",
        " [0.043333333333333335, 0.020000000000000004],\n",
        " [0.045555555555555557, 0.020000000000000004],\n",
        " [0.04777777777777778, 0.020000000000000004],\n",
        " [0.050000000000000003, 0.020000000000000004],\n",
        " [0.027500000000000004, 0.022500000000000003],\n",
        " [0.029750000000000006, 0.022500000000000003],\n",
        " [0.032000000000000001, 0.022500000000000003],\n",
        " [0.034250000000000003, 0.022500000000000003],\n",
        " [0.036499999999999998, 0.022500000000000003],\n",
        " [0.038750000000000007, 0.022500000000000003],\n",
        " [0.041000000000000009, 0.022500000000000003],\n",
        " [0.043250000000000004, 0.022500000000000003],\n",
        " [0.045500000000000006, 0.022500000000000003],\n",
        " [0.047750000000000008, 0.022500000000000003],\n",
        " [0.050000000000000003, 0.022500000000000003],\n",
        " [0.025000000000000001, 0.025000000000000001],\n",
        " [0.027272727272727271, 0.025000000000000001],\n",
        " [0.029545454545454548, 0.025000000000000001],\n",
        " [0.031818181818181822, 0.025000000000000001],\n",
        " [0.034090909090909095, 0.025000000000000001],\n",
        " [0.036363636363636369, 0.025000000000000001],\n",
        " [0.038636363636363635, 0.025000000000000001],\n",
        " [0.040909090909090909, 0.025000000000000001],\n",
        " [0.043181818181818182, 0.025000000000000001],\n",
        " [0.045454545454545463, 0.025000000000000001],\n",
        " [0.047727272727272729, 0.025000000000000001],\n",
        " [0.050000000000000003, 0.025000000000000001],\n",
        " [0.027500000000000004, 0.027500000000000004],\n",
        " [0.030000000000000006, 0.027500000000000004],\n",
        " [0.032500000000000001, 0.027500000000000004],\n",
        " [0.035000000000000003, 0.027500000000000004],\n",
        " [0.037500000000000006, 0.027500000000000004],\n",
        " [0.040000000000000008, 0.027500000000000004],\n",
        " [0.04250000000000001, 0.027500000000000004],\n",
        " [0.045000000000000005, 0.027500000000000004],\n",
        " [0.047500000000000001, 0.027500000000000004],\n",
        " [0.050000000000000003, 0.027500000000000004],\n",
        " [0.030000000000000006, 0.030000000000000006],\n",
        " [0.032500000000000008, 0.030000000000000006],\n",
        " [0.035000000000000003, 0.030000000000000006],\n",
        " [0.037500000000000006, 0.030000000000000006],\n",
        " [0.040000000000000008, 0.030000000000000006],\n",
        " [0.04250000000000001, 0.030000000000000006],\n",
        " [0.045000000000000005, 0.030000000000000006],\n",
        " [0.047500000000000001, 0.030000000000000006],\n",
        " [0.050000000000000003, 0.030000000000000006],\n",
        " [0.032500000000000001, 0.032500000000000001],\n",
        " [0.035000000000000003, 0.032500000000000001],\n",
        " [0.037500000000000006, 0.032500000000000001],\n",
        " [0.040000000000000008, 0.032500000000000001],\n",
        " [0.042500000000000003, 0.032500000000000001],\n",
        " [0.045000000000000005, 0.032500000000000001],\n",
        " [0.047500000000000001, 0.032500000000000001],\n",
        " [0.050000000000000003, 0.032500000000000001],\n",
        " [0.035000000000000003, 0.035000000000000003],\n",
        " [0.037500000000000006, 0.035000000000000003],\n",
        " [0.040000000000000008, 0.035000000000000003],\n",
        " [0.04250000000000001, 0.035000000000000003],\n",
        " [0.045000000000000005, 0.035000000000000003],\n",
        " [0.047500000000000001, 0.035000000000000003],\n",
        " [0.050000000000000003, 0.035000000000000003],\n",
        " [0.037500000000000006, 0.037500000000000006],\n",
        " [0.040000000000000008, 0.037500000000000006],\n",
        " [0.04250000000000001, 0.037500000000000006],\n",
        " [0.045000000000000005, 0.037500000000000006],\n",
        " [0.047500000000000001, 0.037500000000000006],\n",
        " [0.050000000000000003, 0.037500000000000006],\n",
        " [0.040000000000000008, 0.040000000000000008],\n",
        " [0.04250000000000001, 0.040000000000000008],\n",
        " [0.045000000000000012, 0.040000000000000008],\n",
        " [0.047500000000000007, 0.040000000000000008],\n",
        " [0.050000000000000003, 0.040000000000000008],\n",
        " [0.04250000000000001, 0.04250000000000001],\n",
        " [0.045000000000000012, 0.04250000000000001],\n",
        " [0.047500000000000007, 0.04250000000000001],\n",
        " [0.050000000000000003, 0.04250000000000001],\n",
        " [0.045000000000000005, 0.045000000000000005],\n",
        " [0.047500000000000001, 0.045000000000000005],\n",
        " [0.050000000000000003, 0.045000000000000005],\n",
        " [0.047500000000000007, 0.047500000000000007],\n",
        " [0.050000000000000003, 0.047500000000000007]]"
       ]
      }
     ],
     "prompt_number": 28
    },
    {
     "cell_type": "code",
     "collapsed": false,
     "input": [
      "hk_k1_array = numpy.empty(0, dtype=complex)\n",
      "hk_k2_array = numpy.empty(0, dtype=complex)\n",
      "hk_k3_array = numpy.empty(0, dtype=complex)\n",
      "\n",
      "calG_array = numpy.empty(0, dtype= complex)\n",
      "G_array = numpy.empty(0, dtype= complex)\n",
      "h_NL_array = numpy.empty(0, dtype= complex)\n",
      "\n",
      "Nics = solve_Nics(0.1*k1, N_array)\n",
      "Nshss = solve_Nshss(k1, N_array)\n",
      "\n",
      "for k_set in k_array[5:]:\n",
      "    k2, k3 = k_set\n",
      "\n",
      "    hk_k1_array = evolve_hk(k1, Nics, Nshss, step)\n",
      "    hk_k2_array = evolve_hk(k2, Nics, Nshss, step)\n",
      "    hk_k3_array = evolve_hk(k3, Nics, Nshss, step)\n",
      "    \n",
      "    tps_k1 = 2.*(k1)**3./(2.*numpy.pi**2.)*(numpy.absolute(hk_k1_array[-1]))**2.\n",
      "    tps_k2 = 2.*(k2)**3./(2.*numpy.pi**2.)*(numpy.absolute(hk_k2_array[-1]))**2.\n",
      "    tps_k3 = 2.*(k3)**3./(2.*numpy.pi**2.)*(numpy.absolute(hk_k3_array[-1]))**2.\n",
      "    \n",
      "    e = 10**(-1)\n",
      "\n",
      "    CalG = calG(hk_k1_array, hk_k2_array, hk_k3_array, k1, k2, k3, Nics, Nshss)\n",
      "    CalG_cc = calG_cc(hk_k1_array, hk_k2_array, hk_k3_array, k1, k2, k3, Nics, Nshss)\n",
      "\n",
      "    G = (hk_k1_array[-1]*hk_k2_array[-1]*hk_k3_array[-1])*CalG +(numpy.conj(hk_k1_array[-1])*numpy.conj(hk_k2_array[-1])*numpy.conj(hk_k3_array[-1]))*CalG_cc\n",
      "    h_NL = -((4./(2.*numpy.pi**2.))**2.*(k1**3.*k2**3.*k3**3*G)/\n",
      "             (2.*k1**3.*tps_k2*tps_k3 +2.*k2**3.*tps_k3*tps_k1 +2.*k3**3.*tps_k1*tps_k2))\n",
      "\n",
      "    calG_array = numpy.append(calG_array, CalG)\n",
      "    G_array = numpy.append(G_array, G)\n",
      "    h_NL_array = numpy.append(h_NL_array, h_NL)\n",
      "    \n",
      "    print Nics, Nshss, k1, k2, k3, str(tps_k1).strip('[]'), str(tps_k2).strip('[]'), str(tps_k3).strip('[]'), str(CalG).strip('[]'), str(G).strip('[]'), str(h_NL).strip('[]')"
     ],
     "language": "python",
     "metadata": {},
     "outputs": [
      {
       "output_type": "stream",
       "stream": "stdout",
       "text": [
        "11.2294 30.0181 0.05 0.045 0.005 1.15422011767e-10 1.37897477347e-10 1.83666738543e-10 -2909.3420598-2308.16359127j  -9.14028927e-08+0.j  0.52397016-0.j\n",
        "11.2294"
       ]
      },
      {
       "output_type": "stream",
       "stream": "stdout",
       "text": [
        " 30.0181 0.05 0.0466666666667 0.005 1.15422011767e-10 1.31218804334e-10 1.83666738543e-10  3535.46634532+267.18899025j  -8.20168468e-08+0.j  0.51733724-0.j\n",
        "11.2294"
       ]
      },
      {
       "output_type": "stream",
       "stream": "stdout",
       "text": [
        " 30.0181 0.05 0.0483333333333 0.005 1.15422011767e-10 1.23718519761e-10 1.83666738543e-10 -2920.44263936+1693.96371736j  -7.32045263e-08+0.j  0.50646057-0.j\n",
        "11.2294"
       ]
      },
      {
       "output_type": "stream",
       "stream": "stdout",
       "text": [
        " 30.0181 0.05 0.05 0.005 1.15422011767e-10 1.15422011767e-10 1.83666738543e-10  1358.33023341-2901.60639714j  -6.48819012e-08+0.j  0.49078187-0.j\n",
        "11.2294"
       ]
      },
      {
       "output_type": "stream",
       "stream": "stdout",
       "text": [
        " 30.0181 0.05 0.0425 0.0075 1.15422011767e-10 1.46403468849e-10 1.80727475162e-10 -1622.98122687-1422.86850638j  -3.14940238e-08+0.j  0.53250173-0.j\n",
        "11.2294"
       ]
      },
      {
       "output_type": "stream",
       "stream": "stdout",
       "text": [
        " 30.0181 0.05 0.044375 0.0075 1.15422011767e-10 1.40191792179e-10 1.80727475162e-10 -673.5766783-1939.96640607j  -2.80213131e-08+0.j  0.53057836-0.j\n",
        "11.2294"
       ]
      },
      {
       "output_type": "stream",
       "stream": "stdout",
       "text": [
        " 30.0181 0.05 0.04625 0.0075 1.15422011767e-10 1.32964298468e-10 1.80727475162e-10  341.77293715-1919.95575678j  -2.48329784e-08+0.j  0.52425249-0.j\n",
        "11.2294"
       ]
      },
      {
       "output_type": "stream",
       "stream": "stdout",
       "text": [
        " 30.0181 0.05 0.048125 0.0075 1.15422011767e-10 1.24698746943e-10 1.80727475162e-10  1160.01843923-1436.40249112j  -2.18707944e-08+0.j  0.51268472-0.j\n",
        "11.2294"
       ]
      },
      {
       "output_type": "stream",
       "stream": "stdout",
       "text": [
        " 30.0181 0.05 0.05 0.0075 1.15422011767e-10 1.15422011767e-10 1.80727475162e-10  1605.85620577-671.70658905j  -1.90976555e-08+0.j  0.49510094-0.j\n",
        "11.2294"
       ]
      },
      {
       "output_type": "stream",
       "stream": "stdout",
       "text": [
        " 30.0181 0.05 0.04 0.01 1.15422011767e-10 1.53213043395e-10 1.78665515217e-10 -1089.63744161-1035.97975845j  -1.55644234e-08+0.j  0.53717699-0.j\n",
        "11.2294"
       ]
      },
      {
       "output_type": "stream",
       "stream": "stdout",
       "text": [
        " 30.0181 0.05 0.042 0.01 1.15422011767e-10 1.47894410323e-10 1.78665515217e-10  1099.30535885+909.1648012j  -1.37628213e-08+0.j  0.53981583-0.j\n",
        "11.2294"
       ]
      },
      {
       "output_type": "stream",
       "stream": "stdout",
       "text": [
        " 30.0181 0.05 0.044 0.01 1.15422011767e-10 1.41513448295e-10 1.78665515217e-10 -1104.46626302-780.95359195j  -1.21518479e-08+0.j  0.53850668-0.j\n",
        "11.2294"
       ]
      },
      {
       "output_type": "stream",
       "stream": "stdout",
       "text": [
        " 30.0181 0.05 0.046 0.01 1.15422011767e-10 1.33988400215e-10 1.78665515217e-10  1102.78518827+650.17753699j  -1.06857289e-08+0.j  0.532277-0.j\n",
        "11.2294"
       ]
      },
      {
       "output_type": "stream",
       "stream": "stdout",
       "text": [
        " 30.0181 0.05 0.048 0.01 1.15422011767e-10 1.25282632852e-10 1.78665515217e-10 -1091.61688599-516.47912005j  -9.33335031e-09+0.j  0.52014513-0.j\n",
        "11.2294"
       ]
      },
      {
       "output_type": "stream",
       "stream": "stdout",
       "text": [
        " 30.0181 0.05 0.05 0.01 1.15422011767e-10 1.15422011767e-10 1.78665515217e-10  1068.12498606+380.46503765j  -8.07455565e-09+0.j  0.50116296-0.j\n",
        "11.2294"
       ]
      },
      {
       "output_type": "stream",
       "stream": "stdout",
       "text": [
        " 30.0181 0.05 0.0375 0.0125 1.15422011767e-10 1.58536073753e-10 1.77065958037e-10 -815.25243271-826.46626184j  -9.43189371e-09+0.j  0.53938043-0.j\n",
        "11.2294"
       ]
      },
      {
       "output_type": "stream",
       "stream": "stdout",
       "text": [
        " 30.0181 0.05 0.0395833333333 0.0125 1.15422011767e-10 1.54197972234e-10 1.77065958037e-10 -830.39915675+717.51805694j  -8.27882915e-09+0.j  0.5458539-0.j\n",
        "11.2294"
       ]
      },
      {
       "output_type": "stream",
       "stream": "stdout",
       "text": [
        " 30.0181 0.05 0.0416666666667 0.0125 1.15422011767e-10 1.48850947472e-10 1.77065958037e-10  630.56513604+825.05045461j  -7.27778575e-09+0.j  0.54904357-0.j\n",
        "11.2294"
       ]
      },
      {
       "output_type": "stream",
       "stream": "stdout",
       "text": [
        " 30.0181 0.05 0.04375 0.0125 1.15422011767e-10 1.42372929133e-10 1.77065958037e-10  810.95900298-554.0350418j  -6.39003177e-09+0.j  0.54800189-0.j\n",
        "11.2294"
       ]
      },
      {
       "output_type": "stream",
       "stream": "stdout",
       "text": [
        " 30.0181 0.05 0.0458333333333 0.0125 1.15422011767e-10 1.34659957067e-10 1.77065958037e-10 -487.63502939-788.57598889j  -5.58753020e-09+0.j  0.5416653-0.j\n",
        "11.2294"
       ]
      },
      {
       "output_type": "stream",
       "stream": "stdout",
       "text": [
        " 30.0181 0.05 0.0479166666667 0.0125 1.15422011767e-10 1.25669389721e-10 1.77065958037e-10 -758.32174157+431.13092543j  -4.85178832e-09+0.j  0.52897075-0.j\n",
        "11.2294"
       ]
      },
      {
       "output_type": "stream",
       "stream": "stdout",
       "text": [
        " 30.0181 0.05 0.05 0.0125 1.15422011767e-10 1.15422011767e-10 1.77065958037e-10  384.12721786+720.60566922j  -4.16993527e-09+0.j  0.50879176-0.j\n",
        "11.2294"
       ]
      },
      {
       "output_type": "stream",
       "stream": "stdout",
       "text": [
        " 30.0181 0.05 0.035 0.015 1.15422011767e-10 1.62620495262e-10 1.75747837586e-10 -657.70167316-700.52074721j  -6.55291113e-09+0.j  0.54013216-0.j\n",
        "11.2294"
       ]
      },
      {
       "output_type": "stream",
       "stream": "stdout",
       "text": [
        " 30.0181 0.05 0.0371428571429 0.015 1.15422011767e-10 1.59190719863e-10 1.75747837586e-10 -778.80629298-458.32422283j  -5.69424776e-09+0.j  0.5496002-0.j\n",
        "11.2294"
       ]
      },
      {
       "output_type": "stream",
       "stream": "stdout",
       "text": [
        " 30.0181 0.05 0.0392857142857 0.015 1.15422011767e-10 1.54875985302e-10 1.75747837586e-10 -827.34923871-203.88245556j  -4.97246588e-09+0.j  0.55650768-0.j\n",
        "11.2294"
       ]
      },
      {
       "output_type": "stream",
       "stream": "stdout",
       "text": [
        " 30.0181 0.05 0.0414285714286 0.015 1.15422011767e-10 1.49518797505e-10 1.75747837586e-10 -803.24083894+44.10374274j  -4.35055893e-09+0.j  0.5599485-0.j\n",
        "11.2294"
       ]
      },
      {
       "output_type": "stream",
       "stream": "stdout",
       "text": [
        " 30.0181 0.05 0.0435714285714 0.015 1.15422011767e-10 1.42975825541e-10 1.75747837586e-10 -711.00679591+266.32932394j  -3.80268807e-09+0.j  0.55894491-0.j\n",
        "11.2294"
       ]
      },
      {
       "output_type": "stream",
       "stream": "stdout",
       "text": [
        " 30.0181 0.05 0.0457142857143 0.015 1.15422011767e-10 1.35136220761e-10 1.75747837586e-10 -560.6416309+444.18783002j  -3.31051072e-09+0.j  0.55238937-0.j\n",
        "11.2294"
       ]
      },
      {
       "output_type": "stream",
       "stream": "stdout",
       "text": [
        " 30.0181 0.05 0.0478571428571 0.015 1.15422011767e-10 1.25943918005e-10 1.75747837586e-10 -368.03869477+561.6737986j  -2.86129491e-09+0.j  0.53907608-0.j\n",
        "11.2294"
       ]
      },
      {
       "output_type": "stream",
       "stream": "stdout",
       "text": [
        " 30.0181 0.05 0.05 0.015 1.15422011767e-10 1.15422011767e-10 1.75747837586e-10 -154.64156086+607.77464255j  -2.44679732e-09+0.j  0.51780965-0.j\n",
        "11.2294"
       ]
      },
      {
       "output_type": "stream",
       "stream": "stdout",
       "text": [
        " 30.0181 0.05 0.0325 0.0175 1.15422011767e-10 1.65715769369e-10 1.74601557215e-10 -562.68178625-621.59046034j  -5.04600089e-09+0.j  0.54013866-0.j\n",
        "11.2294"
       ]
      },
      {
       "output_type": "stream",
       "stream": "stdout",
       "text": [
        " 30.0181 0.05 0.0346875 0.0175 1.15422011767e-10 1.63056535441e-10 1.74601557215e-10 -82.11542558-778.65118054j  -4.32630256e-09+0.j  0.55183395-0.j\n",
        "11.2294"
       ]
      },
      {
       "output_type": "stream",
       "stream": "stdout",
       "text": [
        " 30.0181 0.05 0.036875 0.0175 1.15422011767e-10 1.59663365586e-10 1.74601557215e-10  365.55868205-637.03287833j  -3.74096329e-09+0.j  0.56162791-0.j\n",
        "11.2294"
       ]
      },
      {
       "output_type": "stream",
       "stream": "stdout",
       "text": [
        " 30.0181 0.05 0.0390625 0.0175 1.15422011767e-10 1.55370453405e-10 1.74601557215e-10  628.34235897-287.57639339j  -3.25219209e-09+0.j  0.56871552-0.j\n",
        "11.2294"
       ]
      },
      {
       "output_type": "stream",
       "stream": "stdout",
       "text": [
        " 30.0181 0.05 0.04125 0.0175 1.15422011767e-10 1.50008599514e-10 1.74601557215e-10  639.96459247+119.80364177j  -2.83391737e-09+0.j  0.57222866-0.j\n",
        "11.2294"
       ]
      },
      {
       "output_type": "stream",
       "stream": "stdout",
       "text": [
        " 30.0181 0.05 0.0434375 0.0175 1.15422011767e-10 1.4342161573e-10 1.74601557215e-10  430.82087789+436.57978965j  -2.46763021e-09+0.j  0.57114266-0.j\n",
        "11.2294"
       ]
      },
      {
       "output_type": "stream",
       "stream": "stdout",
       "text": [
        " 30.0181 0.05 0.045625 0.0175 1.15422011767e-10 1.35488603134e-10 1.74601557215e-10  103.32988687+567.45667202j  -2.14022897e-09+0.j  0.56427307-0.j\n",
        "11.2294"
       ]
      },
      {
       "output_type": "stream",
       "stream": "stdout",
       "text": [
        " 30.0181 0.05 0.0478125 0.0175 1.15422011767e-10 1.2614797561e-10 1.74601557215e-10 -214.99138643+495.89189759j  -1.84270146e-09+0.j  0.55033055-0.j\n",
        "11.2294"
       ]
      },
      {
       "output_type": "stream",
       "stream": "stdout",
       "text": [
        " 30.0181 0.05 0.05 0.0175 1.15422011767e-10 1.15422011767e-10 1.74601557215e-10 -420.51980803+277.37717424j  -1.56922339e-09+0.j  0.52803329-0.j\n",
        "11.2294"
       ]
      },
      {
       "output_type": "stream",
       "stream": "stdout",
       "text": [
        " 30.0181 0.05 0.03 0.02 1.15422011767e-10 1.68053682117e-10 1.73533952732e-10 -505.83518914-572.93819014j  -4.22782373e-09+0.j  0.5398659-0.j\n",
        "11.2294"
       ]
      },
      {
       "output_type": "stream",
       "stream": "stdout",
       "text": [
        " 30.0181 0.05 0.0322222222222 0.02 1.15422011767e-10 1.66007640143e-10 1.73533952732e-10  410.84777541-575.66234744j  -3.56266947e-09+0.j  0.55312059-0.j\n",
        "11.2294"
       ]
      },
      {
       "output_type": "stream",
       "stream": "stdout",
       "text": [
        " 30.0181 0.05 0.0344444444444 0.02 1.15422011767e-10 1.63384995148e-10 1.73533952732e-10  609.66695782+249.42538198j  -3.03961212e-09+0.j  0.56505845-0.j\n",
        "11.2294"
       ]
      },
      {
       "output_type": "stream",
       "stream": "stdout",
       "text": [
        " 30.0181 0.05 0.0366666666667 0.02 1.15422011767e-10 1.60024441958e-10 1.73533952732e-10 -93.44522739+609.37935451j  -2.61673487e-09+0.j  0.57497206-0.j\n",
        "11.2294"
       ]
      },
      {
       "output_type": "stream",
       "stream": "stdout",
       "text": [
        " 30.0181 0.05 0.0388888888889 0.02 1.15422011767e-10 1.55747506117e-10 1.73533952732e-10 -576.53659206+51.75345427j  -2.26578358e-09+0.j  0.58210805-0.j\n",
        "11.2294"
       ]
      },
      {
       "output_type": "stream",
       "stream": "stdout",
       "text": [
        " 30.0181 0.05 0.0411111111111 0.02 1.15422011767e-10 1.50384189913e-10 1.73533952732e-10 -180.35317299-513.65266987j  -1.96728159e-09+0.j  0.58559436-0.j\n",
        "11.2294"
       ]
      },
      {
       "output_type": "stream",
       "stream": "stdout",
       "text": [
        " 30.0181 0.05 0.0433333333333 0.02 1.15422011767e-10 1.4376328391e-10 1.73533952732e-10  424.4786899-286.23618292j  -1.70718969e-09+0.j  0.58434044-0.j\n",
        "11.2294"
       ]
      },
      {
       "output_type": "stream",
       "stream": "stdout",
       "text": [
        " 30.0181 0.05 0.0455555555556 0.02 1.15422011767e-10 1.35762878864e-10 1.73533952732e-10  363.45291818+314.52106095j  -1.47584816e-09+0.j  0.57712561-0.j\n",
        "11.2294"
       ]
      },
      {
       "output_type": "stream",
       "stream": "stdout",
       "text": [
        " 30.0181 0.05 0.0477777777778 0.02 1.15422011767e-10 1.26308013851e-10 1.73533952732e-10 -191.30338664+406.91034333j  -1.26640627e-09+0.j  0.56255849-0.j\n",
        "11.2294"
       ]
      },
      {
       "output_type": "stream",
       "stream": "stdout",
       "text": [
        " 30.0181 0.05 0.05 0.02 1.15422011767e-10 1.15422011767e-10 1.73533952732e-10 -413.32647094-64.45534604j  -1.07454520e-09+0.j  0.53926912-0.j\n",
        "11.2294"
       ]
      },
      {
       "output_type": "stream",
       "stream": "stdout",
       "text": [
        " 30.0181 0.05 0.0275 0.0225 1.15422011767e-10 1.69842168599e-10 1.72452668424e-10 -475.36082689-546.31346016j  -3.81505662e-09+0.j  0.53960141-0.j\n",
        "11.2294"
       ]
      },
      {
       "output_type": "stream",
       "stream": "stdout",
       "text": [
        " 30.0181 0.05 0.02975 0.0225 1.15422011767e-10 1.68253942884e-10 1.72452668424e-10  616.80324464-241.80321753j  -3.14587311e-09+0.j  0.55383543-0.j\n",
        "11.2294"
       ]
      },
      {
       "output_type": "stream",
       "stream": "stdout",
       "text": [
        " 30.0181 0.05 0.032 0.0225 1.15422011767e-10 1.66236252582e-10 1.72452668424e-10  20.97986222+611.02071343j  -2.63768843e-09+0.j  0.56726202-0.j\n",
        "11.2294"
       ]
      },
      {
       "output_type": "stream",
       "stream": "stdout",
       "text": [
        " 30.0181 0.05 0.03425 0.0225 1.15422011767e-10 1.63640806383e-10 1.72452668424e-10 -542.51823967-168.45519435j  -2.24019393e-09+0.j  0.57925478-0.j\n",
        "11.2294"
       ]
      },
      {
       "output_type": "stream",
       "stream": "stdout",
       "text": [
        " 30.0181 0.05 0.0365 0.0225 1.15422011767e-10 1.60306359174e-10 1.72452668424e-10  313.32114654-428.13746841j  -1.92078247e-09+0.j  0.58919322-0.j\n",
        "11.2294"
       ]
      },
      {
       "output_type": "stream",
       "stream": "stdout",
       "text": [
        " 30.0181 0.05 0.03875 0.0225 1.15422011767e-10 1.56045272659e-10 1.72452668424e-10  286.41741397+406.40658404j  -1.65718308e-09+0.j  0.59631507-0.j\n",
        "11.2294"
       ]
      },
      {
       "output_type": "stream",
       "stream": "stdout",
       "text": [
        " 30.0181 0.05 0.041 0.0225 1.15422011767e-10 1.50679746958e-10 1.72452668424e-10 -446.56698116+135.870214j  -1.43410114e-09+0.j  0.59971263-0.j\n",
        "11.2294"
       ]
      },
      {
       "output_type": "stream",
       "stream": "stdout",
       "text": [
        " 30.0181 0.05 0.04325 0.0225 1.15422011767e-10 1.4403748858e-10 1.72452668424e-10  6.84025409-438.21111544j  -1.24068330e-09+0.j  0.5982712-0.j\n",
        "11.2294"
       ]
      },
      {
       "output_type": "stream",
       "stream": "stdout",
       "text": [
        " 30.0181 0.05 0.0455 0.0225 1.15422011767e-10 1.35978889191e-10 1.72452668424e-10  390.21914288+128.37889539j  -1.06928421e-09+0.j  0.59067977-0.j\n",
        "11.2294"
       ]
      },
      {
       "output_type": "stream",
       "stream": "stdout",
       "text": [
        " 30.0181 0.05 0.04775 0.0225 1.15422011767e-10 1.26436142824e-10 1.72452668424e-10 -219.84533545+314.45012615j  -9.14758249e-10+0.j  0.57552202-0.j\n",
        "11.2294"
       ]
      },
      {
       "output_type": "stream",
       "stream": "stdout",
       "text": [
        " 30.0181 0.05 0.05 0.0225 1.15422011767e-10 1.15422011767e-10 1.72452668424e-10 -223.93638008-277.20685354j  -7.73643072e-10+0.j  0.55130806-0.j\n",
        "11.2294"
       ]
      },
      {
       "output_type": "stream",
       "stream": "stdout",
       "text": [
        " 30.0181 0.05 0.025 0.025 1.15422011767e-10 1.71260219186e-10 1.71260219186e-10 -465.74448247-537.8223824j  -3.68855850e-09+0.j  0.53949761-0.j\n",
        "11.2294"
       ]
      },
      {
       "output_type": "stream",
       "stream": "stdout",
       "text": [
        " 30.0181 0.05 0.0272727272727 0.025 1.15422011767e-10 1.69986217833e-10 1.71260219186e-10  638.88245266+60.96736314j  -2.96116988e-09+0.j  0.55419958-0.j\n",
        "11.2294"
       ]
      },
      {
       "output_type": "stream",
       "stream": "stdout",
       "text": [
        " 30.0181 0.05 0.0295454545455 0.025 1.15422011767e-10 1.68414684344e-10 1.71260219186e-10 -459.12905379+363.24946861j  -2.42909196e-09+0.j  0.56854264-0.j\n",
        "11.2294"
       ]
      },
      {
       "output_type": "stream",
       "stream": "stdout",
       "text": [
        " 30.0181 0.05 0.0318181818182 0.025 1.15422011767e-10 1.66417300148e-10 1.71260219186e-10  71.89686453-534.08753319j  -2.02709772e-09+0.j  0.58196982-0.j\n",
        "11.2294"
       ]
      },
      {
       "output_type": "stream",
       "stream": "stdout",
       "text": [
        " 30.0181 0.05 0.0340909090909 0.025 1.15422011767e-10 1.63846675462e-10 1.71260219186e-10  297.46361835+401.40647075j  -1.71447513e-09+0.j  0.59395328-0.j\n",
        "11.2294"
       ]
      },
      {
       "output_type": "stream",
       "stream": "stdout",
       "text": [
        " 30.0181 0.05 0.0363636363636 0.025 1.15422011767e-10 1.60532501488e-10 1.71260219186e-10 -459.95907742-72.69832888j  -1.46457474e-09+0.j  0.60386939-0.j\n",
        "11.2294"
       ]
      },
      {
       "output_type": "stream",
       "stream": "stdout",
       "text": [
        " 30.0181 0.05 0.0386363636364 0.025 1.15422011767e-10 1.56286918561e-10 1.71260219186e-10  353.22139359-254.93277687j  -1.25938169e-09+0.j  0.61094508-0.j\n",
        "11.2294"
       ]
      },
      {
       "output_type": "stream",
       "stream": "stdout",
       "text": [
        " 30.0181 0.05 0.0409090909091 0.025 1.15422011767e-10 1.50920021433e-10 1.71260219186e-10 -63.86422969+403.24903827j  -1.08647895e-09+0.j  0.61423214-0.j\n",
        "11.2294"
       ]
      },
      {
       "output_type": "stream",
       "stream": "stdout",
       "text": [
        " 30.0181 0.05 0.0431818181818 0.025 1.15422011767e-10 1.44257269247e-10 1.71260219186e-10 -228.31958449-307.16329369j  -9.37203067e-10+0.j  0.61258947-0.j\n",
        "11.2294"
       ]
      },
      {
       "output_type": "stream",
       "stream": "stdout",
       "text": [
        " 30.0181 0.05 0.0454545454545 0.025 1.15422011767e-10 1.36157547385e-10 1.71260219186e-10  355.33113189+45.16944165j  -8.05474283e-10+0.j  0.60467146-0.j\n",
        "11.2294"
       ]
      },
      {
       "output_type": "stream",
       "stream": "stdout",
       "text": [
        " 30.0181 0.05 0.0477272727273 0.025 1.15422011767e-10 1.26540172151e-10 1.71260219186e-10 -257.87822174+212.31284422j  -6.87095753e-10+0.j  0.58896182-0.j\n",
        "11.2294"
       ]
      },
      {
       "output_type": "stream",
       "stream": "stdout",
       "text": [
        " 30.0181 0.05 0.05 0.025 1.15422011767e-10 1.15422011767e-10 1.71260219186e-10  17.14659699-309.27432935j  -5.79362457e-10+0.j  0.56391944-0.j\n",
        "11.2294"
       ]
      },
      {
       "output_type": "stream",
       "stream": "stdout",
       "text": [
        " 30.0181 0.05 0.0275 0.0275 1.15422011767e-10 1.69842168599e-10 1.69842168599e-10  387.1877349-414.50189793j  -2.27706888e-09+0.j  0.57170858-0.j\n",
        "11.2294"
       ]
      },
      {
       "output_type": "stream",
       "stream": "stdout",
       "text": [
        " 30.0181 0.05 0.03 0.0275 1.15422011767e-10 1.68053682117e-10 1.69842168599e-10  510.83923309-46.13478543j  -1.83351445e-09+0.j  0.5871162-0.j\n",
        "11.2294"
       ]
      },
      {
       "output_type": "stream",
       "stream": "stdout",
       "text": [
        " 30.0181 0.05 0.0325 0.0275 1.15422011767e-10 1.65715769369e-10 1.69842168599e-10  377.24788928+278.1348592j  -1.50590059e-09+0.j  0.60127557-0.j\n",
        "11.2294"
       ]
      },
      {
       "output_type": "stream",
       "stream": "stdout",
       "text": [
        " 30.0181 0.05 0.035 0.0275 1.15422011767e-10 1.62620495262e-10 1.69842168599e-10  92.15847573+421.75545248j  -1.25545515e-09+0.j  0.61346343-0.j\n",
        "11.2294"
       ]
      },
      {
       "output_type": "stream",
       "stream": "stdout",
       "text": [
        " 30.0181 0.05 0.0375 0.0275 1.15422011767e-10 1.58536073753e-10 1.69842168599e-10 -191.39533613+351.11189975j  -1.05764800e-09+0.j  0.62278325-0.j\n",
        "11.2294"
       ]
      },
      {
       "output_type": "stream",
       "stream": "stdout",
       "text": [
        " 30.0181 0.05 0.04 0.0275 1.15422011767e-10 1.53213043395e-10 1.69842168599e-10 -347.20107906+132.6405706j  -8.96404205e-10+0.j  0.62810754-0.j\n",
        "11.2294"
       ]
      },
      {
       "output_type": "stream",
       "stream": "stdout",
       "text": [
        " 30.0181 0.05 0.0425 0.0275 1.15422011767e-10 1.46403468849e-10 1.69842168599e-10 -326.82322695-113.06752525j  -7.60925107e-10+0.j  0.62801863-0.j\n",
        "11.2294"
       ]
      },
      {
       "output_type": "stream",
       "stream": "stdout",
       "text": [
        " 30.0181 0.05 0.045 0.0275 1.15422011767e-10 1.37897477347e-10 1.69842168599e-10 -167.98475921-273.96591039j  -6.43911077e-10+0.j  0.62078653-0.j\n",
        "11.2294"
       ]
      },
      {
       "output_type": "stream",
       "stream": "stdout",
       "text": [
        " 30.0181 0.05 0.0475 0.0275 1.15422011767e-10 1.27568750482e-10 1.69842168599e-10  37.30928931-295.14940945j  -5.40514210e-10+0.j  0.60442139-0.j\n",
        "11.2294"
       ]
      },
      {
       "output_type": "stream",
       "stream": "stdout",
       "text": [
        " 30.0181 0.05 0.05 0.0275 1.15422011767e-10 1.15422011767e-10 1.69842168599e-10  193.9562333-192.98631391j  -4.47677394e-10+0.j  0.57684161-0.j\n",
        "11.2294"
       ]
      },
      {
       "output_type": "stream",
       "stream": "stdout",
       "text": [
        " 30.0181 0.05 0.03 0.03 1.15422011767e-10 1.68053682117e-10 1.68053682117e-10  371.77394541+276.40977265j  -1.47355624e-09+0.j  0.60226498-0.j\n",
        "11.2294"
       ]
      },
      {
       "output_type": "stream",
       "stream": "stdout",
       "text": [
        " 30.0181 0.05 0.0325 0.03 1.15422011767e-10 1.65715769369e-10 1.68053682117e-10  86.52701744+413.86534314j  -1.20796385e-09+0.j  0.61617131-0.j\n",
        "11.2294"
       ]
      },
      {
       "output_type": "stream",
       "stream": "stdout",
       "text": [
        " 30.0181 0.05 0.035 0.03 1.15422011767e-10 1.62620495262e-10 1.68053682117e-10 -191.33175972+338.66275852j  -1.00516955e-09+0.j  0.62811224-0.j\n",
        "11.2294"
       ]
      },
      {
       "output_type": "stream",
       "stream": "stdout",
       "text": [
        " 30.0181 0.05 0.0375 0.03 1.15422011767e-10 1.58536073753e-10 1.68053682117e-10 -338.98945459+120.80067069j  -8.45219471e-10+0.j  0.6371913-0.j\n",
        "11.2294"
       ]
      },
      {
       "output_type": "stream",
       "stream": "stdout",
       "text": [
        " 30.0181 0.05 0.04 0.03 1.15422011767e-10 1.53213043395e-10 1.68053682117e-10 -312.13510376-119.08427389j  -7.15049848e-10+0.j  0.64227836-0.j\n",
        "11.2294"
       ]
      },
      {
       "output_type": "stream",
       "stream": "stdout",
       "text": [
        " 30.0181 0.05 0.0425 0.03 1.15422011767e-10 1.46403468849e-10 1.68053682117e-10 -151.12068287-271.22513678j  -6.05893133e-10+0.j  0.64194777-0.j\n",
        "11.2294"
       ]
      },
      {
       "output_type": "stream",
       "stream": "stdout",
       "text": [
        " 30.0181 0.05 0.045 0.03 1.15422011767e-10 1.37897477347e-10 1.68053682117e-10  51.41024614-283.56912889j  -5.11826159e-10+0.j  0.63445223-0.j\n",
        "11.2294"
       ]
      },
      {
       "output_type": "stream",
       "stream": "stdout",
       "text": [
        " 30.0181 0.05 0.0475 0.03 1.15422011767e-10 1.27568750482e-10 1.68053682117e-10  201.1090566-174.85030387j  -4.28912986e-10+0.j  0.61776951-0.j\n",
        "11.2294"
       ]
      },
      {
       "output_type": "stream",
       "stream": "stdout",
       "text": [
        " 30.0181 0.05 0.05 0.03 1.15422011767e-10 1.15422011767e-10 1.68053682117e-10  244.47905984-13.09290733j  -3.54663887e-10+0.j  0.58976511-0.j\n",
        "11.2294"
       ]
      },
      {
       "output_type": "stream",
       "stream": "stdout",
       "text": [
        " 30.0181 0.05 0.0325 0.0325 1.15422011767e-10 1.65715769369e-10 1.65715769369e-10 -191.26235721+334.61139702j  -9.88353890e-10+0.j  0.62984369-0.j\n",
        "11.2294"
       ]
      },
      {
       "output_type": "stream",
       "stream": "stdout",
       "text": [
        " 30.0181 0.05 0.035 0.0325 1.15422011767e-10 1.62620495262e-10 1.65715769369e-10 -334.88933318+115.14384594j  -8.20863669e-10+0.j  0.64157506-0.j\n",
        "11.2294"
       ]
      },
      {
       "output_type": "stream",
       "stream": "stdout",
       "text": [
        " 30.0181 0.05 0.0375 0.0325 1.15422011767e-10 1.58536073753e-10 1.65715769369e-10 -303.51674955-122.30261361j  -6.88940312e-10+0.j  0.65047328-0.j\n",
        "11.2294"
       ]
      },
      {
       "output_type": "stream",
       "stream": "stdout",
       "text": [
        " 30.0181 0.05 0.04 0.0325 1.15422011767e-10 1.53213043395e-10 1.65715769369e-10 -140.36436488-268.98903009j  -5.81755693e-10+0.j  0.65540957-0.j\n",
        "11.2294"
       ]
      },
      {
       "output_type": "stream",
       "stream": "stdout",
       "text": [
        " 30.0181 0.05 0.0425 0.0325 1.15422011767e-10 1.46403468849e-10 1.65715769369e-10  60.64765231-275.03420301j  -4.92049058e-10+0.j  0.65495392-0.j\n",
        "11.2294"
       ]
      },
      {
       "output_type": "stream",
       "stream": "stdout",
       "text": [
        " 30.0181 0.05 0.045 0.0325 1.15422011767e-10 1.37897477347e-10 1.65715769369e-10  205.30081742-161.3424577j  -4.14917878e-10+0.j  0.64734434-0.j\n",
        "11.2294"
       ]
      },
      {
       "output_type": "stream",
       "stream": "stdout",
       "text": [
        " 30.0181 0.05 0.0475 0.0325 1.15422011767e-10 1.27568750482e-10 1.65715769369e-10  241.16330344+2.34102961j  -3.47102604e-10+0.j  0.63052634-0.j\n",
        "11.2294"
       ]
      },
      {
       "output_type": "stream",
       "stream": "stdout",
       "text": [
        " 30.0181 0.05 0.05 0.0325 1.15422011767e-10 1.15422011767e-10 1.65715769369e-10  173.22177239+137.76383398j  -2.86535108e-10+0.j  0.60230782-0.j\n",
        "11.2294"
       ]
      },
      {
       "output_type": "stream",
       "stream": "stdout",
       "text": [
        " 30.0181 0.05 0.035 0.035 1.15422011767e-10 1.62620495262e-10 1.62620495262e-10 -300.67630325-123.31174029j  -6.80459015e-10+0.j  0.65314435-0.j\n",
        "11.2294"
       ]
      },
      {
       "output_type": "stream",
       "stream": "stdout",
       "text": [
        " 30.0181 0.05 0.0375 0.035 1.15422011767e-10 1.58536073753e-10 1.62620495262e-10 -135.13098696-267.7534917j  -5.70019647e-10+0.j  0.66193706-0.j\n",
        "11.2294"
       ]
      },
      {
       "output_type": "stream",
       "stream": "stdout",
       "text": [
        " 30.0181 0.05 0.04 0.035 1.15422011767e-10 1.53213043395e-10 1.62620495262e-10  65.86042017-269.82149313j  -4.80436398e-10+0.j  0.66683078-0.j\n",
        "11.2294"
       ]
      },
      {
       "output_type": "stream",
       "stream": "stdout",
       "text": [
        " 30.0181 0.05 0.0425 0.035 1.15422011767e-10 1.46403468849e-10 1.62620495262e-10  207.55200025-152.41280264j  -4.05606246e-10+0.j  0.66639632-0.j\n",
        "11.2294"
       ]
      },
      {
       "output_type": "stream",
       "stream": "stdout",
       "text": [
        " 30.0181 0.05 0.045 0.035 1.15422011767e-10 1.37897477347e-10 1.62620495262e-10  238.09631009+12.9380632j  -3.41410484e-10+0.j  0.6588614-0.j\n",
        "11.2294"
       ]
      },
      {
       "output_type": "stream",
       "stream": "stdout",
       "text": [
        " 30.0181 0.05 0.0475 0.035 1.15422011767e-10 1.27568750482e-10 1.62620495262e-10  163.9159697+146.71099979j  -2.85109189e-10+0.j  0.64214128-0.j\n",
        "11.2294"
       ]
      },
      {
       "output_type": "stream",
       "stream": "stdout",
       "text": [
        " 30.0181 0.05 0.05 0.035 1.15422011767e-10 1.15422011767e-10 1.62620495262e-10  35.81644364+198.44182158j  -2.34958795e-10+0.j  0.61398292-0.j\n",
        "11.2294"
       ]
      },
      {
       "output_type": "stream",
       "stream": "stdout",
       "text": [
        " 30.0181 0.05 0.0375 0.0375 1.15422011767e-10 1.58536073753e-10 1.58536073753e-10  67.54353304-268.06971095j  -4.76603993e-10+0.j  0.67071451-0.j\n",
        "11.2294"
       ]
      },
      {
       "output_type": "stream",
       "stream": "stdout",
       "text": [
        " 30.0181 0.05 0.04 0.0375 1.15422011767e-10 1.53213043395e-10 1.58536073753e-10  208.51806601-147.97567899j  -4.00951096e-10+0.j  0.67569621-0.j\n",
        "11.2294"
       ]
      },
      {
       "output_type": "stream",
       "stream": "stdout",
       "text": [
        " 30.0181 0.05 0.0425 0.0375 1.15422011767e-10 1.46403468849e-10 1.58536073753e-10  235.99134828+19.11273368j  -3.37877868e-10+0.j  0.67546103-0.j\n",
        "11.2294"
       ]
      },
      {
       "output_type": "stream",
       "stream": "stdout",
       "text": [
        " 30.0181 0.05 0.045 0.0375 1.15422011767e-10 1.37897477347e-10 1.58536073753e-10  157.43608762+152.2030109j  -2.83888118e-10+0.j  0.66823339-0.j\n",
        "11.2294"
       ]
      },
      {
       "output_type": "stream",
       "stream": "stdout",
       "text": [
        " 30.0181 0.05 0.0475 0.0375 1.15422011767e-10 1.27568750482e-10 1.58536073753e-10  25.46090776+200.17080569j  -2.36654778e-10+0.j  0.65190299-0.j\n",
        "11.2294"
       ]
      },
      {
       "output_type": "stream",
       "stream": "stdout",
       "text": [
        " 30.0181 0.05 0.05 0.0375 1.15422011767e-10 1.15422011767e-10 1.58536073753e-10 -94.29721152+158.87578169j  -1.94692780e-10+0.j  0.62415496-0.j\n",
        "11.2294"
       ]
      },
      {
       "output_type": "stream",
       "stream": "stdout",
       "text": [
        " 30.0181 0.05 0.04 0.04 1.15422011767e-10 1.53213043395e-10 1.53213043395e-10  235.24712314+21.13941824j  -3.36680821e-10+0.j  0.68091822-0.j\n",
        "11.2294"
       ]
      },
      {
       "output_type": "stream",
       "stream": "stdout",
       "text": [
        " 30.0181 0.05 0.0425 0.04 1.15422011767e-10 1.46403468849e-10 1.53213043395e-10  154.12214812+154.80493022j  -2.83197827e-10+0.j  0.6810938-0.j\n",
        "11.2294"
       ]
      },
      {
       "output_type": "stream",
       "stream": "stdout",
       "text": [
        " 30.0181 0.05 0.045 0.04 1.15422011767e-10 1.37897477347e-10 1.53213043395e-10  19.24213839+200.87219804j  -2.37516782e-10+0.j  0.67445457-0.j\n",
        "11.2294"
       ]
      },
      {
       "output_type": "stream",
       "stream": "stdout",
       "text": [
        " 30.0181 0.05 0.0475 0.04 1.15422011767e-10 1.27568750482e-10 1.53213043395e-10 -101.82512873+155.32367003j  -1.97649584e-10+0.j  0.65887344-0.j\n",
        "11.2294"
       ]
      },
      {
       "output_type": "stream",
       "stream": "stdout",
       "text": [
        " 30.0181 0.05 0.05 0.04 1.15422011767e-10 1.15422011767e-10 1.53213043395e-10 -160.77770134+54.77478662j  -1.62324007e-10+0.j  0.63197646-0.j\n",
        "11.2294"
       ]
      },
      {
       "output_type": "stream",
       "stream": "stdout",
       "text": [
        " 30.0181 0.05 0.0425 0.0425 1.15422011767e-10 1.46403468849e-10 1.46403468849e-10  17.17095965+201.05054892j  -2.37778519e-10+0.j  0.68192362-0.j\n",
        "11.2294"
       ]
      },
      {
       "output_type": "stream",
       "stream": "stdout",
       "text": [
        " 30.0181 0.05 0.045 0.0425 1.15422011767e-10 1.37897477347e-10 1.46403468849e-10 -105.50406504+153.39483606j  -1.99067294e-10+0.j  0.67620463-0.j\n",
        "11.2294"
       ]
      },
      {
       "output_type": "stream",
       "stream": "stdout",
       "text": [
        " 30.0181 0.05 0.0475 0.0425 1.15422011767e-10 1.27568750482e-10 1.46403468849e-10 -163.87776472+49.35486183j  -1.65363322e-10+0.j  0.66180748-0.j\n",
        "11.2294"
       ]
      },
      {
       "output_type": "stream",
       "stream": "stdout",
       "text": [
        " 30.0181 0.05 0.05 0.0425 1.15422011767e-10 1.15422011767e-10 1.46403468849e-10 -145.78042241-56.48162674j  -1.35575341e-10+0.j  0.63630808-0.j\n",
        "11.2294"
       ]
      },
      {
       "output_type": "stream",
       "stream": "stdout",
       "text": [
        " 30.0181 0.05 0.045 0.045 1.15422011767e-10 1.37897477347e-10 1.37897477347e-10 -164.85818578+47.51687286j  -1.66364216e-10+0.j  0.67178211-0.j\n",
        "11.2294"
       ]
      },
      {
       "output_type": "stream",
       "stream": "stdout",
       "text": [
        " 30.0181 0.05 0.0475 0.045 1.15422011767e-10 1.27568750482e-10 1.37897477347e-10 -145.39591457-60.64420502j  -1.37957322e-10+0.j  0.65907826-0.j\n",
        "11.2294"
       ]
      },
      {
       "output_type": "stream",
       "stream": "stdout",
       "text": [
        " 30.0181 0.05 0.05 0.045 1.15422011767e-10 1.15422011767e-10 1.37897477347e-10 -70.60564043-125.20287268j  -1.12913804e-10+0.j  0.6356371-0.j\n",
        "11.2294"
       ]
      },
      {
       "output_type": "stream",
       "stream": "stdout",
       "text": [
        " 30.0181 0.05 0.0475 0.0475 1.15422011767e-10 1.27568750482e-10 1.27568750482e-10 -69.25072516-126.80540867j  -1.14205267e-10+0.j  0.64863167-0.j\n",
        "11.2294"
       ]
      },
      {
       "output_type": "stream",
       "stream": "stdout",
       "text": [
        " 30.0181 0.05 0.05 0.0475 1.15422011767e-10 1.15422011767e-10 1.27568750482e-10  21.27835517-129.94732794j  -9.33164809e-11+0.j  0.62801246-0.j\n"
       ]
      }
     ],
     "prompt_number": 29
    },
    {
     "cell_type": "code",
     "collapsed": false,
     "input": [
      "hk_k1_array = numpy.empty(0, dtype=complex)\n",
      "hk_k2_array = numpy.empty(0, dtype=complex)\n",
      "hk_k3_array = numpy.empty(0, dtype=complex)\n",
      "\n",
      "k1 = 5e-02\n",
      "k2, k3 = k1, k1\n",
      "\n",
      "Nics = solve_Nics(0.01*k1, N_array)\n",
      "Nshss = solve_Nshss(k1, N_array)\n",
      "\n",
      "hk_k1_array = evolve_hk(k1, Nics, Nshss, step)\n",
      "hk_k2_array = evolve_hk(k2, Nics, Nshss, step)\n",
      "hk_k3_array = evolve_hk(k3, Nics, Nshss, step)\n",
      "\n",
      "tps_k1 = 2.*(k1)**3./(2.*numpy.pi**2.)*(numpy.absolute(hk_k1_array[-1]))**2.\n",
      "tps_k2 = 2.*(k2)**3./(2.*numpy.pi**2.)*(numpy.absolute(hk_k2_array[-1]))**2.\n",
      "tps_k3 = 2.*(k3)**3./(2.*numpy.pi**2.)*(numpy.absolute(hk_k3_array[-1]))**2.\n",
      "\n",
      "e = 10**0\n",
      "\n",
      "CalG = calG(hk_k1_array, hk_k2_array, hk_k3_array, k1, k2, k3, Nics, Nshss)\n",
      "CalG_cc = calG_cc(hk_k1_array, hk_k2_array, hk_k3_array, k1, k2, k3, Nics, Nshss)\n",
      "\n",
      "G = (hk_k1_array[-1]*hk_k2_array[-1]*hk_k3_array[-1])*CalG +(numpy.conj(hk_k1_array[-1])*numpy.conj(hk_k2_array[-1])*numpy.conj(hk_k3_array[-1]))*CalG_cc\n",
      "h_NL = -((4./(2.*numpy.pi**2.))**2.*(k1**3.*k2**3.*k3**3*G)/\n",
      "         (2.*k1**3.*tps_k2*tps_k3 +2.*k2**3.*tps_k3*tps_k1 +2.*k3**3.*tps_k1*tps_k2))\n",
      "\n",
      "print Nics, Nshss, k1, k2, k3, str(tps_k1).strip('[]'), str(tps_k2).strip('[]'), str(tps_k3).strip('[]'), str(CalG).strip('[]'), str(G).strip('[]'), str(h_NL).strip('[]')\n",
      "\n",
      "e = 10**(-1./2)\n",
      "\n",
      "CalG = calG(hk_k1_array, hk_k2_array, hk_k3_array, k1, k2, k3, Nics, Nshss)\n",
      "CalG_cc = calG_cc(hk_k1_array, hk_k2_array, hk_k3_array, k1, k2, k3, Nics, Nshss)\n",
      "\n",
      "G = (hk_k1_array[-1]*hk_k2_array[-1]*hk_k3_array[-1])*CalG +(numpy.conj(hk_k1_array[-1])*numpy.conj(hk_k2_array[-1])*numpy.conj(hk_k3_array[-1]))*CalG_cc\n",
      "h_NL = -((4./(2.*numpy.pi**2.))**2.*(k1**3.*k2**3.*k3**3*G)/\n",
      "         (2.*k1**3.*tps_k2*tps_k3 +2.*k2**3.*tps_k3*tps_k1 +2.*k3**3.*tps_k1*tps_k2))\n",
      "\n",
      "print Nics, Nshss, k1, k2, k3, str(tps_k1).strip('[]'), str(tps_k2).strip('[]'), str(tps_k3).strip('[]'), str(CalG).strip('[]'), str(G).strip('[]'), str(h_NL).strip('[]')\n",
      "\n",
      "e = 10**(-1.)\n",
      "\n",
      "CalG = calG(hk_k1_array, hk_k2_array, hk_k3_array, k1, k2, k3, Nics, Nshss)\n",
      "CalG_cc = calG_cc(hk_k1_array, hk_k2_array, hk_k3_array, k1, k2, k3, Nics, Nshss)\n",
      "\n",
      "G = (hk_k1_array[-1]*hk_k2_array[-1]*hk_k3_array[-1])*CalG +(numpy.conj(hk_k1_array[-1])*numpy.conj(hk_k2_array[-1])*numpy.conj(hk_k3_array[-1]))*CalG_cc\n",
      "h_NL = -((4./(2.*numpy.pi**2.))**2.*(k1**3.*k2**3.*k3**3*G)/\n",
      "         (2.*k1**3.*tps_k2*tps_k3 +2.*k2**3.*tps_k3*tps_k1 +2.*k3**3.*tps_k1*tps_k2))\n",
      "\n",
      "print Nics, Nshss, k1, k2, k3, str(tps_k1).strip('[]'), str(tps_k2).strip('[]'), str(tps_k3).strip('[]'), str(CalG).strip('[]'), str(G).strip('[]'), str(h_NL).strip('[]')\n",
      "\n",
      "e = 10**(-3./2)\n",
      "\n",
      "CalG = calG(hk_k1_array, hk_k2_array, hk_k3_array, k1, k2, k3, Nics, Nshss)\n",
      "CalG_cc = calG_cc(hk_k1_array, hk_k2_array, hk_k3_array, k1, k2, k3, Nics, Nshss)\n",
      "\n",
      "G = (hk_k1_array[-1]*hk_k2_array[-1]*hk_k3_array[-1])*CalG +(numpy.conj(hk_k1_array[-1])*numpy.conj(hk_k2_array[-1])*numpy.conj(hk_k3_array[-1]))*CalG_cc\n",
      "h_NL = -((4./(2.*numpy.pi**2.))**2.*(k1**3.*k2**3.*k3**3*G)/\n",
      "         (2.*k1**3.*tps_k2*tps_k3 +2.*k2**3.*tps_k3*tps_k1 +2.*k3**3.*tps_k1*tps_k2))\n",
      "\n",
      "print Nics, Nshss, k1, k2, k3, str(tps_k1).strip('[]'), str(tps_k2).strip('[]'), str(tps_k3).strip('[]'), str(CalG).strip('[]'), str(G).strip('[]'), str(h_NL).strip('[]')\n",
      "\n",
      "e = 10**(-2.)\n",
      "\n",
      "CalG = calG(hk_k1_array, hk_k2_array, hk_k3_array, k1, k2, k3, Nics, Nshss)\n",
      "CalG_cc = calG_cc(hk_k1_array, hk_k2_array, hk_k3_array, k1, k2, k3, Nics, Nshss)\n",
      "\n",
      "G = (hk_k1_array[-1]*hk_k2_array[-1]*hk_k3_array[-1])*CalG +(numpy.conj(hk_k1_array[-1])*numpy.conj(hk_k2_array[-1])*numpy.conj(hk_k3_array[-1]))*CalG_cc\n",
      "h_NL = -((4./(2.*numpy.pi**2.))**2.*(k1**3.*k2**3.*k3**3*G)/\n",
      "         (2.*k1**3.*tps_k2*tps_k3 +2.*k2**3.*tps_k3*tps_k1 +2.*k3**3.*tps_k1*tps_k2))\n",
      "\n",
      "print Nics, Nshss, k1, k2, k3, str(tps_k1).strip('[]'), str(tps_k2).strip('[]'), str(tps_k3).strip('[]'), str(CalG).strip('[]'), str(G).strip('[]'), str(h_NL).strip('[]')"
     ],
     "language": "python",
     "metadata": {},
     "outputs": []
    },
    {
     "cell_type": "code",
     "collapsed": false,
     "input": [],
     "language": "python",
     "metadata": {},
     "outputs": []
    }
   ],
   "metadata": {}
  }
 ]
}