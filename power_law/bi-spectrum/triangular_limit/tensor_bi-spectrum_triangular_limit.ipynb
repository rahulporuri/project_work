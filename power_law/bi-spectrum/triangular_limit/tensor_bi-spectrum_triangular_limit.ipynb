{
 "metadata": {
  "name": "",
  "signature": "sha256:8ccc5daf2fe117e4544217c7bdaa05e236573e3f48e42ba7ad60374c93793992"
 },
 "nbformat": 3,
 "nbformat_minor": 0,
 "worksheets": [
  {
   "cells": [
    {
     "cell_type": "code",
     "collapsed": false,
     "input": [
      "import numpy\n",
      "import matplotlib.pyplot as plt\n",
      "from scipy.integrate import simps"
     ],
     "language": "python",
     "metadata": {},
     "outputs": [],
     "prompt_number": 1
    },
    {
     "cell_type": "code",
     "collapsed": false,
     "input": [
      "%matplotlib inline"
     ],
     "language": "python",
     "metadata": {},
     "outputs": [],
     "prompt_number": 2
    },
    {
     "cell_type": "code",
     "collapsed": false,
     "input": [
      "plt.rc('text', usetex=True)\n",
      "plt.rc('font', family='serif')"
     ],
     "language": "python",
     "metadata": {},
     "outputs": [],
     "prompt_number": 3
    },
    {
     "cell_type": "code",
     "collapsed": false,
     "input": [
      "q = 51.\n",
      "V0 = (204./100.)*1e-08\n",
      "t0 = (q*(3.*q -1.)/V0)**(1./2)\n",
      "\n",
      "phi0 = 1.\n",
      "dphi0 = (2.*q)**(1./2)/t0\n",
      "\n",
      "Ni = 0.\n",
      "Nf = 70."
     ],
     "language": "python",
     "metadata": {},
     "outputs": [],
     "prompt_number": 4
    },
    {
     "cell_type": "markdown",
     "metadata": {},
     "source": [
      "Note that in this code, I use the prefix 'd' to represent derivative with respect to time (except for the case of dV where the derivative is with respect to phi) and the prefix 'D' to represent derivative with respect to e-fold N. Also, the suffix '0' is used to represent the initial conditions in various cases. Also, as can be seen here, we evaluate the scalar field in the e-fold N range Ni to Nf."
     ]
    },
    {
     "cell_type": "code",
     "collapsed": false,
     "input": [
      "V = lambda _phi : V0*numpy.exp(-(2./q)**(1./2)*(_phi -phi0))\n",
      "dV = lambda _phi : -(2./q)**(1./2)*V0*numpy.exp(-(2./q)**(1./2)*(_phi -phi0))\n",
      "\n",
      "''' Functions to evaluate the values of the potential function V(phi)\n",
      "and the derivative of V with respect to phi.\n",
      "Note that functions can be defined using the lambda notation, as shown \n",
      "above or using the usual def and return statements, as shown below.'''\n",
      "\n",
      "H0 = ((1./3)*(dphi0**2/2. +V(phi0)))**(1./2.)\n",
      "Dphi0 = dphi0/H0\n",
      "\n",
      "def DDphi(_N, _phi, _Dphi):\n",
      "    ''' Returns the value of the second derivative of \n",
      "    phi with respect to e-fold N.'''\n",
      "    return -(3 -_Dphi**2/2.)*_Dphi -(dV(_phi)/(2*V(_phi)))*(6 -_Dphi**2)\n",
      "\n",
      "def rk4_step(_N, _phi, _Dphi, _step):\n",
      "    ''' Returns 2 values, the first of the two is the value by which phi \n",
      "    needs to be updated and the second of the two is the value by which the \n",
      "    first derivative of phi with respect to e-fold N needs to be updated.'''\n",
      "    F1 = _Dphi\n",
      "    f1 = DDphi(_N, _phi, _Dphi)\n",
      "    F2 = _Dphi +f1*_step/2.\n",
      "    f2 = DDphi(_N +_step/2., _phi +F1*_step/2., _Dphi +f1*_step/2.)\n",
      "    F3 = _Dphi +f2*step/2.\n",
      "    f3 = DDphi(_N +_step/2., _phi +F2*_step/2., _Dphi +f2*_step/2.)\n",
      "    F4 = _Dphi +f3*step\n",
      "    f4 = DDphi(_N +_step, _phi +F3*_step, _Dphi +f3*_step)  \n",
      "\n",
      "    return (F1 +2*F2 +2*F3 +F4)*_step/6., (f1 +2*f2 +2*f3 +f4)*_step/6."
     ],
     "language": "python",
     "metadata": {},
     "outputs": [],
     "prompt_number": 5
    },
    {
     "cell_type": "code",
     "collapsed": false,
     "input": [
      "'''We evolve the scalar field phi for e-fold N ranging from Ni to Nf.'''\n",
      "\n",
      "npts = 100000\n",
      "step = (Nf-Ni)/(npts)\n",
      "\n",
      "phi_ = phi0\n",
      "Dphi_ = Dphi0\n",
      "\n",
      "phi_array = numpy.empty(0)\n",
      "Dphi_array = numpy.empty(0)\n",
      "N_array = numpy.empty(0)\n",
      "\n",
      "N = Ni\n",
      "while N < Nf +step:\n",
      "    phi_array = numpy.append(phi_array, phi_)\n",
      "    Dphi_array = numpy.append(Dphi_array, Dphi_)\n",
      "    N_array = numpy.append(N_array, N)\n",
      "    \n",
      "    phi_update, Dphi_update = rk4_step(N, phi_, Dphi_, step)\n",
      "    phi_ = phi_ +phi_update\n",
      "    Dphi_ = Dphi_ +Dphi_update\n",
      "    \n",
      "    N += step"
     ],
     "language": "python",
     "metadata": {},
     "outputs": [],
     "prompt_number": 6
    },
    {
     "cell_type": "code",
     "collapsed": false,
     "input": [
      "phi = lambda _N : phi_array[int((_N-Ni)/step)]\n",
      "Dphi = lambda _N : Dphi_array[int((_N-Ni)/step)]\n",
      "\n",
      "H = lambda _N : (V(phi(_N))/(3 -Dphi(_N)**2/2))**(1./2)\n",
      "DH = lambda _N : -(1./2)*H(_N)*Dphi(_N)**2.\n",
      "\n",
      "'''The above functions let us access the values of H(N) and DH(N) \n",
      "when we try to evaluate the tensor perturbations h_k. We have obtained \n",
      "these values from the phi and Dphi values earlier.'''\n",
      "\n",
      "ai = 1e-05\n",
      "A = lambda _N : ai*numpy.exp(_N)\n",
      "'''The scale factor in terms of e-fold N.'''\n",
      "\n",
      "\n",
      "k0 = numpy.empty(0)\n",
      "\n",
      "def DDhk(_k, _N, _hk, _Dhk):\n",
      "    '''Returns the value of the second derivative of the tensor perturbatons\n",
      "    h_k th respec to e-fold N. We need this value when we are trying to \n",
      "    evluate h_k'''\n",
      "    return -((3. +(DH(_N)/H(_N)))*_Dhk +((_k/(A(_N)*H(_N)))**2)*_hk)\n",
      "\n",
      "\n",
      "def rk4_step(_k, _N, _hk, _Dhk, _step):\n",
      "    '''a runge-kutta 4 stepper function that returns the value by which\n",
      "    h_k nd Dh_k need to be updated.'''\n",
      "    F1 = _Dhk\n",
      "    f1 = DDhk(_k, _N, _hk, _Dhk)\n",
      "    F2 = _Dhk +f1*_step/2.\n",
      "    f2 = DDhk(_k, _N +_step/2., _hk +F1*_step/2., _Dhk +f1*_step/2.)\n",
      "    F3 = _Dhk +f2*_step/2.\n",
      "    f3 = DDhk(_k, _N +_step/2., _hk +F2*_step/2., _Dhk +f2*_step/2.)\n",
      "    F4 = _Dhk +f3*_step\n",
      "    f4 = DDhk(_k, _N +_step, _hk +F3*_step, _Dhk +f3*_step)\n",
      "\n",
      "    return (numpy.array([(f1 +2*f2 +2*f3 +f4)*_step/6.], dtype=complex),\n",
      "            numpy.array([(F1 +2*F2 +2*F3 +F4)*_step/6.], dtype=complex))\n",
      "            # [Dhk, hk] update"
     ],
     "language": "python",
     "metadata": {},
     "outputs": [],
     "prompt_number": 8
    },
    {
     "cell_type": "code",
     "collapsed": false,
     "input": [
      "def solve_Nics(k, eN_array):\n",
      "    '''Returns the value of e-fold N when the mode is\n",
      "    in the sub-Hubble domain, which we define as k/(A*H) =10^2.'''\n",
      "    Ni = eN_array[0]\n",
      "    step = eN_array[1] -eN_array[0]\n",
      "    Nics_temp = numpy.asarray([k - 1e+02*A(N)*H(N) for N in eN_array])\n",
      "    nics_test = numpy.where(Nics_temp > 0)\n",
      "    return Ni + nics_test[0][-1]*step\n",
      "\n",
      "def solve_Nshss(k, eN_array):\n",
      "    '''Returns the value of e-fold N when the mode is\n",
      "    in the super-Hubble domain, which we define as k/(A*H) =10^(-5).'''\n",
      "    Ni = eN_array[0]\n",
      "    step = eN_array[1] -eN_array[0]\n",
      "    Nshss_temp = numpy.asarray([k - 1e-05*A(N)*H(N) for N in eN_array])\n",
      "    nshss_test = numpy.where(Nshss_temp > 0)\n",
      "    return Ni + nshss_test[0][-1]*step\n",
      "\n",
      "def initialize_hk(k, _Nics):\n",
      "    '''Returns the value of h_k for the mode k at e-fold N of _Nics.\n",
      "    We obtain his value by imposing the Bunch-Davies initial conditions'''\n",
      "    hk0 = numpy.zeros(1,dtype=complex)\n",
      "    hk0.real = (((2.*k)**(1./2))*A(_Nics))**(-1.)\n",
      "    return hk0\n",
      "\n",
      "def initialize_Dhk(k, _Nics):\n",
      "    '''Returns the value of h_k for the mode k at e-fold N of _Nshss.\n",
      "    We obtain his value by imposing the Bunch-Davies initial conditions'''\n",
      "    Dhk0 = numpy.zeros(1,dtype=complex)\n",
      "    Dhk0.real = -(1/A(_Nics))*((2*k)**(-1./2))\n",
      "    Dhk0.imag = -((k/2)**(1./2))/(A(_Nics)*A(_Nics)*H(_Nics))\n",
      "    return Dhk0\n",
      "\n",
      "def evolve_hk(k, _Nics, _Nshss, _step):\n",
      "    '''Returns the values of h_k for the mode k for e-fold N ranging from\n",
      "    _Nics to _Nshss. We use the h_k values later on to estimate calG.'''\n",
      "    hk = numpy.empty(0, dtype=complex)\n",
      "    Dhk = numpy.empty(0, dtype=complex)\n",
      "    \n",
      "    hk = initialize_hk(k, _Nics)\n",
      "    Dhk = initialize_Dhk(k, _Nics)\n",
      "    \n",
      "    hk_array = numpy.empty(0, dtype=complex)\n",
      "    \n",
      "    N = _Nics\n",
      "    while N < _Nshss:\n",
      "        hk_array = numpy.append(hk_array, hk)\n",
      "\n",
      "        array = rk4_step(k, N, hk, Dhk, _step)\n",
      "        hk = hk + array[1]\n",
      "        Dhk = Dhk + array[0]\n",
      "\n",
      "        N += _step\n",
      "\n",
      "    return hk_array"
     ],
     "language": "python",
     "metadata": {},
     "outputs": [],
     "prompt_number": 10
    },
    {
     "cell_type": "code",
     "collapsed": false,
     "input": [
      "e = 10**(-1)\n",
      "\n",
      "def calG(hk_k1_array, hk_k2_array, hk_k3_array, k1, k2, k3, _Nics, _Nshss):\n",
      "    '''Returns the value of \\mathcal{G} which is in turn used to estimate G, the \n",
      "    tensor bi-spectrum. The integral is evaluated for e-fold N ranging from \n",
      "    _Nics till _Nshss. Note that the extra factor exp(-(e*k)/(A*H)) is put in by \n",
      "    hand to satisfy the consistency relation.'''\n",
      "    N_range = numpy.linspace(_Nics, _Nshss, len(hk_k1_array))\n",
      "    func_int = ((A(N_range)/numpy.asarray([H(N) for N in N_range]))*\n",
      "                (numpy.conj(hk_k1_array)*numpy.conj(hk_k2_array)*numpy.conj(hk_k3_array))*\n",
      "                (numpy.exp(-e*(k1 +k2 +k3)/(3.*A(N_range)*numpy.asarray([H(N) for N in N_range])))))\n",
      "    result = simps(func_int, N_range)\n",
      "\n",
      "    return -(k1**2. +k2**2. +k3**2)/4.*result*numpy.array([0.+1.j], dtype=complex)\n",
      "\n",
      "\n",
      "def calG_cc(hk_k1_array, hk_k2_array, hk_k3_array, k1, k2, k3, _Nics, _Nshss):\n",
      "    '''Returns the value of the complex conjugate of \\mathcal{G} which is \n",
      "    in turn used to estimate G, the tensor bi-spectrum. The integral is \n",
      "    evaluated for e-fold N ranging from _Nics till _Nshss. Note that the \n",
      "    extra factor exp(-(e*k)/(A*H)) is put in by hand to satisfy the consistency relation.'''\n",
      "    N_range = numpy.linspace(_Nics, _Nshss, len(hk_k1_array))\n",
      "    func_int = ((A(N_range)/numpy.asarray([H(N) for N in N_range]))*\n",
      "                (hk_k1_array*hk_k2_array*hk_k3_array)*\n",
      "                (numpy.exp(-e*(k1 +k2 +k3)/(3.*A(N_range)*numpy.asarray([H(N) for N in N_range])))))\n",
      "    result = simps(func_int, N_range)\n",
      "\n",
      "    return (k1**2. +k2**2. +k3**2)/4.*result*numpy.array([0.+1.j], dtype=complex)"
     ],
     "language": "python",
     "metadata": {},
     "outputs": [],
     "prompt_number": 11
    },
    {
     "cell_type": "code",
     "collapsed": false,
     "input": [
      "#k1 = 1e-06\n",
      "k1 = 5e-02\n",
      "k3 = numpy.arange(0.,1.,.05)*k1\n",
      "\n",
      "k_array = []\n",
      "'''Since k1 is fixed, k_array will contain the set of [k2, k3] values.'''\n",
      "for i in range(len(k3)):\n",
      "    if k3[i]/k1 < 0.5:\n",
      "        k2 = numpy.linspace(1. -k3[i]/k1, 1., 2 +int(k3[i]/k1/0.05))*k1\n",
      "        [k_array.append([kx, k3[i]]) for kx in k2]\n",
      "    else :\n",
      "        k2 = numpy.linspace(k3[i]/k1, 1., 2 +int((1. -k3[i]/k1)/0.05))*k1\n",
      "        [k_array.append([kx, k3[i]]) for kx in k2]"
     ],
     "language": "python",
     "metadata": {},
     "outputs": [],
     "prompt_number": 12
    },
    {
     "cell_type": "code",
     "collapsed": false,
     "input": [
      "k_array"
     ],
     "language": "python",
     "metadata": {},
     "outputs": [
      {
       "metadata": {},
       "output_type": "pyout",
       "prompt_number": 13,
       "text": [
        "[[0.050000000000000003, 0.0],\n",
        " [0.050000000000000003, 0.0],\n",
        " [0.047500000000000001, 0.0025000000000000005],\n",
        " [0.048750000000000002, 0.0025000000000000005],\n",
        " [0.050000000000000003, 0.0025000000000000005],\n",
        " [0.045000000000000005, 0.005000000000000001],\n",
        " [0.046666666666666669, 0.005000000000000001],\n",
        " [0.048333333333333339, 0.005000000000000001],\n",
        " [0.050000000000000003, 0.005000000000000001],\n",
        " [0.042500000000000003, 0.0075000000000000015],\n",
        " [0.044374999999999998, 0.0075000000000000015],\n",
        " [0.046250000000000006, 0.0075000000000000015],\n",
        " [0.048125000000000001, 0.0075000000000000015],\n",
        " [0.050000000000000003, 0.0075000000000000015],\n",
        " [0.040000000000000001, 0.010000000000000002],\n",
        " [0.042000000000000003, 0.010000000000000002],\n",
        " [0.044000000000000004, 0.010000000000000002],\n",
        " [0.045999999999999999, 0.010000000000000002],\n",
        " [0.048000000000000001, 0.010000000000000002],\n",
        " [0.050000000000000003, 0.010000000000000002],\n",
        " [0.037500000000000006, 0.012500000000000001],\n",
        " [0.039583333333333331, 0.012500000000000001],\n",
        " [0.041666666666666671, 0.012500000000000001],\n",
        " [0.043750000000000004, 0.012500000000000001],\n",
        " [0.045833333333333337, 0.012500000000000001],\n",
        " [0.047916666666666663, 0.012500000000000001],\n",
        " [0.050000000000000003, 0.012500000000000001],\n",
        " [0.034999999999999996, 0.015000000000000003],\n",
        " [0.037142857142857137, 0.015000000000000003],\n",
        " [0.039285714285714285, 0.015000000000000003],\n",
        " [0.041428571428571426, 0.015000000000000003],\n",
        " [0.043571428571428573, 0.015000000000000003],\n",
        " [0.045714285714285714, 0.015000000000000003],\n",
        " [0.047857142857142855, 0.015000000000000003],\n",
        " [0.050000000000000003, 0.015000000000000003],\n",
        " [0.032499999999999994, 0.017500000000000002],\n",
        " [0.034687499999999996, 0.017500000000000002],\n",
        " [0.036874999999999998, 0.017500000000000002],\n",
        " [0.0390625, 0.017500000000000002],\n",
        " [0.041250000000000002, 0.017500000000000002],\n",
        " [0.043437499999999997, 0.017500000000000002],\n",
        " [0.045624999999999999, 0.017500000000000002],\n",
        " [0.047812500000000008, 0.017500000000000002],\n",
        " [0.050000000000000003, 0.017500000000000002],\n",
        " [0.029999999999999995, 0.020000000000000004],\n",
        " [0.032222222222222222, 0.020000000000000004],\n",
        " [0.034444444444444437, 0.020000000000000004],\n",
        " [0.036666666666666667, 0.020000000000000004],\n",
        " [0.03888888888888889, 0.020000000000000004],\n",
        " [0.041111111111111112, 0.020000000000000004],\n",
        " [0.043333333333333335, 0.020000000000000004],\n",
        " [0.045555555555555557, 0.020000000000000004],\n",
        " [0.04777777777777778, 0.020000000000000004],\n",
        " [0.050000000000000003, 0.020000000000000004],\n",
        " [0.027500000000000004, 0.022500000000000003],\n",
        " [0.029750000000000006, 0.022500000000000003],\n",
        " [0.032000000000000001, 0.022500000000000003],\n",
        " [0.034250000000000003, 0.022500000000000003],\n",
        " [0.036499999999999998, 0.022500000000000003],\n",
        " [0.038750000000000007, 0.022500000000000003],\n",
        " [0.041000000000000009, 0.022500000000000003],\n",
        " [0.043250000000000004, 0.022500000000000003],\n",
        " [0.045500000000000006, 0.022500000000000003],\n",
        " [0.047750000000000008, 0.022500000000000003],\n",
        " [0.050000000000000003, 0.022500000000000003],\n",
        " [0.025000000000000001, 0.025000000000000001],\n",
        " [0.027272727272727271, 0.025000000000000001],\n",
        " [0.029545454545454548, 0.025000000000000001],\n",
        " [0.031818181818181822, 0.025000000000000001],\n",
        " [0.034090909090909095, 0.025000000000000001],\n",
        " [0.036363636363636369, 0.025000000000000001],\n",
        " [0.038636363636363635, 0.025000000000000001],\n",
        " [0.040909090909090909, 0.025000000000000001],\n",
        " [0.043181818181818182, 0.025000000000000001],\n",
        " [0.045454545454545463, 0.025000000000000001],\n",
        " [0.047727272727272729, 0.025000000000000001],\n",
        " [0.050000000000000003, 0.025000000000000001],\n",
        " [0.027500000000000004, 0.027500000000000004],\n",
        " [0.030000000000000006, 0.027500000000000004],\n",
        " [0.032500000000000001, 0.027500000000000004],\n",
        " [0.035000000000000003, 0.027500000000000004],\n",
        " [0.037500000000000006, 0.027500000000000004],\n",
        " [0.040000000000000008, 0.027500000000000004],\n",
        " [0.04250000000000001, 0.027500000000000004],\n",
        " [0.045000000000000005, 0.027500000000000004],\n",
        " [0.047500000000000001, 0.027500000000000004],\n",
        " [0.050000000000000003, 0.027500000000000004],\n",
        " [0.030000000000000006, 0.030000000000000006],\n",
        " [0.032500000000000008, 0.030000000000000006],\n",
        " [0.035000000000000003, 0.030000000000000006],\n",
        " [0.037500000000000006, 0.030000000000000006],\n",
        " [0.040000000000000008, 0.030000000000000006],\n",
        " [0.04250000000000001, 0.030000000000000006],\n",
        " [0.045000000000000005, 0.030000000000000006],\n",
        " [0.047500000000000001, 0.030000000000000006],\n",
        " [0.050000000000000003, 0.030000000000000006],\n",
        " [0.032500000000000001, 0.032500000000000001],\n",
        " [0.035000000000000003, 0.032500000000000001],\n",
        " [0.037500000000000006, 0.032500000000000001],\n",
        " [0.040000000000000008, 0.032500000000000001],\n",
        " [0.042500000000000003, 0.032500000000000001],\n",
        " [0.045000000000000005, 0.032500000000000001],\n",
        " [0.047500000000000001, 0.032500000000000001],\n",
        " [0.050000000000000003, 0.032500000000000001],\n",
        " [0.035000000000000003, 0.035000000000000003],\n",
        " [0.037500000000000006, 0.035000000000000003],\n",
        " [0.040000000000000008, 0.035000000000000003],\n",
        " [0.04250000000000001, 0.035000000000000003],\n",
        " [0.045000000000000005, 0.035000000000000003],\n",
        " [0.047500000000000001, 0.035000000000000003],\n",
        " [0.050000000000000003, 0.035000000000000003],\n",
        " [0.037500000000000006, 0.037500000000000006],\n",
        " [0.040000000000000008, 0.037500000000000006],\n",
        " [0.04250000000000001, 0.037500000000000006],\n",
        " [0.045000000000000005, 0.037500000000000006],\n",
        " [0.047500000000000001, 0.037500000000000006],\n",
        " [0.050000000000000003, 0.037500000000000006],\n",
        " [0.040000000000000008, 0.040000000000000008],\n",
        " [0.04250000000000001, 0.040000000000000008],\n",
        " [0.045000000000000012, 0.040000000000000008],\n",
        " [0.047500000000000007, 0.040000000000000008],\n",
        " [0.050000000000000003, 0.040000000000000008],\n",
        " [0.04250000000000001, 0.04250000000000001],\n",
        " [0.045000000000000012, 0.04250000000000001],\n",
        " [0.047500000000000007, 0.04250000000000001],\n",
        " [0.050000000000000003, 0.04250000000000001],\n",
        " [0.045000000000000005, 0.045000000000000005],\n",
        " [0.047500000000000001, 0.045000000000000005],\n",
        " [0.050000000000000003, 0.045000000000000005],\n",
        " [0.047500000000000007, 0.047500000000000007],\n",
        " [0.050000000000000003, 0.047500000000000007]]"
       ]
      }
     ],
     "prompt_number": 13
    },
    {
     "cell_type": "code",
     "collapsed": false,
     "input": [
      "hk_k1_array = numpy.empty(0, dtype=complex)\n",
      "hk_k2_array = numpy.empty(0, dtype=complex)\n",
      "hk_k3_array = numpy.empty(0, dtype=complex)\n",
      "\n",
      "calG_array = numpy.empty(0, dtype= complex)\n",
      "G_array = numpy.empty(0, dtype= complex)\n",
      "h_NL_array = numpy.empty(0, dtype= complex)\n",
      "\n",
      "for k_set in k_array[2:]:\n",
      "    k2, k3 = k_set\n",
      "    \n",
      "    if k2 > k3:\n",
      "        Nics = solve_Nics(k3, N_array)\n",
      "    else :\n",
      "        Nics = solve_Nics(k2, N_array)\n",
      "    \n",
      "    Nshss = solve_Nshss(k1, N_array)\n",
      "\n",
      "    hk_k1_array = evolve_hk(k1, Nics, Nshss, step)\n",
      "    hk_k2_array = evolve_hk(k2, Nics, Nshss, step)\n",
      "    hk_k3_array = evolve_hk(k3, Nics, Nshss, step)\n",
      "    \n",
      "    tps_k1 = 2.*(k1)**3./(2.*numpy.pi**2.)*(numpy.absolute(hk_k1_array[-1]))**2.\n",
      "    tps_k2 = 2.*(k2)**3./(2.*numpy.pi**2.)*(numpy.absolute(hk_k2_array[-1]))**2.\n",
      "    tps_k3 = 2.*(k3)**3./(2.*numpy.pi**2.)*(numpy.absolute(hk_k3_array[-1]))**2.\n",
      "\n",
      "    CalG = calG(hk_k1_array, hk_k2_array, hk_k3_array, k1, k2, k3, Nics, Nshss)\n",
      "    CalG_cc = calG_cc(hk_k1_array, hk_k2_array, hk_k3_array, k1, k2, k3, Nics, Nshss)\n",
      "\n",
      "    G = (hk_k1_array[-1]*hk_k2_array[-1]*hk_k3_array[-1])*CalG +(numpy.conj(hk_k1_array[-1])*numpy.conj(hk_k2_array[-1])*numpy.conj(hk_k3_array[-1]))*CalG_cc\n",
      "    h_NL = -(4./(2.*numpy.pi**2.))**2.*(k1**3.*k2**3.*k3**3*G)/(k1**3.*tps_k2*tps_k3 +k2**3.*tps_k3*tps_k1 +k3**3.*tps_k1*tps_k2)\n",
      "\n",
      "    calG_array = numpy.append(calG_array, CalG)\n",
      "    G_array = numpy.append(G_array, G)\n",
      "    h_NL_array = numpy.append(h_NL_array, h_NL)\n",
      "    \n",
      "    print Nics, Nshss, k1, k2, k3, str(tps_k1).strip('[]'), str(tps_k2).strip('[]'), str(tps_k3).strip('[]'), str(CalG).strip('[]'), str(G).strip('[]'), str(h_NL).strip('[]')"
     ],
     "language": "python",
     "metadata": {},
     "outputs": [
      {
       "output_type": "stream",
       "stream": "stdout",
       "text": [
        "10.5224 30.0181 0.05 0.0475 0.0025 1.12752326609e-19 2.36266982545e-17 1.88830134249e-10  -1.98907768e-05+0.00013149j  -1.14828894e-22+0.j   1.76264506e-09-0.j\n",
        "10.5224"
       ]
      },
      {
       "output_type": "stream",
       "stream": "stdout",
       "text": [
        " 30.0181 0.05 0.04875 0.0025 1.12752326609e-19 1.91005353602e-18 1.88830134249e-10  -9.93830517e-06 +3.59379440e-05j  -8.92055032e-24+0.j   1.74318999e-09-0.j\n",
        "10.5224"
       ]
      },
      {
       "output_type": "stream",
       "stream": "stdout",
       "text": [
        " 30.0181 0.05 0.05 0.0025 1.12752326609e-19 1.12752326609e-19 1.88830134249e-10  -3.16567032e-06 +8.36310499e-06j  -5.06962289e-25+0.j   9.54859306e-10-0.j\n",
        "11.2294"
       ]
      },
      {
       "output_type": "stream",
       "stream": "stdout",
       "text": [
        " 30.0181 0.05 0.045 0.005 1.15422011767e-10 1.37897477347e-10 1.83666738543e-10 -2909.3420598-2308.16359127j  -9.14028927e-08+0.j  1.04794033-0.j\n",
        "11.2294"
       ]
      },
      {
       "output_type": "stream",
       "stream": "stdout",
       "text": [
        " 30.0181 0.05 0.0466666666667 0.005 1.15422011767e-10 1.31218804334e-10 1.83666738543e-10  3535.46634532+267.18899025j  -8.20168468e-08+0.j  1.03467447-0.j\n",
        "11.2294"
       ]
      },
      {
       "output_type": "stream",
       "stream": "stdout",
       "text": [
        " 30.0181 0.05 0.0483333333333 0.005 1.15422011767e-10 1.23718519761e-10 1.83666738543e-10 -2920.44263936+1693.96371736j  -7.32045263e-08+0.j  1.01292115-0.j\n",
        "11.2294"
       ]
      },
      {
       "output_type": "stream",
       "stream": "stdout",
       "text": [
        " 30.0181 0.05 0.05 0.005 1.15422011767e-10 1.15422011767e-10 1.83666738543e-10  1358.33023341-2901.60639714j  -6.48819012e-08+0.j  0.98156373-0.j\n",
        "11.6424"
       ]
      },
      {
       "output_type": "stream",
       "stream": "stdout",
       "text": [
        " 30.0181 0.05 0.0425 0.0075 1.62109763245e-10 1.66566390206e-10 1.80711951284e-10 -2454.68418973-1190.81538934j  -5.03239895e-08+0.j  1.38898071-0.j\n",
        "11.6424"
       ]
      },
      {
       "output_type": "stream",
       "stream": "stdout",
       "text": [
        " 30.0181 0.05 0.044375 0.0075 1.62109763245e-10 1.65667119047e-10 1.80711951284e-10 -1784.26138593-1953.24151387j  -4.65059351e-08+0.j  1.39384197-0.j\n",
        "11.6424"
       ]
      },
      {
       "output_type": "stream",
       "stream": "stdout",
       "text": [
        " 30.0181 0.05 0.04625 0.0075 1.62109763245e-10 1.6464065386e-10 1.80711951284e-10 -911.38612047-2404.71662138j  -4.31842142e-08+0.j  1.39571346-0.j\n",
        "11.6424"
       ]
      },
      {
       "output_type": "stream",
       "stream": "stdout",
       "text": [
        " 30.0181 0.05 0.048125 0.0075 1.62109763245e-10 1.63463447549e-10 1.80711951284e-10  36.54791329-2504.85240124j  -4.02636789e-08+0.j  1.39450258-0.j\n",
        "11.6424"
       ]
      },
      {
       "output_type": "stream",
       "stream": "stdout",
       "text": [
        " 30.0181 0.05 0.05 0.0075 1.62109763245e-10 1.62109763245e-10 1.80711951284e-10  929.98185097-2260.87890007j  -3.76692321e-08+0.j  1.39013857-0.j\n",
        "11.9364"
       ]
      },
      {
       "output_type": "stream",
       "stream": "stdout",
       "text": [
        " 30.0181 0.05 0.04 0.01 1.66576674296e-10 1.68787823939e-10 1.78645274255e-10 -1038.66514844+1585.83042651j  -2.47462361e-08+0.j  1.425769-0.j\n",
        "11.9364"
       ]
      },
      {
       "output_type": "stream",
       "stream": "stdout",
       "text": [
        " 30.0181 0.05 0.042 0.01 1.66576674296e-10 1.68371218474e-10 1.78645274255e-10 -1548.48181664-972.34705929j  -2.26146354e-08+0.j  1.4351329-0.j\n",
        "11.9364"
       ]
      },
      {
       "output_type": "stream",
       "stream": "stdout",
       "text": [
        " 30.0181 0.05 0.044 0.01 1.66576674296e-10 1.67952107209e-10 1.78645274255e-10  912.18059582-1517.10176666j  -2.08142385e-08+0.j  1.44154256-0.j\n",
        "11.9364"
       ]
      },
      {
       "output_type": "stream",
       "stream": "stdout",
       "text": [
        " 30.0181 0.05 0.046 0.01 1.66576674296e-10 1.6751484021e-10 1.78645274255e-10  1490.74820202+856.9535481j  -1.92794604e-08+0.j  1.44520144-0.j\n",
        "11.9364"
       ]
      },
      {
       "output_type": "stream",
       "stream": "stdout",
       "text": [
        " 30.0181 0.05 0.048 0.01 1.66576674296e-10 1.67061413133e-10 1.78645274255e-10 -805.79394164+1468.66932511j  -1.79606331e-08+0.j  1.44631122-0.j\n",
        "11.9364"
       ]
      },
      {
       "output_type": "stream",
       "stream": "stdout",
       "text": [
        " 30.0181 0.05 0.05 0.01 1.66576674296e-10 1.66576674296e-10 1.78645274255e-10 -1450.21155825-757.8612157j  -1.68166237e-08+0.j  1.44496324-0.j\n",
        "12.1639"
       ]
      },
      {
       "output_type": "stream",
       "stream": "stdout",
       "text": [
        " 30.0181 0.05 0.0375 0.0125 1.67288202132e-10 1.69422692835e-10 1.77058478604e-10  1091.81747157-946.18020713j  -1.46056581e-08+0.j  1.43873095-0.j\n",
        "12.1639"
       ]
      },
      {
       "output_type": "stream",
       "stream": "stdout",
       "text": [
        " 30.0181 0.05 0.0395833333333 0.0125 1.67288202132e-10 1.69044390938e-10 1.77058478604e-10 -1156.09310596-759.63186988j  -1.31534960e-08+0.j  1.45174878-0.j\n",
        "12.1639"
       ]
      },
      {
       "output_type": "stream",
       "stream": "stdout",
       "text": [
        " 30.0181 0.05 0.0416666666667 0.0125 1.67288202132e-10 1.68675966328e-10 1.77058478604e-10 -400.68938745+1269.01702074j  -1.19532961e-08+0.j  1.46160903-0.j\n",
        "12.1639"
       ]
      },
      {
       "output_type": "stream",
       "stream": "stdout",
       "text": [
        " 30.0181 0.05 0.04375 0.0125 1.67288202132e-10 1.68318411067e-10 1.77058478604e-10  1285.01273852+38.96278425j  -1.09492518e-08+0.j  1.46825162-0.j\n",
        "12.1639"
       ]
      },
      {
       "output_type": "stream",
       "stream": "stdout",
       "text": [
        " 30.0181 0.05 0.0458333333333 0.0125 1.67288202132e-10 1.67973219596e-10 1.77058478604e-10 -302.76475199-1209.30751356j  -1.01021040e-08+0.j  1.47201555-0.j\n",
        "12.1639"
       ]
      },
      {
       "output_type": "stream",
       "stream": "stdout",
       "text": [
        " 30.0181 0.05 0.0479166666667 0.0125 1.67288202132e-10 1.67626221967e-10 1.77058478604e-10 -1051.90689492+603.73260148j  -9.37951295e-09+0.j  1.47296653-0.j\n",
        "12.1639"
       ]
      },
      {
       "output_type": "stream",
       "stream": "stdout",
       "text": [
        " 30.0181 0.05 0.05 0.0125 1.67288202132e-10 1.67288202132e-10 1.77058478604e-10  846.41499748+827.21810852j  -8.75969299e-09+0.j  1.47157863-0.j\n",
        "12.3501"
       ]
      },
      {
       "output_type": "stream",
       "stream": "stdout",
       "text": [
        " 30.0181 0.05 0.035 0.015 1.67450384924e-10 1.69924437139e-10 1.75772866924e-10  275.96806501+1150.51906908j  -9.93508490e-09+0.j  1.44935469-0.j\n",
        "12.3501"
       ]
      },
      {
       "output_type": "stream",
       "stream": "stdout",
       "text": [
        " 30.0181 0.05 0.0371428571429 0.015 1.67450384924e-10 1.69515127725e-10 1.75772866924e-10 -1101.21381653-221.44044674j  -8.80088469e-09+0.j  1.46618403-0.j\n",
        "12.3501"
       ]
      },
      {
       "output_type": "stream",
       "stream": "stdout",
       "text": [
        " 30.0181 0.05 0.0392857142857 0.015 1.67450384924e-10 1.69136579103e-10 1.75772866924e-10  633.94162678-865.23741788j  -7.88106957e-09+0.j  1.47919405-0.j\n",
        "12.3501"
       ]
      },
      {
       "output_type": "stream",
       "stream": "stdout",
       "text": [
        " 30.0181 0.05 0.0414285714286 0.015 1.67450384924e-10 1.6876670136e-10 1.75772866924e-10  497.71150772+901.18973198j  -7.12603427e-09+0.j  1.48871761-0.j\n",
        "12.3501"
       ]
      },
      {
       "output_type": "stream",
       "stream": "stdout",
       "text": [
        " 30.0181 0.05 0.0435714285714 0.015 1.67450384924e-10 1.68418701885e-10 1.75772866924e-10 -990.12589896+70.17367023j  -6.50000352e-09+0.j  1.4950454-0.j\n",
        "12.3501"
       ]
      },
      {
       "output_type": "stream",
       "stream": "stdout",
       "text": [
        " 30.0181 0.05 0.0457142857143 0.015 1.67450384924e-10 1.68087439792e-10 1.75772866924e-10  341.27973781-898.26956295j  -5.97514165e-09+0.j  1.49831797-0.j\n",
        "12.3501"
       ]
      },
      {
       "output_type": "stream",
       "stream": "stdout",
       "text": [
        " 30.0181 0.05 0.0478571428571 0.015 1.67450384924e-10 1.67760361324e-10 1.75772866924e-10  652.49632411+667.6625539j  -5.53026705e-09+0.j  1.49867058-0.j\n",
        "12.3501"
       ]
      },
      {
       "output_type": "stream",
       "stream": "stdout",
       "text": [
        " 30.0181 0.05 0.05 0.015 1.67450384924e-10 1.67450384924e-10 1.75772866924e-10 -857.76072249+303.57696271j  -5.15085780e-09+0.j  1.49660125-0.j\n",
        "12.5069"
       ]
      },
      {
       "output_type": "stream",
       "stream": "stdout",
       "text": [
        " 30.0181 0.05 0.0325 0.0175 1.67498057248e-10 1.70432394745e-10 1.74692653349e-10  265.28670458-989.63002763j  -7.53363860e-09+0.j  1.45813604-0.j\n",
        "12.5069"
       ]
      },
      {
       "output_type": "stream",
       "stream": "stdout",
       "text": [
        " 30.0181 0.05 0.0346875 0.0175 1.67498057248e-10 1.69986847141e-10 1.74692653349e-10  419.47887156-867.16073524j  -6.54740685e-09+0.j  1.47814152-0.j\n",
        "12.5069"
       ]
      },
      {
       "output_type": "stream",
       "stream": "stdout",
       "text": [
        " 30.0181 0.05 0.036875 0.0175 1.67498057248e-10 1.69570040768e-10 1.74692653349e-10  544.10950312-731.97251513j  -5.76840669e-09+0.j  1.49500876-0.j\n",
        "12.5069"
       ]
      },
      {
       "output_type": "stream",
       "stream": "stdout",
       "text": [
        " 30.0181 0.05 0.0390625 0.0175 1.67498057248e-10 1.69178343034e-10 1.74692653349e-10  639.95052846-587.70915806j  -5.14160594e-09+0.j  1.50811621-0.j\n",
        "12.5069"
       ]
      },
      {
       "output_type": "stream",
       "stream": "stdout",
       "text": [
        " 30.0181 0.05 0.04125 0.0175 1.67498057248e-10 1.68808560895e-10 1.74692653349e-10  707.68999265-437.95023155j  -4.63036278e-09+0.j  1.51755153-0.j\n",
        "12.5069"
       ]
      },
      {
       "output_type": "stream",
       "stream": "stdout",
       "text": [
        " 30.0181 0.05 0.0434375 0.0175 1.67498057248e-10 1.6845789701e-10 1.74692653349e-10  748.09650943-286.24624729j  -4.20830122e-09+0.j  1.52349898-0.j\n",
        "12.5069"
       ]
      },
      {
       "output_type": "stream",
       "stream": "stdout",
       "text": [
        " 30.0181 0.05 0.045625 0.0175 1.67498057248e-10 1.6812392726e-10 1.74692653349e-10  762.14221816-136.1138119j  -3.85602169e-09+0.j  1.52619376-0.j\n",
        "12.5069"
       ]
      },
      {
       "output_type": "stream",
       "stream": "stdout",
       "text": [
        " 30.0181 0.05 0.0478125 0.0175 1.67498057248e-10 1.67804573661e-10 1.74692653349e-10  751.09214407+8.99785834j  -3.55905217e-09+0.j  1.52591745-0.j\n",
        "12.5069"
       ]
      },
      {
       "output_type": "stream",
       "stream": "stdout",
       "text": [
        " 30.0181 0.05 0.05 0.0175 1.67498057248e-10 1.67498057248e-10 1.74692653349e-10  716.56447412+145.76066907j  -3.30644481e-09+0.j  1.52298378-0.j\n",
        "12.6434"
       ]
      },
      {
       "output_type": "stream",
       "stream": "stdout",
       "text": [
        " 30.0181 0.05 0.03 0.02 1.67515202524e-10 1.70979775946e-10 1.73762482488e-10  458.67531411+808.2553326j  -6.24993443e-09+0.j  1.46538132-0.j\n",
        "12.6434"
       ]
      },
      {
       "output_type": "stream",
       "stream": "stdout",
       "text": [
        " 30.0181 0.05 0.0322222222222 0.02 1.67515202524e-10 1.704915062e-10 1.73762482488e-10  850.44617186-152.51968488j  -5.31948422e-09+0.j  1.48977266-0.j\n",
        "12.6434"
       ]
      },
      {
       "output_type": "stream",
       "stream": "stdout",
       "text": [
        " 30.0181 0.05 0.0344444444444 0.02 1.67515202524e-10 1.70045271929e-10 1.73762482488e-10  130.17692901-799.58179455j  -4.59886697e-09+0.j  1.51000281-0.j\n",
        "12.6434"
       ]
      },
      {
       "output_type": "stream",
       "stream": "stdout",
       "text": [
        " 30.0181 0.05 0.0366666666667 0.02 1.67515202524e-10 1.69609238714e-10 1.73762482488e-10 -671.37670427-366.98513564j  -4.03125281e-09+0.j  1.52641249-0.j\n",
        "12.6434"
       ]
      },
      {
       "output_type": "stream",
       "stream": "stdout",
       "text": [
        " 30.0181 0.05 0.0388888888889 0.02 1.67515202524e-10 1.69219562786e-10 1.73762482488e-10 -541.20104108+485.96714631j  -3.57805500e-09+0.j  1.53920158-0.j\n",
        "12.6434"
       ]
      },
      {
       "output_type": "stream",
       "stream": "stdout",
       "text": [
        " 30.0181 0.05 0.0411111111111 0.02 1.67515202524e-10 1.68839394532e-10 1.73762482488e-10  266.13116768+642.43393693j  -3.21005117e-09+0.j  1.54818006-0.j\n",
        "12.6434"
       ]
      },
      {
       "output_type": "stream",
       "stream": "stdout",
       "text": [
        " 30.0181 0.05 0.0433333333333 0.02 1.67515202524e-10 1.68480918994e-10 1.73762482488e-10  667.16886024-35.94265577j  -2.90770752e-09+0.j  1.55358961-0.j\n",
        "12.6434"
       ]
      },
      {
       "output_type": "stream",
       "stream": "stdout",
       "text": [
        " 30.0181 0.05 0.0455555555556 0.02 1.67515202524e-10 1.68148586794e-10 1.73762482488e-10  181.39050605-618.8014237j  -2.65655972e-09+0.j  1.55569353-0.j\n",
        "12.6434"
       ]
      },
      {
       "output_type": "stream",
       "stream": "stdout",
       "text": [
        " 30.0181 0.05 0.0477777777778 0.02 1.67515202524e-10 1.67818602507e-10 1.73762482488e-10 -507.0096659-365.11105866j  -2.44526591e-09+0.j  1.55457041-0.j\n",
        "12.6434"
       ]
      },
      {
       "output_type": "stream",
       "stream": "stdout",
       "text": [
        " 30.0181 0.05 0.05 0.02 1.67515202524e-10 1.67515202524e-10 1.73762482488e-10 -498.74147901+346.90199304j  -2.26646459e-09+0.j  1.55086479-0.j\n",
        "12.7631"
       ]
      },
      {
       "output_type": "stream",
       "stream": "stdout",
       "text": [
        " 30.0181 0.05 0.0275 0.0225 1.67521502746e-10 1.71575058363e-10 1.72945245659e-10  377.43103986+792.8767582j  -5.60862728e-09+0.j  1.47008614-0.j\n",
        "12.7631"
       ]
      },
      {
       "output_type": "stream",
       "stream": "stdout",
       "text": [
        " 30.0181 0.05 0.02975 0.0225 1.67521502746e-10 1.71049614485e-10 1.72945245659e-10  265.71578924-760.83203156j  -4.65740323e-09+0.j  1.4978125-0.j\n",
        "12.7631"
       ]
      },
      {
       "output_type": "stream",
       "stream": "stdout",
       "text": [
        " 30.0181 0.05 0.032 0.0225 1.67521502746e-10 1.70544719805e-10 1.72945245659e-10 -671.27688064+327.9428661j  -3.94025430e-09+0.j  1.52148036-0.j\n",
        "12.7631"
       ]
      },
      {
       "output_type": "stream",
       "stream": "stdout",
       "text": [
        " 30.0181 0.05 0.03425 0.0225 1.67521502746e-10 1.70071218536e-10 1.72945245659e-10  661.87664612+223.78968539j  -3.38954177e-09+0.j  1.54154398-0.j\n",
        "12.7631"
       ]
      },
      {
       "output_type": "stream",
       "stream": "stdout",
       "text": [
        " 30.0181 0.05 0.0365 0.0225 1.67521502746e-10 1.69644056861e-10 1.72945245659e-10 -294.79445218-588.77145505j  -2.95900193e-09+0.j  1.55795109-0.j\n",
        "12.7631"
       ]
      },
      {
       "output_type": "stream",
       "stream": "stdout",
       "text": [
        " 30.0181 0.05 0.03875 0.0225 1.67521502746e-10 1.69247410396e-10 1.72945245659e-10 -194.3420686+593.70208311j  -2.61645477e-09+0.j  1.57055439-0.j\n",
        "12.7631"
       ]
      },
      {
       "output_type": "stream",
       "stream": "stdout",
       "text": [
        " 30.0181 0.05 0.041 0.0225 1.67521502746e-10 1.68861985401e-10 1.72945245659e-10  530.46437211-272.04998939j  -2.33944978e-09+0.j  1.57923397-0.j\n",
        "12.7631"
       ]
      },
      {
       "output_type": "stream",
       "stream": "stdout",
       "text": [
        " 30.0181 0.05 0.04325 0.0225 1.67521502746e-10 1.68493960061e-10 1.72945245659e-10 -545.17928071-172.68875659j  -2.11255534e-09+0.j  1.5841533-0.j\n",
        "12.7631"
       ]
      },
      {
       "output_type": "stream",
       "stream": "stdout",
       "text": [
        " 30.0181 0.05 0.0455 0.0225 1.67521502746e-10 1.68154424475e-10 1.72945245659e-10  256.14749581+487.98838852j  -1.92471310e-09+0.j  1.58565667-0.j\n",
        "12.7631"
       ]
      },
      {
       "output_type": "stream",
       "stream": "stdout",
       "text": [
        " 30.0181 0.05 0.04775 0.0225 1.67521502746e-10 1.67834584371e-10 1.72945245659e-10  156.22241251-509.92385073j  -1.76747914e-09+0.j  1.58402705-0.j\n",
        "12.7631"
       ]
      },
      {
       "output_type": "stream",
       "stream": "stdout",
       "text": [
        " 30.0181 0.05 0.05 0.0225 1.67521502746e-10 1.67521502746e-10 1.72945245659e-10 -456.30908938+245.06167426j  -1.63440603e-09+0.j  1.57947503-0.j\n",
        "12.8709"
       ]
      },
      {
       "output_type": "stream",
       "stream": "stdout",
       "text": [
        " 30.0181 0.05 0.025 0.025 1.67526978871e-10 1.72217536247e-10 1.72217536247e-10  800.27572073-320.09685023j  -5.40956607e-09+0.j  1.47085683-0.j\n",
        "12.8709"
       ]
      },
      {
       "output_type": "stream",
       "stream": "stdout",
       "text": [
        " 30.0181 0.05 0.0272727272727 0.025 1.67526978871e-10 1.71622888033e-10 1.72217536247e-10 -671.70685987+394.66740432j  -4.36278584e-09+0.j  1.50094714-0.j\n",
        "12.8709"
       ]
      },
      {
       "output_type": "stream",
       "stream": "stdout",
       "text": [
        " 30.0181 0.05 0.0295454545455 0.025 1.67526978871e-10 1.71078099424e-10 1.72217536247e-10  553.48343067-449.24632301j  -3.60174969e-09+0.j  1.52835277-0.j\n",
        "12.8709"
       ]
      },
      {
       "output_type": "stream",
       "stream": "stdout",
       "text": [
        " 30.0181 0.05 0.0318181818182 0.025 1.67526978871e-10 1.70575506912e-10 1.72217536247e-10 -443.71493558+487.42610822j  -3.03298899e-09+0.j  1.55230968-0.j\n",
        "12.8709"
       ]
      },
      {
       "output_type": "stream",
       "stream": "stdout",
       "text": [
        " 30.0181 0.05 0.0340909090909 0.025 1.67526978871e-10 1.70109003418e-10 1.72217536247e-10  341.1882129-511.69513185j  -2.59825277e-09+0.j  1.57253737-0.j\n",
        "12.8709"
       ]
      },
      {
       "output_type": "stream",
       "stream": "stdout",
       "text": [
        " 30.0181 0.05 0.0363636363636 0.025 1.67526978871e-10 1.69673595162e-10 1.72217536247e-10 -245.16942764+523.84172544j  -2.25955721e-09+0.j  1.58897539-0.j\n",
        "12.8709"
       ]
      },
      {
       "output_type": "stream",
       "stream": "stdout",
       "text": [
        " 30.0181 0.05 0.0386363636364 0.025 1.67526978871e-10 1.69265136662e-10 1.72217536247e-10  155.27209542-525.20918419j  -1.99090407e-09+0.j  1.60138789-0.j\n",
        "12.8709"
       ]
      },
      {
       "output_type": "stream",
       "stream": "stdout",
       "text": [
        " 30.0181 0.05 0.0409090909091 0.025 1.67526978871e-10 1.68880185563e-10 1.72217536247e-10 -71.36439986+516.86252419j  -1.77461436e-09+0.j  1.6098885-0.j\n",
        "12.8709"
       ]
      },
      {
       "output_type": "stream",
       "stream": "stdout",
       "text": [
        " 30.0181 0.05 0.0431818181818 0.025 1.67526978871e-10 1.68515922864e-10 1.72217536247e-10 -6.4994535-499.70060071j  -1.59801482e-09+0.j  1.6145309-0.j\n",
        "12.8709"
       ]
      },
      {
       "output_type": "stream",
       "stream": "stdout",
       "text": [
        " 30.0181 0.05 0.0454545454545 0.025 1.67526978871e-10 1.68170090274e-10 1.72217536247e-10  78.13273881+474.53283611j  -1.45211010e-09+0.j  1.61560681-0.j\n",
        "12.8709"
       ]
      },
      {
       "output_type": "stream",
       "stream": "stdout",
       "text": [
        " 30.0181 0.05 0.0477272727273 0.025 1.67526978871e-10 1.67840910693e-10 1.72217536247e-10 -143.25976882-442.13199362j  -1.33020794e-09+0.j  1.61337397-0.j\n",
        "12.8709"
       ]
      },
      {
       "output_type": "stream",
       "stream": "stdout",
       "text": [
        " 30.0181 0.05 0.05 0.025 1.67526978871e-10 1.67526978871e-10 1.72217536247e-10  201.55257274+403.27007902j  -1.22737962e-09+0.j  1.60821734-0.j\n",
        "12.9682"
       ]
      },
      {
       "output_type": "stream",
       "stream": "stdout",
       "text": [
        " 30.0181 0.05 0.0275 0.0275 1.67529181882e-10 1.71561648677e-10 1.71561648677e-10  685.93527108-77.24103487j  -3.37329039e-09+0.j  1.53630485-0.j\n",
        "12.9682"
       ]
      },
      {
       "output_type": "stream",
       "stream": "stdout",
       "text": [
        " 30.0181 0.05 0.03 0.0275 1.67529181882e-10 1.70969524181e-10 1.71561648677e-10 -604.78781361+163.23528311j  -2.73546998e-09+0.j  1.5649172-0.j\n",
        "12.9682"
       ]
      },
      {
       "output_type": "stream",
       "stream": "stdout",
       "text": [
        " 30.0181 0.05 0.0325 0.0275 1.67529181882e-10 1.70427277189e-10 1.71561648677e-10  526.68036529-232.03588046j  -2.27094847e-09+0.j  1.58959472-0.j\n",
        "12.9682"
       ]
      },
      {
       "output_type": "stream",
       "stream": "stdout",
       "text": [
        " 30.0181 0.05 0.035 0.0275 1.67529181882e-10 1.69927113825e-10 1.71561648677e-10 -450.94928235+286.65128506j  -1.92363455e-09+0.j  1.61001695-0.j\n",
        "12.9682"
       ]
      },
      {
       "output_type": "stream",
       "stream": "stdout",
       "text": [
        " 30.0181 0.05 0.0375 0.0275 1.67529181882e-10 1.69462732547e-10 1.71561648677e-10  377.22099565-329.11634408j  -1.65766039e-09+0.j  1.62564899-0.j\n",
        "12.9682"
       ]
      },
      {
       "output_type": "stream",
       "stream": "stdout",
       "text": [
        " 30.0181 0.05 0.04 0.0275 1.67529181882e-10 1.69028982055e-10 1.71561648677e-10 -305.34945676+360.8405613j  -1.45005227e-09+0.j  1.63660843-0.j\n",
        "12.9682"
       ]
      },
      {
       "output_type": "stream",
       "stream": "stdout",
       "text": [
        " 30.0181 0.05 0.0425 0.0275 1.67529181882e-10 1.68621690825e-10 1.71561648677e-10  235.37077414-382.8305504j  -1.28499533e-09+0.j  1.64278208-0.j\n",
        "12.9682"
       ]
      },
      {
       "output_type": "stream",
       "stream": "stdout",
       "text": [
        " 30.0181 0.05 0.045 0.0275 1.67529181882e-10 1.68237561255e-10 1.71561648677e-10 -167.46787949+395.83771673j  -1.15184766e-09+0.j  1.64458062-0.j\n",
        "12.9682"
       ]
      },
      {
       "output_type": "stream",
       "stream": "stdout",
       "text": [
        " 30.0181 0.05 0.0475 0.0275 1.67529181882e-10 1.67874047615e-10 1.71561648677e-10  101.94109538-400.45938737j  -1.04289651e-09+0.j  1.64224851-0.j\n",
        "12.9682"
       ]
      },
      {
       "output_type": "stream",
       "stream": "stdout",
       "text": [
        " 30.0181 0.05 0.05 0.0275 1.67529181882e-10 1.67529181882e-10 1.71561648677e-10 -39.1822833+397.20964889j  -9.52713182e-10+0.j  1.63633084-0.j\n",
        "13.0571"
       ]
      },
      {
       "output_type": "stream",
       "stream": "stdout",
       "text": [
        " 30.0181 0.05 0.03 0.03 1.67529361331e-10 1.70965331561e-10 1.70965331561e-10 -565.74775744-48.22209672j  -2.21394132e-09+0.j  1.59307462-0.j\n",
        "13.0571"
       ]
      },
      {
       "output_type": "stream",
       "stream": "stdout",
       "text": [
        " 30.0181 0.05 0.0325 0.03 1.67529361331e-10 1.70443705931e-10 1.70965331561e-10  347.59910833-388.17530571j  -1.83470619e-09+0.j  1.61742565-0.j\n",
        "13.0571"
       ]
      },
      {
       "output_type": "stream",
       "stream": "stdout",
       "text": [
        " 30.0181 0.05 0.035 0.03 1.67529361331e-10 1.69940982944e-10 1.70965331561e-10  93.63097966+474.02558511j  -1.55131409e-09+0.j  1.6377541-0.j\n",
        "13.0571"
       ]
      },
      {
       "output_type": "stream",
       "stream": "stdout",
       "text": [
        " 30.0181 0.05 0.0375 0.03 1.67529361331e-10 1.69453977297e-10 1.70965331561e-10 -407.00367905-196.84241864j  -1.33404831e-09+0.j  1.65301732-0.j\n",
        "13.0571"
       ]
      },
      {
       "output_type": "stream",
       "stream": "stdout",
       "text": [
        " 30.0181 0.05 0.04 0.03 1.67529361331e-10 1.69025679721e-10 1.70965331561e-10  379.22708164-194.93072432j  -1.16485057e-09+0.j  1.66381831-0.j\n",
        "13.0571"
       ]
      },
      {
       "output_type": "stream",
       "stream": "stdout",
       "text": [
        " 30.0181 0.05 0.0425 0.03 1.67529361331e-10 1.68627424307e-10 1.70965331561e-10 -68.84507001+399.01538767j  -1.03055886e-09+0.j  1.67005393-0.j\n",
        "13.0571"
       ]
      },
      {
       "output_type": "stream",
       "stream": "stdout",
       "text": [
        " 30.0181 0.05 0.045 0.03 1.67529361331e-10 1.68230043208e-10 1.70965331561e-10 -264.85761039-281.89491406j  -9.21996637e-10+0.j  1.67151521-0.j\n",
        "13.0571"
       ]
      },
      {
       "output_type": "stream",
       "stream": "stdout",
       "text": [
        " 30.0181 0.05 0.0475 0.03 1.67529361331e-10 1.67862848922e-10 1.70965331561e-10  369.27898244-40.25065961j  -8.33375169e-10+0.j  1.6690643-0.j\n",
        "13.0571"
       ]
      },
      {
       "output_type": "stream",
       "stream": "stdout",
       "text": [
        " 30.0181 0.05 0.05 0.03 1.67529361331e-10 1.67529361331e-10 1.70965331561e-10 -183.41052501+307.94121752j  -7.60151513e-10+0.j  1.66309593-0.j\n",
        "13.1383"
       ]
      },
      {
       "output_type": "stream",
       "stream": "stdout",
       "text": [
        " 30.0181 0.05 0.0325 0.0325 1.675317947e-10 1.70418617385e-10 1.70418617385e-10 -460.45898583+126.49079723j  -1.51732521e-09+0.j  1.64172267-0.j\n",
        "13.1383"
       ]
      },
      {
       "output_type": "stream",
       "stream": "stdout",
       "text": [
        " 30.0181 0.05 0.035 0.0325 1.675317947e-10 1.69947047844e-10 1.70418617385e-10 -119.32042608-425.89929926j  -1.28041216e-09+0.j  1.66157996-0.j\n",
        "13.1383"
       ]
      },
      {
       "output_type": "stream",
       "stream": "stdout",
       "text": [
        " 30.0181 0.05 0.0375 0.0325 1.675317947e-10 1.69451128e-10 1.70418617385e-10  397.44039984-113.49453878j  -1.09915695e-09+0.j  1.67714119-0.j\n",
        "13.1383"
       ]
      },
      {
       "output_type": "stream",
       "stream": "stdout",
       "text": [
        " 30.0181 0.05 0.04 0.0325 1.675317947e-10 1.69039361938e-10 1.70418617385e-10  108.74674697+373.87036197j  -9.58191567e-10+0.j  1.68830614-0.j\n",
        "13.1383"
       ]
      },
      {
       "output_type": "stream",
       "stream": "stdout",
       "text": [
        " 30.0181 0.05 0.0425 0.0325 1.675317947e-10 1.68608096076e-10 1.70418617385e-10 -354.06791224+104.85627657j  -8.45878359e-10+0.j  1.69430239-0.j\n",
        "13.1383"
       ]
      },
      {
       "output_type": "stream",
       "stream": "stdout",
       "text": [
        " 30.0181 0.05 0.045 0.0325 1.675317947e-10 1.68242198268e-10 1.70418617385e-10 -101.67278613-337.3828331j  -7.55604484e-10+0.j  1.6961062-0.j\n",
        "13.1383"
       ]
      },
      {
       "output_type": "stream",
       "stream": "stdout",
       "text": [
        " 30.0181 0.05 0.0475 0.0325 1.675317947e-10 1.67860556934e-10 1.70418617385e-10  323.15511741-99.06614316j  -6.81728335e-10+0.j  1.69371944-0.j\n",
        "13.1383"
       ]
      },
      {
       "output_type": "stream",
       "stream": "stdout",
       "text": [
        " 30.0181 0.05 0.05 0.0325 1.675317947e-10 1.675317947e-10 1.70418617385e-10  96.94621903+311.01426677j  -6.20829385e-10+0.j  1.68794347-0.j\n",
        "13.2139"
       ]
      },
      {
       "output_type": "stream",
       "stream": "stdout",
       "text": [
        " 30.0181 0.05 0.035 0.035 1.67517340773e-10 1.69914704679e-10 1.69914704679e-10 -192.21597437-361.09836498j  -1.07786522e-09+0.j  1.68117952-0.j\n",
        "13.2139"
       ]
      },
      {
       "output_type": "stream",
       "stream": "stdout",
       "text": [
        " 30.0181 0.05 0.0375 0.035 1.67517340773e-10 1.694684609e-10 1.69914704679e-10  188.3756402-332.15855914j  -9.23807601e-10+0.j  1.69706645-0.j\n",
        "13.2139"
       ]
      },
      {
       "output_type": "stream",
       "stream": "stdout",
       "text": [
        " 30.0181 0.05 0.04 0.035 1.67517340773e-10 1.69038073268e-10 1.69914704679e-10  358.80723164-17.91349551j  -8.03771108e-10+0.j  1.70857738-0.j\n",
        "13.2139"
       ]
      },
      {
       "output_type": "stream",
       "stream": "stdout",
       "text": [
        " 30.0181 0.05 0.0425 0.035 1.67517340773e-10 1.68607369061e-10 1.69914704679e-10  196.47999608+277.84452839j  -7.08388871e-10+0.j  1.71528543-0.j\n",
        "13.2139"
       ]
      },
      {
       "output_type": "stream",
       "stream": "stdout",
       "text": [
        " 30.0181 0.05 0.045 0.035 1.67517340773e-10 1.68233188136e-10 1.69914704679e-10 -123.22922374+300.00552399j  -6.31651893e-10+0.j  1.71757345-0.j\n",
        "13.2139"
       ]
      },
      {
       "output_type": "stream",
       "stream": "stdout",
       "text": [
        " 30.0181 0.05 0.0475 0.035 1.67517340773e-10 1.67877669667e-10 1.69914704679e-10 -305.97008944+54.36203631j  -5.68965295e-10+0.j  1.71565927-0.j\n",
        "13.2139"
       ]
      },
      {
       "output_type": "stream",
       "stream": "stdout",
       "text": [
        " 30.0181 0.05 0.05 0.035 1.67517340773e-10 1.67517340773e-10 1.69914704679e-10 -202.00997782-220.64608322j  -5.17060303e-10+0.j  1.70982153-0.j\n",
        "13.2846"
       ]
      },
      {
       "output_type": "stream",
       "stream": "stdout",
       "text": [
        " 30.0181 0.05 0.0375 0.0375 1.67522054009e-10 1.69447287706e-10 1.69447287706e-10  276.9471481+223.63748627j  -7.90360146e-10+0.j  1.71382259-0.j\n",
        "13.2846"
       ]
      },
      {
       "output_type": "stream",
       "stream": "stdout",
       "text": [
        " 30.0181 0.05 0.04 0.0375 1.67522054009e-10 1.69017053627e-10 1.69447287706e-10  122.35932588+311.29825948j  -6.86288846e-10+0.j  1.72562413-0.j\n",
        "13.2846"
       ]
      },
      {
       "output_type": "stream",
       "stream": "stdout",
       "text": [
        " 30.0181 0.05 0.0425 0.0375 1.67522054009e-10 1.68622007728e-10 1.69447287706e-10 -44.94769041+313.2686505j  -6.03805560e-10+0.j  1.73289634-0.j\n",
        "13.2846"
       ]
      },
      {
       "output_type": "stream",
       "stream": "stdout",
       "text": [
        " 30.0181 0.05 0.045 0.0375 1.67522054009e-10 1.68244789599e-10 1.69447287706e-10 -184.60000783+238.07530224j  -5.37380714e-10+0.j  1.73574376-0.j\n",
        "13.2846"
       ]
      },
      {
       "output_type": "stream",
       "stream": "stdout",
       "text": [
        " 30.0181 0.05 0.0475 0.0375 1.67522054009e-10 1.67876906429e-10 1.69447287706e-10 -266.19938214+110.71707276j  -4.83144604e-10+0.j  1.73442368-0.j\n",
        "13.2846"
       ]
      },
      {
       "output_type": "stream",
       "stream": "stdout",
       "text": [
        " 30.0181 0.05 0.05 0.0375 1.67522054009e-10 1.67522054009e-10 1.69447287706e-10 -275.12651675-34.01533986j  -4.38334150e-10+0.j  1.72930533-0.j\n",
        "13.3504"
       ]
      },
      {
       "output_type": "stream",
       "stream": "stdout",
       "text": [
        " 30.0181 0.05 0.04 0.04 1.67514423393e-10 1.69010768519e-10 1.69010768519e-10  13.30644455-313.60372516j  -5.94274180e-10+0.j  1.73667175-0.j\n",
        "13.3504"
       ]
      },
      {
       "output_type": "stream",
       "stream": "stdout",
       "text": [
        " 30.0181 0.05 0.0425 0.04 1.67514423393e-10 1.68602825654e-10 1.69010768519e-10  39.78173617-293.933382j  -5.21899324e-10+0.j  1.74487852-0.j\n",
        "13.3504"
       ]
      },
      {
       "output_type": "stream",
       "stream": "stdout",
       "text": [
        " 30.0181 0.05 0.045 0.04 1.67514423393e-10 1.6821907103e-10 1.69010768519e-10  63.38664187-274.78743421j  -4.63689267e-10+0.j  1.74882501-0.j\n",
        "13.3504"
       ]
      },
      {
       "output_type": "stream",
       "stream": "stdout",
       "text": [
        " 30.0181 0.05 0.0475 0.04 1.67514423393e-10 1.67856951969e-10 1.69010768519e-10  84.52629303-255.96748787j  -4.16228732e-10+0.j  1.74871463-0.j\n",
        "13.3504"
       ]
      },
      {
       "output_type": "stream",
       "stream": "stdout",
       "text": [
        " 30.0181 0.05 0.05 0.04 1.67514423393e-10 1.67514423393e-10 1.69010768519e-10  103.4957798-237.32191642j  -3.77059306e-10+0.j  1.74485099-0.j\n",
        "13.412"
       ]
      },
      {
       "output_type": "stream",
       "stream": "stdout",
       "text": [
        " 30.0181 0.05 0.0425 0.0425 1.67528037083e-10 1.68601157043e-10 1.68601157043e-10 -249.45972986-127.0679421j  -4.57584160e-10+0.j  1.75431029-0.j\n",
        "13.412"
       ]
      },
      {
       "output_type": "stream",
       "stream": "stdout",
       "text": [
        " 30.0181 0.05 0.045 0.0425 1.67528037083e-10 1.68221279148e-10 1.68601157043e-10 -261.08762333-50.0991799j  -4.05870395e-10+0.j  1.7595373-0.j\n",
        "13.412"
       ]
      },
      {
       "output_type": "stream",
       "stream": "stdout",
       "text": [
        " 30.0181 0.05 0.0475 0.0425 1.67528037083e-10 1.6786507152e-10 1.68601157043e-10 -252.755239+23.28883153j  -3.63729462e-10+0.j  1.76074138-0.j\n",
        "13.412"
       ]
      },
      {
       "output_type": "stream",
       "stream": "stdout",
       "text": [
        " 30.0181 0.05 0.05 0.0425 1.67528037083e-10 1.67528037083e-10 1.68601157043e-10 -226.74453818+88.80226796j  -3.28961376e-10+0.j  1.75815712-0.j\n",
        "13.4701"
       ]
      },
      {
       "output_type": "stream",
       "stream": "stdout",
       "text": [
        " 30.0181 0.05 0.045 0.045 1.67536416047e-10 1.68215502526e-10 1.68215502526e-10 -249.37923896-37.28394501j  -3.59299059e-10+0.j  1.76570832-0.j\n",
        "13.4701"
       ]
      },
      {
       "output_type": "stream",
       "stream": "stdout",
       "text": [
        " 30.0181 0.05 0.0475 0.045 1.67536416047e-10 1.67865548886e-10 1.68215502526e-10 -214.88583735+107.92756703j  -3.21522841e-10+0.j  1.76867794-0.j\n",
        "13.4701"
       ]
      },
      {
       "output_type": "stream",
       "stream": "stdout",
       "text": [
        " 30.0181 0.05 0.05 0.045 1.67536416047e-10 1.67536416047e-10 1.68215502526e-10 -108.77528496+203.14728965j  -2.90335269e-10+0.j  1.76765569-0.j\n",
        "13.5254"
       ]
      },
      {
       "output_type": "stream",
       "stream": "stdout",
       "text": [
        " 30.0181 0.05 0.0475 0.0475 1.67530758352e-10 1.67851539937e-10 1.67851539937e-10 -209.36028204-92.87007613j  -2.86884545e-10+0.j  1.77122355-0.j\n",
        "13.5254"
       ]
      },
      {
       "output_type": "stream",
       "stream": "stdout",
       "text": [
        " 30.0181 0.05 0.05 0.0475 1.67530758352e-10 1.67530758352e-10 1.67851539937e-10 -192.86459858+104.24539825j  -2.58765193e-10+0.j  1.77263446-0.j\n"
       ]
      }
     ],
     "prompt_number": 14
    },
    {
     "cell_type": "code",
     "collapsed": false,
     "input": [
      "plt.semilogy(numpy.absolute(calG_array))"
     ],
     "language": "python",
     "metadata": {},
     "outputs": [
      {
       "metadata": {},
       "output_type": "pyout",
       "prompt_number": 15,
       "text": [
        "[<matplotlib.lines.Line2D at 0xaf5d2b0c>]"
       ]
      },
      {
       "metadata": {},
       "output_type": "display_data",
       "png": "[encoded data removed]",
       "text": [
        "<matplotlib.figure.Figure at 0xaf853f0c>"
       ]
      }
     ],
     "prompt_number": 15
    },
    {
     "cell_type": "code",
     "collapsed": false,
     "input": [
      "plt.semilogy(-G_array.real)\n",
      "# note that semilogy can't take negative values as inputs\n",
      "# which is why we are plotting -G.real instead of G.real.\n",
      "# And G.imag is zero which we why we only care about G.real."
     ],
     "language": "python",
     "metadata": {},
     "outputs": [
      {
       "metadata": {},
       "output_type": "pyout",
       "prompt_number": 19,
       "text": [
        "[<matplotlib.lines.Line2D at 0xaf20214c>]"
       ]
      },
      {
       "metadata": {},
       "output_type": "display_data",
       "png": "[encoded data removed]",
       "text": [
        "<matplotlib.figure.Figure at 0xaf353ecc>"
       ]
      }
     ],
     "prompt_number": 19
    },
    {
     "cell_type": "code",
     "collapsed": false,
     "input": [],
     "language": "python",
     "metadata": {},
     "outputs": []
    }
   ],
   "metadata": {}
  }
 ]
}