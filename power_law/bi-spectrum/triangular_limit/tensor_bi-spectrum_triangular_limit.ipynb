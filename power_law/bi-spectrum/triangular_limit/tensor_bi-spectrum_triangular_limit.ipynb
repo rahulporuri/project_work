{
 "metadata": {
  "name": "",
  "signature": "sha256:9b65ac0dc6a2c1a375180dc89461007e39f08790a2c042db0434f1af01f3f5b1"
 },
 "nbformat": 3,
 "nbformat_minor": 0,
 "worksheets": [
  {
   "cells": [
    {
     "cell_type": "code",
     "collapsed": false,
     "input": [
      "import numpy\n",
      "import matplotlib.pyplot as plt\n",
      "import scipy.optimize as opt\n",
      "from scipy.integrate import romb, simps\n",
      "\n",
      "import time\n",
      "import multiprocessing as mp\n",
      "import random\n",
      "import string"
     ],
     "language": "python",
     "metadata": {},
     "outputs": [],
     "prompt_number": 1
    },
    {
     "cell_type": "code",
     "collapsed": false,
     "input": [
      "%matplotlib inline"
     ],
     "language": "python",
     "metadata": {},
     "outputs": [],
     "prompt_number": 2
    },
    {
     "cell_type": "code",
     "collapsed": false,
     "input": [
      "parallel_output = mp.Queue()\n",
      "\n",
      "plt.rc('text', usetex=True)\n",
      "plt.rc('font', family='serif')"
     ],
     "language": "python",
     "metadata": {},
     "outputs": [],
     "prompt_number": 3
    },
    {
     "cell_type": "code",
     "collapsed": false,
     "input": [
      "q = 51.\n",
      "V0 = (204./100.)*1e-08\n",
      "t0 = (q*(3.*q -1.)/V0)**(1./2)\n",
      "\n",
      "phi0 = 1.\n",
      "dphi0 = (2.*q)**(1./2)/t0\n",
      "\n",
      "Ni = 0.\n",
      "Nf = 70."
     ],
     "language": "python",
     "metadata": {},
     "outputs": [],
     "prompt_number": 4
    },
    {
     "cell_type": "code",
     "collapsed": false,
     "input": [
      "V = lambda _phi : V0*numpy.exp(-(2./q)**(1./2)*(_phi -phi0))\n",
      "dV = lambda _phi : -(2./q)**(1./2)*V0*numpy.exp(-(2./q)**(1./2)*(_phi -phi0))\n",
      "\n",
      "H0 = ((1./3)*(dphi0**2/2. +V(phi0)))**(1./2.)\n",
      "Dphi0 = dphi0/H0\n",
      "\n",
      "def DDphi(_N, _phi, _Dphi):\n",
      "    return -(3 -_Dphi**2/2.)*_Dphi -(dV(_phi)/(2*V(_phi)))*(6 -_Dphi**2)\n",
      "\n",
      "def rk4_step(_N, _phi, _Dphi, _step):\n",
      "    F1 = _Dphi\n",
      "    f1 = DDphi(_N, _phi, _Dphi)\n",
      "    F2 = _Dphi +f1*_step/2.\n",
      "    f2 = DDphi(_N +_step/2., _phi +F1*_step/2., _Dphi +f1*_step/2.)\n",
      "    F3 = _Dphi +f2*step/2.\n",
      "    f3 = DDphi(_N +_step/2., _phi +F2*_step/2., _Dphi +f2*_step/2.)\n",
      "    F4 = _Dphi +f3*step\n",
      "    f4 = DDphi(_N +_step, _phi +F3*_step, _Dphi +f3*_step)  \n",
      "\n",
      "    return [(f1 +2*f2 +2*f3 +f4)*_step/6., (F1 +2*F2 +2*F3 +F4)*_step/6.] # [Dhk, hk] update"
     ],
     "language": "python",
     "metadata": {},
     "outputs": [],
     "prompt_number": 5
    },
    {
     "cell_type": "code",
     "collapsed": false,
     "input": [
      "npts = 100000\n",
      "step = (Nf-Ni)/(npts)\n",
      "\n",
      "phi_ = phi0\n",
      "Dphi_ = Dphi0\n",
      "\n",
      "phi_array = numpy.empty(0)\n",
      "Dphi_array = numpy.empty(0)\n",
      "N_array = numpy.empty(0)\n",
      "\n",
      "N = Ni\n",
      "while N < Nf +step:\n",
      "    phi_array = numpy.append(phi_array, phi_)\n",
      "    Dphi_array = numpy.append(Dphi_array, Dphi_)\n",
      "    N_array = numpy.append(N_array, N)\n",
      "    \n",
      "    array = rk4_step(N, phi_, Dphi_, step)\n",
      "    phi_ = phi_ + array[1]\n",
      "    Dphi_ = Dphi_ + array[0]\n",
      "    \n",
      "    N += step"
     ],
     "language": "python",
     "metadata": {},
     "outputs": [],
     "prompt_number": 6
    },
    {
     "cell_type": "code",
     "collapsed": false,
     "input": [
      "phi = lambda _N : phi_array[int((_N-Ni)/step)]\n",
      "Dphi = lambda _N : Dphi_array[int((_N-Ni)/step)]\n",
      "\n",
      "H = lambda _N : (V(phi(_N))/(3 -Dphi(_N)**2/2))**(1./2)\n",
      "DH = lambda _N : -(1./2)*H(_N)*Dphi(_N)**2.\n",
      "\n",
      "ai = 1e-05\n",
      "A = lambda _N : ai*numpy.exp(_N)\n",
      "\n",
      "k0 = numpy.empty(0)\n",
      "\n",
      "def DDhk(_k, _N, _hk, _Dhk):\n",
      "    return -((3. +(DH(_N)/H(_N)))*_Dhk +((_k/(A(_N)*H(_N)))**2)*_hk)\n",
      "\n",
      "\n",
      "def rk4_step(_k, _N, _hk, _Dhk, _step):\n",
      "    F1 = _Dhk\n",
      "    f1 = DDhk(_k, _N, _hk, _Dhk)\n",
      "    F2 = _Dhk +f1*_step/2.\n",
      "    f2 = DDhk(_k, _N +_step/2., _hk +F1*_step/2., _Dhk +f1*_step/2.)\n",
      "    F3 = _Dhk +f2*_step/2.\n",
      "    f3 = DDhk(_k, _N +_step/2., _hk +F2*_step/2., _Dhk +f2*_step/2.)\n",
      "    F4 = _Dhk +f3*_step\n",
      "    f4 = DDhk(_k, _N +_step, _hk +F3*_step, _Dhk +f3*_step)\n",
      "\n",
      "    return (numpy.array([(f1 +2*f2 +2*f3 +f4)*_step/6.], dtype=complex),\n",
      "            numpy.array([(F1 +2*F2 +2*F3 +F4)*_step/6.], dtype=complex))\n",
      "            # [Dhk, hk] update"
     ],
     "language": "python",
     "metadata": {},
     "outputs": [],
     "prompt_number": 7
    },
    {
     "cell_type": "code",
     "collapsed": false,
     "input": [
      "def solve_Nics(k, eN_array):\n",
      "    Ni = eN_array[0]\n",
      "    step = eN_array[1] -eN_array[0]\n",
      "    Nics_temp = numpy.asarray([k - 1e+02*A(N)*H(N) for N in eN_array])\n",
      "    nics_test = numpy.where(Nics_temp > 0)\n",
      "    return Ni + nics_test[0][-1]*step\n",
      "\n",
      "def solve_Nshss(k, eN_array):\n",
      "    Ni = eN_array[0]\n",
      "    step = eN_array[1] -eN_array[0]\n",
      "    Nshss_temp = numpy.asarray([k - 1e-05*A(N)*H(N) for N in eN_array])\n",
      "    nshss_test = numpy.where(Nshss_temp > 0)\n",
      "    return Ni + nshss_test[0][-1]*step\n",
      "\n",
      "def initialize_hk(k, _Nics):\n",
      "    hk0 = numpy.zeros(1,dtype=complex)             \n",
      "    hk0.real = (((2.*k)**(1./2))*A(_Nics))**(-1.)\n",
      "    return hk0\n",
      "\n",
      "def initialize_Dhk(k, _Nics):\n",
      "    Dhk0 = numpy.zeros(1,dtype=complex)\n",
      "    Dhk0.real = -(1/A(_Nics))*((2*k)**(-1./2))\n",
      "    Dhk0.imag = -((k/2)**(1./2))/(A(_Nics)*A(_Nics)*H(_Nics))\n",
      "    return Dhk0\n",
      "\n",
      "def evolve_hk(k, _Nics, _Nshss, _step):    \n",
      "    hk = numpy.empty(0, dtype=complex)\n",
      "    Dhk = numpy.empty(0, dtype=complex)\n",
      "    \n",
      "    hk = initialize_hk(k, _Nics)\n",
      "    Dhk = initialize_Dhk(k, _Nics)\n",
      "    \n",
      "    hk_array = numpy.empty(0, dtype=complex)\n",
      "    \n",
      "    N = _Nics\n",
      "    while N < _Nshss:\n",
      "        hk_array = numpy.append(hk_array, hk)\n",
      "\n",
      "        array = rk4_step(k, N, hk, Dhk, _step)\n",
      "        hk = hk + array[1]\n",
      "        Dhk = Dhk + array[0]\n",
      "\n",
      "        N += _step\n",
      "\n",
      "    return hk_array"
     ],
     "language": "python",
     "metadata": {},
     "outputs": [],
     "prompt_number": 8
    },
    {
     "cell_type": "code",
     "collapsed": false,
     "input": [
      "e = 10**(-1)\n",
      "\n",
      "def calG(hk_k1_array, hk_k2_array, hk_k3_array, k1, k2, k3, _Nics, _Nshss):\n",
      "    N_range = numpy.linspace(_Nics, _Nshss, len(hk_k1_array))\n",
      "    func_int = ((A(N_range)/numpy.asarray([H(N) for N in N_range]))*\n",
      "                (numpy.conj(hk_k1_array)*numpy.conj(hk_k2_array)*numpy.conj(hk_k3_array))*\n",
      "                (numpy.exp(-e*(k1 +k2 +k3)/(3.*A(N_range)*numpy.asarray([H(N) for N in N_range])))))\n",
      "    result = simps(func_int, N_range)\n",
      "\n",
      "    return -(k1**2. +k2**2. +k3**2)/4.*result*numpy.array([0.+1.j], dtype=complex)\n",
      "\n",
      "\n",
      "def calG_cc(hk_k1_array, hk_k2_array, hk_k3_array, k1, k2, k3, _Nics, _Nshss):\n",
      "    N_range = numpy.linspace(_Nics, _Nshss, len(hk_k1_array))\n",
      "    func_int = ((A(N_range)/numpy.asarray([H(N) for N in N_range]))*\n",
      "                (hk_k1_array*hk_k2_array*hk_k3_array)*\n",
      "                (numpy.exp(-e*(k1 +k2 +k3)/(3.*A(N_range)*numpy.asarray([H(N) for N in N_range])))))\n",
      "    result = simps(func_int, N_range)\n",
      "\n",
      "    return (k1**2. +k2**2. +k3**2)/4.*result*numpy.array([0.+1.j], dtype=complex)"
     ],
     "language": "python",
     "metadata": {},
     "outputs": [],
     "prompt_number": 9
    },
    {
     "cell_type": "code",
     "collapsed": false,
     "input": [
      "#k1 = 1e-06\n",
      "k1 = 5e-02\n",
      "k3 = numpy.arange(0.,1.,.1)*k1\n",
      "\n",
      "k_array = []\n",
      "\n",
      "for i in range(len(k3)):\n",
      "    if k3[i]/k1 < 0.5:\n",
      "        k2 = numpy.linspace(1. -k3[i]/k1, 1., 2 +int(k3[i]/k1/0.1))*k1\n",
      "        [k_array.append([kx, k3[i]]) for kx in k2]\n",
      "    else :\n",
      "        k2 = numpy.linspace(k3[i]/k1, 1., 2 +int((1. -k3[i]/k1)/0.1))*k1\n",
      "        [k_array.append([kx, k3[i]]) for kx in k2]"
     ],
     "language": "python",
     "metadata": {},
     "outputs": [],
     "prompt_number": 10
    },
    {
     "cell_type": "code",
     "collapsed": false,
     "input": [
      "k_array"
     ],
     "language": "python",
     "metadata": {},
     "outputs": [
      {
       "metadata": {},
       "output_type": "pyout",
       "prompt_number": 11,
       "text": [
        "[[0.050000000000000003, 0.0],\n",
        " [0.050000000000000003, 0.0],\n",
        " [0.045000000000000005, 0.005000000000000001],\n",
        " [0.047500000000000001, 0.005000000000000001],\n",
        " [0.050000000000000003, 0.005000000000000001],\n",
        " [0.040000000000000001, 0.010000000000000002],\n",
        " [0.043333333333333335, 0.010000000000000002],\n",
        " [0.046666666666666669, 0.010000000000000002],\n",
        " [0.050000000000000003, 0.010000000000000002],\n",
        " [0.034999999999999996, 0.015000000000000003],\n",
        " [0.03875, 0.015000000000000003],\n",
        " [0.042500000000000003, 0.015000000000000003],\n",
        " [0.046250000000000006, 0.015000000000000003],\n",
        " [0.050000000000000003, 0.015000000000000003],\n",
        " [0.029999999999999995, 0.020000000000000004],\n",
        " [0.033999999999999996, 0.020000000000000004],\n",
        " [0.037999999999999999, 0.020000000000000004],\n",
        " [0.042000000000000003, 0.020000000000000004],\n",
        " [0.045999999999999999, 0.020000000000000004],\n",
        " [0.050000000000000003, 0.020000000000000004],\n",
        " [0.025000000000000001, 0.025000000000000001],\n",
        " [0.029166666666666671, 0.025000000000000001],\n",
        " [0.033333333333333333, 0.025000000000000001],\n",
        " [0.037500000000000006, 0.025000000000000001],\n",
        " [0.041666666666666664, 0.025000000000000001],\n",
        " [0.045833333333333337, 0.025000000000000001],\n",
        " [0.050000000000000003, 0.025000000000000001],\n",
        " [0.030000000000000006, 0.030000000000000006],\n",
        " [0.035000000000000003, 0.030000000000000006],\n",
        " [0.040000000000000008, 0.030000000000000006],\n",
        " [0.045000000000000005, 0.030000000000000006],\n",
        " [0.050000000000000003, 0.030000000000000006],\n",
        " [0.035000000000000003, 0.035000000000000003],\n",
        " [0.040000000000000008, 0.035000000000000003],\n",
        " [0.045000000000000005, 0.035000000000000003],\n",
        " [0.050000000000000003, 0.035000000000000003],\n",
        " [0.040000000000000008, 0.040000000000000008],\n",
        " [0.045000000000000012, 0.040000000000000008],\n",
        " [0.050000000000000003, 0.040000000000000008],\n",
        " [0.045000000000000005, 0.045000000000000005],\n",
        " [0.050000000000000003, 0.045000000000000005]]"
       ]
      }
     ],
     "prompt_number": 11
    },
    {
     "cell_type": "code",
     "collapsed": false,
     "input": [
      "for k_set in k_array[2:]:\n",
      "    \n",
      "    k2, k3 = k_set\n",
      "    \n",
      "    if k2 > k3:\n",
      "        Nics = solve_Nics(k3, N_array)\n",
      "    else :\n",
      "        Nics = solve_Nics(k2, N_array)\n",
      "    \n",
      "    Nshss = solve_Nshss(k1, N_array)\n",
      "\n",
      "    hk_k1_array = numpy.empty(0, dtype=complex)\n",
      "    hk_k2_array = numpy.empty(0, dtype=complex)\n",
      "    hk_k3_array = numpy.empty(0, dtype=complex)\n",
      "\n",
      "    hk_k1_array = evolve_hk(k1, Nics, Nshss, step)\n",
      "    hk_k2_array = evolve_hk(k2, Nics, Nshss, step)\n",
      "    hk_k3_array = evolve_hk(k3, Nics, Nshss, step)\n",
      "    \n",
      "    tps_k1 = 2.*(k1)**3./(2.*numpy.pi**2.)*(numpy.absolute(hk_k1_array[-1]))**2.\n",
      "    tps_k2 = 2.*(k2)**3./(2.*numpy.pi**2.)*(numpy.absolute(hk_k2_array[-1]))**2.\n",
      "    tps_k3 = 2.*(k3)**3./(2.*numpy.pi**2.)*(numpy.absolute(hk_k3_array[-1]))**2.\n",
      "\n",
      "    CalG = calG(hk_k1_array, hk_k2_array, hk_k3_array, k1, k2, k3, Nics, Nshss)\n",
      "    CalG_cc = calG_cc(hk_k1_array, hk_k2_array, hk_k3_array, k1, k2, k3, Nics, Nshss)\n",
      "\n",
      "    G = (hk_k1_array[-1]*hk_k2_array[-1]*hk_k3_array[-1])*CalG +(numpy.conj(hk_k1_array[-1])*numpy.conj(hk_k2_array[-1])*numpy.conj(hk_k3_array[-1]))*CalG_cc\n",
      "    h_NL = -(4./(2.*numpy.pi**2.))**2.*(k1**3.*k2**3.*k3**3*G)/(k1**3.*tps_k2*tps_k3 +k2**3.*tps_k3*tps_k1 +k3**3.*tps_k1*tps_k2)\n",
      "\n",
      "    print Nics, Nshss\n",
      "    print k1, k2, k3, str(tps_k1).strip('[]'), str(tps_k2).strip('[]'), str(tps_k3).strip('[]')\n",
      "    print str(CalG).strip('[]'), str(G).strip('[]'), str(h_NL).strip('[]')"
     ],
     "language": "python",
     "metadata": {},
     "outputs": [
      {
       "output_type": "stream",
       "stream": "stdout",
       "text": [
        "11.2294 30.0181\n",
        "0.05 0.045 0.005 1.15422011767e-10 1.37897477347e-10 1.83666738543e-10\n",
        "-2909.3420598-2308.16359127j  -9.14028927e-08+0.j -1.04794033+0.j\n",
        "11.2294"
       ]
      },
      {
       "output_type": "stream",
       "stream": "stdout",
       "text": [
        " 30.0181\n",
        "0.05 0.0475 0.005 1.15422011767e-10 1.27568750482e-10 1.83666738543e-10\n",
        "-769.9499961-3374.37334632j  -7.75417087e-08+0.j -1.02489482+0.j\n",
        "11.2294"
       ]
      },
      {
       "output_type": "stream",
       "stream": "stdout",
       "text": [
        " 30.0181\n",
        "0.05 0.05 0.005 1.15422011767e-10 1.15422011767e-10 1.83666738543e-10\n",
        " 1358.33023341-2901.60639714j  -6.48819012e-08+0.j -0.98156373+0.j\n",
        "11.9364"
       ]
      },
      {
       "output_type": "stream",
       "stream": "stdout",
       "text": [
        " 30.0181\n",
        "0.05 0.04 0.01 1.66576674296e-10 1.68787823939e-10 1.78645274255e-10\n",
        "-1038.66514844+1585.83042651j  -2.47462361e-08+0.j -1.425769+0.j\n",
        "11.9364"
       ]
      },
      {
       "output_type": "stream",
       "stream": "stdout",
       "text": [
        " 30.0181\n",
        "0.05 0.0433333333333 0.01 1.66576674296e-10 1.68092204039e-10 1.78645274255e-10\n",
        " 43.34309992-1788.19801731j  -2.13815849e-08+0.j -1.43970026+0.j\n",
        "11.9364"
       ]
      },
      {
       "output_type": "stream",
       "stream": "stdout",
       "text": [
        " 30.0181\n",
        "0.05 0.0466666666667 0.01 1.66576674296e-10 1.67365154447e-10 1.78645274255e-10\n",
        " 864.51815825+1468.49346197j  -1.88177383e-08+0.j -1.44582771+0.j\n",
        "11.9364"
       ]
      },
      {
       "output_type": "stream",
       "stream": "stdout",
       "text": [
        " 30.0181\n",
        "0.05 0.05 0.01 1.66576674296e-10 1.66576674296e-10 1.78645274255e-10\n",
        "-1450.21155825-757.8612157j  -1.68166237e-08+0.j -1.44496324+0.j\n",
        "12.3501"
       ]
      },
      {
       "output_type": "stream",
       "stream": "stdout",
       "text": [
        " 30.0181\n",
        "0.05 0.035 0.015 1.67450384924e-10 1.69924437139e-10 1.75772866924e-10\n",
        " 275.96806501+1150.51906908j  -9.93508490e-09+0.j -1.44935469+0.j\n",
        "12.3501"
       ]
      },
      {
       "output_type": "stream",
       "stream": "stdout",
       "text": [
        " 30.0181\n",
        "0.05 0.03875 0.015 1.67450384924e-10 1.6922977037e-10 1.75772866924e-10\n",
        "-141.84225337+1075.2009602j  -8.09383517e-09+0.j -1.47626828+0.j\n",
        "12.3501"
       ]
      },
      {
       "output_type": "stream",
       "stream": "stdout",
       "text": [
        " 30.0181\n",
        "0.05 0.0425 0.015 1.67450384924e-10 1.68594841139e-10 1.75772866924e-10\n",
        "-482.37421053+887.77026466j  -6.79913009e-09+0.j -1.49231513+0.j\n",
        "12.3501"
       ]
      },
      {
       "output_type": "stream",
       "stream": "stdout",
       "text": [
        " 30.0181\n",
        "0.05 0.04625 0.015 1.67450384924e-10 1.68005406662e-10 1.75772866924e-10\n",
        "-725.37945215+619.16513025j  -5.85714894e-09+0.j -1.49868136+0.j\n",
        "12.3501"
       ]
      },
      {
       "output_type": "stream",
       "stream": "stdout",
       "text": [
        " 30.0181\n",
        "0.05 0.05 0.015 1.67450384924e-10 1.67450384924e-10 1.75772866924e-10\n",
        "-857.76072249+303.57696271j  -5.15085780e-09+0.j -1.49660125+0.j\n",
        "12.6434"
       ]
      },
      {
       "output_type": "stream",
       "stream": "stdout",
       "text": [
        " 30.0181\n",
        "0.05 0.03 0.02 1.67515202524e-10 1.70979775946e-10 1.73762482488e-10\n",
        " 458.67531411+808.2553326j  -6.24993443e-09+0.j -1.46538132+0.j\n",
        "12.6434"
       ]
      },
      {
       "output_type": "stream",
       "stream": "stdout",
       "text": [
        " 30.0181\n",
        "0.05 0.034 0.02 1.67515202524e-10 1.70130394444e-10 1.73762482488e-10\n",
        "-705.62352746+417.92597638j  -4.72913791e-09+0.j -1.50625868+0.j\n",
        "12.6434"
       ]
      },
      {
       "output_type": "stream",
       "stream": "stdout",
       "text": [
        " 30.0181\n",
        "0.05 0.038 0.02 1.67515202524e-10 1.69370636577e-10 1.73762482488e-10\n",
        "-389.60705128-631.13465624j  -3.74763195e-09+0.j -1.53451579+0.j\n",
        "12.6434"
       ]
      },
      {
       "output_type": "stream",
       "stream": "stdout",
       "text": [
        " 30.0181\n",
        "0.05 0.042 0.02 1.67515202524e-10 1.68696823863e-10 1.73762482488e-10\n",
        " 575.33471767-369.86557384j  -3.08226128e-09+0.j -1.55079633+0.j\n",
        "12.6434"
       ]
      },
      {
       "output_type": "stream",
       "stream": "stdout",
       "text": [
        " 30.0181\n",
        "0.05 0.046 0.02 1.67515202524e-10 1.68077249157e-10 1.73762482488e-10\n",
        " 356.14516751+532.44809376j  -2.61125326e-09+0.j -1.55565676+0.j\n",
        "12.6434"
       ]
      },
      {
       "output_type": "stream",
       "stream": "stdout",
       "text": [
        " 30.0181\n",
        "0.05 0.05 0.02 1.67515202524e-10 1.67515202524e-10 1.73762482488e-10\n",
        "-498.74147901+346.90199304j  -2.26646459e-09+0.j -1.55086479+0.j\n",
        "12.8709"
       ]
      },
      {
       "output_type": "stream",
       "stream": "stdout",
       "text": [
        " 30.0181\n",
        "0.05 0.025 0.025 1.67526978871e-10 1.72217536247e-10 1.72217536247e-10\n",
        " 800.27572073-320.09685023j  -5.40956607e-09+0.j -1.47085683+0.j\n",
        "12.8709"
       ]
      },
      {
       "output_type": "stream",
       "stream": "stdout",
       "text": [
        " 30.0181\n",
        "0.05 0.0291666666667 0.025 1.67526978871e-10 1.7118498966e-10 1.72217536247e-10\n",
        "-441.36359998-572.61441959j  -3.71373319e-09+0.j -1.52406129+0.j\n",
        "12.8709"
       ]
      },
      {
       "output_type": "stream",
       "stream": "stdout",
       "text": [
        " 30.0181\n",
        "0.05 0.0333333333333 0.025 1.67526978871e-10 1.70260822324e-10 1.72217536247e-10\n",
        "-374.61265027+505.02956785j  -2.73096455e-09+0.j -1.56623643+0.j\n",
        "12.8709"
       ]
      },
      {
       "output_type": "stream",
       "stream": "stdout",
       "text": [
        " 30.0181\n",
        "0.05 0.0375 0.025 1.67526978871e-10 1.69461544088e-10 1.72217536247e-10\n",
        " 525.78472948+199.49061876j  -2.11764367e-09+0.j -1.5956499+0.j\n",
        "12.8709"
       ]
      },
      {
       "output_type": "stream",
       "stream": "stdout",
       "text": [
        " 30.0181\n",
        "0.05 0.0416666666667 0.025 1.67526978871e-10 1.68756588367e-10 1.72217536247e-10\n",
        " 44.73129684-512.08013668j  -1.71182816e-09+0.j -1.61183977+0.j\n",
        "12.8709"
       ]
      },
      {
       "output_type": "stream",
       "stream": "stdout",
       "text": [
        " 30.0181\n",
        "0.05 0.0458333333333 0.025 1.67526978871e-10 1.68102859637e-10 1.72217536247e-10\n",
        "-469.59912336+89.44156357j  -1.43011759e-09+0.j -1.61533863+0.j\n",
        "12.8709"
       ]
      },
      {
       "output_type": "stream",
       "stream": "stdout",
       "text": [
        " 30.0181\n",
        "0.05 0.05 0.025 1.67526978871e-10 1.67526978871e-10 1.72217536247e-10\n",
        " 201.55257274+403.27007902j  -1.22737962e-09+0.j -1.60821734+0.j\n",
        "13.0571"
       ]
      },
      {
       "output_type": "stream",
       "stream": "stdout",
       "text": [
        " 30.0181\n",
        "0.05 0.03 0.03 1.67529361331e-10 1.70965331561e-10 1.70965331561e-10\n",
        "-565.74775744-48.22209672j  -2.21394132e-09+0.j -1.59307462+0.j\n",
        "13.0571"
       ]
      },
      {
       "output_type": "stream",
       "stream": "stdout",
       "text": [
        " 30.0181\n",
        "0.05 0.035 0.03 1.67529361331e-10 1.69940982944e-10 1.70965331561e-10\n",
        " 93.63097966+474.02558511j  -1.55131409e-09+0.j -1.6377541+0.j\n",
        "13.0571"
       ]
      },
      {
       "output_type": "stream",
       "stream": "stdout",
       "text": [
        " 30.0181\n",
        "0.05 0.04 0.03 1.67529361331e-10 1.69025679721e-10 1.70965331561e-10\n",
        " 379.22708164-194.93072432j  -1.16485057e-09+0.j -1.66381831+0.j\n",
        "13.0571"
       ]
      },
      {
       "output_type": "stream",
       "stream": "stdout",
       "text": [
        " 30.0181\n",
        "0.05 0.045 0.03 1.67529361331e-10 1.68230043208e-10 1.70965331561e-10\n",
        "-264.85761039-281.89491406j  -9.21996637e-10+0.j -1.67151521+0.j\n",
        "13.0571"
       ]
      },
      {
       "output_type": "stream",
       "stream": "stdout",
       "text": [
        " 30.0181\n",
        "0.05 0.05 0.03 1.67529361331e-10 1.67529361331e-10 1.70965331561e-10\n",
        "-183.41052501+307.94121752j  -7.60151513e-10+0.j -1.66309593+0.j\n",
        "13.2139"
       ]
      },
      {
       "output_type": "stream",
       "stream": "stdout",
       "text": [
        " 30.0181\n",
        "0.05 0.035 0.035 1.67517340773e-10 1.69914704679e-10 1.69914704679e-10\n",
        "-192.21597437-361.09836498j  -1.07786522e-09+0.j -1.68117952+0.j\n",
        "13.2139"
       ]
      },
      {
       "output_type": "stream",
       "stream": "stdout",
       "text": [
        " 30.0181\n",
        "0.05 0.04 0.035 1.67517340773e-10 1.69038073268e-10 1.69914704679e-10\n",
        " 358.80723164-17.91349551j  -8.03771108e-10+0.j -1.70857738+0.j\n",
        "13.2139"
       ]
      },
      {
       "output_type": "stream",
       "stream": "stdout",
       "text": [
        " 30.0181\n",
        "0.05 0.045 0.035 1.67517340773e-10 1.68233188136e-10 1.69914704679e-10\n",
        "-123.22922374+300.00552399j  -6.31651893e-10+0.j -1.71757345+0.j\n",
        "13.2139"
       ]
      },
      {
       "output_type": "stream",
       "stream": "stdout",
       "text": [
        " 30.0181\n",
        "0.05 0.05 0.035 1.67517340773e-10 1.67517340773e-10 1.69914704679e-10\n",
        "-202.00997782-220.64608322j  -5.17060303e-10+0.j -1.70982153+0.j\n",
        "13.3504"
       ]
      },
      {
       "output_type": "stream",
       "stream": "stdout",
       "text": [
        " 30.0181\n",
        "0.05 0.04 0.04 1.67514423393e-10 1.69010768519e-10 1.69010768519e-10\n",
        " 13.30644455-313.60372516j  -5.94274180e-10+0.j -1.73667175+0.j\n",
        "13.3504"
       ]
      },
      {
       "output_type": "stream",
       "stream": "stdout",
       "text": [
        " 30.0181\n",
        "0.05 0.045 0.04 1.67514423393e-10 1.6821907103e-10 1.69010768519e-10\n",
        " 63.38664187-274.78743421j  -4.63689267e-10+0.j -1.74882501+0.j\n",
        "13.3504"
       ]
      },
      {
       "output_type": "stream",
       "stream": "stdout",
       "text": [
        " 30.0181\n",
        "0.05 0.05 0.04 1.67514423393e-10 1.67514423393e-10 1.69010768519e-10\n",
        " 103.4957798-237.32191642j  -3.77059306e-10+0.j -1.74485099+0.j\n",
        "13.4701"
       ]
      },
      {
       "output_type": "stream",
       "stream": "stdout",
       "text": [
        " 30.0181\n",
        "0.05 0.045 0.045 1.67536416047e-10 1.68215502526e-10 1.68215502526e-10\n",
        "-249.37923896-37.28394501j  -3.59299059e-10+0.j -1.76570832+0.j\n",
        "13.4701"
       ]
      },
      {
       "output_type": "stream",
       "stream": "stdout",
       "text": [
        " 30.0181\n",
        "0.05 0.05 0.045 1.67536416047e-10 1.67536416047e-10 1.68215502526e-10\n",
        "-108.77528496+203.14728965j  -2.90335269e-10+0.j -1.76765569+0.j\n"
       ]
      }
     ],
     "prompt_number": 12
    },
    {
     "cell_type": "code",
     "collapsed": false,
     "input": [
      "'''    N_range = numpy.linspace(Nics, Nshss, len(hk_k1_array))\n",
      "    func_int = ((A(N_range)/numpy.asarray([H(N) for N in N_range]))*\n",
      "                (numpy.conj(hk_k1_array)*numpy.conj(hk_k2_array)*numpy.conj(hk_k3_array))*\n",
      "                (numpy.exp(-e*k1/(A(N_range)*numpy.asarray([H(N) for N in N_range])))))\n",
      "    CalG = -(k1**2. +k2**2. +k3**2)/4.*simps(func_int, N_range)*numpy.array([0.+1.j], dtype=complex)'''"
     ],
     "language": "python",
     "metadata": {},
     "outputs": []
    },
    {
     "cell_type": "code",
     "collapsed": false,
     "input": [
      "temp = A(N_range)/numpy.asarray([H(N) for N in N_range])\n",
      "test = temp*(numpy.conj(hk_k1_array)*numpy.conj(hk_k2_array)*numpy.conj(hk_k3_array))\n",
      "final = test*(numpy.exp(-e*k1/(A(N_range)*numpy.asarray([H(N) for N in N_range]))))\n",
      "print len(test), len(temp), len(final)"
     ],
     "language": "python",
     "metadata": {},
     "outputs": [
      {
       "output_type": "stream",
       "stream": "stdout",
       "text": [
        "26842 26842 26842\n"
       ]
      }
     ],
     "prompt_number": 37
    },
    {
     "cell_type": "code",
     "collapsed": false,
     "input": [
      "numpy.exp(-e*k1/(A(N_range)*numpy.asarray([H(N) for N in N_range])))"
     ],
     "language": "python",
     "metadata": {},
     "outputs": [
      {
       "metadata": {},
       "output_type": "pyout",
       "prompt_number": 36,
       "text": [
        "array([  3.66806971e-44,   3.92858427e-44,   4.20740311e-44, ...,\n",
        "         9.99998998e-01,   9.99998999e-01,   9.99998999e-01])"
       ]
      }
     ],
     "prompt_number": 36
    },
    {
     "cell_type": "code",
     "collapsed": false,
     "input": [
      "-e*k1/(A(N_range)*numpy.asarray([H(N) for N in N_range]))"
     ],
     "language": "python",
     "metadata": {},
     "outputs": [
      {
       "metadata": {},
       "output_type": "pyout",
       "prompt_number": 35,
       "text": [
        "array([ -1.00014079e+02,  -9.99454650e+01,  -9.98768985e+01, ...,\n",
        "        -1.00190176e-06,  -1.00121441e-06,  -1.00052754e-06])"
       ]
      }
     ],
     "prompt_number": 35
    },
    {
     "cell_type": "code",
     "collapsed": false,
     "input": [],
     "language": "python",
     "metadata": {},
     "outputs": []
    }
   ],
   "metadata": {}
  }
 ]
}