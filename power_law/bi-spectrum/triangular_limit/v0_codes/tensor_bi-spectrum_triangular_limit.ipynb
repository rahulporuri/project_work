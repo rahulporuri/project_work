{
 "metadata": {
  "name": "",
  "signature": "sha256:bc46e331929047a444100331c07ea466dd1715e9221e99df8910dfa30ab1fe26"
 },
 "nbformat": 3,
 "nbformat_minor": 0,
 "worksheets": [
  {
   "cells": [
    {
     "cell_type": "code",
     "collapsed": false,
     "input": [
      "import numpy\n",
      "import matplotlib.pyplot as plt\n",
      "import scipy.optimize as opt\n",
      "from scipy.integrate import romb, simps\n",
      "\n",
      "import time\n",
      "import multiprocessing as mp\n",
      "import random\n",
      "import string"
     ],
     "language": "python",
     "metadata": {},
     "outputs": [],
     "prompt_number": 1
    },
    {
     "cell_type": "code",
     "collapsed": false,
     "input": [
      "%matplotlib inline"
     ],
     "language": "python",
     "metadata": {},
     "outputs": [],
     "prompt_number": 2
    },
    {
     "cell_type": "code",
     "collapsed": false,
     "input": [
      "parallel_output = mp.Queue()\n",
      "\n",
      "plt.rc('text', usetex=True)\n",
      "plt.rc('font', family='serif')"
     ],
     "language": "python",
     "metadata": {},
     "outputs": [],
     "prompt_number": 3
    },
    {
     "cell_type": "code",
     "collapsed": false,
     "input": [
      "q = 51.\n",
      "V0 = (204./100.)*1e-08\n",
      "t0 = (q*(3.*q -1.)/V0)**(1./2)\n",
      "\n",
      "phi0 = 1.\n",
      "dphi0 = (2.*q)**(1./2)/t0\n",
      "\n",
      "Ni = 0.\n",
      "Nf = 70."
     ],
     "language": "python",
     "metadata": {},
     "outputs": [],
     "prompt_number": 4
    },
    {
     "cell_type": "code",
     "collapsed": false,
     "input": [
      "V = lambda _phi : V0*numpy.exp(-(2./q)**(1./2)*(_phi -phi0))\n",
      "dV = lambda _phi : -(2./q)**(1./2)*V0*numpy.exp(-(2./q)**(1./2)*(_phi -phi0))\n",
      "\n",
      "H0 = ((1./3)*(dphi0**2/2. +V(phi0)))**(1./2.)\n",
      "Dphi0 = dphi0/H0\n",
      "\n",
      "def DDphi(_N, _phi, _Dphi):\n",
      "    return -(3 -_Dphi**2/2.)*_Dphi -(dV(_phi)/(2*V(_phi)))*(6 -_Dphi**2)\n",
      "\n",
      "def rk4_step(_N, _phi, _Dphi, _step):\n",
      "    F1 = _Dphi\n",
      "    f1 = DDphi(_N, _phi, _Dphi)\n",
      "    F2 = _Dphi +f1*_step/2.\n",
      "    f2 = DDphi(_N +_step/2., _phi +F1*_step/2., _Dphi +f1*_step/2.)\n",
      "    F3 = _Dphi +f2*step/2.\n",
      "    f3 = DDphi(_N +_step/2., _phi +F2*_step/2., _Dphi +f2*_step/2.)\n",
      "    F4 = _Dphi +f3*step\n",
      "    f4 = DDphi(_N +_step, _phi +F3*_step, _Dphi +f3*_step)  \n",
      "\n",
      "    return [(f1 +2*f2 +2*f3 +f4)*_step/6., (F1 +2*F2 +2*F3 +F4)*_step/6.] # [Dhk, hk] update"
     ],
     "language": "python",
     "metadata": {},
     "outputs": [],
     "prompt_number": 5
    },
    {
     "cell_type": "code",
     "collapsed": false,
     "input": [
      "npts = 100000\n",
      "step = (Nf-Ni)/(npts)\n",
      "\n",
      "phi_ = phi0\n",
      "Dphi_ = Dphi0\n",
      "\n",
      "phi_array = numpy.empty(0)\n",
      "Dphi_array = numpy.empty(0)\n",
      "N_array = numpy.empty(0)\n",
      "\n",
      "N = Ni\n",
      "while N < Nf +step:\n",
      "    phi_array = numpy.append(phi_array, phi_)\n",
      "    Dphi_array = numpy.append(Dphi_array, Dphi_)\n",
      "    N_array = numpy.append(N_array, N)\n",
      "    \n",
      "    array = rk4_step(N, phi_, Dphi_, step)\n",
      "    phi_ = phi_ + array[1]\n",
      "    Dphi_ = Dphi_ + array[0]\n",
      "    \n",
      "    N += step"
     ],
     "language": "python",
     "metadata": {},
     "outputs": [],
     "prompt_number": 6
    },
    {
     "cell_type": "code",
     "collapsed": false,
     "input": [
      "phi = lambda _N : phi_array[int((_N-Ni)/step)]\n",
      "Dphi = lambda _N : Dphi_array[int((_N-Ni)/step)]\n",
      "\n",
      "H = lambda _N : (V(phi(_N))/(3 -Dphi(_N)**2/2))**(1./2)\n",
      "DH = lambda _N : -(1./2)*H(_N)*Dphi(_N)**2.\n",
      "\n",
      "ai = 1e-05\n",
      "A = lambda _N : ai*numpy.exp(_N)\n",
      "\n",
      "k0 = numpy.empty(0)\n",
      "\n",
      "def DDhk(_k, _N, _hk, _Dhk):\n",
      "    return -((3. +(DH(_N)/H(_N)))*_Dhk +((_k/(A(_N)*H(_N)))**2)*_hk)\n",
      "\n",
      "\n",
      "def rk4_step(_k, _N, _hk, _Dhk, _step):\n",
      "    F1 = _Dhk\n",
      "    f1 = DDhk(_k, _N, _hk, _Dhk)\n",
      "    F2 = _Dhk +f1*_step/2.\n",
      "    f2 = DDhk(_k, _N +_step/2., _hk +F1*_step/2., _Dhk +f1*_step/2.)\n",
      "    F3 = _Dhk +f2*_step/2.\n",
      "    f3 = DDhk(_k, _N +_step/2., _hk +F2*_step/2., _Dhk +f2*_step/2.)\n",
      "    F4 = _Dhk +f3*_step\n",
      "    f4 = DDhk(_k, _N +_step, _hk +F3*_step, _Dhk +f3*_step)\n",
      "\n",
      "    return (numpy.array([(f1 +2*f2 +2*f3 +f4)*_step/6.], dtype=complex),\n",
      "            numpy.array([(F1 +2*F2 +2*F3 +F4)*_step/6.], dtype=complex))\n",
      "            # [Dhk, hk] update"
     ],
     "language": "python",
     "metadata": {},
     "outputs": [],
     "prompt_number": 7
    },
    {
     "cell_type": "code",
     "collapsed": false,
     "input": [
      "def solve_Nics(k, eN_array):\n",
      "    Ni = eN_array[0]\n",
      "    step = eN_array[1] -eN_array[0]\n",
      "    Nics_temp = numpy.asarray([k - 1e+02*A(N)*H(N) for N in eN_array])\n",
      "    nics_test = numpy.where(Nics_temp > 0)\n",
      "    return Ni + nics_test[0][-1]*step\n",
      "\n",
      "def solve_Nshss(k, eN_array):\n",
      "    Ni = eN_array[0]\n",
      "    step = eN_array[1] -eN_array[0]\n",
      "    Nshss_temp = numpy.asarray([k - 1e-05*A(N)*H(N) for N in eN_array])\n",
      "    nshss_test = numpy.where(Nshss_temp > 0)\n",
      "    return Ni + nshss_test[0][-1]*step\n",
      "\n",
      "def initialize_hk(k, _Nics):\n",
      "    hk0 = numpy.zeros(1,dtype=complex)             \n",
      "    hk0.real = (((2.*k)**(1./2))*A(_Nics))**(-1.)\n",
      "    return hk0\n",
      "\n",
      "def initialize_Dhk(k, _Nics):\n",
      "    Dhk0 = numpy.zeros(1,dtype=complex)\n",
      "    Dhk0.real = -(1/A(_Nics))*((2*k)**(-1./2))\n",
      "    Dhk0.imag = -((k/2)**(1./2))/(A(_Nics)*A(_Nics)*H(_Nics))\n",
      "    return Dhk0\n",
      "\n",
      "def evolve_hk(k, _Nics, _Nshss, _step):    \n",
      "    hk = numpy.empty(0, dtype=complex)\n",
      "    Dhk = numpy.empty(0, dtype=complex)\n",
      "    \n",
      "    hk = initialize_hk(k, _Nics)\n",
      "    Dhk = initialize_Dhk(k, _Nics)\n",
      "    \n",
      "    hk_array = numpy.empty(0, dtype=complex)\n",
      "    \n",
      "    N = _Nics\n",
      "    while N < _Nshss:\n",
      "        hk_array = numpy.append(hk_array, hk)\n",
      "\n",
      "        array = rk4_step(k, N, hk, Dhk, _step)\n",
      "        hk = hk + array[1]\n",
      "        Dhk = Dhk + array[0]\n",
      "\n",
      "        N += _step\n",
      "\n",
      "    return hk_array"
     ],
     "language": "python",
     "metadata": {},
     "outputs": [],
     "prompt_number": 8
    },
    {
     "cell_type": "code",
     "collapsed": false,
     "input": [
      "e = 10**(-1)\n",
      "\n",
      "def calG(hk_k1_array, hk_k2_array, hk_k3_array, k1, k2, k3, _Nics, _Nshss):\n",
      "    N_range = numpy.linspace(_Nics, _Nshss, len(hk_k1_array))\n",
      "    func_int = ((A(N_range)/numpy.asarray([H(N) for N in N_range]))*\n",
      "                (numpy.conj(hk_k1_array)*numpy.conj(hk_k2_array)*numpy.conj(hk_k3_array))*\n",
      "                (numpy.exp(-e*k1/(A(N_range)*numpy.asarray([H(N) for N in N_range])))))\n",
      "    result = simps(func_int, N_range)\n",
      "\n",
      "    return -(k1**2. +k2**2. +k3**2)/4.*result*numpy.array([0.+1.j], dtype=complex)\n",
      "\n",
      "\n",
      "def calG_cc(hk_k1_array, hk_k2_array, hk_k3_array, k1, k2, k3, _Nics, _Nshss):\n",
      "    N_range = numpy.linspace(_Nics, _Nshss, len(hk_k1_array))\n",
      "    func_int = ((A(N_range)/numpy.asarray([H(N) for N in N_range]))*\n",
      "                (hk_k1_array*hk_k2_array*hk_k3_array)*\n",
      "                (numpy.exp(-e*k1/(A(N_range)*numpy.asarray([H(N) for N in N_range])))))\n",
      "    result = simps(func_int, N_range)\n",
      "\n",
      "    return (k1**2. +k2**2. +k3**2)/4.*result*numpy.array([0.+1.j], dtype=complex)"
     ],
     "language": "python",
     "metadata": {},
     "outputs": [],
     "prompt_number": 38
    },
    {
     "cell_type": "code",
     "collapsed": false,
     "input": [
      "k1 = 1e-06\n",
      "k3 = numpy.arange(0.,1.,.1)*k1\n",
      "\n",
      "k_array = []\n",
      "\n",
      "for i in range(len(k3)):\n",
      "    if k3[i]/k1 < 0.5:\n",
      "        k2 = numpy.arange(1.-k3[i]/k1, 1., 0.1)*k1\n",
      "        [k_array.append([kx, k3[i]]) for kx in k2]\n",
      "    else :\n",
      "        k2 = numpy.arange(k3[i]/k1, 1., 0.1)*k1\n",
      "        [k_array.append([kx, k3[i]]) for kx in k2]"
     ],
     "language": "python",
     "metadata": {},
     "outputs": [],
     "prompt_number": 12
    },
    {
     "cell_type": "code",
     "collapsed": false,
     "input": [
      "for k_set in k_array:\n",
      "    \n",
      "    k2, k3 = k_set\n",
      "    \n",
      "    if k2 > k3:\n",
      "        Nics = solve_Nics(k3, N_array)\n",
      "    else :\n",
      "        Nics = solve_Nics(k2, N_array)\n",
      "    \n",
      "    Nshss = solve_Nshss(k1, N_array)\n",
      "\n",
      "    hk_k1_array = numpy.empty(0, dtype=complex)\n",
      "    hk_k2_array = numpy.empty(0, dtype=complex)\n",
      "    hk_k3_array = numpy.empty(0, dtype=complex)\n",
      "\n",
      "    hk_k1_array = evolve_hk(k1, Nics, Nshss, step)\n",
      "    hk_k2_array = evolve_hk(k2, Nics, Nshss, step)\n",
      "    hk_k3_array = evolve_hk(k3, Nics, Nshss, step)\n",
      "    \n",
      "    tps_k1 = 2.*(k1)**3./(2.*numpy.pi**2.)*(numpy.absolute(hk_k1_array[-1]))**2.\n",
      "    tps_k2 = 2.*(k2)**3./(2.*numpy.pi**2.)*(numpy.absolute(hk_k2_array[-1]))**2.\n",
      "    tps_k3 = 2.*(k3)**3./(2.*numpy.pi**2.)*(numpy.absolute(hk_k3_array[-1]))**2.\n",
      "\n",
      "    CalG = calG(hk_k1_array, hk_k2_array, hk_k3_array, k1, k2, k3, Nics, Nshss)\n",
      "    CalG_cc = calG_cc(hk_k1_array, hk_k2_array, hk_k3_array, k1, k2, k3, Nics, Nshss)\n",
      "\n",
      "    G = (hk_k1_array[-1]*hk_k2_array[-1]*hk_k3_array[-1])*CalG +(numpy.conj(hk_k1_array[-1])*numpy.conj(hk_k2_array[-1])*numpy.conj(hk_k3_array[-1]))*CalG_cc\n",
      "    h_NL = (4./(2.*numpy.pi**2.))**2.*(k1**3.*k2**3.*k3**3*G)/(k1**3.*tps_k2*tps_k3 +k2**3.*tps_k3*tps_k1 +k3**3.*tps_k1*tps_k2)\n",
      "\n",
      "    print Nics, Nshss\n",
      "    print k1, k2, k3, str(tps_k1).strip('[]'), str(tps_k2).strip('[]'), str(tps_k3).strip('[]')\n",
      "    print str(CalG).strip('[]'), str(G).strip('[]'), str(h_NL).strip('[]')"
     ],
     "language": "python",
     "metadata": {},
     "outputs": [
      {
       "output_type": "stream",
       "stream": "stdout",
       "text": [
        "0.1932 18.9819\n",
        "1e-06 9e-07 1e-07 1.77911226341e-10 2.12561046258e-10 2.83132129995e-10\n",
        " -3.88312907e+10 -3.38988853e+10j  -3.26950027e+21+0.j -1.00961727+0.j\n",
        "0.9002"
       ]
      },
      {
       "output_type": "stream",
       "stream": "stdout",
       "text": [
        " 18.9819\n",
        "1e-06 8e-07 2e-07 2.5678337863e-10 2.6019036137e-10 2.7539054852e-10\n",
        " -1.49223810e+10 +2.16732293e+10j  -8.83910470e+20+0.j -1.37157584+0.j\n",
        "0.9002"
       ]
      },
      {
       "output_type": "stream",
       "stream": "stdout",
       "text": [
        " 18.9819\n",
        "1e-06 9e-07 2e-07 2.5678337863e-10 2.58569278275e-10 2.7539054852e-10\n",
        " -2.35728927e+10 +5.50826656e+09j  -7.19039789e+20+0.j -1.39669461+0.j\n",
        "1.3139"
       ]
      },
      {
       "output_type": "stream",
       "stream": "stdout",
       "text": [
        " 18.9819\n",
        "1e-06 7e-07 3e-07 2.58131913507e-10 2.61943133203e-10 2.70959365026e-10\n",
        "  3.58278468e+09 +1.60275090e+10j  -3.54491838e+20+0.j -1.39278686+0.j\n",
        "1.3139"
       ]
      },
      {
       "output_type": "stream",
       "stream": "stdout",
       "text": [
        " 18.9819\n",
        "1e-06 8e-07 3e-07 2.58131913507e-10 2.60527135077e-10 2.70959365026e-10\n",
        " -1.02977381e+10 -1.04600128e+10j  -2.73180051e+20+0.j -1.43297888+0.j\n",
        "1.3139"
       ]
      },
      {
       "output_type": "stream",
       "stream": "stdout",
       "text": [
        " 18.9819\n",
        "1e-06 9e-07 3e-07 2.58131913507e-10 2.59273847474e-10 2.70959365026e-10\n",
        "  1.31054885e+10 +3.14481818e+09j  -2.21488193e+20+0.j -1.45487815+0.j\n",
        "1.3139"
       ]
      },
      {
       "output_type": "stream",
       "stream": "stdout",
       "text": [
        " 18.9819\n",
        "1e-06 1e-06 3e-07 2.58131913507e-10 2.58131913507e-10 2.70959365026e-10\n",
        " -1.19796317e+10 +4.00110655e+09j  -1.86700624e+20+0.j -1.46098033+0.j\n",
        "1.6072"
       ]
      },
      {
       "output_type": "stream",
       "stream": "stdout",
       "text": [
        " 18.9819\n",
        "1e-06 6e-07 4e-07 2.58230196241e-10 2.63570251012e-10 2.67856680175e-10\n",
        "  6.23038659e+09 +1.12952698e+10j  -2.22875428e+20+0.j -1.40740387+0.j\n",
        "1.6072"
       ]
      },
      {
       "output_type": "stream",
       "stream": "stdout",
       "text": [
        " 18.9819\n",
        "1e-06 7e-07 4e-07 2.58230196241e-10 2.61960222769e-10 2.67856680175e-10\n",
        "  1.47875093e+09 +1.09790167e+10j  -1.59357360e+20+0.j -1.46250697+0.j\n",
        "1.6072"
       ]
      },
      {
       "output_type": "stream",
       "stream": "stdout",
       "text": [
        " 18.9819\n",
        "1e-06 8e-07 4e-07 2.58230196241e-10 2.60563834035e-10 2.67856680175e-10\n",
        " -2.31150758e+09 +9.59061086e+09j  -1.22008892e+20+0.j -1.49910032+0.j\n",
        "1.6072"
       ]
      },
      {
       "output_type": "stream",
       "stream": "stdout",
       "text": [
        " 18.9819\n",
        "1e-06 9e-07 4e-07 2.58230196241e-10 2.59335847917e-10 2.67856680175e-10\n",
        " -5.14920977e+09 +7.41441662e+09j  -9.83521190e+19+0.j -1.51746371+0.j\n",
        "1.8347"
       ]
      },
      {
       "output_type": "stream",
       "stream": "stdout",
       "text": [
        " 18.9819\n",
        "1e-06 5e-07 5e-07 2.58250072007e-10 2.65478277173e-10 2.65478277173e-10\n",
        "  1.11528224e+10 -4.33045057e+09j  -1.92904779e+20+0.j -1.41262503+0.j\n",
        "1.8347"
       ]
      },
      {
       "output_type": "stream",
       "stream": "stdout",
       "text": [
        " 18.9819\n",
        "1e-06 6e-07 5e-07 2.58250072007e-10 2.63597129444e-10 2.65478277173e-10\n",
        "  3.67461355e+09 +9.01388961e+09j  -1.24562437e+20+0.j -1.48027185+0.j\n",
        "1.8347"
       ]
      },
      {
       "output_type": "stream",
       "stream": "stdout",
       "text": [
        " 18.9819\n",
        "1e-06 7e-07 5e-07 2.58250072007e-10 2.61942421086e-10 2.65478277173e-10\n",
        " -7.65412836e+09 +3.26671881e+09j  -8.83740012e+19+0.j -1.53275368+0.j\n",
        "1.8347"
       ]
      },
      {
       "output_type": "stream",
       "stream": "stdout",
       "text": [
        " 18.9819\n",
        "1e-06 8e-07 5e-07 2.58250072007e-10 2.60572903578e-10 2.65478277173e-10\n",
        " -3.00465938e+09 -6.73995227e+09j  -6.71911858e+19+0.j -1.56698484+0.j\n",
        "1.8347"
       ]
      },
      {
       "output_type": "stream",
       "stream": "stdout",
       "text": [
        " 18.9819\n",
        "1e-06 9e-07 5e-07 2.58250072007e-10 2.59326101549e-10 2.65478277173e-10\n",
        "  6.09768750e+09 -2.83475040e+09j  -5.37926401e+19+0.j -1.58250236+0.j\n",
        "2.0209"
       ]
      },
      {
       "output_type": "stream",
       "stream": "stdout",
       "text": [
        " 18.9819\n",
        "1e-06 6e-07 6e-07 2.58252778043e-10 2.63549914809e-10 2.63549914809e-10\n",
        " -7.84621617e+09 -7.45210378e+08j  -7.97585819e+19+0.j -1.54567429+0.j\n",
        "2.0209"
       ]
      },
      {
       "output_type": "stream",
       "stream": "stdout",
       "text": [
        " 18.9819\n",
        "1e-06 7e-07 6e-07 2.58252778043e-10 2.61970188424e-10 2.63549914809e-10\n",
        "  1.23316272e+09 +6.59265321e+09j  -5.61516709e+19+0.j -1.59655202+0.j\n",
        "2.0209"
       ]
      },
      {
       "output_type": "stream",
       "stream": "stdout",
       "text": [
        " 18.9819\n",
        "1e-06 8e-07 6e-07 2.58252778043e-10 2.60557440417e-10 2.63549914809e-10\n",
        "  5.29219047e+09 -2.65016366e+09j  -4.23566564e+19+0.j -1.62941172+0.j\n",
        "2.0209"
       ]
      },
      {
       "output_type": "stream",
       "stream": "stdout",
       "text": [
        " 18.9819\n",
        "1e-06 9e-07 6e-07 2.58252778043e-10 2.59331427503e-10 2.63549914809e-10\n",
        " -3.63324384e+09 -3.95306144e+09j  -3.36668441e+19+0.j -1.64382701+0.j\n",
        "2.1777"
       ]
      },
      {
       "output_type": "stream",
       "stream": "stdout",
       "text": [
        " 18.9819\n",
        "1e-06 7e-07 7e-07 2.58234401257e-10 2.61929400489e-10 2.61929400489e-10\n",
        " -2.62264216e+09 -5.03622442e+09j  -3.91974194e+19+0.j -1.6465696+0.j\n",
        "2.1777"
       ]
      },
      {
       "output_type": "stream",
       "stream": "stdout",
       "text": [
        " 18.9819\n",
        "1e-06 8e-07 7e-07 2.58234401257e-10 2.60576480941e-10 2.61929400489e-10\n",
        "  4.98260121e+09 -2.01704714e+08j  -2.93457697e+19+0.j -1.68005145+0.j\n",
        "2.1777"
       ]
      },
      {
       "output_type": "stream",
       "stream": "stdout",
       "text": [
        " 18.9819\n",
        "1e-06 9e-07 7e-07 2.58234401257e-10 2.59336478784e-10 2.61929400489e-10\n",
        " -1.75125065e+09 +4.14730996e+09j  -2.31494177e+19+0.j -1.69531861+0.j\n",
        "2.3142"
       ]
      },
      {
       "output_type": "stream",
       "stream": "stdout",
       "text": [
        " 18.9819\n",
        "1e-06 8e-07 8e-07 2.58230131622e-10 2.60534389953e-10 2.60534389953e-10\n",
        "  2.22076302e+08 -4.35129278e+09j  -2.17879299e+19+0.j -1.7148393+0.j\n",
        "2.3142"
       ]
      },
      {
       "output_type": "stream",
       "stream": "stdout",
       "text": [
        " 18.9819\n",
        "1e-06 9e-07 8e-07 2.58230131622e-10 2.59314796379e-10 2.60534389953e-10\n",
        "  9.13842478e+08 -3.80624891e+09j  -1.70592529e+19+0.j -1.73282526+0.j\n",
        "2.4339"
       ]
      },
      {
       "output_type": "stream",
       "stream": "stdout",
       "text": [
        " 18.9819\n",
        "1e-06 9e-07 9e-07 2.58263975537e-10 2.59309420943e-10 2.59309420943e-10\n",
        " -3.45716743e+09 -5.46033589e+08j  -1.32607405e+19+0.j -1.75511144+0.j\n"
       ]
      }
     ],
     "prompt_number": 42
    },
    {
     "cell_type": "code",
     "collapsed": false,
     "input": [
      "'''    N_range = numpy.linspace(Nics, Nshss, len(hk_k1_array))\n",
      "    func_int = ((A(N_range)/numpy.asarray([H(N) for N in N_range]))*\n",
      "                (numpy.conj(hk_k1_array)*numpy.conj(hk_k2_array)*numpy.conj(hk_k3_array))*\n",
      "                (numpy.exp(-e*k1/(A(N_range)*numpy.asarray([H(N) for N in N_range])))))\n",
      "    CalG = -(k1**2. +k2**2. +k3**2)/4.*simps(func_int, N_range)*numpy.array([0.+1.j], dtype=complex)'''"
     ],
     "language": "python",
     "metadata": {},
     "outputs": []
    },
    {
     "cell_type": "code",
     "collapsed": false,
     "input": [
      "temp = A(N_range)/numpy.asarray([H(N) for N in N_range])\n",
      "test = temp*(numpy.conj(hk_k1_array)*numpy.conj(hk_k2_array)*numpy.conj(hk_k3_array))\n",
      "final = test*(numpy.exp(-e*k1/(A(N_range)*numpy.asarray([H(N) for N in N_range]))))\n",
      "print len(test), len(temp), len(final)"
     ],
     "language": "python",
     "metadata": {},
     "outputs": [
      {
       "output_type": "stream",
       "stream": "stdout",
       "text": [
        "26842 26842 26842\n"
       ]
      }
     ],
     "prompt_number": 37
    },
    {
     "cell_type": "code",
     "collapsed": false,
     "input": [
      "numpy.exp(-e*k1/(A(N_range)*numpy.asarray([H(N) for N in N_range])))"
     ],
     "language": "python",
     "metadata": {},
     "outputs": [
      {
       "metadata": {},
       "output_type": "pyout",
       "prompt_number": 36,
       "text": [
        "array([  3.66806971e-44,   3.92858427e-44,   4.20740311e-44, ...,\n",
        "         9.99998998e-01,   9.99998999e-01,   9.99998999e-01])"
       ]
      }
     ],
     "prompt_number": 36
    },
    {
     "cell_type": "code",
     "collapsed": false,
     "input": [
      "-e*k1/(A(N_range)*numpy.asarray([H(N) for N in N_range]))"
     ],
     "language": "python",
     "metadata": {},
     "outputs": [
      {
       "metadata": {},
       "output_type": "pyout",
       "prompt_number": 35,
       "text": [
        "array([ -1.00014079e+02,  -9.99454650e+01,  -9.98768985e+01, ...,\n",
        "        -1.00190176e-06,  -1.00121441e-06,  -1.00052754e-06])"
       ]
      }
     ],
     "prompt_number": 35
    },
    {
     "cell_type": "code",
     "collapsed": false,
     "input": [],
     "language": "python",
     "metadata": {},
     "outputs": []
    }
   ],
   "metadata": {}
  }
 ]
}