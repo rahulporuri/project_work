{
 "metadata": {
  "name": "",
  "signature": "sha256:b7b815503e8942d652ab5b860bb34361192f6be075ac4d963eebda2a7990935a"
 },
 "nbformat": 3,
 "nbformat_minor": 0,
 "worksheets": [
  {
   "cells": [
    {
     "cell_type": "markdown",
     "metadata": {},
     "source": [
      "Inthe following IPython notebook, I first numerically estimate the scalar field $\\phi$ by solving the second order ODE governing it's evolution:\n",
      "\n",
      "$$\\ddot{\\phi} + 3H\\dot{\\phi} + \\frac{{\\rm d}V}{{\\rm d}\\phi} = 0$$\n",
      "\n",
      "where an overdot denotes differentiation with respect to coordinate time $t$ and H is the Hubble parameter $H = \\dot{a}/a$.\n",
      "\n",
      "Using the solution for $\\phi$, we solve the second order ODE governing the tensor perturbation h_{\\bf k}$\n",
      "\n",
      "$$h_{\\bf k}'' +\\frac{2a'}{a}h_{\\bf k}' +k^2h_{\\bf k} = 0$$\n",
      "\n",
      "where an overprime denotes differentiation with respect to conformal time $\\eta$.\n",
      "\n",
      "The Bunch-Davies initial conditions are imposed when the modes ${\\bf k}$ are sufficiently inside the Hubble radius i.e $k^2 >> a'/a$. In such a case, we can see that the equation governing the tensor perturbations is similar to a simple harmonic oscillator.\n",
      "Numerically speaking, we set the initial conditions when $k/a\\mathcal{H} = 10^2$ where $\\mathcal{H} = a'/a$. Similarly, we stop the evaluation when $k/a\\mathcal{H} = 10^{-5}$. For the modes of interest, if we compute these numbers in terms of conformal time $\\eta$, we will see that they are extremely large. As such, a numerical solution is not plausible. We therefore work in e-fold $N$ where $N = ln(a(t)/a_0)$. In terms of e-fold $N$, we can rewrite the above equations as\n",
      "\n",
      "$$\\frac{{\\rm d}^2\\phi}{{\\rm d}N^2} +\\left[3 -\\frac{1}{2}\\left(\\frac{{\\rm d}\\phi}{dN}\\right)^2\\right]\\frac{{\\rm d}\\phi}{dN} +\\frac{1}{2V(\\phi)}\\frac{{\\rm d} V}{{\\rm d}\\phi}\\left[6 -\\left(\\frac{{\\rm d}\\phi}{{\\rm d}N}\\right)^2\\right] =  0$$\n",
      "\n",
      "$$\\frac{ {\\rm d}^2 h_{\\bf k} }{ {\\rm d} N^2} \n",
      "+\\left(3 +\\frac{1}{H}\\frac{ {\\rm d} H }{ {\\rm d} N} \\right)\\frac{ {\\rm d} h_{\\bf k} }{ {\\rm d} N}\n",
      "+\\left(\\frac{k^2}{a^2H^2}\\right)h_{\\bf k} = 0$$\n",
      "\n",
      "We assume that a potential of the form\n",
      "\n",
      "$$V = V_0\\exp\\left[-\\sqrt{\\frac{2}{q}}\\left(\\phi -\\phi_0\\right)\\right]$$\n",
      "\n",
      "drives inflation and using the above potential, we can solve for $\\phi$.\n",
      "Once we have a solution for $\\phi$, we can obtain a numerical solution for the \n",
      "Hubble parameter $H$ using\n",
      "\n",
      "$$H^2 = \\frac{V(\\phi)}{\\left[3 -\\frac{1}{2}\\left(\\frac{{\\rm d}\\phi}{{\\rm d}N}\\right)^2\\right]}$$\n",
      "\n",
      "On a final note, the prefix d refers to differentiation with respect to conformal time $\\eta$ and \n",
      "the prefix D refers to differentiation with respect to e-fold $N$. The suffix 0 is used to denote \n",
      "the initial conditions. Nics and Nshss are used to refer to the values of e-fold $N$ when we start \n",
      "and end the numerical evaluation of $\\phi$ and $h_{\\bf k}$."
     ]
    },
    {
     "cell_type": "code",
     "collapsed": false,
     "input": [
      "import numpy\n",
      "import matplotlib.pyplot as plt\n",
      "import scipy.optimize as opt\n",
      "from scipy.integrate import romb, simps\n",
      "%matplotlib inline"
     ],
     "language": "python",
     "metadata": {},
     "outputs": [],
     "prompt_number": 1
    },
    {
     "cell_type": "code",
     "collapsed": false,
     "input": [
      "q = 51.\n",
      "V0 = (204./100.)*1e-08\n",
      "t0 = (q*(3.*q -1.)/V0)**(1./2)\n",
      "\n",
      "phi0 = 1.\n",
      "dphi0 = (2.*q)**(1./2)/t0\n",
      "\n",
      "Ni = 0.\n",
      "Nf = 70."
     ],
     "language": "python",
     "metadata": {},
     "outputs": [],
     "prompt_number": 2
    },
    {
     "cell_type": "code",
     "collapsed": false,
     "input": [
      "V = lambda phi : V0*numpy.exp(-(2./q)**(1./2)*(phi -phi0))\n",
      "dV = lambda phi : -(2./q)**(1./2)*V0*numpy.exp(-(2./q)**(1./2)*(phi -phi0))\n",
      "\n",
      "H0 = ((1./3)*(dphi0**2/2. +V(phi0)))**(1./2.)\n",
      "Dphi0 = dphi0/H0\n",
      "\n",
      "def DDphi(N, phi0, Dphi0):\n",
      "    return -(3 -Dphi0**2/2.)*Dphi0 -(dV(phi0)/(2*V(phi0)))*(6 -Dphi0**2)\n",
      "\n",
      "def rk4_step(N, phi0, Dphi0, step):\n",
      "    F1 = Dphi0\n",
      "    f1 = DDphi(N, phi0, Dphi0)\n",
      "    F2 = Dphi0 +f1*step/2.\n",
      "    f2 = DDphi(N +step/2., phi0 +F1*step/2., Dphi0 +f1*step/2.)\n",
      "    F3 = Dphi0 +f2*step/2.\n",
      "    f3 = DDphi(N +step/2., phi0 +F2*step/2., Dphi0 +f2*step/2.)\n",
      "    F4 = Dphi0 +f3*step\n",
      "    f4 = DDphi(N +step, phi0 +F3*step, Dphi0 +f3*step)  \n",
      "\n",
      "    return [(f1 +2*f2 +2*f3 +f4)*step/6, (F1 +2*F2 +2*F3 +F4)*step/6.] # [Dhk, hk] update"
     ],
     "language": "python",
     "metadata": {},
     "outputs": [],
     "prompt_number": 3
    },
    {
     "cell_type": "code",
     "collapsed": false,
     "input": [
      "npts = 100000\n",
      "step = (Nf-Ni)/(npts)\n",
      "\n",
      "phi_temp = phi0\n",
      "Dphi_temp = Dphi0\n",
      "\n",
      "phi_array = numpy.empty(0)\n",
      "Dphi_array = numpy.empty(0)\n",
      "N_array = numpy.empty(0)\n",
      "\n",
      "N = Ni\n",
      "print N, phi_temp, Dphi_temp\n",
      "while N < Nf +step:\n",
      "    phi_array = numpy.append(phi_array, phi_temp)\n",
      "    Dphi_array = numpy.append(Dphi_array, Dphi_temp)\n",
      "    N_array = numpy.append(N_array, N)\n",
      "    \n",
      "    array = rk4_step(N, phi_temp, Dphi_temp, step)\n",
      "    phi_temp = phi_temp + array[1]\n",
      "    Dphi_temp = Dphi_temp + array[0]\n",
      "    N += step\n",
      "\n",
      "print N, phi_temp, Dphi_temp, len(N_array)"
     ],
     "language": "python",
     "metadata": {},
     "outputs": [
      {
       "output_type": "stream",
       "stream": "stdout",
       "text": [
        "0.0 1.0 0.198029508595\n",
        "70.0007"
       ]
      },
      {
       "output_type": "stream",
       "stream": "stdout",
       "text": [
        " 14.8622042223 0.198029508595 100001\n"
       ]
      }
     ],
     "prompt_number": 5
    },
    {
     "cell_type": "markdown",
     "metadata": {},
     "source": [
      "we can do interpolation to get phi at more points\n",
      "instead of implementing RK4.\n",
      "\n",
      "```\n",
      "N_new = numpy.linspace(Ni,Nf,1000000)\n",
      "phi_array_new = numpy.interp(N_new, N_array, phi_array)\n",
      "Dphi_array_new = numpy.interp(N_new, N_array, Dphi_array)\n",
      "\n",
      "phi_array = phi_array_new\n",
      "Dphi_array = Dphi_array_new\n",
      "N_array = N_new\n",
      "step = (Nf-Ni)/(1000000)\n",
      "```"
     ]
    },
    {
     "cell_type": "markdown",
     "metadata": {},
     "source": [
      "N_new = numpy.linspace(Ni,Nf,1000000)\n",
      "phi_array_new = numpy.interp(N_new, N_array, phi_array)\n",
      "Dphi_array_new = numpy.interp(N_new, N_array, Dphi_array)"
     ]
    },
    {
     "cell_type": "markdown",
     "metadata": {},
     "source": [
      "plt.cla()\n",
      "plt.hold(True)\n",
      "plt.plot(N_array, phi_array, 'o')\n",
      "plt.plot(N_new, phi_array_new, '-')"
     ]
    },
    {
     "cell_type": "markdown",
     "metadata": {},
     "source": [
      "phi_array = phi_array_new\n",
      "Dphi_array = Dphi_array_new\n",
      "N_array = N_new\n",
      "step = (N_array[1]-N_array[0])"
     ]
    },
    {
     "cell_type": "code",
     "collapsed": false,
     "input": [
      "phi = lambda N : phi_array[int((N-Ni)/step)]\n",
      "Dphi = lambda N : Dphi_array[int((N-Ni)/step)]"
     ],
     "language": "python",
     "metadata": {},
     "outputs": [],
     "prompt_number": 6
    },
    {
     "cell_type": "code",
     "collapsed": false,
     "input": [
      "H = lambda N : (V(phi(N))/(3 -Dphi(N)**2/2))**(1./2)\n",
      "DH = lambda N : -(1./2)*H(N)*(Dphi(N)**2)"
     ],
     "language": "python",
     "metadata": {},
     "outputs": [],
     "prompt_number": 7
    },
    {
     "cell_type": "code",
     "collapsed": false,
     "input": [
      "ai = 1e-05"
     ],
     "language": "python",
     "metadata": {},
     "outputs": [],
     "prompt_number": 8
    },
    {
     "cell_type": "code",
     "collapsed": false,
     "input": [
      "A = lambda N : ai*numpy.exp(N)\n",
      "\n",
      "def DDhk(k0, N, hk0, Dhk0):\n",
      "    return -((3. +(DH(N)/H(N)))*Dhk0 +((k0/(A(N)*H(N)))**2)*hk0)\n",
      "\n",
      "def rk4_step(k0, N, hk0, Dhk0, step):\n",
      "    F1 = Dhk0\n",
      "    f1 = DDhk(k0, N, hk0, Dhk0)\n",
      "    F2 = Dhk0 +f1*step/2.\n",
      "    f2 = DDhk(k0, N +step/2., hk0 +F1*step/2., Dhk0 +f1*step/2.)\n",
      "    F3 = Dhk0 +f2*step/2.\n",
      "    f3 = DDhk(k0, N +step/2., hk0 +F2*step/2., Dhk0 +f2*step/2.)\n",
      "    F4 = Dhk0 +f3*step\n",
      "    f4 = DDhk(k0, N +step, hk0 +F3*step, Dhk0 +f3*step)   \n",
      "\n",
      "    return [numpy.array([(f1 +2*f2 +2*f3 +f4)*step/6.], dtype=complex), numpy.array([(F1 +2*F2 +2*F3 +F4)*step/6.], dtype=complex)] # [Dhk, hk] update"
     ],
     "language": "python",
     "metadata": {},
     "outputs": [],
     "prompt_number": 9
    },
    {
     "cell_type": "code",
     "collapsed": false,
     "input": [
      "k_list = numpy.array([10**((-12 + i)/2.) for i in range(13)])\n",
      "Nics_array = []\n",
      "Nshss_array = []\n",
      "\n",
      "for k in k_list:\n",
      "    #temp = numpy.asarray([k/(A(N)*H(N)) for N in N_array])\n",
      "    Nics_temp = numpy.asarray([k - 1e+02*A(N)*H(N) for N in N_array])\n",
      "    Nshss_temp = numpy.asarray([k - 1e-03*A(N)*H(N) for N in N_array])\n",
      "    nics_test = numpy.where(Nics_temp > 0)\n",
      "    nshss_test = numpy.where(Nshss_temp > 0)\n",
      "    Nics_array.append(Ni + nics_test[0][-1]*step)\n",
      "    Nshss_array.append(Ni + nshss_test[0][-1]*step)"
     ],
     "language": "python",
     "metadata": {},
     "outputs": [],
     "prompt_number": 10
    },
    {
     "cell_type": "code",
     "collapsed": false,
     "input": [
      "print Nics_array\n",
      "print Nshss_array"
     ],
     "language": "python",
     "metadata": {},
     "outputs": [
      {
       "output_type": "stream",
       "stream": "stdout",
       "text": [
        "[2.5417000000000001, 3.7155999999999998, 4.8902000000000001, 6.0648, 7.2386999999999997, 8.4132999999999996, 9.5871999999999993, 10.761799999999999, 11.936399999999999, 13.110300000000001, 14.2849, 15.4588, 16.633399999999998]\n",
        "[14.2849, 15.4588, 16.633399999999998, 17.808, 18.9819, 20.156500000000001, 21.330400000000001, 22.504999999999999, 23.679600000000001, 24.8535, 26.028099999999998, 27.201999999999998, 28.3766]\n"
       ]
      }
     ],
     "prompt_number": 11
    },
    {
     "cell_type": "code",
     "collapsed": false,
     "input": [
      "def calG(hk_array, k0, N_Array):\n",
      "    N_range = numpy.linspace(N_Array[0], N_Array[-1], len(hk_array))\n",
      "    func_int = (A(N_range)/numpy.asarray([H(N) for N in N_range]))*numpy.conj(hk_array)**3\n",
      "    #result = romb(func_int, N_Array[1]-N_Array[0])\n",
      "    result = simps(func_int, N_range)\n",
      "    return (-3.*k0**2/4.)*result*numpy.array([0.+1.j], dtype=complex)\n",
      "\n",
      "def calG_cc(hk_array, k0, N_Array):\n",
      "    N_range = numpy.linspace(N_Array[0], N_Array[-1], len(hk_array))\n",
      "    func_int = (A(N_range)/numpy.asarray([H(N) for N in N_range]))*(hk_array)**3\n",
      "    #result = romb(func_int, N_Array[1]-N_Array[0])\n",
      "    result = simps(func_int, N_range)\n",
      "    return (+3.*k0**2/4.)*result*numpy.array([0.+1.j], dtype=complex)\n",
      "\n",
      "def G(hk_array, N_array, k0, calG_array, calG_cc_array):\n",
      "    term1 = calG(hk_array, k0, N_array)\n",
      "    term2 = calG_cc(hk_array, k0, N_array)\n",
      "    calG_array = numpy.append(calG_array, term1)\n",
      "    calG_cc_array = numpy.append(calG_cc_array, term2)\n",
      "    print 'calG =', term1, 'calG* =', term2\n",
      "    \n",
      "    print 2*(hk_array[-1].real**3)*term1.real\n",
      "    print -6*hk_array[-1].real*(hk_array[-1].imag**2)*term1.real\n",
      "    print -6*(hk_array[-1].real**2)*hk_array[-1].imag*term1.imag\n",
      "    print 2*(hk_array[-1].imag**3)*term1.imag\n",
      "    \n",
      "    print '1st term =', (hk_array[-1]**3)*term1, '2nd term =', (numpy.conj(hk_array[-1])**3)*term2\n",
      "    result = (hk_array[-1]**3)*term1 + (numpy.conj(hk_array[-1])**3)*term2\n",
      "    return result"
     ],
     "language": "python",
     "metadata": {},
     "outputs": [],
     "prompt_number": 12
    },
    {
     "cell_type": "code",
     "collapsed": false,
     "input": [
      "k_min = 1e-6\n",
      "k_max = 10**(0.)\n",
      "\n",
      "print 'lift off!'\n",
      "\n",
      "k_vs_hk = numpy.empty(0,dtype=complex)\n",
      "\n",
      "G_array = numpy.empty(0, dtype=complex)\n",
      "calG_array = numpy.empty(0, dtype=complex)\n",
      "calG_cc_array = numpy.empty(0, dtype=complex)\n",
      "\n",
      "i = 0\n",
      "k0 = k_min\n",
      "\n",
      "while k0 < k_max:\n",
      "    print 'k0 = ', k0\n",
      "\n",
      "    hk_array = numpy.empty(0, dtype=complex)\n",
      "    N_array = numpy.empty(0)\n",
      "    \n",
      "    Nics = Nics_array[i]\n",
      "    Nshss = Nshss_array[i]\n",
      "\n",
      "    hk0 = numpy.zeros(1,dtype=complex)\n",
      "    hk0.real = (((2.*k0)**(1./2))*A(Nics))**(-1.)\n",
      "\n",
      "    Dhk0 = numpy.zeros(1,dtype=complex)\n",
      "    Dhk0.real = -(1/A(Nics))*((2*k0)**(-1./2))\n",
      "    Dhk0.imag = -((k0/2)**(1./2))/(A(Nics)*A(Nics)*H(Nics))\n",
      " \n",
      "    print 'got Nics, hk0 and Dhk0'\n",
      "    print 'starting from Nics'\n",
      "\n",
      "    N = Nics\n",
      "    j = 0\n",
      "    while N < Nshss:\n",
      "        hk_array = numpy.append(hk_array, hk0)\n",
      "        N_array =numpy.append(N_array, N)\n",
      "        #array = euler_step()\n",
      "        array = rk4_step(k0, N, hk0, Dhk0, step)\n",
      "        hk0 = hk0 + array[1]\n",
      "        Dhk0 = Dhk0 + array[0]\n",
      "        N += step\n",
      "        j += 1\n",
      "\n",
      "    k_vs_hk = numpy.append(k_vs_hk, hk0) \n",
      "    print N-step, Nshss, hk0, Dhk0, Nics\n",
      "    print '\\n'\n",
      "    \n",
      "    temp = 2.*(k0)**3/(2*numpy.pi**2)*(numpy.absolute(hk0))**2\n",
      "    \n",
      "    another_temp = G(hk_array, N_array, k0, calG_array, calG_cc_array)\n",
      "    G_array = numpy.append(G_array, another_temp)\n",
      "\n",
      "    k0 = 10**(1./2)*k0\n",
      "    i += 1"
     ],
     "language": "python",
     "metadata": {},
     "outputs": [
      {
       "output_type": "stream",
       "stream": "stdout",
       "text": [
        "lift off!\n",
        "k0 =  1e-06\n",
        "got Nics, hk0 and Dhk0\n",
        "starting from Nics\n",
        "14.2842"
       ]
      },
      {
       "output_type": "stream",
       "stream": "stdout",
       "text": [
        " 14.2849 [[[[[[[[[[[[[[[[[[[[[[[[[[[[[[[[ 50252.78078995+4814.72095311j]]]]]]]]]]]]]]]]]]]]]]]]]]]]]]]] [[[[[[[[[[[[[[[[[[[[[[[[[[[[[[[[-0.04931016-0.00476333j]]]]]]]]]]]]]]]]]]]]]]]]]]]]]]]] 2.5417\n",
        "\n",
        "\n",
        "calG ="
       ]
      },
      {
       "output_type": "stream",
       "stream": "stdout",
       "text": [
        " [-6176179.90775663-23193958.23597612j] calG* = [-6176179.90775663+23193958.23597612j]\n",
        "[ -1.56758187e+21]\n",
        "[  4.31691534e+19]\n",
        "[  1.69206656e+21]\n",
        "[ -5.17747765e+18]\n",
        "1st term = [  8.12381819e+19 -3.08697717e+21j] 2nd term = [  8.12381819e+19 +3.08697717e+21j]\n",
        "k0 =  3.16227766017e-06\n",
        "got Nics, hk0 and Dhk0\n",
        "starting from Nics\n",
        "15.4581"
       ]
      },
      {
       "output_type": "stream",
       "stream": "stdout",
       "text": [
        " 15.4588 [[[[[[[[[[[[[[[[[[[[[[[[[[[[[[[[ 8760.29074856+470.5175416j]]]]]]]]]]]]]]]]]]]]]]]]]]]]]]]] [[[[[[[[[[[[[[[[[[[[[[[[[[[[[[[[-0.00860331-0.00046884j]]]]]]]]]]]]]]]]]]]]]]]]]]]]]]]] 3.7156\n",
        "\n",
        "\n",
        "calG ="
       ]
      },
      {
       "output_type": "stream",
       "stream": "stdout",
       "text": [
        " [-558761.73407305-4146706.20621032j] calG* = [-558761.73407305+4146706.20621032j]\n",
        "[ -7.51297968e+17]\n",
        "[  6.50201649e+15]\n",
        "[  8.98395107e+17]\n",
        "[ -8.63894524e+14]\n",
        "1st term = [  7.63676306e+16 -2.82412602e+18j] 2nd term = [  7.63676306e+16 +2.82412602e+18j]\n",
        "k0 =  1e-05\n",
        "got Nics, hk0 and Dhk0\n",
        "starting from Nics\n",
        "16.6327"
       ]
      },
      {
       "output_type": "stream",
       "stream": "stdout",
       "text": [
        " 16.6334 [[[[[[[[[[[[[[[[[[[[[[[[[[[[[[[[ 1519.45689279+124.62206963j]]]]]]]]]]]]]]]]]]]]]]]]]]]]]]]] [[[[[[[[[[[[[[[[[[[[[[[[[[[[[[[[-0.00149137-0.00012349j]]]]]]]]]]]]]]]]]]]]]]]]]]]]]]]] 4.8902\n",
        "\n",
        "\n",
        "calG ="
       ]
      },
      {
       "output_type": "stream",
       "stream": "stdout",
       "text": [
        " [-157570.63688827-708274.05017136j] calG* = [-157570.63688827+708274.05017136j]\n",
        "[ -1.10552976e+15]\n",
        "[  2.23102709e+13]\n",
        "[  1.22271238e+15]\n",
        "[ -2.74167647e+12]\n",
        "1st term = [  6.83756058e+13 -2.57021953e+15j] 2nd term = [  6.83756058e+13 +2.57021953e+15j]\n",
        "k0 =  3.16227766017e-05\n",
        "got Nics, hk0 and Dhk0\n",
        "starting from Nics\n",
        "17.808"
       ]
      },
      {
       "output_type": "stream",
       "stream": "stdout",
       "text": [
        " 17.808 [[[[[[[[[[[[[[[[[[[[[[[[[[[[[[[[ 263.33679978+29.08502844j]]]]]]]]]]]]]]]]]]]]]]]]]]]]]]]] [[[[[[[[[[[[[[[[[[[[[[[[[[[[[[[[-0.00025797 -2.86958120e-05j]]]]]]]]]]]]]]]]]]]]]]]]]]]]]]]] 6.0648\n",
        "\n",
        "\n",
        "calG ="
       ]
      },
      {
       "output_type": "stream",
       "stream": "stdout",
       "text": [
        " [-37701.20148816-120145.58501696j] calG* = [-37701.20148816+120145.58501696j]\n",
        "[ -1.37695532e+12]\n",
        "[  5.03914646e+10]\n",
        "[  1.45395735e+12]\n",
        "[ -5.91216154e+09]\n",
        "1st term = [  6.07406679e+10 -2.34093160e+12j] 2nd term = [  6.07406679e+10 +2.34093160e+12j]\n",
        "k0 =  0.0001\n",
        "got Nics, hk0 and Dhk0\n",
        "starting from Nics\n",
        "18.9819"
       ]
      },
      {
       "output_type": "stream",
       "stream": "stdout",
       "text": [
        " 18.9819 [[[[[[[[[[[[[[[[[[[[[[[[[[[[[[[[ 45.9340634+3.13518608j]]]]]]]]]]]]]]]]]]]]]]]]]]]]]]]] [[[[[[[[[[[[[[[[[[[[[[[[[[[[[[[[ -4.50353884e-05 -3.10922230e-06j]]]]]]]]]]]]]]]]]]]]]]]]]]]]]]]] 7.2387\n",
        "\n",
        "\n",
        "calG ="
       ]
      },
      {
       "output_type": "stream",
       "stream": "stdout",
       "text": [
        " [-3878.52460303-21605.21849256j] calG* = [-3878.52460303+21605.21849256j]\n",
        "[ -7.51797961e+08]\n",
        "[ 10507014.02943681]\n",
        "[  8.57517452e+08]\n",
        "[-1331614.8393687]\n",
        "1st term = [ 57447444.6985184 -2.14152115e+09j] 2nd term = [ 57447444.6985184 +2.14152115e+09j]\n",
        "k0 =  0.000316227766017\n",
        "got Nics, hk0 and Dhk0\n",
        "starting from Nics\n",
        "20.1565"
       ]
      },
      {
       "output_type": "stream",
       "stream": "stdout",
       "text": [
        " 20.1565 [[[[[[[[[[[[[[[[[[[[[[[[[[[[[[[[ 7.96391498+0.7694652j]]]]]]]]]]]]]]]]]]]]]]]]]]]]]]]] [[[[[[[[[[[[[[[[[[[[[[[[[[[[[[[[ -7.80361669e-06 -7.60133835e-07j]]]]]]]]]]]]]]]]]]]]]]]]]]]]]]]] 8.4133\n",
        "\n",
        "\n",
        "calG ="
       ]
      },
      {
       "output_type": "stream",
       "stream": "stdout",
       "text": [
        " [-988.46450099-3676.0112301j] calG* = [-988.46450099+3676.0112301j]\n",
        "[-998552.5349373]\n",
        "[ 27965.13424297]\n",
        "[ 1076391.58361231]\n",
        "[-3349.45211867]\n",
        "1st term = [ 51227.36539966-1949032.28222772j] 2nd term = [ 51227.36539966+1949032.28222772j]\n",
        "k0 =  0.001\n",
        "got Nics, hk0 and Dhk0\n",
        "starting from Nics\n",
        "21.3304"
       ]
      },
      {
       "output_type": "stream",
       "stream": "stdout",
       "text": [
        " 21.3304 [[[[[[[[[[[[[[[[[[[[[[[[[[[[[[[[ 1.38835231+0.07568526j]]]]]]]]]]]]]]]]]]]]]]]]]]]]]]]] [[[[[[[[[[[[[[[[[[[[[[[[[[[[[[[[ -1.36156851e-06 -7.52929810e-08j]]]]]]]]]]]]]]]]]]]]]]]]]]]]]]]] 9.5872\n",
        "\n",
        "\n",
        "calG ="
       ]
      },
      {
       "output_type": "stream",
       "stream": "stdout",
       "text": [
        " [-90.21445345-657.42053802j] calG* = [-90.21445345+657.42053802j]\n",
        "[-482.84215888]\n",
        "[ 4.30476682]\n",
        "[ 575.44680082]\n",
        "[-0.57004235]\n",
        "1st term = [ 48.16968321-1783.06845818j] 2nd term = [ 48.16968321+1783.06845818j]\n",
        "k0 =  0.00316227766017\n",
        "got Nics, hk0 and Dhk0\n",
        "starting from Nics\n",
        "22.505"
       ]
      },
      {
       "output_type": "stream",
       "stream": "stdout",
       "text": [
        " 22.505 [[[[[[[[[[[[[[[[[[[[[[[[[[[[[[[[ 0.24080183+0.01994403j]]]]]]]]]]]]]]]]]]]]]]]]]]]]]]]] [[[[[[[[[[[[[[[[[[[[[[[[[[[[[[[[ -2.36020735e-07 -1.97338152e-08j]]]]]]]]]]]]]]]]]]]]]]]]]]]]]]]] 10.7618\n",
        "\n",
        "\n",
        "calG ="
       ]
      },
      {
       "output_type": "stream",
       "stream": "stdout",
       "text": [
        " [-25.26263849-112.26638509j] calG* = [-25.26263849+112.26638509j]\n",
        "[-0.70548543]\n",
        "[ 0.0145183]\n",
        "[ 0.778993]\n",
        "[-0.00178122]\n",
        "1st term = [ 0.04312232-1.62276396j] 2nd term = [ 0.04312232+1.62276396j]\n",
        "k0 =  0.01\n",
        "got Nics, hk0 and Dhk0\n",
        "starting from Nics\n",
        "23.6796"
       ]
      },
      {
       "output_type": "stream",
       "stream": "stdout",
       "text": [
        " 23.6796 [[[[[[[[[[[[[[[[[[[[[[[[[[[[[[[[ 0.04173249+0.00464315j]]]]]]]]]]]]]]]]]]]]]]]]]]]]]]]] [[[[[[[[[[[[[[[[[[[[[[[[[[[[[[[[ -4.08804119e-08 -4.58069447e-09j]]]]]]]]]]]]]]]]]]]]]]]]]]]]]]]] 11.9364\n",
        "\n",
        "\n",
        "calG ="
       ]
      },
      {
       "output_type": "stream",
       "stream": "stdout",
       "text": [
        " [-6.02115543-19.02630192j] calG* = [-6.02115543+19.02630192j]\n",
        "[-0.00087525]\n",
        "[  3.25035931e-05]\n",
        "[ 0.00092314]\n",
        "[ -3.80910806e-06]\n",
        "1st term = [  3.82911983e-05-0.00147697j] 2nd term = [  3.82911983e-05+0.00147697j]\n",
        "k0 =  0.0316227766017\n",
        "got Nics, hk0 and Dhk0\n",
        "starting from Nics\n",
        "24.8535"
       ]
      },
      {
       "output_type": "stream",
       "stream": "stdout",
       "text": [
        " 24.8535 [[[[[[[[[[[[[[[[[[[[[[[[[[[[[[[[ 0.00727968+0.00050288j]]]]]]]]]]]]]]]]]]]]]]]]]]]]]]]] [[[[[[[[[[[[[[[[[[[[[[[[[[[[[[[[ -7.13713428e-09 -4.98635138e-10j]]]]]]]]]]]]]]]]]]]]]]]]]]]]]]]] 13.1103\n",
        "\n",
        "\n",
        "calG ="
       ]
      },
      {
       "output_type": "stream",
       "stream": "stdout",
       "text": [
        " [-0.62315612-3.42249839j] calG* = [-0.62315612+3.42249839j]\n",
        "[ -4.80799376e-07]\n",
        "[  6.88305890e-09]\n",
        "[  5.47242359e-07]\n",
        "[ -8.70471963e-10]\n",
        "1st term = [  3.62277847e-08 -1.35116244e-06j] 2nd term = [  3.62277847e-08 +1.35116244e-06j]\n",
        "k0 =  0.1\n",
        "got Nics, hk0 and Dhk0\n",
        "starting from Nics\n",
        "26.0281"
       ]
      },
      {
       "output_type": "stream",
       "stream": "stdout",
       "text": [
        " 26.0281 [[[[[[[[[[[[[[[[[[[[[[[[[[[[[[[[ 0.0012621+0.00012306j]]]]]]]]]]]]]]]]]]]]]]]]]]]]]]]] [[[[[[[[[[[[[[[[[[[[[[[[[[[[[[[[ -1.23667315e-09 -1.21558190e-10j]]]]]]]]]]]]]]]]]]]]]]]]]]]]]]]] 14.2849\n",
        "\n",
        "\n",
        "calG ="
       ]
      },
      {
       "output_type": "stream",
       "stream": "stdout",
       "text": [
        " [-0.15820085-0.58216554j] calG* = [-0.15820085+0.58216554j]\n",
        "[ -6.36088237e-10]\n",
        "[  1.81424778e-11]\n",
        "[  6.84707839e-10]\n",
        "[ -2.16991153e-12]\n",
        "1st term = [  3.22960838e-11 -1.22973197e-09j] 2nd term = [  3.22960838e-11 +1.22973197e-09j]\n",
        "k0 =  0.316227766017\n",
        "got Nics, hk0 and Dhk0\n",
        "starting from Nics\n",
        "27.202"
       ]
      },
      {
       "output_type": "stream",
       "stream": "stdout",
       "text": [
        " 27.202 [[[[[[[[[[[[[[[[[[[[[[[[[[[[[[[[ 0.00022003 +1.22298925e-05j]]]]]]]]]]]]]]]]]]]]]]]]]]]]]]]] [[[[[[[[[[[[[[[[[[[[[[[[[[[[[[[[ -2.15779453e-10 -1.21630008e-11j]]]]]]]]]]]]]]]]]]]]]]]]]]]]]]]] 15.4588\n",
        "\n",
        "\n",
        "calG ="
       ]
      },
      {
       "output_type": "stream",
       "stream": "stdout",
       "text": [
        " [-0.01463159-0.10414138j] calG* = [-0.01463159+0.10414138j]\n",
        "[ -3.11712371e-13]\n",
        "[  2.88912004e-15]\n",
        "[  3.69957827e-13]\n",
        "[ -3.80996741e-16]\n",
        "1st term = [  3.03767901e-14 -1.12499792e-12j] 2nd term = [  3.03767901e-14 +1.12499792e-12j]\n"
       ]
      }
     ],
     "prompt_number": 13
    },
    {
     "cell_type": "code",
     "collapsed": false,
     "input": [
      "k_list = numpy.array([10**((-12 + i)/2.) for i in range(12)])\n",
      "#print len(k_list), len(k_vs_hkhk)\n",
      "TPS = [2.*(k_list[i])**3/(2*numpy.pi**2)*(numpy.absolute(k_vs_hk[i]))**2 for i in range(len(k_list))]\n",
      "print k_list, TPS\n",
      "\n",
      "plt.semilogx(k_list, TPS)\n",
      "#plt.savefig('power_spectrum_power_law.png')"
     ],
     "language": "python",
     "metadata": {},
     "outputs": [
      {
       "output_type": "stream",
       "stream": "stdout",
       "text": [
        "[  1.00000000e-06   3.16227766e-06   1.00000000e-05   3.16227766e-05\n",
        "   1.00000000e-04   3.16227766e-04   1.00000000e-03   3.16227766e-03\n",
        "   1.00000000e-02   3.16227766e-02   1.00000000e-01   3.16227766e-01] [2.5821941907802699e-10, 2.4659731365128929e-10, 2.3549879152586084e-10, 2.2489984949199331e-10, 2.1477735946718945e-10, 2.051109821230231e-10, 1.9587921902781689e-10, 1.8706338295116788e-10, 1.7864545276471939e-10, 1.7060527236939555e-10, 1.6292789046117977e-10, 1.5559474751003647e-10]\n"
       ]
      },
      {
       "metadata": {},
       "output_type": "pyout",
       "prompt_number": 14,
       "text": [
        "[<matplotlib.lines.Line2D at 0xaf02312c>]"
       ]
      },
      {
       "metadata": {},
       "output_type": "display_data",
       "png": "[encoded data removed]",
       "text": [
        "<matplotlib.figure.Figure at 0xaf0502ec>"
       ]
      }
     ],
     "prompt_number": 14
    },
    {
     "cell_type": "code",
     "collapsed": false,
     "input": [
      "calG_array = numpy.array([ -6.08581623e+08 -5.38030260e+08j, -1.05856925e+08-93389839.50443056j,-18413885.99859421-16208939.26440895j,-3203364.81995761-2812979.47120421j,-557293.72854343-488144.71633945j,-96964.87485232-84694.97654026j,-16868.08354141-14698.34301136j,-2934.37733371-2550.80743039j,-510.46391768-442.67551198j,-88.79958388-76.82297033j,-15.44712404-13.33239017j,-2.68691879-2.31401922j], dtype=complex)"
     ],
     "language": "python",
     "metadata": {},
     "outputs": [],
     "prompt_number": 21
    },
    {
     "cell_type": "code",
     "collapsed": false,
     "input": [
      "plt.loglog(k_list, numpy.absolute(calG_array))"
     ],
     "language": "python",
     "metadata": {},
     "outputs": [
      {
       "metadata": {},
       "output_type": "pyout",
       "prompt_number": 22,
       "text": [
        "[<matplotlib.lines.Line2D at 0xada2754c>]"
       ]
      },
      {
       "metadata": {},
       "output_type": "display_data",
       "png": "[encoded data removed]",
       "text": [
        "<matplotlib.figure.Figure at 0xada3daec>"
       ]
      }
     ],
     "prompt_number": 22
    },
    {
     "cell_type": "code",
     "collapsed": false,
     "input": [
      "plt.loglog(k_list, (k_list**(3./2))*numpy.absolute(calG_array))"
     ],
     "language": "python",
     "metadata": {},
     "outputs": [
      {
       "metadata": {},
       "output_type": "pyout",
       "prompt_number": 23,
       "text": [
        "[<matplotlib.lines.Line2D at 0xad45104c>]"
       ]
      },
      {
       "metadata": {},
       "output_type": "display_data",
       "png": "[encoded data removed]",
       "text": [
        "<matplotlib.figure.Figure at 0xad63e44c>"
       ]
      }
     ],
     "prompt_number": 23
    },
    {
     "cell_type": "code",
     "collapsed": false,
     "input": [
      "print G_array"
     ],
     "language": "python",
     "metadata": {},
     "outputs": [
      {
       "output_type": "stream",
       "stream": "stdout",
       "text": [
        "[  1.62476364e+20+0.j   1.52735261e+17+0.j   1.36751212e+14+0.j\n",
        "   1.21481336e+11+0.j   1.14894889e+08+0.j   1.02454731e+05+0.j\n",
        "   9.63393664e+01+0.j   8.62446438e-02+0.j   7.65823967e-05+0.j\n",
        "   7.24555695e-08+0.j   6.45921677e-11+0.j   6.07535803e-14+0.j]\n"
       ]
      }
     ],
     "prompt_number": 22
    },
    {
     "cell_type": "code",
     "collapsed": false,
     "input": [
      "plt.loglog(k_list, G_array.real)\n",
      "plt.title(r\"$k$ vs $G$ in the equilateral limit\")\n",
      "plt.xlabel(r\"$k$\")\n",
      "plt.ylabel(r\"$G$\")\n",
      "plt.savefig(\"G_equilateral_lt.png\")"
     ],
     "language": "python",
     "metadata": {},
     "outputs": [
      {
       "metadata": {},
       "output_type": "display_data",
       "png": "[encoded data removed]",
       "text": [
        "<matplotlib.figure.Figure at 0xaf0a2acc>"
       ]
      }
     ],
     "prompt_number": 15
    },
    {
     "cell_type": "code",
     "collapsed": false,
     "input": [
      "plt.loglog(k_list, (k_list**6)*G_array.real)\n",
      "plt.title(r\"$k$ vs $k^6*G$ in the equilateral limit\")\n",
      "plt.xlabel(r\"$k$\")\n",
      "plt.ylabel(r\"$k^6*G$\")\n",
      "plt.savefig(\"k6G_equilateral_lt.png\")"
     ],
     "language": "python",
     "metadata": {},
     "outputs": [
      {
       "metadata": {},
       "output_type": "display_data",
       "png": "[encoded data removed]",
       "text": [
        "<matplotlib.figure.Figure at 0xae8897ec>"
       ]
      }
     ],
     "prompt_number": 16
    },
    {
     "cell_type": "code",
     "collapsed": false,
     "input": [
      "h_NL = (-1./6)*((4./(2.*numpy.pi**2))**2)*(k_list**6)*G_array/(numpy.asarray(TPS)*numpy.asarray(TPS))"
     ],
     "language": "python",
     "metadata": {},
     "outputs": [],
     "prompt_number": 20
    },
    {
     "cell_type": "code",
     "collapsed": false,
     "input": [
      "plt.semilogx(k_list, h_NL.real)\n",
      "plt.title(r\"$k$ vs $h_{NL}$ in the equilateral limit\")\n",
      "plt.xlabel(r\"$k$\")\n",
      "plt.ylabel(r\"$h_{NL}$\")\n",
      "plt.savefig(\"h_NL_equilateral_lt.png\")"
     ],
     "language": "python",
     "metadata": {},
     "outputs": [
      {
       "metadata": {},
       "output_type": "display_data",
       "png": "[encoded data removed]",
       "text": [
        "<matplotlib.figure.Figure at 0xae86f76c>"
       ]
      }
     ],
     "prompt_number": 21
    },
    {
     "cell_type": "code",
     "collapsed": false,
     "input": [
      "print k_list, '\\n', TPS, '\\n', calG_array,'\\n',G_array, '\\n', h_NL"
     ],
     "language": "python",
     "metadata": {},
     "outputs": [
      {
       "output_type": "stream",
       "stream": "stdout",
       "text": [
        "[  1.00000000e-06   3.16227766e-06   1.00000000e-05   3.16227766e-05\n",
        "   1.00000000e-04   3.16227766e-04   1.00000000e-03   3.16227766e-03\n",
        "   1.00000000e-02   3.16227766e-02   1.00000000e-01   3.16227766e-01\n",
        "   1.00000000e+00] \n",
        "[4.4134926313267251e-10, 4.2148610300293617e-10, 4.0251620278274973e-10, 3.8440126302237239e-10, 3.6710031529231582e-10, 3.5057782617922565e-10, 3.3479929115996324e-10, 3.1973089857898339e-10, 3.0534066887441402e-10, 2.9159740412853552e-10, 2.7847305495189162e-10, 2.6594020294984701e-10, 2.5397098422575646e-10] \n",
        "[ -6.08581623e+08 -5.38030260e+08j  -1.05856925e+08 -9.33898395e+07j\n",
        "  -1.84138860e+07 -1.62089393e+07j  -3.20336482e+06 -2.81297947e+06j\n",
        "  -5.57293729e+05 -4.88144716e+05j  -9.69648749e+04 -8.46949765e+04j\n",
        "  -1.68680835e+04 -1.46983430e+04j  -2.93437733e+03 -2.55080743e+03j\n",
        "  -5.10463918e+02 -4.42675512e+02j  -8.87995839e+01 -7.68229703e+01j\n",
        "  -1.54471240e+01 -1.33323902e+01j  -2.68691879e+00 -2.31401922e+00j\n",
        "  -4.67352740e-01 -4.01646130e-01j] \n",
        "[  3.24592911e+19+0.j   2.95677823e+16+0.j   2.69315348e+13+0.j\n",
        "   2.45277941e+10+0.j   2.23370409e+07+0.j   2.03384254e+04+0.j\n",
        "   1.85230936e+01+0.j   1.68697327e-02+0.j   1.53638963e-05+0.j\n",
        "   1.39924025e-08+0.j   1.27436777e-11+0.j   1.16075237e-14+0.j\n",
        "   1.05731361e-17+0.j] \n",
        "[ -5.03345135e-10+0.j  -4.80114412e-10+0.j  -4.57917233e-10+0.j\n",
        "  -4.36699742e-10+0.j  -4.16437789e-10+0.j  -3.97047195e-10+0.j\n",
        "  -3.78650245e-10+0.j  -3.61104453e-10+0.j  -3.44370519e-10+0.j\n",
        "  -3.28411143e-10+0.j  -3.13199348e-10+0.j  -2.98720366e-10+0.j\n",
        "  -2.84923958e-10+0.j]"
       ]
      },
      {
       "output_type": "stream",
       "stream": "stdout",
       "text": [
        "\n"
       ]
      }
     ],
     "prompt_number": 41
    },
    {
     "cell_type": "code",
     "collapsed": false,
     "input": [
      "k_list = numpy.array([  1.00000000e-06,   3.16227766e-06,   1.00000000e-05,   3.16227766e-05,\n",
      "   1.00000000e-04,   3.16227766e-04,   1.00000000e-03,   3.16227766e-03,\n",
      "   1.00000000e-02,   3.16227766e-02,   1.00000000e-01,   3.16227766e-01,\n",
      "   1.00000000e+00])\n",
      "TPS = numpy.array([4.4134926313267251e-10, 4.2148610300293617e-10, 4.0251620278274973e-10, 3.8440126302237239e-10, 3.6710031529231582e-10, 3.5057782617922565e-10, 3.3479929115996324e-10, 3.1973089857898339e-10, 3.0534066887441402e-10, 2.9159740412853552e-10, 2.7847305495189162e-10, 2.6594020294984701e-10, 2.5397098422575646e-10])\n",
      "G_array = numpy.array([  3.24592911e+19+0.j,   2.95677823e+16+0.j,   2.69315348e+13+0.j,\n",
      "   2.45277941e+10+0.j,   2.23370409e+07+0.j,   2.03384254e+04+0.j,\n",
      "   1.85230936e+01+0.j,   1.68697327e-02+0.j,   1.53638963e-05+0.j,\n",
      "   1.39924025e-08+0.j,   1.27436777e-11+0.j,   1.16075237e-14+0.j,\n",
      "   1.05731361e-17+0.j])"
     ],
     "language": "python",
     "metadata": {},
     "outputs": [],
     "prompt_number": 3
    },
    {
     "cell_type": "code",
     "collapsed": false,
     "input": [
      "h_NL = (-1./3)*(4.**2/(2.*numpy.pi)**(1./2))*(k_list**3)*G_array/TPS"
     ],
     "language": "python",
     "metadata": {},
     "outputs": [],
     "prompt_number": 4
    },
    {
     "cell_type": "code",
     "collapsed": false,
     "input": [
      "plt.semilogx(k_list[3:], numpy.real(h_NL[3:]))"
     ],
     "language": "python",
     "metadata": {},
     "outputs": [
      {
       "metadata": {},
       "output_type": "pyout",
       "prompt_number": 8,
       "text": [
        "[<matplotlib.lines.Line2D at 0xaf0c14cc>]"
       ]
      },
      {
       "metadata": {},
       "output_type": "display_data",
       "png": "[encoded data removed]",
       "text": [
        "<matplotlib.figure.Figure at 0xaed5558c>"
       ]
      }
     ],
     "prompt_number": 8
    },
    {
     "cell_type": "code",
     "collapsed": false,
     "input": [],
     "language": "python",
     "metadata": {},
     "outputs": []
    }
   ],
   "metadata": {}
  }
 ]
}