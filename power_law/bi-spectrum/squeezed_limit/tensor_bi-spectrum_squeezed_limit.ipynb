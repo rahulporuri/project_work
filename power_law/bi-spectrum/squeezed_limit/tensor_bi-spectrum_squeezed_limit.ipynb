{
 "metadata": {
  "name": "",
  "signature": "sha256:feb1e7a5af7956eece9cef5602d81fa6ee8ece8d0b26590075622bb0cf9874f0"
 },
 "nbformat": 3,
 "nbformat_minor": 0,
 "worksheets": [
  {
   "cells": [
    {
     "cell_type": "code",
     "collapsed": false,
     "input": [
      "import numpy\n",
      "import matplotlib.pyplot as plt\n",
      "from scipy.integrate import simps"
     ],
     "language": "python",
     "metadata": {},
     "outputs": [],
     "prompt_number": 1
    },
    {
     "cell_type": "code",
     "collapsed": false,
     "input": [
      "%matplotlib inline\n",
      "\n",
      "plt.rc('text', usetex=True)\n",
      "plt.rc('font', family='serif')"
     ],
     "language": "python",
     "metadata": {},
     "outputs": [],
     "prompt_number": 2
    },
    {
     "cell_type": "code",
     "collapsed": false,
     "input": [
      "q = 51.\n",
      "V0 = (204./100.)*1e-08\n",
      "t0 = (q*(3.*q -1.)/V0)**(1./2)\n",
      "\n",
      "phi0 = 1.\n",
      "dphi0 = (2.*q)**(1./2)/t0\n",
      "\n",
      "Ni = 0.\n",
      "Nf = 70."
     ],
     "language": "python",
     "metadata": {},
     "outputs": [],
     "prompt_number": 3
    },
    {
     "cell_type": "markdown",
     "metadata": {},
     "source": [
      "Note that in this code, I use the prefix 'd' to represent derivative with respect to time (except for the case of dV where the derivative is with respect to phi) and the prefix 'D' to represent derivative with respect to e-fold N. Also, the suffix '0' is used to represent the initial conditions in various cases. Also, as can be seen here, we evaluate the scalar field in the e-fold N range Ni to Nf."
     ]
    },
    {
     "cell_type": "code",
     "collapsed": false,
     "input": [
      "V = lambda _phi : V0*numpy.exp(-(2./q)**(1./2)*(_phi -phi0))\n",
      "dV = lambda _phi : -(2./q)**(1./2)*V0*numpy.exp(-(2./q)**(1./2)*(_phi -phi0))\n",
      "\n",
      "''' Functions to evaluate the values of the potential function V(phi)\n",
      "and the derivative of V with respect to phi.\n",
      "Note that functions can be defined using the lambda notation, as shown \n",
      "above or using the usual def and return statements, as shown below.'''\n",
      "\n",
      "H0 = ((1./3)*(dphi0**2/2. +V(phi0)))**(1./2.)\n",
      "Dphi0 = dphi0/H0\n",
      "\n",
      "def DDphi(_N, _phi, _Dphi):\n",
      "    ''' Returns the value of the second derivative of \n",
      "    phi with respect to e-fold N.'''\n",
      "    return -(3 -_Dphi**2/2.)*_Dphi -(dV(_phi)/(2*V(_phi)))*(6 -_Dphi**2)\n",
      "\n",
      "def rk4_step(_N, _phi, _Dphi, _step):\n",
      "    ''' Returns 2 values, the first of the two is the value by which phi \n",
      "    needs to be updated and the second of the two is the value by which the \n",
      "    first derivative of phi with respect to e-fold N needs to be updated.'''\n",
      "    F1 = _Dphi\n",
      "    f1 = DDphi(_N, _phi, _Dphi)\n",
      "    F2 = _Dphi +f1*_step/2.\n",
      "    f2 = DDphi(_N +_step/2., _phi +F1*_step/2., _Dphi +f1*_step/2.)\n",
      "    F3 = _Dphi +f2*step/2.\n",
      "    f3 = DDphi(_N +_step/2., _phi +F2*_step/2., _Dphi +f2*_step/2.)\n",
      "    F4 = _Dphi +f3*step\n",
      "    f4 = DDphi(_N +_step, _phi +F3*_step, _Dphi +f3*_step)  \n",
      "\n",
      "    return (F1 +2*F2 +2*F3 +F4)*_step/6., (f1 +2*f2 +2*f3 +f4)*_step/6. # [phi, Dphi] update"
     ],
     "language": "python",
     "metadata": {},
     "outputs": [],
     "prompt_number": 4
    },
    {
     "cell_type": "code",
     "collapsed": false,
     "input": [
      "'''We evolve the scalar field phi for e-fold N ranging from Ni to Nf.'''\n",
      "npts = 50000\n",
      "step = (Nf-Ni)/(npts)\n",
      "\n",
      "phi_ = phi0\n",
      "Dphi_ = Dphi0\n",
      "\n",
      "phi_array = numpy.empty(0)\n",
      "Dphi_array = numpy.empty(0)\n",
      "N_array = numpy.empty(0)\n",
      "\n",
      "N = Ni\n",
      "while N < Nf +step:\n",
      "    phi_array = numpy.append(phi_array, phi_)\n",
      "    Dphi_array = numpy.append(Dphi_array, Dphi_)\n",
      "    N_array = numpy.append(N_array, N)\n",
      "    \n",
      "    phi_update, Dphi_update = rk4_step(N, phi_, Dphi_, step)\n",
      "    phi_ = phi_ + phi_update\n",
      "    Dphi_ = Dphi_ + Dphi_update\n",
      "    \n",
      "    N += step"
     ],
     "language": "python",
     "metadata": {},
     "outputs": [],
     "prompt_number": 5
    },
    {
     "cell_type": "code",
     "collapsed": false,
     "input": [
      "N_new = numpy.linspace(Ni,Nf,1000001)\n",
      "phi_array_new = numpy.interp(N_new, N_array, phi_array)\n",
      "Dphi_array_new = numpy.interp(N_new, N_array, Dphi_array)\n",
      "\n",
      "phi_array = phi_array_new\n",
      "Dphi_array = Dphi_array_new\n",
      "N_array = N_new\n",
      "step = (Nf-Ni)/(1000000)"
     ],
     "language": "python",
     "metadata": {},
     "outputs": [],
     "prompt_number": 15
    },
    {
     "cell_type": "code",
     "collapsed": false,
     "input": [
      "phi = lambda _N : phi_array[int((_N-Ni)/step)]\n",
      "Dphi = lambda _N : Dphi_array[int((_N-Ni)/step)]\n",
      "\n",
      "H = lambda _N : (V(phi(_N))/(3 -Dphi(_N)**2/2))**(1./2)\n",
      "DH = lambda _N : -(1./2)*H(_N)*Dphi(_N)**2.\n",
      "\n",
      "'''The above functions let us access the values of H(N) and DH(N) \n",
      "when we try to evaluate the tensor perturbations h_k. We have obtained \n",
      "these values from the phi and Dphi values earlier.'''\n",
      "\n",
      "ai = 1e-05\n",
      "A = lambda _N : ai*numpy.exp(_N)\n",
      "'''The scale factor in terms of e-fold N.'''"
     ],
     "language": "python",
     "metadata": {},
     "outputs": [
      {
       "metadata": {},
       "output_type": "pyout",
       "prompt_number": 7,
       "text": [
        "'The scale factor in terms of e-fold N.'"
       ]
      }
     ],
     "prompt_number": 7
    },
    {
     "cell_type": "code",
     "collapsed": false,
     "input": [
      "def DDhk(_k, _N, _hk, _Dhk):\n",
      "    '''Returns the value of the second derivative of the tensor perturbatons\n",
      "    h_k th respec to e-fold N. We need this value when we are trying to \n",
      "    evluate h_k'''\n",
      "    return -((3. +(DH(_N)/H(_N)))*_Dhk +((_k/(A(_N)*H(_N)))**2)*_hk)\n",
      "\n",
      "\n",
      "def rk4_step(_k, _N, _hk, _Dhk, _step):\n",
      "    '''a runge-kutta 4 stepper function that returns the value by which\n",
      "    h_k nd Dh_k need to be updated.'''\n",
      "    F1 = _Dhk\n",
      "    f1 = DDhk(_k, _N, _hk, _Dhk)\n",
      "    F2 = _Dhk +f1*_step/2.\n",
      "    f2 = DDhk(_k, _N +_step/2., _hk +F1*_step/2., _Dhk +f1*_step/2.)\n",
      "    F3 = _Dhk +f2*_step/2.\n",
      "    f3 = DDhk(_k, _N +_step/2., _hk +F2*_step/2., _Dhk +f2*_step/2.)\n",
      "    F4 = _Dhk +f3*_step\n",
      "    f4 = DDhk(_k, _N +_step, _hk +F3*_step, _Dhk +f3*_step)\n",
      "\n",
      "    return (numpy.array([(f1 +2*f2 +2*f3 +f4)*_step/6.], dtype=complex),\n",
      "            numpy.array([(F1 +2*F2 +2*F3 +F4)*_step/6.], dtype=complex))\n",
      "            # [Dhk, hk] update"
     ],
     "language": "python",
     "metadata": {},
     "outputs": [],
     "prompt_number": 8
    },
    {
     "cell_type": "code",
     "collapsed": false,
     "input": [
      "def solve_Nics(k, eN_array):\n",
      "    '''Returns the value of e-fold N when the mode is\n",
      "    in the sub-Hubble domain, which we define as k/(A*H) =10^2.'''\n",
      "    Ni = eN_array[0]\n",
      "    step = eN_array[1] -eN_array[0]\n",
      "    Nics_temp = numpy.asarray([k - 1e+02*A(N)*H(N) for N in eN_array])\n",
      "    nics_test = numpy.where(Nics_temp > 0)\n",
      "    return Ni + nics_test[0][-1]*step\n",
      "\n",
      "def solve_Nshss(k, eN_array):\n",
      "    '''Returns the value of e-fold N when the mode is\n",
      "    in the super-Hubble domain, which we define as k/(A*H) =10^(-5).'''\n",
      "    Ni = eN_array[0]\n",
      "    step = eN_array[1] -eN_array[0]\n",
      "    Nshss_temp = numpy.asarray([k - 1e-05*A(N)*H(N) for N in eN_array])\n",
      "    nshss_test = numpy.where(Nshss_temp > 0)\n",
      "    return Ni + nshss_test[0][-1]*step\n",
      "\n",
      "def initialize_hk(k, _Nics):\n",
      "    '''Returns the value of h_k for the mode k at e-fold N of _Nics.\n",
      "    We obtain his value by imposing the Bunch-Davies initial conditions'''\n",
      "    hk0 = numpy.zeros(1,dtype=complex)             \n",
      "    hk0.real = (((2.*k)**(1./2))*A(_Nics))**(-1.)\n",
      "    return hk0\n",
      "\n",
      "def initialize_Dhk(k, _Nics):\n",
      "    '''Returns the value of h_k for the mode k at e-fold N of _Nshss.\n",
      "    We obtain his value by imposing the Bunch-Davies initial conditions'''\n",
      "    Dhk0 = numpy.zeros(1,dtype=complex)\n",
      "    Dhk0.real = -(1/A(_Nics))*((2*k)**(-1./2))\n",
      "    Dhk0.imag = -((k/2)**(1./2))/(A(_Nics)*A(_Nics)*H(_Nics))\n",
      "    return Dhk0"
     ],
     "language": "python",
     "metadata": {},
     "outputs": [],
     "prompt_number": 9
    },
    {
     "cell_type": "code",
     "collapsed": false,
     "input": [
      "def evolve_hk(k, _Nics, _Nshss, _step):    \n",
      "    '''Returns the values of h_k for the mode k for e-fold N ranging from\n",
      "    _Nics to _Nshss. We use the h_k values later on to estimate calG.'''\n",
      "    hk = numpy.empty(0, dtype=complex)\n",
      "    Dhk = numpy.empty(0, dtype=complex)\n",
      "    \n",
      "    hk = initialize_hk(k, _Nics)\n",
      "    Dhk = initialize_Dhk(k, _Nics)\n",
      "    \n",
      "    hk_array = numpy.empty(0, dtype=complex)\n",
      "    \n",
      "    N = _Nics\n",
      "    while N < _Nshss:\n",
      "        hk_array = numpy.append(hk_array, hk)\n",
      "\n",
      "        array = rk4_step(k, N, hk, Dhk, _step)\n",
      "        hk = hk + array[1]\n",
      "        Dhk = Dhk + array[0]\n",
      "\n",
      "        N += _step\n",
      "\n",
      "    return hk_array"
     ],
     "language": "python",
     "metadata": {},
     "outputs": [],
     "prompt_number": 10
    },
    {
     "cell_type": "code",
     "collapsed": false,
     "input": [
      "e = 10**(-1)\n",
      "\n",
      "def calG(hk_k1_array, hk_k2_array, hk_k3_array, k1, k2, k3, _Nics, _Nshss):\n",
      "    '''Returns the value of \\mathcal{G} which is in turn used to estimate G, the \n",
      "    tensor bi-spectrum. The integral is evaluated for e-fold N ranging from \n",
      "    _Nics till _Nshss. Note that the extra factor exp(-(e*k)/(A*H)) is put in by \n",
      "    hand to satisfy the consistency relation.'''\n",
      "    N_range = numpy.linspace(_Nics, _Nshss, len(hk_k1_array))\n",
      "    func_int = ((A(N_range)/numpy.asarray([H(N) for N in N_range]))*\n",
      "                (numpy.conj(hk_k1_array)*numpy.conj(hk_k2_array)*numpy.conj(hk_k3_array))*\n",
      "                (numpy.exp(-e*k2/(A(N_range)*numpy.asarray([H(N) for N in N_range])))))\n",
      "    result = simps(func_int, N_range)\n",
      "\n",
      "    return -(k1**2. +k2**2. +k3**2)/4.*result*numpy.array([0.+1.j], dtype=complex)\n",
      "\n",
      "def calG_cc(hk_k1_array, hk_k2_array, hk_k3_array, k1, k2, k3, _Nics, _Nshss):\n",
      "    '''Returns the value of the complex conjugate of \\mathcal{G} which is \n",
      "    in turn used to estimate G, the tensor bi-spectrum. The integral is \n",
      "    evaluated for e-fold N ranging from _Nics till _Nshss. Note that the \n",
      "    extra factor exp(-(e*k)/(A*H)) is put in by hand to satisfy the consistency relation.'''\n",
      "    N_range = numpy.linspace(_Nics, _Nshss, len(hk_k1_array))\n",
      "    func_int = ((A(N_range)/numpy.asarray([H(N) for N in N_range]))*\n",
      "                (hk_k1_array*hk_k2_array*hk_k3_array)*\n",
      "                (numpy.exp(-e*k2/(A(N_range)*numpy.asarray([H(N) for N in N_range])))))\n",
      "    result = simps(func_int, N_range)\n",
      "\n",
      "    return (k1**2. +k2**2. +k3**2)/4.*result*numpy.array([0.+1.j], dtype=complex)"
     ],
     "language": "python",
     "metadata": {},
     "outputs": [],
     "prompt_number": 11
    },
    {
     "cell_type": "code",
     "collapsed": false,
     "input": [
      "'''We first evolve the pseudo-zero mode 'k0' from Nics \n",
      "corresponding to k0 to Nshss corresponding to the largest mode.'''\n",
      "k0 = 1e-07\n",
      "Nics_k0 = solve_Nics(k0, N_array)\n",
      "print Nics_k0"
     ],
     "language": "python",
     "metadata": {},
     "outputs": [
      {
       "output_type": "stream",
       "stream": "stdout",
       "text": [
        "0.19334\n"
       ]
      }
     ],
     "prompt_number": 18
    },
    {
     "cell_type": "code",
     "collapsed": false,
     "input": [
      "'''We first evolve the pseudo-zero mode 'k0' from Nics \n",
      "corresponding to k0 to Nshss corresponding to the largest mode.'''\n",
      "k0 = 1e-07\n",
      "\n",
      "k_min = 1e-05\n",
      "k_max = 1e-01\n",
      "\n",
      "Nics_k0 = solve_Nics(k0, N_array)\n",
      "Nshss_k0 = solve_Nshss(k_max, N_array)\n",
      "\n",
      "hk_k0_array = numpy.empty(0, dtype=complex)\n",
      "hk_k0_array = evolve_hk(k0, Nics_k0, Nshss_k0, step)\n",
      "tps_k0 = 2.*(k0)**3./(2.*numpy.pi**2.)*(numpy.absolute(hk_k0_array[-1]))**2.\n",
      "\n",
      "print k0, Nics_k0, Nshss_k0, str(hk_k0_array[-1]).strip('[]'), str(tps_k0).strip('[]')"
     ],
     "language": "python",
     "metadata": {},
     "outputs": [
      {
       "output_type": "stream",
       "stream": "stdout",
       "text": [
        "1e-07 0.19334 30.72559 (1659053.84592+204731.298825j) 2.8312933881e-10\n"
       ]
      }
     ],
     "prompt_number": 19
    },
    {
     "cell_type": "code",
     "collapsed": false,
     "input": [
      "k_list = [10**((-24.+i)/4.) for i in range(21)]\n",
      "'''k_list contains the mode k = k1= k2.'''\n",
      "\n",
      "for ki in k_list:\n",
      "    Nics = solve_Nics(ki, N_array)\n",
      "    Nshss = solve_Nshss(ki, N_array)\n",
      "\n",
      "    hk_ki_array = numpy.empty(0, dtype=complex)\n",
      "    hk_ki_array = evolve_hk(ki, Nics, Nshss, step)\n",
      "    tps_ki = 2.*(ki)**3./(2.*numpy.pi**2.)*(numpy.absolute(hk_ki_array[-1]))**2.\n",
      "\n",
      "#    if int((Nshss -Nics_k0)/step) -int((Nics -Nics_k0)/step) == len(hk_ki_array):\n",
      "#        test_array= hk_k0_array[int((Nics -Nics_k0)/step):int((Nshss -Nics_k0)/step)]\n",
      "    test_array= hk_k0_array[int((Nics -Nics_k0)/step):int((Nics -Nics_k0)/step)+len(hk_ki_array)]\n",
      "\n",
      "    CalG = calG(test_array, hk_ki_array, hk_ki_array, k0, ki, ki, Nics, Nshss)\n",
      "    CalG_cc = calG_cc(test_array, hk_ki_array, hk_ki_array, k0, ki, ki, Nics, Nshss)\n",
      "\n",
      "    G = (test_array[-1]*hk_ki_array[-1]**2)*CalG +(numpy.conj(test_array[-1])*numpy.conj(hk_ki_array[-1])**2)*CalG_cc\n",
      "    h_NL = -(((4./(2.*numpy.pi**2.))**2.)*(k0**3.*ki**3.*ki**3.*G)/\n",
      "        (2*k0**3.*tps_ki*tps_ki +2.*ki**3.*tps_k0*tps_ki +2.*ki**3.*tps_k0*tps_ki))\n",
      "\n",
      "    print ki, Nics, Nshss, str(tps_ki).strip('[]')\n",
      "    print str(G).strip('[]'), str(h_NL).strip('[]')"
     ],
     "language": "python",
     "metadata": {},
     "outputs": [
      {
       "output_type": "stream",
       "stream": "stdout",
       "text": [
        "1e-06 2.54198 18.98239 2.58217201678e-10\n",
        " -4.91540495e+21+0.j"
       ]
      },
      {
       "output_type": "stream",
       "stream": "stdout",
       "text": [
        "  0.68990894-0.j\n",
        "1.77827941004e-06"
       ]
      },
      {
       "output_type": "stream",
       "stream": "stdout",
       "text": [
        " 3.12907 19.56955 2.52339415731e-10\n",
        " -8.48948499e+20+0.j  0.68592633-0.j\n",
        "3.16227766017e-06"
       ]
      },
      {
       "output_type": "stream",
       "stream": "stdout",
       "text": [
        " 3.71623 20.15671 2.46595601764e-10\n",
        " -1.47236556e+20+0.j  0.68460486-0.j\n",
        "5.6234132519e-06"
       ]
      },
      {
       "output_type": "stream",
       "stream": "stdout",
       "text": [
        " 4.30339 20.74387 2.40982678502e-10\n",
        " -2.55698365e+19+0.j  0.68415849-0.j\n",
        "1e-05"
       ]
      },
      {
       "output_type": "stream",
       "stream": "stdout",
       "text": [
        " 4.89055 21.33103 2.35497009014e-10\n",
        " -4.44264996e+18+0.j  0.68402528-0.j\n",
        "1.77827941004e-05"
       ]
      },
      {
       "output_type": "stream",
       "stream": "stdout",
       "text": [
        " 5.47771 21.91819 2.30136497976e-10\n",
        " -7.71996631e+17+0.j  0.68398332-0.j\n",
        "3.16227766017e-05"
       ]
      },
      {
       "output_type": "stream",
       "stream": "stdout",
       "text": [
        " 6.06487"
       ]
      },
      {
       "output_type": "stream",
       "stream": "stdout",
       "text": [
        " 22.50535 2.24897998768e-10\n",
        " -1.34154952e+17+0.j"
       ]
      },
      {
       "output_type": "stream",
       "stream": "stdout",
       "text": [
        "  0.68396952-0.j\n",
        "5.6234132519e-05"
       ]
      },
      {
       "output_type": "stream",
       "stream": "stdout",
       "text": [
        " 6.65203 23.09251 2.19778608379e-10\n",
        " -2.33133810e+16+0.j  0.68396752-0.j\n",
        "0.0001"
       ]
      },
      {
       "output_type": "stream",
       "stream": "stdout",
       "text": [
        " 7.23919 23.67967 2.14775961158e-10\n",
        " -4.05140834e+15+0.j  0.68396831-0.j\n",
        "0.000177827941004"
       ]
      },
      {
       "output_type": "stream",
       "stream": "stdout",
       "text": [
        " 7.82635 24.26683 2.09887007572e-10\n",
        " -7.04071917e+14+0.j  0.68398582-0.j\n",
        "0.000316227766017"
       ]
      },
      {
       "output_type": "stream",
       "stream": "stdout",
       "text": [
        " 8.41351"
       ]
      },
      {
       "output_type": "stream",
       "stream": "stdout",
       "text": [
        " 24.85399 2.05109328056e-10\n",
        " -1.22352886e+14+0.j"
       ]
      },
      {
       "output_type": "stream",
       "stream": "stdout",
       "text": [
        "  0.68398164-0.j\n",
        "0.00056234132519"
       ]
      },
      {
       "output_type": "stream",
       "stream": "stdout",
       "text": [
        " 9.00067 25.44115 2.00440478126e-10\n",
        " -2.12625754e+13+0.j"
       ]
      },
      {
       "output_type": "stream",
       "stream": "stdout",
       "text": [
        "  0.6839842-0.j\n",
        "0.001"
       ]
      },
      {
       "output_type": "stream",
       "stream": "stdout",
       "text": [
        " 9.58783 26.02831 1.95877896538e-10\n",
        " -3.69501249e+12+0.j"
       ]
      },
      {
       "output_type": "stream",
       "stream": "stdout",
       "text": [
        "  0.68398427-0.j\n",
        "0.00177827941004"
       ]
      },
      {
       "output_type": "stream",
       "stream": "stdout",
       "text": [
        " 10.17499 26.61547 1.91419172273e-10\n",
        " -6.42119677e+11+0.j"
       ]
      },
      {
       "output_type": "stream",
       "stream": "stdout",
       "text": [
        "  0.68398437-0.j\n",
        "0.00316227766017"
       ]
      },
      {
       "output_type": "stream",
       "stream": "stdout",
       "text": [
        " 10.76215 27.20263 1.87061940351e-10\n",
        " -1.11587618e+11+0.j  0.68398442-0.j\n",
        "0.0056234132519"
       ]
      },
      {
       "output_type": "stream",
       "stream": "stdout",
       "text": [
        " 11.34931 27.78979 1.82803891697e-10\n",
        " -1.93917087e+10+0.j  0.68398453-0.j\n",
        "0.01"
       ]
      },
      {
       "output_type": "stream",
       "stream": "stdout",
       "text": [
        " 11.93647 28.37695 1.78642767412e-10\n",
        " -3.36989299e+09+0.j  0.68398457-0.j\n",
        "0.0177827941004"
       ]
      },
      {
       "output_type": "stream",
       "stream": "stdout",
       "text": [
        " 12.52363 28.96411 1.74576361772e-10\n",
        " -5.85620376e+08+0.j  0.68398468-0.j\n",
        "0.0316227766017"
       ]
      },
      {
       "output_type": "stream",
       "stream": "stdout",
       "text": [
        " 13.11079 29.55127 1.7060251244e-10\n",
        " -1.01769170e+08+0.j"
       ]
      },
      {
       "output_type": "stream",
       "stream": "stdout",
       "text": [
        "  0.68398479-0.j\n",
        "0.056234132519"
       ]
      },
      {
       "output_type": "stream",
       "stream": "stdout",
       "text": [
        " 13.69795 30.13843 1.66719047418e-10\n",
        "-17685448.31857675+0.j  0.68398486-0.j\n",
        "0.1"
       ]
      },
      {
       "output_type": "stream",
       "stream": "stdout",
       "text": [
        " 14.28511 30.72559 1.62923921168e-10\n",
        "-3073370.5368658+0.j  0.68398362-0.j\n"
       ]
      }
     ],
     "prompt_number": 20
    },
    {
     "cell_type": "code",
     "collapsed": false,
     "input": [
      "data = numpy.array([[1e-06, 2.58217201678e-10, -4.91540495e+21,  0.68990894],\n",
      "[1.77827941004e-06, 2.52339415731e-10, -8.48948499e+20,  0.68592633],\n",
      "[3.16227766017e-06, 2.46595601764e-10, -1.47236556e+20,  0.68460486],\n",
      "[5.6234132519e-06, 2.40982678502e-10, -2.55698365e+19,  0.68415849],\n",
      "[1e-05, 2.35497009014e-10, -4.44264996e+18,  0.68402528,],\n",
      "[1.77827941004e-05, 2.30136497976e-10, -7.71996631e+17,  0.68398332],\n",
      "[3.16227766017e-05, 2.24897998768e-10, -1.34154952e+17,  0.68396952],\n",
      "[5.6234132519e-05, 2.19778608379e-10, -2.33133810e+16,  0.68396752],\n",
      "[0.0001, 2.14775961158e-10, -4.05140834e+15,  0.68396831,],\n",
      "[0.000177827941004, 2.09887007572e-10, -7.04071917e+14,  0.68398582],\n",
      "[0.000316227766017, 2.05109328056e-10, -1.22352886e+14,  0.68398164],\n",
      "[0.00056234132519, 2.00440478126e-10, -2.12625754e+13,  0.6839842],\n",
      "[0.001, 1.95877896538e-10, -3.69501249e+12,  0.68398427],\n",
      "[0.00177827941004, 1.91419172273e-10, -6.42119677e+11,  0.68398437],\n",
      "[0.00316227766017, 1.87061940351e-10, -1.11587618e+11,  0.68398442],\n",
      "[0.0056234132519, 1.82803891697e-10, -1.93917087e+10,  0.68398453],\n",
      "[0.01, 1.78642767412e-10, -3.36989299e+09,  0.68398457],\n",
      "[0.0177827941004, 1.74576361772e-10, -5.85620376e+08,  0.68398468],\n",
      "[0.0316227766017, 1.7060251244e-10, -1.01769170e+08,  0.68398479],\n",
      "[0.056234132519, 1.66719047418e-10, -17685448.31857675,  0.68398486],\n",
      "[0.1, 1.62923921168e-10, -3073370.5368658,  0.68398362]])"
     ],
     "language": "python",
     "metadata": {},
     "outputs": [],
     "prompt_number": 3
    },
    {
     "cell_type": "code",
     "collapsed": false,
     "input": [
      "k0 = 1e-07\n",
      "plt.semilogx([data[i][0] for i in range(len(data))],[-k0**3.*data[i][0]**3.*data[i][2] for i in range(len(data))],'.')"
     ],
     "language": "python",
     "metadata": {},
     "outputs": [
      {
       "metadata": {},
       "output_type": "pyout",
       "prompt_number": 12,
       "text": [
        "[<matplotlib.lines.Line2D at 0xaf30c22c>]"
       ]
      },
      {
       "metadata": {},
       "output_type": "display_data",
       "png": "[encoded data removed]",
       "text": [
        "<matplotlib.figure.Figure at 0xaf35840c>"
       ]
      }
     ],
     "prompt_number": 12
    },
    {
     "cell_type": "code",
     "collapsed": false,
     "input": [
      "plt.semilogx(data[:,0], data[:,3],'--')"
     ],
     "language": "python",
     "metadata": {},
     "outputs": [
      {
       "metadata": {},
       "output_type": "pyout",
       "prompt_number": 13,
       "text": [
        "[<matplotlib.lines.Line2D at 0xaf21308c>]"
       ]
      },
      {
       "metadata": {},
       "output_type": "display_data",
       "png": "[encoded data removed]",
       "text": [
        "<matplotlib.figure.Figure at 0xaf50c68c>"
       ]
      }
     ],
     "prompt_number": 13
    },
    {
     "cell_type": "code",
     "collapsed": false,
     "input": [
      "g = -2.02\n",
      "plt.semilogx(data[:,0], k0**(2.*(g+2.))*data[:,0]**(2.*(g+2.)),'.')"
     ],
     "language": "python",
     "metadata": {},
     "outputs": [
      {
       "metadata": {},
       "output_type": "pyout",
       "prompt_number": 11,
       "text": [
        "[<matplotlib.lines.Line2D at 0xaf3f780c>]"
       ]
      },
      {
       "metadata": {},
       "output_type": "display_data",
       "png": "[encoded data removed]",
       "text": [
        "<matplotlib.figure.Figure at 0xaf54c66c>"
       ]
      }
     ],
     "prompt_number": 11
    },
    {
     "cell_type": "code",
     "collapsed": false,
     "input": [
      "-(((4./(2.*numpy.pi**2.))**2.)*(data[:,0]**6.*data[:,2])/\n",
      "        (2*data[:,1]**2.))"
     ],
     "language": "python",
     "metadata": {},
     "outputs": [
      {
       "metadata": {},
       "output_type": "pyout",
       "prompt_number": 31,
       "text": [
        "array([  1.51362909e+03,   8.65648665e+03,   4.97136331e+04,\n",
        "         2.85881993e+05,   1.64475725e+06,   9.46400388e+06,\n",
        "         5.44585447e+07,   3.13375419e+08,   1.80328836e+09,\n",
        "         1.03771099e+10,   5.97136886e+10,   3.43617688e+11,\n",
        "         1.97731360e+12,   1.13782538e+13,   6.54750204e+13,\n",
        "         3.76769474e+14,   2.16808218e+15,   1.24760127e+16,\n",
        "         7.17919735e+16,   4.13119921e+17,   2.37725473e+18])"
       ]
      }
     ],
     "prompt_number": 31
    },
    {
     "cell_type": "code",
     "collapsed": false,
     "input": [
      "-(((4./(2.*numpy.pi**2.))**2.)*(data[:,0]**6.*data[:,2])/\n",
      "        (4.*data[:,0]**3.))"
     ],
     "language": "python",
     "metadata": {},
     "outputs": [
      {
       "metadata": {},
       "output_type": "pyout",
       "prompt_number": 32,
       "text": [
        "array([ 50.46145999,  49.00967855,  47.7987082 ,  46.67974342,\n",
        "        45.60816565,  44.56725793,  43.55191114,  42.56040681,\n",
        "        41.59168612,  40.64597366,  39.72050185,  38.81650022,\n",
        "        37.93293265,  37.06947948,  36.22567748,  35.40108622,\n",
        "        34.59526164,  33.8077827 ,  33.03822768,  32.28617398,  31.55116739])"
       ]
      }
     ],
     "prompt_number": 32
    },
    {
     "cell_type": "code",
     "collapsed": false,
     "input": [
      "-(((4./(2.*numpy.pi**2.))**2.)*(data[:,0]**3.*1e-07**3.*data[:,2])/\n",
      "        (2*data[:,1]**2.))"
     ],
     "language": "python",
     "metadata": {},
     "outputs": [
      {
       "metadata": {},
       "output_type": "pyout",
       "prompt_number": 26,
       "text": [
        "array([ 1.51362909,  1.5393652 ,  1.57208311,  1.60763259,  1.64475725,\n",
        "        1.68296432,  1.72213039,  1.76223948,  1.80328836,  1.84534008,\n",
        "        1.88831263,  1.93230426,  1.9773136 ,  2.02337144,  2.07050194,\n",
        "        2.11873045,  2.16808218,  2.21858365,  2.27026154,  2.32314404,\n",
        "        2.37725473])"
       ]
      }
     ],
     "prompt_number": 26
    },
    {
     "cell_type": "code",
     "collapsed": false,
     "input": [
      "-(((4./(2.*numpy.pi**2.))**2.)*(data[:,0]**3.*data[:,0]**3.*data[:,2])/\n",
      "        (2*data[:,1]*data[:,1] +4.*data[:,0]**3.*tps_k0*data[:,1]/k0**3.))"
     ],
     "language": "python",
     "metadata": {},
     "outputs": [
      {
       "metadata": {},
       "output_type": "pyout",
       "prompt_number": 33,
       "text": [
        "array([ 0.68990894,  0.68592633,  0.68460486,  0.68415849,  0.68402528,\n",
        "        0.68398332,  0.68396952,  0.68396752,  0.68396831,  0.68398582,\n",
        "        0.68398163,  0.6839842 ,  0.68398427,  0.68398437,  0.68398442,\n",
        "        0.68398452,  0.68398457,  0.68398468,  0.68398479,  0.68398486,\n",
        "        0.68398362])"
       ]
      }
     ],
     "prompt_number": 33
    },
    {
     "cell_type": "code",
     "collapsed": false,
     "input": [
      "-(((4./(2.*numpy.pi**2.))**2.)*(k0**3.*data[:,0]**3.*data[:,0]**3.*data[:,2])/\n",
      "        (2*k0**3.*data[:,1]*data[:,1] +2.*data[:,0]**3.*tps_k0*data[:,1] +2.*data[:,0]**3.*tps_k0*data[:,1]))"
     ],
     "language": "python",
     "metadata": {},
     "outputs": [
      {
       "metadata": {},
       "output_type": "pyout",
       "prompt_number": 30,
       "text": [
        "array([ 0.68990894,  0.68592633,  0.68460486,  0.68415849,  0.68402528,\n",
        "        0.68398332,  0.68396952,  0.68396752,  0.68396831,  0.68398582,\n",
        "        0.68398163,  0.6839842 ,  0.68398427,  0.68398437,  0.68398442,\n",
        "        0.68398452,  0.68398457,  0.68398468,  0.68398479,  0.68398486,\n",
        "        0.68398362])"
       ]
      }
     ],
     "prompt_number": 30
    },
    {
     "cell_type": "code",
     "collapsed": false,
     "input": [
      "print int((Nshss -Nics_k0)/step), int((Nics -Nics_k0)/step), int((Nshss -Nics_k0)/step) -int((Nics -Nics_k0)/step), len(hk_ki_array)"
     ],
     "language": "python",
     "metadata": {},
     "outputs": [
      {
       "output_type": "stream",
       "stream": "stdout",
       "text": [
        "220568 103136 117432 117433\n"
       ]
      }
     ],
     "prompt_number": 20
    },
    {
     "cell_type": "markdown",
     "metadata": {},
     "source": [
      "data = numpy.array([[3.16227766017e-05, 6.0648, 22.50528, 2.24897840799e-10, -1.98335245e+15, 0.68405594],\n",
      "[0.00056234132519, 9.0006, 25.44108, 2.00440398161e-10, -3.14293286e+11,  0.68395452],\n",
      "[0.0056234132519, 11.34924, 27.78972, 1.82803957134e-10, -2.86641252e+08,  0.68395964]])"
     ]
    },
    {
     "cell_type": "markdown",
     "metadata": {},
     "source": [
      "data = numpy.array([[1.77827941004e-06, 3.129, 19.5692, 2.52341524803e-10, -9.93059149e+17,  0.80949246],\n",
      "            [3.16227766017e-06, 3.7156, 20.1565, 2.46597066648e-10, -1.46295728e+17,  0.73476264],\n",
      "            [0.0001, 7.2387, 23.6796, 2.14777144694e-10, -3.69507018e+12,  0.68398486],\n",
      "            [0.000316227766017, 8.4133, 24.8535, 2.05110777129e-10, -1.11585259e+11,  0.68395949],\n",
      "            [0.001, 9.5872, 26.0281, 1.958790231e-10, -3.36957697e+09,  0.68391085],\n",
      "            [0.00316227766017, 10.7618, 27.202, 1.8706395945e-10, -1.01760098e+08,  0.68391355],\n",
      "            [0.01, 11.9364, 28.3766, 1.78645274272e-10, -3073363.60443186,  0.68396591],\n",
      "            [0.0177827941004, 12.523, 28.9639, 1.7458059727e-10, -534055.14516954,  0.68391507],\n",
      "            [0.056234132519, 13.6976, 30.1378, 1.66722813411e-10, -16128.56121174,  0.68393155]])"
     ]
    },
    {
     "cell_type": "markdown",
     "metadata": {},
     "source": [
      "data = numpy.array([[1e-06, 2.54198, 18.98232, 2.58217431307e-10, -8.24227786e+19,  0.75952885],\n",
      "[1.77827941004e-06, 3.129, 19.56948, 2.52339523319e-10, -1.30921249e+19,  0.71183654],\n",
      "[3.16227766017e-06, 3.71616, 20.15664, 2.46595575361e-10,  -2.20590582e+18,  0.69322571],\n",
      "[5.6234132519e-06, 4.30332, 20.7438, 2.40982359167e-10,  -3.79564447e+17,  0.68692187],\n",
      "[1e-05, 4.89048, 21.33096, 2.35496947853e-10, -6.57667378e+16,  0.68499307],\n",
      "[1.77827941004e-05, 5.47764, 21.91812, 2.30136383665e-10,  -1.14166845e+16,  0.68427389],\n",
      "[3.16227766017e-05, 6.0648, 22.50528, 2.24897840799e-10,  -1.98335245e+15,  0.68405594],\n",
      "[5.6234132519e-05, 6.65196, 23.09244, 2.19778541715e-10,  -3.44633382e+14,  0.68398939],\n",
      "[0.0001, 7.23912, 23.6796, 2.14775772104e-10,  -5.98886240e+13,  0.68396899],\n",
      "[0.000177827941004, 7.82628, 24.26676, 2.09886879468e-10,  -1.04073503e+13,  0.68396244],\n",
      "[0.000316227766017, 8.41344, 24.85392, 2.05109271763e-10,  -1.80858483e+12,  0.68396042],\n",
      "[0.00056234132519, 9.0006, 25.44108, 2.00440398161e-10,  -3.14293286e+11,  0.68395452],\n",
      "[0.001, 9.58776, 26.02824, 1.95877838364e-10,  -5.46183292e+10,  0.68395965],\n",
      "[0.00177827941004, 10.17492, 26.6154, 1.91419122752e-10,  -9.49157799e+09,  0.68395964],\n",
      "[0.00316227766017, 10.76208, 27.20256, 1.87061917491e-10,  -1.64944772e+09,  0.68395975],\n",
      "[0.0056234132519, 11.34924, 27.78972, 1.82803957134e-10,  -2.86641252e+08,  0.68395964],\n",
      "[0.01, 11.9364, 28.37688, 1.78643122142e-10, -49812622.72859812,  0.68395965],\n",
      "[0.0177827941004, 12.52356, 28.96404, 1.74576947857e-10, -8656482.12586334,  0.68396191],\n",
      "[0.0316227766017, 13.11072, 29.5512, 1.70603052663e-10, -1504319.40746407,  0.68395989],\n",
      "[0.056234132519, 13.69788, 30.13836, 1.66719500405e-10, -261422.10683686,  0.68396407],\n",
      "[0.1, 14.28504, 30.72552, 1.62924656867e-10, -45429.65357104,  0.68395887]])"
     ]
    },
    {
     "cell_type": "code",
     "collapsed": false,
     "input": [
      "%matplotlib inline"
     ],
     "language": "python",
     "metadata": {},
     "outputs": [],
     "prompt_number": 24
    },
    {
     "cell_type": "code",
     "collapsed": false,
     "input": [
      "plt.loglog([data[i][0] for i in range(len(data))],[-data[i][0]**6.*data[i][4] for i in range(len(data))],'.')"
     ],
     "language": "python",
     "metadata": {},
     "outputs": [
      {
       "metadata": {},
       "output_type": "pyout",
       "prompt_number": 25,
       "text": [
        "[<matplotlib.lines.Line2D at 0xaea2fc6c>]"
       ]
      },
      {
       "metadata": {},
       "output_type": "display_data",
       "png": "[encoded data removed]",
       "text": [
        "<matplotlib.figure.Figure at 0xaecdc3ec>"
       ]
      }
     ],
     "prompt_number": 25
    },
    {
     "cell_type": "code",
     "collapsed": false,
     "input": [
      "plt.loglog([data[i][0] for i in range(len(data))],[-data[i][4] for i in range(len(data))],'.')"
     ],
     "language": "python",
     "metadata": {},
     "outputs": [
      {
       "metadata": {},
       "output_type": "pyout",
       "prompt_number": 26,
       "text": [
        "[<matplotlib.lines.Line2D at 0xae5e3f4c>]"
       ]
      },
      {
       "metadata": {},
       "output_type": "display_data",
       "png": "[encoded data removed]",
       "text": [
        "<matplotlib.figure.Figure at 0xaec7656c>"
       ]
      }
     ],
     "prompt_number": 26
    },
    {
     "cell_type": "code",
     "collapsed": false,
     "input": [
      "plt.semilogx([data[i][0] for i in range(len(data))],[data[i][5] for i in range(len(data))],'.')"
     ],
     "language": "python",
     "metadata": {},
     "outputs": [
      {
       "metadata": {},
       "output_type": "pyout",
       "prompt_number": 29,
       "text": [
        "[<matplotlib.lines.Line2D at 0xaeb1b12c>]"
       ]
      },
      {
       "metadata": {},
       "output_type": "display_data",
       "png": "[encoded data removed]",
       "text": [
        "<matplotlib.figure.Figure at 0xae4ba0ec>"
       ]
      }
     ],
     "prompt_number": 29
    },
    {
     "cell_type": "code",
     "collapsed": false,
     "input": [
      "[-data[i][0]**3.*data[i][4] for i in range(len(data))]"
     ],
     "language": "python",
     "metadata": {},
     "outputs": [
      {
       "metadata": {},
       "output_type": "pyout",
       "prompt_number": 27,
       "text": [
        "[82.422778599999987,\n",
        " 73.622428658369444,\n",
        " 69.756866950321353,\n",
        " 67.497164088165292,\n",
        " 65.766737800000016,\n",
        " 64.200734910217847,\n",
        " 62.719111448848643,\n",
        " 61.285444722153748,\n",
        " 59.888624000000014,\n",
        " 58.524831594328141,\n",
        " 57.192474044372176,\n",
        " 55.890127920623357,\n",
        " 54.618329200000005,\n",
        " 53.375065450538493,\n",
        " 52.160116765796886,\n",
        " 50.972823649842894,\n",
        " 49.812622728598129,\n",
        " 48.67897630153405,\n",
        " 47.570756559886767,\n",
        " 46.488154991611793,\n",
        " 45.429653571040006]"
       ]
      }
     ],
     "prompt_number": 27
    },
    {
     "cell_type": "code",
     "collapsed": false,
     "input": [],
     "language": "python",
     "metadata": {},
     "outputs": []
    }
   ],
   "metadata": {}
  }
 ]
}