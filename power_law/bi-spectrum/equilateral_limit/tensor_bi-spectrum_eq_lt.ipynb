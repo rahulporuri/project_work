{
 "metadata": {
  "name": "",
  "signature": "sha256:c32a924338ee3cf2fea07391138d8a331592cd77eaee011d32a8a28961b2ee82"
 },
 "nbformat": 3,
 "nbformat_minor": 0,
 "worksheets": [
  {
   "cells": [
    {
     "cell_type": "code",
     "collapsed": false,
     "input": [
      "import numpy\n",
      "import matplotlib.pyplot as plt\n",
      "from scipy.integrate import simps\n",
      "\n",
      "import time\n",
      "import multiprocessing as mp\n",
      "import random\n",
      "import string"
     ],
     "language": "python",
     "metadata": {},
     "outputs": [],
     "prompt_number": 1
    },
    {
     "cell_type": "code",
     "collapsed": false,
     "input": [
      "parallel_output = mp.Queue()\n",
      "\n",
      "plt.rc('text', usetex=True)\n",
      "plt.rc('font', family='serif')"
     ],
     "language": "python",
     "metadata": {},
     "outputs": [],
     "prompt_number": 2
    },
    {
     "cell_type": "code",
     "collapsed": false,
     "input": [
      "q = 51.\n",
      "V0 = (204./100.)*1e-08\n",
      "t0 = (q*(3.*q -1.)/V0)**(1./2)\n",
      "\n",
      "phi0 = 1.\n",
      "dphi0 = (2.*q)**(1./2)/t0\n",
      "\n",
      "Ni = 0.\n",
      "Nf = 70."
     ],
     "language": "python",
     "metadata": {},
     "outputs": [],
     "prompt_number": 3
    },
    {
     "cell_type": "markdown",
     "metadata": {},
     "source": [
      "Note that in this code, I use the prefix 'd' to represent derivative with respect to \n",
      "time (except for the case of dV where the derivative is with respect to phi) and \n",
      "the prefix 'D' to represent derivative with respect to e-fold N. Also, the suffix '0' \n",
      "is used to represent the initial conditions in various cases. Also, as can be seen here, \n",
      "we evaluate the scalar field in the e-fold N range Ni to Nf."
     ]
    },
    {
     "cell_type": "code",
     "collapsed": false,
     "input": [
      "V = lambda phi : V0*numpy.exp(-(2./q)**(1./2)*(phi -phi0))\n",
      "dV = lambda phi : -(2./q)**(1./2)*V0*numpy.exp(-(2./q)**(1./2)*(phi -phi0))\n",
      "\n",
      "''' Functions to evaluate the values of the potential function V(phi)\n",
      "and the derivative of V with respect to phi.\n",
      "Note that functions can be defined using the lambda notation, as shown \n",
      "above or using the usual def and return statements, as shown below.'''\n",
      "\n",
      "H0 = ((1./3)*(dphi0**2/2. +V(phi0)))**(1./2.)\n",
      "Dphi0 = dphi0/H0"
     ],
     "language": "python",
     "metadata": {},
     "outputs": [],
     "prompt_number": 4
    },
    {
     "cell_type": "code",
     "collapsed": false,
     "input": [
      "def DDphi(N, phi0, Dphi0):\n",
      "    ''' Returns the value of the second derivative of \n",
      "    phi with respect to e-fold N.'''\n",
      "    return -(3 -Dphi0**2/2.)*Dphi0 -(dV(phi0)/(2*V(phi0)))*(6 -Dphi0**2)\n",
      "\n",
      "def rk4_step(N, phi0, Dphi0, step):\n",
      "    ''' Returns 2 values, the first of the two is the value by which phi \n",
      "    needs to be updated and the second of the two is the value by which the \n",
      "    first derivative of phi with respect to e-fold N needs to be updated.'''\n",
      "    F1 = Dphi0\n",
      "    f1 = DDphi(N, phi0, Dphi0)\n",
      "    F2 = Dphi0 +f1*step/2.\n",
      "    f2 = DDphi(N +step/2., phi0 +F1*step/2., Dphi0 +f1*step/2.)\n",
      "    F3 = Dphi0 +f2*step/2.\n",
      "    f3 = DDphi(N +step/2., phi0 +F2*step/2., Dphi0 +f2*step/2.)\n",
      "    F4 = Dphi0 +f3*step\n",
      "    f4 = DDphi(N +step, phi0 +F3*step, Dphi0 +f3*step)\n",
      "\n",
      "    return (F1 +2*F2 +2*F3 +F4)*step/6., (f1 +2*f2 +2*f3 +f4)*step/6. # [phi, Dphi] update"
     ],
     "language": "python",
     "metadata": {},
     "outputs": [],
     "prompt_number": 5
    },
    {
     "cell_type": "code",
     "collapsed": false,
     "input": [
      "'''We evolve the scalar field phi for e-fold N ranging from Ni to Nf.'''\n",
      "npts = 100000\n",
      "step = (Nf-Ni)/(npts)\n",
      "\n",
      "phi_ = phi0\n",
      "Dphi_ = Dphi0\n",
      "\n",
      "phi_array = numpy.empty(0)\n",
      "Dphi_array = numpy.empty(0)\n",
      "N_array = numpy.empty(0)\n",
      "\n",
      "N = Ni\n",
      "while N < Nf+step:\n",
      "    phi_array = numpy.append(phi_array, phi_)\n",
      "    Dphi_array = numpy.append(Dphi_array, Dphi_)\n",
      "    N_array = numpy.append(N_array, N)\n",
      "\n",
      "    phi_update, Dphi_update = rk4_step(N, phi_, Dphi_, step)\n",
      "    phi_ = phi_ + phi_update\n",
      "    Dphi_ = Dphi_ + Dphi_update\n",
      "    N += step"
     ],
     "language": "python",
     "metadata": {},
     "outputs": [],
     "prompt_number": 6
    },
    {
     "cell_type": "code",
     "collapsed": false,
     "input": [
      "phi = lambda N : phi_array[int((N-Ni)/step)]\n",
      "Dphi = lambda N : Dphi_array[int((N-Ni)/step)]\n",
      "\n",
      "H = lambda N : (V(phi(N))/(3 -Dphi(N)**2/2))**(1./2)\n",
      "DH = lambda N : -(1./2)*H(N)*Dphi(N)**2\n",
      "\n",
      "'''The above functions let us access the values of H(N) and DH(N) \n",
      "when we try to evaluate the tensor perturbations h_k. We have obtained \n",
      "these values from the phi and Dphi values earlier.'''\n",
      "\n",
      "ai = 1e-05\n",
      "A = lambda N : ai*numpy.exp(N)\n",
      "'''The scale factor in terms of e-fold N.'''"
     ],
     "language": "python",
     "metadata": {},
     "outputs": [
      {
       "metadata": {},
       "output_type": "pyout",
       "prompt_number": 7,
       "text": [
        "'The scale factor in terms of e-fold N.'"
       ]
      }
     ],
     "prompt_number": 7
    },
    {
     "cell_type": "code",
     "collapsed": false,
     "input": [
      "k0 = numpy.empty(0)\n",
      "\n",
      "def DDhk(k0, N, hk0, Dhk0):\n",
      "    '''Returns the value of the second derivative of the tensor perturbatons\n",
      "    h_k th respec to e-fold N. We need this value when we are trying to \n",
      "    evluate h_k'''\n",
      "    return -(3. +(DH(N)/H(N)))*Dhk0 -((k0/(A(N)*H(N)))**2)*hk0\n",
      "\n",
      "def rk4_step(k0, N, hk0, Dhk0, step):\n",
      "    '''a runge-kutta 4 stepper function that returns the value by which\n",
      "    h_k nd Dh_k need to be updated.'''\n",
      "    F1 = Dhk0\n",
      "    f1 = DDhk(k0, N, hk0, Dhk0)\n",
      "    F2 = Dhk0 +f1*step/2.\n",
      "    f2 = DDhk(k0, N +step/2., hk0 +F1*step/2., Dhk0 +f1*step/2.)\n",
      "    F3 = Dhk0 +f2*step/2.\n",
      "    f3 = DDhk(k0, N +step/2., hk0 +F2*step/2., Dhk0 +f2*step/2.)\n",
      "    F4 = Dhk0 +f3*step\n",
      "    f4 = DDhk(k0, N +step, hk0 +F3*step, Dhk0 +f3*step)\n",
      "\n",
      "    return numpy.array([(f1 +2*f2 +2*f3 +f4)*step/6.], dtype=complex), numpy.array([(F1 +2*F2 +2*F3 +F4)*step/6.], dtype=complex) # [Dhk, hk] update"
     ],
     "language": "python",
     "metadata": {},
     "outputs": [],
     "prompt_number": 8
    },
    {
     "cell_type": "code",
     "collapsed": false,
     "input": [
      "def solve_Nics(k0, N_array):\n",
      "    '''Returns the value of e-fold N when the mode is\n",
      "    in the sub-Hubble domain, which we define as k/(A*H) =10^2.'''\n",
      "    step = N_array[1] -N_array[0]\n",
      "    Nics_temp = numpy.asarray([k0 - 1e+02*A(N)*H(N) for N in N_array])\n",
      "    nics_test = numpy.where(Nics_temp > 0)\n",
      "    return Ni + nics_test[0][-1]*step\n",
      "\n",
      "def solve_Nshss(k0, N_array):\n",
      "    '''Returns the value of e-fold N when the mode is\n",
      "    in the super-Hubble domain, which we define as k/(A*H) =10^(-5).'''\n",
      "    step = N_array[1] -N_array[0]\n",
      "    Nshss_temp = numpy.asarray([k0 - 1e-05*A(N)*H(N) for N in N_array])\n",
      "    nshss_test = numpy.where(Nshss_temp > 0)\n",
      "    return Ni + nshss_test[0][-1]*step\n",
      "def initialize_hk(k0, Nics):\n",
      "    '''Returns the value of h_k for the mode k at e-fold N of _Nics.\n",
      "    We obtain his value by imposing the Bunch-Davies initial conditions'''\n",
      "    hk0 = numpy.zeros(1,dtype=complex)\n",
      "    hk0.real = (((2.*k0)**(1./2))*A(Nics))**(-1.)\n",
      "    return hk0\n",
      "\n",
      "def initialize_Dhk(k0, Nics):\n",
      "    '''Returns the value of h_k for the mode k at e-fold N of _Nshss.\n",
      "    We obtain his value by imposing the Bunch-Davies initial conditions'''\n",
      "    Dhk0 = numpy.zeros(1,dtype=complex)\n",
      "    Dhk0.real = -(1/A(Nics))*((2*k0)**(-1./2))\n",
      "    Dhk0.imag = -((k0/2)**(1./2))/(A(Nics)*A(Nics)*H(Nics))\n",
      "    return Dhk0"
     ],
     "language": "python",
     "metadata": {},
     "outputs": [],
     "prompt_number": 9
    },
    {
     "cell_type": "code",
     "collapsed": false,
     "input": [
      "def evolve_hk(k0, Nics, Nshss, step):\n",
      "    '''Returns the values of h_k for the mode k for e-fold N ranging from\n",
      "    _Nics to _Nshss. We use the h_k values later on to estimate calG.'''\n",
      "    hk_array = numpy.empty(0, dtype=complex)\n",
      "\n",
      "    hk0 = numpy.empty(0,dtype=complex)\n",
      "    Dhk0 = numpy.empty(0,dtype=complex)\n",
      "\n",
      "    hk0 = initialize_hk(k0, Nics)\n",
      "    Dhk0 = initialize_Dhk(k0, Nics)\n",
      "\n",
      "    N = Nics\n",
      "    while N < Nshss:\n",
      "        hk_array = numpy.append(hk_array, hk0)\n",
      "        Dhk_update, hk_update = rk4_step(k0, N, hk0, Dhk0, step)\n",
      "        hk0 = hk0 +hk_update\n",
      "        Dhk0 = Dhk0 +Dhk_update\n",
      "        N += step\n",
      "\n",
      "    return hk_array"
     ],
     "language": "python",
     "metadata": {},
     "outputs": [],
     "prompt_number": 10
    },
    {
     "cell_type": "code",
     "collapsed": false,
     "input": [
      "e = 10**(-1.)\n",
      "\n",
      "def calG(hk_array, k0, Nics, Nshss):\n",
      "    '''Returns the value of \\mathcal{G} which is in turn used to estimate G, the \n",
      "    tensor bi-spectrum. The integral is evaluated for e-fold N ranging from \n",
      "    _Nics till _Nshss. Note that the extra factor exp(-(e*k)/(A*H)) is put in by \n",
      "    hand to satisfy the consistency relation.'''\n",
      "    N_range = numpy.linspace(Nics, Nshss, len(hk_array))\n",
      "    func_int = ((A(N_range)/numpy.asarray([H(N) for N in N_range]))*\n",
      "                numpy.conj(hk_array)**3*\n",
      "                numpy.exp(-e*k0/(A(N_range)*numpy.asarray([H(N) for N in N_range]))))\n",
      "    \n",
      "    result = simps(func_int, N_range)\n",
      "    return (-1/4.)*result*numpy.array([0.+1.j], dtype=complex)\n",
      "\n",
      "def calG_cc(hk_array, k0, Nics, Nshss):\n",
      "    '''Returns the value of the complex conjugate of \\mathcal{G} which is \n",
      "    in turn used to estimate G, the tensor bi-spectrum. The integral is \n",
      "    evaluated for e-fold N ranging from _Nics till _Nshss. Note that the \n",
      "    extra factor exp(-(e*k)/(A*H)) is put in by hand to satisfy the consistency relation.'''\n",
      "    N_range = numpy.linspace(Nics, Nshss, len(hk_array))\n",
      "    func_int = ((A(N_range)/numpy.asarray([H(N) for N in N_range]))*(hk_array)**3*\n",
      "                numpy.exp(-e*k0/(A(N_range)*numpy.asarray([H(N) for N in N_range]))))\n",
      "\n",
      "    result = simps(func_int, N_range)\n",
      "    return (+1/4.)*result*numpy.array([0.+1.j], dtype=complex)"
     ],
     "language": "python",
     "metadata": {},
     "outputs": [],
     "prompt_number": 11
    },
    {
     "cell_type": "code",
     "collapsed": false,
     "input": [
      "def main(k0, N_array):\n",
      "    '''The main routine that calls the other functions. It takes the mode k as input and \n",
      "    estimates Nics and Nshss. Afterwards, it evaluates the h_k array from Nics to Nshss. \n",
      "    Following that, it estimates the tensor power spectrum, \\mathcal{G}, G and h_NL.'''\n",
      "    Nics = solve_Nics(k0, N_array)\n",
      "    Nshss = solve_Nshss(k0, N_array)\n",
      "    step = N_array[1] -N_array[0]\n",
      "\n",
      "    hk_array = numpy.empty(0, dtype=complex)\n",
      "    hk_array = evolve_hk(k0, Nics, Nshss, step)\n",
      "    tps= 2.*(k0)**3/(2.*numpy.pi**2)*(numpy.absolute(hk_array[-1]))**2\n",
      "\n",
      "    CalG = calG(hk_array, k0, Nics, Nshss)\n",
      "    CalG_cc = calG_cc(hk_array, k0, Nics, Nshss)\n",
      "\n",
      "    G = (3.*(k0)**2)*((hk_array[-1]**3)*CalG + (numpy.conj(hk_array[-1])**3)*CalG_cc)\n",
      "    h_NL = (-1./6)*((4./(2.*numpy.pi**2))**2)*(k0**6)*G/(tps**2)\n",
      "\n",
      "    print k0, str(tps).strip('[]'), str((k0**(3./2))*numpy.absolute(CalG)).strip('[]'), str(G.real).strip('[]'), str((k0**6)*G.real).strip('[]'), str(h_NL.real).strip('[]')\n",
      "    return None"
     ],
     "language": "python",
     "metadata": {},
     "outputs": [],
     "prompt_number": 12
    },
    {
     "cell_type": "code",
     "collapsed": false,
     "input": [
      "k_list = numpy.array([10**((-12 + i)/2.) for i in range(13)])\n",
      "'''Range of modes k to run the main loop on.'''\n",
      "\n",
      "pool = mp.Pool(processes = 4)\n",
      "temp_results = [pool.apply_async(main, args = (k0, N_array,)) for k0 in k_list]\n",
      "results = []\n",
      "\n",
      "for i in range(len(k_list)):\n",
      "    results.append(temp_results[i].get())"
     ],
     "language": "python",
     "metadata": {},
     "outputs": [
      {
       "output_type": "stream",
       "stream": "stdout",
       "text": [
        "1e-05 2.3549855577e-10   9.25915864e+09  -7.17866286e+12  -7.17866286e-18  0.88588289\n",
        "3.16227766017e-06 2.46597066648e-10   9.47888289e+10  -7.87109784e+15  -7.87109784e-18  0.88586746\n",
        "3.16227766017e-05 2.24899624781e-10   9.05093532e+08  -6.54719875e+09  -6.54719875e-18  0.88590533\n",
        "1e-06 2.58219160645e-10   9.69686625e+11  -8.63077790e+18  -8.63077790e-18  0.88589502\n",
        "0.00010.0003162277660170.0010.00316227766017 2.14777144694e-10  88474975.18361749 -5970895.33423269  -5.97089533e-18  0.88587527\n",
        " 2.05110777129e-10  8642441.76855521 -5445.6713833  -5.44567138e-18  0.885898\n",
        " 1.958790231e-10  844812.42205321 -4.96634256  -4.96634256e-18  0.88587014\n",
        " 1.87063195945e-10  82522.48891776 -0.00452944  -4.52943861e-18  0.88588414\n",
        "0.03162277660170.10.010.316227766017 1.7060510177e-10  788.55298517  -3.76743084e-09  -3.76743084e-18  0.88587105\n",
        " 1.62927727629e-10  77.02827944  -3.43614142e-12  -3.43614142e-18  0.88591138\n",
        " 1.78645274272e-10  8066.86857811  -4.13105675e-06  -4.13105675e-18  0.8859054\n",
        " 1.55594591879e-10  7.52963877  -3.13367807e-15  -3.13367807e-18  0.88587946\n",
        "1.0 1.48590921718e-10  0.73550151  -2.85796404e-18  -2.85796404e-18  0.88589338\n"
       ]
      }
     ],
     "prompt_number": 13
    },
    {
     "cell_type": "code",
     "collapsed": false,
     "input": [
      "eq_data = numpy.array([[1e-05, 2.3549855577e-10, 9.25915864e+09 , -7.17866286e+12, -7.17866286e-18 , 0.88588289],\n",
      "[3.16227766017e-06,2.46597066648e-10,9.47888289e+10 , -7.87109784e+15,  -7.87109784e-18 , 0.88586746],\n",
      "[3.16227766017e-05,2.24899624781e-10,9.05093532e+08 , -6.54719875e+09 , -6.54719875e-18 , 0.88590533],\n",
      "[1e-06,2.58219160645e-10,9.69686625e+11 , -8.63077790e+18 , -8.63077790e-18 , 0.88589502],\n",
      "[0.0001,2.14777144694e-10,88474975.18361749 ,-5970895.33423269 , -5.97089533e-18 , 0.88587527],\n",
      " [0.000316227766017,2.05110777129e-10,8642441.76855521, -5445.6713833 , -5.44567138e-18 , 0.885898],\n",
      " [0.001,1.958790231e-10,844812.42205321 ,-4.96634256 , -4.96634256e-18 , 0.88587014],\n",
      " [0.00316227766017,1.87063195945e-10,82522.48891776, -0.00452944 , -4.52943861e-18 , 0.88588414],\n",
      "[0.0316227766017,1.7060510177e-10 , 788.55298517 , -3.76743084e-09 , -3.76743084e-18 , 0.88587105],\n",
      " [0.1,1.62927727629e-10,77.02827944 , -3.43614142e-12,  -3.43614142e-18 , 0.88591138],\n",
      " [0.01,1.78645274272e-10,8066.86857811 , -4.13105675e-06 , -4.13105675e-18 , 0.8859054],\n",
      " [0.316227766017,1.55594591879e-10,7.52963877 , -3.13367807e-15 , -3.13367807e-18 , 0.88587946],\n",
      "[1.0,1.48590921718e-10 , 0.73550151 , -2.85796404e-18 , -2.85796404e-18 , 0.88589338]])"
     ],
     "language": "python",
     "metadata": {},
     "outputs": [],
     "prompt_number": 42
    },
    {
     "cell_type": "code",
     "collapsed": false,
     "input": [
      "%matplotlib inline"
     ],
     "language": "python",
     "metadata": {},
     "outputs": [],
     "prompt_number": 20
    },
    {
     "cell_type": "code",
     "collapsed": false,
     "input": [
      "plt.loglog([eq_data[i][0] for i in range(len(eq_data))], [eq_data[i][1] for i in range(len(eq_data))],'.')"
     ],
     "language": "python",
     "metadata": {},
     "outputs": [
      {
       "metadata": {},
       "output_type": "pyout",
       "prompt_number": 30,
       "text": [
        "[<matplotlib.lines.Line2D at 0xada9fa6c>]"
       ]
      },
      {
       "metadata": {},
       "output_type": "display_data",
       "png": "[encoded data removed]",
       "text": [
        "<matplotlib.figure.Figure at 0xae4797ac>"
       ]
      }
     ],
     "prompt_number": 30
    },
    {
     "cell_type": "code",
     "collapsed": false,
     "input": [
      "plt.loglog([eq_data[i][0] for i in range(len(eq_data))], [eq_data[i][2] for i in range(len(eq_data))],'.')"
     ],
     "language": "python",
     "metadata": {},
     "outputs": [
      {
       "metadata": {},
       "output_type": "pyout",
       "prompt_number": 32,
       "text": [
        "[<matplotlib.lines.Line2D at 0xad912fac>]"
       ]
      },
      {
       "metadata": {},
       "output_type": "display_data",
       "png": "[encoded data removed]",
       "text": [
        "<matplotlib.figure.Figure at 0xada5d40c>"
       ]
      }
     ],
     "prompt_number": 32
    },
    {
     "cell_type": "code",
     "collapsed": false,
     "input": [
      "plt.loglog([eq_data[i][0] for i in range(len(eq_data))], [-eq_data[i][3] for i in range(len(eq_data))],'.')"
     ],
     "language": "python",
     "metadata": {},
     "outputs": [
      {
       "metadata": {},
       "output_type": "pyout",
       "prompt_number": 35,
       "text": [
        "[<matplotlib.lines.Line2D at 0xad58cbac>]"
       ]
      },
      {
       "metadata": {},
       "output_type": "display_data",
       "png": "[encoded data removed]",
       "text": [
        "<matplotlib.figure.Figure at 0xad7d36ec>"
       ]
      }
     ],
     "prompt_number": 35
    },
    {
     "cell_type": "code",
     "collapsed": false,
     "input": [
      "plt.loglog([eq_data[i][0] for i in range(len(eq_data))], [-eq_data[i][4] for i in range(len(eq_data))],'.')"
     ],
     "language": "python",
     "metadata": {},
     "outputs": [
      {
       "metadata": {},
       "output_type": "pyout",
       "prompt_number": 43,
       "text": [
        "[<matplotlib.lines.Line2D at 0xad2f408c>]"
       ]
      },
      {
       "metadata": {},
       "output_type": "display_data",
       "png": "[encoded data removed]",
       "text": [
        "<matplotlib.figure.Figure at 0xad28104c>"
       ]
      }
     ],
     "prompt_number": 43
    },
    {
     "cell_type": "code",
     "collapsed": false,
     "input": [
      "plt.semilogx([eq_data[i][0] for i in range(len(eq_data))], [eq_data[i][5] for i in range(len(eq_data))],'.')\n",
      "plt.ylim([0.88,0.89])"
     ],
     "language": "python",
     "metadata": {},
     "outputs": [
      {
       "metadata": {},
       "output_type": "pyout",
       "prompt_number": 52,
       "text": [
        "(0.88, 0.89)"
       ]
      },
      {
       "metadata": {},
       "output_type": "display_data",
       "png": "[encoded data removed]",
       "text": [
        "<matplotlib.figure.Figure at 0xacab55cc>"
       ]
      }
     ],
     "prompt_number": 52
    },
    {
     "cell_type": "code",
     "collapsed": false,
     "input": [],
     "language": "python",
     "metadata": {},
     "outputs": []
    }
   ],
   "metadata": {}
  }
 ]
}