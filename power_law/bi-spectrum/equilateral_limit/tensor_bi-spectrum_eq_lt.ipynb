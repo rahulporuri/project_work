{
 "metadata": {
  "name": "",
  "signature": "sha256:22aba496b1496c755eb87ed294c4ea787aac50cbaa3318d6263ef8fc434256d3"
 },
 "nbformat": 3,
 "nbformat_minor": 0,
 "worksheets": [
  {
   "cells": [
    {
     "cell_type": "code",
     "collapsed": false,
     "input": [
      "import numpy\n",
      "import matplotlib.pyplot as plt\n",
      "from scipy.integrate import simps\n",
      "\n",
      "import time\n",
      "import multiprocessing as mp\n",
      "import random\n",
      "import string"
     ],
     "language": "python",
     "metadata": {},
     "outputs": [],
     "prompt_number": 1
    },
    {
     "cell_type": "code",
     "collapsed": false,
     "input": [
      "parallel_output = mp.Queue()\n",
      "\n",
      "plt.rc('text', usetex=True)\n",
      "plt.rc('font', family='serif')"
     ],
     "language": "python",
     "metadata": {},
     "outputs": [],
     "prompt_number": 2
    },
    {
     "cell_type": "code",
     "collapsed": false,
     "input": [
      "q = 51.\n",
      "V0 = (204./100.)*1e-08\n",
      "t0 = (q*(3.*q -1.)/V0)**(1./2)\n",
      "\n",
      "phi0 = 1.\n",
      "dphi0 = (2.*q)**(1./2)/t0\n",
      "\n",
      "Ni = 0.\n",
      "Nf = 70."
     ],
     "language": "python",
     "metadata": {},
     "outputs": [],
     "prompt_number": 3
    },
    {
     "cell_type": "markdown",
     "metadata": {},
     "source": [
      "Note that in this code, I use the prefix 'd' to represent derivative with respect to \n",
      "time (except for the case of dV where the derivative is with respect to phi) and \n",
      "the prefix 'D' to represent derivative with respect to e-fold N. Also, the suffix '0' \n",
      "is used to represent the initial conditions in various cases. Also, as can be seen here, \n",
      "we evaluate the scalar field in the e-fold N range Ni to Nf."
     ]
    },
    {
     "cell_type": "code",
     "collapsed": false,
     "input": [
      "V = lambda phi : V0*numpy.exp(-(2./q)**(1./2)*(phi -phi0))\n",
      "dV = lambda phi : -(2./q)**(1./2)*V0*numpy.exp(-(2./q)**(1./2)*(phi -phi0))\n",
      "\n",
      "''' Functions to evaluate the values of the potential function V(phi)\n",
      "and the derivative of V with respect to phi.\n",
      "Note that functions can be defined using the lambda notation, as shown \n",
      "above or using the usual def and return statements, as shown below.'''\n",
      "\n",
      "H0 = ((1./3)*(dphi0**2/2. +V(phi0)))**(1./2.)\n",
      "Dphi0 = dphi0/H0"
     ],
     "language": "python",
     "metadata": {},
     "outputs": [],
     "prompt_number": 4
    },
    {
     "cell_type": "code",
     "collapsed": false,
     "input": [
      "def DDphi(N, phi0, Dphi0):\n",
      "    ''' Returns the value of the second derivative of \n",
      "    phi with respect to e-fold N.'''\n",
      "    return -(3 -Dphi0**2/2.)*Dphi0 -(dV(phi0)/(2*V(phi0)))*(6 -Dphi0**2)\n",
      "\n",
      "def rk4_step(N, phi0, Dphi0, step):\n",
      "    ''' Returns 2 values, the first of the two is the value by which phi \n",
      "    needs to be updated and the second of the two is the value by which the \n",
      "    first derivative of phi with respect to e-fold N needs to be updated.'''\n",
      "    F1 = Dphi0\n",
      "    f1 = DDphi(N, phi0, Dphi0)\n",
      "    F2 = Dphi0 +f1*step/2.\n",
      "    f2 = DDphi(N +step/2., phi0 +F1*step/2., Dphi0 +f1*step/2.)\n",
      "    F3 = Dphi0 +f2*step/2.\n",
      "    f3 = DDphi(N +step/2., phi0 +F2*step/2., Dphi0 +f2*step/2.)\n",
      "    F4 = Dphi0 +f3*step\n",
      "    f4 = DDphi(N +step, phi0 +F3*step, Dphi0 +f3*step)\n",
      "\n",
      "    return (F1 +2*F2 +2*F3 +F4)*step/6., (f1 +2*f2 +2*f3 +f4)*step/6. # [phi, Dphi] update"
     ],
     "language": "python",
     "metadata": {},
     "outputs": [],
     "prompt_number": 5
    },
    {
     "cell_type": "code",
     "collapsed": false,
     "input": [
      "'''We evolve the scalar field phi for e-fold N ranging from Ni to Nf.'''\n",
      "npts = 50000\n",
      "step = (Nf-Ni)/(npts)\n",
      "\n",
      "phi_ = phi0\n",
      "Dphi_ = Dphi0\n",
      "\n",
      "phi_array = numpy.empty(0)\n",
      "Dphi_array = numpy.empty(0)\n",
      "N_array = numpy.empty(0)\n",
      "\n",
      "N = Ni\n",
      "while N < Nf+step:\n",
      "    phi_array = numpy.append(phi_array, phi_)\n",
      "    Dphi_array = numpy.append(Dphi_array, Dphi_)\n",
      "    N_array = numpy.append(N_array, N)\n",
      "\n",
      "    phi_update, Dphi_update = rk4_step(N, phi_, Dphi_, step)\n",
      "    phi_ = phi_ + phi_update\n",
      "    Dphi_ = Dphi_ + Dphi_update\n",
      "    N += step"
     ],
     "language": "python",
     "metadata": {},
     "outputs": [],
     "prompt_number": 6
    },
    {
     "cell_type": "code",
     "collapsed": false,
     "input": [
      "N_new = numpy.linspace(Ni,Nf,500001)\n",
      "phi_array_new = numpy.interp(N_new, N_array, phi_array)\n",
      "Dphi_array_new = numpy.interp(N_new, N_array, Dphi_array)\n",
      "\n",
      "phi_array = phi_array_new\n",
      "Dphi_array = Dphi_array_new\n",
      "N_array = N_new\n",
      "step = (Nf-Ni)/(500000)"
     ],
     "language": "python",
     "metadata": {},
     "outputs": [],
     "prompt_number": 7
    },
    {
     "cell_type": "code",
     "collapsed": false,
     "input": [
      "phi = lambda N : phi_array[int((N-Ni)/step)]\n",
      "Dphi = lambda N : Dphi_array[int((N-Ni)/step)]\n",
      "\n",
      "H = lambda N : (V(phi(N))/(3 -Dphi(N)**2/2))**(1./2)\n",
      "DH = lambda N : -(1./2)*H(N)*Dphi(N)**2\n",
      "\n",
      "'''The above functions let us access the values of H(N) and DH(N) \n",
      "when we try to evaluate the tensor perturbations h_k. We have obtained \n",
      "these values from the phi and Dphi values earlier.'''\n",
      "\n",
      "ai = 1e-05\n",
      "A = lambda N : ai*numpy.exp(N)\n",
      "'''The scale factor in terms of e-fold N.'''"
     ],
     "language": "python",
     "metadata": {},
     "outputs": [
      {
       "metadata": {},
       "output_type": "pyout",
       "prompt_number": 8,
       "text": [
        "'The scale factor in terms of e-fold N.'"
       ]
      }
     ],
     "prompt_number": 8
    },
    {
     "cell_type": "code",
     "collapsed": false,
     "input": [
      "def DDhk(k0, N, hk0, Dhk0):\n",
      "    '''Returns the value of the second derivative of the tensor perturbatons\n",
      "    h_k th respec to e-fold N. We need this value when we are trying to \n",
      "    evluate h_k'''\n",
      "    return -(3. +(DH(N)/H(N)))*Dhk0 -((k0/(A(N)*H(N)))**2)*hk0\n",
      "\n",
      "def rk4_step(k0, N, hk0, Dhk0, step):\n",
      "    '''a runge-kutta 4 stepper function that returns the value by which\n",
      "    h_k nd Dh_k need to be updated.'''\n",
      "    F1 = Dhk0\n",
      "    f1 = DDhk(k0, N, hk0, Dhk0)\n",
      "    F2 = Dhk0 +f1*step/2.\n",
      "    f2 = DDhk(k0, N +step/2., hk0 +F1*step/2., Dhk0 +f1*step/2.)\n",
      "    F3 = Dhk0 +f2*step/2.\n",
      "    f3 = DDhk(k0, N +step/2., hk0 +F2*step/2., Dhk0 +f2*step/2.)\n",
      "    F4 = Dhk0 +f3*step\n",
      "    f4 = DDhk(k0, N +step, hk0 +F3*step, Dhk0 +f3*step)\n",
      "\n",
      "    return numpy.array([(f1 +2*f2 +2*f3 +f4)*step/6.], dtype=complex), numpy.array([(F1 +2*F2 +2*F3 +F4)*step/6.], dtype=complex) # [Dhk, hk] update"
     ],
     "language": "python",
     "metadata": {},
     "outputs": [],
     "prompt_number": 9
    },
    {
     "cell_type": "code",
     "collapsed": false,
     "input": [
      "def solve_Nics(k0, N_array):\n",
      "    '''Returns the value of e-fold N when the mode is\n",
      "    in the sub-Hubble domain, which we define as k/(A*H) =10^2.'''\n",
      "    step = N_array[1] -N_array[0]\n",
      "    Nics_temp = numpy.asarray([k0 - 1e+03*A(N)*H(N) for N in N_array])\n",
      "    nics_test = numpy.where(Nics_temp > 0)\n",
      "    return Ni + nics_test[0][-1]*step\n",
      "\n",
      "def solve_Nshss(k0, N_array):\n",
      "    '''Returns the value of e-fold N when the mode is\n",
      "    in the super-Hubble domain, which we define as k/(A*H) =10^(-5).'''\n",
      "    step = N_array[1] -N_array[0]\n",
      "    Nshss_temp = numpy.asarray([k0 - 1e-05*A(N)*H(N) for N in N_array])\n",
      "    nshss_test = numpy.where(Nshss_temp > 0)\n",
      "    return Ni + nshss_test[0][-1]*step\n",
      "def initialize_hk(k0, Nics):\n",
      "    '''Returns the value of h_k for the mode k at e-fold N of _Nics.\n",
      "    We obtain his value by imposing the Bunch-Davies initial conditions'''\n",
      "    hk0 = numpy.zeros(1,dtype=complex)\n",
      "    hk0.real = (((k0)**(1./2))*A(Nics))**(-1.)\n",
      "    return hk0\n",
      "\n",
      "def initialize_Dhk(k0, Nics):\n",
      "    '''Returns the value of h_k for the mode k at e-fold N of _Nshss.\n",
      "    We obtain his value by imposing the Bunch-Davies initial conditions'''\n",
      "    Dhk0 = numpy.zeros(1,dtype=complex)\n",
      "    Dhk0.real = -(1/A(Nics))*((k0)**(-1./2))\n",
      "    Dhk0.imag = -((k0)**(1./2))/(A(Nics)*A(Nics)*H(Nics))\n",
      "    return Dhk0"
     ],
     "language": "python",
     "metadata": {},
     "outputs": [],
     "prompt_number": 10
    },
    {
     "cell_type": "code",
     "collapsed": false,
     "input": [
      "def evolve_hk(k0, Nics, Nshss, step):\n",
      "    '''Returns the values of h_k for the mode k for e-fold N ranging from\n",
      "    _Nics to _Nshss. We use the h_k values later on to estimate calG.'''\n",
      "    hk_array = numpy.empty(0, dtype=complex)\n",
      "\n",
      "    hk0 = numpy.empty(0,dtype=complex)\n",
      "    Dhk0 = numpy.empty(0,dtype=complex)\n",
      "\n",
      "    hk0 = initialize_hk(k0, Nics)\n",
      "    Dhk0 = initialize_Dhk(k0, Nics)\n",
      "\n",
      "    N = Nics\n",
      "    while N < Nshss:\n",
      "        hk_array = numpy.append(hk_array, hk0)\n",
      "        Dhk_update, hk_update = rk4_step(k0, N, hk0, Dhk0, step)\n",
      "        hk0 = hk0 +hk_update\n",
      "        Dhk0 = Dhk0 +Dhk_update\n",
      "        N += step\n",
      "\n",
      "    return hk_array"
     ],
     "language": "python",
     "metadata": {},
     "outputs": [],
     "prompt_number": 11
    },
    {
     "cell_type": "code",
     "collapsed": false,
     "input": [
      "e = (1./50)\n",
      "\n",
      "def calG(hk_array, k0, Nics, Nshss):\n",
      "    '''Returns the value of \\mathcal{G} which is in turn used to estimate G, the \n",
      "    tensor bi-spectrum. The integral is evaluated for e-fold N ranging from \n",
      "    _Nics till _Nshss. Note that the extra factor exp(-(e*k)/(A*H)) is put in by \n",
      "    hand to satisfy the consistency relation.'''\n",
      "    N_range = numpy.linspace(Nics, Nshss, len(hk_array))\n",
      "    func_int = ((A(N_range)/numpy.asarray([H(N) for N in N_range]))*\n",
      "                numpy.conj(hk_array)**3*\n",
      "                numpy.exp(-e*k0/(A(N_range)*numpy.asarray([H(N) for N in N_range]))))\n",
      "    \n",
      "    result = simps(func_int, N_range)\n",
      "    return (-1/4.)*result*numpy.array([0.+1.j], dtype=complex)\n",
      "\n",
      "def calG_cc(hk_array, k0, Nics, Nshss):\n",
      "    '''Returns the value of the complex conjugate of \\mathcal{G} which is \n",
      "    in turn used to estimate G, the tensor bi-spectrum. The integral is \n",
      "    evaluated for e-fold N ranging from _Nics till _Nshss. Note that the \n",
      "    extra factor exp(-(e*k)/(A*H)) is put in by hand to satisfy the consistency relation.'''\n",
      "    N_range = numpy.linspace(Nics, Nshss, len(hk_array))\n",
      "    func_int = ((A(N_range)/numpy.asarray([H(N) for N in N_range]))*(hk_array)**3*\n",
      "                numpy.exp(-e*k0/(A(N_range)*numpy.asarray([H(N) for N in N_range]))))\n",
      "\n",
      "    result = simps(func_int, N_range)\n",
      "    return (+1/4.)*result*numpy.array([0.+1.j], dtype=complex)"
     ],
     "language": "python",
     "metadata": {},
     "outputs": [],
     "prompt_number": 12
    },
    {
     "cell_type": "code",
     "collapsed": false,
     "input": [
      "def main(k0, N_array):\n",
      "    '''The main routine that calls the other functions. It takes the mode k as input and \n",
      "    estimates Nics and Nshss. Afterwards, it evaluates the h_k array from Nics to Nshss. \n",
      "    Following that, it estimates the tensor power spectrum, \\mathcal{G}, G and h_NL.'''\n",
      "    Nics = solve_Nics(k0, N_array)\n",
      "    Nshss = solve_Nshss(k0, N_array)\n",
      "    step = N_array[1] -N_array[0]\n",
      "\n",
      "    hk_array = numpy.empty(0, dtype=complex)\n",
      "    hk_array = evolve_hk(k0, Nics, Nshss, step)\n",
      "    tps= 4.*(k0)**3/(2.*numpy.pi**2)*(numpy.absolute(hk_array[-1]))**2\n",
      "\n",
      "    CalG = calG(hk_array, k0, Nics, Nshss)\n",
      "    CalG_cc = calG_cc(hk_array, k0, Nics, Nshss)\n",
      "\n",
      "    G = (3.*(k0)**2)*((hk_array[-1]**3)*CalG + (numpy.conj(hk_array[-1])**3)*CalG_cc)\n",
      "    h_NL = (-1./6)*((4./(2.*numpy.pi**2))**2)*(k0**6)*G/(tps**2)\n",
      "\n",
      "    print k0, str(tps).strip('[]'), str((k0**(3./2))*numpy.absolute(CalG)).strip('[]'), str(G.real).strip('[]'), str((k0**6)*G.real).strip('[]'), str(h_NL.real).strip('[]')\n",
      "#    return None\n",
      "    \n",
      "    return k0, str(tps).strip('[]'), str(numpy.absolute(CalG)).strip('[]'), str((k0**(3./2))*numpy.absolute(CalG)).strip('[]'), str(G.real).strip('[]'), str((k0**6.)*G.real).strip('[]'), str(h_NL.real).strip('[]')"
     ],
     "language": "python",
     "metadata": {},
     "outputs": [],
     "prompt_number": 13
    },
    {
     "cell_type": "code",
     "collapsed": false,
     "input": [
      "k_list = numpy.array([10**((-12 + i)/2.) for i in range(12)])\n",
      "'''Range of modes k to run the main loop on.'''\n",
      "\n",
      "pool = mp.Pool(processes = 3)\n",
      "temp_results = [pool.apply_async(main, args = (k0, N_array,)) for k0 in k_list]\n",
      "results = []\n",
      "\n",
      "for i in range(len(k_list)):\n",
      "    results.append(temp_results[i].get())"
     ],
     "language": "python",
     "metadata": {},
     "outputs": [
      {
       "output_type": "stream",
       "stream": "stdout",
       "text": [
        "1e-05 9.41970596672e-10   2.62030633e+10  -6.14810798e+13  -6.14810798e-17  0.47421583\n",
        "3.16227766017e-06 9.86364307325e-10   2.68133814e+11  -6.74134651e+16  -6.74134651e-17  0.47422146\n",
        "1e-06 1.03285059701e-09   2.74378938e+12  -7.39175983e+19  -7.39175983e-17  0.47422243\n",
        "3.16227766017e-050.00010.000316227766017 8.99575288131e-10   2.56066799e+09  -5.60721886e+10  -5.60721886e-17  0.47422203\n",
        " 8.59087726719e-10   2.50238413e+08 -51136846.28989465  -5.11368463e-17  0.47420722\n",
        " 8.20422406981e-10  24454269.06315181 -46638.83075521  -4.66388308e-17  0.4742222\n",
        "0.0010.003162277660170.01 7.83497323929e-10  2389766.12329799 -42.53504989  -4.25350499e-17  0.47422141\n",
        " 7.48234252911e-10  233537.17535774 -0.03879256  -3.87925552e-17  0.47422284\n",
        " 7.145595635e-10  22822.23620875  -3.53793604e-05  -3.53793604e-17  0.47422272\n",
        "0.10.03162277660170.316227766017 6.51686171654e-10  217.95142752  -2.94273191e-11  -2.94273191e-17  0.47422335\n",
        " 6.82399733392e-10  2230.2795728  -3.22665799e-08  -3.22665799e-17  0.47422505\n",
        " 6.22355825481e-10  21.29906615  -2.68380580e-14  -2.68380580e-17  0.47422322\n"
       ]
      }
     ],
     "prompt_number": 14
    },
    {
     "cell_type": "code",
     "collapsed": false,
     "input": [
      "numpy.asarray(results,dtype=float)"
     ],
     "language": "python",
     "metadata": {},
     "outputs": [
      {
       "metadata": {},
       "output_type": "pyout",
       "prompt_number": 15,
       "text": [
        "array([[  1.00000000e-06,   1.03285060e-09,   2.74378938e+21,\n",
        "          2.74378938e+12,  -7.39175983e+19,  -7.39175983e-17,\n",
        "          4.74222430e-01],\n",
        "       [  3.16227766e-06,   9.86364307e-10,   4.76816841e+19,\n",
        "          2.68133814e+11,  -6.74134651e+16,  -6.74134651e-17,\n",
        "          4.74221460e-01],\n",
        "       [  1.00000000e-05,   9.41970597e-10,   8.28613618e+17,\n",
        "          2.62030633e+10,  -6.14810798e+13,  -6.14810798e-17,\n",
        "          4.74215830e-01],\n",
        "       [  3.16227766e-05,   8.99575288e-10,   1.43996943e+16,\n",
        "          2.56066799e+09,  -5.60721886e+10,  -5.60721886e-17,\n",
        "          4.74222030e-01],\n",
        "       [  1.00000000e-04,   8.59087727e-10,   2.50238413e+14,\n",
        "          2.50238413e+08,  -5.11368463e+07,  -5.11368463e-17,\n",
        "          4.74207220e-01],\n",
        "       [  3.16227766e-04,   8.20422407e-10,   4.34865232e+12,\n",
        "          2.44542691e+07,  -4.66388308e+04,  -4.66388308e-17,\n",
        "          4.74222200e-01],\n",
        "       [  1.00000000e-03,   7.83497324e-10,   7.55710402e+10,\n",
        "          2.38976612e+06,  -4.25350499e+01,  -4.25350499e-17,\n",
        "          4.74221410e-01],\n",
        "       [  3.16227766e-03,   7.48234253e-10,   1.31327605e+09,\n",
        "          2.33537175e+05,  -3.87925600e-02,  -3.87925552e-17,\n",
        "          4.74222840e-01],\n",
        "       [  1.00000000e-02,   7.14559563e-10,   2.28222362e+07,\n",
        "          2.28222362e+04,  -3.53793604e-05,  -3.53793604e-17,\n",
        "          4.74222720e-01],\n",
        "       [  3.16227766e-02,   6.82399733e-10,   3.96606024e+05,\n",
        "          2.23027957e+03,  -3.22665799e-08,  -3.22665799e-17,\n",
        "          4.74225050e-01],\n",
        "       [  1.00000000e-01,   6.51686172e-10,   6.89222930e+03,\n",
        "          2.17951428e+02,  -2.94273191e-11,  -2.94273191e-17,\n",
        "          4.74223350e-01],\n",
        "       [  3.16227766e-01,   6.22355825e-10,   1.19773451e+02,\n",
        "          2.12990662e+01,  -2.68380580e-14,  -2.68380580e-17,\n",
        "          4.74223220e-01]])"
       ]
      }
     ],
     "prompt_number": 15
    },
    {
     "cell_type": "code",
     "collapsed": false,
     "input": [
      "data = numpy.asarray(results,dtype=float)"
     ],
     "language": "python",
     "metadata": {},
     "outputs": [],
     "prompt_number": 16
    },
    {
     "cell_type": "code",
     "collapsed": false,
     "input": [
      "data"
     ],
     "language": "python",
     "metadata": {},
     "outputs": [
      {
       "metadata": {},
       "output_type": "pyout",
       "prompt_number": 17,
       "text": [
        "array([[  1.00000000e-06,   1.03285060e-09,   2.74378938e+21,\n",
        "          2.74378938e+12,  -7.39175983e+19,  -7.39175983e-17,\n",
        "          4.74222430e-01],\n",
        "       [  3.16227766e-06,   9.86364307e-10,   4.76816841e+19,\n",
        "          2.68133814e+11,  -6.74134651e+16,  -6.74134651e-17,\n",
        "          4.74221460e-01],\n",
        "       [  1.00000000e-05,   9.41970597e-10,   8.28613618e+17,\n",
        "          2.62030633e+10,  -6.14810798e+13,  -6.14810798e-17,\n",
        "          4.74215830e-01],\n",
        "       [  3.16227766e-05,   8.99575288e-10,   1.43996943e+16,\n",
        "          2.56066799e+09,  -5.60721886e+10,  -5.60721886e-17,\n",
        "          4.74222030e-01],\n",
        "       [  1.00000000e-04,   8.59087727e-10,   2.50238413e+14,\n",
        "          2.50238413e+08,  -5.11368463e+07,  -5.11368463e-17,\n",
        "          4.74207220e-01],\n",
        "       [  3.16227766e-04,   8.20422407e-10,   4.34865232e+12,\n",
        "          2.44542691e+07,  -4.66388308e+04,  -4.66388308e-17,\n",
        "          4.74222200e-01],\n",
        "       [  1.00000000e-03,   7.83497324e-10,   7.55710402e+10,\n",
        "          2.38976612e+06,  -4.25350499e+01,  -4.25350499e-17,\n",
        "          4.74221410e-01],\n",
        "       [  3.16227766e-03,   7.48234253e-10,   1.31327605e+09,\n",
        "          2.33537175e+05,  -3.87925600e-02,  -3.87925552e-17,\n",
        "          4.74222840e-01],\n",
        "       [  1.00000000e-02,   7.14559563e-10,   2.28222362e+07,\n",
        "          2.28222362e+04,  -3.53793604e-05,  -3.53793604e-17,\n",
        "          4.74222720e-01],\n",
        "       [  3.16227766e-02,   6.82399733e-10,   3.96606024e+05,\n",
        "          2.23027957e+03,  -3.22665799e-08,  -3.22665799e-17,\n",
        "          4.74225050e-01],\n",
        "       [  1.00000000e-01,   6.51686172e-10,   6.89222930e+03,\n",
        "          2.17951428e+02,  -2.94273191e-11,  -2.94273191e-17,\n",
        "          4.74223350e-01],\n",
        "       [  3.16227766e-01,   6.22355825e-10,   1.19773451e+02,\n",
        "          2.12990662e+01,  -2.68380580e-14,  -2.68380580e-17,\n",
        "          4.74223220e-01]])"
       ]
      }
     ],
     "prompt_number": 17
    },
    {
     "cell_type": "markdown",
     "metadata": {},
     "source": [
      "numpy.array([[3.16227766017e-06 2.46595601764e-10 1e-06 2.58217201678e-10   9.70164135e+11  -8.63089430e+18  -8.63089430e-18  0.88592041],\n",
      "[1e-05 2.35497009014e-10   9.26503558e+09  -7.17881394e+12  -7.17881394e-18  0.88591317],\n",
      "[3.16227766017e-05 2.24897998768e-10   9.05415724e+08  -6.54716946e+09  -6.54716946e-18  0.88591417],\n",
      "[9.48082699e+10  -7.87141125e+15  -7.87141125e-18  0.88591326],\n",
      "[0.000316227766017, 2.05109328056e-10  8646666.01548097 -5445.84656628  -5.44584657e-18  0.88593902],\n",
      " [0.001, 1.95877896538e-10  844985.82517846 -4.96666685  -4.96666685e-18  0.88593818],\n",
      " [0.00316227766017, 1.87061940351e-10  82575.29580379 -0.00452965  -4.52965487e-18  0.88593833],\n",
      " [0.0001, 2.14775961158e-10  88480776.23126677 -5971099.37019608  -5.97109937e-18  0.88591531],\n",
      "[0.01, 1.78642767412e-10  8069.57852955  -4.13109513e-06  -4.13109513e-18  0.88593849],\n",
      " [0.1, 1.62923921168e-10  77.06397308  -3.43608298e-12  -3.43608298e-18  0.8859377],\n",
      " [0.316227766017, 1.55591200141e-10  7.53099519  -3.13375208e-15  -3.13375208e-18  0.88593901],\n",
      " [0.0316227766017, 1.7060251244e-10  788.59049671  -3.76760406e-09  -3.76760406e-18  0.88593867],\n",
      "[1.0 1.48588445461e-10  0.73595811  -2.85801603e-18  -2.85801603e-18  0.88593903]])"
     ]
    },
    {
     "cell_type": "markdown",
     "metadata": {},
     "source": [
      "eq_data = numpy.array([[1e-05, 2.3549855577e-10, 9.25915864e+09 , -7.17866286e+12, -7.17866286e-18 , 0.88588289],\n",
      "[3.16227766017e-06,2.46597066648e-10,9.47888289e+10 , -7.87109784e+15,  -7.87109784e-18 , 0.88586746],\n",
      "[3.16227766017e-05,2.24899624781e-10,9.05093532e+08 , -6.54719875e+09 , -6.54719875e-18 , 0.88590533],\n",
      "[1e-06,2.58219160645e-10,9.69686625e+11 , -8.63077790e+18 , -8.63077790e-18 , 0.88589502],\n",
      "[0.0001,2.14777144694e-10,88474975.18361749 ,-5970895.33423269 , -5.97089533e-18 , 0.88587527],\n",
      " [0.000316227766017,2.05110777129e-10,8642441.76855521, -5445.6713833 , -5.44567138e-18 , 0.885898],\n",
      " [0.001,1.958790231e-10,844812.42205321 ,-4.96634256 , -4.96634256e-18 , 0.88587014],\n",
      " [0.00316227766017,1.87063195945e-10,82522.48891776, -0.00452944 , -4.52943861e-18 , 0.88588414],\n",
      "[0.0316227766017,1.7060510177e-10 , 788.55298517 , -3.76743084e-09 , -3.76743084e-18 , 0.88587105],\n",
      " [0.1,1.62927727629e-10,77.02827944 , -3.43614142e-12,  -3.43614142e-18 , 0.88591138],\n",
      " [0.01,1.78645274272e-10,8066.86857811 , -4.13105675e-06 , -4.13105675e-18 , 0.8859054],\n",
      " [0.316227766017,1.55594591879e-10,7.52963877 , -3.13367807e-15 , -3.13367807e-18 , 0.88587946],\n",
      "[1.0,1.48590921718e-10 , 0.73550151 , -2.85796404e-18 , -2.85796404e-18 , 0.88589338]])"
     ]
    },
    {
     "cell_type": "code",
     "collapsed": false,
     "input": [
      "%matplotlib inline"
     ],
     "language": "python",
     "metadata": {},
     "outputs": [],
     "prompt_number": 18
    },
    {
     "cell_type": "code",
     "collapsed": false,
     "input": [
      "#plt.loglog([eq_data[i][0] for i in range(len(eq_data))], [eq_data[i][1] for i in range(len(eq_data))],'.')\n",
      "plt.loglog(data[:,0], data[:,1],'.')"
     ],
     "language": "python",
     "metadata": {},
     "outputs": [
      {
       "metadata": {},
       "output_type": "pyout",
       "prompt_number": 19,
       "text": [
        "[<matplotlib.lines.Line2D at 0xadbc8e4c>]"
       ]
      },
      {
       "metadata": {},
       "output_type": "display_data",
       "png": "[encoded data removed]",
       "text": [
        "<matplotlib.figure.Figure at 0xae525f8c>"
       ]
      }
     ],
     "prompt_number": 19
    },
    {
     "cell_type": "code",
     "collapsed": false,
     "input": [
      "#plt.loglog([eq_data[i][0] for i in range(len(eq_data))], [eq_data[i][2] for i in range(len(eq_data))],'.')\n",
      "plt.loglog(data[:,0], data[:,2],'.')"
     ],
     "language": "python",
     "metadata": {},
     "outputs": [
      {
       "metadata": {},
       "output_type": "pyout",
       "prompt_number": 20,
       "text": [
        "[<matplotlib.lines.Line2D at 0xad1cd04c>]"
       ]
      },
      {
       "metadata": {},
       "output_type": "display_data",
       "png": "[encoded data removed]",
       "text": [
        "<matplotlib.figure.Figure at 0xad1054ac>"
       ]
      }
     ],
     "prompt_number": 20
    },
    {
     "cell_type": "code",
     "collapsed": false,
     "input": [
      "plt.loglog([eq_data[i][0] for i in range(len(eq_data))], [-eq_data[i][3] for i in range(len(eq_data))],'.')"
     ],
     "language": "python",
     "metadata": {},
     "outputs": [
      {
       "ename": "NameError",
       "evalue": "name 'eq_data' is not defined",
       "output_type": "pyerr",
       "traceback": [
        "\u001b[0;31m---------------------------------------------------------------------------\u001b[0m\n\u001b[0;31mNameError\u001b[0m                                 Traceback (most recent call last)",
        "\u001b[0;32m<ipython-input-21-9596ec2b66dc>\u001b[0m in \u001b[0;36m<module>\u001b[0;34m()\u001b[0m\n\u001b[0;32m----> 1\u001b[0;31m \u001b[0mplt\u001b[0m\u001b[0;34m.\u001b[0m\u001b[0mloglog\u001b[0m\u001b[0;34m(\u001b[0m\u001b[0;34m[\u001b[0m\u001b[0meq_data\u001b[0m\u001b[0;34m[\u001b[0m\u001b[0mi\u001b[0m\u001b[0;34m]\u001b[0m\u001b[0;34m[\u001b[0m\u001b[0;36m0\u001b[0m\u001b[0;34m]\u001b[0m \u001b[0;32mfor\u001b[0m \u001b[0mi\u001b[0m \u001b[0;32min\u001b[0m \u001b[0mrange\u001b[0m\u001b[0;34m(\u001b[0m\u001b[0mlen\u001b[0m\u001b[0;34m(\u001b[0m\u001b[0meq_data\u001b[0m\u001b[0;34m)\u001b[0m\u001b[0;34m)\u001b[0m\u001b[0;34m]\u001b[0m\u001b[0;34m,\u001b[0m \u001b[0;34m[\u001b[0m\u001b[0;34m-\u001b[0m\u001b[0meq_data\u001b[0m\u001b[0;34m[\u001b[0m\u001b[0mi\u001b[0m\u001b[0;34m]\u001b[0m\u001b[0;34m[\u001b[0m\u001b[0;36m3\u001b[0m\u001b[0;34m]\u001b[0m \u001b[0;32mfor\u001b[0m \u001b[0mi\u001b[0m \u001b[0;32min\u001b[0m \u001b[0mrange\u001b[0m\u001b[0;34m(\u001b[0m\u001b[0mlen\u001b[0m\u001b[0;34m(\u001b[0m\u001b[0meq_data\u001b[0m\u001b[0;34m)\u001b[0m\u001b[0;34m)\u001b[0m\u001b[0;34m]\u001b[0m\u001b[0;34m,\u001b[0m\u001b[0;34m'.'\u001b[0m\u001b[0;34m)\u001b[0m\u001b[0;34m\u001b[0m\u001b[0m\n\u001b[0m",
        "\u001b[0;31mNameError\u001b[0m: name 'eq_data' is not defined"
       ]
      }
     ],
     "prompt_number": 21
    },
    {
     "cell_type": "code",
     "collapsed": false,
     "input": [
      "plt.loglog(data[:,0], data[:,3],'.')"
     ],
     "language": "python",
     "metadata": {},
     "outputs": [
      {
       "metadata": {},
       "output_type": "pyout",
       "prompt_number": 22,
       "text": [
        "[<matplotlib.lines.Line2D at 0xadba974c>]"
       ]
      },
      {
       "metadata": {},
       "output_type": "display_data",
       "png": "[encoded data removed]",
       "text": [
        "<matplotlib.figure.Figure at 0xad00042c>"
       ]
      }
     ],
     "prompt_number": 22
    },
    {
     "cell_type": "code",
     "collapsed": false,
     "input": [
      "#plt.loglog([eq_data[i][0] for i in range(len(eq_data))], [-eq_data[i][4] for i in range(len(eq_data))],'.')\n",
      "plt.loglog(data[:,0], -data[:,4],'.')"
     ],
     "language": "python",
     "metadata": {},
     "outputs": [
      {
       "metadata": {},
       "output_type": "pyout",
       "prompt_number": 23,
       "text": [
        "[<matplotlib.lines.Line2D at 0xacfbaa2c>]"
       ]
      },
      {
       "metadata": {},
       "output_type": "display_data",
       "png": "[encoded data removed]",
       "text": [
        "<matplotlib.figure.Figure at 0xaced424c>"
       ]
      }
     ],
     "prompt_number": 23
    },
    {
     "cell_type": "code",
     "collapsed": false,
     "input": [
      "plt.loglog(data[:,0], -data[:,5],'.')"
     ],
     "language": "python",
     "metadata": {},
     "outputs": [
      {
       "metadata": {},
       "output_type": "pyout",
       "prompt_number": 24,
       "text": [
        "[<matplotlib.lines.Line2D at 0xacebaecc>]"
       ]
      },
      {
       "metadata": {},
       "output_type": "display_data",
       "png": "[encoded data removed]",
       "text": [
        "<matplotlib.figure.Figure at 0xacde804c>"
       ]
      }
     ],
     "prompt_number": 24
    },
    {
     "cell_type": "code",
     "collapsed": false,
     "input": [
      "#plt.semilogx([eq_data[i][0] for i in range(len(eq_data))], [eq_data[i][5] for i in range(len(eq_data))],'.')\n",
      "plt.semilogx(data[:,0], data[:,6],'.')\n",
      "plt.ylim([0.47,0.48])"
     ],
     "language": "python",
     "metadata": {},
     "outputs": [
      {
       "metadata": {},
       "output_type": "pyout",
       "prompt_number": 30,
       "text": [
        "(0.47, 0.48)"
       ]
      },
      {
       "metadata": {},
       "output_type": "display_data",
       "png": "[encoded data removed]",
       "text": [
        "<matplotlib.figure.Figure at 0xaccf756c>"
       ]
      }
     ],
     "prompt_number": 30
    },
    {
     "cell_type": "code",
     "collapsed": false,
     "input": [],
     "language": "python",
     "metadata": {},
     "outputs": []
    }
   ],
   "metadata": {}
  }
 ]
}