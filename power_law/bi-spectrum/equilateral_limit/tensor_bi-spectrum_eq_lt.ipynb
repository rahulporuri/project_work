{
 "metadata": {
  "name": "",
  "signature": "sha256:63e94f4c9bf6d38b9457a9e71c7dce704fead030aff24818dc93e6e02494afba"
 },
 "nbformat": 3,
 "nbformat_minor": 0,
 "worksheets": [
  {
   "cells": [
    {
     "cell_type": "code",
     "collapsed": false,
     "input": [
      "import numpy\n",
      "import matplotlib.pyplot as plt\n",
      "from scipy.integrate import simps\n",
      "\n",
      "import time\n",
      "import multiprocessing as mp\n",
      "import random\n",
      "import string"
     ],
     "language": "python",
     "metadata": {},
     "outputs": [],
     "prompt_number": 1
    },
    {
     "cell_type": "code",
     "collapsed": false,
     "input": [
      "parallel_output = mp.Queue()\n",
      "\n",
      "plt.rc('text', usetex=True)\n",
      "plt.rc('font', family='serif')"
     ],
     "language": "python",
     "metadata": {},
     "outputs": [],
     "prompt_number": 2
    },
    {
     "cell_type": "code",
     "collapsed": false,
     "input": [
      "q = 51.\n",
      "V0 = (204./100.)*1e-08\n",
      "t0 = (q*(3.*q -1.)/V0)**(1./2)\n",
      "\n",
      "phi0 = 1.\n",
      "dphi0 = (2.*q)**(1./2)/t0\n",
      "\n",
      "Ni = 0.\n",
      "Nf = 70."
     ],
     "language": "python",
     "metadata": {},
     "outputs": [],
     "prompt_number": 3
    },
    {
     "cell_type": "markdown",
     "metadata": {},
     "source": [
      "Note that in this code, I use the prefix 'd' to represent derivative with respect to \n",
      "time (except for the case of dV where the derivative is with respect to phi) and \n",
      "the prefix 'D' to represent derivative with respect to e-fold N. Also, the suffix '0' \n",
      "is used to represent the initial conditions in various cases. Also, as can be seen here, \n",
      "we evaluate the scalar field in the e-fold N range Ni to Nf."
     ]
    },
    {
     "cell_type": "code",
     "collapsed": false,
     "input": [
      "V = lambda phi : V0*numpy.exp(-(2./q)**(1./2)*(phi -phi0))\n",
      "dV = lambda phi : -(2./q)**(1./2)*V0*numpy.exp(-(2./q)**(1./2)*(phi -phi0))\n",
      "\n",
      "''' Functions to evaluate the values of the potential function V(phi)\n",
      "and the derivative of V with respect to phi.\n",
      "Note that functions can be defined using the lambda notation, as shown \n",
      "above or using the usual def and return statements, as shown below.'''\n",
      "\n",
      "H0 = ((1./3)*(dphi0**2/2. +V(phi0)))**(1./2.)\n",
      "Dphi0 = dphi0/H0"
     ],
     "language": "python",
     "metadata": {},
     "outputs": [],
     "prompt_number": 4
    },
    {
     "cell_type": "code",
     "collapsed": false,
     "input": [
      "def DDphi(N, phi0, Dphi0):\n",
      "    ''' Returns the value of the second derivative of \n",
      "    phi with respect to e-fold N.'''\n",
      "    return -(3 -Dphi0**2/2.)*Dphi0 -(dV(phi0)/(2*V(phi0)))*(6 -Dphi0**2)\n",
      "\n",
      "def rk4_step(N, phi0, Dphi0, step):\n",
      "    ''' Returns 2 values, the first of the two is the value by which phi \n",
      "    needs to be updated and the second of the two is the value by which the \n",
      "    first derivative of phi with respect to e-fold N needs to be updated.'''\n",
      "    F1 = Dphi0\n",
      "    f1 = DDphi(N, phi0, Dphi0)\n",
      "    F2 = Dphi0 +f1*step/2.\n",
      "    f2 = DDphi(N +step/2., phi0 +F1*step/2., Dphi0 +f1*step/2.)\n",
      "    F3 = Dphi0 +f2*step/2.\n",
      "    f3 = DDphi(N +step/2., phi0 +F2*step/2., Dphi0 +f2*step/2.)\n",
      "    F4 = Dphi0 +f3*step\n",
      "    f4 = DDphi(N +step, phi0 +F3*step, Dphi0 +f3*step)\n",
      "\n",
      "    return (F1 +2*F2 +2*F3 +F4)*step/6., (f1 +2*f2 +2*f3 +f4)*step/6. # [phi, Dphi] update"
     ],
     "language": "python",
     "metadata": {},
     "outputs": [],
     "prompt_number": 5
    },
    {
     "cell_type": "code",
     "collapsed": false,
     "input": [
      "'''We evolve the scalar field phi for e-fold N ranging from Ni to Nf.'''\n",
      "npts = 50000\n",
      "step = (Nf-Ni)/(npts)\n",
      "\n",
      "phi_ = phi0\n",
      "Dphi_ = Dphi0\n",
      "\n",
      "phi_array = numpy.empty(0)\n",
      "Dphi_array = numpy.empty(0)\n",
      "N_array = numpy.empty(0)\n",
      "\n",
      "N = Ni\n",
      "while N < Nf+step:\n",
      "    phi_array = numpy.append(phi_array, phi_)\n",
      "    Dphi_array = numpy.append(Dphi_array, Dphi_)\n",
      "    N_array = numpy.append(N_array, N)\n",
      "\n",
      "    phi_update, Dphi_update = rk4_step(N, phi_, Dphi_, step)\n",
      "    phi_ = phi_ + phi_update\n",
      "    Dphi_ = Dphi_ + Dphi_update\n",
      "    N += step"
     ],
     "language": "python",
     "metadata": {},
     "outputs": [],
     "prompt_number": 6
    },
    {
     "cell_type": "code",
     "collapsed": false,
     "input": [
      "N_new = numpy.linspace(Ni,Nf,1000001)\n",
      "phi_array_new = numpy.interp(N_new, N_array, phi_array)\n",
      "Dphi_array_new = numpy.interp(N_new, N_array, Dphi_array)\n",
      "\n",
      "phi_array = phi_array_new\n",
      "Dphi_array = Dphi_array_new\n",
      "N_array = N_new\n",
      "step = (Nf-Ni)/(1000000)"
     ],
     "language": "python",
     "metadata": {},
     "outputs": [],
     "prompt_number": 7
    },
    {
     "cell_type": "code",
     "collapsed": false,
     "input": [
      "phi = lambda N : phi_array[int((N-Ni)/step)]\n",
      "Dphi = lambda N : Dphi_array[int((N-Ni)/step)]\n",
      "\n",
      "H = lambda N : (V(phi(N))/(3 -Dphi(N)**2/2))**(1./2)\n",
      "DH = lambda N : -(1./2)*H(N)*Dphi(N)**2\n",
      "\n",
      "'''The above functions let us access the values of H(N) and DH(N) \n",
      "when we try to evaluate the tensor perturbations h_k. We have obtained \n",
      "these values from the phi and Dphi values earlier.'''\n",
      "\n",
      "ai = 1e-05\n",
      "A = lambda N : ai*numpy.exp(N)\n",
      "'''The scale factor in terms of e-fold N.'''"
     ],
     "language": "python",
     "metadata": {},
     "outputs": [
      {
       "metadata": {},
       "output_type": "pyout",
       "prompt_number": 8,
       "text": [
        "'The scale factor in terms of e-fold N.'"
       ]
      }
     ],
     "prompt_number": 8
    },
    {
     "cell_type": "code",
     "collapsed": false,
     "input": [
      "def DDhk(k0, N, hk0, Dhk0):\n",
      "    '''Returns the value of the second derivative of the tensor perturbatons\n",
      "    h_k th respec to e-fold N. We need this value when we are trying to \n",
      "    evluate h_k'''\n",
      "    return -(3. +(DH(N)/H(N)))*Dhk0 -((k0/(A(N)*H(N)))**2)*hk0\n",
      "\n",
      "def rk4_step(k0, N, hk0, Dhk0, step):\n",
      "    '''a runge-kutta 4 stepper function that returns the value by which\n",
      "    h_k nd Dh_k need to be updated.'''\n",
      "    F1 = Dhk0\n",
      "    f1 = DDhk(k0, N, hk0, Dhk0)\n",
      "    F2 = Dhk0 +f1*step/2.\n",
      "    f2 = DDhk(k0, N +step/2., hk0 +F1*step/2., Dhk0 +f1*step/2.)\n",
      "    F3 = Dhk0 +f2*step/2.\n",
      "    f3 = DDhk(k0, N +step/2., hk0 +F2*step/2., Dhk0 +f2*step/2.)\n",
      "    F4 = Dhk0 +f3*step\n",
      "    f4 = DDhk(k0, N +step, hk0 +F3*step, Dhk0 +f3*step)\n",
      "\n",
      "    return numpy.array([(f1 +2*f2 +2*f3 +f4)*step/6.], dtype=complex), numpy.array([(F1 +2*F2 +2*F3 +F4)*step/6.], dtype=complex) # [Dhk, hk] update"
     ],
     "language": "python",
     "metadata": {},
     "outputs": [],
     "prompt_number": 9
    },
    {
     "cell_type": "code",
     "collapsed": false,
     "input": [
      "def solve_Nics(k0, N_array):\n",
      "    '''Returns the value of e-fold N when the mode is\n",
      "    in the sub-Hubble domain, which we define as k/(A*H) =10^2.'''\n",
      "    step = N_array[1] -N_array[0]\n",
      "    Nics_temp = numpy.asarray([k0 - 1e+02*A(N)*H(N) for N in N_array])\n",
      "    nics_test = numpy.where(Nics_temp > 0)\n",
      "    return Ni + nics_test[0][-1]*step\n",
      "\n",
      "def solve_Nshss(k0, N_array):\n",
      "    '''Returns the value of e-fold N when the mode is\n",
      "    in the super-Hubble domain, which we define as k/(A*H) =10^(-5).'''\n",
      "    step = N_array[1] -N_array[0]\n",
      "    Nshss_temp = numpy.asarray([k0 - 1e-05*A(N)*H(N) for N in N_array])\n",
      "    nshss_test = numpy.where(Nshss_temp > 0)\n",
      "    return Ni + nshss_test[0][-1]*step\n",
      "def initialize_hk(k0, Nics):\n",
      "    '''Returns the value of h_k for the mode k at e-fold N of _Nics.\n",
      "    We obtain his value by imposing the Bunch-Davies initial conditions'''\n",
      "    hk0 = numpy.zeros(1,dtype=complex)\n",
      "    hk0.real = (((2.*k0)**(1./2))*A(Nics))**(-1.)\n",
      "    return hk0\n",
      "\n",
      "def initialize_Dhk(k0, Nics):\n",
      "    '''Returns the value of h_k for the mode k at e-fold N of _Nshss.\n",
      "    We obtain his value by imposing the Bunch-Davies initial conditions'''\n",
      "    Dhk0 = numpy.zeros(1,dtype=complex)\n",
      "    Dhk0.real = -(1/A(Nics))*((2*k0)**(-1./2))\n",
      "    Dhk0.imag = -((k0/2)**(1./2))/(A(Nics)*A(Nics)*H(Nics))\n",
      "    return Dhk0"
     ],
     "language": "python",
     "metadata": {},
     "outputs": [],
     "prompt_number": 10
    },
    {
     "cell_type": "code",
     "collapsed": false,
     "input": [
      "def evolve_hk(k0, Nics, Nshss, step):\n",
      "    '''Returns the values of h_k for the mode k for e-fold N ranging from\n",
      "    _Nics to _Nshss. We use the h_k values later on to estimate calG.'''\n",
      "    hk_array = numpy.empty(0, dtype=complex)\n",
      "\n",
      "    hk0 = numpy.empty(0,dtype=complex)\n",
      "    Dhk0 = numpy.empty(0,dtype=complex)\n",
      "\n",
      "    hk0 = initialize_hk(k0, Nics)\n",
      "    Dhk0 = initialize_Dhk(k0, Nics)\n",
      "\n",
      "    N = Nics\n",
      "    while N < Nshss:\n",
      "        hk_array = numpy.append(hk_array, hk0)\n",
      "        Dhk_update, hk_update = rk4_step(k0, N, hk0, Dhk0, step)\n",
      "        hk0 = hk0 +hk_update\n",
      "        Dhk0 = Dhk0 +Dhk_update\n",
      "        N += step\n",
      "\n",
      "    return hk_array"
     ],
     "language": "python",
     "metadata": {},
     "outputs": [],
     "prompt_number": 11
    },
    {
     "cell_type": "code",
     "collapsed": false,
     "input": [
      "e = (1./50)\n",
      "\n",
      "def calG(hk_array, k0, Nics, Nshss):\n",
      "    '''Returns the value of \\mathcal{G} which is in turn used to estimate G, the \n",
      "    tensor bi-spectrum. The integral is evaluated for e-fold N ranging from \n",
      "    _Nics till _Nshss. Note that the extra factor exp(-(e*k)/(A*H)) is put in by \n",
      "    hand to satisfy the consistency relation.'''\n",
      "    N_range = numpy.linspace(Nics, Nshss, len(hk_array))\n",
      "    func_int = ((A(N_range)/numpy.asarray([H(N) for N in N_range]))*\n",
      "                numpy.conj(hk_array)**3*\n",
      "                numpy.exp(-e*k0/(A(N_range)*numpy.asarray([H(N) for N in N_range]))))\n",
      "    \n",
      "    result = simps(func_int, N_range)\n",
      "    return (-1/4.)*result*numpy.array([0.+1.j], dtype=complex)\n",
      "\n",
      "def calG_cc(hk_array, k0, Nics, Nshss):\n",
      "    '''Returns the value of the complex conjugate of \\mathcal{G} which is \n",
      "    in turn used to estimate G, the tensor bi-spectrum. The integral is \n",
      "    evaluated for e-fold N ranging from _Nics till _Nshss. Note that the \n",
      "    extra factor exp(-(e*k)/(A*H)) is put in by hand to satisfy the consistency relation.'''\n",
      "    N_range = numpy.linspace(Nics, Nshss, len(hk_array))\n",
      "    func_int = ((A(N_range)/numpy.asarray([H(N) for N in N_range]))*(hk_array)**3*\n",
      "                numpy.exp(-e*k0/(A(N_range)*numpy.asarray([H(N) for N in N_range]))))\n",
      "\n",
      "    result = simps(func_int, N_range)\n",
      "    return (+1/4.)*result*numpy.array([0.+1.j], dtype=complex)"
     ],
     "language": "python",
     "metadata": {},
     "outputs": [],
     "prompt_number": 32
    },
    {
     "cell_type": "code",
     "collapsed": false,
     "input": [
      "def main(k0, N_array):\n",
      "    '''The main routine that calls the other functions. It takes the mode k as input and \n",
      "    estimates Nics and Nshss. Afterwards, it evaluates the h_k array from Nics to Nshss. \n",
      "    Following that, it estimates the tensor power spectrum, \\mathcal{G}, G and h_NL.'''\n",
      "    Nics = solve_Nics(k0, N_array)\n",
      "    Nshss = solve_Nshss(k0, N_array)\n",
      "    step = N_array[1] -N_array[0]\n",
      "\n",
      "    hk_array = numpy.empty(0, dtype=complex)\n",
      "    hk_array = evolve_hk(k0, Nics, Nshss, step)\n",
      "    tps= 2.*(k0)**3/(2.*numpy.pi**2)*(numpy.absolute(hk_array[-1]))**2\n",
      "\n",
      "    CalG = calG(hk_array, k0, Nics, Nshss)\n",
      "    CalG_cc = calG_cc(hk_array, k0, Nics, Nshss)\n",
      "\n",
      "    G = (3.*(k0)**2)*((hk_array[-1]**3)*CalG + (numpy.conj(hk_array[-1])**3)*CalG_cc)\n",
      "    h_NL = (-1./6)*((4./(2.*numpy.pi**2))**2)*(k0**6)*G/(tps**2)\n",
      "\n",
      "    print k0, str(tps).strip('[]'), str((k0**(3./2))*numpy.absolute(CalG)).strip('[]'), str(G.real).strip('[]'), str((k0**6)*G.real).strip('[]'), str(h_NL.real).strip('[]')\n",
      "#    return None\n",
      "    \n",
      "    return k0, str(tps).strip('[]'), str(numpy.absolute(CalG)).strip('[]'), str((k0**(3./2))*numpy.absolute(CalG)).strip('[]'), str(G.real).strip('[]'), str((k0**6.)*G.real).strip('[]'), str(h_NL.real).strip('[]')"
     ],
     "language": "python",
     "metadata": {},
     "outputs": [],
     "prompt_number": 33
    },
    {
     "cell_type": "code",
     "collapsed": false,
     "input": [
      "k_list = numpy.array([10**((-12 + i)/2.) for i in range(13)])\n",
      "'''Range of modes k to run the main loop on.'''\n",
      "\n",
      "pool = mp.Pool(processes = 4)\n",
      "temp_results = [pool.apply_async(main, args = (k0, N_array,)) for k0 in k_list]\n",
      "results = []\n",
      "\n",
      "for i in range(len(k_list)):\n",
      "    results.append(temp_results[i].get())"
     ],
     "language": "python",
     "metadata": {},
     "outputs": []
    },
    {
     "cell_type": "code",
     "collapsed": false,
     "input": [
      "data = numpy.asarray(results,dtype=float)"
     ],
     "language": "python",
     "metadata": {},
     "outputs": [],
     "prompt_number": 20
    },
    {
     "cell_type": "code",
     "collapsed": false,
     "input": [
      "data"
     ],
     "language": "python",
     "metadata": {},
     "outputs": [
      {
       "metadata": {},
       "output_type": "pyout",
       "prompt_number": 31,
       "text": [
        "array([[  1.00000000e-06,   2.58217202e-10,   9.70164135e+20,\n",
        "          9.70164135e+11,  -8.63089430e+18,  -8.63089430e-18,\n",
        "          8.85920410e-01],\n",
        "       [  3.16227766e-06,   2.46595602e-10,   1.68595594e+19,\n",
        "          9.48082699e+10,  -7.87141125e+15,  -7.87141125e-18,\n",
        "          8.85913260e-01],\n",
        "       [  1.00000000e-05,   2.35497009e-10,   2.92986150e+17,\n",
        "          9.26503558e+09,  -7.17881394e+12,  -7.17881394e-18,\n",
        "          8.85913170e-01],\n",
        "       [  3.16227766e-05,   2.24897999e-10,   5.09152678e+15,\n",
        "          9.05415724e+08,  -6.54716946e+09,  -6.54716946e-18,\n",
        "          8.85914170e-01],\n",
        "       [  1.00000000e-04,   2.14775961e-10,   8.84807762e+13,\n",
        "          8.84807762e+07,  -5.97109937e+06,  -5.97109937e-18,\n",
        "          8.85915310e-01],\n",
        "       [  3.16227766e-04,   2.05109328e-10,   1.53761881e+12,\n",
        "          8.64666602e+06,  -5.44584657e+03,  -5.44584657e-18,\n",
        "          8.85939020e-01],\n",
        "       [  1.00000000e-03,   1.95877897e-10,   2.67207980e+10,\n",
        "          8.44985825e+05,  -4.96666685e+00,  -4.96666685e-18,\n",
        "          8.85938180e-01],\n",
        "       [  3.16227766e-03,   1.87061940e-10,   4.64355013e+08,\n",
        "          8.25752958e+04,  -4.52965000e-03,  -4.52965487e-18,\n",
        "          8.85938330e-01],\n",
        "       [  1.00000000e-02,   1.78642767e-10,   8.06957853e+06,\n",
        "          8.06957853e+03,  -4.13109513e-06,  -4.13109513e-18,\n",
        "          8.85938490e-01],\n",
        "       [  3.16227766e-02,   1.70602512e-10,   1.40233424e+05,\n",
        "          7.88590497e+02,  -3.76760406e-09,  -3.76760406e-18,\n",
        "          8.85938670e-01],\n",
        "       [  1.00000000e-01,   1.62923921e-10,   2.43697680e+03,\n",
        "          7.70639731e+01,  -3.43608298e-12,  -3.43608298e-18,\n",
        "          8.85937700e-01],\n",
        "       [  3.16227766e-01,   1.55591200e-10,   4.23498982e+01,\n",
        "          7.53099519e+00,  -3.13375208e-15,  -3.13375208e-18,\n",
        "          8.85939010e-01],\n",
        "       [  1.00000000e+00,   1.48588445e-10,   7.35958110e-01,\n",
        "          7.35958110e-01,  -2.85801603e-18,  -2.85801603e-18,\n",
        "          8.85939030e-01]])"
       ]
      }
     ],
     "prompt_number": 31
    },
    {
     "cell_type": "markdown",
     "metadata": {},
     "source": [
      "numpy.array([[3.16227766017e-06 2.46595601764e-10 1e-06 2.58217201678e-10   9.70164135e+11  -8.63089430e+18  -8.63089430e-18  0.88592041],\n",
      "[1e-05 2.35497009014e-10   9.26503558e+09  -7.17881394e+12  -7.17881394e-18  0.88591317],\n",
      "[3.16227766017e-05 2.24897998768e-10   9.05415724e+08  -6.54716946e+09  -6.54716946e-18  0.88591417],\n",
      "[9.48082699e+10  -7.87141125e+15  -7.87141125e-18  0.88591326],\n",
      "[0.000316227766017, 2.05109328056e-10  8646666.01548097 -5445.84656628  -5.44584657e-18  0.88593902],\n",
      " [0.001, 1.95877896538e-10  844985.82517846 -4.96666685  -4.96666685e-18  0.88593818],\n",
      " [0.00316227766017, 1.87061940351e-10  82575.29580379 -0.00452965  -4.52965487e-18  0.88593833],\n",
      " [0.0001, 2.14775961158e-10  88480776.23126677 -5971099.37019608  -5.97109937e-18  0.88591531],\n",
      "[0.01, 1.78642767412e-10  8069.57852955  -4.13109513e-06  -4.13109513e-18  0.88593849],\n",
      " [0.1, 1.62923921168e-10  77.06397308  -3.43608298e-12  -3.43608298e-18  0.8859377],\n",
      " [0.316227766017, 1.55591200141e-10  7.53099519  -3.13375208e-15  -3.13375208e-18  0.88593901],\n",
      " [0.0316227766017, 1.7060251244e-10  788.59049671  -3.76760406e-09  -3.76760406e-18  0.88593867],\n",
      "[1.0 1.48588445461e-10  0.73595811  -2.85801603e-18  -2.85801603e-18  0.88593903]])"
     ]
    },
    {
     "cell_type": "markdown",
     "metadata": {},
     "source": [
      "eq_data = numpy.array([[1e-05, 2.3549855577e-10, 9.25915864e+09 , -7.17866286e+12, -7.17866286e-18 , 0.88588289],\n",
      "[3.16227766017e-06,2.46597066648e-10,9.47888289e+10 , -7.87109784e+15,  -7.87109784e-18 , 0.88586746],\n",
      "[3.16227766017e-05,2.24899624781e-10,9.05093532e+08 , -6.54719875e+09 , -6.54719875e-18 , 0.88590533],\n",
      "[1e-06,2.58219160645e-10,9.69686625e+11 , -8.63077790e+18 , -8.63077790e-18 , 0.88589502],\n",
      "[0.0001,2.14777144694e-10,88474975.18361749 ,-5970895.33423269 , -5.97089533e-18 , 0.88587527],\n",
      " [0.000316227766017,2.05110777129e-10,8642441.76855521, -5445.6713833 , -5.44567138e-18 , 0.885898],\n",
      " [0.001,1.958790231e-10,844812.42205321 ,-4.96634256 , -4.96634256e-18 , 0.88587014],\n",
      " [0.00316227766017,1.87063195945e-10,82522.48891776, -0.00452944 , -4.52943861e-18 , 0.88588414],\n",
      "[0.0316227766017,1.7060510177e-10 , 788.55298517 , -3.76743084e-09 , -3.76743084e-18 , 0.88587105],\n",
      " [0.1,1.62927727629e-10,77.02827944 , -3.43614142e-12,  -3.43614142e-18 , 0.88591138],\n",
      " [0.01,1.78645274272e-10,8066.86857811 , -4.13105675e-06 , -4.13105675e-18 , 0.8859054],\n",
      " [0.316227766017,1.55594591879e-10,7.52963877 , -3.13367807e-15 , -3.13367807e-18 , 0.88587946],\n",
      "[1.0,1.48590921718e-10 , 0.73550151 , -2.85796404e-18 , -2.85796404e-18 , 0.88589338]])"
     ]
    },
    {
     "cell_type": "code",
     "collapsed": false,
     "input": [
      "%matplotlib inline"
     ],
     "language": "python",
     "metadata": {},
     "outputs": [],
     "prompt_number": 21
    },
    {
     "cell_type": "code",
     "collapsed": false,
     "input": [
      "#plt.loglog([eq_data[i][0] for i in range(len(eq_data))], [eq_data[i][1] for i in range(len(eq_data))],'.')\n",
      "plt.loglog(data[:,0], data[:,1],'.')"
     ],
     "language": "python",
     "metadata": {},
     "outputs": [
      {
       "metadata": {},
       "output_type": "pyout",
       "prompt_number": 22,
       "text": [
        "[<matplotlib.lines.Line2D at 0xad910e2c>]"
       ]
      },
      {
       "metadata": {},
       "output_type": "display_data",
       "png": "[encoded data removed]",
       "text": [
        "<matplotlib.figure.Figure at 0xad95218c>"
       ]
      }
     ],
     "prompt_number": 22
    },
    {
     "cell_type": "code",
     "collapsed": false,
     "input": [
      "#plt.loglog([eq_data[i][0] for i in range(len(eq_data))], [eq_data[i][2] for i in range(len(eq_data))],'.')\n",
      "plt.loglog(data[:,0], data[:,2],'.')"
     ],
     "language": "python",
     "metadata": {},
     "outputs": [
      {
       "metadata": {},
       "output_type": "pyout",
       "prompt_number": 23,
       "text": [
        "[<matplotlib.lines.Line2D at 0xacf84bec>]"
       ]
      },
      {
       "metadata": {},
       "output_type": "display_data",
       "png": "[encoded data removed]",
       "text": [
        "<matplotlib.figure.Figure at 0xad94f90c>"
       ]
      }
     ],
     "prompt_number": 23
    },
    {
     "cell_type": "code",
     "collapsed": false,
     "input": [
      "plt.loglog([eq_data[i][0] for i in range(len(eq_data))], [-eq_data[i][3] for i in range(len(eq_data))],'.')"
     ],
     "language": "python",
     "metadata": {},
     "outputs": [
      {
       "metadata": {},
       "output_type": "pyout",
       "prompt_number": 35,
       "text": [
        "[<matplotlib.lines.Line2D at 0xad58cbac>]"
       ]
      },
      {
       "metadata": {},
       "output_type": "display_data",
       "png": "[encoded data removed]",
       "text": [
        "<matplotlib.figure.Figure at 0xad7d36ec>"
       ]
      }
     ],
     "prompt_number": 35
    },
    {
     "cell_type": "code",
     "collapsed": false,
     "input": [
      "plt.loglog(data[:,0], data[:,3],'.')"
     ],
     "language": "python",
     "metadata": {},
     "outputs": [
      {
       "metadata": {},
       "output_type": "pyout",
       "prompt_number": 24,
       "text": [
        "[<matplotlib.lines.Line2D at 0xaad1f7ec>]"
       ]
      },
      {
       "metadata": {},
       "output_type": "display_data",
       "png": "[encoded data removed]",
       "text": [
        "<matplotlib.figure.Figure at 0xaacb88cc>"
       ]
      }
     ],
     "prompt_number": 24
    },
    {
     "cell_type": "code",
     "collapsed": false,
     "input": [
      "#plt.loglog([eq_data[i][0] for i in range(len(eq_data))], [-eq_data[i][4] for i in range(len(eq_data))],'.')\n",
      "plt.loglog(data[:,0], -data[:,4],'.')"
     ],
     "language": "python",
     "metadata": {},
     "outputs": [
      {
       "metadata": {},
       "output_type": "pyout",
       "prompt_number": 26,
       "text": [
        "[<matplotlib.lines.Line2D at 0xaa92ef6c>]"
       ]
      },
      {
       "metadata": {},
       "output_type": "display_data",
       "png": "[encoded data removed]",
       "text": [
        "<matplotlib.figure.Figure at 0xaab2606c>"
       ]
      }
     ],
     "prompt_number": 26
    },
    {
     "cell_type": "code",
     "collapsed": false,
     "input": [
      "plt.loglog(data[:,0], -data[:,5],'.')"
     ],
     "language": "python",
     "metadata": {},
     "outputs": [
      {
       "metadata": {},
       "output_type": "pyout",
       "prompt_number": 27,
       "text": [
        "[<matplotlib.lines.Line2D at 0xaabf4f0c>]"
       ]
      },
      {
       "metadata": {},
       "output_type": "display_data",
       "png": "[encoded data removed]",
       "text": [
        "<matplotlib.figure.Figure at 0xaa7f48ec>"
       ]
      }
     ],
     "prompt_number": 27
    },
    {
     "cell_type": "code",
     "collapsed": false,
     "input": [
      "#plt.semilogx([eq_data[i][0] for i in range(len(eq_data))], [eq_data[i][5] for i in range(len(eq_data))],'.')\n",
      "plt.semilogx(data[:,0], data[:,6],'.')\n",
      "plt.ylim([0.7,1.0])"
     ],
     "language": "python",
     "metadata": {},
     "outputs": [
      {
       "metadata": {},
       "output_type": "pyout",
       "prompt_number": 30,
       "text": [
        "(0.7, 1.0)"
       ]
      },
      {
       "metadata": {},
       "output_type": "display_data",
       "png": "[encoded data removed]",
       "text": [
        "<matplotlib.figure.Figure at 0xaa49c78c>"
       ]
      }
     ],
     "prompt_number": 30
    },
    {
     "cell_type": "code",
     "collapsed": false,
     "input": [],
     "language": "python",
     "metadata": {},
     "outputs": []
    }
   ],
   "metadata": {}
  }
 ]
}