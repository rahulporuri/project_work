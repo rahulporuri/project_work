{
 "metadata": {
  "name": "",
  "signature": "sha256:69e909d835a5c716aef6f347fee1f4195740f0d85b550b7286b95ba6aa535e14"
 },
 "nbformat": 3,
 "nbformat_minor": 0,
 "worksheets": [
  {
   "cells": [
    {
     "cell_type": "markdown",
     "metadata": {},
     "source": [
      "Inthe following IPython notebook, I first numerically estimate the scalar field $\\phi$ by solving the second order ODE governing it's evolution:\n",
      "\n",
      "$$\\ddot{\\phi} + 3H\\dot{\\phi} + \\frac{{\\rm d}V}{{\\rm d}\\phi} = 0$$\n",
      "\n",
      "where an overdot denotes differentiation with respect to coordinate time $t$ and H is the Hubble parameter $H = \\dot{a}/a$.\n",
      "\n",
      "Using the solution for $\\phi$, we solve the second order ODE governing the tensor perturbation h_{\\bf k}$\n",
      "\n",
      "$$h_{\\bf k}'' +\\frac{2a'}{a}h_{\\bf k}' +k^2h_{\\bf k} = 0$$\n",
      "\n",
      "where an overprime denotes differentiation with respect to conformal time $\\eta$.\n",
      "\n",
      "The Bunch-Davies initial conditions are imposed when the modes ${\\bf k}$ are sufficiently inside the Hubble radius i.e $k^2 >> a'/a$. In such a case, we can see that the equation governing the tensor perturbations is similar to a simple harmonic oscillator.\n",
      "Numerically speaking, we set the initial conditions when $k/a\\mathcal{H} = 10^2$ where $\\mathcal{H} = a'/a$. Similarly, we stop the evaluation when $k/a\\mathcal{H} = 10^{-5}$. For the modes of interest, if we compute these numbers in terms of conformal time $\\eta$, we will see that they are extremely large. As such, a numerical solution is not plausible. We therefore work in e-fold $N$ where $N = ln(a(t)/a_0)$. In terms of e-fold $N$, we can rewrite the above equations as\n",
      "\n",
      "$$\\frac{{\\rm d}^2\\phi}{{\\rm d}N^2} +\\left[3 -\\frac{1}{2}\\left(\\frac{{\\rm d}\\phi}{dN}\\right)^2\\right]\\frac{{\\rm d}\\phi}{dN} +\\frac{1}{2V(\\phi)}\\frac{{\\rm d} V}{{\\rm d}\\phi}\\left[6 -\\left(\\frac{{\\rm d}\\phi}{{\\rm d}N}\\right)^2\\right] =  0$$\n",
      "\n",
      "$$\\frac{ {\\rm d}^2 h_{\\bf k} }{ {\\rm d} N^2} \n",
      "+\\left(3 +\\frac{1}{H}\\frac{ {\\rm d} H }{ {\\rm d} N} \\right)\\frac{ {\\rm d} h_{\\bf k} }{ {\\rm d} N}\n",
      "+\\left(\\frac{k^2}{a^2H^2}\\right)h_{\\bf k} = 0$$\n",
      "\n",
      "We assume that a potential of the form\n",
      "\n",
      "$$V = V_0\\exp\\left[-\\sqrt{\\frac{2}{q}}\\left(\\phi -\\phi_0\\right)\\right]$$\n",
      "\n",
      "drives inflation and using the above potential, we can solve for $\\phi$.\n",
      "Once we have a solution for $\\phi$, we can obtain a numerical solution for the \n",
      "Hubble parameter $H$ using\n",
      "\n",
      "$$H^2 = \\frac{V(\\phi)}{\\left[3 -\\frac{1}{2}\\left(\\frac{{\\rm d}\\phi}{{\\rm d}N}\\right)^2\\right]}$$\n",
      "\n",
      "On a final note, the prefix d refers to differentiation with respect to conformal time $\\eta$ and \n",
      "the prefix D refers to differentiation with respect to e-fold $N$. The suffix 0 is used to denote \n",
      "the initial conditions. Nics and Nshss are used to refer to the values of e-fold $N$ when we start \n",
      "and end the numerical evaluation of $\\phi$ and $h_{\\bf k}$."
     ]
    },
    {
     "cell_type": "code",
     "collapsed": false,
     "input": [
      "import numpy\n",
      "import matplotlib.pyplot as plt\n",
      "%matplotlib inline"
     ],
     "language": "python",
     "metadata": {},
     "outputs": [],
     "prompt_number": 9
    },
    {
     "cell_type": "code",
     "collapsed": false,
     "input": [
      "f = open('power_spectrum_power_law.dat','w')\n",
      "\n",
      "q = 51.\n",
      "V0 = (204./100.)*1e-08\n",
      "t0 = (q*(3.*q -1.)/V0)**(1./2)\n",
      "\n",
      "phi0 = 1.\n",
      "dphi0 = (2.*q)**(1./2)/t0\n",
      "\n",
      "Ni = 0.\n",
      "Nf = 70. \n",
      "\n",
      "kp = 5.*1e-02\n",
      "beta = -((2.*q -1.)/(q -1.))\n",
      "eps1a = ((beta +2.)/(beta +1.))"
     ],
     "language": "python",
     "metadata": {},
     "outputs": [],
     "prompt_number": 10
    },
    {
     "cell_type": "code",
     "collapsed": false,
     "input": [
      "#V = lambda phi : V0*numpy.exp(-(2*q)**(1./2.)*(phi-phi_i))\n",
      "V = lambda phi : V0*numpy.exp(-(2./q)**(1./2)*(phi -phi0))\n",
      "dV = lambda phi : -(2./q)**(1./2)*V0*numpy.exp(-(2./q)**(1./2)*(phi -phi0))\n",
      "\n",
      "H0 = ((1./3)*(dphi0**2/2. +V(phi0)))**(1./2.)\n",
      "Dphi0 = dphi0/H0\n",
      "\n",
      "def DDphi(N, phi0, Dphi0):\n",
      "    return -(3 -Dphi0**2/2.)*Dphi0 -(dV(phi0)/(2*V(phi0)))*(6 -Dphi0**2)\n",
      "\n",
      "def rk4_step(N, phi0, Dphi0, step):\n",
      "    F1 = Dphi0\n",
      "    f1 = DDphi(N, phi0, Dphi0)\n",
      "    F2 = Dphi0 +f1*step/2.\n",
      "    f2 = DDphi(N +step/2., phi0 +F1*step/2., Dphi0 +f1*step/2.)\n",
      "    F3 = Dphi0 +f2*step/2.\n",
      "    f3 = DDphi(N +step/2., phi0 +F2*step/2., Dphi0 +f2*step/2.)\n",
      "    F4 = Dphi0 +f3*step\n",
      "    f4 = DDphi(N +step, phi0 +F3*step, Dphi0 +f3*step)  \n",
      "\n",
      "    return [(f1 +2*f2 +2*f3 +f4)*step/6, (F1 +2*F2 +2*F3 +F4)*step/6.] # [Dhk, hk] update"
     ],
     "language": "python",
     "metadata": {},
     "outputs": [],
     "prompt_number": 11
    },
    {
     "cell_type": "code",
     "collapsed": false,
     "input": [
      "npts = 10000\n",
      "step = (Nf-Ni)/(npts)\n",
      "\n",
      "phi_temp = phi0\n",
      "Dphi_temp = Dphi0\n",
      "\n",
      "phi_array = numpy.array([phi_temp])\n",
      "Dphi_array = numpy.array([Dphi_temp])\n",
      "N_array = numpy.array([Ni]) \n",
      "\n",
      "N = Ni\n",
      "print N, phi_temp, Dphi_temp\n",
      "while N < Nf:\n",
      "    array = rk4_step(N, phi_temp, Dphi_temp, step)\n",
      "    phi_temp = phi_temp + array[1]\n",
      "    Dphi_temp = Dphi_temp + array[0]\n",
      "    phi_array = numpy.append(phi_array,phi_temp)\n",
      "    Dphi_array = numpy.append(Dphi_array,Dphi_temp)\n",
      "    N += step\n",
      "#    print N, phi_temp, Dphi_temp\n",
      "    N_array = numpy.append(N_array,N)\n",
      "\n",
      "#plt.plot(numpy.linspace(0,70,npts+1), phi_array)"
     ],
     "language": "python",
     "metadata": {},
     "outputs": [
      {
       "output_type": "stream",
       "stream": "stdout",
       "text": [
        "0.0 1.0 0.198029508595\n"
       ]
      }
     ],
     "prompt_number": 12
    },
    {
     "cell_type": "code",
     "collapsed": false,
     "input": [],
     "language": "python",
     "metadata": {},
     "outputs": []
    },
    {
     "cell_type": "code",
     "collapsed": false,
     "input": [
      "N_new = numpy.linspace(Ni,Nf,500000)\n",
      "phi_array_new = numpy.interp(N_new, N_array, phi_array)\n",
      "Dphi_array_new = numpy.interp(N_new, N_array, Dphi_array)"
     ],
     "language": "python",
     "metadata": {},
     "outputs": [],
     "prompt_number": 13
    },
    {
     "cell_type": "code",
     "collapsed": false,
     "input": [
      "phi_array = phi_array_new\n",
      "Dphi_array = Dphi_array_new\n",
      "N_array = N_new\n",
      "step = (Nf-Ni)/(500000)"
     ],
     "language": "python",
     "metadata": {},
     "outputs": [],
     "prompt_number": 14
    },
    {
     "cell_type": "code",
     "collapsed": false,
     "input": [],
     "language": "python",
     "metadata": {},
     "outputs": []
    },
    {
     "cell_type": "code",
     "collapsed": false,
     "input": [
      "phi = lambda N : phi_array[int((N-Ni)/step)]\n",
      "Dphi = lambda N : Dphi_array[int((N-Ni)/step)]\n",
      "\n",
      "phi_theory = lambda N : (2./q)**(1./2)*N + phi0"
     ],
     "language": "python",
     "metadata": {},
     "outputs": [],
     "prompt_number": 15
    },
    {
     "cell_type": "code",
     "collapsed": false,
     "input": [
      "plt.cla()\n",
      "plt.hold()\n",
      "#plt.plot(N_array, [phi(N) for N in N_array],'*')\n",
      "theory, = plt.plot(N_array, [phi_theory(N) for N in N_array], label = 'theory')\n",
      "#plt.plot(N_array, phi_array,'o')\n",
      "numerical, = plt.plot(N_array, [phi(N) for N in N_array],'*', label = 'numerical')\n",
      "plt.legend([numerical, theory],['numerical','theory'])\n",
      "#plt.savefig('phi_vs_N_power_law.png')\n",
      "#plt.show()"
     ],
     "language": "python",
     "metadata": {},
     "outputs": [
      {
       "ename": "IndexError",
       "evalue": "index 500000 is out of bounds for axis 0 with size 500000",
       "output_type": "pyerr",
       "traceback": [
        "\u001b[0;31m---------------------------------------------------------------------------\u001b[0m\n\u001b[0;31mIndexError\u001b[0m                                Traceback (most recent call last)",
        "\u001b[0;32m<ipython-input-16-7eebc71af553>\u001b[0m in \u001b[0;36m<module>\u001b[0;34m()\u001b[0m\n\u001b[1;32m      4\u001b[0m \u001b[0mtheory\u001b[0m\u001b[0;34m,\u001b[0m \u001b[0;34m=\u001b[0m \u001b[0mplt\u001b[0m\u001b[0;34m.\u001b[0m\u001b[0mplot\u001b[0m\u001b[0;34m(\u001b[0m\u001b[0mN_array\u001b[0m\u001b[0;34m,\u001b[0m \u001b[0;34m[\u001b[0m\u001b[0mphi_theory\u001b[0m\u001b[0;34m(\u001b[0m\u001b[0mN\u001b[0m\u001b[0;34m)\u001b[0m \u001b[0;32mfor\u001b[0m \u001b[0mN\u001b[0m \u001b[0;32min\u001b[0m \u001b[0mN_array\u001b[0m\u001b[0;34m]\u001b[0m\u001b[0;34m,\u001b[0m \u001b[0mlabel\u001b[0m \u001b[0;34m=\u001b[0m \u001b[0;34m'theory'\u001b[0m\u001b[0;34m)\u001b[0m\u001b[0;34m\u001b[0m\u001b[0m\n\u001b[1;32m      5\u001b[0m \u001b[0;31m#plt.plot(N_array, phi_array,'o')\u001b[0m\u001b[0;34m\u001b[0m\u001b[0;34m\u001b[0m\u001b[0m\n\u001b[0;32m----> 6\u001b[0;31m \u001b[0mnumerical\u001b[0m\u001b[0;34m,\u001b[0m \u001b[0;34m=\u001b[0m \u001b[0mplt\u001b[0m\u001b[0;34m.\u001b[0m\u001b[0mplot\u001b[0m\u001b[0;34m(\u001b[0m\u001b[0mN_array\u001b[0m\u001b[0;34m,\u001b[0m \u001b[0;34m[\u001b[0m\u001b[0mphi\u001b[0m\u001b[0;34m(\u001b[0m\u001b[0mN\u001b[0m\u001b[0;34m)\u001b[0m \u001b[0;32mfor\u001b[0m \u001b[0mN\u001b[0m \u001b[0;32min\u001b[0m \u001b[0mN_array\u001b[0m\u001b[0;34m]\u001b[0m\u001b[0;34m,\u001b[0m\u001b[0;34m'*'\u001b[0m\u001b[0;34m,\u001b[0m \u001b[0mlabel\u001b[0m \u001b[0;34m=\u001b[0m \u001b[0;34m'numerical'\u001b[0m\u001b[0;34m)\u001b[0m\u001b[0;34m\u001b[0m\u001b[0m\n\u001b[0m\u001b[1;32m      7\u001b[0m \u001b[0mplt\u001b[0m\u001b[0;34m.\u001b[0m\u001b[0mlegend\u001b[0m\u001b[0;34m(\u001b[0m\u001b[0;34m[\u001b[0m\u001b[0mnumerical\u001b[0m\u001b[0;34m,\u001b[0m \u001b[0mtheory\u001b[0m\u001b[0;34m]\u001b[0m\u001b[0;34m,\u001b[0m\u001b[0;34m[\u001b[0m\u001b[0;34m'numerical'\u001b[0m\u001b[0;34m,\u001b[0m\u001b[0;34m'theory'\u001b[0m\u001b[0;34m]\u001b[0m\u001b[0;34m)\u001b[0m\u001b[0;34m\u001b[0m\u001b[0m\n\u001b[1;32m      8\u001b[0m \u001b[0;31m#plt.savefig('phi_vs_N_power_law.png')\u001b[0m\u001b[0;34m\u001b[0m\u001b[0;34m\u001b[0m\u001b[0m\n",
        "\u001b[0;32m<ipython-input-15-bf66346890cf>\u001b[0m in \u001b[0;36m<lambda>\u001b[0;34m(N)\u001b[0m\n\u001b[0;32m----> 1\u001b[0;31m \u001b[0mphi\u001b[0m \u001b[0;34m=\u001b[0m \u001b[0;32mlambda\u001b[0m \u001b[0mN\u001b[0m \u001b[0;34m:\u001b[0m \u001b[0mphi_array\u001b[0m\u001b[0;34m[\u001b[0m\u001b[0mint\u001b[0m\u001b[0;34m(\u001b[0m\u001b[0;34m(\u001b[0m\u001b[0mN\u001b[0m\u001b[0;34m-\u001b[0m\u001b[0mNi\u001b[0m\u001b[0;34m)\u001b[0m\u001b[0;34m/\u001b[0m\u001b[0mstep\u001b[0m\u001b[0;34m)\u001b[0m\u001b[0;34m]\u001b[0m\u001b[0;34m\u001b[0m\u001b[0m\n\u001b[0m\u001b[1;32m      2\u001b[0m \u001b[0mDphi\u001b[0m \u001b[0;34m=\u001b[0m \u001b[0;32mlambda\u001b[0m \u001b[0mN\u001b[0m \u001b[0;34m:\u001b[0m \u001b[0mDphi_array\u001b[0m\u001b[0;34m[\u001b[0m\u001b[0mint\u001b[0m\u001b[0;34m(\u001b[0m\u001b[0;34m(\u001b[0m\u001b[0mN\u001b[0m\u001b[0;34m-\u001b[0m\u001b[0mNi\u001b[0m\u001b[0;34m)\u001b[0m\u001b[0;34m/\u001b[0m\u001b[0mstep\u001b[0m\u001b[0;34m)\u001b[0m\u001b[0;34m]\u001b[0m\u001b[0;34m\u001b[0m\u001b[0m\n\u001b[1;32m      3\u001b[0m \u001b[0;34m\u001b[0m\u001b[0m\n\u001b[1;32m      4\u001b[0m \u001b[0mphi_theory\u001b[0m \u001b[0;34m=\u001b[0m \u001b[0;32mlambda\u001b[0m \u001b[0mN\u001b[0m \u001b[0;34m:\u001b[0m \u001b[0;34m(\u001b[0m\u001b[0;36m2.\u001b[0m\u001b[0;34m/\u001b[0m\u001b[0mq\u001b[0m\u001b[0;34m)\u001b[0m\u001b[0;34m**\u001b[0m\u001b[0;34m(\u001b[0m\u001b[0;36m1.\u001b[0m\u001b[0;34m/\u001b[0m\u001b[0;36m2\u001b[0m\u001b[0;34m)\u001b[0m\u001b[0;34m*\u001b[0m\u001b[0mN\u001b[0m \u001b[0;34m+\u001b[0m \u001b[0mphi0\u001b[0m\u001b[0;34m\u001b[0m\u001b[0m\n",
        "\u001b[0;31mIndexError\u001b[0m: index 500000 is out of bounds for axis 0 with size 500000"
       ]
      },
      {
       "metadata": {},
       "output_type": "display_data",
       "png": "[encoded data removed]",
       "text": [
        "<matplotlib.figure.Figure at 0xaf8c952c>"
       ]
      }
     ],
     "prompt_number": 16
    },
    {
     "cell_type": "code",
     "collapsed": false,
     "input": [
      "#H = [((V(phi_array[i]))/(3 -Dphi_array[i]**2/2))**(1./2) for i in range(len(phi_array))]\n",
      "H = lambda N : (V(phi(N))/(3 -Dphi(N)**2/2))**(1./2)\n",
      "DH = lambda N : H(N)*Dphi(N)\n",
      "\n",
      "H_theory = lambda N : H0*numpy.exp(-N/q)"
     ],
     "language": "python",
     "metadata": {},
     "outputs": [],
     "prompt_number": 6
    },
    {
     "cell_type": "code",
     "collapsed": false,
     "input": [
      "print H(0), H0"
     ],
     "language": "python",
     "metadata": {},
     "outputs": [
      {
       "output_type": "stream",
       "stream": "stdout",
       "text": [
        "8.27329247767e-05 8.27329247767e-05\n"
       ]
      }
     ],
     "prompt_number": 7
    },
    {
     "cell_type": "code",
     "collapsed": false,
     "input": [
      "plt.cla()\n",
      "plt.hold()\n",
      "plt.plot(N_array, numpy.asarray([str(H(i)).strip('[]') for i in N_array], dtype= numpy.float64)/H0, '*')\n",
      "plt.plot(N_array, [H_theory(N)/H0 for N in N_array],'-')\n",
      "plt.savefig('H_vs_N_power_law.png')"
     ],
     "language": "python",
     "metadata": {},
     "outputs": [
      {
       "metadata": {},
       "output_type": "display_data",
       "png": "[encoded data removed]",
       "text": [
        "<matplotlib.figure.Figure at 0xaffed7ec>"
       ]
      }
     ],
     "prompt_number": 26
    },
    {
     "cell_type": "code",
     "collapsed": false,
     "input": [
      "ai = 1e-05\n",
      "\n",
      "eps0 = (3./2)*((dphi0**2)/(dphi0**2/2. + V(phi0)))\n",
      "eps = 1./q \n",
      "\n",
      "eps1 = lambda N : Dphi_array[int((N-Ni)/step)]**2/2.\n",
      "eps1_theory = eps0"
     ],
     "language": "python",
     "metadata": {},
     "outputs": [],
     "prompt_number": 8
    },
    {
     "cell_type": "code",
     "collapsed": false,
     "input": [
      "plt.cla()\n",
      "plt.axhline(y=eps0)\n",
      "plt.scatter(N_array, [str(eps1(i)).strip('[]') for i in N_array])\n",
      "plt.savefig('eps1_vs_N_power_law.png')"
     ],
     "language": "python",
     "metadata": {},
     "outputs": [
      {
       "metadata": {},
       "output_type": "display_data",
       "png": "[encoded data removed]",
       "text": [
        "<matplotlib.figure.Figure at 0xb11de40c>"
       ]
      }
     ],
     "prompt_number": 28
    },
    {
     "cell_type": "code",
     "collapsed": false,
     "input": [],
     "language": "python",
     "metadata": {},
     "outputs": []
    },
    {
     "cell_type": "code",
     "collapsed": false,
     "input": [
      "k_list = numpy.array([10**((-12 + i)/2.) for i in range(13)])\n",
      "Nics_array = []\n",
      "Nshss_array = []\n",
      "\n",
      "for k in k_list:\n",
      "    #temp = numpy.asarray([k/(A(N)*H(N)) for N in N_array])\n",
      "    Nics_temp = numpy.asarray([k - 1e+02*A(N)*H(N) for N in N_array])\n",
      "    Nshss_temp = numpy.asarray([k - 1e-05*A(N)*H(N) for N in N_array])\n",
      "    nics_test = numpy.where(Nics_temp > 0)\n",
      "    nshss_test = numpy.where(Nshss_temp > 0)\n",
      "    Nics_array.append(Ni + nics_test[0][-1]*step)\n",
      "    Nshss_array.append(Ni + nshss_test[0][-1]*step)"
     ],
     "language": "python",
     "metadata": {},
     "outputs": [],
     "prompt_number": 55
    },
    {
     "cell_type": "code",
     "collapsed": false,
     "input": [
      "print Nics_array, Nshss_array"
     ],
     "language": "python",
     "metadata": {},
     "outputs": [
      {
       "output_type": "stream",
       "stream": "stdout",
       "text": [
        " [2.5409999999999999, 3.71, 4.8860000000000001, 6.0620000000000003, 7.2380000000000004, 8.407, 9.5830000000000002, 10.759, 11.935, 13.104000000000001, 14.280000000000001, 15.456, 16.632000000000001] [18.977, 20.152999999999999, 21.329000000000001, 22.504999999999999, 23.673999999999999, 24.850000000000001, 26.026, 27.202000000000002, 28.371000000000002, 29.547000000000001, 30.722999999999999, 31.899000000000001, 33.067999999999998]\n"
       ]
      }
     ],
     "prompt_number": 57
    },
    {
     "cell_type": "code",
     "collapsed": false,
     "input": [],
     "language": "python",
     "metadata": {},
     "outputs": []
    },
    {
     "cell_type": "code",
     "collapsed": false,
     "input": [
      "#z = [ai*numpy.exp(N_array[i])*Dphi_array[i] for i in range(len(N_array))]\n",
      "z = lambda N: ai*numpy.exp(N)*Dphi(N)\n",
      "A = lambda N : ai*numpy.exp(N)\n",
      "\n",
      "def DDhk(k0, N, hk0, Dhk0):\n",
      "    return -((3. +(DH(N)/H(N)))*Dhk0 +((k0/(A(N)*H(N)))**2)*hk0)\n",
      "\n",
      "def rk4_step(k0, N, hk0, Dhk0, step):\n",
      "    F1 = Dhk0\n",
      "    f1 = DDhk(k0, N, hk0, Dhk0)\n",
      "    F2 = Dhk0 +f1*step/2.\n",
      "    f2 = DDhk(k0, N +step/2., hk0 +F1*step/2., Dhk0 +f1*step/2.)\n",
      "    F3 = Dhk0 +f2*step/2.\n",
      "    f3 = DDhk(k0, N +step/2., hk0 +F2*step/2., Dhk0 +f2*step/2.)\n",
      "    F4 = Dhk0 +f3*step\n",
      "    f4 = DDhk(k0, N +step, hk0 +F3*step, Dhk0 +f3*step)   \n",
      "\n",
      "    return [numpy.array([(f1 +2*f2 +2*f3 +f4)*step/6.], dtype=complex), numpy.array([(F1 +2*F2 +2*F3 +F4)*step/6.], dtype=complex)] # [Dhk, hk] update"
     ],
     "language": "python",
     "metadata": {},
     "outputs": [],
     "prompt_number": 9
    },
    {
     "cell_type": "code",
     "collapsed": false,
     "input": [
      "Nics_array = numpy.array([2.54198038578949765072641948787, 3.71629878321646094957559512976, 4.89061718064342424842477077165, 6.06493557807038754727394641354, 7.23925397549735084612312205543, 8.41357237292431414497229769732, 9.58789077035127744382147333808, 10.7622091677782407426704414080, 11.9365275652052040415198238617, 13.1108459626321673403690002649, 14.2851643600591306392181759068, 15.4594827574860939380673515487, 16.6338011549130572369165271905, 17.8081195523400205357657028324])\n",
      "Nshs_array = numpy.array([18.9824379497669838346148777580, 20.1567563471939471334640541162, 21.3310747446209104323132297581, 22.5053931420478737311624054000, 23.6797115394748370300115810419, 24.8540299369018003288607566837, 26.0283483343287636277099323256, 27.2026667317557269265591079675, 28.3769851291826902254082834314, 29.5513035266096535242574592513, 30.7256219240366168231066348932, 31.8999403214635801219558105351, 33.0742587188905434208049861770, 34.2485771163175067196541618192])\n",
      "\n",
      "Nics_arr = Ni + numpy.array((Nics_array-Ni)/step,dtype=int)*step\n",
      "Nshss_arr = Ni + numpy.array((Nshs_array-Ni)/step,dtype=int)*step\n",
      "\n",
      "k_min = 1e-6\n",
      "k_max = 10**(1./2)\n",
      "\n",
      "print 'lift off!'\n",
      "\n",
      "k_vs_hk = numpy.zeros(1,dtype=complex)\n",
      "\n",
      "i = 0\n",
      "k0 = k_min\n",
      "\n",
      "while k0 < k_max:\n",
      "    print 'k0 = ', k0\n",
      "\n",
      "    Nics = Nics_arr[i]\n",
      "    Nshss = Nshss_arr[i]\n",
      "\n",
      "    hk0 = numpy.zeros(1,dtype=complex)\n",
      "    hk0.real = (((2.*k0)**(1./2))*A(Nics))**(-1.)\n",
      "\n",
      "    Dhk0 = numpy.zeros(1,dtype=complex)\n",
      "    Dhk0.real = -(1/A(Nics))*((2*k0)**(-1./2))\n",
      "    Dhk0.imag = -((k0/2)**(1./2))/(A(Nics)*A(Nics)*H(Nics))\n",
      " \n",
      "    print 'got Nics, hk0 and Dhk0'\n",
      "    print 'starting from Nics'\n",
      "\n",
      "    N = Nics\n",
      "    while N < Nshss:\n",
      "        #array = euler_step()\n",
      "        array = rk4_step(k0, N, hk0, Dhk0, step)\n",
      "        hk0 = hk0 + array[1]\n",
      "        Dhk0 = Dhk0 + array[0]\n",
      "        N += step\n",
      "\n",
      "    k_vs_hk = numpy.append(k_vs_hk, hk0) \n",
      "    print N-step, Nshss, hk0, Dhk0, Nics\n",
      "    print '\\n'\n",
      "    \n",
      "    temp = 8*(k0)**3/(2*numpy.pi**2)*(numpy.absolute(hk0))**2\n",
      "    f.write(str(k0)+\"\\t\"+str(hk0.real)+\"\\t\"+str(hk0.imag)+\"\\t\"+str(temp).strip('[]')+\"\\n\")\n",
      "    \n",
      "    k0 = 10**(1./2)*k0\n",
      "    i += 1"
     ],
     "language": "python",
     "metadata": {},
     "outputs": [
      {
       "output_type": "stream",
       "stream": "stdout",
       "text": [
        "lift off!\n",
        "k0 =  1e-06\n",
        "got Nics, hk0 and Dhk0\n",
        "starting from Nics\n",
        "18.97"
       ]
      },
      {
       "output_type": "stream",
       "stream": "stdout",
       "text": [
        " 18.977 [[[[[[[[[[[[[[[[[[[[[[[[[[[[[[[[ 31555.4364054]]]]]]]]]]]]]]]]]]]]]]]]]]]]]]]] [[[[[[[[[[[[[[[[[[[[[[[[[[[[[[[[ -2.57742061e-06 -6.33565797e-07j]]]]]]]]]]]]]]]]]]]]]]]]]]]]]]]] 2.541\n",
        "\n",
        "\n",
        "k0 =  3.16227766017e-06\n",
        "got Nics, hk0 and Dhk0\n",
        "starting from Nics\n",
        "20.146"
       ]
      },
      {
       "output_type": "stream",
       "stream": "stdout",
       "text": [
        " 20.153 [[[[[[[[[[[[[[[[[[[[[[[[[[[[[[[[ 5409.76627853]]]]]]]]]]]]]]]]]]]]]]]]]]]]]]]] [[[[[[[[[[[[[[[[[[[[[[[[[[[[[[[[ -4.40428569e-07 +1.31055450e-07j]]]]]]]]]]]]]]]]]]]]]]]]]]]]]]]] 3.71\n",
        "\n",
        "\n",
        "k0 =  1e-05\n",
        "got Nics, hk0 and Dhk0\n",
        "starting from Nics\n",
        "21.322"
       ]
      },
      {
       "output_type": "stream",
       "stream": "stdout",
       "text": [
        " 21.329 [[[[[[[[[[[[[[[[[[[[[[[[[[[[[[[[ 974.03131598]]]]]]]]]]]]]]]]]]]]]]]]]]]]]]]] [[[[[[[[[[[[[[[[[[[[[[[[[[[[[[[[ -7.90393046e-08 +9.45461749e-09j]]]]]]]]]]]]]]]]]]]]]]]]]]]]]]]] 4.886\n",
        "\n",
        "\n",
        "k0 =  3.16227766017e-05\n",
        "got Nics, hk0 and Dhk0\n",
        "starting from Nics\n",
        "22.498"
       ]
      },
      {
       "output_type": "stream",
       "stream": "stdout",
       "text": [
        " 22.505 [[[[[[[[[[[[[[[[[[[[[[[[[[[[[[[[ 170.29398293]]]]]]]]]]]]]]]]]]]]]]]]]]]]]]]] [[[[[[[[[[[[[[[[[[[[[[[[[[[[[[[[ -1.37733143e-08 -6.81031327e-10j]]]]]]]]]]]]]]]]]]]]]]]]]]]]]]]] 6.062\n",
        "\n",
        "\n",
        "k0 =  0.0001\n",
        "got Nics, hk0 and Dhk0\n",
        "starting from Nics\n",
        "23.667"
       ]
      },
      {
       "output_type": "stream",
       "stream": "stdout",
       "text": [
        " 23.674 [[[[[[[[[[[[[[[[[[[[[[[[[[[[[[[[ 28.93563947]]]]]]]]]]]]]]]]]]]]]]]]]]]]]]]] [[[[[[[[[[[[[[[[[[[[[[[[[[[[[[[[ -2.36483744e-09 -5.22751265e-10j]]]]]]]]]]]]]]]]]]]]]]]]]]]]]]]] 7.238\n",
        "\n",
        "\n",
        "k0 =  0.000316227766017\n",
        "got Nics, hk0 and Dhk0\n",
        "starting from Nics\n",
        "24.843"
       ]
      },
      {
       "output_type": "stream",
       "stream": "stdout",
       "text": [
        " 24.85 [[[[[[[[[[[[[[[[[[[[[[[[[[[[[[[[ 4.89361758]]]]]]]]]]]]]]]]]]]]]]]]]]]]]]]] [[[[[[[[[[[[[[[[[[[[[[[[[[[[[[[[ -3.98626718e-10 +1.29976023e-10j]]]]]]]]]]]]]]]]]]]]]]]]]]]]]]]] 8.407\n",
        "\n",
        "\n",
        "k0 =  0.001\n",
        "got Nics, hk0 and Dhk0\n",
        "starting from Nics\n",
        "26.019"
       ]
      },
      {
       "output_type": "stream",
       "stream": "stdout",
       "text": [
        " 26.026 [[[[[[[[[[[[[[[[[[[[[[[[[[[[[[[[ 0.88506462]]]]]]]]]]]]]]]]]]]]]]]]]]]]]]]] [[[[[[[[[[[[[[[[[[[[[[[[[[[[[[[[ -7.18586973e-11 +1.06059761e-11j]]]]]]]]]]]]]]]]]]]]]]]]]]]]]]]] 9.583\n",
        "\n",
        "\n",
        "k0 =  0.00316227766017\n",
        "got Nics, hk0 and Dhk0\n",
        "starting from Nics\n",
        "27.195"
       ]
      },
      {
       "output_type": "stream",
       "stream": "stdout",
       "text": [
        " 27.202 [[[[[[[[[[[[[[[[[[[[[[[[[[[[[[[[ 0.15545952]]]]]]]]]]]]]]]]]]]]]]]]]]]]]]]] [[[[[[[[[[[[[[[[[[[[[[[[[[[[[[[[ -1.25802612e-11 -2.76207859e-13j]]]]]]]]]]]]]]]]]]]]]]]]]]]]]]]] 10.759\n",
        "\n",
        "\n",
        "k0 =  0.01\n",
        "got Nics, hk0 and Dhk0\n",
        "starting from Nics\n",
        "28.364"
       ]
      },
      {
       "output_type": "stream",
       "stream": "stdout",
       "text": [
        " 28.371 [[[[[[[[[[[[[[[[[[[[[[[[[[[[[[[[ 0.02653832]]]]]]]]]]]]]]]]]]]]]]]]]]]]]]]] [[[[[[[[[[[[[[[[[[[[[[[[[[[[[[[[ -2.17007453e-12 -4.17783781e-13j]]]]]]]]]]]]]]]]]]]]]]]]]]]]]]]] 11.935\n",
        "\n",
        "\n",
        "k0 =  0.0316227766017\n",
        "got Nics, hk0 and Dhk0\n",
        "starting from Nics\n",
        "29.54"
       ]
      },
      {
       "output_type": "stream",
       "stream": "stdout",
       "text": [
        " 29.547 [[[[[[[[[[[[[[[[[[[[[[[[[[[[[[[[ 0.00442031]]]]]]]]]]]]]]]]]]]]]]]]]]]]]]]] [[[[[[[[[[[[[[[[[[[[[[[[[[[[[[[[ -3.60265244e-13 +1.28629038e-13j]]]]]]]]]]]]]]]]]]]]]]]]]]]]]]]] 13.104\n",
        "\n",
        "\n",
        "k0 =  0.1\n",
        "got Nics, hk0 and Dhk0\n",
        "starting from Nics\n",
        "30.716"
       ]
      },
      {
       "output_type": "stream",
       "stream": "stdout",
       "text": [
        " 30.723 [[[[[[[[[[[[[[[[[[[[[[[[[[[[[[[[ 0.0008034]]]]]]]]]]]]]]]]]]]]]]]]]]]]]]]] [[[[[[[[[[[[[[[[[[[[[[[[[[[[[[[[ -6.52631835e-14 +1.15159294e-14j]]]]]]]]]]]]]]]]]]]]]]]]]]]]]]]] 14.28\n",
        "\n",
        "\n",
        "k0 =  0.316227766017\n",
        "got Nics, hk0 and Dhk0\n",
        "starting from Nics\n",
        "31.892"
       ]
      },
      {
       "output_type": "stream",
       "stream": "stdout",
       "text": [
        " 31.899 [[[[[[[[[[[[[[[[[[[[[[[[[[[[[[[[ 0.0001418]]]]]]]]]]]]]]]]]]]]]]]]]]]]]]]] [[[[[[[[[[[[[[[[[[[[[[[[[[[[[[[[ -1.14806554e-14 +9.02093879e-17j]]]]]]]]]]]]]]]]]]]]]]]]]]]]]]]] 15.456\n",
        "\n",
        "\n",
        "k0 =  1.0\n",
        "got Nics, hk0 and Dhk0\n",
        "starting from Nics\n",
        "33.061"
       ]
      },
      {
       "output_type": "stream",
       "stream": "stdout",
       "text": [
        " 33.068 [[[[[[[[[[[[[[[[[[[[[[[[[[[[[[[[  2.43381595e-05]]]]]]]]]]]]]]]]]]]]]]]]]]]]]]]] [[[[[[[[[[[[[[[[[[[[[[[[[[[[[[[[ -1.99123237e-15 -3.17885177e-16j]]]]]]]]]]]]]]]]]]]]]]]]]]]]]]]] 16.632\n",
        "\n",
        "\n"
       ]
      }
     ],
     "prompt_number": 32
    },
    {
     "cell_type": "code",
     "collapsed": false,
     "input": [
      "k_list = numpy.array([10**((-12 + i)/2.) for i in range(13)])\n",
      "#print len(k_list), len(k_vs_hkhk)\n",
      "TPS = [8*(k_list[i])**3/(2*numpy.pi**2)*(numpy.absolute(k_vs_hk[i+1]))**2 for i in range(len(k_list))]\n",
      "print k_list, TPS\n",
      "\n",
      "f.close()\n",
      "\n",
      "plt.loglog(k_list, TPS)\n",
      "#plt.savefig('power_spectrum_power_law.png')"
     ],
     "language": "python",
     "metadata": {},
     "outputs": [
      {
       "output_type": "stream",
       "stream": "stdout",
       "text": [
        "[  1.00000000e-06   3.16227766e-06   1.00000000e-05   3.16227766e-05\n",
        "   1.00000000e-04   3.16227766e-04   1.00000000e-03   3.16227766e-03\n",
        "   1.00000000e-02   3.16227766e-02   1.00000000e-01   3.16227766e-01\n",
        "   1.00000000e+00] [4.2794529656172494e-10, 4.0828495695742144e-10, 3.9001051115785261e-10, 3.7257982240388761e-10, 3.5591429292131174e-10, 3.3954642807161354e-10, 3.2439150854915298e-10, 3.098875853147917e-10, 2.9601425441462049e-10, 2.8234120512976641e-10, 2.6973546702146884e-10, 2.57697243576684e-10, 2.4618707671229913e-10]\n"
       ]
      },
      {
       "metadata": {},
       "output_type": "pyout",
       "prompt_number": 33,
       "text": [
        "[<matplotlib.lines.Line2D at 0xafefdb4c>]"
       ]
      },
      {
       "metadata": {},
       "output_type": "display_data",
       "png": "[encoded data removed]",
       "text": [
        "<matplotlib.figure.Figure at 0xb11c33ac>"
       ]
      }
     ],
     "prompt_number": 33
    },
    {
     "cell_type": "code",
     "collapsed": false,
     "input": [
      "k_list = numpy.array([10**((-12 + i)/2.) for i in range(13)])\n",
      "#print len(k_list), len(k_vs_hkhk)\n",
      "TPS = [8*(k_list[i])**3/(2*numpy.pi**2)*(numpy.absolute(k_vs_hk[i+1]))**2 for i in range(len(k_list))]\n",
      "print k_list, TPS\n",
      "\n",
      "f.close()\n",
      "\n",
      "plt.loglog(k_list, TPS)\n",
      "#plt.savefig('power_spectrum_power_law.png')"
     ],
     "language": "python",
     "metadata": {},
     "outputs": [
      {
       "output_type": "stream",
       "stream": "stdout",
       "text": [
        "[  1.00000000e-06   3.16227766e-06   1.00000000e-05   3.16227766e-05\n",
        "   1.00000000e-04   3.16227766e-04   1.00000000e-03   3.16227766e-03\n",
        "   1.00000000e-02   3.16227766e-02   1.00000000e-01   3.16227766e-01\n",
        "   1.00000000e+00] [6.7423086544791668e-11, 6.4388613041358608e-11, 6.1490602062959506e-11, 5.8723084648476243e-11, 5.6080117128935684e-11, 5.3556051365420809e-11, 5.1145632097648404e-11, 4.8843697772821732e-11, 4.6645367533013282e-11, 4.4545968132979413e-11, 4.2541020628302815e-11, 4.0626348621477504e-11, 3.8797884687558423e-11]\n"
       ]
      },
      {
       "metadata": {},
       "output_type": "pyout",
       "prompt_number": 12,
       "text": [
        "[<matplotlib.lines.Line2D at 0xb13f3c2c>]"
       ]
      },
      {
       "metadata": {},
       "output_type": "display_data",
       "png": "[encoded data removed]",
       "text": [
        "<matplotlib.figure.Figure at 0xb13abaec>"
       ]
      }
     ],
     "prompt_number": 12
    },
    {
     "cell_type": "code",
     "collapsed": false,
     "input": [],
     "language": "python",
     "metadata": {},
     "outputs": []
    },
    {
     "cell_type": "code",
     "collapsed": false,
     "input": [
      "k_list = numpy.array([10**((-12 + i)/2.) for i in range(13)])\n",
      "#print len(k_list), len(k_vs_hkhk)\n",
      "TPS = [8*(k_list[i])**3/(2*numpy.pi**2)*(numpy.absolute(k_vs_hk[i+1]))**2 for i in range(len(k_list))]\n",
      "print k_list, TPS\n",
      "\n",
      "f.close()\n",
      "\n",
      "plt.loglog(k_list, TPS)\n",
      "#plt.savefig('power_spectrum_power_law.png')"
     ],
     "language": "python",
     "metadata": {},
     "outputs": [
      {
       "output_type": "stream",
       "stream": "stdout",
       "text": [
        "[  1.00000000e-06   3.16227766e-06   1.00000000e-05   3.16227766e-05\n",
        "   1.00000000e-04   3.16227766e-04   1.00000000e-03   3.16227766e-03\n",
        "   1.00000000e-02   3.16227766e-02   1.00000000e-01   3.16227766e-01\n",
        "   1.00000000e+00] [6.7421149828375626e-11, 6.4386669736878772e-11, 6.148879903862464e-11, 5.8721409195784912e-11, 5.607844519396667e-11, 5.355452523193248e-11, 5.1144158663090171e-11, 4.8842401367401684e-11, 4.6645034665475163e-11, 4.4545208410015991e-11, 4.2540647713904329e-11, 4.0625810047470394e-11, 3.8797166100746253e-11]\n"
       ]
      },
      {
       "metadata": {},
       "output_type": "pyout",
       "prompt_number": 10,
       "text": [
        "[<matplotlib.lines.Line2D at 0xaeb8aa4c>]"
       ]
      },
      {
       "metadata": {},
       "output_type": "display_data",
       "png": "[encoded data removed]",
       "text": [
        "<matplotlib.figure.Figure at 0xaebe044c>"
       ]
      }
     ],
     "prompt_number": 10
    },
    {
     "cell_type": "code",
     "collapsed": false,
     "input": [],
     "language": "python",
     "metadata": {},
     "outputs": []
    },
    {
     "cell_type": "code",
     "collapsed": false,
     "input": [
      "from scipy.special import gamma as gamma_func"
     ],
     "language": "python",
     "metadata": {},
     "outputs": [],
     "prompt_number": 74
    },
    {
     "cell_type": "code",
     "collapsed": false,
     "input": [
      "gamma = -(2.*q-1.)/(q-1.)\n",
      "nu = -(gamma +1./2.)\n",
      "ai = 1e-05\n",
      "a0 = ai\n",
      "Hbar = -((q-1.)*(a0**(1./q)))"
     ],
     "language": "python",
     "metadata": {},
     "outputs": [],
     "prompt_number": 82
    },
    {
     "cell_type": "code",
     "collapsed": false,
     "input": [
      "tps_theory = lambda k : (1./(numpy.pi**3))*((gamma_func(nu))**2/(2.**(2.*gamma+1.)))*((Hbar)**2)*(((k/Hbar)**2)**(gamma+2))"
     ],
     "language": "python",
     "metadata": {},
     "outputs": [],
     "prompt_number": 99
    },
    {
     "cell_type": "code",
     "collapsed": false,
     "input": [
      "((k/Hbar)**2)**(gamma+2)"
     ],
     "language": "python",
     "metadata": {},
     "outputs": [
      {
       "metadata": {},
       "output_type": "pyout",
       "prompt_number": 100,
       "text": [
        "1.1588767010088608"
       ]
      }
     ],
     "prompt_number": 100
    },
    {
     "cell_type": "code",
     "collapsed": false,
     "input": [
      "k_list = numpy.array([10**((-12 + i)/2.) for i in range(13)])\n",
      "for k in k_list:\n",
      "    print k, tps_theory(k)"
     ],
     "language": "python",
     "metadata": {},
     "outputs": [
      {
       "output_type": "stream",
       "stream": "stdout",
       "text": [
        "1e-06 669.06081424\n",
        "3.16227766017e-06 638.948117197\n",
        "1e-05 610.190714776\n",
        "3.16227766017e-05 582.72760867\n",
        "0.0001 556.50054595\n",
        "0.000316227766017 531.453895499\n",
        "0.001 507.534530014\n",
        "0.00316227766017 484.691713313\n",
        "0.01 462.87699272\n",
        "0.0316227766017 442.044096287\n",
        "0.1 422.148834649\n",
        "0.316227766017 403.149007287\n",
        "1.0 385.004313021\n"
       ]
      }
     ],
     "prompt_number": 101
    },
    {
     "cell_type": "code",
     "collapsed": false,
     "input": [],
     "language": "python",
     "metadata": {},
     "outputs": []
    }
   ],
   "metadata": {}
  }
 ]
}