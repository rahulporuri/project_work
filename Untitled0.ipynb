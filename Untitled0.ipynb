{
 "metadata": {
  "name": "",
  "signature": "sha256:dac6d0aa4874bcd66bebaec5dd127a2f6ef4e73ae84a52052e316ff2f42813ac"
 },
 "nbformat": 3,
 "nbformat_minor": 0,
 "worksheets": [
  {
   "cells": [
    {
     "cell_type": "code",
     "collapsed": false,
     "input": [
      "import numpy as numpy\n",
      "import matplotlib.pyplot as plt\n",
      "%matplotlib inline\n",
      "\n",
      "import sympy as sym\n",
      "from sympy.functions import exp\n",
      "import scipy.optimize as opt\n",
      "\n",
      "x = sym.symbols('x')"
     ],
     "language": "python",
     "metadata": {},
     "outputs": [],
     "prompt_number": 1
    },
    {
     "cell_type": "code",
     "collapsed": false,
     "input": [
      "a0 = 1e-05\n",
      "n0 = numpy.exp(25)\n",
      "p = 1"
     ],
     "language": "python",
     "metadata": {},
     "outputs": [],
     "prompt_number": 2
    },
    {
     "cell_type": "code",
     "collapsed": false,
     "input": [
      "def DDhk(k0, N, hk0, Dhk0):\n",
      "    return -((3.*N -(1./N) +(DH(N)/H(N)))*Dhk0 +(((k0*N)/(A(N)*H(N)))**2)*hk0)\n",
      "\n",
      "def rk4_step(k0, N, hk0, Dhk0, step):\n",
      "    F1 = Dhk0\n",
      "    f1 = DDhk(k0, N, hk0, Dhk0)\n",
      "    F2 = Dhk0 +f1*step/2.\n",
      "    f2 = DDhk(k0, N +step/2., hk0 +F1*step/2., Dhk0 +f1*step/2.)\n",
      "    F3 = Dhk0 +f2*step/2.\n",
      "    f3 = DDhk(k0, N +step/2., hk0 +F2*step/2., Dhk0 +f2*step/2.)\n",
      "    F4 = Dhk0 +f3*step\n",
      "    f4 = DDhk(k0, N +step, hk0 +F3*step, Dhk0 +f3*step)   \n",
      "\n",
      "    return numpy.array([(f1 +2*f2 +2*f3 +f4)*step/6.], dtype=complex), numpy.array([(F1 +2*F2 +2*F3 +F4)*step/6.], dtype=complex) # [Dhk, hk] update\n",
      "\n",
      "k_min = 1e-25\n",
      "k_max = 1e-9\n",
      "\n",
      "Nshss = 3.02287778\n",
      "\n",
      "print 'lift off!'\n",
      "\n",
      "k_vs_hk = numpy.zeros(1,dtype=complex)\n",
      "\n",
      "k0 = k_min\n",
      "while k0 < k_max:\n",
      "    print 'k0 = ', k0\n",
      "\n",
      "    A = lambda N : a0*exp(x**2/2).subs(x,N).evalf()\n",
      "    an = lambda n : a0*((1+(n/n0)**2)**p)\n",
      "\n",
      "    nm = lambda N : -n0*((A(N)/a0)**(1./p)-1)**(1./2)\n",
      "    n = lambda N : nm(N)\n",
      "    \n",
      "    aN = lambda N : an(n(N))\n",
      "    h = lambda n : (sym.diff(an(x),x).subs(x,n).evalf())/(an(n)**2)\n",
      "    H = lambda N : h(n(N))\n",
      "    DH = lambda N : sym.diff(H(x),x).subs(x,N).evalf()\n",
      "\n",
      "    fn = lambda n : sym.diff(sym.diff(an(x),x),x).subs(x,n).evalf()/an(n)\n",
      "    fN = lambda N : fn(n(N))    \n",
      "    \n",
      "    Nics = numpy.array([-4])\n",
      "    for i in range(200):\n",
      "        Nics = opt.newton_krylov(lambda N : (k0)**2 - 1e+04*fN(N),Nics)\n",
      "    \n",
      "    hk0 = numpy.zeros(1,dtype=complex)\n",
      "    hk0.real = (((2.*k0)**(1./2))*A(Nics))**(-1.)\n",
      "    \n",
      "    Dhk0 = numpy.zeros(1,dtype=complex)\n",
      "    Dhk0.real = -(sym.diff(A(x),x).subs(x,Nics).evalf()/(A(Nics)**2))*((2*k0)**(-1./2))\n",
      "    Dhk0.imag = -Nics*((k0/2)**(1./2))/(A(Nics)*A(Nics)*H(Nics))\n",
      "\n",
      "    print 'got Nics, hk0 and Dhk0'\n",
      "\n",
      "    npts = 5000\n",
      "    step = (0-Nics)/(npts-1)\n",
      "\n",
      "    print 'starting from Nics'\n",
      "    \n",
      "    N = Nics\n",
      "    while N < 0 -2*step:\n",
      "        #array = euler_step(N, hk0, Dhk0, step)\n",
      "        array = rk4_step(k0, N, hk0, Dhk0, step)\n",
      "        hk0 = hk0 + array[1]\n",
      "        Dhk0 = Dhk0 + array[0]\n",
      "        N += step\n",
      "\n",
      "    print N-step, 0, hk0, Dhk0\n",
      "    print 'half way there!'\n",
      "\n",
      "    A = lambda N : a0*exp(x**2/2).subs(x,N).evalf()\n",
      "    an = lambda n : a0*((1+(n/n0)**2)**p)\n",
      "\n",
      "    np = lambda N : n0*((A(N)/a0)**(1./p)-1)**(1./2)\n",
      "    n = lambda N : np(N)\n",
      "    \n",
      "    aN = lambda N : an(n(N))\n",
      "    h = lambda n : (sym.diff(an(x),x).subs(x,n).evalf())/(an(n)**2)\n",
      "    H = lambda N : h(n(N))\n",
      "    DH = lambda N : sym.diff(H(x),x).subs(x,N).evalf()\n",
      "\n",
      "    fn = lambda n : sym.diff(sym.diff(an(x),x),x).subs(x,n).evalf()/an(n)\n",
      "    fN = lambda N : fn(n(N))    \n",
      "\n",
      "    step = (Nshss-0)/(npts-1)\n",
      "\n",
      "    N = 0 +step\n",
      "    while N < Nshss + step:\n",
      "        #array = euler_step()\n",
      "        array = rk4_step(k0, N, hk0, Dhk0, step)\n",
      "        hk0 = hk0 + array[1]\n",
      "        Dhk0 = Dhk0 + array[0]\n",
      "        N += step\n",
      "        \n",
      "    k_vs_hk = numpy.append(k_vs_hk, hk0)\n",
      "    print N-step, Nshss, hk0, Dhk0, Nics\n",
      "    print '\\n'\n",
      "    k0 = 10*k0"
     ],
     "language": "python",
     "metadata": {},
     "outputs": [
      {
       "output_type": "stream",
       "stream": "stdout",
       "text": [
        "lift off!\n",
        "k0 =  1e-25\n",
        "got Nics, hk0 and Dhk0"
       ]
      },
      {
       "output_type": "stream",
       "stream": "stdout",
       "text": [
        "\n",
        "starting from Nics\n",
        "[-0.00735154]"
       ]
      },
      {
       "output_type": "stream",
       "stream": "stdout",
       "text": [
        " 0 [[[[[[[[[[[[[[[[[[[[[[[[[[[[[[[[ -1.69713608e+28 -6.04271651e+29j]]]]]]]]]]]]]]]]]]]]]]]]]]]]]]]] [[[[[[[[[[[[[[[[[[[[[[[[[[[[[[[[ -1.53470820e+28 -5.46438595e+29j]]]]]]]]]]]]]]]]]]]]]]]]]]]]]]]]\n",
        "half way there!\n",
        "3.02287778"
       ]
      },
      {
       "output_type": "stream",
       "stream": "stdout",
       "text": [
        " 3.02287778 [[[[[[[[[[[[[[[[[[[[[[[[[[[[[[[[ -3.40007644e+28 -1.21060994e+30j]]]]]]]]]]]]]]]]]]]]]]]]]]]]]]]] [[[[[[[[[[[[[[[[[[[[[[[[[[[[[[[[ -3.47310490e+25 -1.23661199e+27j]]]]]]]]]]]]]]]]]]]]]]]]]]]]]]]] [-0.00490103]\n",
        "\n",
        "\n",
        "k0 =  1e-24\n",
        "got Nics, hk0 and Dhk0"
       ]
      },
      {
       "output_type": "stream",
       "stream": "stdout",
       "text": [
        "\n",
        "starting from Nics\n",
        "[-0.00712237]"
       ]
      },
      {
       "output_type": "stream",
       "stream": "stdout",
       "text": [
        " 0 [[[[[[[[[[[[[[[[[[[[[[[[[[[[[[[[  2.09823935e+28 -5.71728408e+28j]]]]]]]]]]]]]]]]]]]]]]]]]]]]]]]] [[[[[[[[[[[[[[[[[[[[[[[[[[[[[[[[  1.89716269e+28 -5.16939025e+28j]]]]]]]]]]]]]]]]]]]]]]]]]]]]]]]]\n",
        "half way there!\n",
        "3.02287778"
       ]
      },
      {
       "output_type": "stream",
       "stream": "stdout",
       "text": [
        " 3.02287778 [[[[[[[[[[[[[[[[[[[[[[[[[[[[[[[[  4.20336586e+28 -1.14533343e+29j]]]]]]]]]]]]]]]]]]]]]]]]]]]]]]]] [[[[[[[[[[[[[[[[[[[[[[[[[[[[[[[[  4.29335364e+25 -1.16985331e+26j]]]]]]]]]]]]]]]]]]]]]]]]]]]]]]]] [-0.00474825]\n",
        "\n",
        "\n",
        "k0 =  1e-23\n",
        "got Nics, hk0 and Dhk0"
       ]
      },
      {
       "output_type": "stream",
       "stream": "stdout",
       "text": [
        "\n",
        "starting from Nics\n",
        "[-0.00688557]"
       ]
      },
      {
       "output_type": "stream",
       "stream": "stdout",
       "text": [
        " 0 [[[[[[[[[[[[[[[[[[[[[[[[[[[[[[[[  2.44615377e+27 -4.27226819e+27j]]]]]]]]]]]]]]]]]]]]]]]]]]]]]]]] [[[[[[[[[[[[[[[[[[[[[[[[[[[[[[[[  2.21142246e+27 -3.86230414e+27j]]]]]]]]]]]]]]]]]]]]]]]]]]]]]]]]\n",
        "half way there!\n",
        "3.02287778"
       ]
      },
      {
       "output_type": "stream",
       "stream": "stdout",
       "text": [
        " 3.02287778 [[[[[[[[[[[[[[[[[[[[[[[[[[[[[[[[  4.89998868e+27 -8.55795170e+27j]]]]]]]]]]]]]]]]]]]]]]]]]]]]]]]] [[[[[[[[[[[[[[[[[[[[[[[[[[[[[[[[  5.00453584e+24 -8.74054589e+24j]]]]]]]]]]]]]]]]]]]]]]]]]]]]]]]] [-0.00459038]\n",
        "\n",
        "\n",
        "k0 =  1e-22\n",
        "got Nics, hk0 and Dhk0"
       ]
      },
      {
       "output_type": "stream",
       "stream": "stdout",
       "text": [
        "\n",
        "starting from Nics\n",
        "[-0.00664033]"
       ]
      },
      {
       "output_type": "stream",
       "stream": "stdout",
       "text": [
        " 0 [[[[[[[[[[[[[[[[[[[[[[[[[[[[[[[[  1.73628380e+26 -2.77931429e+26j]]]]]]]]]]]]]]]]]]]]]]]]]]]]]]]] [[[[[[[[[[[[[[[[[[[[[[[[[[[[[[[[  1.56944062e+26 -2.51224412e+26j]]]]]]]]]]]]]]]]]]]]]]]]]]]]]]]]\n",
        "half way there!\n",
        "3.02287778"
       ]
      },
      {
       "output_type": "stream",
       "stream": "stdout",
       "text": [
        " 3.02287778 [[[[[[[[[[[[[[[[[[[[[[[[[[[[[[[[  3.47776389e+26 -5.56694644e+26j]]]]]]]]]]]]]]]]]]]]]]]]]]]]]]]] [[[[[[[[[[[[[[[[[[[[[[[[[[[[[[[[  3.55170574e+23 -5.68530706e+23j]]]]]]]]]]]]]]]]]]]]]]]]]]]]]]]] [-0.00442689]\n",
        "\n",
        "\n",
        "k0 =  1e-21\n",
        "got Nics, hk0 and Dhk0"
       ]
      },
      {
       "output_type": "stream",
       "stream": "stdout",
       "text": [
        "\n",
        "starting from Nics\n",
        "[-0.00638569]"
       ]
      },
      {
       "output_type": "stream",
       "stream": "stdout",
       "text": [
        " 0 [[[[[[[[[[[[[[[[[[[[[[[[[[[[[[[[  9.17495837e+24 -1.60342814e+25j]]]]]]]]]]]]]]]]]]]]]]]]]]]]]]]] [[[[[[[[[[[[[[[[[[[[[[[[[[[[[[[[  8.29205247e+24 -1.44913031e+25j]]]]]]]]]]]]]]]]]]]]]]]]]]]]]]]]\n",
        "half way there!\n",
        "3.02287778"
       ]
      },
      {
       "output_type": "stream",
       "stream": "stdout",
       "text": [
        " 3.02287778 [[[[[[[[[[[[[[[[[[[[[[[[[[[[[[[[  1.83759718e+25 -3.21140971e+25j]]]]]]]]]]]]]]]]]]]]]]]]]]]]]]]] [[[[[[[[[[[[[[[[[[[[[[[[[[[[[[[[  1.87652402e+22 -3.27943878e+22j]]]]]]]]]]]]]]]]]]]]]]]]]]]]]]]] [-0.00425712]\n",
        "\n",
        "\n",
        "k0 =  1e-20\n",
        "got Nics, hk0 and Dhk0"
       ]
      },
      {
       "output_type": "stream",
       "stream": "stdout",
       "text": [
        "\n",
        "starting from Nics\n",
        "[-0.00612045]"
       ]
      },
      {
       "output_type": "stream",
       "stream": "stdout",
       "text": [
        " 0 [[[[[[[[[[[[[[[[[[[[[[[[[[[[[[[[  3.85420111e+23 -8.19646509e+23j]]]]]]]]]]]]]]]]]]]]]]]]]]]]]]]] [[[[[[[[[[[[[[[[[[[[[[[[[[[[[[[[  3.48275812e+23 -7.40654277e+23j]]]]]]]]]]]]]]]]]]]]]]]]]]]]]]]]\n",
        "half way there!\n",
        "3.02287778"
       ]
      },
      {
       "output_type": "stream",
       "stream": "stdout",
       "text": [
        " 3.02287778 [[[[[[[[[[[[[[[[[[[[[[[[[[[[[[[[  7.71873338e+23 -1.64149008e+24j]]]]]]]]]]]]]]]]]]]]]]]]]]]]]]]] [[[[[[[[[[[[[[[[[[[[[[[[[[[[[[[[  7.88161834e+20 -1.67612970e+21j]]]]]]]]]]]]]]]]]]]]]]]]]]]]]]]] [-0.0040803]\n",
        "\n",
        "\n",
        "k0 =  1e-19\n",
        "got Nics, hk0 and Dhk0"
       ]
      },
      {
       "output_type": "stream",
       "stream": "stdout",
       "text": [
        "\n",
        "starting from Nics\n",
        "[-0.00584319]"
       ]
      },
      {
       "output_type": "stream",
       "stream": "stdout",
       "text": [
        " 0 [[[[[[[[[[[[[[[[[[[[[[[[[[[[[[[[  1.32764243e+22 -3.72849591e+22j]]]]]]]]]]]]]]]]]]]]]]]]]]]]]]]] [[[[[[[[[[[[[[[[[[[[[[[[[[[[[[[[  1.19949360e+22 -3.36860803e+22j]]]]]]]]]]]]]]]]]]]]]]]]]]]]]]]]\n",
        "half way there!\n",
        "3.02287778"
       ]
      },
      {
       "output_type": "stream",
       "stream": "stdout",
       "text": [
        " 3.02287778 [[[[[[[[[[[[[[[[[[[[[[[[[[[[[[[[  2.65862252e+22 -7.46636515e+22j]]]]]]]]]]]]]]]]]]]]]]]]]]]]]]]] [[[[[[[[[[[[[[[[[[[[[[[[[[[[[[[[  2.71450109e+19 -7.62329221e+19j]]]]]]]]]]]]]]]]]]]]]]]]]]]]]]]] [-0.00389546]\n",
        "\n",
        "\n",
        "k0 =  1e-18\n",
        "got Nics, hk0 and Dhk0"
       ]
      },
      {
       "output_type": "stream",
       "stream": "stdout",
       "text": [
        "\n",
        "starting from Nics\n",
        "[-0.0055521]"
       ]
      },
      {
       "output_type": "stream",
       "stream": "stdout",
       "text": [
        " 0 [[[[[[[[[[[[[[[[[[[[[[[[[[[[[[[[  3.80236268e+20 -1.52933019e+21j]]]]]]]]]]]]]]]]]]]]]]]]]]]]]]]] [[[[[[[[[[[[[[[[[[[[[[[[[[[[[[[[  3.43474587e+20 -1.38147278e+21j]]]]]]]]]]]]]]]]]]]]]]]]]]]]]]]]\n",
        "half way there!\n",
        "3.02287778"
       ]
      },
      {
       "output_type": "stream",
       "stream": "stdout",
       "text": [
        " 3.02287778 [[[[[[[[[[[[[[[[[[[[[[[[[[[[[[[[  7.61361968e+20 -3.06223773e+21j]]]]]]]]]]]]]]]]]]]]]]]]]]]]]]]] [[[[[[[[[[[[[[[[[[[[[[[[[[[[[[[[  7.77296474e+17 -3.12632714e+18j]]]]]]]]]]]]]]]]]]]]]]]]]]]]]]]] [-0.0037014]\n",
        "\n",
        "\n",
        "k0 =  1e-17\n",
        "got Nics, hk0 and Dhk0"
       ]
      },
      {
       "output_type": "stream",
       "stream": "stdout",
       "text": [
        "\n",
        "starting from Nics\n",
        "[-0.00349659]"
       ]
      },
      {
       "output_type": "stream",
       "stream": "stdout",
       "text": [
        " 0 [[[[[[[[[[[[[[[[[[[[[[[[[[[[[[[[  9.00864637e+18 -5.77187472e+19j]]]]]]]]]]]]]]]]]]]]]]]]]]]]]]]] [[[[[[[[[[[[[[[[[[[[[[[[[[[[[[[[  8.12340220e+18 -5.20469534e+19j]]]]]]]]]]]]]]]]]]]]]]]]]]]]]]]]\n",
        "half way there!\n",
        "3.02287778"
       ]
      },
      {
       "output_type": "stream",
       "stream": "stdout",
       "text": [
        " 3.02287778 [[[[[[[[[[[[[[[[[[[[[[[[[[[[[[[[  1.80225224e+19 -1.15471001e+20j]]]]]]]]]]]]]]]]]]]]]]]]]]]]]]]] [[[[[[[[[[[[[[[[[[[[[[[[[[[[[[[[  1.83835778e+16 -1.17784297e+17j]]]]]]]]]]]]]]]]]]]]]]]]]]]]]]]] [-0.00174829]\n",
        "\n",
        "\n",
        "k0 =  1e-16\n",
        "got Nics, hk0 and Dhk0"
       ]
      },
      {
       "output_type": "stream",
       "stream": "stdout",
       "text": [
        "\n",
        "starting from Nics\n",
        "[-0.00327901]"
       ]
      },
      {
       "output_type": "stream",
       "stream": "stdout",
       "text": [
        " 0 [[[[[[[[[[[[[[[[[[[[[[[[[[[[[[[[  1.66246312e+17 -2.03851929e+18j]]]]]]]]]]]]]]]]]]]]]]]]]]]]]]]] [[[[[[[[[[[[[[[[[[[[[[[[[[[[[[[[  1.49895272e+17 -1.83802215e+18j]]]]]]]]]]]]]]]]]]]]]]]]]]]]]]]]\n",
        "half way there!\n",
        "3.02287778"
       ]
      },
      {
       "output_type": "stream",
       "stream": "stdout",
       "text": [
        " 3.02287778 [[[[[[[[[[[[[[[[[[[[[[[[[[[[[[[[  3.32572855e+17 -4.07802238e+18j]]]]]]]]]]]]]]]]]]]]]]]]]]]]]]]] [[[[[[[[[[[[[[[[[[[[[[[[[[[[[[[[  3.39218374e+14 -4.15951002e+15j]]]]]]]]]]]]]]]]]]]]]]]]]]]]]]]] [-0.0016395]\n",
        "\n",
        "\n",
        "k0 =  1e-15\n",
        "got Nics, hk0 and Dhk0"
       ]
      },
      {
       "output_type": "stream",
       "stream": "stdout",
       "text": [
        "\n",
        "starting from Nics\n",
        "[-0.00456888]"
       ]
      },
      {
       "output_type": "stream",
       "stream": "stdout",
       "text": [
        " 0 [[[[[[[[[[[[[[[[[[[[[[[[[[[[[[[[  1.75646931e+15 -6.86712406e+16j]]]]]]]]]]]]]]]]]]]]]]]]]]]]]]]] [[[[[[[[[[[[[[[[[[[[[[[[[[[[[[[[  1.58571730e+15 -6.19954893e+16j]]]]]]]]]]]]]]]]]]]]]]]]]]]]]]]]\n",
        "half way there!\n",
        "3.02287778"
       ]
      },
      {
       "output_type": "stream",
       "stream": "stdout",
       "text": [
        " 3.02287778 [[[[[[[[[[[[[[[[[[[[[[[[[[[[[[[[  3.51601011e+15 -1.37462565e+17j]]]]]]]]]]]]]]]]]]]]]]]]]]]]]]]] [[[[[[[[[[[[[[[[[[[[[[[[[[[[[[[[  3.58800068e+12 -1.40277121e+14j]]]]]]]]]]]]]]]]]]]]]]]]]]]]]]]] [-0.00304592]\n",
        "\n",
        "\n",
        "k0 =  1e-14\n",
        "got Nics, hk0 and Dhk0"
       ]
      },
      {
       "output_type": "stream",
       "stream": "stdout",
       "text": [
        "\n",
        "starting from Nics\n",
        "[-0.00279346]"
       ]
      },
      {
       "output_type": "stream",
       "stream": "stdout",
       "text": [
        " 0 [[[[[[[[[[[[[[[[[[[[[[[[[[[[[[[[ -2.94232442e+13 -2.25071173e+15j]]]]]]]]]]]]]]]]]]]]]]]]]]]]]]]] [[[[[[[[[[[[[[[[[[[[[[[[[[[[[[[[ -2.65235420e+13 -2.02890090e+15j]]]]]]]]]]]]]]]]]]]]]]]]]]]]]]]]\n",
        "half way there!\n",
        "3.02287778"
       ]
      },
      {
       "output_type": "stream",
       "stream": "stdout",
       "text": [
        " 3.02287778 [[[[[[[[[[[[[[[[[[[[[[[[[[[[[[[[ -5.88539407e+13 -4.50199349e+15j]]]]]]]]]]]]]]]]]]]]]]]]]]]]]]]] [[[[[[[[[[[[[[[[[[[[[[[[[[[[[[[[ -5.91202370e+10 -4.52236365e+12j]]]]]]]]]]]]]]]]]]]]]]]]]]]]]]]] [-0.00139673]\n",
        "\n",
        "\n",
        "k0 =  1e-13\n",
        "got Nics, hk0 and Dhk0"
       ]
      },
      {
       "output_type": "stream",
       "stream": "stdout",
       "text": [
        "\n",
        "starting from Nics\n",
        "[-0.00251578]"
       ]
      },
      {
       "output_type": "stream",
       "stream": "stdout",
       "text": [
        " 0 [[[[[[[[[[[[[[[[[[[[[[[[[[[[[[[[ -2.67826824e+12 -7.23358985e+13j]]]]]]]]]]]]]]]]]]]]]]]]]]]]]]]] [[[[[[[[[[[[[[[[[[[[[[[[[[[[[[[[ -2.41396895e+12 -6.51974886e+13j]]]]]]]]]]]]]]]]]]]]]]]]]]]]]]]]\n",
        "half way there!\n",
        "3.02287778"
       ]
      },
      {
       "output_type": "stream",
       "stream": "stdout",
       "text": [
        " 3.02287778 [[[[[[[[[[[[[[[[[[[[[[[[[[[[[[[[ -5.35401188e+12 -1.44603508e+14j]]]]]]]]]]]]]]]]]]]]]]]]]]]]]]]] [[[[[[[[[[[[[[[[[[[[[[[[[[[[[[[[  2.75825405e+09 +7.44962444e+10j]]]]]]]]]]]]]]]]]]]]]]]]]]]]]]]] [-0.00125789]\n",
        "\n",
        "\n",
        "k0 =  1e-12\n",
        "got Nics, hk0 and Dhk0"
       ]
      },
      {
       "output_type": "stream",
       "stream": "stdout",
       "text": [
        "\n",
        "starting from Nics\n",
        "[-0.00330508]"
       ]
      },
      {
       "output_type": "stream",
       "stream": "stdout",
       "text": [
        " 0 [[[[[[[[[[[[[[[[[[[[[[[[[[[[[[[[ -1.18763365e+11 -2.29027159e+12j]]]]]]]]]]]]]]]]]]]]]]]]]]]]]]]] [[[[[[[[[[[[[[[[[[[[[[[[[[[[[[[[ -1.07004751e+11 -2.06138247e+12j]]]]]]]]]]]]]]]]]]]]]]]]]]]]]]]]\n",
        "half way there!\n",
        "3.02287778"
       ]
      },
      {
       "output_type": "stream",
       "stream": "stdout",
       "text": [
        " 3.02287778 [[[[[[[[[[[[[[[[[[[[[[[[[[[[[[[[ -2.25142002e+11 -4.33946683e+12j]]]]]]]]]]]]]]]]]]]]]]]]]]]]]]]] [[[[[[[[[[[[[[[[[[[[[[[[[[[[[[[[  3.48410655e+10 +6.71541604e+11j]]]]]]]]]]]]]]]]]]]]]]]]]]]]]]]] [-0.00220339]\n",
        "\n",
        "\n",
        "k0 =  1e-11\n",
        "got Nics, hk0 and Dhk0"
       ]
      },
      {
       "output_type": "stream",
       "stream": "stdout",
       "text": [
        "\n",
        "starting from Nics\n",
        "[-0.00275799]"
       ]
      },
      {
       "output_type": "stream",
       "stream": "stdout",
       "text": [
        " 0 [[[[[[[[[[[[[[[[[[[[[[[[[[[[[[[[ -1.48545105e+10 -6.34445175e+10j]]]]]]]]]]]]]]]]]]]]]]]]]]]]]]]] [[[[[[[[[[[[[[[[[[[[[[[[[[[[[[[[ -1.42184834e+10 -4.36059454e+10j]]]]]]]]]]]]]]]]]]]]]]]]]]]]]]]]\n",
        "half way there!\n",
        "3.02287778"
       ]
      },
      {
       "output_type": "stream",
       "stream": "stdout",
       "text": [
        " 3.02287778 [[[[[[[[[[[[[[[[[[[[[[[[[[[[[[[[  6.54838668e+08 +2.30894703e+09j]]]]]]]]]]]]]]]]]]]]]]]]]]]]]]]] [[[[[[[[[[[[[[[[[[[[[[[[[[[[[[[[ -1.59477839e+10 -5.71105083e+10j]]]]]]]]]]]]]]]]]]]]]]]]]]]]]]]] [-0.00183866]\n",
        "\n",
        "\n",
        "k0 =  1e-10\n",
        "got Nics, hk0 and Dhk0"
       ]
      },
      {
       "output_type": "stream",
       "stream": "stdout",
       "text": [
        "\n",
        "starting from Nics\n",
        "[-0.00138073]"
       ]
      },
      {
       "output_type": "stream",
       "stream": "stdout",
       "text": [
        " 0 [[[[[[[[[[[[[[[[[[[[[[[[[[[[[[[[ -6.70960724e+09 -2.44549607e+09j]]]]]]]]]]]]]]]]]]]]]]]]]]]]]]]] [[[[[[[[[[[[[[[[[[[[[[[[[[[[[[[[ -1.22101999e+10 +3.34893942e+10j]]]]]]]]]]]]]]]]]]]]]]]]]]]]]]]]\n",
        "half way there!\n",
        "3.02287778"
       ]
      },
      {
       "output_type": "stream",
       "stream": "stdout",
       "text": [
        " 3.02287778 [[[[[[[[[[[[[[[[[[[[[[[[[[[[[[[[-54288426.0672114+49104699.05027479j]]]]]]]]]]]]]]]]]]]]]]]]]]]]]]]] [[[[[[[[[[[[[[[[[[[[[[[[[[[[[[[[  5.44386917e+09 +5.68742585e+09j]]]]]]]]]]]]]]]]]]]]]]]]]]]]]]]] [-0.00069037]\n",
        "\n",
        "\n"
       ]
      },
      {
       "output_type": "stream",
       "stream": "stderr",
       "text": [
        "/usr/local/lib/python2.7/dist-packages/scipy/optimize/nonlin.py:474: RuntimeWarning: invalid value encountered in double_scalars\n",
        "  and dx_norm/self.x_rtol <= x_norm))\n"
       ]
      }
     ],
     "prompt_number": 3
    },
    {
     "cell_type": "code",
     "collapsed": false,
     "input": [
      "k_list = numpy.array([10**(-25 + i) for i in range(16)])\n",
      "print k_list, k_vs_hk, len(k_vs_hk), len(k_list)"
     ],
     "language": "python",
     "metadata": {},
     "outputs": [
      {
       "output_type": "stream",
       "stream": "stdout",
       "text": [
        "[  1.00000000e-25   1.00000000e-24   1.00000000e-23   1.00000000e-22\n",
        "   1.00000000e-21   1.00000000e-20   1.00000000e-19   1.00000000e-18\n",
        "   1.00000000e-17   1.00000000e-16   1.00000000e-15   1.00000000e-14\n",
        "   1.00000000e-13   1.00000000e-12   1.00000000e-11   1.00000000e-10] [  0.00000000e+00 +0.00000000e+00j  -3.40007644e+28 -1.21060994e+30j\n",
        "   4.20336586e+28 -1.14533343e+29j   4.89998868e+27 -8.55795170e+27j\n",
        "   3.47776389e+26 -5.56694644e+26j   1.83759718e+25 -3.21140971e+25j\n",
        "   7.71873338e+23 -1.64149008e+24j   2.65862252e+22 -7.46636515e+22j\n",
        "   7.61361968e+20 -3.06223773e+21j   1.80225224e+19 -1.15471001e+20j\n",
        "   3.32572855e+17 -4.07802238e+18j   3.51601011e+15 -1.37462565e+17j\n",
        "  -5.88539407e+13 -4.50199349e+15j  -5.35401188e+12 -1.44603508e+14j\n",
        "  -2.25142002e+11 -4.33946683e+12j   6.54838668e+08 +2.30894703e+09j\n",
        "  -5.42884261e+07 +4.91046991e+07j] 17 16\n"
       ]
      }
     ],
     "prompt_number": 8
    },
    {
     "cell_type": "code",
     "collapsed": false,
     "input": [
      "#plt.semilogy(numpy.absolute(k_vs_hk[1:]))\n",
      "##numpy.absolute(k_vs_hk)\n",
      "k_list = numpy.array([10**(-25 + i) for i in range(16)])\n",
      "#print len(k_list), len(k_vs_hk)\n",
      "TPS = [8*(k_list[i])**3/(2*numpy.pi**2)*(numpy.absolute(k_vs_hk[i+1]))**2 for i in range(len(k_list))]\n",
      "plt.loglog(k_list,TPS)"
     ],
     "language": "python",
     "metadata": {},
     "outputs": [
      {
       "metadata": {},
       "output_type": "pyout",
       "prompt_number": 9,
       "text": [
        "[<matplotlib.lines.Line2D at 0xa944c88c>]"
       ]
      },
      {
       "metadata": {},
       "output_type": "display_data",
       "png": "[encoded data removed]",
       "text": [
        "<matplotlib.figure.Figure at 0xabd7f16c>"
       ]
      }
     ],
     "prompt_number": 9
    },
    {
     "cell_type": "code",
     "collapsed": false,
     "input": [
      "numpy.absolute(TPS)"
     ],
     "language": "python",
     "metadata": {},
     "outputs": [
      {
       "metadata": {},
       "output_type": "pyout",
       "prompt_number": 15,
       "text": [
        "array([  5.94444281e-16,   6.03254781e-15,   3.94133027e-14,\n",
        "         1.74619904e-13,   5.54831386e-13,   1.33349950e-12,\n",
        "         2.54579129e-12,   4.03540873e-12,   5.53552620e-12,\n",
        "         6.78481955e-12,   7.66325311e-12,   8.21569270e-12,\n",
        "         8.48619220e-12,   7.65244910e-12,   2.33446036e-15,\n",
        "         2.17172014e-15,   5.32675300e+07,   5.32675300e+07])"
       ]
      }
     ],
     "prompt_number": 15
    },
    {
     "cell_type": "code",
     "collapsed": false,
     "input": [
      "k_list = numpy.array([10**(-25 + i) for i in range(17)])\n",
      "#TPS = numpy.append(TPS,numpy.array([-52854397.37028672-6621361.3902465j]))\n",
      "print TPS, k_list, len(k_list), len(TPS[:-1])\n",
      "plt.loglog(k_list,TPS[:-1])"
     ],
     "language": "python",
     "metadata": {},
     "outputs": [
      {
       "output_type": "stream",
       "stream": "stdout",
       "text": [
        "[  5.94444281e-16      +0.j          6.03254781e-15      +0.j\n",
        "   3.94133027e-14      +0.j          1.74619904e-13      +0.j\n",
        "   5.54831386e-13      +0.j          1.33349950e-12      +0.j\n",
        "   2.54579129e-12      +0.j          4.03540873e-12      +0.j\n",
        "   5.53552620e-12      +0.j          6.78481955e-12      +0.j\n",
        "   7.66325311e-12      +0.j          8.21569270e-12      +0.j\n",
        "   8.48619220e-12      +0.j          7.65244910e-12      +0.j\n",
        "   2.33446036e-15      +0.j          2.17172014e-15      +0.j\n",
        "  -5.28543974e+07-6621361.3902465j  -5.28543974e+07-6621361.3902465j] [  1.00000000e-25   1.00000000e-24   1.00000000e-23   1.00000000e-22\n",
        "   1.00000000e-21   1.00000000e-20   1.00000000e-19   1.00000000e-18\n",
        "   1.00000000e-17   1.00000000e-16   1.00000000e-15   1.00000000e-14\n",
        "   1.00000000e-13   1.00000000e-12   1.00000000e-11   1.00000000e-10\n",
        "   1.00000000e-09] 17 17\n"
       ]
      },
      {
       "metadata": {},
       "output_type": "pyout",
       "prompt_number": 13,
       "text": [
        "[<matplotlib.lines.Line2D at 0xa929c8ec>]"
       ]
      },
      {
       "metadata": {},
       "output_type": "display_data",
       "png": "[encoded data removed]",
       "text": [
        "<matplotlib.figure.Figure at 0xa8f5338c>"
       ]
      }
     ],
     "prompt_number": 13
    },
    {
     "cell_type": "code",
     "collapsed": false,
     "input": [
      "plt.semilogy(numpy.absolute(numpy.array([5.66745795e+55 +1.53574740e+56j, -3.66637056e+51 +2.89422112e+51j, -1.20761313e+46 -8.50306399e+45j, 2.58245042e+39 -2.59858971e+39j, 1.78588061e+31 -8.78613502e+29j, 4.89620158e+19 +2.64193910e+20j, 2.55526188e+09 -9.27435959e+09j, 48031759.33156778 +2.17902654e+08j])))"
     ],
     "language": "python",
     "metadata": {},
     "outputs": [
      {
       "metadata": {},
       "output_type": "pyout",
       "prompt_number": 51,
       "text": [
        "[<matplotlib.lines.Line2D at 0xad50d0cc>]"
       ]
      },
      {
       "metadata": {},
       "output_type": "display_data",
       "png": "[encoded data removed]",
       "text": [
        "<matplotlib.figure.Figure at 0xadad762c>"
       ]
      }
     ],
     "prompt_number": 51
    },
    {
     "cell_type": "code",
     "collapsed": false,
     "input": [
      "test = numpy.array([5.66745795e+55 +1.53574740e+56j, -3.66637056e+51 +2.89422112e+51j, -1.20761313e+46 -8.50306399e+45j, 2.58245042e+39 -2.59858971e+39j, 1.78588061e+31 -8.78613502e+29j, 4.89620158e+19 +2.64193910e+20j, 2.55526188e+09 -9.27435959e+09j, 48031759.33156778 +2.17902654e+08j])\n",
      "10**(-2*n+1)*numpy.absolute(test)**2"
     ],
     "language": "python",
     "metadata": {},
     "outputs": [
      {
       "metadata": {},
       "output_type": "pyout",
       "prompt_number": 17,
       "text": [
        "array([  2.67972087e+112,   2.18187890e+103,   2.18135044e+092,\n",
        "         1.34217187e+079,   3.19708917e+062,   7.21957011e+040,\n",
        "         9.25431091e+019,   4.97886165e+016])"
       ]
      }
     ],
     "prompt_number": 17
    },
    {
     "cell_type": "code",
     "collapsed": false,
     "input": [],
     "language": "python",
     "metadata": {},
     "outputs": []
    },
    {
     "cell_type": "code",
     "collapsed": false,
     "input": [
      "10**(-5)*numpy.exp(-25)"
     ],
     "language": "python",
     "metadata": {},
     "outputs": [
      {
       "metadata": {},
       "output_type": "pyout",
       "prompt_number": 58,
       "text": [
        "1.3887943864964023e-16"
       ]
      }
     ],
     "prompt_number": 58
    },
    {
     "cell_type": "code",
     "collapsed": false,
     "input": [],
     "language": "python",
     "metadata": {},
     "outputs": []
    },
    {
     "cell_type": "code",
     "collapsed": false,
     "input": [
      "print hk0, Dhk0"
     ],
     "language": "python",
     "metadata": {},
     "outputs": []
    },
    {
     "cell_type": "code",
     "collapsed": false,
     "input": [
      "A = lambda N : a0*exp(x**2/2).subs(x,N).evalf()\n",
      "an = lambda n : a0*((1+(n/n0)**2)**p)\n",
      "\n",
      "aN = lambda N : an(n(N))\n",
      "h = lambda n : (sym.diff(an(x),x).subs(x,n).evalf())/(an(n)**2)\n",
      "H = lambda N : h(n(N))\n",
      "DH = lambda N : sym.diff(H(x),x).subs(x,N).evalf()\n",
      "\n",
      "fn = lambda n : sym.diff(sym.diff(an(x),x),x).subs(x,n).evalf()/an(n)\n",
      "fN = lambda N : fn(n(N))\n",
      "\n",
      "nm = lambda N : -n0*((A(N)/a0)**(1./p)-1)**(1./2)\n",
      "n = lambda N : nm(N)"
     ],
     "language": "python",
     "metadata": {},
     "outputs": [],
     "prompt_number": 3
    },
    {
     "cell_type": "code",
     "collapsed": false,
     "input": [
      "k_min = 1e-9\n",
      "k_max = 1e-8\n",
      "\n",
      "k0 = k_min\n",
      "while k0 < k_max:\n",
      "    Nics = numpy.array([-4])\n",
      "    for i in range(100):\n",
      "        Nics = opt.newton_krylov(lambda N : (k0)**2 - 1e+04*fN(N),Nics)\n",
      "    print Nics\n",
      "    '''print 'k0', k0, 'Nics', Nics\n",
      "    print 'hk0', (((2.*k0)**(1./2))*A(Nics))**(-1.)\n",
      "    print 'imag part dhk0', -Nics*((k0/2)**(1./2))/(A(Nics)*A(Nics)*H(Nics))\n",
      "    print 'real part dhk0', -(sym.diff(A(x),x).subs(x,Nics).evalf()/(A(Nics)**2))*((2*k0)**(-1./2))\n",
      "    print 'hk0', numpy.array([ + 0j], dtype=complex)'''\n",
      "    hk0 = numpy.zeros(1,dtype=complex)\n",
      "    hk0.real = (((2.*k0)**(1./2))*A(-Nics))**(-1.)\n",
      "    print hk0\n",
      "    Dhk0 = numpy.zeros(1,dtype=complex)\n",
      "    Dhk0.real = -(sym.diff(A(x),x).subs(x,-Nics).evalf()/(A(-Nics)**2))*((2*k0)**(-1./2))\n",
      "    Dhk0.imag = -(-Nics)*((k0/2)**(1./2))/(A(-Nics)*A(-Nics)*H(-Nics))\n",
      "    print Dhk0\n",
      "    print '\\n'\n",
      "    k0 = 1e+02*k0"
     ],
     "language": "python",
     "metadata": {},
     "outputs": [
      {
       "output_type": "stream",
       "stream": "stdout",
       "text": [
        "[ 1.64317937]\n",
        "[  5.79667700e+08+0.j]\n",
        "[  9.52498008e+08 -7.82544300e+10j]\n",
        "\n",
        "\n"
       ]
      }
     ],
     "prompt_number": 8
    },
    {
     "cell_type": "code",
     "collapsed": false,
     "input": [],
     "language": "python",
     "metadata": {},
     "outputs": []
    },
    {
     "cell_type": "code",
     "collapsed": false,
     "input": [
      "A = lambda N : a0*exp(x**2/2).subs(x,N).evalf()\n",
      "an = lambda n : a0*((1+(n/n0)**2)**p)\n",
      "\n",
      "aN = lambda N : an(n(N))\n",
      "h = lambda n : (sym.diff(an(x),x).subs(x,n).evalf())/(an(n)**2)\n",
      "H = lambda N : h(n(N))\n",
      "DH = lambda N : sym.diff(H(x),x).subs(x,N).evalf()\n",
      "\n",
      "fn = lambda n : sym.diff(sym.diff(an(x),x),x).subs(x,n).evalf()/an(n)\n",
      "fN = lambda N : fn(n(N))\n",
      "\n",
      "np = lambda N : n0*((A(N)/a0)**(1./p)-1)**(1./2)\n",
      "n = lambda N : np(N)"
     ],
     "language": "python",
     "metadata": {},
     "outputs": [],
     "prompt_number": 59
    },
    {
     "cell_type": "code",
     "collapsed": false,
     "input": [
      "k_max = 1e-9\n",
      "k0 = k_max\n",
      "\n",
      "Nshs = numpy.array([+2])\n",
      "for i in range(250):\n",
      "    Nshs = opt.newton_krylov(lambda N : (k0)**2 - 25*1e+04*fN(N),Nshs)\n",
      "\n",
      "print k0, Nics"
     ],
     "language": "python",
     "metadata": {},
     "outputs": [
      {
       "output_type": "stream",
       "stream": "stdout",
       "text": [
        "1e-09 [ 4.98076739]\n"
       ]
      }
     ],
     "prompt_number": 64
    },
    {
     "cell_type": "code",
     "collapsed": false,
     "input": [
      "temp = numpy.array([3])\n",
      "for i in range(200):\n",
      "    temp = opt.newton_krylov(lambda N : (1e-09)**2 - 25*1e+04*fN(N),temp)\n",
      "    \n",
      "print temp"
     ],
     "language": "python",
     "metadata": {},
     "outputs": [
      {
       "output_type": "stream",
       "stream": "stdout",
       "text": [
        "[ 3.02287778]\n"
       ]
      }
     ],
     "prompt_number": 67
    },
    {
     "cell_type": "code",
     "collapsed": false,
     "input": [],
     "language": "python",
     "metadata": {},
     "outputs": []
    },
    {
     "cell_type": "code",
     "collapsed": false,
     "input": [],
     "language": "python",
     "metadata": {},
     "outputs": []
    },
    {
     "cell_type": "code",
     "collapsed": false,
     "input": [
      "A = lambda N : a0*exp(x**2/2).subs(x,N).evalf()\n",
      "an = lambda n : a0*((1+(n/n0)**2)**p)\n",
      "\n",
      "aN = lambda N : an(n(N))\n",
      "h = lambda n : (sym.diff(an(x),x).subs(x,n).evalf())/(an(n)**2)\n",
      "H = lambda N : h(n(N))\n",
      "DH = lambda N : sym.diff(H(x),x).subs(x,N).evalf()\n",
      "\n",
      "fn = lambda n : sym.diff(sym.diff(an(x),x),x).subs(x,n).evalf()/an(n)\n",
      "fN = lambda N : fn(n(N))\n",
      "\n",
      "def DDhk(k0, N, hk0, Dhk0):\n",
      "    return -((3.*N -(1./N) +(DH(N)/H(N)))*Dhk0 +(((k0*N)/(A(N)*H(N)))**2)*hk0)\n",
      "\n",
      "def rk4_step(k0, N, hk0, Dhk0, step):\n",
      "    F1 = Dhk0\n",
      "    f1 = DDhk(k0, N, hk0, Dhk0)\n",
      "    F2 = Dhk0 +f1*step/2.\n",
      "    f2 = DDhk(k0, N +step/2., hk0 +F1*step/2., Dhk0 +f1*step/2.)\n",
      "    F3 = Dhk0 +f2*step/2.\n",
      "    f3 = DDhk(k0, N +step/2., hk0 +F2*step/2., Dhk0 +f2*step/2.)\n",
      "    F4 = Dhk0 +f3*step\n",
      "    f4 = DDhk(k0, N +step, hk0 +F3*step, Dhk0 +f3*step)   \n",
      "\n",
      "    return numpy.array([(f1 +2*f2 +2*f3 +f4)*step/6.], dtype=complex), numpy.array([(F1 +2*F2 +2*F3 +F4)*step/6.], dtype=complex) # [Dhk, hk] update\n",
      "\n",
      "k_min = 1e-9\n",
      "k_max = 1e-8\n",
      "\n",
      "Nshss = 3.02287778\n",
      "\n",
      "print 'lift off!'\n",
      "\n",
      "k_vs_hk = numpy.zeros(1,dtype=complex)\n",
      "\n",
      "k0 = k_min\n",
      "while k0 < k_max:\n",
      "    print 'k0 = ', k0\n",
      "    Nics = numpy.array([-4])\n",
      "    for i in range(100):\n",
      "        Nics = opt.newton_krylov(lambda N : (k0)**2 - 1e+04*fN(N),Nics)\n",
      "    \n",
      "    Nics = -Nics\n",
      "    \n",
      "    hk0 = numpy.zeros(1,dtype=complex)\n",
      "    hk0.real = (((2.*k0)**(1./2))*A(Nics))**(-1.)\n",
      "    \n",
      "    Dhk0 = numpy.zeros(1,dtype=complex)\n",
      "    Dhk0.real = (sym.diff(A(x),x).subs(x,Nics).evalf()/(A(Nics)**2))*((2*k0)**(-1./2))\n",
      "    Dhk0.imag = Nics*((k0/2)**(1./2))/(A(Nics)*A(Nics)*H(Nics))\n",
      "\n",
      "    print 'got Nics, hk0 and Dhk0'\n",
      "\n",
      "    nm = lambda N : -n0*((A(N)/a0)**(1./p)-1)**(1./2)\n",
      "    n = lambda N : nm(N)\n",
      "\n",
      "    npts = 1000\n",
      "\n",
      "    step = (0-Nics)/(npts-1)\n",
      "\n",
      "    print 'starting from Nics'\n",
      "    \n",
      "    N = Nics\n",
      "    while N < 0 -2*step:\n",
      "        #array = euler_step(N, hk0, Dhk0, step)\n",
      "        array = rk4_step(k0, N, hk0, Dhk0, step)\n",
      "        hk0 = hk0 + array[1]\n",
      "        Dhk0 = Dhk0 + array[0]\n",
      "        N += step\n",
      "\n",
      "    print N-step, 0, hk0, Dhk0\n",
      "    print 'half way there!'\n",
      "\n",
      "    np = lambda N : n0*((A(N)/a0)**(1./p)-1)**(1./2)\n",
      "    n = lambda N : np(N)\n",
      "\n",
      "    step = (Nshss-0)/(npts-1)\n",
      "\n",
      "    N = 0 +step\n",
      "    while N < Nshss + step:\n",
      "        #array = euler_step()\n",
      "        array = rk4_step(k0, N, hk0, Dhk0, step)\n",
      "        hk0 = hk0 + array[1]\n",
      "        Dhk0 = Dhk0 + array[0]\n",
      "        N += step\n",
      "        \n",
      "    k_vs_hk = numpy.append(k_vs_hk, hk0)\n",
      "    print N-step, Nshss, hk0, Dhk0, Nics\n",
      "    print '\\n'\n",
      "    k0 = 10*k0"
     ],
     "language": "python",
     "metadata": {},
     "outputs": [
      {
       "output_type": "stream",
       "stream": "stdout",
       "text": [
        "lift off!\n",
        "k0 =  1e-09\n",
        "got Nics, hk0 and Dhk0"
       ]
      },
      {
       "output_type": "stream",
       "stream": "stdout",
       "text": [
        "\n",
        "starting from Nics\n",
        "[-0.00328965]"
       ]
      },
      {
       "output_type": "stream",
       "stream": "stdout",
       "text": [
        " 0 [[[[[[[[[[[[[[[[[[[[[[[[[[[[[[[[ -1.42793907e+09 +1.75532532e+09j]]]]]]]]]]]]]]]]]]]]]]]]]]]]]]]] [[[[[[[[[[[[[[[[[[[[[[[[[[[[[[[[ -8.76367311e+10 -7.05151971e+10j]]]]]]]]]]]]]]]]]]]]]]]]]]]]]]]]\n",
        "half way there!\n",
        "3.02590368368"
       ]
      },
      {
       "output_type": "stream",
       "stream": "stdout",
       "text": [
        " 3.02287778 [[[[[[[[[[[[[[[[[[[[[[[[[[[[[[[[ 5934.73524229+921.00511587j]]]]]]]]]]]]]]]]]]]]]]]]]]]]]]]] [[[[[[[[[[[[[[[[[[[[[[[[[[[[[[[[-52854397.37028672-6621361.3902465j]]]]]]]]]]]]]]]]]]]]]]]]]]]]]]]] [-0.00164482]\n",
        "\n",
        "\n"
       ]
      }
     ],
     "prompt_number": 9
    },
    {
     "cell_type": "code",
     "collapsed": false,
     "input": [
      "8*(k0/10)**3/(2*numpy.pi**2)*(numpy.absolute([5934.73524229+921.00511587j]))**2"
     ],
     "language": "python",
     "metadata": {},
     "outputs": [
      {
       "metadata": {},
       "output_type": "pyout",
       "prompt_number": 14,
       "text": [
        "array([  1.46183500e-20])"
       ]
      }
     ],
     "prompt_number": 14
    },
    {
     "cell_type": "code",
     "collapsed": false,
     "input": [
      "k0"
     ],
     "language": "python",
     "metadata": {},
     "outputs": [
      {
       "metadata": {},
       "output_type": "pyout",
       "prompt_number": 13,
       "text": [
        "1e-08"
       ]
      }
     ],
     "prompt_number": 13
    },
    {
     "cell_type": "code",
     "collapsed": false,
     "input": [],
     "language": "python",
     "metadata": {},
     "outputs": []
    }
   ],
   "metadata": {}
  }
 ]
}