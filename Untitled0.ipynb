{
 "metadata": {
  "name": "",
  "signature": "sha256:51bd17b1dd2488bdeaa013f5c6e8c40770d99c35c7dbe45c1c94575302d115b8"
 },
 "nbformat": 3,
 "nbformat_minor": 0,
 "worksheets": [
  {
   "cells": [
    {
     "cell_type": "code",
     "collapsed": false,
     "input": [
      "import numpy as numpy\n",
      "import matplotlib.pyplot as plt\n",
      "%matplotlib inline\n",
      "\n",
      "import sympy as sym\n",
      "from sympy.functions import exp\n",
      "import scipy.optimize as opt\n",
      "\n",
      "x = sym.symbols('x')"
     ],
     "language": "python",
     "metadata": {},
     "outputs": [],
     "prompt_number": 1
    },
    {
     "cell_type": "code",
     "collapsed": false,
     "input": [
      "a0 = 1e-05\n",
      "n0 = numpy.exp(25)\n",
      "p = 1"
     ],
     "language": "python",
     "metadata": {},
     "outputs": [],
     "prompt_number": 2
    },
    {
     "cell_type": "code",
     "collapsed": false,
     "input": [
      "A = lambda N : a0*exp(x**2/2).subs(x,N).evalf()\n",
      "an = lambda n : a0*((1+(n/n0)**2)**p)\n",
      "\n",
      "aN = lambda N : an(n(N))\n",
      "h = lambda n : (sym.diff(an(x),x).subs(x,n).evalf())/(an(n)**2)\n",
      "H = lambda N : h(n(N))\n",
      "DH = lambda N : sym.diff(H(x),x).subs(x,N).evalf()\n",
      "\n",
      "fn = lambda n : sym.diff(sym.diff(an(x),x),x).subs(x,n).evalf()/an(n)\n",
      "fN = lambda N : fn(n(N))\n",
      "\n",
      "def DDhk(k0, N, hk0, Dhk0):\n",
      "    return -((3.*N -(1./N) +(DH(N)/H(N)))*Dhk0 +(((k0*N)/(A(N)*H(N)))**2)*hk0)\n",
      "\n",
      "def rk4_step(k0, N, hk0, Dhk0, step):\n",
      "    F1 = Dhk0\n",
      "    f1 = DDhk(k0, N, hk0, Dhk0)\n",
      "    F2 = Dhk0 +f1*step/2.\n",
      "    f2 = DDhk(k0, N +step/2., hk0 +F1*step/2., Dhk0 +f1*step/2.)\n",
      "    F3 = Dhk0 +f2*step/2.\n",
      "    f3 = DDhk(k0, N +step/2., hk0 +F2*step/2., Dhk0 +f2*step/2.)\n",
      "    F4 = Dhk0 +f3*step\n",
      "    f4 = DDhk(k0, N +step, hk0 +F3*step, Dhk0 +f3*step)   \n",
      "\n",
      "    return numpy.array([(f1 +2*f2 +2*f3 +f4)*step/6.], dtype=complex), numpy.array([(F1 +2*F2 +2*F3 +F4)*step/6.], dtype=complex) # [Dhk, hk] update\n",
      "\n",
      "k_min = 1e-25\n",
      "k_max = 1e-9\n",
      "\n",
      "Nshss = 3.02287778\n",
      "\n",
      "print 'lift off!'\n",
      "\n",
      "k_vs_hk = numpy.zeros(1,dtype=complex)\n",
      "\n",
      "k0 = k_min\n",
      "while k0 < k_max:\n",
      "    print 'k0 = ', k0\n",
      "\n",
      "    nm = lambda N : -n0*((A(N)/a0)**(1./p)-1)**(1./2)\n",
      "    n = lambda N : nm(N)\n",
      "    \n",
      "    Nics = numpy.array([-4])\n",
      "    for i in range(200):\n",
      "        Nics = opt.newton_krylov(lambda N : (k0)**2 - 1e+04*fN(N),Nics)\n",
      "    \n",
      "    hk0 = numpy.zeros(1,dtype=complex)\n",
      "    hk0.real = (((2.*k0)**(1./2))*A(Nics))**(-1.)\n",
      "    \n",
      "    Dhk0 = numpy.zeros(1,dtype=complex)\n",
      "    Dhk0.real = -(sym.diff(A(x),x).subs(x,Nics).evalf()/(A(Nics)**2))*((2*k0)**(-1./2))\n",
      "    Dhk0.imag = -Nics*((k0/2)**(1./2))/(A(Nics)*A(Nics)*H(Nics))\n",
      "\n",
      "    print 'got Nics, hk0 and Dhk0'\n",
      "\n",
      "    npts = 1000\n",
      "    step = (0-Nics)/(npts-1)\n",
      "\n",
      "    print 'starting from Nics'\n",
      "    \n",
      "    N = Nics\n",
      "    while N < 0 -2*step:\n",
      "        #array = euler_step(N, hk0, Dhk0, step)\n",
      "        array = rk4_step(k0, N, hk0, Dhk0, step)\n",
      "        hk0 = hk0 + array[1]\n",
      "        Dhk0 = Dhk0 + array[0]\n",
      "        N += step\n",
      "\n",
      "    print N-step, 0, hk0, Dhk0\n",
      "    print 'half way there!'\n",
      "\n",
      "    np = lambda N : n0*((A(N)/a0)**(1./p)-1)**(1./2)\n",
      "    n = lambda N : np(N)\n",
      "\n",
      "    step = (Nshss-0)/(npts-1)\n",
      "\n",
      "    N = 0 +step\n",
      "    while N < Nshss + step:\n",
      "        #array = euler_step()\n",
      "        array = rk4_step(k0, N, hk0, Dhk0, step)\n",
      "        hk0 = hk0 + array[1]\n",
      "        Dhk0 = Dhk0 + array[0]\n",
      "        N += step\n",
      "        \n",
      "    k_vs_hk = numpy.append(k_vs_hk, hk0)\n",
      "    print N-step, Nshss, hk0, Dhk0, Nics\n",
      "    print '\\n'\n",
      "    k0 = 10*k0"
     ],
     "language": "python",
     "metadata": {},
     "outputs": [
      {
       "output_type": "stream",
       "stream": "stdout",
       "text": [
        "lift off!\n",
        "k0 =  1e-25\n",
        "got Nics, hk0 and Dhk0"
       ]
      },
      {
       "output_type": "stream",
       "stream": "stdout",
       "text": [
        "\n",
        "starting from Nics\n",
        "[-0.03678715]"
       ]
      },
      {
       "output_type": "stream",
       "stream": "stdout",
       "text": [
        " 0 [[[[[[[[[[[[[[[[[[[[[[[[[[[[[[[[  2.80711134e+55 -7.60660952e+55j]]]]]]]]]]]]]]]]]]]]]]]]]]]]]]]] [[[[[[[[[[[[[[[[[[[[[[[[[[[[[[[[  2.58337211e+55 -7.00032897e+55j]]]]]]]]]]]]]]]]]]]]]]]]]]]]]]]]\n",
        "half way there!\n",
        "3.02590368368"
       ]
      },
      {
       "output_type": "stream",
       "stream": "stdout",
       "text": [
        " 3.02287778 [[[[[[[[[[[[[[[[[[[[[[[[[[[[[[[[  5.66746074e+55 -1.53574816e+56j]]]]]]]]]]]]]]]]]]]]]]]]]]]]]]]] [[[[[[[[[[[[[[[[[[[[[[[[[[[[[[[[  5.71330774e+52 -1.54817162e+53j]]]]]]]]]]]]]]]]]]]]]]]]]]]]]]]] [-0.02452477]\n",
        "\n",
        "\n",
        "k0 =  1e-24\n",
        "got Nics, hk0 and Dhk0"
       ]
      },
      {
       "output_type": "stream",
       "stream": "stdout",
       "text": [
        "\n",
        "starting from Nics\n",
        "[-0.02376024]"
       ]
      },
      {
       "output_type": "stream",
       "stream": "stdout",
       "text": [
        " 0 [[[[[[[[[[[[[[[[[[[[[[[[[[[[[[[[  1.14592090e+53 +4.84889572e+53j]]]]]]]]]]]]]]]]]]]]]]]]]]]]]]]] [[[[[[[[[[[[[[[[[[[[[[[[[[[[[[[[  1.04275310e+53 +4.41234735e+53j]]]]]]]]]]]]]]]]]]]]]]]]]]]]]]]]\n",
        "half way there!\n",
        "3.02590368368"
       ]
      },
      {
       "output_type": "stream",
       "stream": "stdout",
       "text": [
        " 3.02287778 [[[[[[[[[[[[[[[[[[[[[[[[[[[[[[[[  2.30047319e+53 +9.73431469e+53j]]]]]]]]]]]]]]]]]]]]]]]]]]]]]]]] [[[[[[[[[[[[[[[[[[[[[[[[[[[[[[[[  2.30612126e+50 +9.75821416e+50j]]]]]]]]]]]]]]]]]]]]]]]]]]]]]]]] [-0.01188012]\n",
        "\n",
        "\n",
        "k0 =  1e-23\n",
        "got Nics, hk0 and Dhk0"
       ]
      },
      {
       "output_type": "stream",
       "stream": "stdout",
       "text": [
        "\n",
        "starting from Nics\n",
        "[-0.02297028]"
       ]
      },
      {
       "output_type": "stream",
       "stream": "stdout",
       "text": [
        " 0 [[[[[[[[[[[[[[[[[[[[[[[[[[[[[[[[ -1.82663214e+51 -1.44193753e+51j]]]]]]]]]]]]]]]]]]]]]]]]]]]]]]]] [[[[[[[[[[[[[[[[[[[[[[[[[[[[[[[[ -1.66159196e+51 -1.31165534e+51j]]]]]]]]]]]]]]]]]]]]]]]]]]]]]]]]\n",
        "half way there!\n",
        "3.02590368368"
       ]
      },
      {
       "output_type": "stream",
       "stream": "stdout",
       "text": [
        " 3.02287778 [[[[[[[[[[[[[[[[[[[[[[[[[[[[[[[[ -3.66637236e+51 -2.89422253e+51j]]]]]]]]]]]]]]]]]]]]]]]]]]]]]]]] [[[[[[[[[[[[[[[[[[[[[[[[[[[[[[[[ -3.67472661e+48 -2.90081735e+48j]]]]]]]]]]]]]]]]]]]]]]]]]]]]]]]] [-0.01148514]\n",
        "\n",
        "\n",
        "k0 =  1e-22\n",
        "got Nics, hk0 and Dhk0"
       ]
      },
      {
       "output_type": "stream",
       "stream": "stdout",
       "text": [
        "\n",
        "starting from Nics\n",
        "[-0.02215217]"
       ]
      },
      {
       "output_type": "stream",
       "stream": "stdout",
       "text": [
        " 0 [[[[[[[[[[[[[[[[[[[[[[[[[[[[[[[[  6.60101408e+48 +5.58914641e+47j]]]]]]]]]]]]]]]]]]]]]]]]]]]]]]]] [[[[[[[[[[[[[[[[[[[[[[[[[[[[[[[[  6.00239931e+48 +5.08229313e+47j]]]]]]]]]]]]]]]]]]]]]]]]]]]]]]]]\n",
        "half way there!\n",
        "3.02590368368"
       ]
      },
      {
       "output_type": "stream",
       "stream": "stdout",
       "text": [
        " 3.02287778 [[[[[[[[[[[[[[[[[[[[[[[[[[[[[[[[  1.32469631e+49 +1.12163397e+48j]]]]]]]]]]]]]]]]]]]]]]]]]]]]]]]] [[[[[[[[[[[[[[[[[[[[[[[[[[[[[[[[  1.32747251e+46 +1.12398460e+45j]]]]]]]]]]]]]]]]]]]]]]]]]]]]]]]] [-0.01107609]\n",
        "\n",
        "\n",
        "k0 =  1e-21\n",
        "got Nics, hk0 and Dhk0"
       ]
      },
      {
       "output_type": "stream",
       "stream": "stdout",
       "text": [
        "\n",
        "starting from Nics\n",
        "[-0.031954]"
       ]
      },
      {
       "output_type": "stream",
       "stream": "stdout",
       "text": [
        " 0 [[[[[[[[[[[[[[[[[[[[[[[[[[[[[[[[ -5.99000942e+45 +4.21769456e+45j]]]]]]]]]]]]]]]]]]]]]]]]]]]]]]]] [[[[[[[[[[[[[[[[[[[[[[[[[[[[[[[[ -5.49678754e+45 +3.87040641e+45j]]]]]]]]]]]]]]]]]]]]]]]]]]]]]]]]\n",
        "half way there!\n",
        "3.02590368368"
       ]
      },
      {
       "output_type": "stream",
       "stream": "stdout",
       "text": [
        " 3.02287778 [[[[[[[[[[[[[[[[[[[[[[[[[[[[[[[[ -1.20761373e+46 +8.50306817e+45j]]]]]]]]]]]]]]]]]]]]]]]]]]]]]]]] [[[[[[[[[[[[[[[[[[[[[[[[[[[[[[[[ -1.21565293e+43 +8.55967395e+42j]]]]]]]]]]]]]]]]]]]]]]]]]]]]]]]] [-0.02130267]\n",
        "\n",
        "\n",
        "k0 =  1e-20\n",
        "got Nics, hk0 and Dhk0"
       ]
      },
      {
       "output_type": "stream",
       "stream": "stdout",
       "text": [
        "\n",
        "starting from Nics\n",
        "[-0.02041785]"
       ]
      },
      {
       "output_type": "stream",
       "stream": "stdout",
       "text": [
        " 0 [[[[[[[[[[[[[[[[[[[[[[[[[[[[[[[[ -1.75268901e+42 -6.10396950e+42j]]]]]]]]]]]]]]]]]]]]]]]]]]]]]]]] [[[[[[[[[[[[[[[[[[[[[[[[[[[[[[[[ -1.59250857e+42 -5.54612010e+42j]]]]]]]]]]]]]]]]]]]]]]]]]]]]]]]]\n",
        "half way there!\n",
        "3.02590368368"
       ]
      },
      {
       "output_type": "stream",
       "stream": "stdout",
       "text": [
        " 3.02287778 [[[[[[[[[[[[[[[[[[[[[[[[[[[[[[[[ -3.51593904e+42 -1.22447191e+43j]]]]]]]]]]]]]]]]]]]]]]]]]]]]]]]] [[[[[[[[[[[[[[[[[[[[[[[[[[[[[[[[ -3.52194388e+39 -1.22656317e+40j]]]]]]]]]]]]]]]]]]]]]]]]]]]]]]]] [-0.01020892]\n",
        "\n",
        "\n",
        "k0 =  1e-19\n",
        "got Nics, hk0 and Dhk0"
       ]
      },
      {
       "output_type": "stream",
       "stream": "stdout",
       "text": [
        "\n",
        "starting from Nics\n",
        "[-0.0194929]"
       ]
      },
      {
       "output_type": "stream",
       "stream": "stdout",
       "text": [
        " 0 [[[[[[[[[[[[[[[[[[[[[[[[[[[[[[[[  1.28761482e+39 +1.29566191e+39j]]]]]]]]]]]]]]]]]]]]]]]]]]]]]]]] [[[[[[[[[[[[[[[[[[[[[[[[[[[[[[[[  1.16945343e+39 +1.17676205e+39j]]]]]]]]]]]]]]]]]]]]]]]]]]]]]]]]\n",
        "half way there!\n",
        "3.02590368368"
       ]
      },
      {
       "output_type": "stream",
       "stream": "stdout",
       "text": [
        " 3.02287778 [[[[[[[[[[[[[[[[[[[[[[[[[[[[[[[[  2.58245168e+39 +2.59859098e+39j]]]]]]]]]]]]]]]]]]]]]]]]]]]]]]]] [[[[[[[[[[[[[[[[[[[[[[[[[[[[[[[[  2.58632790e+36 +2.60249142e+36j]]]]]]]]]]]]]]]]]]]]]]]]]]]]]]]] [-0.00974645]\n",
        "\n",
        "\n",
        "k0 =  1e-18\n",
        "got Nics, hk0 and Dhk0"
       ]
      },
      {
       "output_type": "stream",
       "stream": "stdout",
       "text": [
        "\n",
        "starting from Nics\n",
        "[-0.01852183]"
       ]
      },
      {
       "output_type": "stream",
       "stream": "stdout",
       "text": [
        " 0 [[[[[[[[[[[[[[[[[[[[[[[[[[[[[[[[ -2.67347251e+35 -4.21273080e+34j]]]]]]]]]]]]]]]]]]]]]]]]]]]]]]]] [[[[[[[[[[[[[[[[[[[[[[[[[[[[[[[[ -2.42707792e+35 -3.82447393e+34j]]]]]]]]]]]]]]]]]]]]]]]]]]]]]]]]\n",
        "half way there!\n",
        "3.02590368368"
       ]
      },
      {
       "output_type": "stream",
       "stream": "stdout",
       "text": [
        " 3.02287778 [[[[[[[[[[[[[[[[[[[[[[[[[[[[[[[[ -5.36077057e+35 -8.44724725e+34j]]]]]]]]]]]]]]]]]]]]]]]]]]]]]]]] [[[[[[[[[[[[[[[[[[[[[[[[[[[[[[[[ -5.36765223e+32 -8.45809104e+31j]]]]]]]]]]]]]]]]]]]]]]]]]]]]]]]] [-0.00926091]\n",
        "\n",
        "\n",
        "k0 =  1e-17\n",
        "got Nics, hk0 and Dhk0"
       ]
      },
      {
       "output_type": "stream",
       "stream": "stdout",
       "text": [
        "\n",
        "starting from Nics\n",
        "[-0.02624541]"
       ]
      },
      {
       "output_type": "stream",
       "stream": "stdout",
       "text": [
        " 0 [[[[[[[[[[[[[[[[[[[[[[[[[[[[[[[[  8.87348808e+30 +4.36555860e+29j]]]]]]]]]]]]]]]]]]]]]]]]]]]]]]]] [[[[[[[[[[[[[[[[[[[[[[[[[[[[[[[[  8.11524723e+30 +3.99252097e+29j]]]]]]]]]]]]]]]]]]]]]]]]]]]]]]]]\n",
        "half way there!\n",
        "3.02590368368"
       ]
      },
      {
       "output_type": "stream",
       "stream": "stdout",
       "text": [
        " 3.02287778 [[[[[[[[[[[[[[[[[[[[[[[[[[[[[[[[  1.78588148e+31 +8.78613933e+29j]]]]]]]]]]]]]]]]]]]]]]]]]]]]]]]] [[[[[[[[[[[[[[[[[[[[[[[[[[[[[[[[  1.79474354e+28 +8.82973869e+26j]]]]]]]]]]]]]]]]]]]]]]]]]]]]]]]] [-0.01749694]\n",
        "\n",
        "\n",
        "k0 =  1e-16\n",
        "got Nics, hk0 and Dhk0"
       ]
      },
      {
       "output_type": "stream",
       "stream": "stdout",
       "text": [
        "\n",
        "starting from Nics\n",
        "[-0.02461225]"
       ]
      },
      {
       "output_type": "stream",
       "stream": "stdout",
       "text": [
        " 0 [[[[[[[[[[[[[[[[[[[[[[[[[[[[[[[[ -2.12581145e+25 -6.38744113e+25j]]]]]]]]]]]]]]]]]]]]]]]]]]]]]]]] [[[[[[[[[[[[[[[[[[[[[[[[[[[[[[[[ -1.94227138e+25 -5.83595695e+25j]]]]]]]]]]]]]]]]]]]]]]]]]]]]]]]]\n",
        "half way there!\n",
        "3.02590368368"
       ]
      },
      {
       "output_type": "stream",
       "stream": "stdout",
       "text": [
        " 3.02287778 [[[[[[[[[[[[[[[[[[[[[[[[[[[[[[[[ -4.27632425e+25 -1.28491026e+26j]]]]]]]]]]]]]]]]]]]]]]]]]]]]]]]] [[[[[[[[[[[[[[[[[[[[[[[[[[[[[[[[ -4.29546206e+22 -1.29066061e+23j]]]]]]]]]]]]]]]]]]]]]]]]]]]]]]]] [-0.01640816]\n",
        "\n",
        "\n",
        "k0 =  1e-15\n",
        "got Nics, hk0 and Dhk0"
       ]
      },
      {
       "output_type": "stream",
       "stream": "stdout",
       "text": [
        "\n",
        "starting from Nics\n",
        "[-0.02286271]"
       ]
      },
      {
       "output_type": "stream",
       "stream": "stdout",
       "text": [
        " 0 [[[[[[[[[[[[[[[[[[[[[[[[[[[[[[[[  2.43523697e+19 -1.31402837e+20j]]]]]]]]]]]]]]]]]]]]]]]]]]]]]]]] [[[[[[[[[[[[[[[[[[[[[[[[[[[[[[[[  2.22266418e+19 -1.19932632e+20j]]]]]]]]]]]]]]]]]]]]]]]]]]]]]]]]\n",
        "half way there!\n",
        "3.02590368368"
       ]
      },
      {
       "output_type": "stream",
       "stream": "stdout",
       "text": [
        " 3.02287778 [[[[[[[[[[[[[[[[[[[[[[[[[[[[[[[[  4.89620473e+19 -2.64194081e+20j]]]]]]]]]]]]]]]]]]]]]]]]]]]]]]]] [[[[[[[[[[[[[[[[[[[[[[[[[[[[[[[[  4.91481157e+16 -2.65198086e+17j]]]]]]]]]]]]]]]]]]]]]]]]]]]]]]]] [-0.01524181]\n",
        "\n",
        "\n",
        "k0 =  1e-14\n",
        "got Nics, hk0 and Dhk0"
       ]
      },
      {
       "output_type": "stream",
       "stream": "stdout",
       "text": [
        "\n",
        "starting from Nics\n",
        "[-0.0209677]"
       ]
      },
      {
       "output_type": "stream",
       "stream": "stdout",
       "text": [
        " 0 [[[[[[[[[[[[[[[[[[[[[[[[[[[[[[[[ -1.48711368e+14 +5.37304958e+13j]]]]]]]]]]]]]]]]]]]]]]]]]]]]]]]] [[[[[[[[[[[[[[[[[[[[[[[[[[[[[[[[ -1.35577065e+14 +4.89849768e+13j]]]]]]]]]]]]]]]]]]]]]]]]]]]]]]]]\n",
        "half way there!\n",
        "3.02590368368"
       ]
      },
      {
       "output_type": "stream",
       "stream": "stdout",
       "text": [
        " 3.02287778 [[[[[[[[[[[[[[[[[[[[[[[[[[[[[[[[ -2.98822774e+14 +1.07966835e+14j]]]]]]]]]]]]]]]]]]]]]]]]]]]]]]]] [[[[[[[[[[[[[[[[[[[[[[[[[[[[[[[[ -2.95166738e+11 +1.06645883e+11j]]]]]]]]]]]]]]]]]]]]]]]]]]]]]]]] [-0.01397847]\n",
        "\n",
        "\n",
        "k0 =  1e-13\n",
        "got Nics, hk0 and Dhk0"
       ]
      },
      {
       "output_type": "stream",
       "stream": "stdout",
       "text": [
        "\n",
        "starting from Nics\n",
        "[-0.01258898]"
       ]
      },
      {
       "output_type": "stream",
       "stream": "stdout",
       "text": [
        " 0 [[[[[[[[[[[[[[[[[[[[[[[[[[[[[[[[  1.27871738e+09 +4.64112342e+09j]]]]]]]]]]]]]]]]]]]]]]]]]]]]]]]] [[[[[[[[[[[[[[[[[[[[[[[[[[[[[[[[  1.15775679e+09 +4.20209453e+09j]]]]]]]]]]]]]]]]]]]]]]]]]]]]]]]]\n",
        "half way there!\n",
        "3.02590368368"
       ]
      },
      {
       "output_type": "stream",
       "stream": "stdout",
       "text": [
        " 3.02287778 [[[[[[[[[[[[[[[[[[[[[[[[[[[[[[[[  2.55922432e+09 +9.28874132e+09j]]]]]]]]]]]]]]]]]]]]]]]]]]]]]]]] [[[[[[[[[[[[[[[[[[[[[[[[[[[[[[[[-1440891.10987943-5229735.67954553j]]]]]]]]]]]]]]]]]]]]]]]]]]]]]]]] [-0.00629449]\n",
        "\n",
        "\n",
        "k0 =  1e-12\n",
        "got Nics, hk0 and Dhk0"
       ]
      },
      {
       "output_type": "stream",
       "stream": "stdout",
       "text": [
        "\n",
        "starting from Nics\n",
        "[-0.01102575]"
       ]
      },
      {
       "output_type": "stream",
       "stream": "stdout",
       "text": [
        " 0 [[[[[[[[[[[[[[[[[[[[[[[[[[[[[[[[ -2.02236373e+09 -1.83331088e+10j]]]]]]]]]]]]]]]]]]]]]]]]]]]]]]]] [[[[[[[[[[[[[[[[[[[[[[[[[[[[[[[[ -1.82656929e+09 -1.65500306e+10j]]]]]]]]]]]]]]]]]]]]]]]]]]]]]]]]\n",
        "half way there!\n",
        "3.02590368368"
       ]
      },
      {
       "output_type": "stream",
       "stream": "stdout",
       "text": [
        " 3.02287778 [[[[[[[[[[[[[[[[[[[[[[[[[[[[[[[[ -3.83108148e+09 -3.47209049e+10j]]]]]]]]]]]]]]]]]]]]]]]]]]]]]]]] [[[[[[[[[[[[[[[[[[[[[[[[[[[[[[[[  6.03975801e+08 +5.47381280e+09j]]]]]]]]]]]]]]]]]]]]]]]]]]]]]]]] [-0.00551288]\n",
        "\n",
        "\n",
        "k0 =  1e-11\n",
        "got Nics, hk0 and Dhk0"
       ]
      },
      {
       "output_type": "stream",
       "stream": "stdout",
       "text": [
        "\n",
        "starting from Nics\n",
        "[-0.00920066]"
       ]
      },
      {
       "output_type": "stream",
       "stream": "stdout",
       "text": [
        " 0 [[[[[[[[[[[[[[[[[[[[[[[[[[[[[[[[  6.40747541e+09 -2.45005624e+10j]]]]]]]]]]]]]]]]]]]]]]]]]]]]]]]] [[[[[[[[[[[[[[[[[[[[[[[[[[[[[[[[  3.03414783e+09 -1.76170798e+10j]]]]]]]]]]]]]]]]]]]]]]]]]]]]]]]]\n",
        "half way there!\n",
        "3.02590368368"
       ]
      },
      {
       "output_type": "stream",
       "stream": "stdout",
       "text": [
        " 3.02287778 [[[[[[[[[[[[[[[[[[[[[[[[[[[[[[[[ -1.67514856e+08 +7.90638883e+08j]]]]]]]]]]]]]]]]]]]]]]]]]]]]]]]] [[[[[[[[[[[[[[[[[[[[[[[[[[[[[[[[  4.88927623e+09 -2.25676228e+10j]]]]]]]]]]]]]]]]]]]]]]]]]]]]]]]] [-0.00460033]\n",
        "\n",
        "\n",
        "k0 =  1e-10\n",
        "got Nics, hk0 and Dhk0"
       ]
      },
      {
       "output_type": "stream",
       "stream": "stdout",
       "text": [
        "\n",
        "starting from Nics\n",
        "[-0.00690919]"
       ]
      },
      {
       "output_type": "stream",
       "stream": "stdout",
       "text": [
        " 0 [[[[[[[[[[[[[[[[[[[[[[[[[[[[[[[[ -6.05451585e+09 -2.89475124e+09j]]]]]]]]]]]]]]]]]]]]]]]]]]]]]]]] [[[[[[[[[[[[[[[[[[[[[[[[[[[[[[[[ -1.44719229e+10 +3.02126294e+10j]]]]]]]]]]]]]]]]]]]]]]]]]]]]]]]]\n",
        "half way there!\n",
        "3.02590368368"
       ]
      },
      {
       "output_type": "stream",
       "stream": "stdout",
       "text": [
        " 3.02287778 [[[[[[[[[[[[[[[[[[[[[[[[[[[[[[[[-23687446.24448955+63364275.66033272j]]]]]]]]]]]]]]]]]]]]]]]]]]]]]]]] [[[[[[[[[[[[[[[[[[[[[[[[[[[[[[[[  6.95786801e+09 +2.37185894e+09j]]]]]]]]]]]]]]]]]]]]]]]]]]]]]]]] [-0.0034546]\n",
        "\n",
        "\n"
       ]
      },
      {
       "output_type": "stream",
       "stream": "stderr",
       "text": [
        "/usr/local/lib/python2.7/dist-packages/scipy/optimize/nonlin.py:474: RuntimeWarning: invalid value encountered in double_scalars\n",
        "  and dx_norm/self.x_rtol <= x_norm))\n"
       ]
      }
     ],
     "prompt_number": 3
    },
    {
     "cell_type": "code",
     "collapsed": false,
     "input": [
      "#plt.semilogy(numpy.absolute(k_vs_hk[1:]))\n",
      "##numpy.absolute(k_vs_hk)\n",
      "k_list = numpy.array([10**(-25 + i) for i in range(16)])\n",
      "#print len(k_list), len(k_vs_hk)\n",
      "TPS = [8*(k_list[i])**3/(2*numpy.pi**2)*(numpy.absolute(k_vs_hk[i+1]))**2 for i in range(len(N_over))]\n",
      "plt.loglog(k_list,TPS)"
     ],
     "language": "python",
     "metadata": {},
     "outputs": [
      {
       "metadata": {},
       "output_type": "pyout",
       "prompt_number": 19,
       "text": [
        "[<matplotlib.lines.Line2D at 0xac45aeec>]"
       ]
      },
      {
       "metadata": {},
       "output_type": "display_data",
       "png": "[encoded data removed]",
       "text": [
        "<matplotlib.figure.Figure at 0xac7f9acc>"
       ]
      }
     ],
     "prompt_number": 19
    },
    {
     "cell_type": "code",
     "collapsed": false,
     "input": [
      "plt.semilogy(numpy.absolute(numpy.array([5.66745795e+55 +1.53574740e+56j, -3.66637056e+51 +2.89422112e+51j, -1.20761313e+46 -8.50306399e+45j, 2.58245042e+39 -2.59858971e+39j, 1.78588061e+31 -8.78613502e+29j, 4.89620158e+19 +2.64193910e+20j, 2.55526188e+09 -9.27435959e+09j, 48031759.33156778 +2.17902654e+08j])))"
     ],
     "language": "python",
     "metadata": {},
     "outputs": [
      {
       "metadata": {},
       "output_type": "pyout",
       "prompt_number": 51,
       "text": [
        "[<matplotlib.lines.Line2D at 0xad50d0cc>]"
       ]
      },
      {
       "metadata": {},
       "output_type": "display_data",
       "png": "[encoded data removed]",
       "text": [
        "<matplotlib.figure.Figure at 0xadad762c>"
       ]
      }
     ],
     "prompt_number": 51
    },
    {
     "cell_type": "code",
     "collapsed": false,
     "input": [
      "test = numpy.array([5.66745795e+55 +1.53574740e+56j, -3.66637056e+51 +2.89422112e+51j, -1.20761313e+46 -8.50306399e+45j, 2.58245042e+39 -2.59858971e+39j, 1.78588061e+31 -8.78613502e+29j, 4.89620158e+19 +2.64193910e+20j, 2.55526188e+09 -9.27435959e+09j, 48031759.33156778 +2.17902654e+08j])\n",
      "10**(-2*n+1)*numpy.absolute(test)**2"
     ],
     "language": "python",
     "metadata": {},
     "outputs": [
      {
       "metadata": {},
       "output_type": "pyout",
       "prompt_number": 17,
       "text": [
        "array([  2.67972087e+112,   2.18187890e+103,   2.18135044e+092,\n",
        "         1.34217187e+079,   3.19708917e+062,   7.21957011e+040,\n",
        "         9.25431091e+019,   4.97886165e+016])"
       ]
      }
     ],
     "prompt_number": 17
    },
    {
     "cell_type": "code",
     "collapsed": false,
     "input": [],
     "language": "python",
     "metadata": {},
     "outputs": []
    },
    {
     "cell_type": "code",
     "collapsed": false,
     "input": [
      "10**(-5)*numpy.exp(-25)"
     ],
     "language": "python",
     "metadata": {},
     "outputs": [
      {
       "metadata": {},
       "output_type": "pyout",
       "prompt_number": 58,
       "text": [
        "1.3887943864964023e-16"
       ]
      }
     ],
     "prompt_number": 58
    },
    {
     "cell_type": "code",
     "collapsed": false,
     "input": [],
     "language": "python",
     "metadata": {},
     "outputs": []
    },
    {
     "cell_type": "code",
     "collapsed": false,
     "input": [
      "print hk0, Dhk0"
     ],
     "language": "python",
     "metadata": {},
     "outputs": []
    },
    {
     "cell_type": "code",
     "collapsed": false,
     "input": [
      "A = lambda N : a0*exp(x**2/2).subs(x,N).evalf()\n",
      "an = lambda n : a0*((1+(n/n0)**2)**p)\n",
      "\n",
      "aN = lambda N : an(n(N))\n",
      "h = lambda n : (sym.diff(an(x),x).subs(x,n).evalf())/(an(n)**2)\n",
      "H = lambda N : h(n(N))\n",
      "DH = lambda N : sym.diff(H(x),x).subs(x,N).evalf()\n",
      "\n",
      "fn = lambda n : sym.diff(sym.diff(an(x),x),x).subs(x,n).evalf()/an(n)\n",
      "fN = lambda N : fn(n(N))\n",
      "\n",
      "nm = lambda N : -n0*((A(N)/a0)**(1./p)-1)**(1./2)\n",
      "n = lambda N : nm(N)"
     ],
     "language": "python",
     "metadata": {},
     "outputs": [],
     "prompt_number": 3
    },
    {
     "cell_type": "code",
     "collapsed": false,
     "input": [
      "k_min = 1e-9\n",
      "k_max = 1e-8\n",
      "\n",
      "k0 = k_min\n",
      "while k0 < k_max:\n",
      "    Nics = numpy.array([-4])\n",
      "    for i in range(100):\n",
      "        Nics = opt.newton_krylov(lambda N : (k0)**2 - 1e+04*fN(N),Nics)\n",
      "    print Nics\n",
      "    '''print 'k0', k0, 'Nics', Nics\n",
      "    print 'hk0', (((2.*k0)**(1./2))*A(Nics))**(-1.)\n",
      "    print 'imag part dhk0', -Nics*((k0/2)**(1./2))/(A(Nics)*A(Nics)*H(Nics))\n",
      "    print 'real part dhk0', -(sym.diff(A(x),x).subs(x,Nics).evalf()/(A(Nics)**2))*((2*k0)**(-1./2))\n",
      "    print 'hk0', numpy.array([ + 0j], dtype=complex)'''\n",
      "    hk0 = numpy.zeros(1,dtype=complex)\n",
      "    hk0.real = (((2.*k0)**(1./2))*A(-Nics))**(-1.)\n",
      "    print hk0\n",
      "    Dhk0 = numpy.zeros(1,dtype=complex)\n",
      "    Dhk0.real = -(sym.diff(A(x),x).subs(x,-Nics).evalf()/(A(-Nics)**2))*((2*k0)**(-1./2))\n",
      "    Dhk0.imag = -(-Nics)*((k0/2)**(1./2))/(A(-Nics)*A(-Nics)*H(-Nics))\n",
      "    print Dhk0\n",
      "    print '\\n'\n",
      "    k0 = 1e+02*k0"
     ],
     "language": "python",
     "metadata": {},
     "outputs": [
      {
       "output_type": "stream",
       "stream": "stdout",
       "text": [
        "[ 1.64317937]\n",
        "[  5.79667700e+08+0.j]\n",
        "[  9.52498008e+08 -7.82544300e+10j]\n",
        "\n",
        "\n"
       ]
      }
     ],
     "prompt_number": 8
    },
    {
     "cell_type": "code",
     "collapsed": false,
     "input": [],
     "language": "python",
     "metadata": {},
     "outputs": []
    },
    {
     "cell_type": "code",
     "collapsed": false,
     "input": [
      "A = lambda N : a0*exp(x**2/2).subs(x,N).evalf()\n",
      "an = lambda n : a0*((1+(n/n0)**2)**p)\n",
      "\n",
      "aN = lambda N : an(n(N))\n",
      "h = lambda n : (sym.diff(an(x),x).subs(x,n).evalf())/(an(n)**2)\n",
      "H = lambda N : h(n(N))\n",
      "DH = lambda N : sym.diff(H(x),x).subs(x,N).evalf()\n",
      "\n",
      "fn = lambda n : sym.diff(sym.diff(an(x),x),x).subs(x,n).evalf()/an(n)\n",
      "fN = lambda N : fn(n(N))\n",
      "\n",
      "np = lambda N : n0*((A(N)/a0)**(1./p)-1)**(1./2)\n",
      "n = lambda N : np(N)"
     ],
     "language": "python",
     "metadata": {},
     "outputs": [],
     "prompt_number": 59
    },
    {
     "cell_type": "code",
     "collapsed": false,
     "input": [
      "k_max = 1e-9\n",
      "k0 = k_max\n",
      "\n",
      "Nshs = numpy.array([+2])\n",
      "for i in range(250):\n",
      "    Nshs = opt.newton_krylov(lambda N : (k0)**2 - 25*1e+04*fN(N),Nshs)\n",
      "\n",
      "print k0, Nics"
     ],
     "language": "python",
     "metadata": {},
     "outputs": [
      {
       "output_type": "stream",
       "stream": "stdout",
       "text": [
        "1e-09 [ 4.98076739]\n"
       ]
      }
     ],
     "prompt_number": 64
    },
    {
     "cell_type": "code",
     "collapsed": false,
     "input": [
      "temp = numpy.array([3])\n",
      "for i in range(200):\n",
      "    temp = opt.newton_krylov(lambda N : (1e-09)**2 - 25*1e+04*fN(N),temp)\n",
      "    \n",
      "print temp"
     ],
     "language": "python",
     "metadata": {},
     "outputs": [
      {
       "output_type": "stream",
       "stream": "stdout",
       "text": [
        "[ 3.02287778]\n"
       ]
      }
     ],
     "prompt_number": 67
    },
    {
     "cell_type": "code",
     "collapsed": false,
     "input": [],
     "language": "python",
     "metadata": {},
     "outputs": []
    },
    {
     "cell_type": "code",
     "collapsed": false,
     "input": [],
     "language": "python",
     "metadata": {},
     "outputs": []
    },
    {
     "cell_type": "code",
     "collapsed": false,
     "input": [
      "A = lambda N : a0*exp(x**2/2).subs(x,N).evalf()\n",
      "an = lambda n : a0*((1+(n/n0)**2)**p)\n",
      "\n",
      "aN = lambda N : an(n(N))\n",
      "h = lambda n : (sym.diff(an(x),x).subs(x,n).evalf())/(an(n)**2)\n",
      "H = lambda N : h(n(N))\n",
      "DH = lambda N : sym.diff(H(x),x).subs(x,N).evalf()\n",
      "\n",
      "fn = lambda n : sym.diff(sym.diff(an(x),x),x).subs(x,n).evalf()/an(n)\n",
      "fN = lambda N : fn(n(N))\n",
      "\n",
      "def DDhk(k0, N, hk0, Dhk0):\n",
      "    return -((3.*N -(1./N) +(DH(N)/H(N)))*Dhk0 +(((k0*N)/(A(N)*H(N)))**2)*hk0)\n",
      "\n",
      "def rk4_step(k0, N, hk0, Dhk0, step):\n",
      "    F1 = Dhk0\n",
      "    f1 = DDhk(k0, N, hk0, Dhk0)\n",
      "    F2 = Dhk0 +f1*step/2.\n",
      "    f2 = DDhk(k0, N +step/2., hk0 +F1*step/2., Dhk0 +f1*step/2.)\n",
      "    F3 = Dhk0 +f2*step/2.\n",
      "    f3 = DDhk(k0, N +step/2., hk0 +F2*step/2., Dhk0 +f2*step/2.)\n",
      "    F4 = Dhk0 +f3*step\n",
      "    f4 = DDhk(k0, N +step, hk0 +F3*step, Dhk0 +f3*step)   \n",
      "\n",
      "    return numpy.array([(f1 +2*f2 +2*f3 +f4)*step/6.], dtype=complex), numpy.array([(F1 +2*F2 +2*F3 +F4)*step/6.], dtype=complex) # [Dhk, hk] update\n",
      "\n",
      "k_min = 1e-9\n",
      "k_max = 1e-8\n",
      "\n",
      "Nshss = 3.02287778\n",
      "\n",
      "print 'lift off!'\n",
      "\n",
      "k_vs_hk = numpy.zeros(1,dtype=complex)\n",
      "\n",
      "k0 = k_min\n",
      "while k0 < k_max:\n",
      "    print 'k0 = ', k0\n",
      "    Nics = numpy.array([-4])\n",
      "    for i in range(100):\n",
      "        Nics = opt.newton_krylov(lambda N : (k0)**2 - 1e+04*fN(N),Nics)\n",
      "    \n",
      "    Nics = -Nics\n",
      "    \n",
      "    hk0 = numpy.zeros(1,dtype=complex)\n",
      "    hk0.real = (((2.*k0)**(1./2))*A(Nics))**(-1.)\n",
      "    \n",
      "    Dhk0 = numpy.zeros(1,dtype=complex)\n",
      "    Dhk0.real = (sym.diff(A(x),x).subs(x,Nics).evalf()/(A(Nics)**2))*((2*k0)**(-1./2))\n",
      "    Dhk0.imag = Nics*((k0/2)**(1./2))/(A(Nics)*A(Nics)*H(Nics))\n",
      "\n",
      "    print 'got Nics, hk0 and Dhk0'\n",
      "\n",
      "    nm = lambda N : -n0*((A(N)/a0)**(1./p)-1)**(1./2)\n",
      "    n = lambda N : nm(N)\n",
      "\n",
      "    npts = 1000\n",
      "\n",
      "    step = (0-Nics)/(npts-1)\n",
      "\n",
      "    print 'starting from Nics'\n",
      "    \n",
      "    N = Nics\n",
      "    while N < 0 -2*step:\n",
      "        #array = euler_step(N, hk0, Dhk0, step)\n",
      "        array = rk4_step(k0, N, hk0, Dhk0, step)\n",
      "        hk0 = hk0 + array[1]\n",
      "        Dhk0 = Dhk0 + array[0]\n",
      "        N += step\n",
      "\n",
      "    print N-step, 0, hk0, Dhk0\n",
      "    print 'half way there!'\n",
      "\n",
      "    np = lambda N : n0*((A(N)/a0)**(1./p)-1)**(1./2)\n",
      "    n = lambda N : np(N)\n",
      "\n",
      "    step = (Nshss-0)/(npts-1)\n",
      "\n",
      "    N = 0 +step\n",
      "    while N < Nshss + step:\n",
      "        #array = euler_step()\n",
      "        array = rk4_step(k0, N, hk0, Dhk0, step)\n",
      "        hk0 = hk0 + array[1]\n",
      "        Dhk0 = Dhk0 + array[0]\n",
      "        N += step\n",
      "        \n",
      "    k_vs_hk = numpy.append(k_vs_hk, hk0)\n",
      "    print N-step, Nshss, hk0, Dhk0, Nics\n",
      "    print '\\n'\n",
      "    k0 = 10*k0"
     ],
     "language": "python",
     "metadata": {},
     "outputs": [
      {
       "output_type": "stream",
       "stream": "stdout",
       "text": [
        "lift off!\n",
        "k0 =  1e-09\n",
        "got Nics, hk0 and Dhk0"
       ]
      },
      {
       "output_type": "stream",
       "stream": "stdout",
       "text": [
        "\n",
        "starting from Nics\n",
        "[-0.00328965]"
       ]
      },
      {
       "output_type": "stream",
       "stream": "stdout",
       "text": [
        " 0 [[[[[[[[[[[[[[[[[[[[[[[[[[[[[[[[ -1.42793907e+09 +1.75532532e+09j]]]]]]]]]]]]]]]]]]]]]]]]]]]]]]]] [[[[[[[[[[[[[[[[[[[[[[[[[[[[[[[[ -8.76367311e+10 -7.05151971e+10j]]]]]]]]]]]]]]]]]]]]]]]]]]]]]]]]\n",
        "half way there!\n",
        "3.02590368368"
       ]
      },
      {
       "output_type": "stream",
       "stream": "stdout",
       "text": [
        " 3.02287778 [[[[[[[[[[[[[[[[[[[[[[[[[[[[[[[[ 5934.73524229+921.00511587j]]]]]]]]]]]]]]]]]]]]]]]]]]]]]]]] [[[[[[[[[[[[[[[[[[[[[[[[[[[[[[[[-52854397.37028672-6621361.3902465j]]]]]]]]]]]]]]]]]]]]]]]]]]]]]]]] [-0.00164482]\n",
        "\n",
        "\n"
       ]
      }
     ],
     "prompt_number": 9
    },
    {
     "cell_type": "code",
     "collapsed": false,
     "input": [
      "8*(k0/10)**3/(2*numpy.pi**2)*(numpy.absolute([5934.73524229+921.00511587j]))**2"
     ],
     "language": "python",
     "metadata": {},
     "outputs": [
      {
       "metadata": {},
       "output_type": "pyout",
       "prompt_number": 14,
       "text": [
        "array([  1.46183500e-20])"
       ]
      }
     ],
     "prompt_number": 14
    },
    {
     "cell_type": "code",
     "collapsed": false,
     "input": [
      "k0"
     ],
     "language": "python",
     "metadata": {},
     "outputs": [
      {
       "metadata": {},
       "output_type": "pyout",
       "prompt_number": 13,
       "text": [
        "1e-08"
       ]
      }
     ],
     "prompt_number": 13
    },
    {
     "cell_type": "code",
     "collapsed": false,
     "input": [],
     "language": "python",
     "metadata": {},
     "outputs": []
    }
   ],
   "metadata": {}
  }
 ]
}