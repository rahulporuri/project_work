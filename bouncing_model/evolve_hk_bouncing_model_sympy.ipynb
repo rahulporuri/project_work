{
 "metadata": {
  "name": "",
  "signature": "sha256:be6bacd573fdc69f7ba4644d5fa8b12e03a89a907a869089ad46c08c06c6c298"
 },
 "nbformat": 3,
 "nbformat_minor": 0,
 "worksheets": [
  {
   "cells": [
    {
     "cell_type": "markdown",
     "metadata": {},
     "source": [
      "$$a(\\mathcal{N}) = a_0*e^{\\frac{\\mathcal{N}^2}{2}}$$\n",
      "\n",
      "$$a(\\eta) = a_0*(1+(\\frac{\\eta}{\\eta_0})^2)^p$$\n",
      "\n",
      "$$\\eta^+(\\mathcal{N}) = \\eta_0\\left[\\left(\\frac{a(\\mathcal{N})}{a_0}\\right)^{\\frac{1}{p}}-1\\right]^{\\frac{1}{2}}$$\n",
      "$$\\eta^-(\\mathcal{N}) = -\\eta_0\\left[\\left(\\frac{a(\\mathcal{N})}{a_0}\\right)^{\\frac{1}{p}}-1\\right]^{\\frac{1}{2}}$$\n",
      "\n",
      "<!--i could also use \\big(, \\Big(, \\bigg(, \\Bigg(-->\n",
      "\n",
      "$$\\eta(\\mathcal{N}) = \\theta(\\mathcal{N})*\\eta^+(\\mathcal{N}) + \\theta(\\mathcal{-N})*\\eta^-(\\mathcal{N})$$\n",
      "\n",
      "$$a(\\mathcal{N}) = a(\\eta(\\mathcal{N}))$$\n",
      "\n",
      "$$\\mathcal{H}(\\eta) = \\frac{a^{'}(\\eta)}{a(\\eta)^2}$$"
     ]
    },
    {
     "cell_type": "markdown",
     "metadata": {},
     "source": [
      "function prefix of 'd_' for differentiation with respect to $\\eta$ and 'D_' for differentiation with respect to $\\mathcal{N}$. Lower case function names for functions in terms of $\\eta$ and higher case function names for functions in terms of $\\mathcal{N}$"
     ]
    },
    {
     "cell_type": "markdown",
     "metadata": {},
     "source": [
      "$$\\frac{d^2h_k}{d\\mathcal{N}^2} + \\left(3\\mathcal{N} - \\frac{1}{\\mathcal{N}} + \\frac{1}{\\mathcal{H}}\\frac{d\\mathcal{H}}{d\\mathcal{N}}\\right)\\frac{dh_k}{d\\mathcal{N}} + \\left(\\frac{k_s\\mathcal{N}}{a\\mathcal{H}}\\right)^2 h_k = 0$$\n",
      "\n",
      "where $h = h(\\mathcal{N})$, $a = a(\\eta(\\mathcal{N}))$ and $\\mathcal{H} = \\mathcal{H}(\\eta(\\mathcal{N}))$"
     ]
    },
    {
     "cell_type": "code",
     "collapsed": false,
     "input": [
      "import numpy as numpy\n",
      "import matplotlib.pyplot as plt\n",
      "%matplotlib inline\n",
      "import sympy as sym\n",
      "x = sym.symbols('x')\n",
      "# references -\n",
      "# http://docs.scipy.org/doc/scipy-0.14.0/reference/optimize.html\n",
      "#import scipy\n",
      "import scipy.optimize as opt"
     ],
     "language": "python",
     "metadata": {},
     "outputs": [],
     "prompt_number": 1
    },
    {
     "cell_type": "code",
     "collapsed": false,
     "input": [
      "a0 = 1e-05\n",
      "n0 = numpy.exp(25)\n",
      "k0 = numpy.exp(-25)\n",
      "p = 1"
     ],
     "language": "python",
     "metadata": {},
     "outputs": [],
     "prompt_number": 2
    },
    {
     "cell_type": "code",
     "collapsed": false,
     "input": [
      "#sym.diff(np(x),x)\n",
      "#sym.diff(np(x),x)\n",
      "from sympy.functions import exp"
     ],
     "language": "python",
     "metadata": {},
     "outputs": [],
     "prompt_number": 3
    },
    {
     "cell_type": "code",
     "collapsed": false,
     "input": [
      "A = lambda N : a0*exp(x**2/2).subs(x,N).evalf()\n",
      "an = lambda n : a0*((1+(n/n0)**2)**p)\n",
      "nm = lambda N : -n0*((A(N)/a0)**(1./p)-1)**(1./2)\n",
      "n = lambda N : nm(N)\n",
      "#aN = lambda N : an(n(N))\n",
      "h = lambda n : (sym.diff(an(x),x).subs(x,n).evalf())/(an(n)**2)\n",
      "H = lambda N : h(n(N))"
     ],
     "language": "python",
     "metadata": {},
     "outputs": [],
     "prompt_number": 4
    },
    {
     "cell_type": "code",
     "collapsed": false,
     "input": [
      "DH = lambda N : sym.diff(H(x),x).subs(x,N).evalf()"
     ],
     "language": "python",
     "metadata": {},
     "outputs": [],
     "prompt_number": 5
    },
    {
     "cell_type": "code",
     "collapsed": false,
     "input": [
      "fn = lambda n : sym.diff(sym.diff(an(x),x),x).subs(x,n).evalf()/an(n)\n",
      "fN = lambda N : fn(n(N))"
     ],
     "language": "python",
     "metadata": {},
     "outputs": [],
     "prompt_number": 6
    },
    {
     "cell_type": "code",
     "collapsed": false,
     "input": [
      "aN = lambda N : an(n(N))"
     ],
     "language": "python",
     "metadata": {},
     "outputs": [],
     "prompt_number": 7
    },
    {
     "cell_type": "code",
     "collapsed": false,
     "input": [
      "N = numpy.linspace(-5,0,51)"
     ],
     "language": "python",
     "metadata": {},
     "outputs": [],
     "prompt_number": 8
    },
    {
     "cell_type": "markdown",
     "metadata": {},
     "source": [
      "the behavior of a($\\eta$) for various $\\eta$\n",
      "==="
     ]
    },
    {
     "cell_type": "code",
     "collapsed": true,
     "input": [
      "plt.plot(numpy.arange(-1e06, 1e06,100),an(numpy.arange(-1e06, 1e06,100)))"
     ],
     "language": "python",
     "metadata": {},
     "outputs": [
      {
       "metadata": {},
       "output_type": "pyout",
       "prompt_number": 9,
       "text": [
        "[<matplotlib.lines.Line2D at 0xae96cc2c>]"
       ]
      },
      {
       "metadata": {},
       "output_type": "display_data",
       "png": "[encoded data removed]",
       "text": [
        "<matplotlib.figure.Figure at 0xaea82d4c>"
       ]
      }
     ],
     "prompt_number": 9
    },
    {
     "cell_type": "markdown",
     "metadata": {},
     "source": [
      "the behavior of $\\mathcal{H}(\\mathcal{N})$ for various $\\mathcal{N}$\n",
      "==="
     ]
    },
    {
     "cell_type": "code",
     "collapsed": false,
     "input": [
      "plt.plot(N,[H(i) for i in N])"
     ],
     "language": "python",
     "metadata": {},
     "outputs": [
      {
       "metadata": {},
       "output_type": "pyout",
       "prompt_number": 10,
       "text": [
        "[<matplotlib.lines.Line2D at 0xae718b4c>]"
       ]
      },
      {
       "metadata": {},
       "output_type": "display_data",
       "png": "[encoded data removed]",
       "text": [
        "<matplotlib.figure.Figure at 0xae98d52c>"
       ]
      }
     ],
     "prompt_number": 10
    },
    {
     "cell_type": "markdown",
     "metadata": {},
     "source": [
      "the behavior of $\\mathcal{H}^{'}(\\mathcal{N})$ for various $\\mathcal{N}$\n",
      "==="
     ]
    },
    {
     "cell_type": "code",
     "collapsed": false,
     "input": [
      "plt.plot(N,[DH(i) for i in N])"
     ],
     "language": "python",
     "metadata": {},
     "outputs": [
      {
       "metadata": {},
       "output_type": "pyout",
       "prompt_number": 11,
       "text": [
        "[<matplotlib.lines.Line2D at 0xae65abec>]"
       ]
      },
      {
       "metadata": {},
       "output_type": "display_data",
       "png": "[encoded data removed]",
       "text": [
        "<matplotlib.figure.Figure at 0xae82c02c>"
       ]
      }
     ],
     "prompt_number": 11
    },
    {
     "cell_type": "markdown",
     "metadata": {},
     "source": [
      "the behavior of $\\frac{a^{''}(\\mathcal{N})}{a(\\mathcal{N})}$ for various $\\mathcal{N}$\n",
      "==="
     ]
    },
    {
     "cell_type": "code",
     "collapsed": false,
     "input": [
      "plt.plot(N,[fN(i) for i in N])"
     ],
     "language": "python",
     "metadata": {},
     "outputs": [
      {
       "metadata": {},
       "output_type": "pyout",
       "prompt_number": 12,
       "text": [
        "[<matplotlib.lines.Line2D at 0xae63144c>]"
       ]
      },
      {
       "metadata": {},
       "output_type": "display_data",
       "png": "[encoded data removed]",
       "text": [
        "<matplotlib.figure.Figure at 0xae6e850c>"
       ]
      }
     ],
     "prompt_number": 12
    },
    {
     "cell_type": "markdown",
     "metadata": {},
     "source": [
      "finding the roots and initial conditions to solve the diff. eqn\n",
      "===\n",
      "\n",
      "$$h(Nics) = \\frac{1}{(2k_s)^\\frac{1}{2}*a(Nics)}$$\n",
      "$$h^{'}(Nics) = -\\frac{I*Nics*(2ks)^\\frac{1}{2}}{2*a(Nics)*a(Nics)*H(Nics)} - \\frac{a^{'}(Nics)}{a^2(Nics)*(2ks)^\\frac{1}{2}}$$\n",
      "\n",
      "results from mathematica -\n",
      "\n",
      "h0 = 948715.57472053941534264\n",
      "dh0 = 4.2222613144777582640577*1e+06"
     ]
    },
    {
     "cell_type": "code",
     "collapsed": false,
     "input": [
      "temp = numpy.array([-4])\n",
      "for i in range(10):\n",
      "    temp = opt.newton_krylov(lambda N : (1./n0)**2 - 1e+04*fN(N),temp)\n",
      "print temp"
     ],
     "language": "python",
     "metadata": {},
     "outputs": [
      {
       "output_type": "stream",
       "stream": "stdout",
       "text": [
        "[-4.45050279]\n"
       ]
      }
     ],
     "prompt_number": 14
    },
    {
     "cell_type": "markdown",
     "metadata": {},
     "source": [
      "evolution of $h_k$ from Nics to 0 for $k_0 = exp(-25)$\n",
      "===="
     ]
    },
    {
     "cell_type": "code",
     "collapsed": false,
     "input": [
      "def DDhk(N, hk0, Dhk0):\n",
      "    return -((3.*N -(1./N) +(DH(N)/H(N)))*Dhk0 +(((k0*N)/(A(N)*H(N)))**2)*hk0)\n",
      "'''\n",
      "def euler_step(N, hk0, Dhk0, step):\n",
      "    F = Dhk0\n",
      "    f = DDhk(N,hk0,Dhk0)\n",
      "    \n",
      "    return [f*step, F*step] #[Dhk, hk] update\n",
      "\n",
      "def rk2_step(N, hk0, Dhk0, step):\n",
      "    F1 = Dhk0\n",
      "    f1 = DDhk(N,Dhk0,hk0)\n",
      "    F2 = Dhk0 +f1*step\n",
      "    f2 = DDhk(N+step/2.,Dhk0+f1*step/2.,hk0+F1*step/2.)\n",
      "    \n",
      "    return [(f1+f2)*step/2., (F1+F2)*step/2.] # [Dhk, hk] update\n",
      "'''\n",
      "def rk4_step(N, hk0, Dhk0, step):\n",
      "    F1 = Dhk0\n",
      "    f1 = DDhk(N, hk0, Dhk0)\n",
      "    F2 = Dhk0 +f1*step/2.\n",
      "    f2 = DDhk(N +step/2., hk0 +F1*step/2., Dhk0 +f1*step/2.)\n",
      "    F3 = Dhk0 +f2*step/2.\n",
      "    f3 = DDhk(N +step/2., hk0 +F2*step/2., Dhk0 +f2*step/2.)\n",
      "    F4 = Dhk0 +f3*step\n",
      "    f4 = DDhk(N +step, hk0 +F3*step, Dhk0 +f3*step)\n",
      "    \n",
      "    return numpy.array([(f1 +2*f2 +2*f3 +f4)*step/6.], dtype=complex), numpy.array([(F1 +2*F2 +2*F3 +F4)*step/6.], dtype=complex) # [Dhk, hk] update\n",
      "\n",
      "npts = 1000\n",
      "Nics = -4.450498032115866\n",
      "Nshss = 0\n",
      "\n",
      "step = (Nshss-Nics)/(npts-1)\n",
      "\n",
      "hk0 = numpy.array([948715.57472053941534264 + 0.j], dtype = complex)\n",
      "Dhk0 = numpy.array([4222261.3144777582640577 -298566424.99481408456441j], dtype = complex)\n",
      "\n",
      "hk = numpy.array([948715.57472053941534264 + 0.j], dtype = complex)\n",
      "\n",
      "N = Nics\n",
      "while N < Nshss-2*step:\n",
      "    #array = euler_step(N, hk0, Dhk0, step)\n",
      "    array = rk4_step(N, hk0, Dhk0, step)\n",
      "    hk0 = hk0 + array[1]\n",
      "    Dhk0 = Dhk0 + array[0]\n",
      "    hk = numpy.append(hk,hk0)\n",
      "    N += step"
     ],
     "language": "python",
     "metadata": {},
     "outputs": [],
     "prompt_number": 14
    },
    {
     "cell_type": "code",
     "collapsed": false,
     "input": [
      "print N-step, hk0, Dhk0"
     ],
     "language": "python",
     "metadata": {},
     "outputs": [
      {
       "output_type": "stream",
       "stream": "stdout",
       "text": [
        "-0.00890990597021 [[[[[[[[[[[[[[[[[[[[[[[[[[[[[[[[  1.15806723e+09 -1.92903590e+10j]]]]]]]]]]]]]]]]]]]]]]]]]]]]]]]] [[[[[[[[[[[[[[[[[[[[[[[[[[[[[[[[ -2.60841343e+09 -1.06553978e+10j]]]]]]]]]]]]]]]]]]]]]]]]]]]]]]]]\n"
       ]
      }
     ],
     "prompt_number": 15
    },
    {
     "cell_type": "code",
     "collapsed": false,
     "input": [
      "plt.plot(numpy.absolute(hk))"
     ],
     "language": "python",
     "metadata": {},
     "outputs": [
      {
       "metadata": {},
       "output_type": "pyout",
       "prompt_number": 16,
       "text": [
        "[<matplotlib.lines.Line2D at 0xae56060c>]"
       ]
      },
      {
       "metadata": {},
       "output_type": "display_data",
       "png": "[encoded data removed]",
       "text": [
        "<matplotlib.figure.Figure at 0xb10ad72c>"
       ]
      }
     ],
     "prompt_number": 16
    },
    {
     "cell_type": "code",
     "collapsed": false,
     "input": [
      "plt.semilogy(numpy.absolute(hk))"
     ],
     "language": "python",
     "metadata": {},
     "outputs": [
      {
       "metadata": {},
       "output_type": "pyout",
       "prompt_number": 17,
       "text": [
        "[<matplotlib.lines.Line2D at 0xae5512ec>]"
       ]
      },
      {
       "metadata": {},
       "output_type": "display_data",
       "png": "[encoded data removed]",
       "text": [
        "<matplotlib.figure.Figure at 0xae4d628c>"
       ]
      }
     ],
     "prompt_number": 17
    },
    {
     "cell_type": "code",
     "collapsed": false,
     "input": [
      "plt.plot(hk.imag)"
     ],
     "language": "python",
     "metadata": {},
     "outputs": [
      {
       "metadata": {},
       "output_type": "pyout",
       "prompt_number": 18,
       "text": [
        "[<matplotlib.lines.Line2D at 0xae27aacc>]"
       ]
      },
      {
       "metadata": {},
       "output_type": "display_data",
       "png": "[encoded data removed]",
       "text": [
        "<matplotlib.figure.Figure at 0xae2adcac>"
       ]
      }
     ],
     "prompt_number": 18
    },
    {
     "cell_type": "code",
     "collapsed": false,
     "input": [
      "N = numpy.linspace(0,5,51)"
     ],
     "language": "python",
     "metadata": {},
     "outputs": [],
     "prompt_number": 19
    },
    {
     "cell_type": "code",
     "collapsed": false,
     "input": [
      "A = lambda N : a0*exp(x**2/2).subs(x,N).evalf()\n",
      "an = lambda n : a0*((1+(n/n0)**2)**p)\n",
      "np = lambda N : n0*((A(N)/a0)**(1./p)-1)**(1./2)\n",
      "n = lambda N : np(N)\n",
      "#aN = lambda N : an(n(N))\n",
      "h = lambda n : (sym.diff(an(x),x).subs(x,n).evalf())/(an(n)**2)\n",
      "H = lambda N : h(n(N))"
     ],
     "language": "python",
     "metadata": {},
     "outputs": [],
     "prompt_number": 20
    },
    {
     "cell_type": "code",
     "collapsed": false,
     "input": [
      "fn = lambda n : sym.diff(sym.diff(an(x),x),x).subs(x,n).evalf()/an(n)\n",
      "fN = lambda N : fn(n(N))"
     ],
     "language": "python",
     "metadata": {},
     "outputs": [],
     "prompt_number": 21
    },
    {
     "cell_type": "code",
     "collapsed": false,
     "input": [
      "aN = lambda N : an(n(N))"
     ],
     "language": "python",
     "metadata": {},
     "outputs": [],
     "prompt_number": 22
    },
    {
     "cell_type": "code",
     "collapsed": false,
     "input": [
      "DH = lambda N : sym.diff(H(x),x).subs(x,N).evalf()"
     ],
     "language": "python",
     "metadata": {},
     "outputs": [],
     "prompt_number": 23
    },
    {
     "cell_type": "markdown",
     "metadata": {},
     "source": [
      "the behavior of a($\\eta$) for various $\\eta$\n",
      "==="
     ]
    },
    {
     "cell_type": "code",
     "collapsed": false,
     "input": [
      "plt.plot(numpy.arange(-1e06, 1e06,100),an(numpy.arange(-1e06, 1e06,100)))"
     ],
     "language": "python",
     "metadata": {},
     "outputs": [
      {
       "metadata": {},
       "output_type": "pyout",
       "prompt_number": 24,
       "text": [
        "[<matplotlib.lines.Line2D at 0xae05592c>]"
       ]
      },
      {
       "metadata": {},
       "output_type": "display_data",
       "png": "[encoded data removed]",
       "text": [
        "<matplotlib.figure.Figure at 0xae4db94c>"
       ]
      }
     ],
     "prompt_number": 24
    },
    {
     "cell_type": "markdown",
     "metadata": {},
     "source": [
      "the behavior of $\\mathcal{H}(\\mathcal{N})$ for various $\\mathcal{N}$\n",
      "==="
     ]
    },
    {
     "cell_type": "code",
     "collapsed": false,
     "input": [
      "plt.plot(N,[H(i) for i in N])"
     ],
     "language": "python",
     "metadata": {},
     "outputs": [
      {
       "metadata": {},
       "output_type": "pyout",
       "prompt_number": 25,
       "text": [
        "[<matplotlib.lines.Line2D at 0xae1e85cc>]"
       ]
      },
      {
       "metadata": {},
       "output_type": "display_data",
       "png": "[encoded data removed]",
       "text": [
        "<matplotlib.figure.Figure at 0xb63e464c>"
       ]
      }
     ],
     "prompt_number": 25
    },
    {
     "cell_type": "markdown",
     "metadata": {},
     "source": [
      "the behavior of $\\mathcal{H}^{'}(\\mathcal{N})$ for various $\\mathcal{N}$\n",
      "==="
     ]
    },
    {
     "cell_type": "code",
     "collapsed": false,
     "input": [
      "plt.plot(N,[DH(i) for i in N])"
     ],
     "language": "python",
     "metadata": {},
     "outputs": [
      {
       "metadata": {},
       "output_type": "pyout",
       "prompt_number": 26,
       "text": [
        "[<matplotlib.lines.Line2D at 0xae0d83ec>]"
       ]
      },
      {
       "metadata": {},
       "output_type": "display_data",
       "png": "[encoded data removed]",
       "text": [
        "<matplotlib.figure.Figure at 0xae245e2c>"
       ]
      }
     ],
     "prompt_number": 26
    },
    {
     "cell_type": "code",
     "collapsed": false,
     "input": [
      "plt.plot(N,[fN(i) for i in N])"
     ],
     "language": "python",
     "metadata": {},
     "outputs": [
      {
       "metadata": {},
       "output_type": "pyout",
       "prompt_number": 27,
       "text": [
        "[<matplotlib.lines.Line2D at 0xae23574c>]"
       ]
      },
      {
       "metadata": {},
       "output_type": "display_data",
       "png": "[encoded data removed]",
       "text": [
        "<matplotlib.figure.Figure at 0xae4fd20c>"
       ]
      }
     ],
     "prompt_number": 27
    },
    {
     "cell_type": "markdown",
     "metadata": {},
     "source": [
      "finding the roots and initial conditions to solve the diff. eqn\n",
      "===\n",
      "\n",
      "$$h(Nics) = \\frac{1}{(2k_s)^\\frac{1}{2}*a(Nics)}$$\n",
      "$$h^{'}(Nics) = -\\frac{I*Nics*(2ks)^\\frac{1}{2}}{2*a(Nics)*a(Nics)*H(Nics)} - \\frac{a^{'}(Nics)}{a^2(Nics)*(2ks)^\\frac{1}{2}}$$\n",
      "\n",
      "results from mathematica -\n",
      "\n",
      "h0 = 948715.57472053941534264\n",
      "dh0 = 4.2222613144777582640577*1e+06"
     ]
    },
    {
     "cell_type": "code",
     "collapsed": false,
     "input": [
      "temp = numpy.array([5])\n",
      "for i in range(10):\n",
      "    temp = opt.newton_krylov(lambda N : (1./n0)**2 - 1e+06*fN(N),temp)\n",
      "    \n",
      "print temp"
     ],
     "language": "python",
     "metadata": {},
     "outputs": [
      {
       "output_type": "stream",
       "stream": "stdout",
       "text": [
        "[ 5.38677227]\n"
       ]
      }
     ],
     "prompt_number": 28
    },
    {
     "cell_type": "markdown",
     "metadata": {},
     "source": [
      "evolution of $h_k$ from 0 to Nshss for $k_0 = exp(-25)$\n",
      "===="
     ]
    },
    {
     "cell_type": "code",
     "collapsed": false,
     "input": [
      "def DDhk(N,hk0,Dhk0):\n",
      "    return -((3*N -1./N +(DH(N)/H(N)))*Dhk0 +(((k0*N)/(aN(N)*H(N)))**2)*hk0)\n",
      "'''\n",
      "def euler_step():\n",
      "    F = Dhk0\n",
      "    f = DDhk(N,Dhk0,hk0)\n",
      "    return [f*step, F*step] #[dh, h] update\n",
      "'''\n",
      "def rk4_step(N, hk0, Dhk0, step):\n",
      "    F1 = Dhk0\n",
      "    f1 = DDhk(N, hk0, Dhk0)\n",
      "    F2 = Dhk0 +f1*step/2.\n",
      "    f2 = DDhk(N +step/2., hk0 +F1*step/2., Dhk0 +f1*step/2.)\n",
      "    F3 = Dhk0 +f2*step/2.\n",
      "    f3 = DDhk(N +step/2., hk0 +F2*step/2., Dhk0 +f2*step/2.)\n",
      "    F4 = Dhk0 +f3*step\n",
      "    f4 = DDhk(N +step, hk0 +F3*step, Dhk0 +f3*step)\n",
      "    \n",
      "    return numpy.array([(f1 +2*f2 +2*f3 +f4)*step/6.], dtype=complex), numpy.array([(F1 +2*F2 +2*F3 +F4)*step/6.], dtype=complex) # [Dhk, hk] update\n",
      "\n",
      "npts = 1000\n",
      "\n",
      "Nics = 0\n",
      "Nshss = 5.386772255310419\n",
      "\n",
      "step = (Nshss-Nics)/(npts-1)\n",
      "\n",
      "hk0 = numpy.array([  1.15806723e+09 -1.92903590e+10j], dtype = complex) \n",
      "Dhk0 = numpy.array([ -2.60841343e+09 -1.06553978e+10j], dtype = complex) \n",
      "\n",
      "hk = numpy.array([  1.15806723e+09 -1.92903590e+10j], dtype = complex)\n",
      "\n",
      "N = Nics+step\n",
      "while N < Nshss:\n",
      "    #array = euler_step()\n",
      "    array = rk4_step(N, hk0, Dhk0, step)\n",
      "    hk0 = hk0 + array[1]\n",
      "    Dhk0 = Dhk0 + array[0]\n",
      "    hk = numpy.append(hk, hk0)\n",
      "    N += step"
     ],
     "language": "python",
     "metadata": {},
     "outputs": [],
     "prompt_number": 29
    },
    {
     "cell_type": "code",
     "collapsed": false,
     "input": [
      "plt.plot(numpy.absolute(hk))"
     ],
     "language": "python",
     "metadata": {},
     "outputs": [
      {
       "metadata": {},
       "output_type": "pyout",
       "prompt_number": 30,
       "text": [
        "[<matplotlib.lines.Line2D at 0xadf99cec>]"
       ]
      },
      {
       "metadata": {},
       "output_type": "display_data",
       "png": "[encoded data removed]",
       "text": [
        "<matplotlib.figure.Figure at 0xae11206c>"
       ]
      }
     ],
     "prompt_number": 30
    },
    {
     "cell_type": "code",
     "collapsed": false,
     "input": [
      "plt.semilogy(numpy.absolute(hk[:850]))"
     ],
     "language": "python",
     "metadata": {},
     "outputs": [
      {
       "metadata": {},
       "output_type": "pyout",
       "prompt_number": 32,
       "text": [
        "[<matplotlib.lines.Line2D at 0xadff636c>]"
       ]
      },
      {
       "metadata": {},
       "output_type": "display_data",
       "png": "[encoded data removed]",
       "text": [
        "<matplotlib.figure.Figure at 0xadb293ac>"
       ]
      }
     ],
     "prompt_number": 32
    },
    {
     "cell_type": "code",
     "collapsed": false,
     "input": [
      "plt.plot(hk.imag[:850])"
     ],
     "language": "python",
     "metadata": {},
     "outputs": [
      {
       "metadata": {},
       "output_type": "pyout",
       "prompt_number": 34,
       "text": [
        "[<matplotlib.lines.Line2D at 0xadae27ec>]"
       ]
      },
      {
       "metadata": {},
       "output_type": "display_data",
       "png": "[encoded data removed]",
       "text": [
        "<matplotlib.figure.Figure at 0xada5888c>"
       ]
      }
     ],
     "prompt_number": 34
    },
    {
     "cell_type": "code",
     "collapsed": false,
     "input": [
      "print hk0, Dhk0"
     ],
     "language": "python",
     "metadata": {},
     "outputs": [
      {
       "output_type": "stream",
       "stream": "stdout",
       "text": [
        "[[[[[[[[[[[[[[[[[[[[[[[[[[[[[[[[  1.50444339e+276 +3.09250783e+277j]]]]]]]]]]]]]]]]]]]]]]]]]]]]]]]] [[[[[[[[[[[[[[[[[[[[[[[[[[[[[[[[  2.66999152e+280 +2.53873462e+281j]]]]]]]]]]]]]]]]]]]]]]]]]]]]]]]]\n"
       ]
      }
     ],
     "prompt_number": 35
    },
    {
     "cell_type": "code",
     "collapsed": false,
     "input": [],
     "language": "python",
     "metadata": {},
     "outputs": []
    },
    {
     "cell_type": "markdown",
     "metadata": {},
     "source": [
      "references to help handle complex numbers using numpy\n",
      "http://docs.scipy.org/doc/numpy/reference/routines.math.html#handling-complex-numbers\n",
      "https://docs.python.org/2/library/cmath.html"
     ]
    },
    {
     "cell_type": "markdown",
     "metadata": {},
     "source": [
      "evolution of $h_k$ from Nics to Nshss for $k_0 = 10^{-5}*exp^{-25}$\n",
      "===="
     ]
    },
    {
     "cell_type": "code",
     "collapsed": false,
     "input": [
      "k0 = 1e-5*numpy.exp(-25)"
     ],
     "language": "python",
     "metadata": {},
     "outputs": [],
     "prompt_number": 15
    },
    {
     "cell_type": "code",
     "collapsed": false,
     "input": [
      "A = lambda N : a0*exp(x**2/2).subs(x,N).evalf()\n",
      "an = lambda n : a0*((1+(n/n0)**2)**p)\n",
      "nn = lambda N : -n0*((A(N)/a0)**(1./p)-1)**(1./2)\n",
      "n = lambda N : nn(N)\n",
      "aN = lambda N : an(n(N))\n",
      "h = lambda n : (sym.diff(an(x),x).subs(x,n).evalf())/(an(n)**2)\n",
      "H = lambda N : h(n(N))\n",
      "\n",
      "fn = lambda n : sym.diff(sym.diff(an(x),x),x).subs(x,n).evalf()/an(n)\n",
      "fN = lambda N : fn(n(N))\n",
      "\n",
      "DH = lambda N : sym.diff(H(x),x).subs(x,N).evalf()"
     ],
     "language": "python",
     "metadata": {},
     "outputs": []
    },
    {
     "cell_type": "code",
     "collapsed": false,
     "input": [
      "temp = numpy.array([-8])\n",
      "for i in range(20):\n",
      "    temp = opt.newton_krylov(lambda N : (k0)**2 - 1e+04*fN(N),temp)\n",
      "\n",
      "print temp"
     ],
     "language": "python",
     "metadata": {},
     "outputs": [
      {
       "output_type": "stream",
       "stream": "stdout",
       "text": [
        "[-8.11533591]\n"
       ]
      }
     ],
     "prompt_number": 19
    },
    {
     "cell_type": "code",
     "collapsed": false,
     "input": [
      "Nics = -8.11533591"
     ],
     "language": "python",
     "metadata": {},
     "outputs": [],
     "prompt_number": 20
    },
    {
     "cell_type": "code",
     "collapsed": false,
     "input": [
      "print 'hk0', (((2.*k0)**(1./2))*A(Nics))**(-1.)\n",
      "print 'imag part dhk0', -Nics*((k0/2)**(1/2))/(A(Nics)*A(Nics)*H(Nics))\n",
      "print 'real part dhk0', -(H(Nics))*((2*k0)**(-1/2))\n",
      "print 'real part dhk0', -(sym.diff(an(x),x).subs(x,n(Nics)).evalf()/(A(Nics)**2))*((2*k0)**(-1/2))"
     ],
     "language": "python",
     "metadata": {},
     "outputs": [
      {
       "output_type": "stream",
       "stream": "stdout",
       "text": [
        "hk0 0.0300010211702069\n",
        "imag part dhk0 -2065967848.24448\n",
        "real part dhk0 3.53553399295362e-12\n",
        "real part dhk0 "
       ]
      },
      {
       "output_type": "stream",
       "stream": "stdout",
       "text": [
        "3.53553399295362e-12\n"
       ]
      }
     ],
     "prompt_number": 21
    },
    {
     "cell_type": "code",
     "collapsed": false,
     "input": [
      "def DDhk(N, hk0, Dhk0):\n",
      "    return -((3.*N -(1./N) +(DH(N)/H(N)))*Dhk0 +(((k0*N)/(A(N)*H(N)))**2)*hk0)\n",
      "\n",
      "'''\n",
      "\n",
      "def euler_step(N, hk0, Dhk0, step):\n",
      "    F = Dhk0\n",
      "    f = DDhk(N,hk0,Dhk0)    \n",
      "\n",
      "    return [f*step, F*step] #[Dhk, hk] update\n",
      "\n",
      " \n",
      "\n",
      "def rk2_step(N, hk0, Dhk0, step):\n",
      "    F1 = Dhk0\n",
      "    f1 = DDhk(N,Dhk0,hk0)\n",
      "    F2 = Dhk0 +f1*step\n",
      "    f2 = DDhk(N+step/2.,Dhk0+f1*step/2.,hk0+F1*step/2.)\n",
      "\n",
      "    return [(f1+f2)*step/2., (F1+F2)*step/2.] # [Dhk, hk] update\n",
      "'''\n",
      "\n",
      "def rk4_step(N, hk0, Dhk0, step):\n",
      "    F1 = Dhk0\n",
      "    f1 = DDhk(N, hk0, Dhk0)\n",
      "    F2 = Dhk0 +f1*step/2.\n",
      "    f2 = DDhk(N +step/2., hk0 +F1*step/2., Dhk0 +f1*step/2.)\n",
      "    F3 = Dhk0 +f2*step/2.\n",
      "    f3 = DDhk(N +step/2., hk0 +F2*step/2., Dhk0 +f2*step/2.)\n",
      "    F4 = Dhk0 +f3*step\n",
      "    f4 = DDhk(N +step, hk0 +F3*step, Dhk0 +f3*step)\n",
      "\n",
      "    return numpy.array([(f1 +2*f2 +2*f3 +f4)*step/6.], dtype=complex), numpy.array([(F1 +2*F2 +2*F3 +F4)*step/6.], dtype=complex) # [Dhk, hk] update\n",
      "\n",
      "npts = 1000\n",
      "\n",
      "Nics = -8.115335912021952142866641\n",
      "Nshss = 0\n",
      "\n",
      "step = (Nshss-Nics)/(npts-1)\n",
      "\n",
      "hk0 = numpy.array([0.030001020677925666319695 + 0.j], dtype = complex)\n",
      "Dhk0 = numpy.array([0.24346836050488333224282 - 17.215812871737443813285j], dtype = complex)\n",
      "\n",
      "hk = numpy.array([0.030001020677925666319695 + 0.j], dtype = complex)\n",
      "\n",
      "N = Nics\n",
      "while N < Nshss-2*step:\n",
      "    #array = euler_step(N, hk0, Dhk0, step)\n",
      "    array = rk4_step(N, hk0, Dhk0, step)\n",
      "    hk0 = hk0 + array[1]\n",
      "    Dhk0 = Dhk0 + array[0]\n",
      "    hk = numpy.append(hk,hk0)\n",
      "    N += step"
     ],
     "language": "python",
     "metadata": {},
     "outputs": [],
     "prompt_number": 22
    },
    {
     "cell_type": "code",
     "collapsed": false,
     "input": [
      "print N-step, hk0, Dhk0"
     ],
     "language": "python",
     "metadata": {},
     "outputs": [
      {
       "output_type": "stream",
       "stream": "stdout",
       "text": [
        "-0.024370378114 [[[[[[[[[[[[[[[[[[[[[[[[[[[[[[[[ -5.18773965e+24 -1.26789704e+25j]]]]]]]]]]]]]]]]]]]]]]]]]]]]]]]] [[[[[[[[[[[[[[[[[[[[[[[[[[[[[[[[ -4.73915369e+24 -1.15826147e+25j]]]]]]]]]]]]]]]]]]]]]]]]]]]]]]]]\n"
       ]
      }
     ],
     "prompt_number": 23
    },
    {
     "cell_type": "code",
     "collapsed": false,
     "input": [
      "plt.plot(numpy.absolute(hk))"
     ],
     "language": "python",
     "metadata": {},
     "outputs": [
      {
       "metadata": {},
       "output_type": "pyout",
       "prompt_number": 24,
       "text": [
        "[<matplotlib.lines.Line2D at 0xae3abb0c>]"
       ]
      },
      {
       "metadata": {},
       "output_type": "display_data",
       "png": "[encoded data removed]",
       "text": [
        "<matplotlib.figure.Figure at 0xae9320ec>"
       ]
      }
     ],
     "prompt_number": 24
    },
    {
     "cell_type": "code",
     "collapsed": false,
     "input": [
      "plt.semilogy(numpy.absolute(hk))"
     ],
     "language": "python",
     "metadata": {},
     "outputs": [
      {
       "metadata": {},
       "output_type": "pyout",
       "prompt_number": 25,
       "text": [
        "[<matplotlib.lines.Line2D at 0xae4abacc>]"
       ]
      },
      {
       "metadata": {},
       "output_type": "display_data",
       "png": "[encoded data removed]",
       "text": [
        "<matplotlib.figure.Figure at 0xae96250c>"
       ]
      }
     ],
     "prompt_number": 25
    },
    {
     "cell_type": "code",
     "collapsed": false,
     "input": [
      "plt.plot(hk.imag)"
     ],
     "language": "python",
     "metadata": {},
     "outputs": [
      {
       "metadata": {},
       "output_type": "pyout",
       "prompt_number": 26,
       "text": [
        "[<matplotlib.lines.Line2D at 0xae1a210c>]"
       ]
      },
      {
       "metadata": {},
       "output_type": "display_data",
       "png": "[encoded data removed]",
       "text": [
        "<matplotlib.figure.Figure at 0xae0b7b2c>"
       ]
      }
     ],
     "prompt_number": 26
    },
    {
     "cell_type": "code",
     "collapsed": false,
     "input": [],
     "language": "python",
     "metadata": {},
     "outputs": []
    },
    {
     "cell_type": "code",
     "collapsed": false,
     "input": [
      "A = lambda N : a0*exp(x**2/2).subs(x,N).evalf()\n",
      "an = lambda n : a0*((1+(n/n0)**2)**p)\n",
      "np = lambda N : n0*((A(N)/a0)**(1./p)-1)**(1./2)\n",
      "n = lambda N : np(N)\n",
      "aN = lambda N : an(n(N))\n",
      "h = lambda n : (sym.diff(an(x),x).subs(x,n).evalf())/(an(n)**2)\n",
      "H = lambda N : h(n(N))\n",
      "\n",
      "fn = lambda n : sym.diff(sym.diff(an(x),x),x).subs(x,n).evalf()/an(n)\n",
      "fN = lambda N : fn(n(N))\n",
      "\n",
      "DH = lambda N : sym.diff(H(x),x).subs(x,N).evalf()"
     ],
     "language": "python",
     "metadata": {},
     "outputs": [],
     "prompt_number": 32
    },
    {
     "cell_type": "code",
     "collapsed": false,
     "input": [
      "temp = numpy.array([8])\n",
      "for i in range(20):\n",
      "    temp = opt.newton_krylov(lambda N : (k0)**2 - 1e+06*fN(N),temp)\n",
      "\n",
      "print temp"
     ],
     "language": "python",
     "metadata": {},
     "outputs": [
      {
       "output_type": "stream",
       "stream": "stdout",
       "text": [
        "[ 8.66423784]\n"
       ]
      }
     ],
     "prompt_number": 33
    },
    {
     "cell_type": "code",
     "collapsed": false,
     "input": [
      "Nshss = 8.66423784"
     ],
     "language": "python",
     "metadata": {},
     "outputs": [],
     "prompt_number": 29
    },
    {
     "cell_type": "code",
     "collapsed": false,
     "input": [
      "def DDhk(N,hk0,Dhk0):\n",
      "    return -((3*N -1./N +(DH(N)/H(N)))*Dhk0 +(((k0*N)/(aN(N)*H(N)))**2)*hk0)\n",
      "'''\n",
      "def euler_step():\n",
      "    F = Dhk0\n",
      "    f = DDhk(N,Dhk0,hk0)\n",
      "    return [f*step, F*step] #[dh, h] update\n",
      "'''\n",
      "def rk4_step(N, hk0, Dhk0, step):\n",
      "    F1 = Dhk0\n",
      "    f1 = DDhk(N, hk0, Dhk0)\n",
      "    F2 = Dhk0 +f1*step/2.\n",
      "    f2 = DDhk(N +step/2., hk0 +F1*step/2., Dhk0 +f1*step/2.)\n",
      "    F3 = Dhk0 +f2*step/2.\n",
      "    f3 = DDhk(N +step/2., hk0 +F2*step/2., Dhk0 +f2*step/2.)\n",
      "    F4 = Dhk0 +f3*step\n",
      "    f4 = DDhk(N +step, hk0 +F3*step, Dhk0 +f3*step)\n",
      "    \n",
      "    return numpy.array([(f1 +2*f2 +2*f3 +f4)*step/6.], dtype=complex), numpy.array([(F1 +2*F2 +2*F3 +F4)*step/6.], dtype=complex) # [Dhk, hk] update\n",
      "\n",
      "npts = 1000\n",
      "\n",
      "Nics = 0\n",
      "Nshss = 8.664237839356059165326164\n",
      "\n",
      "step = (Nshss-Nics)/(npts-1)\n",
      "\n",
      "hk0 = numpy.array([-5.18773965e+24 -1.26789704e+25j], dtype = complex) \n",
      "Dhk0 = numpy.array([-4.73915369e+24 -1.15826147e+25j], dtype = complex) \n",
      "\n",
      "hk = numpy.array([-5.18773965e+24 -1.26789704e+25j], dtype = complex)\n",
      "\n",
      "N = Nics+step\n",
      "\n",
      "while N < Nshss:\n",
      "    #array = euler_step()\n",
      "    array = rk4_step(N, hk0, Dhk0, step)\n",
      "    hk0 = hk0 + array[1]\n",
      "    Dhk0 = Dhk0 + array[0]\n",
      "    hk = numpy.append(hk, hk0)\n",
      "    N += step"
     ],
     "language": "python",
     "metadata": {},
     "outputs": [],
     "prompt_number": 34
    },
    {
     "cell_type": "code",
     "collapsed": false,
     "input": [
      "plt.plot(numpy.absolute(hk[:900]))"
     ],
     "language": "python",
     "metadata": {},
     "outputs": [
      {
       "metadata": {},
       "output_type": "pyout",
       "prompt_number": 44,
       "text": [
        "[<matplotlib.lines.Line2D at 0xadadfe0c>]"
       ]
      },
      {
       "metadata": {},
       "output_type": "display_data",
       "png": "[encoded data removed]",
       "text": [
        "<matplotlib.figure.Figure at 0xadb17ecc>"
       ]
      }
     ],
     "prompt_number": 44
    },
    {
     "cell_type": "code",
     "collapsed": false,
     "input": [
      "plt.semilogy(numpy.absolute(hk[:900]))"
     ],
     "language": "python",
     "metadata": {},
     "outputs": [
      {
       "metadata": {},
       "output_type": "pyout",
       "prompt_number": 41,
       "text": [
        "[<matplotlib.lines.Line2D at 0xadcc1aec>]"
       ]
      },
      {
       "metadata": {},
       "output_type": "display_data",
       "png": "[encoded data removed]",
       "text": [
        "<matplotlib.figure.Figure at 0xadf0cf8c>"
       ]
      }
     ],
     "prompt_number": 41
    },
    {
     "cell_type": "code",
     "collapsed": false,
     "input": [
      "plt.plot(hk.imag[:900])"
     ],
     "language": "python",
     "metadata": {},
     "outputs": [
      {
       "metadata": {},
       "output_type": "pyout",
       "prompt_number": 40,
       "text": [
        "[<matplotlib.lines.Line2D at 0xadd8e84c>]"
       ]
      },
      {
       "metadata": {},
       "output_type": "display_data",
       "png": "[encoded data removed]",
       "text": [
        "<matplotlib.figure.Figure at 0xaddbf24c>"
       ]
      }
     ],
     "prompt_number": 40
    },
    {
     "cell_type": "code",
     "collapsed": false,
     "input": [],
     "language": "python",
     "metadata": {},
     "outputs": []
    },
    {
     "cell_type": "code",
     "collapsed": false,
     "input": [],
     "language": "python",
     "metadata": {},
     "outputs": []
    },
    {
     "cell_type": "markdown",
     "metadata": {},
     "source": [
      "evolution of $h_k$ from Nics to Nshss for $k_0 = 10^{-10}*exp^{-25}$\n",
      "===="
     ]
    },
    {
     "cell_type": "code",
     "collapsed": false,
     "input": [
      "k0 = 1e-10*numpy.exp(-25)"
     ],
     "language": "python",
     "metadata": {},
     "outputs": [],
     "prompt_number": 45
    },
    {
     "cell_type": "code",
     "collapsed": false,
     "input": [
      "A = lambda N : a0*exp(x**2/2).subs(x,N).evalf()\n",
      "an = lambda n : a0*((1+(n/n0)**2)**p)\n",
      "nn = lambda N : -n0*((A(N)/a0)**(1./p)-1)**(1./2)\n",
      "n = lambda N : nn(N)\n",
      "aN = lambda N : an(n(N))\n",
      "h = lambda n : (sym.diff(an(x),x).subs(x,n).evalf())/(an(n)**2)\n",
      "H = lambda N : h(n(N))\n",
      "\n",
      "fn = lambda n : sym.diff(sym.diff(an(x),x),x).subs(x,n).evalf()/an(n)\n",
      "fN = lambda N : fn(n(N))\n",
      "\n",
      "DH = lambda N : sym.diff(H(x),x).subs(x,N).evalf()"
     ],
     "language": "python",
     "metadata": {},
     "outputs": [],
     "prompt_number": 46
    },
    {
     "cell_type": "code",
     "collapsed": false,
     "input": [
      "temp = numpy.array([-10])\n",
      "for i in range(20):\n",
      "    temp = opt.newton_krylov(lambda N : (k0)**2 - 1e+04*fN(N),temp)\n",
      "\n",
      "print temp"
     ],
     "language": "python",
     "metadata": {},
     "outputs": [
      {
       "output_type": "stream",
       "stream": "stdout",
       "text": [
        "[-10.57877019]\n"
       ]
      }
     ],
     "prompt_number": 48
    },
    {
     "cell_type": "code",
     "collapsed": false,
     "input": [
      "Nics = -10.57877019"
     ],
     "language": "python",
     "metadata": {},
     "outputs": [],
     "prompt_number": 49
    },
    {
     "cell_type": "code",
     "collapsed": false,
     "input": [
      "print 'hk0', (((2.*k0)**(1./2))*A(Nics))**(-1.)\n",
      "print 'imag part dhk0', -Nics*((k0/2)**(1/2))/(A(Nics)*A(Nics)*H(Nics))\n",
      "print 'real part dhk0', -(H(Nics))*((2*k0)**(-1/2))\n",
      "print 'real part dhk0', -(sym.diff(an(x),x).subs(x,n(Nics)).evalf()/(A(Nics)**2))*((2*k0)**(-1/2))"
     ],
     "language": "python",
     "metadata": {},
     "outputs": [
      {
       "output_type": "stream",
       "stream": "stdout",
       "text": [
        "hk0 9.48715618362141e-10\n",
        "imag part dhk0 -26930.9855466951\n",
        "real part dhk0 3.53553414988841e-22\n",
        "real part dhk0 3.53553414988841e-22\n"
       ]
      }
     ],
     "prompt_number": 50
    },
    {
     "cell_type": "code",
     "collapsed": false,
     "input": [
      "def DDhk(N,hk0,Dhk0):\n",
      "    return -((3*N -1./N +(DH(N)/H(N)))*Dhk0 +(((k0*N)/(aN(N)*H(N)))**2)*hk0)\n",
      "\n",
      "'''\n",
      "def euler_step():\n",
      "    F = Dhk0\n",
      "    f = DDhk(N,Dhk0,hk0)\n",
      "    return [f*step, F*step] #[dh, h] update\n",
      "'''\n",
      "def rk4_step(N, hk0, Dhk0, step):\n",
      "    F1 = Dhk0\n",
      "    f1 = DDhk(N, hk0, Dhk0)\n",
      "    F2 = Dhk0 +f1*step/2.\n",
      "    f2 = DDhk(N +step/2., hk0 +F1*step/2., Dhk0 +f1*step/2.)\n",
      "    F3 = Dhk0 +f2*step/2.\n",
      "    f3 = DDhk(N +step/2., hk0 +F2*step/2., Dhk0 +f2*step/2.)\n",
      "    F4 = Dhk0 +f3*step\n",
      "    f4 = DDhk(N +step, hk0 +F3*step, Dhk0 +f3*step)\n",
      "\n",
      "    return numpy.array([(f1 +2*f2 +2*f3 +f4)*step/6.], dtype=complex), numpy.array([(F1 +2*F2 +2*F3 +F4)*step/6.], dtype=complex) # [Dhk, hk] update\n",
      "\n",
      "npts = 1000\n",
      "\n",
      "Nics = -10.57877019434839994065461\n",
      "Nshss = 0\n",
      "\n",
      "step = (Nshss-Nics)/(npts-1)\n",
      "\n",
      "hk0 = numpy.array([9.487155747205394153426*1e-10 + 0.j], dtype = complex) \n",
      "Dhk0 = numpy.array([1.0036244044767754696560*1e-8 -7.096696221698383396916*1e-7j], dtype = complex)\n",
      "\n",
      "hk = numpy.array([9.487155747205394153426*1e-10 + 0j], dtype = complex)\n",
      "\n",
      "N = Nics\n",
      "while N < Nshss - 2*step:\n",
      "    #array = euler_step()\n",
      "    array = rk4_step(N, hk0, Dhk0, step)\n",
      "    hk0 = hk0 + array[1]\n",
      "    Dhk0 = Dhk0 + array[0]\n",
      "    hk = numpy.append(hk, hk0)\n",
      "    N += step"
     ],
     "language": "python",
     "metadata": {},
     "outputs": [],
     "prompt_number": 62
    },
    {
     "cell_type": "code",
     "collapsed": false,
     "input": [
      "plt.plot(numpy.absolute(hk))"
     ],
     "language": "python",
     "metadata": {},
     "outputs": [
      {
       "metadata": {},
       "output_type": "pyout",
       "prompt_number": 63,
       "text": [
        "[<matplotlib.lines.Line2D at 0xae1b7bcc>]"
       ]
      },
      {
       "metadata": {},
       "output_type": "display_data",
       "png": "[encoded data removed]",
       "text": [
        "<matplotlib.figure.Figure at 0xad6bf90c>"
       ]
      }
     ],
     "prompt_number": 63
    },
    {
     "cell_type": "code",
     "collapsed": false,
     "input": [
      "plt.semilogy(numpy.absolute(hk))"
     ],
     "language": "python",
     "metadata": {},
     "outputs": [
      {
       "metadata": {},
       "output_type": "pyout",
       "prompt_number": 64,
       "text": [
        "[<matplotlib.lines.Line2D at 0xad5baf2c>]"
       ]
      },
      {
       "metadata": {},
       "output_type": "display_data",
       "png": "[encoded data removed]",
       "text": [
        "<matplotlib.figure.Figure at 0xad8ac84c>"
       ]
      }
     ],
     "prompt_number": 64
    },
    {
     "cell_type": "code",
     "collapsed": false,
     "input": [
      "plt.plot(hk.imag)"
     ],
     "language": "python",
     "metadata": {},
     "outputs": [
      {
       "metadata": {},
       "output_type": "pyout",
       "prompt_number": 65,
       "text": [
        "[<matplotlib.lines.Line2D at 0xad5784cc>]"
       ]
      },
      {
       "metadata": {},
       "output_type": "display_data",
       "png": "[encoded data removed]",
       "text": [
        "<matplotlib.figure.Figure at 0xad576b2c>"
       ]
      }
     ],
     "prompt_number": 65
    },
    {
     "cell_type": "code",
     "collapsed": false,
     "input": [
      "print N-step, hk0, Dhk0"
     ],
     "language": "python",
     "metadata": {},
     "outputs": [
      {
       "output_type": "stream",
       "stream": "stdout",
       "text": [
        "-0.0317680786615 [[[[[[[[[[[[[[[[[[[[[[[[[[[[[[[[ -1.24919723e+41 -1.10490234e+41j]]]]]]]]]]]]]]]]]]]]]]]]]]]]]]]] [[[[[[[[[[[[[[[[[[[[[[[[[[[[[[[[ -1.14621079e+41 -1.01381187e+41j]]]]]]]]]]]]]]]]]]]]]]]]]]]]]]]]\n"
       ]
      }
     ],
     "prompt_number": 66
    },
    {
     "cell_type": "code",
     "collapsed": false,
     "input": [],
     "language": "python",
     "metadata": {},
     "outputs": []
    },
    {
     "cell_type": "code",
     "collapsed": false,
     "input": [
      "A = lambda N : a0*exp(x**2/2).subs(x,N).evalf()\n",
      "an = lambda n : a0*((1+(n/n0)**2)**p)\n",
      "np = lambda N : n0*((A(N)/a0)**(1./p)-1)**(1./2)\n",
      "n = lambda N : np(N)\n",
      "aN = lambda N : an(n(N))\n",
      "h = lambda n : (sym.diff(an(x),x).subs(x,n).evalf())/(an(n)**2)\n",
      "H = lambda N : h(n(N))\n",
      "\n",
      "fn = lambda n : sym.diff(sym.diff(an(x),x),x).subs(x,n).evalf()/an(n)\n",
      "fN = lambda N : fn(n(N))\n",
      "\n",
      "DH = lambda N : sym.diff(H(x),x).subs(x,N).evalf()"
     ],
     "language": "python",
     "metadata": {},
     "outputs": [],
     "prompt_number": 55
    },
    {
     "cell_type": "code",
     "collapsed": false,
     "input": [
      "temp = numpy.array([10])\n",
      "for i in range(20):\n",
      "    temp = opt.newton_krylov(lambda N : (k0)**2 - 1e+06*fN(N),temp)\n",
      "    \n",
      "print temp"
     ],
     "language": "python",
     "metadata": {},
     "outputs": [
      {
       "output_type": "stream",
       "stream": "stdout",
       "text": [
        "[ 11.00548587]\n"
       ]
      }
     ],
     "prompt_number": 57
    },
    {
     "cell_type": "code",
     "collapsed": false,
     "input": [
      "Nshss = 11.00548587"
     ],
     "language": "python",
     "metadata": {},
     "outputs": []
    },
    {
     "cell_type": "code",
     "collapsed": false,
     "input": [
      "print 'hk0', (((2.*k0)**(1./2))*A(Nics))**(-1.)\n",
      "print 'imag part dhk0', -Nics*((k0/2)**(1/2))/(A(Nics)*A(Nics)*H(Nics))\n",
      "print 'real part dhk0', -(H(Nics))*((2*k0)**(-1/2))\n",
      "print 'real part dhk0', -(sym.diff(an(x),x).subs(x,n(Nics)).evalf()/(A(Nics)**2))*((2*k0)**(-1/2))"
     ],
     "language": "python",
     "metadata": {},
     "outputs": []
    },
    {
     "cell_type": "code",
     "collapsed": false,
     "input": [
      "def DDhk(N,hk0,Dhk0):\n",
      "    return -((3*N -1./N +(DH(N)/H(N)))*Dhk0 +(((k0*N)/(aN(N)*H(N)))**2)*hk0)\n",
      "\n",
      "'''\n",
      "def euler_step():\n",
      "    F = Dhk0\n",
      "    f = DDhk(N,Dhk0,hk0)\n",
      "    return [f*step, F*step] #[dh, h] update\n",
      "'''\n",
      "\n",
      "def rk4_step(N, hk0, Dhk0, step):\n",
      "    F1 = Dhk0\n",
      "    f1 = DDhk(N, hk0, Dhk0)\n",
      "    F2 = Dhk0 +f1*step/2.\n",
      "    f2 = DDhk(N +step/2., hk0 +F1*step/2., Dhk0 +f1*step/2.)\n",
      "    F3 = Dhk0 +f2*step/2.\n",
      "    f3 = DDhk(N +step/2., hk0 +F2*step/2., Dhk0 +f2*step/2.)\n",
      "    F4 = Dhk0 +f3*step\n",
      "    f4 = DDhk(N +step, hk0 +F3*step, Dhk0 +f3*step)\n",
      "\n",
      "    return numpy.array([(f1 +2*f2 +2*f3 +f4)*step/6.], dtype=complex), numpy.array([(F1 +2*F2 +2*F3 +F4)*step/6.], dtype=complex) # [Dhk, hk] update\n",
      "\n",
      "npts = 1000\n",
      "\n",
      "Nics = 0\n",
      "Nshss = 11.00548586827543321741572\n",
      "\n",
      "step = (Nshss-Nics)/(npts-1)\n",
      "\n",
      "hk0 = numpy.array([-1.24919723e+41 -1.10490234e+41j], dtype = complex) \n",
      "Dhk0 = numpy.array([-1.14621079e+41 -1.01381187e+41j], dtype = complex) \n",
      "\n",
      "hk = numpy.array([-1.24919723e+41 -1.10490234e+41j], dtype = complex)\n",
      "\n",
      "N = Nics+step\n",
      "while N < Nshss:\n",
      "    #array = euler_step()\n",
      "    array = rk4_step(N, hk0, Dhk0, step)\n",
      "    hk0 = hk0 + array[1]\n",
      "    Dhk0 = Dhk0 + array[0]\n",
      "    hk = numpy.append(hk, hk0)\n",
      "    N += step"
     ],
     "language": "python",
     "metadata": {},
     "outputs": [],
     "prompt_number": 67
    },
    {
     "cell_type": "code",
     "collapsed": false,
     "input": [
      "plt.plot(numpy.absolute(hk[:950]))"
     ],
     "language": "python",
     "metadata": {},
     "outputs": [
      {
       "metadata": {},
       "output_type": "pyout",
       "prompt_number": 69,
       "text": [
        "[<matplotlib.lines.Line2D at 0xad4282ec>]"
       ]
      },
      {
       "metadata": {},
       "output_type": "display_data",
       "png": "[encoded data removed]",
       "text": [
        "<matplotlib.figure.Figure at 0xad51ca6c>"
       ]
      }
     ],
     "prompt_number": 69
    },
    {
     "cell_type": "code",
     "collapsed": false,
     "input": [
      "plt.semilogy(numpy.absolute(hk[:925]))"
     ],
     "language": "python",
     "metadata": {},
     "outputs": [
      {
       "metadata": {},
       "output_type": "pyout",
       "prompt_number": 71,
       "text": [
        "[<matplotlib.lines.Line2D at 0xad2ea60c>]"
       ]
      },
      {
       "metadata": {},
       "output_type": "display_data",
       "png": "[encoded data removed]",
       "text": [
        "<matplotlib.figure.Figure at 0xad05e58c>"
       ]
      }
     ],
     "prompt_number": 71
    },
    {
     "cell_type": "code",
     "collapsed": false,
     "input": [
      "plt.plot(hk.imag[:925])"
     ],
     "language": "python",
     "metadata": {},
     "outputs": [
      {
       "metadata": {},
       "output_type": "pyout",
       "prompt_number": 72,
       "text": [
        "[<matplotlib.lines.Line2D at 0xad1c40cc>]"
       ]
      },
      {
       "metadata": {},
       "output_type": "display_data",
       "png": "[encoded data removed]",
       "text": [
        "<matplotlib.figure.Figure at 0xad1d98cc>"
       ]
      }
     ],
     "prompt_number": 72
    },
    {
     "cell_type": "code",
     "collapsed": false,
     "input": [],
     "language": "python",
     "metadata": {},
     "outputs": []
    },
    {
     "cell_type": "code",
     "collapsed": false,
     "input": [],
     "language": "python",
     "metadata": {},
     "outputs": []
    }
   ],
   "metadata": {}
  }
 ]
}