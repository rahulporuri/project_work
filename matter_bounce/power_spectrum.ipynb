{
 "metadata": {
  "name": "",
  "signature": "sha256:0f52b23e346a0c3e51c908fb41aacb76c29f040533cb2b5bede28f43e745dc91"
 },
 "nbformat": 3,
 "nbformat_minor": 0,
 "worksheets": [
  {
   "cells": [
    {
     "cell_type": "code",
     "collapsed": false,
     "input": [
      "import numpy\n",
      "import matplotlib.pyplot as plt\n",
      "import scipy.optimize as opt\n",
      "%matplotlib inline"
     ],
     "language": "python",
     "metadata": {},
     "outputs": [],
     "prompt_number": 1
    },
    {
     "cell_type": "code",
     "collapsed": false,
     "input": [],
     "language": "python",
     "metadata": {},
     "outputs": []
    },
    {
     "cell_type": "code",
     "collapsed": false,
     "input": [
      "def DDhk(k0, N, hk0, Dhk0):\n",
      "    return -((3.*N -(1./N) +(DH(N)/H(N)))*Dhk0 +(((k0*N)/(A(N)*H(N)))**2)*hk0)\n",
      "\n",
      "def rk4_step(k0, N, hk0, Dhk0, step):\n",
      "    F1 = Dhk0\n",
      "    f1 = DDhk(k0, N, hk0, Dhk0)\n",
      "    F2 = Dhk0 +f1*step/2.\n",
      "    f2 = DDhk(k0, N +step/2., hk0 +F1*step/2., Dhk0 +f1*step/2.)\n",
      "    F3 = Dhk0 +f2*step/2.\n",
      "    f3 = DDhk(k0, N +step/2., hk0 +F2*step/2., Dhk0 +f2*step/2.)\n",
      "    F4 = Dhk0 +f3*step\n",
      "    f4 = DDhk(k0, N +step, hk0 +F3*step, Dhk0 +f3*step)    \n",
      "\n",
      "    return [numpy.array([(f1 +2*f2 +2*f3 +f4)*step/6.], dtype=complex), numpy.array([(F1 +2*F2 +2*F3 +F4)*step/6.], dtype=complex)] # [Dhk, hk] update"
     ],
     "language": "python",
     "metadata": {},
     "outputs": [],
     "prompt_number": 2
    },
    {
     "cell_type": "code",
     "collapsed": false,
     "input": [
      "A = lambda N : a0*numpy.exp(N**2/2.)\n",
      "an = lambda n : a0*(1.+(n/n0)**2)\n",
      "aN = lambda N : an(n(N))\n",
      "h = lambda n : (2.*a0*n/n0**2)*(1./an(n)**2)\n",
      "H = lambda N : h(n(N))\n",
      "\n",
      "fn = lambda n : (2.*a0/n0**2)*(1./an(n))\n",
      "fN = lambda N : fn(n(N))    \n",
      "\n",
      "Heavi = lambda N : (1./2)*(numpy.sign(N)+1.)\n",
      "\n",
      "nm = lambda N : -n0*((A(N)/a0)**(1./p)-1)**(1./2)\n",
      "np = lambda N : n0*((A(N)/a0)**(1./p)-1)**(1./2)\n",
      "\n",
      "DHm = lambda N : -100000.0*N*(1.0*numpy.exp(N**2/2)**1.0 - 1.0)**(-0.5)*numpy.exp(N**2/2)**1.0/(100000.0*(1.0*numpy.exp(N**2/2)**1.0 - 1)**1.0 + 100000.0)**2 + 40000000000.0*N*(1.0*numpy.exp(N**2/2)**1.0 - 1.0)**0.5*numpy.exp(N**2/2)**1.0/(100000.0*(1.0*numpy.exp(N**2/2)**1.0 - 1)**1.0 + 100000.0)**3\n",
      "DHp = lambda N : 100000.0*N*(1.0*numpy.exp(N**2/2)**1.0 - 1.0)**(-0.5)*numpy.exp(N**2/2)**1.0/(100000.0*(1.0*numpy.exp(N**2/2)**1.0 - 1)**1.0 + 100000.0)**2 - 40000000000.0*N*(1.0*numpy.exp(N**2/2)**1.0 - 1.0)**0.5*numpy.exp(N**2/2)**1.0/(100000.0*(1.0*numpy.exp(N**2/2)**1.0 - 1)**1.0 + 100000.0)**3\n",
      "\n",
      "n = lambda N : Heavi(N)*np(N) + Heavi(-N)*nm(N)\n",
      "DH = lambda N : Heavi(N)*DHp(N) + Heavi(-N)*DHm(N)"
     ],
     "language": "python",
     "metadata": {},
     "outputs": [],
     "prompt_number": 3
    },
    {
     "cell_type": "code",
     "collapsed": false,
     "input": [
      "tps_file = open('power_spectrum_bouncing_model.dat','w')\n",
      "\n",
      "a0 = 1e+05\n",
      "n0 = 1\n",
      "#k0 = 1./n0\n",
      "p = 1\n",
      "k_min = 1e-30\n",
      "k_max = 1e-4\n",
      "\n",
      "print 'lift off!' "
     ],
     "language": "python",
     "metadata": {},
     "outputs": [
      {
       "output_type": "stream",
       "stream": "stdout",
       "text": [
        "lift off!\n"
       ]
      }
     ],
     "prompt_number": 26
    },
    {
     "cell_type": "code",
     "collapsed": false,
     "input": [
      "Nshss = numpy.array([7])\n",
      "for i in range(200):\n",
      "    Nshss = opt.newton_krylov(lambda N : (k_max)**2 - 1e+04*fN(N),Nshss)\n",
      "\n",
      "print Nshss"
     ],
     "language": "python",
     "metadata": {},
     "outputs": [
      {
       "output_type": "stream",
       "stream": "stdout",
       "text": [
        "[ 7.52650892]\n"
       ]
      }
     ],
     "prompt_number": 27
    },
    {
     "cell_type": "code",
     "collapsed": false,
     "input": [
      "k_vs_hk = numpy.empty(0,dtype=complex)\n",
      "\n",
      "k0 = k_min\n",
      "while k0 < k_max*10:\n",
      "    print 'k0 = ', k0\n",
      "\n",
      "    Nics = numpy.array([-5])\n",
      "    for i in range(200):\n",
      "        Nics = opt.newton_krylov(lambda N : (k0)**2 - 1e+04*fN(N),Nics)\n",
      "\n",
      "    print Nics\n",
      "    \n",
      "    hk0 = numpy.zeros(1,dtype=complex)\n",
      "    hk0.real = (((2.*k0)**(1./2))*A(Nics))**(-1.)\n",
      "\n",
      "    Dhk0 = numpy.zeros(1,dtype=complex)\n",
      "    Dhk0.real = -(Nics/A(Nics))*((2*k0)**(-1./2))\n",
      "    Dhk0.imag = -Nics*((k0/2)**(1./2))/(A(Nics)*A(Nics)*H(Nics))\n",
      "    \n",
      "    hkm = numpy.array(hk0, dtype = complex)\n",
      "\n",
      "    print 'got Nics, hk0 and Dhk0'\n",
      "\n",
      "    npts = 35000\n",
      "    step = (Nshss-Nics)/(npts)\n",
      "    print 'starting from Nics'\n",
      "\n",
      "    N = Nics\n",
      "    while N < Nshss:\n",
      "        array = rk4_step(k0, N, hk0, Dhk0, step)\n",
      "        hk0 = hk0 + array[1]\n",
      "        Dhk0 = Dhk0 + array[0]\n",
      "        N += step\n",
      "\n",
      "    k_vs_hk = numpy.append(k_vs_hk, hk0)\n",
      "    \n",
      "    temp = 8*(k0)**3/(2*numpy.pi**2)*(numpy.absolute(hk0))**2\n",
      "    tps_file.write(str(k0)+\"\\t\"+str(temp).strip('[]')+\"\\n\")  \n",
      "\n",
      "    print N, str(temp).strip('[]')\n",
      "    print '\\n'\n",
      "    \n",
      "    k0 = 10*k0\n",
      "\n",
      "tps_file.close()"
     ],
     "language": "python",
     "metadata": {},
     "outputs": [
      {
       "output_type": "stream",
       "stream": "stdout",
       "text": [
        "k0 =  1e-30\n",
        "[-17.20805585]"
       ]
      },
      {
       "output_type": "stream",
       "stream": "stdout",
       "text": [
        "\n",
        "got Nics, hk0 and Dhk0\n",
        "starting from Nics\n",
        "[ 7.52650892]"
       ]
      },
      {
       "output_type": "stream",
       "stream": "stdout",
       "text": [
        "   3.85335248e-10\n",
        "\n",
        "\n",
        "k0 =  1e-29\n",
        "[-16.93832477]"
       ]
      },
      {
       "output_type": "stream",
       "stream": "stdout",
       "text": [
        "\n",
        "got Nics, hk0 and Dhk0\n",
        "starting from Nics\n",
        "[ 7.52720792]"
       ]
      },
      {
       "output_type": "stream",
       "stream": "stdout",
       "text": [
        "   3.92538128e-10\n",
        "\n",
        "\n",
        "k0 =  1e-28\n",
        "[-16.66422832]"
       ]
      },
      {
       "output_type": "stream",
       "stream": "stdout",
       "text": [
        "\n",
        "got Nics, hk0 and Dhk0\n",
        "starting from Nics\n",
        "[ 7.52720009]"
       ]
      },
      {
       "output_type": "stream",
       "stream": "stdout",
       "text": [
        "   3.99186002e-10\n",
        "\n",
        "\n",
        "k0 =  1e-27\n",
        "[-16.38554745]"
       ]
      },
      {
       "output_type": "stream",
       "stream": "stdout",
       "text": [
        "\n",
        "got Nics, hk0 and Dhk0\n",
        "starting from Nics\n",
        "[ 7.52719213]"
       ]
      },
      {
       "output_type": "stream",
       "stream": "stdout",
       "text": [
        "   4.05297315e-10\n",
        "\n",
        "\n",
        "k0 =  1e-26\n",
        "[-16.10204412]"
       ]
      },
      {
       "output_type": "stream",
       "stream": "stdout",
       "text": [
        "\n",
        "got Nics, hk0 and Dhk0\n",
        "starting from Nics\n",
        "[ 7.52718403]"
       ]
      },
      {
       "output_type": "stream",
       "stream": "stdout",
       "text": [
        "   4.10872193e-10\n",
        "\n",
        "\n",
        "k0 =  1e-25\n",
        "[-15.81345896]"
       ]
      },
      {
       "output_type": "stream",
       "stream": "stdout",
       "text": [
        "\n",
        "got Nics, hk0 and Dhk0\n",
        "starting from Nics\n",
        "[ 7.52717578]"
       ]
      },
      {
       "output_type": "stream",
       "stream": "stdout",
       "text": [
        "   4.15946647e-10\n",
        "\n",
        "\n",
        "k0 =  1e-24\n",
        "[-15.5195085]"
       ]
      },
      {
       "output_type": "stream",
       "stream": "stdout",
       "text": [
        "\n",
        "got Nics, hk0 and Dhk0\n",
        "starting from Nics\n",
        "[ 7.52716738]"
       ]
      },
      {
       "output_type": "stream",
       "stream": "stdout",
       "text": [
        "   4.20530089e-10\n",
        "\n",
        "\n",
        "k0 =  1e-23\n",
        "[-15.21988185]"
       ]
      },
      {
       "output_type": "stream",
       "stream": "stdout",
       "text": [
        "\n",
        "got Nics, hk0 and Dhk0\n",
        "starting from Nics\n",
        "[ 7.52715882]"
       ]
      },
      {
       "output_type": "stream",
       "stream": "stdout",
       "text": [
        "   4.24663167e-10\n",
        "\n",
        "\n",
        "k0 =  1e-22\n",
        "[-14.91423693]"
       ]
      },
      {
       "output_type": "stream",
       "stream": "stdout",
       "text": [
        "\n",
        "got Nics, hk0 and Dhk0\n",
        "starting from Nics\n",
        "[ 7.52650892]"
       ]
      },
      {
       "output_type": "stream",
       "stream": "stdout",
       "text": [
        "   4.28355974e-10\n",
        "\n",
        "\n",
        "k0 =  1e-21\n",
        "[-14.60219583]"
       ]
      },
      {
       "output_type": "stream",
       "stream": "stdout",
       "text": [
        "\n",
        "got Nics, hk0 and Dhk0\n",
        "starting from Nics\n",
        "[ 7.52650892]"
       ]
      },
      {
       "output_type": "stream",
       "stream": "stdout",
       "text": [
        "   4.31640057e-10\n",
        "\n",
        "\n",
        "k0 =  1e-20\n",
        "[-14.28333933]"
       ]
      },
      {
       "output_type": "stream",
       "stream": "stdout",
       "text": [
        "\n",
        "got Nics, hk0 and Dhk0\n",
        "starting from Nics\n",
        "[ 7.52650892]"
       ]
      },
      {
       "output_type": "stream",
       "stream": "stdout",
       "text": [
        "   4.34542585e-10\n",
        "\n",
        "\n",
        "k0 =  1e-19\n",
        "[-13.95720037]"
       ]
      },
      {
       "output_type": "stream",
       "stream": "stdout",
       "text": [
        "\n",
        "got Nics, hk0 and Dhk0\n",
        "starting from Nics\n",
        "[ 7.52712274]"
       ]
      },
      {
       "output_type": "stream",
       "stream": "stdout",
       "text": [
        "   4.37091301e-10\n",
        "\n",
        "\n",
        "k0 =  1e-18\n",
        "[-13.62325592]"
       ]
      },
      {
       "output_type": "stream",
       "stream": "stdout",
       "text": [
        "\n",
        "got Nics, hk0 and Dhk0\n",
        "starting from Nics\n",
        "[ 7.52650892]"
       ]
      },
      {
       "output_type": "stream",
       "stream": "stdout",
       "text": [
        "   4.39313999e-10\n",
        "\n",
        "\n",
        "k0 =  1e-17\n",
        "[-13.28091719]"
       ]
      },
      {
       "output_type": "stream",
       "stream": "stdout",
       "text": [
        "\n",
        "got Nics, hk0 and Dhk0\n",
        "starting from Nics\n",
        "[ 7.52650892]"
       ]
      },
      {
       "output_type": "stream",
       "stream": "stdout",
       "text": [
        "   4.41238040e-10\n",
        "\n",
        "\n",
        "k0 =  1e-16\n",
        "[-12.92951743]"
       ]
      },
      {
       "output_type": "stream",
       "stream": "stdout",
       "text": [
        "\n",
        "got Nics, hk0 and Dhk0\n",
        "starting from Nics\n",
        "[ 7.52650892]"
       ]
      },
      {
       "output_type": "stream",
       "stream": "stdout",
       "text": [
        "   4.42890454e-10\n",
        "\n",
        "\n",
        "k0 =  1e-15\n",
        "[-12.56829665]"
       ]
      },
      {
       "output_type": "stream",
       "stream": "stdout",
       "text": [
        "\n",
        "got Nics, hk0 and Dhk0\n",
        "starting from Nics\n",
        "[ 7.52650892]"
       ]
      },
      {
       "output_type": "stream",
       "stream": "stdout",
       "text": [
        "   4.44297431e-10\n",
        "\n",
        "\n",
        "k0 =  1e-14\n",
        "[-12.19638226]"
       ]
      },
      {
       "output_type": "stream",
       "stream": "stdout",
       "text": [
        "\n",
        "got Nics, hk0 and Dhk0\n",
        "starting from Nics\n",
        "[ 7.52707244]"
       ]
      },
      {
       "output_type": "stream",
       "stream": "stdout",
       "text": [
        "   4.45485423e-10\n",
        "\n",
        "\n",
        "k0 =  1e-13\n",
        "[-11.81276428]"
       ]
      },
      {
       "output_type": "stream",
       "stream": "stdout",
       "text": [
        "\n",
        "got Nics, hk0 and Dhk0\n",
        "starting from Nics\n",
        "[ 7.52650892]"
       ]
      },
      {
       "output_type": "stream",
       "stream": "stdout",
       "text": [
        "   4.46474994e-10\n",
        "\n",
        "\n",
        "k0 =  1e-12\n",
        "[-11.41626294]"
       ]
      },
      {
       "output_type": "stream",
       "stream": "stdout",
       "text": [
        "\n",
        "got Nics, hk0 and Dhk0\n",
        "starting from Nics\n",
        "[ 7.52705015]"
       ]
      },
      {
       "output_type": "stream",
       "stream": "stdout",
       "text": [
        "   4.47332872e-10\n",
        "\n",
        "\n",
        "k0 =  1e-11\n",
        "[-11.00548587]"
       ]
      },
      {
       "output_type": "stream",
       "stream": "stdout",
       "text": [
        "\n",
        "got Nics, hk0 and Dhk0\n",
        "starting from Nics\n",
        "[ 7.52703841]"
       ]
      },
      {
       "output_type": "stream",
       "stream": "stdout",
       "text": [
        "   4.47959260e-10\n",
        "\n",
        "\n",
        "k0 =  1e-10\n",
        "[-10.57877019]"
       ]
      },
      {
       "output_type": "stream",
       "stream": "stdout",
       "text": [
        "\n",
        "got Nics, hk0 and Dhk0\n",
        "starting from Nics\n",
        "[ 7.52702622]"
       ]
      },
      {
       "output_type": "stream",
       "stream": "stdout",
       "text": [
        "   4.48494473e-10\n",
        "\n",
        "\n",
        "k0 =  1e-09\n",
        "[-10.13410275]"
       ]
      },
      {
       "output_type": "stream",
       "stream": "stdout",
       "text": [
        "\n",
        "got Nics, hk0 and Dhk0\n",
        "starting from Nics\n",
        "[ 7.52701351]"
       ]
      },
      {
       "output_type": "stream",
       "stream": "stdout",
       "text": [
        "   4.48917169e-10\n",
        "\n",
        "\n",
        "k0 =  1e-08\n",
        "[-9.66900709]"
       ]
      },
      {
       "output_type": "stream",
       "stream": "stdout",
       "text": [
        "\n",
        "got Nics, hk0 and Dhk0\n",
        "starting from Nics\n",
        "[ 7.52650892]"
       ]
      },
      {
       "output_type": "stream",
       "stream": "stdout",
       "text": [
        "   4.49227705e-10\n",
        "\n",
        "\n",
        "k0 =  1e-07\n",
        "[-9.18037895]"
       ]
      },
      {
       "output_type": "stream",
       "stream": "stdout",
       "text": [
        "\n",
        "got Nics, hk0 and Dhk0\n",
        "starting from Nics\n",
        "[ 7.52698626]"
       ]
      },
      {
       "output_type": "stream",
       "stream": "stdout",
       "text": [
        "   4.47691866e-10\n",
        "\n",
        "\n",
        "k0 =  1e-06\n",
        "[-8.66423784]"
       ]
      },
      {
       "output_type": "stream",
       "stream": "stdout",
       "text": [
        "\n",
        "got Nics, hk0 and Dhk0\n",
        "starting from Nics\n",
        "[ 7.52697152]"
       ]
      },
      {
       "output_type": "stream",
       "stream": "stdout",
       "text": [
        "   2.97343192e-10\n",
        "\n",
        "\n",
        "k0 =  1e-05\n",
        "[-8.11533591]"
       ]
      },
      {
       "output_type": "stream",
       "stream": "stdout",
       "text": [
        "\n",
        "got Nics, hk0 and Dhk0\n",
        "starting from Nics\n",
        "[ 7.52695583]"
       ]
      },
      {
       "output_type": "stream",
       "stream": "stdout",
       "text": [
        "   9.91911057e-16\n",
        "\n",
        "\n",
        "k0 =  0.0001\n",
        "[-7.52650892]"
       ]
      },
      {
       "output_type": "stream",
       "stream": "stdout",
       "text": [
        "\n",
        "got Nics, hk0 and Dhk0\n",
        "starting from Nics\n",
        "[ 7.52650892]"
       ]
      },
      {
       "output_type": "stream",
       "stream": "stdout",
       "text": [
        "  nan\n",
        "\n",
        "\n"
       ]
      }
     ],
     "prompt_number": 28
    },
    {
     "cell_type": "code",
     "collapsed": false,
     "input": [
      "k_list = numpy.array([10**(-30 + i) for i in range(26)])\n",
      "TPS = [8*(k_list[i])**3/(2*numpy.pi**2)*(numpy.absolute(k_vs_hk[i]))**2 for i in range(len(k_list))]\n",
      "print k_list, TPS"
     ],
     "language": "python",
     "metadata": {},
     "outputs": [
      {
       "output_type": "stream",
       "stream": "stdout",
       "text": [
        "[  1.00000000e-30   1.00000000e-29   1.00000000e-28   1.00000000e-27\n",
        "   1.00000000e-26   1.00000000e-25   1.00000000e-24   1.00000000e-23\n",
        "   1.00000000e-22   1.00000000e-21   1.00000000e-20   1.00000000e-19\n",
        "   1.00000000e-18   1.00000000e-17   1.00000000e-16   1.00000000e-15\n",
        "   1.00000000e-14   1.00000000e-13   1.00000000e-12   1.00000000e-11\n",
        "   1.00000000e-10   1.00000000e-09   1.00000000e-08   1.00000000e-07\n",
        "   1.00000000e-06   1.00000000e-05] [3.8533524827870448e-10, 3.9253812774923381e-10, 3.9918600182151495e-10, 4.0529731498206954e-10, 4.1087219314612933e-10, 4.1594664691025688e-10, 4.2053008927332579e-10, 4.2466316742217156e-10, 4.2835597384852252e-10, 4.3164005672841256e-10, 4.3454258470000632e-10, 4.3709130091544093e-10, 4.3931399880170081e-10, 4.4123804025738296e-10, 4.428904543866837e-10, 4.4429743089493253e-10, 4.4548542263545998e-10, 4.4647499395312283e-10, 4.4733287222559061e-10, 4.4795926020599313e-10, 4.4849447345851119e-10, 4.4891716921487149e-10, 4.4922770521360902e-10, 4.4769186614178466e-10, 2.9734319201685294e-10, 9.9191105671886262e-16]\n"
       ]
      }
     ],
     "prompt_number": 30
    },
    {
     "cell_type": "code",
     "collapsed": false,
     "input": [
      "plt.cla()\n",
      "plt.xlabel(r'$k$')\n",
      "plt.ylabel(r'${\\mathcal{P}}_{\\rm T}(k)$')\n",
      "plt.title(r'${\\mathcal{P}}_{\\rm T}(k)$ as a function of $k$')\n",
      "numerics, = plt.loglog(k_list, TPS)\n",
      "plt.legend([numerics],['numerical results'])\n",
      "plt.savefig('power_spectrum_bouncing_model.png')"
     ],
     "language": "python",
     "metadata": {},
     "outputs": [
      {
       "metadata": {},
       "output_type": "display_data",
       "png": "[encoded data removed]",
       "text": [
        "<matplotlib.figure.Figure at 0xaeccb24c>"
       ]
      }
     ],
     "prompt_number": 31
    },
    {
     "cell_type": "code",
     "collapsed": false,
     "input": [
      "data = [line.split() for line in open('fort.30')]"
     ],
     "language": "python",
     "metadata": {},
     "outputs": [],
     "prompt_number": 43
    },
    {
     "cell_type": "code",
     "collapsed": false,
     "input": [
      "data = numpy.asarray(data, dtype=numpy.float)"
     ],
     "language": "python",
     "metadata": {},
     "outputs": [],
     "prompt_number": 44
    },
    {
     "cell_type": "code",
     "collapsed": false,
     "input": [
      "plt.cla()\n",
      "plt.hold(True)\n",
      "plt.xlabel(r'$k$')\n",
      "plt.ylabel(r'${\\mathcal{P}}_{\\rm T}(k)$')\n",
      "plt.title(r'${\\mathcal{P}}_{\\rm T}(k)$ as a function of $k$')\n",
      "py_numerics, = plt.loglog(k_list, TPS)\n",
      "f_numerics, = plt.loglog(data[:,0], data[:,1])\n",
      "plt.legend([py_numerics, f_numerics],['python', 'fortran'], loc='lower left')\n",
      "plt.savefig('power_spectrum_matter_bounce.png')"
     ],
     "language": "python",
     "metadata": {},
     "outputs": [
      {
       "metadata": {},
       "output_type": "display_data",
       "png": "[encoded data removed]",
       "text": [
        "<matplotlib.figure.Figure at 0xae8640ac>"
       ]
      }
     ],
     "prompt_number": 56
    },
    {
     "cell_type": "code",
     "collapsed": false,
     "input": [
      "plt.cla()\n",
      "plt.hold(True)\n",
      "plt.xlabel(r'$k$')\n",
      "plt.ylabel(r'${\\mathcal{P}}_{\\rm T}(k)$')\n",
      "plt.title(r'${\\mathcal{P}}_{\\rm T}(k)$ as a function of $k$')\n",
      "py_numerics, = plt.loglog(k_list[:24], TPS[:24])\n",
      "f_numerics, = plt.loglog(data[:19,0], data[:19,1])\n",
      "plt.legend([py_numerics, f_numerics],['python', 'fortran'], loc='lower left')\n",
      "plt.savefig('power_spectrum_matter_bounce_2.png')"
     ],
     "language": "python",
     "metadata": {},
     "outputs": [
      {
       "metadata": {},
       "output_type": "display_data",
       "png": "[encoded data removed]",
       "text": [
        "<matplotlib.figure.Figure at 0xae870aac>"
       ]
      }
     ],
     "prompt_number": 65
    },
    {
     "cell_type": "code",
     "collapsed": false,
     "input": [
      "len(TPS[])"
     ],
     "language": "python",
     "metadata": {},
     "outputs": [
      {
       "metadata": {},
       "output_type": "pyout",
       "prompt_number": 64,
       "text": [
        "26"
       ]
      }
     ],
     "prompt_number": 64
    },
    {
     "cell_type": "code",
     "collapsed": false,
     "input": [],
     "language": "python",
     "metadata": {},
     "outputs": []
    }
   ],
   "metadata": {}
  }
 ]
}