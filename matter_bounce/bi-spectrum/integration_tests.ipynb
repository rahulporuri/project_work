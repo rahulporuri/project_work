{
 "metadata": {
  "name": "",
  "signature": "sha256:d47b0a0d2d6c6c4c91a1a8f668cfcff416612e7c5ea5af01e1236849fc93d1a0"
 },
 "nbformat": 3,
 "nbformat_minor": 0,
 "worksheets": [
  {
   "cells": [
    {
     "cell_type": "code",
     "collapsed": false,
     "input": [
      "import numpy\n",
      "import matplotlib.pyplot as plt\n",
      "%matplotlib inline\n",
      "\n",
      "from scipy.integrate import romb, simps, trapz, quad"
     ],
     "language": "python",
     "metadata": {},
     "outputs": [],
     "prompt_number": 1
    },
    {
     "cell_type": "code",
     "collapsed": false,
     "input": [
      "a0 = 1e+05\n",
      "n0 = 1.0\n",
      "p = 1.0\n",
      "\n",
      "#k_min = 1e-40\n",
      "#k_max = 1e-6\n",
      "#npts = 1024*64\n",
      "\n",
      "Nshss = numpy.sqrt(2*numpy.log(10**4))\n",
      "print 'Nshss =', Nshss"
     ],
     "language": "python",
     "metadata": {},
     "outputs": [
      {
       "output_type": "stream",
       "stream": "stdout",
       "text": [
        "Nshss = 4.29193205258\n"
       ]
      }
     ],
     "prompt_number": 2
    },
    {
     "cell_type": "code",
     "collapsed": false,
     "input": [
      "A = lambda N : a0*numpy.exp(N**2/2.)"
     ],
     "language": "python",
     "metadata": {},
     "outputs": [],
     "prompt_number": 3
    },
    {
     "cell_type": "markdown",
     "metadata": {},
     "source": [
      "test results for k = 1e-06 \n",
      "==="
     ]
    },
    {
     "cell_type": "code",
     "collapsed": false,
     "input": [
      "k_list = [(-40 +i) for i in range(35)] \n",
      "\n",
      "k = k_list[-1]\n",
      "hk_file_name = str('data_files/hk_'+str(-k)+'.dat')\n",
      "data = numpy.loadtxt(hk_file_name)\n",
      "\n",
      "N_array = numpy.zeros(len(data))\n",
      "hk_array = numpy.zeros(len(data),dtype=complex)\n",
      "\n",
      "hk_array.real = data[:,1]\n",
      "hk_array.imag = data[:,2]\n",
      "\n",
      "N_array = data[:,0]\n",
      "#    print hk_array[-1]\n",
      "#    print len(data), len(hk_array), len(N_array)"
     ],
     "language": "python",
     "metadata": {},
     "outputs": [],
     "prompt_number": 4
    },
    {
     "cell_type": "code",
     "collapsed": false,
     "input": [
      "integrand = (n0/2.)*(A(N_array)**3/a0)*(A(N_array)/a0 -1.)**(-1./2)*N_array*(hk_array**3)"
     ],
     "language": "python",
     "metadata": {},
     "outputs": [],
     "prompt_number": 5
    },
    {
     "cell_type": "code",
     "collapsed": false,
     "input": [
      "plt.cla()\n",
      "plt.subplot(121)\n",
      "plt.xlabel(r'$\\mathcal{N}$')\n",
      "plt.yscale('symlog')\n",
      "plt.title('real part of the integrand')\n",
      "plt.xlim(N_array[0], N_array[-1])\n",
      "plt.plot(N_array, integrand.real)\n",
      "plt.subplot(122)\n",
      "plt.xlabel(r'$\\mathcal{N}$')\n",
      "plt.yscale('symlog')\n",
      "plt.title('imaginary part of the integrand')\n",
      "plt.xlim(N_array[0], N_array[-1])\n",
      "plt.plot(N_array, integrand.imag)"
     ],
     "language": "python",
     "metadata": {},
     "outputs": [
      {
       "metadata": {},
       "output_type": "pyout",
       "prompt_number": 6,
       "text": [
        "[<matplotlib.lines.Line2D at 0xaf8160cc>]"
       ]
      },
      {
       "metadata": {},
       "output_type": "display_data",
       "png": "[encoded data removed]",
       "text": [
        "<matplotlib.figure.Figure at 0xaf43edcc>"
       ]
      }
     ],
     "prompt_number": 6
    },
    {
     "cell_type": "code",
     "collapsed": false,
     "input": [
      "step = N_array[1]-N_array[0]\n",
      "Nics = N_array[0]\n",
      "\n",
      "integrand_real = lambda N: integrand.real[int((N-Nics)/step)]\n",
      "integrand_imag = lambda N: integrand.imag[int((N-Nics)/step)]"
     ],
     "language": "python",
     "metadata": {},
     "outputs": [],
     "prompt_number": 7
    },
    {
     "cell_type": "code",
     "collapsed": false,
     "input": [
      "# point where the integrand abruptly changes from -ve to +ve i.e N = 0\n",
      "critical_index = numpy.where(numpy.abs(N_array) == numpy.min(numpy.abs(N_array)))[0]\n",
      "print critical_index\n",
      "print N_array[critical_index], N_array[critical_index +1]"
     ],
     "language": "python",
     "metadata": {},
     "outputs": [
      {
       "output_type": "stream",
       "stream": "stdout",
       "text": [
        "[43826]\n",
        "[ -3.64586808e-05] [ 0.00016124]\n"
       ]
      }
     ],
     "prompt_number": 8
    },
    {
     "cell_type": "code",
     "collapsed": false,
     "input": [
      "# calG from Nics to 0 using quadrature, simpson and trapezoid methods\n",
      "# note that quadrature returns the value of the integral and the error in the integration!\n",
      "\n",
      "print quad(integrand_real, N_array[0], N_array[critical_index])\n",
      "print quad(integrand_imag, N_array[0], N_array[critical_index])\n",
      "print simps(integrand.real[0:critical_index], N_array[0:critical_index])\n",
      "print simps(integrand.imag[0:critical_index], N_array[0:critical_index])\n",
      "print trapz(integrand.real[0:critical_index], N_array[0:critical_index])\n",
      "print trapz(integrand.imag[0:critical_index], N_array[0:critical_index])"
     ],
     "language": "python",
     "metadata": {},
     "outputs": [
      {
       "output_type": "stream",
       "stream": "stdout",
       "text": [
        "(-2.0471992427565314e+21, 1.1418776442551124e+18)\n",
        "(-1.1917631788979795e+22, 6.647363211864925e+18)\n",
        "-2.04664475033e+21\n",
        "-1.19144038489e+22"
       ]
      },
      {
       "output_type": "stream",
       "stream": "stdout",
       "text": [
        "\n",
        "-2.04664479899e+21\n",
        "-1.19144041321e+22\n"
       ]
      },
      {
       "output_type": "stream",
       "stream": "stderr",
       "text": [
        "/usr/local/lib/python2.7/dist-packages/scipy/integrate/quadpack.py:352: IntegrationWarning: The maximum number of subdivisions (50) has been achieved.\n",
        "  If increasing the limit yields no improvement it is advised to analyze \n",
        "  the integrand in order to determine the difficulties.  If the position of a \n",
        "  local difficulty can be determined (singularity, discontinuity) one will \n",
        "  probably gain from splitting up the interval and calling the integrator \n",
        "  on the subranges.  Perhaps a special-purpose integrator should be used.\n",
        "  warnings.warn(msg, IntegrationWarning)\n"
       ]
      }
     ],
     "prompt_number": 9
    },
    {
     "cell_type": "code",
     "collapsed": false,
     "input": [
      "# calG from 0 to Nshss using quadrature, simpson and trapezoid methods\n",
      "print quad(integrand_real, N_array[critical_index +1], N_array[-1])\n",
      "print quad(integrand_imag, N_array[critical_index], N_array[-1])\n",
      "print simps(integrand.real[critical_index +1:], N_array[critical_index +1:])\n",
      "print simps(integrand.imag[critical_index +1:], N_array[critical_index +1:])\n",
      "print trapz(integrand.real[critical_index +1:], N_array[critical_index +1:])\n",
      "print trapz(integrand.imag[critical_index +1:], N_array[critical_index +1:])"
     ],
     "language": "python",
     "metadata": {},
     "outputs": [
      {
       "output_type": "stream",
       "stream": "stdout",
       "text": [
        "(1.2514264481500537e+32, 5.291912753897028e+28)\n",
        "(7.285692636769469e+32, 1.9297592087349815e+28)\n",
        "1.25291622702e+32\n",
        "7.2937669887e+32\n",
        "1.25291670648e+32\n",
        "7.29376977981e+32\n"
       ]
      }
     ],
     "prompt_number": 10
    },
    {
     "cell_type": "code",
     "collapsed": false,
     "input": [
      "# calG from Nics to Nshss using quadrature, simpsons, trapezoid and romberg integration\n",
      "print quad(integrand_real, N_array[0], N_array[-1])\n",
      "print quad(integrand_imag, N_array[0], N_array[-1])\n",
      "print simps(integrand.real, N_array)\n",
      "print simps(integrand.imag, N_array)\n",
      "print trapz(integrand.real, N_array)\n",
      "print trapz(integrand.imag, N_array)\n",
      "print romb(integrand.real, N_array[1]-N_array[0])\n",
      "print romb(integrand.imag, N_array[1]-N_array[0])"
     ],
     "language": "python",
     "metadata": {},
     "outputs": [
      {
       "output_type": "stream",
       "stream": "stdout",
       "text": [
        "(1.2514471848310728e+32, 1.719224665408742e+29)\n",
        "(7.2852150590326e+32, 1.0008349993249547e+30)\n",
        "1.25291622647e+32\n",
        "7.29376698549e+32\n",
        "1.25291670646e+32\n",
        "7.29376977969e+32"
       ]
      },
      {
       "output_type": "stream",
       "stream": "stdout",
       "text": [
        "\n",
        "1.25291626804e+32\n",
        "7.29376722745e+32\n"
       ]
      },
      {
       "output_type": "stream",
       "stream": "stderr",
       "text": [
        "/usr/local/lib/python2.7/dist-packages/scipy/integrate/quadpack.py:352: IntegrationWarning: The occurrence of roundoff error is detected, which prevents \n",
        "  the requested tolerance from being achieved.  The error may be \n",
        "  underestimated.\n",
        "  warnings.warn(msg, IntegrationWarning)\n"
       ]
      }
     ],
     "prompt_number": 11
    },
    {
     "cell_type": "code",
     "collapsed": false,
     "input": [],
     "language": "python",
     "metadata": {},
     "outputs": []
    },
    {
     "cell_type": "code",
     "collapsed": false,
     "input": [],
     "language": "python",
     "metadata": {},
     "outputs": []
    },
    {
     "cell_type": "code",
     "collapsed": false,
     "input": [
      "k_list = [(-40 +i) for i in range(35)] \n",
      "\n",
      "for k in k_list:\n",
      "    hk_file_name = str('data_files/hk_'+str(-k)+'.dat')\n",
      "    data = numpy.loadtxt(hk_file_name)\n",
      "\n",
      "    N_array = numpy.zeros(len(data))\n",
      "    hk_array = numpy.zeros(len(data),dtype=complex)\n",
      "\n",
      "    hk_array.real = data[:,1]\n",
      "    hk_array.imag = data[:,2]\n",
      "\n",
      "    N_array = data[:,0]\n",
      "    \n",
      "    integrand = (n0/2.)*(A(N_array)**3/a0)*(A(N_array)/a0 -1.)**(-1./2)*N_array*(hk_array**3)\n",
      "    \n",
      "    step = N_array[1]-N_array[0]\n",
      "    Nics = N_array[0]\n",
      "\n",
      "    integrand_real = lambda N: integrand.real[int((N-Nics)/step)]\n",
      "    integrand_imag = lambda N: integrand.imag[int((N-Nics)/step)]\n",
      "    critical_index = numpy.where(numpy.abs(N_array) == numpy.min(numpy.abs(N_array)))[0]\n",
      "    print 'k =', k\n",
      "    #print critical_index, N_array[critical_index], N_array[critical_index +1]\n",
      "\n",
      "    print 'calG from Nics to 0 using quadrature,', '\\t', 'simpson', '\\t',  'and trapezoid methods'\n",
      "    print 'real', quad(integrand_real, N_array[0], N_array[critical_index]), simps(integrand.real[0:critical_index], N_array[0:critical_index]), trapz(integrand.real[0:critical_index], N_array[0:critical_index])\n",
      "    print 'imag', quad(integrand_imag, N_array[0], N_array[critical_index]), simps(integrand.imag[0:critical_index], N_array[0:critical_index]), trapz(integrand.imag[0:critical_index], N_array[0:critical_index])\n",
      "\n",
      "    print 'calG from 0 to Nshss using quadrature,', '\\t', 'simpson', '\\t',  'and trapezoid methods'\n",
      "    print 'real', quad(integrand_real, N_array[critical_index +1], N_array[-1]), simps(integrand.real[critical_index +1:], N_array[critical_index +1:]), trapz(integrand.real[critical_index +1:], N_array[critical_index +1:])\n",
      "    print 'imag', quad(integrand_imag, N_array[critical_index +1], N_array[-1]), simps(integrand.imag[critical_index +1:], N_array[critical_index +1:]), trapz(integrand.imag[critical_index +1:], N_array[critical_index +1:])\n",
      "    \n",
      "    print 'calG from Nics to Nshss using quadrature,', '\\t', 'simpson', '\\t',  'trapezoid', '\\t', 'and romberg methods'\n",
      "    print 'real', quad(integrand_real, N_array[0], N_array[-1]), simps(integrand.real, N_array), trapz(integrand.real, N_array), romb(integrand.real, N_array[1]-N_array[0])\n",
      "    print 'imag', quad(integrand_imag, N_array[0], N_array[-1]), simps(integrand.imag, N_array), trapz(integrand.imag, N_array), romb(integrand.real, N_array[1]-N_array[0])"
     ],
     "language": "python",
     "metadata": {},
     "outputs": [
      {
       "output_type": "stream",
       "stream": "stdout",
       "text": [
        "k = -40\n",
        "calG from Nics to 0 using quadrature, \tsimpson \tand trapezoid methods\n",
        "real (-1.5027105551308142e+174, 1.1082200902037237e+169) -1.50198911357e+174 -1.50198923603e+174\n",
        "imag "
       ]
      },
      {
       "output_type": "stream",
       "stream": "stdout",
       "text": [
        "(-1.1765686700214172e+175, 8.676967631833286e+169) -1.17600380706e+175 -1.17600390294e+175\n",
        "calG from 0 to Nshss using quadrature, \tsimpson \tand trapezoid methods\n",
        "real (9.177004636104937e+184, 1.9168813799296787e+180) 9.19673112196e+184 9.19674318194e+184\n",
        "imag "
       ]
      },
      {
       "output_type": "stream",
       "stream": "stdout",
       "text": [
        "(7.185266718607614e+185, 1.5008493022478921e+181) 7.20071185217e+185 7.20072129471e+185\n",
        "calG from Nics to Nshss using quadrature, \tsimpson \ttrapezoid \tand romberg methods\n",
        "real (9.179811007017394e+184, 2.8537812198037683e+181) 9.19673109711e+184 9.19674318179e+184 9.19673107475e+184\n",
        "imag "
       ]
      },
      {
       "output_type": "stream",
       "stream": "stdout",
       "text": [
        "(7.18746400675576e+185, 2.2344087351043307e+182) 7.20071183272e+185 7.20072129459e+185 9.19673107475e+184\n",
        "k ="
       ]
      },
      {
       "output_type": "stream",
       "stream": "stdout",
       "text": [
        " -39\n",
        "calG from Nics to 0 using quadrature, \tsimpson \tand trapezoid methods\n",
        "real (-4.8906559366001856e+169, 5.282595002109778e+166) -4.88847895942e+169 -4.8884793502e+169\n",
        "imag "
       ]
      },
      {
       "output_type": "stream",
       "stream": "stdout",
       "text": [
        "(-3.726006584094493e+170, 4.024610779268814e+167) -3.72434802716e+170 -3.72434832489e+170\n",
        "calG from 0 to Nshss using quadrature, \tsimpson \tand trapezoid methods\n",
        "real (2.9874983229957143e+180, 1.1917489844916919e+177) "
       ]
      },
      {
       "output_type": "stream",
       "stream": "stdout",
       "text": [
        "2.99320289561e+180 2.99320674423e+180\n",
        "imag (2.2760624680535858e+181, 9.079486689278264e+177) 2.28040856711e+181 2.28041149922e+181\n",
        "calG from Nics to Nshss using quadrature, \tsimpson \ttrapezoid \tand romberg methods\n",
        "real (2.986819721321056e+180, 5.628534316824882e+176) "
       ]
      },
      {
       "output_type": "stream",
       "stream": "stdout",
       "text": [
        "2.99320288776e+180 2.99320674418e+180 2.9932035235e+180\n",
        "imag (2.2755454669924984e+181, 4.288168335870632e+177) 2.28040856112e+181 "
       ]
      },
      {
       "output_type": "stream",
       "stream": "stdout",
       "text": [
        "2.28041149919e+181 2.9932035235e+180\n",
        "k ="
       ]
      },
      {
       "output_type": "stream",
       "stream": "stdout",
       "text": [
        " -38\n",
        "calG from Nics to 0 using quadrature, \tsimpson \tand trapezoid methods\n",
        "real (-1.587695509946252e+165, 7.788161185580152e+160) -1.586938872e+165 -1.58693899633e+165\n",
        "imag "
       ]
      },
      {
       "output_type": "stream",
       "stream": "stdout",
       "text": [
        "(-1.179632188215111e+166, 5.786481563530705e+161) -1.17907001841e+166 -1.17907011079e+166\n",
        "calG from 0 to Nshss using quadrature, \tsimpson \tand trapezoid methods\n",
        "real "
       ]
      },
      {
       "output_type": "stream",
       "stream": "stdout",
       "text": [
        "(9.703023184339534e+175, 4.837550260318552e+172) 9.7188006767e+175 9.71881292415e+175\n",
        "imag (7.209189923094606e+176, 3.5942219069166844e+173) 7.22091234576e+176 7.22092144542e+176\n",
        "calG from Nics to Nshss using quadrature, \tsimpson \ttrapezoid \tand romberg methods\n",
        "real (9.69829934802986e+175, 2.7108040116444167e+172) "
       ]
      },
      {
       "output_type": "stream",
       "stream": "stdout",
       "text": [
        "9.71880065196e+175 9.718812924e+175 9.71880118264e+175\n",
        "imag (7.205680188808217e+176, 2.0140837051128905e+173) 7.22091232738e+176 "
       ]
      },
      {
       "output_type": "stream",
       "stream": "stdout",
       "text": [
        "7.22092144531e+176 9.71880118264e+175\n",
        "k ="
       ]
      },
      {
       "output_type": "stream",
       "stream": "stdout",
       "text": [
        " -37\n",
        "calG from Nics to 0 using quadrature, \tsimpson \tand trapezoid methods\n",
        "real (-5.142989187981963e+160, 4.608054755330353e+156) -5.14051992326e+160 -5.14052031779e+160\n",
        "imag "
       ]
      },
      {
       "output_type": "stream",
       "stream": "stdout",
       "text": [
        "(-3.734072383790999e+161, 3.3456827758876823e+157) -3.7322795717e+161 -3.73227985815e+161\n",
        "calG from 0 to Nshss using quadrature, \tsimpson \tand trapezoid methods\n",
        "real (3.1428900365864145e+171, 1.5056761913467685e+167)"
       ]
      },
      {
       "output_type": "stream",
       "stream": "stdout",
       "text": [
        " 3.14880437714e+171 3.1488082644e+171\n",
        "imag (2.281898417819698e+172, 1.0931976989643294e+168) 2.28619253063e+172 2.28619535297e+172\n",
        "calG from Nics to Nshss using quadrature, \tsimpson \ttrapezoid \tand romberg methods\n",
        "real (3.142226360781719e+171, 5.780332645908282e+167) "
       ]
      },
      {
       "output_type": "stream",
       "stream": "stdout",
       "text": [
        "3.14880436937e+171 3.14880826435e+171 3.14880504513e+171\n",
        "imag (2.2814165553443134e+172, 4.196816226304608e+168) 2.28619252498e+172 "
       ]
      },
      {
       "output_type": "stream",
       "stream": "stdout",
       "text": [
        "2.28619535293e+172 3.14880504513e+171\n",
        "k ="
       ]
      },
      {
       "output_type": "stream",
       "stream": "stdout",
       "text": [
        " -36\n",
        "calG from Nics to 0 using quadrature, \tsimpson \tand trapezoid methods\n",
        "real (-1.6629774199475875e+156, 7.98796661453675e+151) -1.66222123011e+156 -1.66222135503e+156\n",
        "imag "
       ]
      },
      {
       "output_type": "stream",
       "stream": "stdout",
       "text": [
        "(-1.1820951857498526e+157, 5.678090858737181e+152) -1.1815576629e+157 -1.18155775169e+157\n",
        "calG from 0 to Nshss using quadrature, \tsimpson \tand trapezoid methods\n",
        "real (1.0162229751349445e+167, 2.8366616255380213e+162) 1.01816473698e+167 "
       ]
      },
      {
       "output_type": "stream",
       "stream": "stdout",
       "text": [
        "1.01816596773e+167\n",
        "imag (7.223623557036831e+167, 2.0163857349930023e+163) 7.2374261938e+167 7.23743494235e+167\n",
        "calG from Nics to Nshss using quadrature, \tsimpson \ttrapezoid \tand romberg methods\n",
        "real (1.0160615706833063e+167, 2.7489524281179308e+163) "
       ]
      },
      {
       "output_type": "stream",
       "stream": "stdout",
       "text": [
        "1.01816473454e+167 1.01816596771e+167 1.0181647412e+167\n",
        "imag (7.22247624485536e+167, 1.9540394257357409e+164) "
       ]
      },
      {
       "output_type": "stream",
       "stream": "stdout",
       "text": [
        "7.23742617649e+167 7.23743494223e+167 1.0181647412e+167\n",
        "k ="
       ]
      },
      {
       "output_type": "stream",
       "stream": "stdout",
       "text": [
        " -35\n",
        "calG from Nics to 0 using quadrature, \tsimpson \tand trapezoid methods\n",
        "real (-5.370474246655797e+151, 7.546473646855278e+146) -5.36754400711e+151 -5.36754440187e+151\n",
        "imag "
       ]
      },
      {
       "output_type": "stream",
       "stream": "stdout",
       "text": [
        "(-3.7438950257262953e+152, 5.260839888425191e+147) -3.74185228075e+152 -3.74185255595e+152\n",
        "calG from 0 to Nshss using quadrature, \tsimpson \tand trapezoid methods\n",
        "real (3.280013013687023e+162, 6.2902072606732925e+158)"
       ]
      },
      {
       "output_type": "stream",
       "stream": "stdout",
       "text": [
        " 3.28622446404e+162 3.28622835166e+162\n",
        "imag (2.2865810061209922e+163, 4.38506444983548e+159) 2.29091116711e+163 2.29091387727e+163\n",
        "calG from Nics to Nshss using quadrature, \tsimpson \ttrapezoid \tand romberg methods\n",
        "real (3.2799480163143167e+162, 7.043281563167271e+158) "
       ]
      },
      {
       "output_type": "stream",
       "stream": "stdout",
       "text": [
        "3.28622445642e+162 3.2862283516e+162 3.28622416321e+162\n",
        "imag (2.2865356947898523e+163, 4.9100517981176825e+159) "
       ]
      },
      {
       "output_type": "stream",
       "stream": "stdout",
       "text": [
        "2.2909111618e+163 2.29091387723e+163 3.28622416321e+162\n",
        "k ="
       ]
      },
      {
       "output_type": "stream",
       "stream": "stdout",
       "text": [
        " -34\n",
        "calG from Nics to 0 using quadrature, \tsimpson \tand trapezoid methods\n",
        "real (-1.7308299051092457e+147, 1.1446148481334965e+142) -1.72993911128e+147 -1.72993923579e+147\n",
        "imag "
       ]
      },
      {
       "output_type": "stream",
       "stream": "stdout",
       "text": [
        "(-1.1852174639075711e+148, 7.837959140952408e+142) -1.18460747653e+148 -1.18460756179e+148\n",
        "calG from 0 to Nshss using quadrature, \tsimpson \tand trapezoid methods\n",
        "real (1.0570018782006251e+158, 2.4489363369156048e+154) 1.05901332381e+158 1.0590145516e+158\n",
        "imag "
       ]
      },
      {
       "output_type": "stream",
       "stream": "stdout",
       "text": [
        "(7.238013866805596e+158, 1.6769539470556937e+155) 7.25178760885e+158 7.25179601639e+158\n",
        "calG from Nics to Nshss using quadrature, \tsimpson \ttrapezoid \tand romberg methods\n",
        "real (1.0568725949971041e+158, 1.8727916632633203e+154) 1.05901332379e+158 1.05901455159e+158 1.05901355248e+158\n",
        "imag "
       ]
      },
      {
       "output_type": "stream",
       "stream": "stdout",
       "text": [
        "(7.237128576397986e+158, 1.282428376717191e+155) 7.25178760873e+158 7.25179601627e+158 1.05901355248e+158\n",
        "k ="
       ]
      },
      {
       "output_type": "stream",
       "stream": "stdout",
       "text": [
        " -33\n",
        "calG from Nics to 0 using quadrature, \tsimpson \tand trapezoid methods\n",
        "real (-5.564429474479728e+142, 2.194207606814382e+138) -5.56204740502e+142 -5.56204779616e+142\n",
        "imag "
       ]
      },
      {
       "output_type": "stream",
       "stream": "stdout",
       "text": [
        "(-3.7482822868084163e+143, 1.4780508012215883e+139) -3.74667768946e+143 -3.74667795294e+143\n",
        "calG from 0 to Nshss using quadrature, \tsimpson \tand trapezoid methods\n",
        "real (3.4004987432521655e+153, 1.1436722774547346e+150) "
       ]
      },
      {
       "output_type": "stream",
       "stream": "stdout",
       "text": [
        "3.40657120307e+153 3.40657505667e+153\n",
        "imag (2.29062642703933e+154, 7.703946250765708e+150) 2.29471692611e+154 2.29471952195e+154\n",
        "calG from Nics to Nshss using quadrature, \tsimpson \ttrapezoid \tand romberg methods\n",
        "real (3.3997672942209844e+153, 6.009478172777814e+149) "
       ]
      },
      {
       "output_type": "stream",
       "stream": "stdout",
       "text": [
        "3.40657119569e+153 3.40657505662e+153 3.40657175047e+153\n",
        "imag (2.2901337121160378e+154, 4.0480736716873756e+150) 2.29471692114e+154 "
       ]
      },
      {
       "output_type": "stream",
       "stream": "stdout",
       "text": [
        "2.29471952191e+154 3.40657175047e+153\n",
        "k ="
       ]
      },
      {
       "output_type": "stream",
       "stream": "stdout",
       "text": [
        " -32\n",
        "calG from Nics to 0 using quadrature, \tsimpson \tand trapezoid methods\n",
        "real (-1.7871521920030904e+138, 2.004247430047636e+132) "
       ]
      },
      {
       "output_type": "stream",
       "stream": "stdout",
       "text": [
        "-1.78638669228e+138 -1.78638681502e+138\n",
        "imag (-1.1858488621331363e+139, 1.3299004803630056e+133) -1.18534092164e+139 "
       ]
      },
      {
       "output_type": "stream",
       "stream": "stdout",
       "text": [
        "-1.18534100308e+139\n",
        "calG from 0 to Nshss using quadrature, \tsimpson \tand trapezoid methods\n",
        "real (1.0925822394494726e+149, 2.690768839424694e+145) 1.09434468173e+149 1.09434589123e+149\n",
        "imag (7.249731786890427e+149, 1.7854356108287177e+146) "
       ]
      },
      {
       "output_type": "stream",
       "stream": "stdout",
       "text": [
        "7.26142631512e+149 7.26143434065e+149\n",
        "calG from Nics to Nshss using quadrature, \tsimpson \ttrapezoid \tand romberg methods\n",
        "real (1.0921839472692774e+149, 2.748060213868399e+145) 1.09434467944e+149 1.09434589122e+149 1.094344688e+149\n",
        "imag "
       ]
      },
      {
       "output_type": "stream",
       "stream": "stdout",
       "text": [
        "(7.24708895473306e+149, 1.8234507889442303e+146) 7.26142629991e+149 7.26143434054e+149 1.094344688e+149\n",
        "k ="
       ]
      },
      {
       "output_type": "stream",
       "stream": "stdout",
       "text": [
        " -31\n",
        "calG from Nics to 0 using quadrature, \tsimpson \tand trapezoid methods\n",
        "real (-5.73589861014369e+133, 1.521358839190681e+129) -5.73369656904e+133 -5.73369695387e+133\n",
        "imag (-3.753796292816778e+134, 9.956366932255304e+129) "
       ]
      },
      {
       "output_type": "stream",
       "stream": "stdout",
       "text": [
        "-3.75235519104e+134 -3.75235544288e+134\n",
        "calG from 0 to Nshss using quadrature, \tsimpson \tand trapezoid methods\n",
        "real (3.507441126071412e+144, 1.8464817914954295e+140) 3.51341828412e+144 3.51342208269e+144\n",
        "imag (2.295406594713119e+145, 1.2084098957561042e+141) "
       ]
      },
      {
       "output_type": "stream",
       "stream": "stdout",
       "text": [
        "2.29931828061e+145 2.29932076655e+145\n",
        "calG from Nics to Nshss using quadrature, \tsimpson \ttrapezoid \tand romberg methods\n",
        "real (3.507573255722795e+144, 4.4775854827038863e+142) 3.51341828406e+144 3.51342208263e+144 3.51341802291e+144\n",
        "imag "
       ]
      },
      {
       "output_type": "stream",
       "stream": "stdout",
       "text": [
        "(2.295493065521253e+145, 2.930307013332389e+143) 2.29931828057e+145 2.29932076651e+145 3.51341802291e+144\n",
        "k ="
       ]
      },
      {
       "output_type": "stream",
       "stream": "stdout",
       "text": [
        " -30\n",
        "calG from Nics to 0 using quadrature, \tsimpson \tand trapezoid methods\n",
        "real (-1.83754644881167e+129, 3.7124865791969585e+124) -1.83664906846e+129 -1.83664918874e+129\n",
        "imag (-1.1874496371323173e+130, 2.3990635406052866e+125) "
       ]
      },
      {
       "output_type": "stream",
       "stream": "stdout",
       "text": [
        "-1.18686973671e+130 -1.18686981443e+130\n",
        "calG from 0 to Nshss using quadrature, \tsimpson \tand trapezoid methods\n",
        "real (1.1230475391170146e+140, 7.003991855554959e+136) 1.1250311762e+140 1.12503236304e+140\n",
        "imag (7.257298957904659e+140, 4.526083112464206e+137) 7.27011751353e+140 "
       ]
      },
      {
       "output_type": "stream",
       "stream": "stdout",
       "text": [
        "7.27012518306e+140\n",
        "calG from Nics to Nshss using quadrature, \tsimpson \ttrapezoid \tand romberg methods\n",
        "real (1.1228633981126966e+140, 2.712714431105371e+136) 1.12503117618e+140 1.12503236302e+140 "
       ]
      },
      {
       "output_type": "stream",
       "stream": "stdout",
       "text": [
        "1.12503124369e+140\n",
        "imag (7.256109011554519e+140, 1.7529960996502783e+137) 7.27011751341e+140 "
       ]
      },
      {
       "output_type": "stream",
       "stream": "stdout",
       "text": [
        "7.27012518294e+140 1.12503124369e+140\n",
        "k ="
       ]
      },
      {
       "output_type": "stream",
       "stream": "stdout",
       "text": [
        " -29\n",
        "calG from Nics to 0 using quadrature, \tsimpson \tand trapezoid methods\n",
        "real (-5.882126184622165e+124, 2.1510745651932856e+122) -5.87959368872e+124 -5.87959406416e+124\n",
        "imag "
       ]
      },
      {
       "output_type": "stream",
       "stream": "stdout",
       "text": [
        "(-3.757415603330162e+125, 1.374074756866522e+123) -3.75579788223e+125 -3.75579812206e+125\n",
        "calG from 0 to Nshss using quadrature, \tsimpson \tand trapezoid methods\n",
        "real (3.59490924660538e+135, 1.1685523548383175e+131) 3.60078283276e+135 3.60078653665e+135\n",
        "imag "
       ]
      },
      {
       "output_type": "stream",
       "stream": "stdout",
       "text": [
        "(2.2963750983565248e+136, 7.464540268252037e+131) 2.30012705871e+136 2.30012942471e+136\n",
        "calG from Nics to Nshss using quadrature, \tsimpson \ttrapezoid \tand romberg methods\n",
        "real (3.5949226609281e+135, 4.4963880075104404e+133) 3.6007828327e+135 3.60078653659e+135 "
       ]
      },
      {
       "output_type": "stream",
       "stream": "stdout",
       "text": [
        "3.60078271547e+135\n",
        "imag (2.2963836672272493e+136, 2.8722264546418124e+134) 2.30012705867e+136 2.30012942467e+136 3.60078271547e+135\n",
        "k ="
       ]
      },
      {
       "output_type": "stream",
       "stream": "stdout",
       "text": [
        " -28\n",
        "calG from Nics to 0 using quadrature, \tsimpson \tand trapezoid methods\n",
        "real (-1.881121975747355e+120, 9.284663819982444e+115) -1.88031622304e+120 -1.88031633998e+120\n",
        "imag "
       ]
      },
      {
       "output_type": "stream",
       "stream": "stdout",
       "text": [
        "(-1.1890149568379789e+121, 5.868627544509778e+116) -1.18850565865e+121 -1.18850573256e+121\n",
        "calG from 0 to Nshss using quadrature, \tsimpson \tand trapezoid methods\n",
        "real (1.1504427084232266e+131, 2.90253012553645e+128) "
       ]
      },
      {
       "output_type": "stream",
       "stream": "stdout",
       "text": [
        "1.15124134466e+131 1.15124249643e+131\n",
        "imag (7.271690006869927e+131, 1.834624067603052e+129) 7.27673800732e+131 7.27674528739e+131\n",
        "calG from Nics to Nshss using quadrature, \tsimpson \ttrapezoid \tand romberg methods\n",
        "real "
       ]
      },
      {
       "output_type": "stream",
       "stream": "stdout",
       "text": [
        "(1.1490800251291962e+131, 1.8768152971318801e+127) 1.15124134258e+131 1.15124249641e+131 1.15124159208e+131\n",
        "imag "
       ]
      },
      {
       "output_type": "stream",
       "stream": "stdout",
       "text": [
        "(7.263076791924208e+131, 1.1862928056587877e+128) 7.27673799418e+131 7.27674528727e+131 1.15124159208e+131\n",
        "k ="
       ]
      },
      {
       "output_type": "stream",
       "stream": "stdout",
       "text": [
        " -27\n",
        "calG from Nics to 0 using quadrature, \tsimpson \tand trapezoid methods\n",
        "real (-6.007787893707743e+115, 1.1939795297907792e+110) -6.00532341071e+115 -6.00532377448e+115\n",
        "imag (-3.7610353035655045e+116, 7.474598232282781e+110) "
       ]
      },
      {
       "output_type": "stream",
       "stream": "stdout",
       "text": [
        "-3.75949247154e+116 -3.75949269927e+116\n",
        "calG from 0 to Nshss using quadrature, \tsimpson \tand trapezoid methods\n",
        "real (3.6718933073353565e+126, 1.684849772325299e+122) 3.67788417612e+126 3.67788776489e+126\n",
        "imag (2.2987030507962216e+127, 1.0547608828597038e+123) 2.30245349429e+127 2.30245574095e+127\n",
        "calG from Nics to Nshss using quadrature, \tsimpson \ttrapezoid \tand romberg methods\n",
        "real "
       ]
      },
      {
       "output_type": "stream",
       "stream": "stdout",
       "text": [
        "(3.671105247269742e+126, 1.4642429825910444e+124) 3.67788417606e+126 3.67788776483e+126 3.67788419892e+126\n",
        "imag (2.2982097041984835e+127, 9.166551290592157e+124) "
       ]
      },
      {
       "output_type": "stream",
       "stream": "stdout",
       "text": [
        "2.30245349425e+127 2.30245574091e+127 3.67788419892e+126\n",
        "k ="
       ]
      },
      {
       "output_type": "stream",
       "stream": "stdout",
       "text": [
        " -26\n",
        "calG from Nics to 0 using quadrature, \tsimpson \tand trapezoid methods\n",
        "real (-1.9172873172775744e+111, 1.5526331378747994e+107) "
       ]
      },
      {
       "output_type": "stream",
       "stream": "stdout",
       "text": [
        "-1.91653869698e+111 -1.91653880986e+111\n",
        "imag (-1.1898198135336373e+112, 9.635247552127243e+107) -1.18935523879e+112 "
       ]
      },
      {
       "output_type": "stream",
       "stream": "stdout",
       "text": [
        "-1.18935530884e+112\n",
        "calG from 0 to Nshss using quadrature, \tsimpson \tand trapezoid methods\n",
        "real (1.1712673814354565e+122, 8.389083445831595e+118) 1.17339841362e+122 1.17339952547e+122\n",
        "imag (7.268587888825115e+122, 5.206052118381139e+119) 7.28181253335e+122 7.28181943319e+122\n",
        "calG from Nics to Nshss using quadrature, \tsimpson \ttrapezoid \tand romberg methods\n",
        "real "
       ]
      },
      {
       "output_type": "stream",
       "stream": "stdout",
       "text": [
        "(1.1712655481714319e+122, 4.637969831783177e+119) 1.17339841167e+122 1.17339952545e+122 1.17339848505e+122\n",
        "imag (7.268576512062325e+122, 2.878206293280376e+120) "
       ]
      },
      {
       "output_type": "stream",
       "stream": "stdout",
       "text": [
        "7.28181252122e+122 7.28181943308e+122 1.17339848505e+122\n",
        "k ="
       ]
      },
      {
       "output_type": "stream",
       "stream": "stdout",
       "text": [
        " -25\n",
        "calG from Nics to 0 using quadrature, \tsimpson \tand trapezoid methods\n",
        "real (-6.112563623390016e+106, 2.255387944928547e+102) -6.11052523603e+106 -6.11052558582e+106\n",
        "imag "
       ]
      },
      {
       "output_type": "stream",
       "stream": "stdout",
       "text": [
        "(-3.763318632575237e+107, 1.388573469599358e+103) -3.76206365976e+107 -3.76206387512e+107\n",
        "calG from 0 to Nshss using quadrature, \tsimpson \tand trapezoid methods\n",
        "real (3.735188651552847e+117, 3.2701020717959364e+113) 3.74122365187e+117 3.74122709732e+117\n",
        "imag "
       ]
      },
      {
       "output_type": "stream",
       "stream": "stdout",
       "text": [
        "(2.299641511255907e+118, 2.0133018249831028e+114) 2.30335707653e+118 2.30335919779e+118\n",
        "calG from Nics to Nshss using quadrature, \tsimpson \ttrapezoid \tand romberg methods\n",
        "real (3.73547865410946e+117, 4.481390360970389e+115) 3.7412236459e+117 3.74122709725e+117 "
       ]
      },
      {
       "output_type": "stream",
       "stream": "stdout",
       "text": [
        "3.74122339536e+117\n",
        "imag (2.299820056972466e+118, 2.759055107202877e+116) 2.30335707286e+118 2.30335919775e+118 3.74122339536e+117\n",
        "k ="
       ]
      },
      {
       "output_type": "stream",
       "stream": "stdout",
       "text": [
        " -24\n",
        "calG from Nics to 0 using quadrature, \tsimpson \tand trapezoid methods\n",
        "real (-1.9468228120397152e+102, 1.493877686541026e+98) -1.94606180945e+102 -1.94606191762e+102\n",
        "imag "
       ]
      },
      {
       "output_type": "stream",
       "stream": "stdout",
       "text": [
        "(-1.190023277471998e+103, 9.131540995100963e+98) -1.18955810376e+103 -1.18955816988e+103\n",
        "calG from 0 to Nshss using quadrature, \tsimpson \tand trapezoid methods\n",
        "real "
       ]
      },
      {
       "output_type": "stream",
       "stream": "stdout",
       "text": [
        "(1.189992373776243e+113, 3.6009953520617493e+109) 1.19189316228e+113 1.1918942281e+113\n",
        "imag (7.273998517226375e+113, 2.2011598905216336e+110) 7.28561735869e+113 7.28562387371e+113\n",
        "calG from Nics to Nshss using quadrature, \tsimpson \ttrapezoid \tand romberg methods\n",
        "real (1.1897890828954982e+113, 9.808825575792776e+109) "
       ]
      },
      {
       "output_type": "stream",
       "stream": "stdout",
       "text": [
        "1.19189316045e+113 1.19189422808e+113 1.19189319044e+113\n",
        "imag (7.272755872654552e+113, 5.99578485707145e+110) 7.28561734755e+113 "
       ]
      },
      {
       "output_type": "stream",
       "stream": "stdout",
       "text": [
        "7.2856238736e+113 1.19189319044e+113\n",
        "k ="
       ]
      },
      {
       "output_type": "stream",
       "stream": "stdout",
       "text": [
        " -23\n",
        "calG from Nics to 0 using quadrature, \tsimpson \tand trapezoid methods\n",
        "real (-6.1979633348179975e+97, 2.0334945360639613e+94) "
       ]
      },
      {
       "output_type": "stream",
       "stream": "stdout",
       "text": [
        "-6.19547993602e+97 -6.19548027004e+97\n",
        "imag (-3.7641269801998946e+98, 1.2349753741974592e+95) "
       ]
      },
      {
       "output_type": "stream",
       "stream": "stdout",
       "text": [
        "-3.7626187705e+98 -3.76261897336e+98\n",
        "calG from 0 to Nshss using quadrature, \tsimpson \tand trapezoid methods\n",
        "real (3.789051894374564e+108, 4.235299834958803e+105) 3.79438105066e+108 3.79438434195e+108\n",
        "imag "
       ]
      },
      {
       "output_type": "stream",
       "stream": "stdout",
       "text": [
        "(2.301154701073971e+109, 2.5721686287646163e+106) 2.30439118698e+109 2.30439318583e+109\n",
        "calG from Nics to Nshss using quadrature, \tsimpson \ttrapezoid \tand romberg methods\n",
        "real (3.7875894775259836e+108, 2.8899766973016615e+105) "
       ]
      },
      {
       "output_type": "stream",
       "stream": "stdout",
       "text": [
        "3.79438104512e+108 3.79438434188e+108 3.79438164875e+108\n",
        "imag (2.3002665507403984e+109, 1.7551315194659547e+106) "
       ]
      },
      {
       "output_type": "stream",
       "stream": "stdout",
       "text": [
        "2.30439118361e+109 2.30439318579e+109 3.79438164875e+108\n",
        "k ="
       ]
      },
      {
       "output_type": "stream",
       "stream": "stdout",
       "text": [
        " -22\n",
        "calG from Nics to 0 using quadrature, \tsimpson \tand trapezoid methods\n",
        "real (-1.9724273205182041e+93, 3.749845105973137e+89) "
       ]
      },
      {
       "output_type": "stream",
       "stream": "stdout",
       "text": [
        "-1.97165116178e+93 -1.97165126482e+93\n",
        "imag (-1.1909283360826043e+94, 2.264112454183355e+90) "
       ]
      },
      {
       "output_type": "stream",
       "stream": "stdout",
       "text": [
        "-1.1904597006e+94 -1.19045976281e+94\n",
        "calG from 0 to Nshss using quadrature, \tsimpson \tand trapezoid methods\n",
        "real (1.2053072031348155e+104, 3.696777178332226e+100) "
       ]
      },
      {
       "output_type": "stream",
       "stream": "stdout",
       "text": [
        "1.20711165733e+104 1.20711267353e+104\n",
        "imag (7.277502633273872e+104, 2.2320703813013883e+101) "
       ]
      },
      {
       "output_type": "stream",
       "stream": "stdout",
       "text": [
        "7.28839771471e+104 7.28840385042e+104\n",
        "calG from Nics to Nshss using quadrature, \tsimpson \ttrapezoid \tand romberg methods\n",
        "real (1.2050397646217523e+104, 8.756304258047702e+100) "
       ]
      },
      {
       "output_type": "stream",
       "stream": "stdout",
       "text": [
        "1.20711165731e+104 1.20711267351e+104 1.20711173453e+104\n",
        "imag "
       ]
      },
      {
       "output_type": "stream",
       "stream": "stdout",
       "text": [
        "(7.275887871079071e+104, 5.286953100633812e+101) "
       ]
      },
      {
       "output_type": "stream",
       "stream": "stdout",
       "text": [
        "7.28839771459e+104 7.2884038503e+104 1.20711173453e+104\n",
        "k ="
       ]
      },
      {
       "output_type": "stream",
       "stream": "stdout",
       "text": [
        " -21\n",
        "calG from Nics to 0 using quadrature, \tsimpson \tand trapezoid methods\n",
        "real (-6.270368484562761e+88, 1.9919993517262748e+84) -6.26790677694e+88 -6.26790709395e+88\n",
        "imag "
       ]
      },
      {
       "output_type": "stream",
       "stream": "stdout",
       "text": [
        "(-3.7662551185689293e+89, 1.196481150320161e+85) -3.76477651026e+89 -3.76477670067e+89\n",
        "calG from 0 to Nshss using quadrature, \tsimpson \tand trapezoid methods\n",
        "real (3.831970806945439e+99, 4.890656469945718e+95) "
       ]
      },
      {
       "output_type": "stream",
       "stream": "stdout",
       "text": [
        "3.83778683831e+99 3.83778996501e+99\n",
        "imag (2.3016477741926536e+100, 2.9375402290278576e+96) 2.30514113474e+100 2.30514301277e+100\n",
        "calG from Nics to Nshss using quadrature, \tsimpson \ttrapezoid \tand romberg methods\n",
        "real "
       ]
      },
      {
       "output_type": "stream",
       "stream": "stdout",
       "text": [
        "(3.8322356274637203e+99, 4.367794037716288e+97) 3.83778683824e+99 3.83778996494e+99 3.83778668104e+99\n",
        "imag "
       ]
      },
      {
       "output_type": "stream",
       "stream": "stdout",
       "text": [
        "(2.3018068368759015e+100, 2.6234864376953646e+98) 2.3051411347e+100 2.30514301273e+100 3.83778668104e+99\n",
        "k ="
       ]
      },
      {
       "output_type": "stream",
       "stream": "stdout",
       "text": [
        " -20\n",
        "calG from Nics to 0 using quadrature, \tsimpson \tand trapezoid methods\n",
        "real (-1.991676279230659e+84, 2.6300586624359073e+80) -1.99092629873e+84 -1.99092639605e+84\n",
        "imag (-1.190723356893509e+85, 1.5723801522356239e+81) "
       ]
      },
      {
       "output_type": "stream",
       "stream": "stdout",
       "text": [
        "-1.19027498116e+85 -1.19027503935e+85\n",
        "calG from 0 to Nshss using quadrature, \tsimpson \tand trapezoid methods\n",
        "real (1.552918474132885e+97, 4.198016856590933e+92) 1.55518062526e+97 1.55518184989e+97\n",
        "imag (9.284120706661851e+97, 2.5097837861667095e+93) 9.29764497371e+97 9.29765229513e+97\n",
        "calG from Nics to Nshss using quadrature, \tsimpson \ttrapezoid \tand romberg methods\n",
        "real "
       ]
      },
      {
       "output_type": "stream",
       "stream": "stdout",
       "text": [
        "(1.5527393928553982e+97, 2.55398608480399e+93) 1.55518062526e+97 1.55518184989e+97 1.55518036256e+97\n",
        "imag (9.283050069527536e+97, 1.5269001865722238e+94) "
       ]
      },
      {
       "output_type": "stream",
       "stream": "stdout",
       "text": [
        "9.29764497371e+97 9.29765229512e+97 1.55518036256e+97\n",
        "k ="
       ]
      },
      {
       "output_type": "stream",
       "stream": "stdout",
       "text": [
        " -19\n",
        "calG from Nics to 0 using quadrature, \tsimpson \tand trapezoid methods\n",
        "real (-6.328060883980133e+79, 1.0053010021557351e+76) -6.32572532727e+79 -6.32572562574e+79\n",
        "imag "
       ]
      },
      {
       "output_type": "stream",
       "stream": "stdout",
       "text": [
        "(-3.767587384915364e+80, 5.985340258272503e+76) -3.76619684615e+80 -3.76619702384e+80\n",
        "calG from 0 to Nshss using quadrature, \tsimpson \tand trapezoid methods\n",
        "real "
       ]
      },
      {
       "output_type": "stream",
       "stream": "stdout",
       "text": [
        "(3.866817157931877e+90, 5.952825934496934e+86) 3.87259937799e+90 3.87260232132e+90\n",
        "imag (2.302217347637942e+91, 3.5441808184726625e+87) 2.30565995348e+91 2.30566170587e+91\n",
        "calG from Nics to Nshss using quadrature, \tsimpson \ttrapezoid \tand romberg methods\n",
        "real "
       ]
      },
      {
       "output_type": "stream",
       "stream": "stdout",
       "text": [
        "(3.86612727590576e+90, 3.4058180211363776e+87) 3.87259937793e+90 3.87260232126e+90 3.87259990341e+90\n",
        "imag "
       ]
      },
      {
       "output_type": "stream",
       "stream": "stdout",
       "text": [
        "(2.3018066071469736e+91, 2.0277486461850577e+88) 2.30565995344e+91 2.30566170583e+91 3.87259990341e+90\n",
        "k ="
       ]
      },
      {
       "output_type": "stream",
       "stream": "stdout",
       "text": [
        " -18\n",
        "calG from Nics to 0 using quadrature, \tsimpson \tand trapezoid methods\n",
        "real (-2.009086960673022e+75, 2.538481523478511e+71) -2.00836103556e+75 "
       ]
      },
      {
       "output_type": "stream",
       "stream": "stdout",
       "text": [
        "-2.00836112685e+75\n",
        "imag (-1.1917900648970216e+76, 1.5058269887681765e+72) -1.19135944623e+76 "
       ]
      },
      {
       "output_type": "stream",
       "stream": "stdout",
       "text": [
        "-1.19135950039e+76\n",
        "calG from 0 to Nshss using quadrature, \tsimpson \tand trapezoid methods\n",
        "real (1.2274311511892134e+86, 5.3322418664011174e+82) 1.22922395712e+86 1.22922485613e+86\n",
        "imag "
       ]
      },
      {
       "output_type": "stream",
       "stream": "stdout",
       "text": [
        "(7.281119632785151e+86, 3.1630850605928505e+83) 7.29175455472e+86 7.29175988761e+86\n",
        "calG from Nics to Nshss using quadrature, \tsimpson \ttrapezoid \tand romberg methods\n",
        "real (1.2272575255966665e+86, 1.048477683791748e+83) 1.22922395573e+86 "
       ]
      },
      {
       "output_type": "stream",
       "stream": "stdout",
       "text": [
        "1.22922485611e+86 1.22922407148e+86\n",
        "imag (7.280089686046653e+86, 6.21956797515128e+83) 7.29175454645e+86 "
       ]
      },
      {
       "output_type": "stream",
       "stream": "stdout",
       "text": [
        "7.29175988749e+86 1.22922407148e+86\n",
        "k ="
       ]
      },
      {
       "output_type": "stream",
       "stream": "stdout",
       "text": [
        " -17\n",
        "calG from Nics to 0 using quadrature, \tsimpson \tand trapezoid methods\n",
        "real (-6.373526192522026e+70, 5.9819996072570734e+66) "
       ]
      },
      {
       "output_type": "stream",
       "stream": "stdout",
       "text": [
        "-6.37135543541e+70 -6.37135571405e+70\n",
        "imag (-3.768603332431176e+71, 3.537097427859855e+67) "
       ]
      },
      {
       "output_type": "stream",
       "stream": "stdout",
       "text": [
        "-3.76731978511e+71 -3.76731994987e+71\n",
        "calG from 0 to Nshss using quadrature, \tsimpson \tand trapezoid methods\n",
        "real (3.898448617435393e+81, 2.085352037801838e+79) 3.89996805855e+81 3.89997080294e+81\n",
        "imag "
       ]
      },
      {
       "output_type": "stream",
       "stream": "stdout",
       "text": [
        "(2.3051143131256934e+82, 1.2330478085238337e+80) 2.30601274363e+82 2.30601436636e+82\n",
        "calG from Nics to Nshss using quadrature, \tsimpson \ttrapezoid \tand romberg methods\n",
        "real (3.893867087151663e+81, 3.985639900035887e+78) 3.89996805437e+81 "
       ]
      },
      {
       "output_type": "stream",
       "stream": "stdout",
       "text": [
        "3.89997080288e+81 3.89996805677e+81\n",
        "imag (2.3024052992681385e+82, 2.3566696786033592e+79) 2.30601274116e+82 "
       ]
      },
      {
       "output_type": "stream",
       "stream": "stdout",
       "text": [
        "2.30601436633e+82 3.89996805677e+81\n",
        "k ="
       ]
      },
      {
       "output_type": "stream",
       "stream": "stdout",
       "text": [
        " -16\n",
        "calG from Nics to 0 using quadrature, \tsimpson \tand trapezoid methods\n",
        "real (-2.0207882015481397e+66, 6.81659641801075e+61) -2.02005322889e+66 -2.02005331377e+66\n",
        "imag "
       ]
      },
      {
       "output_type": "stream",
       "stream": "stdout",
       "text": [
        "(-1.1915072474682873e+67, 4.0192356628614136e+62) -1.19107388921e+67 -1.19107393926e+67\n",
        "calG from 0 to Nshss using quadrature, \tsimpson \tand trapezoid methods\n",
        "real (1.235168209587777e+77, 1.0074319831878597e+73) "
       ]
      },
      {
       "output_type": "stream",
       "stream": "stdout",
       "text": [
        "1.23682966063e+77 1.23683049778e+77\n",
        "imag (7.282860581039449e+77, 5.94007112735114e+73) 7.29265691177e+77 7.29266184779e+77\n",
        "calG from Nics to Nshss using quadrature, \tsimpson \ttrapezoid \tand romberg methods\n",
        "real "
       ]
      },
      {
       "output_type": "stream",
       "stream": "stdout",
       "text": [
        "(1.235026172763761e+77, 1.882548275491701e+73) 1.23682966061e+77 1.23683049775e+77 1.23682935439e+77\n",
        "imag "
       ]
      },
      {
       "output_type": "stream",
       "stream": "stdout",
       "text": [
        "(7.282023096404631e+77, 1.1099975263715771e+74) 7.29265691165e+77 "
       ]
      },
      {
       "output_type": "stream",
       "stream": "stdout",
       "text": [
        "7.29266184767e+77 1.23682935439e+77\n",
        "k ="
       ]
      },
      {
       "output_type": "stream",
       "stream": "stdout",
       "text": [
        " -15\n",
        "calG from Nics to 0 using quadrature, \tsimpson \tand trapezoid methods\n",
        "real (-6.405881547700964e+61, 2.56412245853652e+57) -6.40367737756e+61 -6.40367763546e+61\n",
        "imag "
       ]
      },
      {
       "output_type": "stream",
       "stream": "stdout",
       "text": [
        "(-3.7678248807973187e+62, 1.5081709514056246e+58) -3.76652842737e+62 -3.76652857906e+62\n",
        "calG from 0 to Nshss using quadrature, \tsimpson \tand trapezoid methods\n",
        "real (3.9159669492995734e+72, 7.581294291207622e+68) "
       ]
      },
      {
       "output_type": "stream",
       "stream": "stdout",
       "text": [
        "3.92095877962e+72 3.92096132335e+72\n",
        "imag (2.3033016758238627e+73, 4.459181712730052e+69) 2.30623778108e+73 2.30623927726e+73\n",
        "calG from Nics to Nshss using quadrature, \tsimpson \ttrapezoid \tand romberg methods\n",
        "real "
       ]
      },
      {
       "output_type": "stream",
       "stream": "stdout",
       "text": [
        "(3.915059699747321e+72, 3.751564892686173e+69) 3.92095877956e+72 3.92096132328e+72 3.92095918614e+72\n",
        "imag "
       ]
      },
      {
       "output_type": "stream",
       "stream": "stdout",
       "text": [
        "(2.3027680478742856e+73, 2.2066033237542824e+70) 2.30623778104e+73 2.30623927722e+73 3.92095918614e+72\n",
        "k ="
       ]
      },
      {
       "output_type": "stream",
       "stream": "stdout",
       "text": [
        " -14\n",
        "calG from Nics to 0 using quadrature, \tsimpson \tand trapezoid methods\n",
        "real (-2.0305042555778214e+57, 4.0824532288278627e+52) -2.029824454e+57 "
       ]
      },
      {
       "output_type": "stream",
       "stream": "stdout",
       "text": [
        "-2.02982453219e+57\n",
        "imag (-1.1917854684803573e+58, 2.396157688015407e+53) -1.19138646531e+58 -1.1913865112e+58\n",
        "calG from 0 to Nshss using quadrature, \tsimpson \tand trapezoid methods\n",
        "real "
       ]
      },
      {
       "output_type": "stream",
       "stream": "stdout",
       "text": [
        "(1.2409106465691747e+68, 4.0893325620554835e+64) 1.2425811804e+68 1.24258195135e+68\n",
        "imag (7.283408898067075e+68, 2.400195477764263e+65) 7.29321394001e+68 7.29321846506e+68\n",
        "calG from Nics to Nshss using quadrature, \tsimpson \ttrapezoid \tand romberg methods\n",
        "real "
       ]
      },
      {
       "output_type": "stream",
       "stream": "stdout",
       "text": [
        "(1.240751658568212e+68, 1.9339568534200646e+64) 1.24258118038e+68 1.24258195133e+68 1.24258113027e+68\n",
        "imag "
       ]
      },
      {
       "output_type": "stream",
       "stream": "stdout",
       "text": [
        "(7.282475732871553e+68, 1.1351178819727788e+65) "
       ]
      },
      {
       "output_type": "stream",
       "stream": "stdout",
       "text": [
        "7.29321393989e+68 7.29321846494e+68 1.24258113027e+68\n",
        "k ="
       ]
      },
      {
       "output_type": "stream",
       "stream": "stdout",
       "text": [
        " -13\n",
        "calG from Nics to 0 using quadrature, \tsimpson \tand trapezoid methods\n",
        "real (-6.434464968531669e+52, 1.5563314332457218e+48) -6.4322349049e+52 -6.43223514125e+52\n",
        "imag (-3.7698311290602413e+53, 9.118250882704946e+48) "
       ]
      },
      {
       "output_type": "stream",
       "stream": "stdout",
       "text": [
        "-3.76852457702e+53 -3.7685247155e+53\n",
        "calG from 0 to Nshss using quadrature, \tsimpson \tand trapezoid methods\n",
        "real (3.931172228363414e+63, 3.0138579241567823e+59) 3.93669333792e+63 3.93669566809e+63\n",
        "imag (2.3031993355568118e+64, 1.7657622985736993e+60) "
       ]
      },
      {
       "output_type": "stream",
       "stream": "stdout",
       "text": [
        "2.30643404905e+64 2.30643541426e+64\n",
        "calG from Nics to Nshss using quadrature, \tsimpson \ttrapezoid \tand romberg methods\n",
        "real (3.930983586487667e+63, 4.134236975174066e+60) 3.93669333786e+63 3.93669566803e+63 "
       ]
      },
      {
       "output_type": "stream",
       "stream": "stdout",
       "text": [
        "3.93669391038e+63\n",
        "imag (2.303088813859084e+64, 2.4221710934700043e+61) 2.30643404901e+64 "
       ]
      },
      {
       "output_type": "stream",
       "stream": "stdout",
       "text": [
        "2.30643541422e+64 3.93669391038e+63\n",
        "k ="
       ]
      },
      {
       "output_type": "stream",
       "stream": "stdout",
       "text": [
        " -12\n",
        "calG from Nics to 0 using quadrature, \tsimpson \tand trapezoid methods\n",
        "real (-2.0377280292874745e+48, 2.7016035955044422e+45) "
       ]
      },
      {
       "output_type": "stream",
       "stream": "stdout",
       "text": [
        "-2.03703473421e+48 -2.03703480539e+48\n",
        "imag (-1.1920403149535403e+49, 1.580397577136678e+46) "
       ]
      },
      {
       "output_type": "stream",
       "stream": "stdout",
       "text": [
        "-1.19163474774e+49 -1.19163478938e+49\n",
        "calG from 0 to Nshss using quadrature, \tsimpson \tand trapezoid methods\n",
        "real (1.245136623908344e+59, 1.916314701899169e+55) 1.24678836936e+59 1.24678907052e+59\n",
        "imag "
       ]
      },
      {
       "output_type": "stream",
       "stream": "stdout",
       "text": [
        "(7.283862380019364e+59, 1.1210153363424547e+56) 7.29352484304e+59 7.2935289447e+59\n",
        "calG from Nics to Nshss using quadrature, \tsimpson \ttrapezoid \tand romberg methods\n",
        "real "
       ]
      },
      {
       "output_type": "stream",
       "stream": "stdout",
       "text": [
        "(1.2450467330407906e+59, 1.5065854920482417e+55) 1.2467883684e+59 1.2467890705e+59 1.24678819162e+59\n",
        "imag "
       ]
      },
      {
       "output_type": "stream",
       "stream": "stdout",
       "text": [
        "(7.283336531936448e+59, 8.813299018537845e+55) 7.29352483742e+59 7.29352894458e+59 1.24678819162e+59\n",
        "k ="
       ]
      },
      {
       "output_type": "stream",
       "stream": "stdout",
       "text": [
        " -11\n",
        "calG from Nics to 0 using quadrature, \tsimpson \tand trapezoid methods\n",
        "real (-6.451437587399194e+43, 6.093866511228533e+37) -6.44941688881e+43 -6.44941710263e+43\n",
        "imag "
       ]
      },
      {
       "output_type": "stream",
       "stream": "stdout",
       "text": [
        "(-3.769156712065843e+44, 3.560251014515851e+38) -3.76797614889e+44 -3.76797627381e+44\n",
        "calG from 0 to Nshss using quadrature, \tsimpson \tand trapezoid methods\n",
        "real (3.94265786741473e+54, 3.569630593815051e+50) 3.94780249064e+54 3.947804599e+54\n",
        "imag "
       ]
      },
      {
       "output_type": "stream",
       "stream": "stdout",
       "text": [
        "(2.3034393750380686e+55, 2.0855033826218872e+51) 2.30644504484e+55 2.30644627661e+55\n",
        "calG from Nics to Nshss using quadrature, \tsimpson \ttrapezoid \tand romberg methods\n",
        "real (3.9424435748911585e+54, 1.9360800298978991e+52) 3.94780249058e+54 3.94780459893e+54 "
       ]
      },
      {
       "output_type": "stream",
       "stream": "stdout",
       "text": [
        "3.94780294284e+54\n",
        "imag (2.3033141777987983e+55, 1.1311260436255722e+53) 2.3064450448e+55 "
       ]
      },
      {
       "output_type": "stream",
       "stream": "stdout",
       "text": [
        "2.30644627657e+55 3.94780294284e+54\n",
        "k ="
       ]
      },
      {
       "output_type": "stream",
       "stream": "stdout",
       "text": [
        " -10\n",
        "calG from Nics to 0 using quadrature, \tsimpson \tand trapezoid methods\n",
        "real (-2.0416798950508348e+39, 2.1522895270449404e+35) -2.04122416295e+39 -2.0412242269e+39\n",
        "imag "
       ]
      },
      {
       "output_type": "stream",
       "stream": "stdout",
       "text": [
        "(-1.1915556457121062e+40, 1.256109120313058e+36) -1.19128967348e+40 -1.1912897108e+40\n",
        "calG from 0 to Nshss using quadrature, \tsimpson \tand trapezoid methods\n",
        "real (1.2484248613557592e+50, 6.239945195443552e+45) 1.24974192062e+50 1.24974255133e+50\n",
        "imag "
       ]
      },
      {
       "output_type": "stream",
       "stream": "stdout",
       "text": [
        "(7.285998629857607e+50, 3.6417276836180665e+46) 7.29368518936e+50 7.29368887032e+50\n",
        "calG from Nics to Nshss using quadrature, \tsimpson \ttrapezoid \tand romberg methods\n",
        "real (1.2481697488921165e+50, 2.267843456166153e+46) 1.2497419206e+50 1.24974255131e+50 "
       ]
      },
      {
       "output_type": "stream",
       "stream": "stdout",
       "text": [
        "1.24974187213e+50\n",
        "imag (7.284509754467848e+50, 1.3235481694013085e+47) 7.29368518924e+50 7.2936888702e+50 "
       ]
      },
      {
       "output_type": "stream",
       "stream": "stdout",
       "text": [
        "1.24974187213e+50\n",
        "k ="
       ]
      },
      {
       "output_type": "stream",
       "stream": "stdout",
       "text": [
        " -9\n",
        "calG from Nics to 0 using quadrature, \tsimpson \tand trapezoid methods\n",
        "real (-6.462766174267801e+34, 2.9512474855170796e+30) "
       ]
      },
      {
       "output_type": "stream",
       "stream": "stdout",
       "text": [
        "-6.46080005611e+34 -6.46080024654e+34\n",
        "imag (-3.768504495581099e+35, 1.720902346154398e+31) -3.76735803214e+35 -3.76735814319e+35\n",
        "calG from 0 to Nshss using quadrature, \tsimpson \tand trapezoid methods\n",
        "real "
       ]
      },
      {
       "output_type": "stream",
       "stream": "stdout",
       "text": [
        "(3.950399128057878e+45, 5.530603863392966e+41) 3.95547679375e+45 3.95547867009e+45\n",
        "imag (2.303517792844088e+46, 3.2249512317653106e+42) 2.30647863121e+46 2.30647972531e+46\n",
        "calG from Nics to Nshss using quadrature, \tsimpson \ttrapezoid \tand romberg methods\n",
        "real "
       ]
      },
      {
       "output_type": "stream",
       "stream": "stdout",
       "text": [
        "(3.950645120567405e+45, 6.433318705251841e+41) 3.95547679138e+45 3.95547867002e+45 3.95547639619e+45\n",
        "imag (2.3036612335729586e+46, 3.751333419889807e+42) "
       ]
      },
      {
       "output_type": "stream",
       "stream": "stdout",
       "text": [
        "2.30647862982e+46 2.30647972528e+46 3.95547639619e+45\n",
        "k ="
       ]
      },
      {
       "output_type": "stream",
       "stream": "stdout",
       "text": [
        " -8\n",
        "calG from Nics to 0 using quadrature, \tsimpson \tand trapezoid methods\n",
        "real (-2.045804636021563e+30, 3.040856969883389e+27) -2.04520672456e+30 -2.04520678104e+30\n",
        "imag "
       ]
      },
      {
       "output_type": "stream",
       "stream": "stdout",
       "text": [
        "(-1.1921011126633012e+31, 1.7719233318803317e+28) -1.19175270651e+31 -1.19175273942e+31\n",
        "calG from 0 to Nshss using quadrature, \tsimpson \tand trapezoid methods\n",
        "real (1.2502475410828059e+41, 2.500196647386269e+37) 1.25170657278e+41 1.25170712956e+41\n",
        "imag "
       ]
      },
      {
       "output_type": "stream",
       "stream": "stdout",
       "text": [
        "(7.285258125762035e+41, 1.4568778170595544e+38) 7.29375998016e+41 7.29376322454e+41\n",
        "calG from Nics to Nshss using quadrature, \tsimpson \ttrapezoid \tand romberg methods\n",
        "real (1.25012384166094e+41, 1.6335733079628719e+38) 1.25170657276e+41 1.25170712954e+41 1.25170659936e+41\n",
        "imag "
       ]
      },
      {
       "output_type": "stream",
       "stream": "stdout",
       "text": [
        "(7.284537322729671e+41, 9.518917397717532e+38) 7.29375998004e+41 7.29376322443e+41 1.25170659936e+41\n",
        "k ="
       ]
      },
      {
       "output_type": "stream",
       "stream": "stdout",
       "text": [
        " -7\n",
        "calG from Nics to 0 using quadrature, \tsimpson \tand trapezoid methods\n",
        "real (-6.47195470453458e+25, 9.720111213214811e+20) -6.4701521696e+25 "
       ]
      },
      {
       "output_type": "stream",
       "stream": "stdout",
       "text": [
        "-6.47015233593e+25\n",
        "imag (-3.769183319308361e+26, 5.660868379951732e+21) -3.76813354611e+26 -3.76813364297e+26\n",
        "calG from 0 to Nshss using quadrature, \tsimpson \tand trapezoid methods\n",
        "real "
       ]
      },
      {
       "output_type": "stream",
       "stream": "stdout",
       "text": [
        "(3.955914372277824e+36, 2.5847319512917386e+32) 3.96041885481e+36 3.96042049343e+36\n",
        "imag (2.303873736040397e+37, 1.5053147582808227e+33) 2.30649708883e+37"
       ]
      },
      {
       "output_type": "stream",
       "stream": "stdout",
       "text": [
        " 2.30649804314e+37\n",
        "calG from Nics to Nshss using quadrature, \tsimpson \ttrapezoid \tand romberg methods\n",
        "real (3.955888601046077e+36, 4.7986822570083724e+32) 3.96041885286e+36 "
       ]
      },
      {
       "output_type": "stream",
       "stream": "stdout",
       "text": [
        "3.96042049336e+36 3.96041881795e+36\n",
        "imag (2.3038587272024e+37, 2.794690859459658e+33) 2.30649708769e+37 2.3064980431e+37 3.96041881795e+36\n",
        "k ="
       ]
      },
      {
       "output_type": "stream",
       "stream": "stdout",
       "text": [
        " -6\n",
        "calG from Nics to 0 using quadrature, \tsimpson \tand trapezoid methods\n",
        "real (-2.0471992427565314e+21, 1.1418776442551124e+18) -2.04664475033e+21 -2.04664479899e+21\n",
        "imag "
       ]
      },
      {
       "output_type": "stream",
       "stream": "stdout",
       "text": [
        "(-1.1917631788979795e+22, 6.647363211864925e+18) -1.19144038489e+22 -1.19144041321e+22\n",
        "calG from 0 to Nshss using quadrature, \tsimpson \tand trapezoid methods\n",
        "real (1.2514264481500537e+32, 5.291912753897028e+28) 1.25291622702e+32 1.25291670648e+32\n",
        "imag "
       ]
      },
      {
       "output_type": "stream",
       "stream": "stdout",
       "text": [
        "(7.285094341855919e+32, 3.0806511857780665e+29) 7.2937669887e+32 7.29376977981e+32\n",
        "calG from Nics to Nshss using quadrature, \tsimpson \ttrapezoid \tand romberg methods\n",
        "real (1.2514471848310728e+32, 1.719224665408742e+29) 1.25291622647e+32 1.25291670646e+32 "
       ]
      },
      {
       "output_type": "stream",
       "stream": "stdout",
       "text": [
        "1.25291626804e+32\n",
        "imag (7.2852150590326e+32, 1.0008349993249547e+30) 7.29376698549e+32 7.29376977969e+32 1.25291626804e+32\n"
       ]
      }
     ],
     "prompt_number": 14
    },
    {
     "cell_type": "code",
     "collapsed": false,
     "input": [],
     "language": "python",
     "metadata": {},
     "outputs": []
    },
    {
     "cell_type": "code",
     "collapsed": false,
     "input": [],
     "language": "python",
     "metadata": {},
     "outputs": []
    }
   ],
   "metadata": {}
  }
 ]
}