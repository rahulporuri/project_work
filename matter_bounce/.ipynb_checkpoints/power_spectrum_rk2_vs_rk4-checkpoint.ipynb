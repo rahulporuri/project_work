{
 "metadata": {
  "name": "",
  "signature": "sha256:c260eef732dd636770f04daf9e645b57b04547b8e4f01c26439091c30b118d32"
 },
 "nbformat": 3,
 "nbformat_minor": 0,
 "worksheets": [
  {
   "cells": [
    {
     "cell_type": "code",
     "collapsed": false,
     "input": [
      "import numpy\n",
      "import matplotlib.pyplot as plt\n",
      "import scipy.optimize as opt\n",
      "%matplotlib inline"
     ],
     "language": "python",
     "metadata": {},
     "outputs": [],
     "prompt_number": 1
    },
    {
     "cell_type": "code",
     "collapsed": false,
     "input": [
      "import time\n",
      "import multiprocessing as mp\n",
      "import random\n",
      "import string"
     ],
     "language": "python",
     "metadata": {},
     "outputs": [],
     "prompt_number": 2
    },
    {
     "cell_type": "code",
     "collapsed": false,
     "input": [
      "parallel_output = mp.Queue()"
     ],
     "language": "python",
     "metadata": {},
     "outputs": [],
     "prompt_number": 3
    },
    {
     "cell_type": "code",
     "collapsed": false,
     "input": [
      "def DDhk(k0, N, hk0, Dhk0):\n",
      "    return -((3.*N -(1./N) +(DH(N)/H(N)))*Dhk0 +(((k0*N)/(A(N)*H(N)))**2)*hk0)\n",
      " \n",
      "def rk4_step(k0, N, hk0, Dhk0, step):\n",
      "    F1 = Dhk0\n",
      "    f1 = DDhk(k0, N, hk0, Dhk0)\n",
      "    F2 = Dhk0 +f1*step/2.\n",
      "    f2 = DDhk(k0, N +step/2., hk0 +F1*step/2., Dhk0 +f1*step/2.)\n",
      "    F3 = Dhk0 +f2*step/2.\n",
      "    f3 = DDhk(k0, N +step/2., hk0 +F2*step/2., Dhk0 +f2*step/2.)\n",
      "    F4 = Dhk0 +f3*step\n",
      "    f4 = DDhk(k0, N +step, hk0 +F3*step, Dhk0 +f3*step)    \n",
      " \n",
      "    return [numpy.array([(f1 +2*f2 +2*f3 +f4)*step/6.], dtype=complex), numpy.array([(F1 +2*F2 +2*F3 +F4)*step/6.], dtype=complex)] # [Dhk, hk] update\n",
      "\n",
      "def rk2_step(k0, N, hk0, Dhk0, step):\n",
      "    F1 = Dhk0\n",
      "    f1 = DDhk(k0, N, hk0, Dhk0)\n",
      "    F2 = Dhk0 +f1*step\n",
      "    f2 = DDhk(k0, N +step, hk0 +F1*step, Dhk0 +f1*step)    \n",
      " \n",
      "    return [numpy.array([(f1 +f2)*step/2.], dtype=complex), numpy.array([(F1 +F2)*step/2.], dtype=complex)] # [Dhk, hk] update"
     ],
     "language": "python",
     "metadata": {},
     "outputs": [],
     "prompt_number": 20
    },
    {
     "cell_type": "code",
     "collapsed": false,
     "input": [
      "A = lambda N : a0*numpy.exp(N**2/2.)\n",
      "an = lambda n : a0*(1.+(n/n0)**2)\n",
      "aN = lambda N : an(n(N))\n",
      "h = lambda n : (2.*a0*n/n0**2)*(1./an(n)**2)\n",
      "H = lambda N : h(n(N))\n",
      " \n",
      "fn = lambda n : (2.*a0/n0**2)*(1./an(n))\n",
      "fN = lambda N : fn(n(N))    \n",
      " \n",
      "Heavi = lambda N : (1./2)*(numpy.sign(N)+1.)\n",
      " \n",
      "nm = lambda N : -n0*((A(N)/a0)**(1./p)-1)**(1./2)\n",
      "np = lambda N : n0*((A(N)/a0)**(1./p)-1)**(1./2)\n",
      " \n",
      "DHm = lambda N : -100000.0*N*(1.0*numpy.exp(N**2/2)**1.0 - 1.0)**(-0.5)*numpy.exp(N**2/2)**1.0/(100000.0*(1.0*numpy.exp(N**2/2)**1.0 - 1)**1.0 + 100000.0)**2 + 40000000000.0*N*(1.0*numpy.exp(N**2/2)**1.0 - 1.0)**0.5*numpy.exp(N**2/2)**1.0/(100000.0*(1.0*numpy.exp(N**2/2)**1.0 - 1)**1.0 + 100000.0)**3\n",
      "DHp = lambda N : 100000.0*N*(1.0*numpy.exp(N**2/2)**1.0 - 1.0)**(-0.5)*numpy.exp(N**2/2)**1.0/(100000.0*(1.0*numpy.exp(N**2/2)**1.0 - 1)**1.0 + 100000.0)**2 - 40000000000.0*N*(1.0*numpy.exp(N**2/2)**1.0 - 1.0)**0.5*numpy.exp(N**2/2)**1.0/(100000.0*(1.0*numpy.exp(N**2/2)**1.0 - 1)**1.0 + 100000.0)**3\n",
      " \n",
      "n = lambda N : Heavi(N)*np(N) + Heavi(-N)*nm(N)\n",
      "DH = lambda N : Heavi(N)*DHp(N) + Heavi(-N)*DHm(N)"
     ],
     "language": "python",
     "metadata": {},
     "outputs": [],
     "prompt_number": 5
    },
    {
     "cell_type": "code",
     "collapsed": false,
     "input": [
      "tps_file = open('power_spectrum_bouncing_model.dat','w')\n",
      " \n",
      "a0 = 1e+05\n",
      "n0 = 1\n",
      "#k0 = 1./n0\n",
      "p = 1\n",
      "k_min = 1e-10\n",
      "k_max = 1e-4\n",
      " \n",
      "print 'lift off!' "
     ],
     "language": "python",
     "metadata": {},
     "outputs": [
      {
       "output_type": "stream",
       "stream": "stdout",
       "text": [
        "lift off!\n"
       ]
      }
     ],
     "prompt_number": 6
    },
    {
     "cell_type": "code",
     "collapsed": false,
     "input": [
      "Nshss = numpy.array([7])\n",
      "for i in range(200):\n",
      "    Nshss = opt.newton_krylov(lambda N : (k_max)**2 - 1e+04*fN(N),Nshss)\n",
      " \n",
      "print Nshss"
     ],
     "language": "python",
     "metadata": {},
     "outputs": [
      {
       "output_type": "stream",
       "stream": "stdout",
       "text": [
        "[ 7.52650892]\n"
       ]
      },
      {
       "output_type": "stream",
       "stream": "stderr",
       "text": [
        "/usr/local/lib/python2.7/dist-packages/scipy/optimize/nonlin.py:474: RuntimeWarning: invalid value encountered in double_scalars\n",
        "  and dx_norm/self.x_rtol <= x_norm))\n"
       ]
      }
     ],
     "prompt_number": 7
    },
    {
     "cell_type": "code",
     "collapsed": false,
     "input": [],
     "language": "python",
     "metadata": {},
     "outputs": []
    },
    {
     "cell_type": "markdown",
     "metadata": {},
     "source": [
      "rk2 vs rk4\n",
      "==="
     ]
    },
    {
     "cell_type": "code",
     "collapsed": false,
     "input": [
      "k_vs_hk = numpy.empty(0,dtype=complex)\n",
      "hk_array_rk2 = numpy.empty(0,dtype=complex)\n",
      "hk_array_rk4 = numpy.empty(0,dtype=complex)\n",
      "    \n",
      "k0 = k_min\n",
      "for i in range(1):\n",
      "    print 'k0 = ', k0\n",
      " \n",
      "    Nics = numpy.array([-1])\n",
      "    for i in range(200):\n",
      "        Nics = opt.newton_krylov(lambda N : (k0)**2 - 1e+04*fN(N),Nics)\n",
      " \n",
      "    print Nics\n",
      "    \n",
      "    hk0 = numpy.zeros(1,dtype=complex)\n",
      "    hk0.real = (((2.*k0)**(1./2))*A(Nics))**(-1.)\n",
      "    hk_array_rk2 = numpy.append(hk_array_rk2, hk0)\n",
      "    hk_array_rk4 = numpy.append(hk_array_rk4, hk0)\n",
      "    \n",
      "    Dhk0 = numpy.zeros(1,dtype=complex)\n",
      "    Dhk0.real = -(Nics/A(Nics))*((2*k0)**(-1./2))\n",
      "    Dhk0.imag = -Nics*((k0/2)**(1./2))/(A(Nics)*A(Nics)*H(Nics))\n",
      " \n",
      "    print 'got Nics, hk0 and Dhk0'\n",
      " \n",
      "    npts = 10000\n",
      "    step = (Nshss-Nics)/(npts)\n",
      "    print 'starting from Nics'\n",
      " \n",
      "    N = Nics\n",
      "    \n",
      "    rk4_hk0 = hk0\n",
      "    rk2_hk0 = hk0\n",
      "\n",
      "    rk4_Dhk0 = Dhk0\n",
      "    rk2_Dhk0 = Dhk0\n",
      "\n",
      "    while N < Nshss:\n",
      "        rk4_array = rk4_step(k0, N, rk4_hk0, rk4_Dhk0, step)\n",
      "        rk2_array = rk2_step(k0, N, rk2_hk0, rk2_Dhk0, step)\n",
      "        rk4_hk0 = rk4_hk0 + rk4_array[1]\n",
      "        rk2_hk0 = rk2_hk0 + rk2_array[1]\n",
      "        hk_array_rk4 = numpy.append(hk_array_rk4, rk4_hk0)\n",
      "        hk_array_rk2 = numpy.append(hk_array_rk2, rk2_hk0)\n",
      "        rk4_Dhk0 = rk4_Dhk0 + rk4_array[0]\n",
      "        rk2_Dhk0 = rk2_Dhk0 + rk2_array[0]\n",
      "        N += step\n",
      "\n",
      "    #k_vs_hk = numpy.append(k_vs_hk, hk0)\n",
      "\n",
      "    #temp = 8*(k0)**3/(2*numpy.pi**2)*(numpy.absolute(hk0))**2\n",
      "    #tps_file.write(str(k0)+\"\\t\"+str(temp).strip('[]')+\"\\n\")  \n",
      " \n",
      "    print N, temp\n",
      "    print '\\n'\n",
      "    \n",
      "    k0 = 10*k0\n",
      " \n",
      "tps_file.close()"
     ],
     "language": "python",
     "metadata": {},
     "outputs": [
      {
       "output_type": "stream",
       "stream": "stdout",
       "text": [
        "k0 =  1e-10\n",
        "[-10.57877019]"
       ]
      },
      {
       "output_type": "stream",
       "stream": "stdout",
       "text": [
        "\n",
        "got Nics, hk0 and Dhk0\n",
        "starting from Nics\n",
        "[ 7.52650892]"
       ]
      },
      {
       "output_type": "stream",
       "stream": "stdout",
       "text": [
        " [[[[[[[[[[[[[[[[[[[[[[[[[[[[[[[[  1.24843443e-10]]]]]]]]]]]]]]]]]]]]]]]]]]]]]]]]\n",
        "\n",
        "\n"
       ]
      }
     ],
     "prompt_number": 18
    },
    {
     "cell_type": "code",
     "collapsed": false,
     "input": [
      "plt.cla()\n",
      "plt.hold(True)\n",
      "rk2,= plt.semilogy(numpy.absolute(hk_array_rk2))\n",
      "rk4,= plt.semilogy(numpy.absolute(hk_array_rk4))\n",
      "#plt.legend([rk2, rk4],['rk2', 'rk4'])"
     ],
     "language": "python",
     "metadata": {},
     "outputs": [
      {
       "metadata": {},
       "output_type": "display_data",
       "png": "[encoded data removed]",
       "text": [
        "<matplotlib.figure.Figure at 0xaea101ec>"
       ]
      }
     ],
     "prompt_number": 23
    },
    {
     "cell_type": "markdown",
     "metadata": {},
     "source": [
      "to obtain expression for DH using sympy\n",
      "==="
     ]
    },
    {
     "cell_type": "code",
     "collapsed": false,
     "input": [
      "import sympy as sym\n",
      "from sympy.functions import exp\n",
      "x = sym.symbols('x')"
     ],
     "language": "python",
     "metadata": {},
     "outputs": [],
     "prompt_number": 2
    },
    {
     "cell_type": "code",
     "collapsed": false,
     "input": [
      "A = lambda N : a0*exp(x**2/2).subs(x,N).evalf()\n",
      "an = lambda n : a0*((1+(n/n0)**2)**p)\n",
      "\n",
      "nm = lambda N : -n0*((A(N)/a0)**(1./p)-1)**(1./2)\n",
      "n = lambda N : nm(N)\n",
      "\n",
      "aN = lambda N : an(n(N))\n",
      "\n",
      "h = lambda n : (sym.diff(an(x),x).subs(x,n).evalf())/(an(n)**2)\n",
      "H = lambda N : h(n(N))"
     ],
     "language": "python",
     "metadata": {},
     "outputs": [],
     "prompt_number": 3
    },
    {
     "cell_type": "code",
     "collapsed": false,
     "input": [
      "sym.diff(H(x),x) # DHm"
     ],
     "language": "python",
     "metadata": {},
     "outputs": [
      {
       "metadata": {},
       "output_type": "pyout",
       "prompt_number": 6,
       "text": [
        "-100000.0*x*(1.0*exp(x**2/2)**1.0 - 1.0)**(-0.5)*exp(x**2/2)**1.0/(100000.0*(1.0*exp(x**2/2)**1.0 - 1)**1.0 + 100000.0)**2 + 40000000000.0*x*(1.0*exp(x**2/2)**1.0 - 1.0)**0.5*exp(x**2/2)**1.0/(100000.0*(1.0*exp(x**2/2)**1.0 - 1)**1.0 + 100000.0)**3"
       ]
      }
     ],
     "prompt_number": 6
    },
    {
     "cell_type": "code",
     "collapsed": false,
     "input": [
      "np = lambda N : +n0*((A(N)/a0)**(1./p)-1)**(1./2)\n",
      "n = lambda N : np(N)"
     ],
     "language": "python",
     "metadata": {},
     "outputs": [],
     "prompt_number": 7
    },
    {
     "cell_type": "code",
     "collapsed": false,
     "input": [
      "sym.diff(H(x),x)"
     ],
     "language": "python",
     "metadata": {},
     "outputs": [
      {
       "metadata": {},
       "output_type": "pyout",
       "prompt_number": 8,
       "text": [
        "100000.0*x*(1.0*exp(x**2/2)**1.0 - 1.0)**(-0.5)*exp(x**2/2)**1.0/(100000.0*(1.0*exp(x**2/2)**1.0 - 1)**1.0 + 100000.0)**2 - 40000000000.0*x*(1.0*exp(x**2/2)**1.0 - 1.0)**0.5*exp(x**2/2)**1.0/(100000.0*(1.0*exp(x**2/2)**1.0 - 1)**1.0 + 100000.0)**3"
       ]
      }
     ],
     "prompt_number": 8
    },
    {
     "cell_type": "code",
     "collapsed": false,
     "input": [],
     "language": "python",
     "metadata": {},
     "outputs": []
    }
   ],
   "metadata": {}
  }
 ]
}