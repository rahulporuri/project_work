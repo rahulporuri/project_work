{
 "metadata": {
  "name": "",
  "signature": "sha256:2c86e2a2ec73ef9f74242bff354777793eebd3c194f14067b1a5dc958b724af9"
 },
 "nbformat": 3,
 "nbformat_minor": 0,
 "worksheets": [
  {
   "cells": [
    {
     "cell_type": "code",
     "collapsed": false,
     "input": [
      "import numpy\n",
      "import matplotlib.pyplot as plt\n",
      "import scipy.optimize as opt\n",
      "\n",
      "import time\n",
      "import multiprocessing as mp\n",
      "import random\n",
      "import string"
     ],
     "language": "python",
     "metadata": {},
     "outputs": [],
     "prompt_number": 1
    },
    {
     "cell_type": "code",
     "collapsed": false,
     "input": [
      "parallel_output = mp.Queue()\n",
      "tps_file = open('power_spectrum_bouncing_model_parallel.dat','w')"
     ],
     "language": "python",
     "metadata": {},
     "outputs": [],
     "prompt_number": 2
    },
    {
     "cell_type": "code",
     "collapsed": false,
     "input": [
      "A = lambda N : a0*numpy.exp(N**2/2.)\n",
      "an = lambda n : a0*(1.+(n/n0)**2)\n",
      "aN = lambda N : an(n(N))\n",
      "h = lambda n : (2.*a0*n/n0**2)*(1./an(n)**2)\n",
      "H = lambda N : h(n(N))\n",
      "\n",
      "fn = lambda n : (2.*a0/n0**2)*(1./an(n))\n",
      "fN = lambda N : fn(n(N))    \n",
      "\n",
      "Heavi = lambda N : (1./2)*(numpy.sign(N)+1.)\n",
      "\n",
      "nm = lambda N : -n0*((A(N)/a0)**(1./p)-1)**(1./2)\n",
      "np = lambda N : n0*((A(N)/a0)**(1./p)-1)**(1./2)\n",
      "\n",
      "DHm = lambda N : -100000.0*N*(1.0*numpy.exp(N**2/2)**1.0 - 1.0)**(-0.5)*numpy.exp(N**2/2)**1.0/(100000.0*(1.0*numpy.exp(N**2/2)**1.0 - 1)**1.0 + 100000.0)**2 + 40000000000.0*N*(1.0*numpy.exp(N**2/2)**1.0 - 1.0)**0.5*numpy.exp(N**2/2)**1.0/(100000.0*(1.0*numpy.exp(N**2/2)**1.0 - 1)**1.0 + 100000.0)**3\n",
      "DHp = lambda N : 100000.0*N*(1.0*numpy.exp(N**2/2)**1.0 - 1.0)**(-0.5)*numpy.exp(N**2/2)**1.0/(100000.0*(1.0*numpy.exp(N**2/2)**1.0 - 1)**1.0 + 100000.0)**2 - 40000000000.0*N*(1.0*numpy.exp(N**2/2)**1.0 - 1.0)**0.5*numpy.exp(N**2/2)**1.0/(100000.0*(1.0*numpy.exp(N**2/2)**1.0 - 1)**1.0 + 100000.0)**3\n",
      "\n",
      "n = lambda N : Heavi(N)*np(N) + Heavi(-N)*nm(N)\n",
      "DH = lambda N : Heavi(N)*DHp(N) + Heavi(-N)*DHm(N)\n",
      "\n",
      "def DDhk(k0, N, hk0, Dhk0):\n",
      "    return -((3.*N -(1./N) +(DH(N)/H(N)))*Dhk0 +(((k0*N)/(A(N)*H(N)))**2)*hk0)\n",
      "\n",
      "def rk4_step(k0, N, hk0, Dhk0, step):\n",
      "    F1 = Dhk0\n",
      "    f1 = DDhk(k0, N, hk0, Dhk0)\n",
      "    F2 = Dhk0 +f1*step/2.\n",
      "    f2 = DDhk(k0, N +step/2., hk0 +F1*step/2., Dhk0 +f1*step/2.)\n",
      "    F3 = Dhk0 +f2*step/2.\n",
      "    f3 = DDhk(k0, N +step/2., hk0 +F2*step/2., Dhk0 +f2*step/2.)\n",
      "    F4 = Dhk0 +f3*step\n",
      "    f4 = DDhk(k0, N +step, hk0 +F3*step, Dhk0 +f3*step)    \n",
      "\n",
      "    return [numpy.array([(f1 +2*f2 +2*f3 +f4)*step/6.], dtype=complex), numpy.array([(F1 +2*F2 +2*F3 +F4)*step/6.], dtype=complex)] # [Dhk, hk] update"
     ],
     "language": "python",
     "metadata": {},
     "outputs": [],
     "prompt_number": 3
    },
    {
     "cell_type": "code",
     "collapsed": false,
     "input": [
      "def solve_Nics(k0):\n",
      "    Nics = numpy.array([-5])\n",
      "    for i in range(200):\n",
      "        Nics = opt.newton_krylov(lambda N : (k0)**2 - 1e+04*fN(N),Nics)\n",
      "\n",
      "    return Nics\n",
      "\n",
      "def initialize(Nics, k0):\n",
      "    hk0 = numpy.zeros(1,dtype=complex)\n",
      "    hk0.real = (((2.*k0)**(1./2))*A(Nics))**(-1.)\n",
      "\n",
      "    Dhk0 = numpy.zeros(1,dtype=complex)\n",
      "    Dhk0.real = -(Nics/A(Nics))*((2*k0)**(-1./2))\n",
      "    Dhk0.imag = -Nics*((k0/2)**(1./2))/(A(Nics)*A(Nics)*H(Nics))\n",
      "    \n",
      "    return [hk0, Dhk0]\n",
      "\n",
      "def evolve_hk(Nics, Nshss, k0, hk0, Dhk0, step):\n",
      "    N = Nics\n",
      "    while N < Nshss:\n",
      "        array = rk4_step(k0, N, hk0, Dhk0, step)\n",
      "        hk0 = hk0 + array[1]\n",
      "        Dhk0 = Dhk0 + array[0]\n",
      "        N += step\n",
      "        \n",
      "    return hk0"
     ],
     "language": "python",
     "metadata": {},
     "outputs": [],
     "prompt_number": 4
    },
    {
     "cell_type": "code",
     "collapsed": false,
     "input": [
      "a0 = 1e+05\n",
      "n0 = 1.0\n",
      "p = 1.0\n",
      "\n",
      "k_min = 1e-30\n",
      "k_max = 1e-4\n",
      "npts = 30000\n",
      "\n",
      "Nshss = numpy.array([7])\n",
      "for i in range(200):\n",
      "    Nshss = opt.newton_krylov(lambda N : (k_max)**2 - 1e+04*fN(N),Nshss)\n",
      "\n",
      "print 'Nshss =', Nshss"
     ],
     "language": "python",
     "metadata": {},
     "outputs": [
      {
       "output_type": "stream",
       "stream": "stdout",
       "text": [
        "Nshss = [ 7.52650892]\n"
       ]
      },
      {
       "output_type": "stream",
       "stream": "stderr",
       "text": [
        "/usr/local/lib/python2.7/dist-packages/scipy/optimize/nonlin.py:474: RuntimeWarning: invalid value encountered in double_scalars\n",
        "  and dx_norm/self.x_rtol <= x_norm))\n"
       ]
      }
     ],
     "prompt_number": 5
    },
    {
     "cell_type": "code",
     "collapsed": false,
     "input": [
      "def main(k0, Nshss):\n",
      "    \n",
      "    Nics = solve_Nics(k0)\n",
      "    \n",
      "    temp_array = initialize(Nics, k0)\n",
      "    hk0 = temp_array[0]\n",
      "    Dhk0 = temp_array[1]\n",
      "\n",
      "    step = (Nshss-Nics)/(npts)\n",
      "    \n",
      "    hk0 = evolve_hk(Nics, Nshss, k0, hk0, Dhk0, step)\n",
      "    \n",
      "    tps_temp = 8*(k0)**3/(2*numpy.pi**2)*(numpy.absolute(hk0))**2\n",
      "    \n",
      "    print k0, numpy.absolute(hk0), str(tps_temp).strip('[]')\n",
      "    \n",
      "    return str(tps_temp).strip('[]')"
     ],
     "language": "python",
     "metadata": {},
     "outputs": [],
     "prompt_number": 6
    },
    {
     "cell_type": "code",
     "collapsed": false,
     "input": [
      "k_list = numpy.array([10**(-30 + i) for i in range(27)])\n",
      "\n",
      "pool = mp.Pool(processes = 4)\n",
      "temp_results = [pool.apply_async(main, args = (k,Nshss,)) for k in k_list]\n",
      "results = []\n",
      "\n",
      "for i in range(len(temp_results)):\n",
      "    results.append(temp_results[i].get())\n",
      "\n",
      "results = numpy.asarray(results, dtype=numpy.float)\n",
      "print results"
     ],
     "language": "python",
     "metadata": {},
     "outputs": []
    },
    {
     "cell_type": "code",
     "collapsed": false,
     "input": [],
     "language": "python",
     "metadata": {},
     "outputs": []
    },
    {
     "cell_type": "code",
     "collapsed": false,
     "input": [
      "data = [line.split() for line in open('fort.30')]\n",
      "data = numpy.asarray(data, dtype=numpy.float)\n",
      "\n",
      "plt.cla()\n",
      "plt.hold(True)\n",
      "plt.xlabel(r'$k$')\n",
      "plt.ylabel(r'${\\mathcal{P}}_{\\rm T}(k)$')\n",
      "plt.title(r'${\\mathcal{P}}_{\\rm T}(k)$ as a function of $k$')\n",
      "py_numerics, = plt.loglog(k_list, TPS)\n",
      "f_numerics, = plt.loglog(data[:,0], data[:,1])\n",
      "plt.legend([py_numerics, f_numerics],['python', 'fortran'], loc='lower left')\n",
      "plt.savefig('power_spectrum_matter_bounce.png')\n",
      "'''\n",
      "plt.cla()\n",
      "plt.hold(True)\n",
      "plt.xlabel(r'$k$')\n",
      "plt.ylabel(r'${\\mathcal{P}}_{\\rm T}(k)$')\n",
      "plt.title(r'${\\mathcal{P}}_{\\rm T}(k)$ as a function of $k$')\n",
      "py_numerics, = plt.loglog(k_list[:24], TPS[:24])\n",
      "f_numerics, = plt.loglog(data[:19,0], data[:19,1])\n",
      "plt.legend([py_numerics, f_numerics],['python', 'fortran'], loc='lower left')\n",
      "plt.savefig('power_spectrum_matter_bounce_2.png')\n",
      "'''"
     ],
     "language": "python",
     "metadata": {},
     "outputs": []
    },
    {
     "cell_type": "markdown",
     "metadata": {},
     "source": [
      "to obtain expression for DH using sympy\n",
      "==="
     ]
    },
    {
     "cell_type": "code",
     "collapsed": false,
     "input": [
      "import sympy as sym\n",
      "from sympy.functions import exp\n",
      "x = sym.symbols('x')"
     ],
     "language": "python",
     "metadata": {},
     "outputs": [],
     "prompt_number": 2
    },
    {
     "cell_type": "code",
     "collapsed": false,
     "input": [
      "A = lambda N : a0*exp(x**2/2).subs(x,N).evalf()\n",
      "an = lambda n : a0*((1+(n/n0)**2)**p)\n",
      "\n",
      "nm = lambda N : -n0*((A(N)/a0)**(1./p)-1)**(1./2)\n",
      "n = lambda N : nm(N)\n",
      "\n",
      "aN = lambda N : an(n(N))\n",
      "\n",
      "h = lambda n : (sym.diff(an(x),x).subs(x,n).evalf())/(an(n)**2)\n",
      "H = lambda N : h(n(N))"
     ],
     "language": "python",
     "metadata": {},
     "outputs": [],
     "prompt_number": 3
    },
    {
     "cell_type": "code",
     "collapsed": false,
     "input": [
      "sym.diff(H(x),x) # DHm"
     ],
     "language": "python",
     "metadata": {},
     "outputs": [
      {
       "metadata": {},
       "output_type": "pyout",
       "prompt_number": 6,
       "text": [
        "-100000.0*x*(1.0*exp(x**2/2)**1.0 - 1.0)**(-0.5)*exp(x**2/2)**1.0/(100000.0*(1.0*exp(x**2/2)**1.0 - 1)**1.0 + 100000.0)**2 + 40000000000.0*x*(1.0*exp(x**2/2)**1.0 - 1.0)**0.5*exp(x**2/2)**1.0/(100000.0*(1.0*exp(x**2/2)**1.0 - 1)**1.0 + 100000.0)**3"
       ]
      }
     ],
     "prompt_number": 6
    },
    {
     "cell_type": "code",
     "collapsed": false,
     "input": [
      "np = lambda N : +n0*((A(N)/a0)**(1./p)-1)**(1./2)\n",
      "n = lambda N : np(N)"
     ],
     "language": "python",
     "metadata": {},
     "outputs": [],
     "prompt_number": 7
    },
    {
     "cell_type": "code",
     "collapsed": false,
     "input": [
      "sym.diff(H(x),x)"
     ],
     "language": "python",
     "metadata": {},
     "outputs": [
      {
       "metadata": {},
       "output_type": "pyout",
       "prompt_number": 8,
       "text": [
        "100000.0*x*(1.0*exp(x**2/2)**1.0 - 1.0)**(-0.5)*exp(x**2/2)**1.0/(100000.0*(1.0*exp(x**2/2)**1.0 - 1)**1.0 + 100000.0)**2 - 40000000000.0*x*(1.0*exp(x**2/2)**1.0 - 1.0)**0.5*exp(x**2/2)**1.0/(100000.0*(1.0*exp(x**2/2)**1.0 - 1)**1.0 + 100000.0)**3"
       ]
      }
     ],
     "prompt_number": 8
    },
    {
     "cell_type": "code",
     "collapsed": false,
     "input": [],
     "language": "python",
     "metadata": {},
     "outputs": []
    }
   ],
   "metadata": {}
  }
 ]
}