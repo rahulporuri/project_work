{
 "metadata": {
  "name": "",
  "signature": "sha256:d42127cace910694a28fc04aeb71a6b5873730eafb196c1360bf724e1d351c41"
 },
 "nbformat": 3,
 "nbformat_minor": 0,
 "worksheets": [
  {
   "cells": [
    {
     "cell_type": "markdown",
     "metadata": {},
     "source": [
      "so far : \n",
      "- tried fitting hk vs N to get a better estimate of hk^3\n",
      "- tried estimating the integral using a fitted hk\n",
      "- tried fitting hk vs k as dhiraj did it\n",
      "- tried estimating the integral using trapz, simps, romb and now quad"
     ]
    },
    {
     "cell_type": "code",
     "collapsed": false,
     "input": [
      "import numpy\n",
      "import matplotlib.pyplot as plt\n",
      "import scipy.optimize as opt\n",
      "from scipy.integrate import simps\n",
      "%matplotlib inline"
     ],
     "language": "python",
     "metadata": {},
     "outputs": [],
     "prompt_number": 1
    },
    {
     "cell_type": "code",
     "collapsed": false,
     "input": [
      "from numpy.polynomial import chebyshev"
     ],
     "language": "python",
     "metadata": {},
     "outputs": [],
     "prompt_number": 2
    },
    {
     "cell_type": "code",
     "collapsed": false,
     "input": [
      "from numpy.polynomial import legendre"
     ],
     "language": "python",
     "metadata": {},
     "outputs": [],
     "prompt_number": 3
    },
    {
     "cell_type": "code",
     "collapsed": false,
     "input": [
      "from scipy.integrate import quad\n",
      "#http://docs.scipy.org/doc/scipy-0.14.0/reference/generated/scipy.integrate.quad.html"
     ],
     "language": "python",
     "metadata": {},
     "outputs": [],
     "prompt_number": 4
    },
    {
     "cell_type": "code",
     "collapsed": false,
     "input": [
      "from scipy.integrate import romb"
     ],
     "language": "python",
     "metadata": {},
     "outputs": [],
     "prompt_number": 5
    },
    {
     "cell_type": "code",
     "collapsed": false,
     "input": [
      "A = lambda N : a0*numpy.exp(N**2/2.)"
     ],
     "language": "python",
     "metadata": {},
     "outputs": [],
     "prompt_number": 6
    },
    {
     "cell_type": "code",
     "collapsed": false,
     "input": [
      "a0 = 1e+05\n",
      "n0 = 1.0\n",
      "p = 1.0\n",
      "\n",
      "#k_min = 1e-30\n",
      "#k_max = 1e-4\n",
      "#npts = 1024*64\n",
      "\n",
      "#Nshss = numpy.array([7])\n",
      "#for i in range(300):\n",
      "#    Nshss = opt.newton_krylov(lambda N : (k_max)**2 - 1e+04*fN(N),Nshss)\n",
      "\n",
      "Nshss = numpy.sqrt(2*numpy.log(10**4))\n",
      "print 'Nshss =', Nshss"
     ],
     "language": "python",
     "metadata": {},
     "outputs": [
      {
       "output_type": "stream",
       "stream": "stdout",
       "text": [
        "Nshss = 4.29193205258\n"
       ]
      }
     ],
     "prompt_number": 7
    },
    {
     "cell_type": "code",
     "collapsed": false,
     "input": [
      "k_list = [(-40 +i) for i in range(35)] \n",
      "\n",
      "for k in k_list:\n",
      "    hk_file_name = str('data_files/hk_'+str(-k)+'.dat')\n",
      "    data = numpy.loadtxt(hk_file_name)\n",
      "\n",
      "    N_array = numpy.zeros(len(data))\n",
      "    hk_array = numpy.zeros(len(data),dtype=complex)\n",
      "\n",
      "    hk_array.real = data[:,1]\n",
      "    hk_array.imag = data[:,2]\n",
      "\n",
      "    N_array = data[:,0]\n",
      "#    print hk_array[-1]\n",
      "    print len(data), len(hk_array), len(N_array)"
     ],
     "language": "python",
     "metadata": {},
     "outputs": [
      {
       "output_type": "stream",
       "stream": "stdout",
       "text": [
        "65537 65537 65537\n",
        "65537"
       ]
      },
      {
       "output_type": "stream",
       "stream": "stdout",
       "text": [
        " 65537 65537\n",
        "65537"
       ]
      },
      {
       "output_type": "stream",
       "stream": "stdout",
       "text": [
        " 65537 65537\n",
        "65537"
       ]
      },
      {
       "output_type": "stream",
       "stream": "stdout",
       "text": [
        " 65537 65537\n",
        "65537"
       ]
      },
      {
       "output_type": "stream",
       "stream": "stdout",
       "text": [
        " 65537 65537\n",
        "65537"
       ]
      },
      {
       "output_type": "stream",
       "stream": "stdout",
       "text": [
        " 65537 65537\n",
        "65537"
       ]
      },
      {
       "output_type": "stream",
       "stream": "stdout",
       "text": [
        " 65537 65537\n",
        "65537"
       ]
      },
      {
       "output_type": "stream",
       "stream": "stdout",
       "text": [
        " 65537 65537\n",
        "65537"
       ]
      },
      {
       "output_type": "stream",
       "stream": "stdout",
       "text": [
        " 65537 65537\n",
        "65537"
       ]
      },
      {
       "output_type": "stream",
       "stream": "stdout",
       "text": [
        " 65537 65537\n",
        "65537"
       ]
      },
      {
       "output_type": "stream",
       "stream": "stdout",
       "text": [
        " 65537 65537\n",
        "65537"
       ]
      },
      {
       "output_type": "stream",
       "stream": "stdout",
       "text": [
        " 65537 65537\n",
        "65537"
       ]
      },
      {
       "output_type": "stream",
       "stream": "stdout",
       "text": [
        " 65537 65537\n",
        "65537"
       ]
      },
      {
       "output_type": "stream",
       "stream": "stdout",
       "text": [
        " 65537 65537\n",
        "65537"
       ]
      },
      {
       "output_type": "stream",
       "stream": "stdout",
       "text": [
        " 65537 65537\n",
        "65537"
       ]
      },
      {
       "output_type": "stream",
       "stream": "stdout",
       "text": [
        " 65537 65537\n",
        "65537"
       ]
      },
      {
       "output_type": "stream",
       "stream": "stdout",
       "text": [
        " 65537 65537\n",
        "65537"
       ]
      },
      {
       "output_type": "stream",
       "stream": "stdout",
       "text": [
        " 65537 65537\n",
        "65537"
       ]
      },
      {
       "output_type": "stream",
       "stream": "stdout",
       "text": [
        " 65537 65537\n",
        "65537"
       ]
      },
      {
       "output_type": "stream",
       "stream": "stdout",
       "text": [
        " 65537 65537\n",
        "65537"
       ]
      },
      {
       "output_type": "stream",
       "stream": "stdout",
       "text": [
        " 65537 65537\n",
        "65537"
       ]
      },
      {
       "output_type": "stream",
       "stream": "stdout",
       "text": [
        " 65537 65537\n",
        "65537"
       ]
      },
      {
       "output_type": "stream",
       "stream": "stdout",
       "text": [
        " 65537 65537\n",
        "65537"
       ]
      },
      {
       "output_type": "stream",
       "stream": "stdout",
       "text": [
        " 65537 65537\n",
        "65537"
       ]
      },
      {
       "output_type": "stream",
       "stream": "stdout",
       "text": [
        " 65537 65537\n",
        "65537"
       ]
      },
      {
       "output_type": "stream",
       "stream": "stdout",
       "text": [
        " 65537 65537\n",
        "65537"
       ]
      },
      {
       "output_type": "stream",
       "stream": "stdout",
       "text": [
        " 65537 65537\n",
        "65537"
       ]
      },
      {
       "output_type": "stream",
       "stream": "stdout",
       "text": [
        " 65537 65537\n",
        "65537"
       ]
      },
      {
       "output_type": "stream",
       "stream": "stdout",
       "text": [
        " 65537 65537\n",
        "65537"
       ]
      },
      {
       "output_type": "stream",
       "stream": "stdout",
       "text": [
        " 65537 65537\n",
        "65537"
       ]
      },
      {
       "output_type": "stream",
       "stream": "stdout",
       "text": [
        " 65537 65537\n",
        "65537"
       ]
      },
      {
       "output_type": "stream",
       "stream": "stdout",
       "text": [
        " 65537 65537\n",
        "65537"
       ]
      },
      {
       "output_type": "stream",
       "stream": "stdout",
       "text": [
        " 65537 65537\n",
        "65537"
       ]
      },
      {
       "output_type": "stream",
       "stream": "stdout",
       "text": [
        " 65537 65537\n",
        "65537"
       ]
      },
      {
       "output_type": "stream",
       "stream": "stdout",
       "text": [
        " 65537 65537\n"
       ]
      }
     ],
     "prompt_number": 16
    },
    {
     "cell_type": "code",
     "collapsed": false,
     "input": [],
     "language": "python",
     "metadata": {},
     "outputs": []
    },
    {
     "cell_type": "code",
     "collapsed": false,
     "input": [
      "k_list = [(-30 +i) for i in range(25)] \n",
      "\n",
      "hk_test = numpy.empty(0, dtype= complex)\n",
      "\n",
      "for k in k_list:\n",
      "    hk_file_name = str('data_files/hk_'+str(-k)+'.dat')\n",
      "    data = numpy.loadtxt(hk_file_name)\n",
      "\n",
      "    N_array = numpy.zeros(len(data))\n",
      "    hk_array = numpy.zeros(len(data),dtype=complex)\n",
      "\n",
      "    hk_array.real = data[:,1]\n",
      "    hk_array.imag = data[:,2]\n",
      "\n",
      "    N_array = data[:,0]\n",
      "    \n",
      "    hk_test = numpy.append(hk_test, hk_array[-1])"
     ],
     "language": "python",
     "metadata": {},
     "outputs": [
      {
       "metadata": {},
       "output_type": "display_data",
       "png": "[encoded data removed]",
       "text": [
        "<matplotlib.figure.Figure at 0xaed8b9ec>"
       ]
      }
     ],
     "prompt_number": 7
    },
    {
     "cell_type": "code",
     "collapsed": false,
     "input": [
      "#plt.plot(k_list, (k_list**(3/2))*numpy.absolute(hk_test[-1]))\n",
      "k_list = [10**(-30 +i) for i in range(25)]\n",
      "k_list = numpy.asarray(k_list)\n",
      "plt.cla()\n",
      "plt.hold(True)\n",
      "plt.xlabel(r'${\\bf k}$')\n",
      "plt.ylabel(r'$k^{3/2}*$abs$(h_{\\bf k})$')\n",
      "plt.title(r'$k^{3/2}*$abs$(h_{\\bf k})$ vs ${\\bf k}$')\n",
      "plt.loglog(k_list, (k_list**(3./2))*numpy.abs(hk_test))\n",
      "plt.savefig('power_law_hk.png')"
     ],
     "language": "python",
     "metadata": {},
     "outputs": [
      {
       "metadata": {},
       "output_type": "display_data",
       "png": "[encoded data removed]",
       "text": [
        "<matplotlib.figure.Figure at 0xad9e678c>"
       ]
      }
     ],
     "prompt_number": 35
    },
    {
     "cell_type": "code",
     "collapsed": false,
     "input": [
      "k_list = [(-30 +i) for i in range(25)] \n",
      "\n",
      "plt.cla()\n",
      "plt.hold(True)\n",
      "plt.xlabel(r'$\\mathcal{N}$')\n",
      "plt.ylabel(r'abs$(h_{\\bf k})$')\n",
      "\n",
      "for k in k_list:\n",
      "    hk_file_name = str('data_files/hk_'+str(-k)+'.dat')\n",
      "    data = numpy.loadtxt(hk_file_name)\n",
      "\n",
      "    N_array = numpy.zeros(len(data))\n",
      "    hk_array = numpy.zeros(len(data),dtype=complex)\n",
      "\n",
      "    hk_array.real = data[:,1]\n",
      "    hk_array.imag = data[:,2]\n",
      "\n",
      "    N_array = data[:,0]\n",
      "\n",
      "    plt.semilogy(N_array, numpy.absolute(hk_array))"
     ],
     "language": "python",
     "metadata": {},
     "outputs": [
      {
       "metadata": {},
       "output_type": "display_data",
       "png": "[encoded data removed]",
       "text": [
        "<matplotlib.figure.Figure at 0xb5335a0c>"
       ]
      }
     ],
     "prompt_number": 5
    },
    {
     "cell_type": "code",
     "collapsed": false,
     "input": [
      "k_list = [(-30 +i) for i in range(25)] \n",
      "\n",
      "plt.cla()\n",
      "plt.hold(True)\n",
      "plt.xlabel(r'$\\mathcal{N}$')\n",
      "plt.ylabel(r'abs$(h_{\\bf k})$')\n",
      "\n",
      "for k in k_list:\n",
      "    hk_file_name = str('data_files/hk_'+str(-k)+'.dat')\n",
      "    data = numpy.loadtxt(hk_file_name)\n",
      "\n",
      "    N_array = numpy.zeros(len(data))\n",
      "    hk_array = numpy.zeros(len(data),dtype=complex)\n",
      "\n",
      "    hk_array.real = data[:,1]\n",
      "    hk_array.imag = data[:,2]\n",
      "\n",
      "    N_array = data[:,0]\n",
      "    \n",
      "    w = (n0/2.)*(A(N_array)**3/a0)*(A(N_array)/a0 -1.)**(-1./2)*N_array*(hk_array)**3\n",
      "\n",
      "    plt.subplot(221)\n",
      "    plt.semilogy(N_array, abs(w.real))\n",
      "    plt.subplot(222)\n",
      "    plt.semilogy(N_array, abs(w.imag))\n",
      "    plt.subplot(223)\n",
      "    plt.semilogy(N_array, w.real)\n",
      "    plt.subplot(224)\n",
      "    plt.semilogy(N_array, w.imag)"
     ],
     "language": "python",
     "metadata": {},
     "outputs": [
      {
       "metadata": {},
       "output_type": "display_data",
       "png": "[encoded data removed]",
       "text": [
        "<matplotlib.figure.Figure at 0xaef7e30c>"
       ]
      }
     ],
     "prompt_number": 6
    },
    {
     "cell_type": "code",
     "collapsed": false,
     "input": [
      "plt.subplot(121)\n",
      "plt.plot(N_array[:37500], w.real[:37500])\n",
      "plt.subplot(122)\n",
      "plt.plot(N_array[:37500], w.imag[:37500])"
     ],
     "language": "python",
     "metadata": {},
     "outputs": [
      {
       "metadata": {},
       "output_type": "pyout",
       "prompt_number": 10,
       "text": [
        "[<matplotlib.lines.Line2D at 0xaea2f5ec>]"
       ]
      },
      {
       "metadata": {},
       "output_type": "display_data",
       "png": "[encoded data removed]",
       "text": [
        "<matplotlib.figure.Figure at 0xae8b5a8c>"
       ]
      }
     ],
     "prompt_number": 10
    },
    {
     "cell_type": "markdown",
     "metadata": {},
     "source": [
      "fitting tests\n",
      "=="
     ]
    },
    {
     "cell_type": "code",
     "collapsed": false,
     "input": [
      "hk_fit_coeffs_real = chebyshev.chebfit(N_array, hk_array.real, 100)\n",
      "hk_fit_real = chebyshev.chebval(N_array, hk_fit_coeffs_real)\n",
      "hk_fit_coeffs_imag = chebyshev.chebfit(N_array, hk_array.imag, 100)\n",
      "hk_fit_imag = chebyshev.chebval(N_array, hk_fit_coeffs_imag)"
     ],
     "language": "python",
     "metadata": {},
     "outputs": [
      {
       "output_type": "stream",
       "stream": "stderr",
       "text": [
        "/usr/local/lib/python2.7/dist-packages/numpy/polynomial/chebyshev.py:1761: RankWarning: The fit may be poorly conditioned\n",
        "  warnings.warn(msg, pu.RankWarning)\n"
       ]
      }
     ],
     "prompt_number": 6
    },
    {
     "cell_type": "code",
     "collapsed": false,
     "input": [
      "plt.cla()\n",
      "plt.hold(True)\n",
      "plt.subplot(221)\n",
      "plt.plot(N_array, hk_array.real,'-')\n",
      "plt.plot(N_array, hk_fit_real,'--')\n",
      "plt.subplot(222)\n",
      "plt.plot(N_array, hk_array.imag,'-')\n",
      "plt.plot(N_array, hk_fit_imag,'--')\n",
      "plt.subplot(223)\n",
      "plt.plot(N_array[:25000], hk_array.real[:25000],'-')\n",
      "plt.plot(N_array[:25000], hk_fit_real[:25000],'--')\n",
      "plt.subplot(224)\n",
      "plt.plot(N_array[:25000], hk_array.imag[:25000],'-')\n",
      "plt.plot(N_array[:25000], hk_fit_imag[:25000],'--')"
     ],
     "language": "python",
     "metadata": {},
     "outputs": [
      {
       "metadata": {},
       "output_type": "pyout",
       "prompt_number": 9,
       "text": [
        "[<matplotlib.lines.Line2D at 0xaece58ac>]"
       ]
      },
      {
       "metadata": {},
       "output_type": "display_data",
       "png": "[encoded data removed]",
       "text": [
        "<matplotlib.figure.Figure at 0xaefb9eec>"
       ]
      }
     ],
     "prompt_number": 9
    },
    {
     "cell_type": "code",
     "collapsed": false,
     "input": [],
     "language": "python",
     "metadata": {},
     "outputs": []
    },
    {
     "cell_type": "code",
     "collapsed": false,
     "input": [
      "first_term_real = chebyshev.chebpow(hk_fit_coeffs_real, 3)\n",
      "\n",
      "temp = chebyshev.chebpow(hk_fit_coeffs_imag, 2)\n",
      "second_term_real = chebyshev.chebmul(hk_fit_coeffs_real, temp)\n",
      "\n",
      "hk_cubed_fit_real = chebyshev.chebval(N_array, first_term_real) - 3*chebyshev.chebval(N_array, second_term_real)"
     ],
     "language": "python",
     "metadata": {},
     "outputs": [],
     "prompt_number": 7
    },
    {
     "cell_type": "code",
     "collapsed": false,
     "input": [
      "plt.cla()\n",
      "plt.hold(True)\n",
      "plt.subplot(131)\n",
      "plt.plot(N_array, (hk_array**3).real,'-')\n",
      "plt.plot(N_array, hk_cubed_fit_real,'--')\n",
      "plt.subplot(132)\n",
      "plt.plot(N_array[5000:], (hk_array[5000:]**3).real,'-')\n",
      "plt.plot(N_array[5000:], hk_cubed_fit_real[5000:],'--')\n",
      "plt.subplot(133)\n",
      "plt.plot(N_array[:5000], (hk_array[:5000]**3).real,'-')\n",
      "plt.plot(N_array[:5000], hk_cubed_fit_real[:5000],'--')"
     ],
     "language": "python",
     "metadata": {},
     "outputs": [
      {
       "metadata": {},
       "output_type": "pyout",
       "prompt_number": 13,
       "text": [
        "[<matplotlib.lines.Line2D at 0xaf0c4b6c>]"
       ]
      },
      {
       "metadata": {},
       "output_type": "display_data",
       "png": "[encoded data removed]",
       "text": [
        "<matplotlib.figure.Figure at 0xaec77a6c>"
       ]
      }
     ],
     "prompt_number": 13
    },
    {
     "cell_type": "code",
     "collapsed": false,
     "input": [
      "plt.cla()\n",
      "plt.hold(True)\n",
      "plt.subplot(121)\n",
      "plt.semilogy(N_array[5000:], numpy.abs((hk_array[5000:]**3).real),'-')\n",
      "plt.semilogy(N_array[5000:], hk_cubed_fit_real[5000:],'--')\n",
      "plt.subplot(122)\n",
      "plt.semilogy(N_array[5000:], (hk_array[5000:]**3).real,'-')\n",
      "plt.semilogy(N_array[5000:], hk_cubed_fit_real[5000:],'--')"
     ],
     "language": "python",
     "metadata": {},
     "outputs": [
      {
       "metadata": {},
       "output_type": "pyout",
       "prompt_number": 26,
       "text": [
        "[<matplotlib.lines.Line2D at 0xacbead4c>]"
       ]
      },
      {
       "metadata": {},
       "output_type": "display_data",
       "png": "[encoded data removed]",
       "text": [
        "<matplotlib.figure.Figure at 0xac6c940c>"
       ]
      }
     ],
     "prompt_number": 26
    },
    {
     "cell_type": "code",
     "collapsed": false,
     "input": [
      "temp = chebyshev.chebpow(hk_fit_coeffs_real, 2)\n",
      "first_term_imag = chebyshev.chebmul(hk_fit_coeffs_imag, temp)\n",
      "\n",
      "second_term_imag = chebyshev.chebpow(hk_fit_coeffs_imag, 3)\n",
      "\n",
      "hk_cubed_fit_imag = 3*chebyshev.chebval(N_array, first_term_imag) - chebyshev.chebval(N_array, second_term_imag)"
     ],
     "language": "python",
     "metadata": {},
     "outputs": [],
     "prompt_number": 8
    },
    {
     "cell_type": "code",
     "collapsed": false,
     "input": [
      "plt.cla()\n",
      "plt.hold(True)\n",
      "plt.subplot(131)\n",
      "plt.plot(N_array, (hk_array**3).imag,'-')\n",
      "plt.plot(N_array, hk_cubed_fit_imag,'--')\n",
      "plt.subplot(132)\n",
      "plt.plot(N_array[5000:], (hk_array**3).imag[5000:],'-')\n",
      "plt.plot(N_array[5000:], hk_cubed_fit_imag[5000:],'--')\n",
      "plt.subplot(133)\n",
      "plt.plot(N_array[:5000], (hk_array**3).imag[:5000],'-')\n",
      "plt.plot(N_array[:5000], hk_cubed_fit_imag[:5000],'--')"
     ],
     "language": "python",
     "metadata": {},
     "outputs": [
      {
       "metadata": {},
       "output_type": "pyout",
       "prompt_number": 16,
       "text": [
        "[<matplotlib.lines.Line2D at 0xaebc6bac>]"
       ]
      },
      {
       "metadata": {},
       "output_type": "display_data",
       "png": "[encoded data removed]",
       "text": [
        "<matplotlib.figure.Figure at 0xaf03e9ac>"
       ]
      }
     ],
     "prompt_number": 16
    },
    {
     "cell_type": "code",
     "collapsed": false,
     "input": [
      "calG_real = (n0/2.)*(A(N_array)**3/a0)*(A(N_array)/a0 -1.)**(-1./2)*N_array*(hk_cubed_fit_real)\n",
      "calG_imag = (n0/2.)*(A(N_array)**3/a0)*(A(N_array)/a0 -1.)**(-1./2)*N_array*(hk_cubed_fit_imag)\n",
      "w = (n0/2.)*(A(N_array)**3/a0)*(A(N_array)/a0 -1.)**(-1./2)*N_array*(hk_array**3)\n",
      "print simps(calG_real, N_array), simps(calG_imag, N_array), simps(w, N_array)"
     ],
     "language": "python",
     "metadata": {},
     "outputs": [
      {
       "output_type": "stream",
       "stream": "stdout",
       "text": [
        "5.38653479362e+79 6.13478791995e+79 (9.47670021619e+24+5.52311576839e+25j)\n"
       ]
      }
     ],
     "prompt_number": 9
    },
    {
     "cell_type": "code",
     "collapsed": false,
     "input": [
      "plt.cla()\n",
      "plt.hold(True)\n",
      "plt.subplot(121)\n",
      "plt.semilogy(N_array, numpy.abs(calG_real), label = 'fit')\n",
      "plt.semilogy(N_array, numpy.abs(w.real), label = 'est')\n",
      "plt.subplot(122)\n",
      "plt.semilogy(N_array, numpy.abs(calG_imag), label = 'fit')\n",
      "plt.semilogy(N_array, numpy.abs(w.imag), label = 'est')\n",
      "plt.legend()"
     ],
     "language": "python",
     "metadata": {},
     "outputs": [
      {
       "metadata": {},
       "output_type": "pyout",
       "prompt_number": 26,
       "text": [
        "<matplotlib.legend.Legend at 0xacca894c>"
       ]
      },
      {
       "metadata": {},
       "output_type": "display_data",
       "png": "[encoded data removed]",
       "text": [
        "<matplotlib.figure.Figure at 0xad2578ac>"
       ]
      }
     ],
     "prompt_number": 26
    },
    {
     "cell_type": "code",
     "collapsed": false,
     "input": [
      "plt.cla()\n",
      "plt.hold(True)\n",
      "plt.subplot(221)\n",
      "plt.semilogy(N_array, numpy.abs(w.real), label = 'est')\n",
      "plt.subplot(222)\n",
      "plt.semilogy(N_array, numpy.abs(w.imag), label = 'est')\n",
      "plt.subplot(223)\n",
      "plt.semilogy(N_array, w.real, label = 'est')\n",
      "plt.subplot(224)\n",
      "plt.semilogy(N_array, w.imag, label = 'est')"
     ],
     "language": "python",
     "metadata": {},
     "outputs": [
      {
       "metadata": {},
       "output_type": "pyout",
       "prompt_number": 28,
       "text": [
        "[<matplotlib.lines.Line2D at 0xaba7ff2c>]"
       ]
      },
      {
       "metadata": {},
       "output_type": "display_data",
       "png": "[encoded data removed]",
       "text": [
        "<matplotlib.figure.Figure at 0xac4d98ec>"
       ]
      }
     ],
     "prompt_number": 28
    },
    {
     "cell_type": "code",
     "collapsed": false,
     "input": [
      "len(w)"
     ],
     "language": "python",
     "metadata": {},
     "outputs": [
      {
       "metadata": {},
       "output_type": "pyout",
       "prompt_number": 32,
       "text": [
        "45001"
       ]
      }
     ],
     "prompt_number": 32
    },
    {
     "cell_type": "code",
     "collapsed": false,
     "input": [
      "i = 0\n",
      "while (w.real[i] > 0):\n",
      "    i += 1\n",
      "    \n",
      "print i, w.real[i]"
     ],
     "language": "python",
     "metadata": {},
     "outputs": [
      {
       "output_type": "stream",
       "stream": "stdout",
       "text": [
        "0 -0.000108302973001\n"
       ]
      }
     ],
     "prompt_number": 11
    },
    {
     "cell_type": "code",
     "collapsed": false,
     "input": [
      "print numpy.where(w.real<0)[0][-1], w.real[5600:5650]"
     ],
     "language": "python",
     "metadata": {},
     "outputs": [
      {
       "output_type": "stream",
       "stream": "stdout",
       "text": [
        "35568 [  2.63713191e-03   2.57840544e-03   2.51947761e-03   2.46034776e-03\n",
        "   2.40101516e-03   2.34147914e-03   2.28173897e-03   2.22179397e-03\n",
        "   2.16164343e-03   2.10128663e-03   2.04072287e-03   1.97995143e-03\n",
        "   1.91897160e-03   1.85778266e-03   1.79638389e-03   1.73477456e-03\n",
        "   1.67295395e-03   1.61092133e-03   1.54867597e-03   1.48621714e-03\n",
        "   1.42354410e-03   1.36065611e-03   1.29755243e-03   1.23423232e-03\n",
        "   1.17069504e-03   1.10693983e-03   1.04296594e-03   9.78772616e-04\n",
        "   9.14359109e-04   8.49724655e-04   7.84868494e-04   7.19789861e-04\n",
        "   6.54487990e-04   5.88962112e-04   5.23211454e-04   4.57235241e-04\n",
        "   3.91032697e-04   3.24603041e-04   2.57945491e-04   1.91059262e-04\n",
        "   1.23943565e-04   5.65976105e-05  -1.09793959e-05  -7.87882500e-05\n",
        "  -1.46829751e-04  -2.15104699e-04  -2.83613901e-04  -3.52358161e-04\n",
        "  -4.21338291e-04  -4.90555103e-04]\n"
       ]
      }
     ],
     "prompt_number": 30
    },
    {
     "cell_type": "code",
     "collapsed": false,
     "input": [
      "print simps(w,N_array), simps(w[0:5600],N_array[0:5600]), simps(w[5600:35000],N_array[5600:35000]), simps(w[36000:],N_array[36000:])"
     ],
     "language": "python",
     "metadata": {},
     "outputs": [
      {
       "output_type": "stream",
       "stream": "stdout",
       "text": [
        "(9.47670021619e+24+5.52311576839e+25j) (0.00407904868663-0.0114185341329j) (-1.40510393568e+21-8.18908641863e+21j) (9.47807259991e+24+5.52391560736e+25j)\n"
       ]
      }
     ],
     "prompt_number": 31
    },
    {
     "cell_type": "code",
     "collapsed": false,
     "input": [
      "print simps(w,N_array), romb(w[0:1024*4 +1], 0.00043155), romb(w[5600:1024*32],0.00043155), romb(w[1024*32:], 0.00043155)"
     ],
     "language": "python",
     "metadata": {},
     "outputs": [
      {
       "ename": "NameError",
       "evalue": "name 'w' is not defined",
       "output_type": "pyerr",
       "traceback": [
        "\u001b[0;31m---------------------------------------------------------------------------\u001b[0m\n\u001b[0;31mNameError\u001b[0m                                 Traceback (most recent call last)",
        "\u001b[0;32m<ipython-input-37-f989cb856d57>\u001b[0m in \u001b[0;36m<module>\u001b[0;34m()\u001b[0m\n\u001b[0;32m----> 1\u001b[0;31m \u001b[0;32mprint\u001b[0m \u001b[0msimps\u001b[0m\u001b[0;34m(\u001b[0m\u001b[0mw\u001b[0m\u001b[0;34m,\u001b[0m\u001b[0mN_array\u001b[0m\u001b[0;34m)\u001b[0m\u001b[0;34m,\u001b[0m \u001b[0mromb\u001b[0m\u001b[0;34m(\u001b[0m\u001b[0mw\u001b[0m\u001b[0;34m[\u001b[0m\u001b[0;36m0\u001b[0m\u001b[0;34m:\u001b[0m\u001b[0;36m1024\u001b[0m\u001b[0;34m*\u001b[0m\u001b[0;36m4\u001b[0m \u001b[0;34m+\u001b[0m\u001b[0;36m1\u001b[0m\u001b[0;34m]\u001b[0m\u001b[0;34m,\u001b[0m \u001b[0;36m0.00043155\u001b[0m\u001b[0;34m)\u001b[0m\u001b[0;34m,\u001b[0m \u001b[0mromb\u001b[0m\u001b[0;34m(\u001b[0m\u001b[0mw\u001b[0m\u001b[0;34m[\u001b[0m\u001b[0;36m5600\u001b[0m\u001b[0;34m:\u001b[0m\u001b[0;36m1024\u001b[0m\u001b[0;34m*\u001b[0m\u001b[0;36m32\u001b[0m\u001b[0;34m]\u001b[0m\u001b[0;34m,\u001b[0m\u001b[0;36m0.00043155\u001b[0m\u001b[0;34m)\u001b[0m\u001b[0;34m,\u001b[0m \u001b[0mromb\u001b[0m\u001b[0;34m(\u001b[0m\u001b[0mw\u001b[0m\u001b[0;34m[\u001b[0m\u001b[0;36m1024\u001b[0m\u001b[0;34m*\u001b[0m\u001b[0;36m32\u001b[0m\u001b[0;34m:\u001b[0m\u001b[0;34m]\u001b[0m\u001b[0;34m,\u001b[0m \u001b[0;36m0.00043155\u001b[0m\u001b[0;34m)\u001b[0m\u001b[0;34m\u001b[0m\u001b[0m\n\u001b[0m",
        "\u001b[0;31mNameError\u001b[0m: name 'w' is not defined"
       ]
      }
     ],
     "prompt_number": 37
    },
    {
     "cell_type": "code",
     "collapsed": false,
     "input": [
      "w = (n0/2.)*(A(N_array)**3/a0)*(A(N_array)/a0 -1.)**(-1./2)*N_array*(hk_array**3)"
     ],
     "language": "python",
     "metadata": {},
     "outputs": [],
     "prompt_number": 17
    },
    {
     "cell_type": "code",
     "collapsed": false,
     "input": [
      "len(w)"
     ],
     "language": "python",
     "metadata": {},
     "outputs": [
      {
       "metadata": {},
       "output_type": "pyout",
       "prompt_number": 18,
       "text": [
        "65537"
       ]
      }
     ],
     "prompt_number": 18
    },
    {
     "cell_type": "code",
     "collapsed": false,
     "input": [
      "plt.subplot(121)\n",
      "plt.yscale('symlog')\n",
      "plt.plot(N_array, w.real)\n",
      "plt.subplot(122)\n",
      "plt.yscale('symlog')\n",
      "plt.plot(N_array, w.imag)"
     ],
     "language": "python",
     "metadata": {},
     "outputs": [
      {
       "metadata": {},
       "output_type": "pyout",
       "prompt_number": 19,
       "text": [
        "[<matplotlib.lines.Line2D at 0xaedb5b0c>]"
       ]
      },
      {
       "metadata": {},
       "output_type": "display_data",
       "png": "[encoded data removed]",
       "text": [
        "<matplotlib.figure.Figure at 0xaebf6c0c>"
       ]
      }
     ],
     "prompt_number": 19
    },
    {
     "cell_type": "code",
     "collapsed": false,
     "input": [
      "plt.plot(N_array[:6000], w.imag[:6000])"
     ],
     "language": "python",
     "metadata": {},
     "outputs": [
      {
       "metadata": {},
       "output_type": "pyout",
       "prompt_number": 28,
       "text": [
        "[<matplotlib.lines.Line2D at 0xaf048c4c>]"
       ]
      },
      {
       "metadata": {},
       "output_type": "display_data",
       "png": "[encoded data removed]",
       "text": [
        "<matplotlib.figure.Figure at 0xaed45cec>"
       ]
      }
     ],
     "prompt_number": 28
    },
    {
     "cell_type": "code",
     "collapsed": false,
     "input": [
      "Nics = -8.66423784\n",
      "Nshss = numpy.sqrt(2*4*numpy.log(10))\n",
      "npts= 1024*64\n",
      "#npts= 45000\n",
      "step = (Nshss-Nics)/npts\n",
      "print Nics, Nshss, npts, step"
     ],
     "language": "python",
     "metadata": {},
     "outputs": [
      {
       "output_type": "stream",
       "stream": "stdout",
       "text": [
        "-8.66423784 4.29193205258 65536 0.000197695463449\n"
       ]
      }
     ],
     "prompt_number": 42
    },
    {
     "cell_type": "code",
     "collapsed": false,
     "input": [
      "integrand_real = lambda N: w.real[int((N-Nics)/step)]\n",
      "integrand_imag = lambda N: w.imag[int((N-Nics)/step)]"
     ],
     "language": "python",
     "metadata": {},
     "outputs": [],
     "prompt_number": 43
    },
    {
     "cell_type": "code",
     "collapsed": false,
     "input": [
      "integrand_real(0), integrand_imag(0), w[43826]"
     ],
     "language": "python",
     "metadata": {},
     "outputs": [
      {
       "metadata": {},
       "output_type": "pyout",
       "prompt_number": 46,
       "text": [
        "(-5.5361608668382096e+21,\n",
        " -3.2228385668320184e+22,\n",
        " (-5.5361608668382096e+21-3.2228385668320184e+22j))"
       ]
      }
     ],
     "prompt_number": 46
    },
    {
     "cell_type": "code",
     "collapsed": false,
     "input": [
      "print numpy.where(numpy.abs(N_array) == numpy.min(numpy.abs(N_array)))\n",
      "print N_array[6000], N_array[43826], N_array[43827]"
     ],
     "language": "python",
     "metadata": {},
     "outputs": [
      {
       "output_type": "stream",
       "stream": "stdout",
       "text": [
        "(array([43826]),)\n",
        "-7.47806505872 -3.64586808193e-05 0.000161236782619\n"
       ]
      }
     ],
     "prompt_number": 44
    },
    {
     "cell_type": "code",
     "collapsed": false,
     "input": [
      "print quad(integrand_real, -7.47806505872, -3.64586808193e-05)\n",
      "print quad(integrand_imag, -7.47806505872, -3.64586808193e-05)\n",
      "print simps(w.real[6000:43826], N_array[6000:43826])\n",
      "print simps(w.imag[6000:43826], N_array[6000:43826])"
     ],
     "language": "python",
     "metadata": {},
     "outputs": [
      {
       "output_type": "stream",
       "stream": "stdout",
       "text": [
        "(-2.0471077329749297e+21, 1.0304871759872e+17)\n",
        "(-1.1917099070949073e+22, 5.998910552460493e+17)\n",
        "-2.04664475033e+21\n",
        "-1.19144038489e+22"
       ]
      },
      {
       "output_type": "stream",
       "stream": "stdout",
       "text": [
        "\n"
       ]
      },
      {
       "output_type": "stream",
       "stream": "stderr",
       "text": [
        "/usr/local/lib/python2.7/dist-packages/scipy/integrate/quadpack.py:352: IntegrationWarning: The occurrence of roundoff error is detected, which prevents \n",
        "  the requested tolerance from being achieved.  The error may be \n",
        "  underestimated.\n",
        "  warnings.warn(msg, IntegrationWarning)\n"
       ]
      }
     ],
     "prompt_number": 47
    },
    {
     "cell_type": "code",
     "collapsed": false,
     "input": [
      "print quad(integrand_real, 0.000161236782619, Nshss)\n",
      "print quad(integrand_imag, 0.000161236782619, Nshss)\n",
      "print simps(w.real[43827:], N_array[43827:])\n",
      "print simps(w.imag[43827:], N_array[43827:])"
     ],
     "language": "python",
     "metadata": {},
     "outputs": [
      {
       "output_type": "stream",
       "stream": "stdout",
       "text": [
        "(1.2515504243564476e+32, 3.430480171797818e+28)\n",
        "(7.285816060943105e+32, 1.9970308035935158e+29)\n",
        "1.25291622702e+32\n",
        "7.2937669887e+32\n"
       ]
      }
     ],
     "prompt_number": 48
    },
    {
     "cell_type": "code",
     "collapsed": false,
     "input": [
      "print quad(integrand_real, Nics, -7.47806505872)\n",
      "print quad(integrand_imag, Nics, -7.47806505872)\n",
      "print simps(w.real[:6000], N_array[:6000])\n",
      "print simps(w.imag[:6000], N_array[:6000])"
     ],
     "language": "python",
     "metadata": {},
     "outputs": [
      {
       "output_type": "stream",
       "stream": "stdout",
       "text": [
        "(0.0017030897547435774, 3.1365384864516553e-05)\n",
        "(-3.266993275622166e-05, 0.00010000493821569315)\n",
        "0.0017019797069\n",
        "-3.09691115448e-05\n"
       ]
      }
     ],
     "prompt_number": 49
    },
    {
     "cell_type": "markdown",
     "metadata": {},
     "source": [
      "$\\mathcal{G}$ after fitting\n",
      "==="
     ]
    },
    {
     "cell_type": "code",
     "collapsed": false,
     "input": [],
     "language": "python",
     "metadata": {},
     "outputs": []
    },
    {
     "cell_type": "code",
     "collapsed": false,
     "input": [
      "k_list = [(-30 +i) for i in range(25)]\n",
      "\n",
      "calG = numpy.empty(0,dtype=complex)\n",
      "real_values = numpy.empty(0)\n",
      "imag_values = numpy.empty(0)\n",
      "\n",
      "for k in k_list:\n",
      "    hk_file_name = str('data_files/hk_'+str(-k)+'.dat')\n",
      "    data = numpy.loadtxt(hk_file_name)\n",
      "\n",
      "    N_array = numpy.zeros(len(data))\n",
      "    hk_array = numpy.zeros(len(data),dtype=complex)\n",
      "    to_append = numpy.empty(0,dtype=complex)\n",
      "    \n",
      "    # load hk values and corresponding calN values\n",
      "    \n",
      "    hk_array.real = data[:,1]\n",
      "    hk_array.imag = data[:,2]\n",
      "    \n",
      "    N_array = data[:,0]\n",
      "    \n",
      "    # hk fit using chebyshev polynomials\n",
      "    \n",
      "    hk_fit_coeffs_real = chebyshev.chebfit(N_array, hk_array.real, 200)\n",
      "    hk_fit_real = chebyshev.chebval(N_array, hk_fit_coeffs_real)\n",
      "    hk_fit_coeffs_imag = chebyshev.chebfit(N_array, hk_array.imag, 200)\n",
      "    hk_fit_imag = chebyshev.chebval(N_array, hk_fit_coeffs_imag)\n",
      "    \n",
      "    # hk cubed fit - real part\n",
      "    \n",
      "    first_term_real = chebyshev.chebpow(coeffs_real, 3)\n",
      "\n",
      "    temp = chebyshev.chebpow(coeffs_imag, 2)\n",
      "    second_term_real = chebyshev.chebmul(coeffs_real, temp)\n",
      "\n",
      "    hk_cubed_fit_real = chebyshev.chebval(N_array, first_term_real) - 3*chebyshev.chebval(N_array, second_term_real)\n",
      "    \n",
      "    # hk cubed fit - imaginary part\n",
      "    \n",
      "    temp = chebyshev.chebpow(coeffs_real, 2)\n",
      "    first_term_imag = chebyshev.chebmul(coeffs_imag, temp)\n",
      "\n",
      "    second_term_imag = chebyshev.chebpow(coeffs_imag, 3)\n",
      "\n",
      "    hk_cubed_fit_imag = 3*chebyshev.chebval(N_array, first_term_imag) - chebyshev.chebval(N_array, second_term_imag)\n",
      "    \n",
      "    # integrand - real and imaginary parts\n",
      "    \n",
      "    calG_real = (n0/2.)*(A(N_array)**3/a0)*(A(N_array)/a0 -1.)**(-1./2)*N_array*(hk_cubed_fit_real)\n",
      "    calG_imag = (n0/2.)*(A(N_array)**3/a0)*(A(N_array)/a0 -1.)**(-1./2)*N_array*(hk_cubed_fit_imag)\n",
      "    \n",
      "    to_append.real = simps(calG_real, N_array)\n",
      "    real_values = numpy.append(real_values, simps(calG_real, N_array))\n",
      "    to_append.imag = simps(calG_imag, N_array)\n",
      "    imag_values = numpy.append(imag_values, simps(calG_imag, N_array))\n",
      "    \n",
      "    print simps(calG_real, N_array), simps(calG_imag, N_array)\n",
      "    print to_append\n",
      "    calG = numpy.append(calG, to_append)"
     ],
     "language": "python",
     "metadata": {},
     "outputs": [
      {
       "output_type": "stream",
       "stream": "stdout",
       "text": [
        "-4.61211690138e+286 -5.47793095564e+287\n",
        "[]\n",
        "-4.98683317991e+279"
       ]
      },
      {
       "output_type": "stream",
       "stream": "stdout",
       "text": [
        " -5.84046241962e+280\n",
        "[]\n",
        "-4.64765689697e+272"
       ]
      },
      {
       "output_type": "stream",
       "stream": "stdout",
       "text": [
        " -5.36562819341e+273\n",
        "[]\n",
        "-3.68511104092e+265"
       ]
      },
      {
       "output_type": "stream",
       "stream": "stdout",
       "text": [
        " -4.19289750776e+266\n",
        "[]\n",
        "-2.46656457909e+258"
       ]
      },
      {
       "output_type": "stream",
       "stream": "stdout",
       "text": [
        " -2.7649326092e+259\n",
        "[]\n",
        "-1.38356252103e+251"
       ]
      },
      {
       "output_type": "stream",
       "stream": "stdout",
       "text": [
        " -1.52709071214e+252\n",
        "[]\n",
        "-6.38565508009e+243"
       ]
      },
      {
       "output_type": "stream",
       "stream": "stdout",
       "text": [
        " -6.93706372609e+244\n",
        "[]\n",
        "-2.38803408325e+236"
       ]
      },
      {
       "output_type": "stream",
       "stream": "stdout",
       "text": [
        " -2.55237745955e+237\n",
        "[]\n",
        "-7.10563732108e+228"
       ]
      },
      {
       "output_type": "stream",
       "stream": "stdout",
       "text": [
        " -7.46961280892e+229\n",
        "[]\n",
        "-1.63787427407e+221"
       ]
      },
      {
       "output_type": "stream",
       "stream": "stdout",
       "text": [
        " -1.69368032182e+222\n",
        "[]\n",
        "-2.91230529026e+213"
       ]
      },
      {
       "output_type": "stream",
       "stream": "stdout",
       "text": [
        " -2.95969270843e+214\n",
        "[]\n",
        "-3.85866451687e+205"
       ]
      },
      {
       "output_type": "stream",
       "stream": "stdout",
       "text": [
        " -3.85271917309e+206\n",
        "[]\n",
        "-3.66180663721e+197"
       ]
      },
      {
       "output_type": "stream",
       "stream": "stdout",
       "text": [
        " -3.59424299749e+198\n",
        "[]\n",
        "-2.45997218978e+189"
       ]
      },
      {
       "output_type": "stream",
       "stream": "stdout",
       "text": [
        " -2.37140469963e+190\n",
        "[]\n",
        "-1.11246429467e+181"
       ]
      },
      {
       "output_type": "stream",
       "stream": "stdout",
       "text": [
        " -1.05327890483e+182\n",
        "[]\n",
        "-3.20288112723e+172"
       ]
      },
      {
       "output_type": "stream",
       "stream": "stdout",
       "text": [
        " -2.98240500748e+173\n",
        "[]\n",
        "-5.67923955668e+163"
       ]
      },
      {
       "output_type": "stream",
       "stream": "stdout",
       "text": [
        " -5.19879772723e+164\n",
        "[]\n",
        "-5.6783353797e+154"
       ]
      },
      {
       "output_type": "stream",
       "stream": "stdout",
       "text": [
        " -5.12427926601e+155\n",
        "[]\n",
        "-3.02226281854e+145"
       ]
      },
      {
       "output_type": "stream",
       "stream": "stdout",
       "text": [
        " -2.69136339776e+146\n",
        "[]\n",
        "-7.58852679876e+135"
       ]
      },
      {
       "output_type": "stream",
       "stream": "stdout",
       "text": [
        " -6.70720478422e+136\n",
        "[]\n",
        "-7.98463764023e+125"
       ]
      },
      {
       "output_type": "stream",
       "stream": "stdout",
       "text": [
        " -7.06214996825e+126\n",
        "[]\n",
        "-3.00933723669e+115"
       ]
      },
      {
       "output_type": "stream",
       "stream": "stdout",
       "text": [
        " -2.69780475954e+116\n",
        "[]\n",
        "-3.25128635025e+104"
       ]
      },
      {
       "output_type": "stream",
       "stream": "stdout",
       "text": [
        " -3.03130520716e+105\n",
        "[]\n",
        "-7.26667926391e+92"
       ]
      },
      {
       "output_type": "stream",
       "stream": "stdout",
       "text": [
        " -7.50899050001e+93\n",
        "[]\n",
        "-2.05481350518e+80"
       ]
      },
      {
       "output_type": "stream",
       "stream": "stdout",
       "text": [
        " -2.81633344551e+81\n",
        "[]\n"
       ]
      }
     ],
     "prompt_number": 23
    },
    {
     "cell_type": "code",
     "collapsed": false,
     "input": [
      "#real_values,imag_values\n",
      "calG = numpy.zeros(len(real_values), dtype=complex)\n",
      "calG.real = real_values\n",
      "calG.imag = imag_values\n",
      "k_list = numpy.asarray(k_list)"
     ],
     "language": "python",
     "metadata": {},
     "outputs": [],
     "prompt_number": 28
    },
    {
     "cell_type": "code",
     "collapsed": false,
     "input": [
      "plt.semilogy(k_list,(k_list**(5))*numpy.abs(calG))"
     ],
     "language": "python",
     "metadata": {},
     "outputs": []
    },
    {
     "cell_type": "code",
     "collapsed": false,
     "input": [
      "k_list = [(-30 +i) for i in range(25)]\n",
      "\n",
      "calG = numpy.empty(0,dtype=complex)\n",
      "real_values = numpy.empty(0)\n",
      "imag_values = numpy.empty(0)\n",
      "\n",
      "def load_data(k):\n",
      "    # load hk_array and N_array from data file\n",
      "    hk_file_name = str('data_files/hk_'+str(-k)+'.dat')\n",
      "    data = numpy.loadtxt(hk_file_name)\n",
      "\n",
      "    N_array = numpy.zeros(len(data))\n",
      "    hk_array = numpy.zeros(len(data),dtype=complex)\n",
      "    \n",
      "    hk_array.real = data[:,1]\n",
      "    hk_array.imag = data[:,2]\n",
      "    \n",
      "    N_array = data[:,0]\n",
      "    \n",
      "    return [N_array, hk_array]\n",
      "\n",
      "def fit_data(N_array, hk_array):\n",
      "    # hk fit using chebyshev polynomials\n",
      "    hk_fit_coeffs_real = chebyshev.chebfit(N_array, hk_array.real, 200)\n",
      "    hk_fit_real = chebyshev.chebval(N_array, hk_fit_coeffs_real)\n",
      "    hk_fit_coeffs_imag = chebyshev.chebfit(N_array, hk_array.imag, 200)\n",
      "    hk_fit_imag = chebyshev.chebval(N_array, hk_fit_coeffs_imag)\n",
      "\n",
      "    return [hk_fit_real hk_fit_imag]\n",
      "\n",
      "for k in k_list:\n",
      "    array = load_data(k)\n",
      "    N_array = array[0]\n",
      "    hk_array = array[1]\n",
      "    \n",
      "    # hk cubed fit - real part\n",
      "    \n",
      "    first_term_real = chebyshev.chebpow(coeffs_real, 3)\n",
      "\n",
      "    temp = chebyshev.chebpow(coeffs_imag, 2)\n",
      "    second_term_real = chebyshev.chebmul(coeffs_real, temp)\n",
      "\n",
      "    hk_cubed_fit_real = chebyshev.chebval(N_array, first_term_real) - 3*chebyshev.chebval(N_array, second_term_real)\n",
      "    \n",
      "    # hk cubed fit - imaginary part\n",
      "    \n",
      "    temp = chebyshev.chebpow(coeffs_real, 2)\n",
      "    first_term_imag = chebyshev.chebmul(coeffs_imag, temp)\n",
      "\n",
      "    second_term_imag = chebyshev.chebpow(coeffs_imag, 3)\n",
      "\n",
      "    hk_cubed_fit_imag = 3*chebyshev.chebval(N_array, first_term_imag) - chebyshev.chebval(N_array, second_term_imag)\n",
      "    \n",
      "    # integrand - real and imaginary parts\n",
      "    \n",
      "    calG_real = (n0/2.)*(A(N_array)**3/a0)*(A(N_array)/a0 -1.)**(-1./2)*N_array*(hk_cubed_fit_real)\n",
      "    calG_imag = (n0/2.)*(A(N_array)**3/a0)*(A(N_array)/a0 -1.)**(-1./2)*N_array*(hk_cubed_fit_imag)\n",
      "    \n",
      "    to_append.real = simps(calG_real, N_array)\n",
      "    real_values = numpy.append(real_values, simps(calG_real, N_array))\n",
      "    to_append.imag = simps(calG_imag, N_array)\n",
      "    imag_values = numpy.append(imag_values, simps(calG_imag, N_array))\n",
      "    \n",
      "    print simps(calG_real, N_array), simps(calG_imag, N_array)\n",
      "    print to_append\n",
      "    calG = numpy.append(calG, to_append)"
     ],
     "language": "python",
     "metadata": {},
     "outputs": []
    },
    {
     "cell_type": "code",
     "collapsed": false,
     "input": [],
     "language": "python",
     "metadata": {},
     "outputs": []
    },
    {
     "cell_type": "markdown",
     "metadata": {},
     "source": [
      "http://docs.scipy.org/doc/numpy/reference/routines.polynomials.chebyshev.html\n",
      "http://docs.scipy.org/doc/numpy/reference/generated/numpy.polynomial.chebyshev.chebval.html#numpy.polynomial.chebyshev.chebval\n",
      "\n",
      "# http://docs.scipy.org/doc/scipy-0.14.0/reference/generated/scipy.integrate.cumtrapz.html\n",
      "from scipy.integrate import cumtrapz\n",
      "from scipy.integrate import romb\n",
      "http://docs.scipy.org/doc/numpy/reference/generated/numpy.load.html http://docs.scipy.org/doc/numpy/reference/generated/numpy.loadtxt.html http://docs.scipy.org/doc/numpy/reference/generated/numpy.fromfile.html http://docs.scipy.org/doc/numpy/reference/generated/numpy.genfromtxt.html"
     ]
    },
    {
     "cell_type": "code",
     "collapsed": false,
     "input": [
      "k_list = [(-30 +i) for i in range(25)]\n",
      "\n",
      "for k in k_list:\n",
      "    hk_file_name = str('data_files/hk_'+str(-k)+'.dat')\n",
      "    data = numpy.loadtxt(hk_file_name)\n",
      "\n",
      "    N_array = numpy.zeros(len(data))\n",
      "    hk_array = numpy.zeros(len(data),dtype=complex)\n",
      "    \n",
      "    hk_array.real = data[:,1]\n",
      "    hk_array.imag = data[:,2]\n",
      "    \n",
      "    N_array = data[:,0]\n",
      "    \n",
      "#    plt.semilogy(N_array, numpy.absolute(hk_array))\n",
      "\n",
      "    w = (n0/2.)*(A(N_array)**3/a0)*(A(N_array)/a0 -1.)**(-1./2)*N_array*(hk_array)**3\n",
      "    aw = numpy.zeros(len(data),dtype=complex)\n",
      "\n",
      "    aw.real = numpy.abs(w.real)\n",
      "    aw.imag = numpy.abs(w.imag)\n",
      "    \n",
      "    print simps(w, N_array), simps(aw, N_array)"
     ],
     "language": "python",
     "metadata": {},
     "outputs": []
    },
    {
     "cell_type": "code",
     "collapsed": false,
     "input": [
      "k_list = [(-30 +i) for i in range(25)] \n",
      "\n",
      "for k in k_list:\n",
      "    hk_file_name = str('data_files/hk_'+str(-k)+'.dat')\n",
      "    data = numpy.loadtxt(hk_file_name)\n",
      "\n",
      "    N_array = numpy.zeros(len(data))\n",
      "    hk_array = numpy.zeros(len(data),dtype=complex)\n",
      "\n",
      "    hk_array.real = data[:,1]\n",
      "    hk_array.imag = data[:,2]\n",
      "\n",
      "    N_array = data[:,0]\n",
      "\n",
      "#    plt.semilogy(N_array, numpy.absolute(hk_array))\n",
      "    aww = (n0/2.)*(A(N_array[2500:30000])**3/a0)*(A(N_array[2500:30000])/a0 -1.)**(-1./2)*N_array[2500:30000]*(hk_array[2500:30000])**3\n",
      "    print simps(aww, N_array[2500:30000])"
     ],
     "language": "python",
     "metadata": {},
     "outputs": []
    },
    {
     "cell_type": "code",
     "collapsed": false,
     "input": [],
     "language": "python",
     "metadata": {},
     "outputs": []
    },
    {
     "cell_type": "markdown",
     "metadata": {},
     "source": [
      "$h_k$ vs $k$ fitting and $\\mathcal{G}$ fitting\n",
      "==="
     ]
    },
    {
     "cell_type": "code",
     "collapsed": false,
     "input": [
      "data = numpy.loadtxt('hk_vs_k_matter_bounce_20_to_19_100_bare_clean.dat')\n",
      "#print data"
     ],
     "language": "python",
     "metadata": {},
     "outputs": [],
     "prompt_number": 52
    },
    {
     "cell_type": "code",
     "collapsed": false,
     "input": [
      "k_list = numpy.zeros(len(data))\n",
      "hk_Nshss = numpy.zeros(len(data),dtype=complex)\n",
      "calG = numpy.zeros(len(data),dtype=complex)\n",
      "calG_cc = numpy.zeros(len(data),dtype=complex)\n",
      "\n",
      "k_list = data[:,0]\n",
      "hk_Nshss.real = data[:,1]\n",
      "hk_Nshss.imag = data[:,2]\n",
      "calG.real = data[:,3]\n",
      "calG.imag = data[:,4]\n",
      "calG_cc.real = data[:,5]\n",
      "calG_cc.imag = data[:,6]"
     ],
     "language": "python",
     "metadata": {},
     "outputs": [],
     "prompt_number": 23
    },
    {
     "cell_type": "code",
     "collapsed": false,
     "input": [
      "plt.subplot(221)\n",
      "plt.loglog(k_list, numpy.absolute(calG))\n",
      "plt.subplot(222)\n",
      "plt.loglog(k_list, (k_list**(5./2))*numpy.absolute(calG))\n",
      "plt.subplot(223)\n",
      "plt.loglog(k_list, numpy.absolute(hk_Nshss))\n",
      "plt.subplot(224)\n",
      "plt.loglog(k_list, (k_list**(3./2))*numpy.absolute(hk_Nshss))"
     ],
     "language": "python",
     "metadata": {},
     "outputs": [
      {
       "metadata": {},
       "output_type": "pyout",
       "prompt_number": 24,
       "text": [
        "[<matplotlib.lines.Line2D at 0xae346a2c>]"
       ]
      },
      {
       "metadata": {},
       "output_type": "display_data",
       "png": "[encoded data removed]",
       "text": [
        "<matplotlib.figure.Figure at 0xae76fecc>"
       ]
      }
     ],
     "prompt_number": 24
    },
    {
     "cell_type": "code",
     "collapsed": false,
     "input": [
      "hk_cubed_Nshss = hk_Nshss**3"
     ],
     "language": "python",
     "metadata": {},
     "outputs": [],
     "prompt_number": 25
    },
    {
     "cell_type": "code",
     "collapsed": false,
     "input": [
      "hk_cubed_fit_coeffs_real = chebyshev.chebfit(k_list, hk_cubed_Nshss.real, 50)\n",
      "hk_cubed_fit_real = chebyshev.chebval(k_list, hk_cubed_fit_coeffs_real)\n",
      "hk_cubed_fit_coeffs_imag = chebyshev.chebfit(k_list, hk_cubed_Nshss.imag, 50)\n",
      "hk_cubed_fit_imag = chebyshev.chebval(k_list, hk_cubed_fit_coeffs_imag)\n",
      "\n",
      "calG_fit_coeffs_real = chebyshev.chebfit(k_list, calG.real, 50)\n",
      "calG_fit_real = chebyshev.chebval(k_list, calG_fit_coeffs_real)\n",
      "calG_fit_coeffs_imag = chebyshev.chebfit(k_list, calG.imag, 50)\n",
      "calG_fit_imag = chebyshev.chebval(k_list, calG_fit_coeffs_imag)\n",
      "'''\n",
      "first_term_G = chebyshev.chebmul(hk_cubed_fit_coeffs_real, calG_fit_coeffs_real)\n",
      "second_term_G = chebyshev.chebmul(hk_cubed_fit_coeffs_imag, calG_fit_coeffs_imag)\n",
      "\n",
      "G_coeffs = chebyshev.chebadd(first_term_G, second_term_G)\n",
      "G_fit_real = 2*chebyshev.chebval(k_list, G_coeffs)\n",
      "'''"
     ],
     "language": "python",
     "metadata": {},
     "outputs": [
      {
       "metadata": {},
       "output_type": "pyout",
       "prompt_number": 55,
       "text": [
        "'\\nfirst_term_G = chebyshev.chebmul(hk_cubed_fit_coeffs_real, calG_fit_coeffs_real)\\nsecond_term_G = chebyshev.chebmul(hk_cubed_fit_coeffs_imag, calG_fit_coeffs_imag)\\n\\nG_coeffs = chebyshev.chebadd(first_term_G, second_term_G)\\nG_fit_real = 2*chebyshev.chebval(k_list, G_coeffs)\\n'"
       ]
      }
     ],
     "prompt_number": 55
    },
    {
     "cell_type": "code",
     "collapsed": false,
     "input": [
      "plt.cla()\n",
      "plt.hold(True)\n",
      "plt.subplot(221)\n",
      "plt.loglog(k_list, hk_cubed_Nshss.real, '.', label = 'data')\n",
      "plt.loglog(k_list, hk_cubed_fit_real, '--', label = 'fit')\n",
      "plt.subplot(222)\n",
      "plt.loglog(k_list, hk_cubed_Nshss.imag, '.', label = 'data')\n",
      "plt.loglog(k_list, hk_cubed_fit_imag, '--', label= 'fit')\n",
      "plt.subplot(223)\n",
      "plt.loglog(k_list, -calG.real, '.', label = 'data')\n",
      "plt.loglog(k_list, -calG_fit_real, '--', label = 'fit')\n",
      "plt.subplot(224)\n",
      "plt.loglog(k_list, -calG.imag, '.', label = 'data')\n",
      "plt.loglog(k_list, -calG_fit_imag, '--', label= 'fit')\n",
      "plt.legend()"
     ],
     "language": "python",
     "metadata": {},
     "outputs": [
      {
       "metadata": {},
       "output_type": "pyout",
       "prompt_number": 57,
       "text": [
        "<matplotlib.legend.Legend at 0xad2ab48c>"
       ]
      },
      {
       "metadata": {},
       "output_type": "display_data",
       "png": "[encoded data removed]",
       "text": [
        "<matplotlib.figure.Figure at 0xacc7c9ec>"
       ]
      }
     ],
     "prompt_number": 57
    },
    {
     "cell_type": "code",
     "collapsed": false,
     "input": [],
     "language": "python",
     "metadata": {},
     "outputs": [],
     "prompt_number": 15
    },
    {
     "cell_type": "code",
     "collapsed": false,
     "input": [],
     "language": "python",
     "metadata": {},
     "outputs": []
    }
   ],
   "metadata": {}
  }
 ]
}