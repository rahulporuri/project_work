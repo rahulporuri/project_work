{
 "metadata": {
  "name": "",
  "signature": "sha256:491a9029152b1bea175c959d43c96f41b0fc460552cfca82cce9cb5138aeca6e"
 },
 "nbformat": 3,
 "nbformat_minor": 0,
 "worksheets": [
  {
   "cells": [
    {
     "cell_type": "code",
     "collapsed": false,
     "input": [
      "import numpy\n",
      "import matplotlib.pyplot as plt\n",
      "%matplotlib inline"
     ],
     "language": "python",
     "metadata": {},
     "outputs": [],
     "prompt_number": 1
    },
    {
     "cell_type": "code",
     "collapsed": false,
     "input": [
      "data = [line.split() for line in open('data.dat')]"
     ],
     "language": "python",
     "metadata": {},
     "outputs": [],
     "prompt_number": 2
    },
    {
     "cell_type": "code",
     "collapsed": false,
     "input": [
      "calG = numpy.empty(0,dtype=complex)\n",
      "for i in range(3,len(data)):\n",
      "    temp= numpy.array([1.+1.j],dtype=complex)\n",
      "    temp.real = data[i][3]\n",
      "    temp.imag = data[i][4]\n",
      "    calG = numpy.append(calG, temp)"
     ],
     "language": "python",
     "metadata": {},
     "outputs": [],
     "prompt_number": 3
    },
    {
     "cell_type": "code",
     "collapsed": false,
     "input": [
      "k_list = [10**(-30+i) for i  in range(26)]\n",
      "k_list = numpy.asarray(k_list)"
     ],
     "language": "python",
     "metadata": {},
     "outputs": [],
     "prompt_number": 4
    },
    {
     "cell_type": "code",
     "collapsed": false,
     "input": [
      "plt.cla()\n",
      "plt.xlabel(r'$k$')\n",
      "plt.ylabel(r'abs$({\\mathcal{G}}_{\\rm \\gamma\\gamma\\gamma})$')\n",
      "plt.title(r'abs$({\\mathcal{G}}_{\\rm \\gamma\\gamma\\gamma})$ as a function of $k$')\n",
      "numerics, = plt.loglog(k_list, (k_list**(5./2))*numpy.absolute(calG))\n",
      "plt.legend([numerics],['numerical results'], loc = 'lower left')\n",
      "plt.savefig('calG_bouncing_model.png')"
     ],
     "language": "python",
     "metadata": {},
     "outputs": [
      {
       "metadata": {},
       "output_type": "display_data",
       "png": "[encoded data removed]",
       "text": [
        "<matplotlib.figure.Figure at 0xafbf228c>"
       ]
      }
     ],
     "prompt_number": 10
    },
    {
     "cell_type": "code",
     "collapsed": false,
     "input": [],
     "language": "python",
     "metadata": {},
     "outputs": []
    },
    {
     "cell_type": "code",
     "collapsed": false,
     "input": [
      "numpy.sqrt(2*numpy.log(10**4))"
     ],
     "language": "python",
     "metadata": {},
     "outputs": [
      {
       "metadata": {},
       "output_type": "pyout",
       "prompt_number": 57,
       "text": [
        "4.2919320525786944"
       ]
      }
     ],
     "prompt_number": 57
    },
    {
     "cell_type": "code",
     "collapsed": false,
     "input": [],
     "language": "python",
     "metadata": {},
     "outputs": []
    },
    {
     "cell_type": "code",
     "collapsed": false,
     "input": [],
     "language": "python",
     "metadata": {},
     "outputs": []
    }
   ],
   "metadata": {}
  }
 ]
}