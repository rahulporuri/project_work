{
 "metadata": {
  "name": "",
  "signature": "sha256:81a08ea40649f5b04c3cd92faaf3818272133ea3f355017b4ce567e882853c2c"
 },
 "nbformat": 3,
 "nbformat_minor": 0,
 "worksheets": [
  {
   "cells": [
    {
     "cell_type": "code",
     "collapsed": false,
     "input": [
      "import numpy\n",
      "import matplotlib.pyplot as plt\n",
      "%matplotlib inline"
     ],
     "language": "python",
     "metadata": {},
     "outputs": [],
     "prompt_number": 1
    },
    {
     "cell_type": "code",
     "collapsed": false,
     "input": [
      "data = [line.split() for line in open('data_files/data.dat')]"
     ],
     "language": "python",
     "metadata": {},
     "outputs": [],
     "prompt_number": 2
    },
    {
     "cell_type": "code",
     "collapsed": false,
     "input": [
      "calG = numpy.empty(0,dtype=complex)\n",
      "for i in range(3,len(data)):\n",
      "    temp= numpy.array([1.+1.j],dtype=complex)\n",
      "    temp.real = data[i][3]\n",
      "    temp.imag = data[i][4]\n",
      "    calG = numpy.append(calG, temp)"
     ],
     "language": "python",
     "metadata": {},
     "outputs": [],
     "prompt_number": 3
    },
    {
     "cell_type": "code",
     "collapsed": false,
     "input": [
      "k_list = [10**(-30+i) for i  in range(26)]\n",
      "k_list = numpy.asarray(k_list)"
     ],
     "language": "python",
     "metadata": {},
     "outputs": [],
     "prompt_number": 4
    },
    {
     "cell_type": "code",
     "collapsed": false,
     "input": [
      "plt.cla()\n",
      "plt.xlabel(r'$k$')\n",
      "plt.ylabel(r'${\\bf k}^{5/2}$abs$({\\mathcal{G}}_{\\rm \\gamma\\gamma\\gamma})$')\n",
      "plt.title(r'${\\bf k}^{5/2}$abs$({\\mathcal{G}}_{\\rm \\gamma\\gamma\\gamma})$ as a function of $k$')\n",
      "numerics, = plt.loglog(k_list, (k_list**(5./2))*numpy.absolute(calG))\n",
      "plt.legend([numerics],['numerical results'], loc = 'lower left')\n",
      "plt.savefig('calG_bouncing_model.png')"
     ],
     "language": "python",
     "metadata": {},
     "outputs": [
      {
       "metadata": {},
       "output_type": "display_data",
       "png": "[encoded data removed]",
       "text": [
        "<matplotlib.figure.Figure at 0xb025f6ac>"
       ]
      }
     ],
     "prompt_number": 8
    },
    {
     "cell_type": "code",
     "collapsed": false,
     "input": [],
     "language": "python",
     "metadata": {},
     "outputs": []
    },
    {
     "cell_type": "code",
     "collapsed": false,
     "input": [
      "numpy.sqrt(2*numpy.log(10**4))"
     ],
     "language": "python",
     "metadata": {},
     "outputs": [
      {
       "metadata": {},
       "output_type": "pyout",
       "prompt_number": 57,
       "text": [
        "4.2919320525786944"
       ]
      }
     ],
     "prompt_number": 57
    },
    {
     "cell_type": "code",
     "collapsed": false,
     "input": [
      "10^4"
     ],
     "language": "python",
     "metadata": {},
     "outputs": [
      {
       "metadata": {},
       "output_type": "pyout",
       "prompt_number": 6,
       "text": [
        "14"
       ]
      }
     ],
     "prompt_number": 6
    },
    {
     "cell_type": "code",
     "collapsed": false,
     "input": [
      "ls"
     ],
     "language": "python",
     "metadata": {},
     "outputs": [
      {
       "output_type": "stream",
       "stream": "stdout",
       "text": [
        "\u001b[0m\u001b[01;34mbuild\u001b[0m/                             hk_17.dat  hk_22.dat  hk_27.dat         \u001b[01;34mplots\u001b[0m/                         power_spectrum.py\r\n",
        "\u001b[01;35mcalG_bouncing_model.png\u001b[0m            hk_18.dat  hk_23.dat  hk_28.dat         \u001b[01;35mpower_law_hk.png\u001b[0m               power_spectrum_rk2_vs_rk4.ipynb\r\n",
        "\u001b[01;34mcython_tests\u001b[0m/                      hk_19.dat  hk_24.dat  hk_29.dat         power_spectrum.ipynb           tensor_bi-spectrum-Copy0.ipynb\r\n",
        "\u001b[01;34mdata_files\u001b[0m/                        hk_20.dat  hk_25.dat  hk_30.dat         power_spectrum_parallel.ipynb  tensor_bi-spectrum.ipynb\r\n",
        "data_processing_and_fitting.ipynb  hk_21.dat  hk_26.dat  hk_romb_test.dat  power_spectrum_parallel.py     Untitled0.ipynb\r\n"
       ]
      }
     ],
     "prompt_number": 7
    },
    {
     "cell_type": "code",
     "collapsed": false,
     "input": [],
     "language": "python",
     "metadata": {},
     "outputs": []
    }
   ],
   "metadata": {}
  }
 ]
}