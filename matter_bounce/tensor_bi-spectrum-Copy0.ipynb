{
 "metadata": {
  "name": "",
  "signature": "sha256:8b23a41e3781115617ff056a2423d1368b3f10e8dc1e01ffadbd7398769565fe"
 },
 "nbformat": 3,
 "nbformat_minor": 0,
 "worksheets": [
  {
   "cells": [
    {
     "cell_type": "code",
     "collapsed": false,
     "input": [
      "import numpy\n",
      "import matplotlib.pyplot as plt\n",
      "import scipy.optimize as opt\n",
      "from scipy.integrate import simps\n",
      "%matplotlib inline"
     ],
     "language": "python",
     "metadata": {},
     "outputs": [],
     "prompt_number": 1
    },
    {
     "cell_type": "code",
     "collapsed": false,
     "input": [
      "A = lambda N : a0*numpy.exp(N**2/2.)\n",
      "an = lambda n : a0*(1.+(n/n0)**2)\n",
      "aN = lambda N : an(n(N))\n",
      "h = lambda n : (2.*a0*n/n0**2)*(1./an(n)**2)\n",
      "H = lambda N : h(n(N))\n",
      "\n",
      "fn = lambda n : (2.*a0/n0**2)*(1./an(n))\n",
      "fN = lambda N : fn(n(N))    \n",
      "\n",
      "Heavi = lambda N : (1./2)*(numpy.sign(N)+1.)\n",
      "\n",
      "nm = lambda N : -n0*((A(N)/a0)**(1./p)-1)**(1./2)\n",
      "np = lambda N : n0*((A(N)/a0)**(1./p)-1)**(1./2)\n",
      "\n",
      "DHm = lambda N : -100000.0*N*(1.0*numpy.exp(N**2/2)**1.0 - 1.0)**(-0.5)*numpy.exp(N**2/2)**1.0/(100000.0*(1.0*numpy.exp(N**2/2)**1.0 - 1)**1.0 + 100000.0)**2 + 40000000000.0*N*(1.0*numpy.exp(N**2/2)**1.0 - 1.0)**0.5*numpy.exp(N**2/2)**1.0/(100000.0*(1.0*numpy.exp(N**2/2)**1.0 - 1)**1.0 + 100000.0)**3\n",
      "DHp = lambda N : 100000.0*N*(1.0*numpy.exp(N**2/2)**1.0 - 1.0)**(-0.5)*numpy.exp(N**2/2)**1.0/(100000.0*(1.0*numpy.exp(N**2/2)**1.0 - 1)**1.0 + 100000.0)**2 - 40000000000.0*N*(1.0*numpy.exp(N**2/2)**1.0 - 1.0)**0.5*numpy.exp(N**2/2)**1.0/(100000.0*(1.0*numpy.exp(N**2/2)**1.0 - 1)**1.0 + 100000.0)**3\n",
      "\n",
      "n = lambda N : Heavi(N)*np(N) + Heavi(-N)*nm(N)\n",
      "DH = lambda N : Heavi(N)*DHp(N) + Heavi(-N)*DHm(N)\n",
      "\n",
      "def DDhk(k0, N, hk0, Dhk0):\n",
      "    return -((3.*N -(1./N) +(DH(N)/H(N)))*Dhk0 +(((k0*N)/(A(N)*H(N)))**2)*hk0)\n",
      "\n",
      "def rk4_step(k0, N, hk0, Dhk0, step):\n",
      "    F1 = Dhk0\n",
      "    f1 = DDhk(k0, N, hk0, Dhk0)\n",
      "    F2 = Dhk0 +f1*step/2.\n",
      "    f2 = DDhk(k0, N +step/2., hk0 +F1*step/2., Dhk0 +f1*step/2.)\n",
      "    F3 = Dhk0 +f2*step/2.\n",
      "    f3 = DDhk(k0, N +step/2., hk0 +F2*step/2., Dhk0 +f2*step/2.)\n",
      "    F4 = Dhk0 +f3*step\n",
      "    f4 = DDhk(k0, N +step, hk0 +F3*step, Dhk0 +f3*step)    \n",
      "\n",
      "    return [numpy.array([(f1 +2*f2 +2*f3 +f4)*step/6.], dtype=complex), numpy.array([(F1 +2*F2 +2*F3 +F4)*step/6.], dtype=complex)] # [Dhk, hk] update"
     ],
     "language": "python",
     "metadata": {},
     "outputs": [],
     "prompt_number": 2
    },
    {
     "cell_type": "code",
     "collapsed": false,
     "input": [
      "def solve_Nics(k0):\n",
      "    Nics = numpy.array([-5])\n",
      "    for i in range(200):\n",
      "        Nics = opt.newton_krylov(lambda N : (k0)**2 - 1e+04*fN(N),Nics)\n",
      "\n",
      "    return Nics\n",
      "\n",
      "def initialize(Nics, k0):\n",
      "    hk0 = numpy.zeros(1,dtype=complex)\n",
      "    hk0.real = (((2.*k0)**(1./2))*A(Nics))**(-1.)\n",
      "\n",
      "    Dhk0 = numpy.zeros(1,dtype=complex)\n",
      "    Dhk0.real = -(Nics/A(Nics))*((2*k0)**(-1./2))\n",
      "    Dhk0.imag = -Nics*((k0/2)**(1./2))/(A(Nics)*A(Nics)*H(Nics))\n",
      "    \n",
      "    return [hk0, Dhk0]\n",
      "\n",
      "def evolve_hk(Nics, Nshss, k0, hk0, Dhk0, npts):\n",
      "    step = (Nshss-Nics)/npts\n",
      "    \n",
      "    results_array = numpy.empty(0, dtype=complex)\n",
      "    results_array = numpy.append(results_array, hk0)\n",
      "    N = Nics\n",
      "    for i in range(npts):\n",
      "        array = rk4_step(k0, N, hk0, Dhk0, step)\n",
      "        hk0 = hk0 + array[1]\n",
      "        results_array = numpy.append(results_array, hk0)\n",
      "        Dhk0 = Dhk0 + array[0]\n",
      "        N += step\n",
      "        \n",
      "    return results_array"
     ],
     "language": "python",
     "metadata": {},
     "outputs": [],
     "prompt_number": 3
    },
    {
     "cell_type": "code",
     "collapsed": false,
     "input": [
      "def calG(hk_array, k0, N_Array):\n",
      "    func_int = (n0/2.)*(A(N_array)**3/a0)*(A(N_array)/a0 -1.)**(-1./2)*N_array*numpy.conj(hk_array)**3\n",
      "    result = simps(func_int, N_array)\n",
      "    return (-3.*k0**2/4.)*result*numpy.array([0.+1.j], dtype=complex)\n",
      "\n",
      "def calG_cc(hk_array, k0, N_Array):\n",
      "    func_int = (n0/2.)*(A(N_array)**3/a0)*(A(N_array)/a0 -1.)**(-1./2)*N_array*(hk_array)**3\n",
      "    result = simps(func_int, N_array)\n",
      "    return (+3.*k0**2/4.)*result*numpy.array([0.+1.j], dtype=complex)\n",
      "\n",
      "def G(hk_array, N_array, k0, calG_array, calG_cc_array):\n",
      "    term1 = calG(hk_array, k0, N_array)\n",
      "    term2 = calG_cc(hk_array, k0, N_array)\n",
      "    print 'calG =', term1, 'calG* =', term2\n",
      "    \n",
      "    result = (hk_array[-1]**3)*term1 + (numpy.conj(hk_array[-1])**3)*term2\n",
      "    return numpy.array([term1, term2, result], dtype=complex)"
     ],
     "language": "python",
     "metadata": {},
     "outputs": [],
     "prompt_number": 4
    },
    {
     "cell_type": "code",
     "collapsed": false,
     "input": [
      "a0 = 1e+05\n",
      "n0 = 1.0\n",
      "p = 1.0\n",
      "\n",
      "k_min = 1e-30\n",
      "k_max = 1e-4\n",
      "npts = 50000\n",
      "\n",
      "#Nshss = numpy.array([7])\n",
      "#for i in range(200):\n",
      "#    Nshss = opt.newton_krylov(lambda N : (k_max)**2 - 1e+04*fN(N),Nshss)\n",
      "\n",
      "Nshss = numpy.sqrt(2*4*numpy.log(10))\n",
      "print 'Nshss =', Nshss, numpy.sqrt(2*numpy.log(10^4))"
     ],
     "language": "python",
     "metadata": {},
     "outputs": [
      {
       "output_type": "stream",
       "stream": "stdout",
       "text": [
        "Nshss = 4.29193205258 2.29741477736\n"
       ]
      }
     ],
     "prompt_number": 5
    },
    {
     "cell_type": "code",
     "collapsed": false,
     "input": [
      "#k_list = numpy.array([(10**(-20))*(1 +9.*i/50.) for i in range(51)])\n",
      "k_list = numpy.linspace(1e-20, 1e-19, 101)\n",
      "\n",
      "Nics_array = numpy.zeros(len(k_list))\n",
      "hk_Nshss = numpy.empty(0, dtype=complex)\n",
      "calG_array = numpy.empty(0, dtype= complex)\n",
      "calG_cc_array = numpy.empty(0, dtype= complex)\n",
      "G_array = numpy.empty(0, dtype= complex)\n",
      "\n",
      "for i in range(len(k_list)):\n",
      "    k0 = k_list[i]\n",
      "    \n",
      "    #hk_file_name = str('hk_'+str(-int(numpy.log10(k0)))+'.dat')\n",
      "    #hk_file = open(hk_file_name, \"w\")\n",
      "    \n",
      "    Nics = solve_Nics(k0)\n",
      "    Nics_array[i] = Nics\n",
      "    N_array = numpy.linspace(Nics, Nshss, npts+1)\n",
      "    print 'k =', k0, 'Nics =', Nics\n",
      "    \n",
      "    temp_array = initialize(Nics, k0)\n",
      "    hk0 = temp_array[0]\n",
      "    Dhk0 = temp_array[1]\n",
      "   \n",
      "    hk_array = evolve_hk(Nics, Nshss, k0, hk0, Dhk0, npts)\n",
      "    hk_Nshss = numpy.append(hk_Nshss, hk_array[-1])\n",
      "    \n",
      "    tps_temp = 8*(k0)**3/(2*numpy.pi**2)*(numpy.absolute(hk_array[-1]))**2\n",
      "    \n",
      "    another_temp_array = G(hk_array, N_array, k0, calG_array, calG_cc_array)\n",
      "    calG_array = numpy.append(calG_array, another_temp_array[0])\n",
      "    calG_cc_array = numpy.append(calG_cc_array, another_temp_array[1])\n",
      "    G_array = numpy.append(G_array, another_temp_array[2])\n",
      "    \n",
      "    print 'k0=', k0, 'hk(Nshss) =', hk_array[-1], 'TPS =', str(tps_temp).strip('[]'), 'G =', another_temp_array[2]\n",
      "    print '\\n'\n",
      "    \n",
      "    #for i in range(len(N_array)):\n",
      "    #    hk_file.write(str(N_array[i])+'\\t'+str(hk_array[i].real).strip('[]')+'\\t'+str(hk_array[i].imag).strip('[]')+'\\n')\n",
      "    \n",
      "    #hk_file.close()"
     ],
     "language": "python",
     "metadata": {},
     "outputs": [
      {
       "output_type": "stream",
       "stream": "stdout",
       "text": [
        "k = 1e-20 Nics = [-14.28333933]\n",
        "calG ="
       ]
      },
      {
       "output_type": "stream",
       "stream": "stdout",
       "text": [
        " [ -5.45789393e+55 -8.64848926e+54j]"
       ]
      },
      {
       "output_type": "stream",
       "stream": "stdout",
       "text": [
        " calG* = [ -5.45789393e+55 +8.64848926e+54j]\n",
        "k0= 1e-20 hk(Nshss) = (-1.74218258724e+24-3.32275423686e+25j) TPS = 4.48692663671e-10 G = [  7.15662025e+116+0.j]\n",
        "\n",
        "\n",
        "k ="
       ]
      },
      {
       "output_type": "stream",
       "stream": "stdout",
       "text": [
        " 1.09e-20 Nics = [-14.27126735]\n",
        "calG ="
       ]
      },
      {
       "output_type": "stream",
       "stream": "stdout",
       "text": [
        " [ -4.40014731e+55 -6.97585415e+54j] calG* = [ -4.40014731e+55 +6.97585415e+54j]\n",
        "k0= 1.09e-20 hk(Nshss) = (-1.53168608502e+24-2.91986275755e+25j) TPS = 4.48702058006e-10 G = [ -2.63385481e+116+0.j]\n",
        "\n",
        "\n",
        "k ="
       ]
      },
      {
       "output_type": "stream",
       "stream": "stdout",
       "text": [
        " 1.18e-20 Nics = [-14.26014463]\n",
        "calG ="
       ]
      },
      {
       "output_type": "stream",
       "stream": "stdout",
       "text": [
        " [ -3.60857952e+55 -5.72352422e+54j] calG* = [ -3.60857952e+55 +5.72352422e+54j]\n",
        "k0= 1.18e-20 hk(Nshss) = (-1.36045564e+24-2.59228570578e+25j) TPS = 4.48710785387e-10 G = [  1.42813033e+116+0.j]\n",
        "\n",
        "\n",
        "k ="
       ]
      },
      {
       "output_type": "stream",
       "stream": "stdout",
       "text": [
        " 1.27e-20 Nics = [-14.2498321]\n",
        "calG ="
       ]
      },
      {
       "output_type": "stream",
       "stream": "stdout",
       "text": [
        " [ -3.00288725e+55 -4.76483754e+54j] calG* = [ -3.00288725e+55 +4.76483754e+54j]\n",
        "k0= 1.27e-20 hk(Nshss) = (-1.21894559835e+24-2.3216868065e+25j) TPS = 4.48718702023e-10 G = [  9.23580717e+115+0.j]\n",
        "\n",
        "\n",
        "k ="
       ]
      },
      {
       "output_type": "stream",
       "stream": "stdout",
       "text": [
        " 1.36e-20 Nics = [-14.24021923]\n",
        "calG ="
       ]
      },
      {
       "output_type": "stream",
       "stream": "stdout",
       "text": [
        " [ -2.53050713e+55 -4.01684763e+54j] calG* = [ -2.53050713e+55 +4.01684763e+54j]\n",
        "k0= 1.36e-20 hk(Nshss) = (-1.10040077802e+24-2.09509609057e+25j) TPS = 4.48726040722e-10 G = [  2.22742542e+115+0.j]\n",
        "\n",
        "\n",
        "k ="
       ]
      },
      {
       "output_type": "stream",
       "stream": "stdout",
       "text": [
        " 1.45e-20 Nics = [-14.23121668]\n",
        "calG ="
       ]
      },
      {
       "output_type": "stream",
       "stream": "stdout",
       "text": [
        " [ -2.15596208e+55 -3.42354665e+54j] calG* = [ -2.15596208e+55 +3.42354665e+54j]\n",
        "k0= 1.45e-20 hk(Nshss) = (-9.99919972514e+23-1.90310725126e+25j) TPS = 4.48733035775e-10 G = [ -5.52695866e+115+0.j]\n",
        "\n",
        "\n",
        "k ="
       ]
      },
      {
       "output_type": "stream",
       "stream": "stdout",
       "text": [
        " 1.54e-20 Nics = [-14.22275124]\n",
        "calG ="
       ]
      },
      {
       "output_type": "stream",
       "stream": "stdout",
       "text": [
        " [ -1.85466358e+55 -2.94610106e+54j] calG* = [ -1.85466358e+55 +2.94610106e+54j]\n",
        "k0= 1.54e-20 hk(Nshss) = (-9.13869366162e+23-1.73874917135e+25j) TPS = 4.48739544835e-10 G = [ -5.41825683e+114+0.j]\n",
        "\n",
        "\n",
        "k ="
       ]
      },
      {
       "output_type": "stream",
       "stream": "stdout",
       "text": [
        " 1.63e-20 Nics = [-14.21476213]\n",
        "calG ="
       ]
      },
      {
       "output_type": "stream",
       "stream": "stdout",
       "text": [
        " [ -1.60917487e+55 -2.55696210e+54j] calG* = [ -1.60917487e+55 +2.55696210e+54j]\n",
        "k0= 1.63e-20 hk(Nshss) = (-8.39504150448e+23-1.59675814387e+25j) TPS = 4.48745548937e-10 G = [ -3.05519462e+115+0.j]\n",
        "\n",
        "\n",
        "k ="
       ]
      },
      {
       "output_type": "stream",
       "stream": "stdout",
       "text": [
        " 1.72e-20 Nics = [-14.20719836]\n",
        "calG ="
       ]
      },
      {
       "output_type": "stream",
       "stream": "stdout",
       "text": [
        " [ -1.40687782e+55 -2.23618712e+54j] calG* = [ -1.40687782e+55 +2.23618712e+54j]\n",
        "k0= 1.72e-20 hk(Nshss) = (-7.74716568637e+23-1.47309360333e+25j) TPS = 4.48751382231e-10 G = [ -2.17944752e+115+0.j]\n",
        "\n",
        "\n",
        "k ="
       ]
      },
      {
       "output_type": "stream",
       "stream": "stdout",
       "text": [
        " 1.81e-20 Nics = [-14.20001673]\n",
        "calG ="
       ]
      },
      {
       "output_type": "stream",
       "stream": "stdout",
       "text": [
        " [ -1.23847004e+55 -1.96906909e+54j] calG* = [ -1.23847004e+55 +1.96906909e+54j]\n",
        "k0= 1.81e-20 hk(Nshss) = (-7.17863198005e+23-1.36460611144e+25j) TPS = 4.48756541438e-10 G = [  5.70203593e+114+0.j]\n",
        "\n",
        "\n",
        "k ="
       ]
      },
      {
       "output_type": "stream",
       "stream": "stdout",
       "text": [
        " 1.9e-20 Nics = [-14.1931803]\n",
        "calG ="
       ]
      },
      {
       "output_type": "stream",
       "stream": "stdout",
       "text": [
        " [ -1.09698987e+55 -1.74459829e+54j] calG* = [ -1.09698987e+55 +1.74459829e+54j]\n",
        "k0= 1.9e-20 hk(Nshss) = (-6.67647158291e+23-1.26881112646e+25j) TPS = 4.48761759275e-10 G = [  3.80877242e+114+0.j]\n",
        "\n",
        "\n",
        "k ="
       ]
      },
      {
       "output_type": "stream",
       "stream": "stdout",
       "text": [
        " 1.99e-20 Nics = [-14.18665725]\n",
        "calG ="
       ]
      },
      {
       "output_type": "stream",
       "stream": "stdout",
       "text": [
        " [ -9.77143182e+54 -1.55439960e+54j] calG* = [ -9.77143182e+54 +1.55439960e+54j]\n",
        "k0= 1.99e-20 hk(Nshss) = (-6.2303126026e+23-1.18372223391e+25j) TPS = 4.48766602781e-10 G = [ -7.59830558e+114+0.j]\n",
        "\n",
        "\n",
        "k ="
       ]
      },
      {
       "output_type": "stream",
       "stream": "stdout",
       "text": [
        " 2.08e-20 Nics = [-14.18041999]\n",
        "calG ="
       ]
      },
      {
       "output_type": "stream",
       "stream": "stdout",
       "text": [
        " [ -8.74856126e+54 -1.39202668e+54j] calG* = [ -8.74856126e+54 +1.39202668e+54j]\n",
        "k0= 2.08e-20 hk(Nshss) = (-5.83178200248e+23-1.10773623634e+25j) TPS = 4.4877122219e-10 G = [ -1.62872368e+114+0.j]\n",
        "\n",
        "\n",
        "k ="
       ]
      },
      {
       "output_type": "stream",
       "stream": "stdout",
       "text": [
        " 2.17e-20 Nics = [-14.17444439]\n",
        "calG ="
       ]
      },
      {
       "output_type": "stream",
       "stream": "stdout",
       "text": [
        " [ -7.86952480e+54 -1.25245209e+54j] calG* = [ -7.86952480e+54 +1.25245209e+54j]\n",
        "k0= 2.17e-20 hk(Nshss) = (-5.47404544106e+23-1.03954496804e+25j) TPS = 4.48774928278e-10 G = [ -4.74247780e+114+0.j]\n",
        "\n",
        "\n",
        "k ="
       ]
      },
      {
       "output_type": "stream",
       "stream": "stdout",
       "text": [
        " 2.26e-20 Nics = [-14.1687093]\n",
        "calG ="
       ]
      },
      {
       "output_type": "stream",
       "stream": "stdout",
       "text": [
        " [ -7.10928392e+54 -1.13171175e+54j] calG* = [ -7.10928392e+54 +1.13171175e+54j]\n",
        "k0= 2.26e-20 hk(Nshss) = (-5.1514738412e+23-9.78071183746e+24j) TPS = 4.48775974992e-10 G = [ -2.05499355e+114+0.j]\n",
        "\n",
        "\n",
        "k ="
       ]
      },
      {
       "output_type": "stream",
       "stream": "stdout",
       "text": [
        " 2.35e-20 Nics = [-14.16319601]\n",
        "calG ="
       ]
      },
      {
       "output_type": "stream",
       "stream": "stdout",
       "text": [
        " [ -6.44785071e+54 -1.02664022e+54j]"
       ]
      },
      {
       "output_type": "stream",
       "stream": "stdout",
       "text": [
        " calG* = [ -6.44785071e+54 +1.02664022e+54j]\n",
        "k0= 2.35e-20 hk(Nshss) = (-4.85937855255e+23-9.22417926429e+24j) TPS = 4.48769072102e-10 G = [  5.70113409e+113+0.j]\n",
        "\n",
        "\n",
        "k ="
       ]
      },
      {
       "output_type": "stream",
       "stream": "stdout",
       "text": [
        " 2.44e-20 Nics = [-14.15788792]\n",
        "calG ="
       ]
      },
      {
       "output_type": "stream",
       "stream": "stdout",
       "text": [
        " [ -5.86996234e+54 -9.34820565e+53j] calG* = [ -5.86996234e+54 +9.34820565e+53j]\n",
        "k0= 2.44e-20 hk(Nshss) = (-4.59404262507e+23-8.71873946044e+24j) TPS = 4.48787994882e-10 G = [  2.95878789e+113+0.j]\n",
        "\n",
        "\n",
        "k ="
       ]
      },
      {
       "output_type": "stream",
       "stream": "stdout",
       "text": [
        " 2.53e-20 Nics = [-14.15277024]\n",
        "calG ="
       ]
      },
      {
       "output_type": "stream",
       "stream": "stdout",
       "text": [
        " [ -5.36181767e+54 -8.54065558e+53j] calG* = [ -5.36181767e+54 +8.54065558e+53j]\n",
        "k0= 2.53e-20 hk(Nshss) = (-4.35196668687e+23-8.25770355977e+24j) TPS = 4.48791851021e-10 G = [ -5.16829675e+113+0.j]\n",
        "\n",
        "\n",
        "k ="
       ]
      },
      {
       "output_type": "stream",
       "stream": "stdout",
       "text": [
        " 2.62e-20 Nics = [-14.1478297]\n",
        "calG ="
       ]
      },
      {
       "output_type": "stream",
       "stream": "stdout",
       "text": [
        " [ -4.91318347e+54 -7.82753827e+53j] calG* = [ -4.91318347e+54 +7.82753827e+53j]\n",
        "k0= 2.62e-20 hk(Nshss) = (-4.13045265093e+23-7.83591193897e+24j) TPS = 4.48795241252e-10 G = [  1.11527590e+113+0.j]\n",
        "\n",
        "\n",
        "k ="
       ]
      },
      {
       "output_type": "stream",
       "stream": "stdout",
       "text": [
        " 2.71e-20 Nics = [-14.14305441]\n",
        "calG ="
       ]
      },
      {
       "output_type": "stream",
       "stream": "stdout",
       "text": [
        " [ -4.51539828e+54 -7.19512544e+53j] calG* = [ -4.51539828e+54 +7.19512544e+53j]\n",
        "k0= 2.71e-20 hk(Nshss) = (-3.92713676471e+23-7.44884635433e+24j) TPS = 4.48798729153e-10 G = [  5.99272914e+113+0.j]\n",
        "\n",
        "\n",
        "k ="
       ]
      },
      {
       "output_type": "stream",
       "stream": "stdout",
       "text": [
        " 2.8e-20 Nics = [-14.13843361]\n",
        "calG ="
       ]
      },
      {
       "output_type": "stream",
       "stream": "stdout",
       "text": [
        " [ -4.16128026e+54 -6.63203194e+53j] calG* = [ -4.16128026e+54 +6.63203194e+53j]\n",
        "k0= 2.8e-20 hk(Nshss) = (-3.7399901371e+23-7.09262911938e+24j) TPS = 4.48801945972e-10 G = [  1.53162553e+113+0.j]\n",
        "\n",
        "\n",
        "k ="
       ]
      },
      {
       "output_type": "stream",
       "stream": "stdout",
       "text": [
        " 2.89e-20 Nics = [-14.13395757]\n",
        "calG ="
       ]
      },
      {
       "output_type": "stream",
       "stream": "stdout",
       "text": [
        " [ -3.84484223e+54 -6.12876430e+53j] calG* = [ -3.84484223e+54 +6.12876430e+53j]\n",
        "k0= 2.89e-20 hk(Nshss) = (-3.5672632928e+23-6.7639176084e+24j) TPS = 4.48803970244e-10 G = [  1.62030650e+113+0.j]\n",
        "\n",
        "\n",
        "k ="
       ]
      },
      {
       "output_type": "stream",
       "stream": "stdout",
       "text": [
        " 2.98e-20 Nics = [-14.12961745]\n",
        "calG ="
       ]
      },
      {
       "output_type": "stream",
       "stream": "stdout",
       "text": [
        " [ -3.56112526e+54 -5.67745875e+53j] calG* = [ -3.56112526e+54 +5.67745875e+53j]\n",
        "k0= 2.98e-20 hk(Nshss) = (-3.40746026549e+23-6.45985351731e+24j) TPS = 4.48808498709e-10 G = [  5.53936648e+113+0.j]\n",
        "\n",
        "\n",
        "k ="
       ]
      },
      {
       "output_type": "stream",
       "stream": "stdout",
       "text": [
        " 3.07e-20 Nics = [-14.12540521]\n",
        "calG ="
       ]
      },
      {
       "output_type": "stream",
       "stream": "stdout",
       "text": [
        " [ -3.30586066e+54 -5.27134393e+53j] calG* = [ -3.30586066e+54 +5.27134393e+53j]\n",
        "k0= 3.07e-20 hk(Nshss) = (-3.25925180485e+23-6.17789820461e+24j) TPS = 4.48811467896e-10 G = [  6.40306650e+112+0.j]\n",
        "\n",
        "\n",
        "k ="
       ]
      },
      {
       "output_type": "stream",
       "stream": "stdout",
       "text": [
        " 3.16e-20 Nics = [-14.12131348]\n",
        "calG ="
       ]
      },
      {
       "output_type": "stream",
       "stream": "stdout",
       "text": [
        " [ -3.07561446e+54 -4.90497324e+53j] calG* = [ -3.07561446e+54 +4.90497324e+53j]\n",
        "k0= 3.16e-20 hk(Nshss) = (-3.1215373791e+23-5.91594919223e+24j) TPS = 4.48825799744e-10 G = [ -2.41373812e+113+0.j]\n",
        "\n",
        "\n",
        "k ="
       ]
      },
      {
       "output_type": "stream",
       "stream": "stdout",
       "text": [
        " 3.25e-20 Nics = [-14.11733553]\n",
        "calG ="
       ]
      },
      {
       "output_type": "stream",
       "stream": "stdout",
       "text": [
        " [ -2.86782996e+54 -4.57429393e+53j] calG* = [ -2.86782996e+54 +4.57429393e+53j]\n",
        "k0= 3.25e-20 hk(Nshss) = (-2.99348326876e+23-5.67241220065e+24j) TPS = 4.4890423554e-10 G = [ -5.75580816e+112+0.j]\n",
        "\n",
        "\n",
        "k ="
       ]
      },
      {
       "output_type": "stream",
       "stream": "stdout",
       "text": [
        " 3.34e-20 Nics = [-14.11346518]\n",
        "calG ="
       ]
      },
      {
       "output_type": "stream",
       "stream": "stdout",
       "text": [
        " [ -2.67776538e+54 -4.27176370e+53j] calG* = [ -2.67776538e+54 +4.27176370e+53j]\n",
        "k0= 3.34e-20 hk(Nshss) = (-2.87345616436e+23-5.44417956565e+24j) TPS = 4.48820503254e-10 G = [  6.87183560e+112+0.j]\n",
        "\n",
        "\n",
        "k ="
       ]
      },
      {
       "output_type": "stream",
       "stream": "stdout",
       "text": [
        " 3.43e-20 Nics = [-14.10969672]\n",
        "calG ="
       ]
      },
      {
       "output_type": "stream",
       "stream": "stdout",
       "text": [
        " [ -2.50556254e+54 -3.99762620e+53j] calG* = [ -2.50556254e+54 +3.99762620e+53j]\n",
        "k0= 3.43e-20 hk(Nshss) = (-2.76150209396e+23-5.23132769652e+24j) TPS = 4.48822848525e-10 G = [ -7.19875272e+112+0.j]\n",
        "\n",
        "\n",
        "k ="
       ]
      },
      {
       "output_type": "stream",
       "stream": "stdout",
       "text": [
        " 3.52e-20 Nics = [-14.1060249]\n",
        "calG ="
       ]
      },
      {
       "output_type": "stream",
       "stream": "stdout",
       "text": [
        " [ -2.34847590e+54 -3.74751669e+53j] calG* = [ -2.34847590e+54 +3.74751669e+53j]\n",
        "k0= 3.52e-20 hk(Nshss) = (-2.65664347537e+23-5.03199481559e+24j) TPS = 4.48825412102e-10 G = [  8.19923186e+112+0.j]\n",
        "\n",
        "\n",
        "k ="
       ]
      },
      {
       "output_type": "stream",
       "stream": "stdout",
       "text": [
        " 3.61e-20 Nics = [-14.10244488]\n",
        "calG ="
       ]
      },
      {
       "output_type": "stream",
       "stream": "stdout",
       "text": [
        " [ -2.20484110e+54 -3.51879277e+53j] calG* = [ -2.20484110e+54 +3.51879277e+53j]\n",
        "k0= 3.61e-20 hk(Nshss) = (-2.55826597076e+23-4.84500855826e+24j) TPS = 4.48828166425e-10 G = [  1.12072452e+112+0.j]\n",
        "\n",
        "\n",
        "k ="
       ]
      },
      {
       "output_type": "stream",
       "stream": "stdout",
       "text": [
        " 3.7e-20 Nics = [-14.09895213]\n",
        "calG ="
       ]
      },
      {
       "output_type": "stream",
       "stream": "stdout",
       "text": [
        " [ -2.07320788e+54 -3.30915141e+53j] calG* = [ -2.07320788e+54 +3.30915141e+53j]\n",
        "k0= 3.7e-20 hk(Nshss) = (-2.46582013115e+23-4.66932069959e+24j) TPS = 4.48830430208e-10 G = [ -2.82576644e+112+0.j]\n",
        "\n",
        "\n",
        "k ="
       ]
      },
      {
       "output_type": "stream",
       "stream": "stdout",
       "text": [
        " 3.79e-20 Nics = [-14.0955425]\n",
        "calG ="
       ]
      },
      {
       "output_type": "stream",
       "stream": "stdout",
       "text": [
        " [ -1.95232141e+54 -3.11659985e+53j] calG* = [ -1.95232141e+54 +3.11659985e+53j]\n",
        "k0= 3.79e-20 hk(Nshss) = (-2.37881853794e+23-4.5040013495e+24j) TPS = 4.48832891561e-10 G = [  1.32035064e+112+0.j]\n",
        "\n",
        "\n",
        "k ="
       ]
      },
      {
       "output_type": "stream",
       "stream": "stdout",
       "text": [
        " 3.88e-20 Nics = [-14.0922121]\n",
        "calG ="
       ]
      },
      {
       "output_type": "stream",
       "stream": "stdout",
       "text": [
        " [ -1.84107792e+54 -2.93938488e+53j] calG* = [ -1.84107792e+54 +2.93938488e+53j]\n",
        "k0= 3.88e-20 hk(Nshss) = (-2.29682183608e+23-4.34821244419e+24j) TPS = 4.48835300863e-10 G = [ -4.37815308e+112+0.j]\n",
        "\n",
        "\n",
        "k ="
       ]
      },
      {
       "output_type": "stream",
       "stream": "stdout",
       "text": [
        " 3.97e-20 Nics = [-14.08895731]\n",
        "calG ="
       ]
      },
      {
       "output_type": "stream",
       "stream": "stdout",
       "text": [
        " [ -1.73852134e+54 -2.77598778e+53j] calG* = [ -1.73852134e+54 +2.77598778e+53j]\n",
        "k0= 3.97e-20 hk(Nshss) = (-2.21944038632e+23-4.20121087326e+24j) TPS = 4.48839525582e-10 G = [  1.51457511e+112+0.j]\n",
        "\n",
        "\n",
        "k ="
       ]
      },
      {
       "output_type": "stream",
       "stream": "stdout",
       "text": [
        " 4.06e-20 Nics = [-14.08577476]\n",
        "calG ="
       ]
      },
      {
       "output_type": "stream",
       "stream": "stdout",
       "text": [
        " [ -1.64767612e+54 -2.63124537e+53j] calG* = [ -1.64767612e+54 +2.63124537e+53j]\n",
        "k0= 4.06e-20 hk(Nshss) = (-2.14800474688e+23-4.06550992022e+24j) TPS = 4.49551083525e-10 G = [  6.93524625e+111+0.j]\n",
        "\n",
        "\n",
        "k ="
       ]
      },
      {
       "output_type": "stream",
       "stream": "stdout",
       "text": [
        " 4.15e-20 Nics = [-14.0826613]\n",
        "calG ="
       ]
      },
      {
       "output_type": "stream",
       "stream": "stdout",
       "text": [
        " [ -1.55589438e+54 -2.48496567e+53j] calG* = [ -1.55589438e+54 +2.48496567e+53j]\n",
        "k0= 4.15e-20 hk(Nshss) = (-2.07701799351e+23-3.93070109227e+24j) TPS = 4.48802745832e-10 G = [  2.30392027e+112+0.j]\n",
        "\n",
        "\n",
        "k ="
       ]
      },
      {
       "output_type": "stream",
       "stream": "stdout",
       "text": [
        " 4.24e-20 Nics = [-14.07961397]\n",
        "calG ="
       ]
      },
      {
       "output_type": "stream",
       "stream": "stdout",
       "text": [
        " [ -1.47484089e+54 -2.35578190e+53j] calG* = [ -1.47484089e+54 +2.35578190e+53j]\n",
        "k0= 4.24e-20 hk(Nshss) = (-2.01155822345e+23-3.8063916736e+24j) TPS = 4.48844561964e-10 G = [  2.24849467e+112+0.j]\n",
        "\n",
        "\n",
        "k ="
       ]
      },
      {
       "output_type": "stream",
       "stream": "stdout",
       "text": [
        " 4.33e-20 Nics = [-14.07663001]\n",
        "calG ="
       ]
      },
      {
       "output_type": "stream",
       "stream": "stdout",
       "text": [
        " [ -1.39939831e+54 -2.23552631e+53j] calG* = [ -1.39939831e+54 +2.23552631e+53j]\n",
        "k0= 4.33e-20 hk(Nshss) = (-1.94938694291e+23-3.68834136188e+24j) TPS = 4.48846271412e-10 G = [  3.94414241e+112+0.j]\n",
        "\n",
        "\n",
        "k ="
       ]
      },
      {
       "output_type": "stream",
       "stream": "stdout",
       "text": [
        " 4.42e-20 Nics = [-14.07370682]\n",
        "calG ="
       ]
      },
      {
       "output_type": "stream",
       "stream": "stdout",
       "text": [
        " [ -1.32925147e+54 -2.12369951e+53j] calG* = [ -1.32925147e+54 +2.12369951e+53j]\n",
        "k0= 4.42e-20 hk(Nshss) = (-1.89035822319e+23-3.57627075951e+24j) TPS = 4.48848282056e-10 G = [ -6.93054916e+111+0.j]\n",
        "\n",
        "\n",
        "k ="
       ]
      },
      {
       "output_type": "stream",
       "stream": "stdout",
       "text": [
        " 4.51e-20 Nics = [-14.07084198]\n",
        "calG ="
       ]
      },
      {
       "output_type": "stream",
       "stream": "stdout",
       "text": [
        " [ -1.33343580e+54 -2.13061263e+53j] calG* = [ -1.33343580e+54 +2.13061263e+53j]\n",
        "k0= 4.51e-20 hk(Nshss) = (-1.86727789409e+23-3.53223392901e+24j) TPS = 4.65158297242e-10 G = [  9.99070015e+111+0.j]\n",
        "\n",
        "\n",
        "k ="
       ]
      },
      {
       "output_type": "stream",
       "stream": "stdout",
       "text": [
        " 4.6e-20 Nics = [-14.06803317]\n",
        "calG ="
       ]
      },
      {
       "output_type": "stream",
       "stream": "stdout",
       "text": [
        " [ -1.20301724e+54 -1.92242645e+53j] calG* = [ -1.20301724e+54 +1.92242645e+53j]\n",
        "k0= 4.6e-20 hk(Nshss) = (-1.78087354237e+23-3.36843957716e+24j) TPS = 4.48852344995e-10 G = [  5.64354783e+111+0.j]\n",
        "\n",
        "\n",
        "k ="
       ]
      },
      {
       "output_type": "stream",
       "stream": "stdout",
       "text": [
        " 4.69e-20 Nics = [-14.06527825]\n",
        "calG ="
       ]
      },
      {
       "output_type": "stream",
       "stream": "stdout",
       "text": [
        " [ -1.14613692e+54 -1.83171944e+53j] calG* = [ -1.14613692e+54 +1.83171944e+53j]\n",
        "k0= 4.69e-20 hk(Nshss) = (-1.7300372272e+23-3.27195422565e+24j) TPS = 4.48854612212e-10 G = [ -6.19780388e+111+0.j]\n",
        "\n",
        "\n",
        "k ="
       ]
      },
      {
       "output_type": "stream",
       "stream": "stdout",
       "text": [
        " 4.78e-20 Nics = [-14.06257517]\n",
        "calG ="
       ]
      },
      {
       "output_type": "stream",
       "stream": "stdout",
       "text": [
        " [ -1.09294912e+54 -1.74689209e+53j] calG* = [ -1.09294912e+54 +1.74689209e+53j]\n",
        "k0= 4.78e-20 hk(Nshss) = (-1.68157600584e+23-3.17998623769e+24j) TPS = 4.48856104589e-10 G = [  9.02427487e+111+0.j]\n",
        "\n",
        "\n",
        "k ="
       ]
      },
      {
       "output_type": "stream",
       "stream": "stdout",
       "text": [
        " 4.87e-20 Nics = [-14.05992201]\n",
        "calG ="
       ]
      },
      {
       "output_type": "stream",
       "stream": "stdout",
       "text": [
        " [ -1.04316043e+54 -1.66747778e+53j] calG* = [ -1.04316043e+54 +1.66747778e+53j]\n",
        "k0= 4.87e-20 hk(Nshss) = (-1.63534202922e+23-3.0922539636e+24j) TPS = 4.48859471739e-10 G = [  7.31629728e+111+0.j]\n",
        "\n",
        "\n",
        "k ="
       ]
      },
      {
       "output_type": "stream",
       "stream": "stdout",
       "text": [
        " 4.96e-20 Nics = [-14.05731694]\n",
        "calG ="
       ]
      },
      {
       "output_type": "stream",
       "stream": "stdout",
       "text": [
        " [ -9.96479870e+53 -1.59301355e+53j] calG* = [ -9.96479870e+53 +1.59301355e+53j]\n",
        "k0= 4.96e-20 hk(Nshss) = (-1.59118568765e+23-3.00847254892e+24j) TPS = 4.48859650582e-10 G = [  3.90503918e+111+0.j]\n",
        "\n",
        "\n",
        "k ="
       ]
      },
      {
       "output_type": "stream",
       "stream": "stdout",
       "text": [
        " 5.05e-20 Nics = [-14.05475825]\n",
        "calG ="
       ]
      },
      {
       "output_type": "stream",
       "stream": "stdout",
       "text": [
        " [ -9.52677875e+53 -1.52313435e+53j] calG* = [ -9.52677875e+53 +1.52313435e+53j]\n",
        "k0= 5.05e-20 hk(Nshss) = (-1.5489868269e+23-2.92841303102e+24j) TPS = 4.48861600481e-10 G = [ -5.47797557e+111+0.j]\n",
        "\n",
        "\n",
        "k ="
       ]
      },
      {
       "output_type": "stream",
       "stream": "stdout",
       "text": [
        " 5.14e-20 Nics = [-14.05224431]\n",
        "calG ="
       ]
      },
      {
       "output_type": "stream",
       "stream": "stdout",
       "text": [
        " [ -9.11524419e+53 -1.45747418e+53j] calG* = [ -9.11524419e+53 +1.45747418e+53j]\n",
        "k0= 5.14e-20 hk(Nshss) = (-1.50862289067e+23-2.85184206732e+24j) TPS = 4.48863383731e-10 G = [  2.81003120e+111+0.j]\n",
        "\n",
        "\n",
        "k ="
       ]
      },
      {
       "output_type": "stream",
       "stream": "stdout",
       "text": [
        " 5.23e-20 Nics = [-14.04977357]\n",
        "calG ="
       ]
      },
      {
       "output_type": "stream",
       "stream": "stdout",
       "text": [
        " [ -8.72818493e+53 -1.39571321e+53j] calG* = [ -8.72818493e+53 +1.39571321e+53j]\n",
        "k0= 5.23e-20 hk(Nshss) = (-1.46998479023e+23-2.7785519583e+24j) TPS = 4.4886548257e-10 G = [  9.47049797e+110+0.j]\n",
        "\n",
        "\n",
        "k ="
       ]
      },
      {
       "output_type": "stream",
       "stream": "stdout",
       "text": [
        " 5.32e-20 Nics = [-14.04734457]\n",
        "calG ="
       ]
      },
      {
       "output_type": "stream",
       "stream": "stdout",
       "text": [
        " [ -8.36298155e+53 -1.33743401e+53j] calG* = [ -8.36298155e+53 +1.33743401e+53j]\n",
        "k0= 5.32e-20 hk(Nshss) = (-1.43292643143e+23-2.70826512136e+24j) TPS = 4.48840009545e-10 G = [  6.60556958e+111+0.j]\n",
        "\n",
        "\n",
        "k ="
       ]
      },
      {
       "output_type": "stream",
       "stream": "stdout",
       "text": [
        " 5.41e-20 Nics = [-14.0449559]\n",
        "calG ="
       ]
      },
      {
       "output_type": "stream",
       "stream": "stdout",
       "text": [
        " [ -2.72386530e+61 -4.35647408e+60j] calG* = [ -2.72386530e+61 +4.35647408e+60j]\n",
        "k0= 5.41e-20 hk(Nshss) = (-4.52563681884e+25-8.55281874919e+26j) TPS = 4.70744067714e-05 G = [ -4.37288523e+126+0.j]\n",
        "\n",
        "\n",
        "k ="
       ]
      },
      {
       "output_type": "stream",
       "stream": "stdout",
       "text": [
        " 5.5e-20 Nics = [-14.04260625]\n",
        "calG ="
       ]
      },
      {
       "output_type": "stream",
       "stream": "stdout",
       "text": [
        " [ -2.33187006e+73 -3.72985089e+72j] calG* = [ -2.33187006e+73 +3.72985089e+72j]\n",
        "k0= 5.5e-20 hk(Nshss) = (-4.25056103893e+29-8.03227868614e+30j) TPS = 4362.54917319 G = [  5.65011514e+149+0.j]\n",
        "\n",
        "\n",
        "k ="
       ]
      },
      {
       "output_type": "stream",
       "stream": "stdout",
       "text": [
        " 5.59e-20 Nics = [-14.04029435]\n",
        "calG ="
       ]
      },
      {
       "output_type": "stream",
       "stream": "stdout",
       "text": [
        " [ -7.39040946e+53 -1.18220448e+53j] calG* = [ -7.39040946e+53 +1.18220448e+53j]\n",
        "k0= 5.59e-20 hk(Nshss) = (-1.33077527571e+23-2.51455308347e+24j) TPS = 4.48881775826e-10 G = [  4.57877733e+111+0.j]\n",
        "\n",
        "\n",
        "k ="
       ]
      },
      {
       "output_type": "stream",
       "stream": "stdout",
       "text": [
        " 5.68e-20 Nics = [-14.03801901]\n",
        "calG ="
       ]
      },
      {
       "output_type": "stream",
       "stream": "stdout",
       "text": [
        " [ -7.10089071e+53 -1.13598678e+53j] calG* = [ -7.10089071e+53 +1.13598678e+53j]\n",
        "k0= 5.68e-20 hk(Nshss) = (-1.29936498702e+23-2.45499965063e+24j) TPS = 4.48872511228e-10 G = [ -4.74992737e+110+0.j]\n",
        "\n",
        "\n",
        "k ="
       ]
      },
      {
       "output_type": "stream",
       "stream": "stdout",
       "text": [
        " 5.77e-20 Nics = [-14.03577907]\n",
        "calG ="
       ]
      },
      {
       "output_type": "stream",
       "stream": "stdout",
       "text": [
        " [ -6.82725824e+53 -1.09230149e+53j] calG* = [ -6.82725824e+53 +1.09230149e+53j]\n",
        "k0= 5.77e-20 hk(Nshss) = (-1.26918838718e+23-2.39779002506e+24j) TPS = 4.48874638456e-10 G = [  3.24979580e+110+0.j]\n",
        "\n",
        "\n",
        "k ="
       ]
      },
      {
       "output_type": "stream",
       "stream": "stdout",
       "text": [
        " 5.86e-20 Nics = [-14.03357346]\n",
        "calG ="
       ]
      },
      {
       "output_type": "stream",
       "stream": "stdout",
       "text": [
        " [ -6.56815140e+53 -1.05093176e+53j] calG* = [ -6.56815140e+53 +1.05093176e+53j]\n",
        "k0= 5.86e-20 hk(Nshss) = (-1.24016270489e+23-2.34276692825e+24j) TPS = 4.48876161071e-10 G = [  3.89858069e+110+0.j]\n",
        "\n",
        "\n",
        "k ="
       ]
      },
      {
       "output_type": "stream",
       "stream": "stdout",
       "text": [
        " 5.95e-20 Nics = [-14.03140113]\n",
        "calG ="
       ]
      },
      {
       "output_type": "stream",
       "stream": "stdout",
       "text": [
        " [ -6.32260830e+53 -1.01172443e+53j] calG* = [ -6.32260830e+53 +1.01172443e+53j]\n",
        "k0= 5.95e-20 hk(Nshss) = (-1.2122283063e+23-2.2898168751e+24j) TPS = 4.48877787497e-10 G = [ -3.85513265e+111+0.j]\n",
        "\n",
        "\n",
        "k ="
       ]
      },
      {
       "output_type": "stream",
       "stream": "stdout",
       "text": [
        " 6.04e-20 Nics = [-14.02926108]\n",
        "calG ="
       ]
      },
      {
       "output_type": "stream",
       "stream": "stdout",
       "text": [
        " [ -6.08950535e+53 -9.74500409e+52j] calG* = [ -6.08950535e+53 +9.74500409e+52j]\n",
        "k0= 6.04e-20 hk(Nshss) = (-1.18531400652e+23-2.23880467847e+24j) TPS = 4.48868500347e-10 G = [ -7.63569907e+110+0.j]\n",
        "\n",
        "\n",
        "k ="
       ]
      },
      {
       "output_type": "stream",
       "stream": "stdout",
       "text": [
        " 6.13e-20 Nics = [-14.02715237]\n",
        "calG ="
       ]
      },
      {
       "output_type": "stream",
       "stream": "stdout",
       "text": [
        " [ -5.86867690e+53 -9.39233834e+52j] calG* = [ -5.86867690e+53 +9.39233834e+52j]\n",
        "k0= 6.13e-20 hk(Nshss) = (-1.15940987492e+23-2.18971081356e+24j) TPS = 4.48880806968e-10 G = [ -1.04965175e+111+0.j]\n",
        "\n",
        "\n",
        "k ="
       ]
      },
      {
       "output_type": "stream",
       "stream": "stdout",
       "text": [
        " 6.22e-20 Nics = [-14.02507408]\n",
        "calG ="
       ]
      },
      {
       "output_type": "stream",
       "stream": "stdout",
       "text": [
        " [ -5.65869619e+53 -9.05696970e+52j] calG* = [ -5.65869619e+53 +9.05696970e+52j]\n",
        "k0= 6.22e-20 hk(Nshss) = (-1.13442332855e+23-2.1423597452e+24j) TPS = 4.48882031728e-10 G = [  3.60354503e+110+0.j]\n",
        "\n",
        "\n",
        "k ="
       ]
      },
      {
       "output_type": "stream",
       "stream": "stdout",
       "text": [
        " 6.31e-20 Nics = [-14.02302535]\n",
        "calG ="
       ]
      },
      {
       "output_type": "stream",
       "stream": "stdout",
       "text": [
        " [ -5.45790219e+53 -8.73624471e+52j] calG* = [ -5.45790219e+53 +8.73624471e+52j]\n",
        "k0= 6.31e-20 hk(Nshss) = (-1.11024244231e+23-2.09653952501e+24j) TPS = 4.4881838027e-10 G = [  4.90258264e+110+0.j]\n",
        "\n",
        "\n",
        "k ="
       ]
      },
      {
       "output_type": "stream",
       "stream": "stdout",
       "text": [
        " 6.4e-20 Nics = [-14.02100533]\n",
        "calG ="
       ]
      },
      {
       "output_type": "stream",
       "stream": "stdout",
       "text": [
        " [ -5.26920091e+53 -8.43482002e+52j] calG* = [ -5.26920091e+53 +8.43482002e+52j]\n",
        "k0= 6.4e-20 hk(Nshss) = (-1.08706490209e+23-2.05262285183e+24j) TPS = 4.48884764359e-10 G = [ -3.90591988e+110+0.j]\n",
        "\n",
        "\n",
        "k ="
       ]
      },
      {
       "output_type": "stream",
       "stream": "stdout",
       "text": [
        " 6.49e-20 Nics = [-14.01901325]\n",
        "calG ="
       ]
      },
      {
       "output_type": "stream",
       "stream": "stdout",
       "text": [
        " [ -5.08843687e+53 -8.14604859e+52j] calG* = [ -5.08843687e+53 +8.14604859e+52j]\n",
        "k0= 6.49e-20 hk(Nshss) = (-1.0646089669e+23-2.01007717053e+24j) TPS = 4.48886299559e-10 G = [  2.09240466e+110+0.j]\n",
        "\n",
        "\n",
        "k ="
       ]
      },
      {
       "output_type": "stream",
       "stream": "stdout",
       "text": [
        " 6.58e-20 Nics = [-14.01704832]\n",
        "calG ="
       ]
      },
      {
       "output_type": "stream",
       "stream": "stdout",
       "text": [
        " [ -4.91623108e+53 -7.87092876e+52j] calG* = [ -4.91623108e+53 +7.87092876e+52j]\n",
        "k0= 6.58e-20 hk(Nshss) = (-1.0429162166e+23-1.96898045603e+24j) TPS = 4.48887447229e-10 G = [  4.37416056e+109+0.j]\n",
        "\n",
        "\n",
        "k ="
       ]
      },
      {
       "output_type": "stream",
       "stream": "stdout",
       "text": [
        " 6.67e-20 Nics = [-14.01510981]\n",
        "calG ="
       ]
      },
      {
       "output_type": "stream",
       "stream": "stdout",
       "text": [
        " [ -4.75207237e+53 -7.60864610e+52j] calG* = [ -4.75207237e+53 +7.60864610e+52j]\n",
        "k0= 6.67e-20 hk(Nshss) = (-1.0219509984e+23-1.92926492552e+24j) TPS = 4.48888394703e-10 G = [  9.39783993e+110+0.j]\n",
        "\n",
        "\n",
        "k ="
       ]
      },
      {
       "output_type": "stream",
       "stream": "stdout",
       "text": [
        " 6.76e-20 Nics = [-14.01319703]\n",
        "calG ="
       ]
      },
      {
       "output_type": "stream",
       "stream": "stdout",
       "text": [
        " [ -4.59549820e+53 -7.35846368e+52j] calG* = [ -4.59549820e+53 +7.35846368e+52j]\n",
        "k0= 6.76e-20 hk(Nshss) = (-1.0016806384e+23-1.89086844366e+24j) TPS = 4.48890093056e-10 G = [  8.72630353e+110+0.j]\n",
        "\n",
        "\n",
        "k ="
       ]
      },
      {
       "output_type": "stream",
       "stream": "stdout",
       "text": [
        " 6.85e-20 Nics = [-14.01130929]\n",
        "calG ="
       ]
      },
      {
       "output_type": "stream",
       "stream": "stdout",
       "text": [
        " [ -4.44405659e+53 -7.11645847e+52j] calG* = [ -4.44405659e+53 +7.11645847e+52j]\n",
        "k0= 6.85e-20 hk(Nshss) = (-9.81925489568e+22-1.85345148704e+24j) TPS = 4.4875740681e-10 G = [  6.94434685e+110+0.j]\n",
        "\n",
        "\n",
        "k ="
       ]
      },
      {
       "output_type": "stream",
       "stream": "stdout",
       "text": [
        " 6.94e-20 Nics = [-14.00944594]\n",
        "calG ="
       ]
      },
      {
       "output_type": "stream",
       "stream": "stdout",
       "text": [
        " [ -4.30331300e+53 -6.89154591e+52j] calG* = [ -4.30331300e+53 +6.89154591e+52j]\n",
        "k0= 6.94e-20 hk(Nshss) = (-9.63095806989e+22-1.81778802995e+24j) TPS = 4.48892677386e-10 G = [  1.60728383e+109+0.j]\n",
        "\n",
        "\n",
        "k ="
       ]
      },
      {
       "output_type": "stream",
       "stream": "stdout",
       "text": [
        " 7.03e-20 Nics = [-14.00760635]\n",
        "calG ="
       ]
      },
      {
       "output_type": "stream",
       "stream": "stdout",
       "text": [
        " [ -4.16691039e+53 -6.67354905e+52j] calG* = [ -4.16691039e+53 +6.67354905e+52j]\n",
        "k0= 7.03e-20 hk(Nshss) = (-9.44723471972e+22-1.78299410095e+24j) TPS = 4.48893770505e-10 G = [ -4.39837991e+110+0.j]\n",
        "\n",
        "\n",
        "k ="
       ]
      },
      {
       "output_type": "stream",
       "stream": "stdout",
       "text": [
        " 7.12e-20 Nics = [-14.00578993]\n",
        "calG ="
       ]
      },
      {
       "output_type": "stream",
       "stream": "stdout",
       "text": [
        " [ -4.03650087e+53 -6.46511621e+52j] calG* = [ -4.03650087e+53 +6.46511621e+52j]\n",
        "k0= 7.12e-20 hk(Nshss) = (-9.26929875151e+22-1.74929847104e+24j) TPS = 4.48896027958e-10 G = [ -5.84126576e+110+0.j]\n",
        "\n",
        "\n",
        "k ="
       ]
      },
      {
       "output_type": "stream",
       "stream": "stdout",
       "text": [
        " 7.21e-20 Nics = [-14.0039961]\n",
        "calG ="
       ]
      },
      {
       "output_type": "stream",
       "stream": "stdout",
       "text": [
        " [ -3.91170977e+53 -6.26564986e+52j] calG* = [ -3.91170977e+53 +6.26564986e+52j]\n",
        "k0= 7.21e-20 hk(Nshss) = (-9.09686686426e+22-1.71664734021e+24j) TPS = 4.48896343921e-10 G = [ -9.96882934e+110+0.j]\n",
        "\n",
        "\n",
        "k ="
       ]
      },
      {
       "output_type": "stream",
       "stream": "stdout",
       "text": [
        " 7.3e-20 Nics = [-14.00222429]\n",
        "calG ="
       ]
      },
      {
       "output_type": "stream",
       "stream": "stdout",
       "text": [
        " [ -3.79226567e+53 -6.07471757e+52j] calG* = [ -3.79226567e+53 +6.07471757e+52j]\n",
        "k0= 7.3e-20 hk(Nshss) = (-8.92973146723e+22-1.68500122058e+24j) TPS = 4.48897594104e-10 G = [  3.21163198e+110+0.j]\n",
        "\n",
        "\n",
        "k ="
       ]
      },
      {
       "output_type": "stream",
       "stream": "stdout",
       "text": [
        " 7.39e-20 Nics = [-14.00047398]\n",
        "calG ="
       ]
      },
      {
       "output_type": "stream",
       "stream": "stdout",
       "text": [
        " [ -3.67785712e+53 -5.89182275e+52j] calG* = [ -3.67785712e+53 +5.89182275e+52j]\n",
        "k0= 7.39e-20 hk(Nshss) = (-8.76765140165e+22-1.65431428732e+24j) TPS = 4.4889809839e-10 G = [  3.90225029e+110+0.j]\n",
        "\n",
        "\n",
        "k ="
       ]
      },
      {
       "output_type": "stream",
       "stream": "stdout",
       "text": [
        " 7.48e-20 Nics = [-13.99874464]\n",
        "calG ="
       ]
      },
      {
       "output_type": "stream",
       "stream": "stdout",
       "text": [
        " [ -3.56825231e+53 -5.71659605e+52j] calG* = [ -3.56825231e+53 +5.71659605e+52j]\n",
        "k0= 7.48e-20 hk(Nshss) = (-8.61044529554e+22-1.6245520597e+24j) TPS = 4.48901047715e-10 G = [  7.03388504e+110+0.j]\n",
        "\n",
        "\n",
        "k ="
       ]
      },
      {
       "output_type": "stream",
       "stream": "stdout",
       "text": [
        " 7.57e-20 Nics = [-13.99703577]\n",
        "calG ="
       ]
      },
      {
       "output_type": "stream",
       "stream": "stdout",
       "text": [
        " [ -3.46313385e+53 -5.54853100e+52j] calG* = [ -3.46313385e+53 +5.54853100e+52j]\n",
        "k0= 7.57e-20 hk(Nshss) = (-8.45786091072e+22-1.59566665146e+24j) TPS = 4.48901113649e-10 G = [  5.94401449e+110+0.j]\n",
        "\n",
        "\n",
        "k ="
       ]
      },
      {
       "output_type": "stream",
       "stream": "stdout",
       "text": [
        " 7.66e-20 Nics = [-13.99534689]\n",
        "calG ="
       ]
      },
      {
       "output_type": "stream",
       "stream": "stdout",
       "text": [
        " [ -3.36231184e+53 -5.38732511e+52j] calG* = [ -3.36231184e+53 +5.38732511e+52j]\n",
        "k0= 7.66e-20 hk(Nshss) = (-8.30974552456e+22-1.56762901781e+24j) TPS = 4.4890221662e-10 G = [ -6.00749853e+110+0.j]\n",
        "\n",
        "\n",
        "k ="
       ]
      },
      {
       "output_type": "stream",
       "stream": "stdout",
       "text": [
        " 7.75e-20 Nics = [-13.99367754]\n",
        "calG ="
       ]
      },
      {
       "output_type": "stream",
       "stream": "stdout",
       "text": [
        " [ -3.26555179e+53 -5.23260435e+52j] calG* = [ -3.26555179e+53 +5.23260435e+52j]\n",
        "k0= 7.75e-20 hk(Nshss) = (-8.16590861075e+22-1.54040296772e+24j) TPS = 4.48903300165e-10 G = [  1.37683309e+110+0.j]\n",
        "\n",
        "\n",
        "k ="
       ]
      },
      {
       "output_type": "stream",
       "stream": "stdout",
       "text": [
        " 7.84e-20 Nics = [-13.99202727]\n",
        "calG ="
       ]
      },
      {
       "output_type": "stream",
       "stream": "stdout",
       "text": [
        " [ -3.17264624e+53 -5.08403797e+52j] calG* = [ -3.17264624e+53 +5.08403797e+52j]\n",
        "k0= 7.84e-20 hk(Nshss) = (-8.02617958701e+22-1.51395607492e+24j) TPS = 4.48904416174e-10 G = [  3.61125118e+110+0.j]\n",
        "\n",
        "\n",
        "k ="
       ]
      },
      {
       "output_type": "stream",
       "stream": "stdout",
       "text": [
        " 7.93e-20 Nics = [-13.99039565]\n",
        "calG ="
       ]
      },
      {
       "output_type": "stream",
       "stream": "stdout",
       "text": [
        " [ -3.08340083e+53 -4.94131592e+52j] calG* = [ -3.08340083e+53 +4.94131592e+52j]\n",
        "k0= 7.93e-20 hk(Nshss) = (-7.89039655236e+22-1.48825761424e+24j) TPS = 4.4890564736e-10 G = [ -3.20410931e+110+0.j]\n",
        "\n",
        "\n",
        "k ="
       ]
      },
      {
       "output_type": "stream",
       "stream": "stdout",
       "text": [
        " 8.02e-20 Nics = [-13.98878225]\n",
        "calG ="
       ]
      },
      {
       "output_type": "stream",
       "stream": "stdout",
       "text": [
        " [ -2.99762428e+53 -4.80413304e+52j] calG* = [ -2.99762428e+53 +4.80413304e+52j]\n",
        "k0= 8.02e-20 hk(Nshss) = (-7.75839829247e+22-1.46327696971e+24j) TPS = 4.48906195607e-10 G = [ -4.12297659e+110+0.j]\n",
        "\n",
        "\n",
        "k ="
       ]
      },
      {
       "output_type": "stream",
       "stream": "stdout",
       "text": [
        " 8.11e-20 Nics = [-13.98718667]\n",
        "calG ="
       ]
      },
      {
       "output_type": "stream",
       "stream": "stdout",
       "text": [
        " [ -2.91435453e+53 -4.67094884e+52j] calG* = [ -2.91435453e+53 +4.67094884e+52j]\n",
        "k0= 8.11e-20 hk(Nshss) = (-7.62934891027e+22-1.43885627147e+24j) TPS = 4.4882490551e-10 G = [  2.48156550e+110+0.j]\n",
        "\n",
        "\n",
        "k ="
       ]
      },
      {
       "output_type": "stream",
       "stream": "stdout",
       "text": [
        " 8.2e-20 Nics = [-13.98560853]\n",
        "calG ="
       ]
      },
      {
       "output_type": "stream",
       "stream": "stdout",
       "text": [
        " [ -2.44247015e+68 -3.91486330e+67j] calG* = [ -2.44247015e+68 +3.91486330e+67j]\n",
        "k0= 8.2e-20 hk(Nshss) = (-7.14077950086e+27-1.34663940563e+29j) TPS = 4.06372104342 G = [  1.36192133e+140+0.j]\n",
        "\n",
        "\n",
        "k ="
       ]
      },
      {
       "output_type": "stream",
       "stream": "stdout",
       "text": [
        " 8.29e-20 Nics = [-13.98404744]\n",
        "calG ="
       ]
      },
      {
       "output_type": "stream",
       "stream": "stdout",
       "text": [
        " [ -2.65944942e+53 -4.26288285e+52j] calG* = [ -2.65944942e+53 +4.26288285e+52j]\n",
        "k0= 8.29e-20 hk(Nshss) = (-7.29339866914e+22-1.37534510281e+24j) TPS = 4.37992617222e-10 G = [ -7.82174768e+109+0.j]\n",
        "\n",
        "\n",
        "k ="
       ]
      },
      {
       "output_type": "stream",
       "stream": "stdout",
       "text": [
        " 8.38e-20 Nics = [-13.98250303]\n",
        "calG ="
       ]
      },
      {
       "output_type": "stream",
       "stream": "stdout",
       "text": [
        " [ -2.70044501e+53 -4.32883517e+52j] calG* = [ -2.70044501e+53 +4.32883517e+52j]\n",
        "k0= 8.38e-20 hk(Nshss) = (-7.27850171078e+22-1.37246105874e+24j) TPS = 4.50517928242e-10 G = [ -6.83095628e+109+0.j]\n",
        "\n",
        "\n",
        "k ="
       ]
      },
      {
       "output_type": "stream",
       "stream": "stdout",
       "text": [
        " 8.47e-20 Nics = [-13.98097495]\n",
        "calG ="
       ]
      },
      {
       "output_type": "stream",
       "stream": "stdout",
       "text": [
        " [ -2.61537288e+53 -4.19269345e+52j] calG* = [ -2.61537288e+53 +4.19269345e+52j]\n",
        "k0= 8.47e-20 hk(Nshss) = (-7.15053790674e+22-1.34825900186e+24j) TPS = 4.48928296277e-10 G = [ -1.03867965e+110+0.j]\n",
        "\n",
        "\n",
        "k ="
       ]
      },
      {
       "output_type": "stream",
       "stream": "stdout",
       "text": [
        " 8.56e-20 Nics = [-13.97946286]\n",
        "calG ="
       ]
      },
      {
       "output_type": "stream",
       "stream": "stdout",
       "text": [
        " [ -2.54702477e+53 -4.08334594e+52j] calG* = [ -2.54702477e+53 +4.08334594e+52j]\n",
        "k0= 8.56e-20 hk(Nshss) = (-7.03830832075e+22-1.32702694487e+24j) TPS = 4.48911776169e-10 G = [ -1.11665861e+110+0.j]\n",
        "\n",
        "\n",
        "k ="
       ]
      },
      {
       "output_type": "stream",
       "stream": "stdout",
       "text": [
        " 8.65e-20 Nics = [-13.97796642]\n",
        "calG ="
       ]
      },
      {
       "output_type": "stream",
       "stream": "stdout",
       "text": [
        " [ -2.48130033e+53 -3.97819062e+52j] calG* = [ -2.48130033e+53 +3.97819062e+52j]\n",
        "k0= 8.65e-20 hk(Nshss) = (-6.92912635921e+22-1.30637250327e+24j) TPS = 4.4891357059e-10 G = [  1.24784673e+110+0.j]\n",
        "\n",
        "\n",
        "k ="
       ]
      },
      {
       "output_type": "stream",
       "stream": "stdout",
       "text": [
        " 8.74e-20 Nics = [-13.97648532]\n",
        "calG ="
       ]
      },
      {
       "output_type": "stream",
       "stream": "stdout",
       "text": [
        " [ -2.41792180e+53 -3.87678316e+52j] calG* = [ -2.41792180e+53 +3.87678316e+52j]\n",
        "k0= 8.74e-20 hk(Nshss) = (-6.82273795356e+22-1.28624761352e+24j) TPS = 4.48914816333e-10 G = [ -1.94488683e+109+0.j]\n",
        "\n",
        "\n",
        "k ="
       ]
      },
      {
       "output_type": "stream",
       "stream": "stdout",
       "text": [
        " 8.83e-20 Nics = [-13.97501923]\n",
        "calG ="
       ]
      },
      {
       "output_type": "stream",
       "stream": "stdout",
       "text": [
        " [ -2.35678477e+53 -3.77895685e+52j] calG* = [ -2.35678477e+53 +3.77895685e+52j]\n",
        "k0= 8.83e-20 hk(Nshss) = (-6.7190458751e+22-1.2666338381e+24j) TPS = 4.48915794848e-10 G = [  6.72362054e+109+0.j]\n",
        "\n",
        "\n",
        "k ="
       ]
      }
     ]
    },
    {
     "cell_type": "code",
     "collapsed": false,
     "input": [],
     "language": "python",
     "metadata": {},
     "outputs": []
    },
    {
     "cell_type": "code",
     "collapsed": false,
     "input": [],
     "language": "python",
     "metadata": {},
     "outputs": []
    },
    {
     "cell_type": "code",
     "collapsed": false,
     "input": [
      "print Nics_array, '\\n', hk_Nshss, '\\n', calG_array, '\\n', calG_cc_array, '\\n', G_array"
     ],
     "language": "python",
     "metadata": {},
     "outputs": [
      {
       "output_type": "stream",
       "stream": "stdout",
       "text": [
        "[-14.28333933 -14.26014463 -14.24021923 -14.22275124 -14.20719836\n",
        " -14.1931803  -14.18041999 -14.1687093  -14.15788792 -14.1478297\n",
        " -14.13843361 -14.12961745 -14.12131348 -14.11346518 -14.1060249\n",
        " -14.09895213 -14.0922121  -14.08577476 -14.07961397 -14.07370682\n",
        " -14.06803317 -14.06257517 -14.05731694 -14.05224431 -14.04734457\n",
        " -14.04260625 -14.03801901 -14.03357346 -14.02926108 -14.02507408\n",
        " -14.02100533 -14.01704832 -14.01319703 -14.00944594 -14.00578993\n",
        " -14.00222429 -13.99874464 -13.99534689 -13.99202727 -13.98878225\n",
        " -13.98560853 -13.98250303 -13.97946286 -13.97648532 -13.97356786\n",
        " -13.9707081  -13.96790379 -13.96515281 -13.96245316 -13.95980294\n",
        " -13.95720037] \n",
        "[ -1.74218259e+24 -3.32275424e+25j  -1.36045564e+24 -2.59228571e+25j\n",
        "  -1.10040078e+24 -2.09509609e+25j  -9.13869366e+23 -1.73874917e+25j\n",
        "  -7.74716569e+23 -1.47309360e+25j  -6.67647158e+23 -1.26881113e+25j\n",
        "  -5.83178200e+23 -1.10773624e+25j  -5.15147384e+23 -9.78071184e+24j\n",
        "  -4.59404263e+23 -8.71873946e+24j  -4.13045265e+23 -7.83591194e+24j\n",
        "  -3.73999014e+23 -7.09262912e+24j  -3.40746027e+23 -6.45985352e+24j\n",
        "  -3.12153738e+23 -5.91594919e+24j  -2.87345616e+23 -5.44417957e+24j\n",
        "  -2.65664348e+23 -5.03199482e+24j  -2.46582013e+23 -4.66932070e+24j\n",
        "  -2.29682184e+23 -4.34821244e+24j  -2.14800475e+23 -4.06550992e+24j\n",
        "  -2.01155822e+23 -3.80639167e+24j  -1.89035822e+23 -3.57627076e+24j\n",
        "  -1.78087354e+23 -3.36843958e+24j  -1.68157601e+23 -3.17998624e+24j\n",
        "  -1.59118569e+23 -3.00847255e+24j  -1.50862289e+23 -2.85184207e+24j\n",
        "  -1.43292643e+23 -2.70826512e+24j  -4.25056104e+29 -8.03227869e+30j\n",
        "  -1.29936499e+23 -2.45499965e+24j  -1.24016270e+23 -2.34276693e+24j\n",
        "  -1.18531401e+23 -2.23880468e+24j  -1.13442333e+23 -2.14235975e+24j\n",
        "  -1.08706490e+23 -2.05262285e+24j  -1.04291622e+23 -1.96898046e+24j\n",
        "  -1.00168064e+23 -1.89086844e+24j  -9.63095807e+22 -1.81778803e+24j\n",
        "  -9.26929875e+22 -1.74929847e+24j  -8.92973147e+22 -1.68500122e+24j\n",
        "  -8.61044530e+22 -1.62455206e+24j  -8.30974552e+22 -1.56762902e+24j\n",
        "  -8.02617959e+22 -1.51395607e+24j  -7.75839829e+22 -1.46327697e+24j\n",
        "  -7.14077950e+27 -1.34663941e+29j  -7.27850171e+22 -1.37246106e+24j\n",
        "  -7.03830832e+22 -1.32702694e+24j  -6.82273795e+22 -1.28624761e+24j\n",
        "  -6.61795726e+22 -1.24751354e+24j  -6.42322521e+22 -1.21068404e+24j\n",
        "  -6.23788347e+22 -1.17563413e+24j  -6.06129122e+22 -1.14224221e+24j\n",
        "  -5.89288634e+22 -1.11040160e+24j  -5.73214948e+22 -1.08001374e+24j\n",
        "  -5.57859432e+22 -1.05098637e+24j]"
       ]
      },
      {
       "output_type": "stream",
       "stream": "stdout",
       "text": [
        " \n",
        "[ -5.45789393e+55 -8.64848926e+54j  -3.60857952e+55 -5.72352422e+54j\n",
        "  -2.53050713e+55 -4.01684763e+54j  -1.85466358e+55 -2.94610106e+54j\n",
        "  -1.40687782e+55 -2.23618712e+54j  -1.09698987e+55 -1.74459829e+54j\n",
        "  -8.74856126e+54 -1.39202668e+54j  -7.10928392e+54 -1.13171175e+54j\n",
        "  -5.86996234e+54 -9.34820565e+53j  -4.91318347e+54 -7.82753827e+53j\n",
        "  -4.16128026e+54 -6.63203194e+53j  -3.56112526e+54 -5.67745875e+53j\n",
        "  -3.07561446e+54 -4.90497324e+53j  -2.67776538e+54 -4.27176370e+53j\n",
        "  -2.34847590e+54 -3.74751669e+53j  -2.07320788e+54 -3.30915141e+53j\n",
        "  -1.84107792e+54 -2.93938488e+53j  -1.64767612e+54 -2.63124537e+53j\n",
        "  -1.47484089e+54 -2.35578190e+53j  -1.32925147e+54 -2.12369951e+53j\n",
        "  -1.20301724e+54 -1.92242645e+53j  -1.09294912e+54 -1.74689209e+53j\n",
        "  -9.96479870e+53 -1.59301355e+53j  -9.11524419e+53 -1.45747418e+53j\n",
        "  -8.36298155e+53 -1.33743401e+53j  -2.33187006e+73 -3.72985089e+72j\n",
        "  -7.10089071e+53 -1.13598678e+53j  -6.56815140e+53 -1.05093176e+53j\n",
        "  -6.08950535e+53 -9.74500409e+52j  -5.65869619e+53 -9.05696970e+52j\n",
        "  -5.26920091e+53 -8.43482002e+52j  -4.91623108e+53 -7.87092876e+52j\n",
        "  -4.59549820e+53 -7.35846368e+52j  -4.30331300e+53 -6.89154591e+52j\n",
        "  -4.03650087e+53 -6.46511621e+52j  -3.79226567e+53 -6.07471757e+52j\n",
        "  -3.56825231e+53 -5.71659605e+52j  -3.36231184e+53 -5.38732511e+52j\n",
        "  -3.17264624e+53 -5.08403797e+52j  -2.99762428e+53 -4.80413304e+52j\n",
        "  -2.44247015e+68 -3.91486330e+67j  -2.70044501e+53 -4.32883517e+52j\n",
        "  -2.54702477e+53 -4.08334594e+52j  -2.41792180e+53 -3.87678316e+52j\n",
        "  -2.29779031e+53 -3.68455385e+52j  -2.18584507e+53 -3.50540494e+52j\n",
        "  -2.08140179e+53 -3.33824439e+52j  -1.98380774e+53 -3.18203018e+52j\n",
        "  -1.89250182e+53 -3.03586658e+52j  -1.80697494e+53 -2.89894087e+52j\n",
        "  -1.72675965e+53 -2.77050659e+52j] \n",
        "[ -5.45789393e+55 +8.64848926e+54j  -3.60857952e+55 +5.72352422e+54j\n",
        "  -2.53050713e+55 +4.01684763e+54j  -1.85466358e+55 +2.94610106e+54j\n",
        "  -1.40687782e+55 +2.23618712e+54j  -1.09698987e+55 +1.74459829e+54j\n",
        "  -8.74856126e+54 +1.39202668e+54j  -7.10928392e+54 +1.13171175e+54j\n",
        "  -5.86996234e+54 +9.34820565e+53j  -4.91318347e+54 +7.82753827e+53j\n",
        "  -4.16128026e+54 +6.63203194e+53j  -3.56112526e+54 +5.67745875e+53j\n",
        "  -3.07561446e+54 +4.90497324e+53j  -2.67776538e+54 +4.27176370e+53j\n",
        "  -2.34847590e+54 +3.74751669e+53j  -2.07320788e+54 +3.30915141e+53j\n",
        "  -1.84107792e+54 +2.93938488e+53j  -1.64767612e+54 +2.63124537e+53j\n",
        "  -1.47484089e+54 +2.35578190e+53j  -1.32925147e+54 +2.12369951e+53j\n",
        "  -1.20301724e+54 +1.92242645e+53j  -1.09294912e+54 +1.74689209e+53j\n",
        "  -9.96479870e+53 +1.59301355e+53j  -9.11524419e+53 +1.45747418e+53j\n",
        "  -8.36298155e+53 +1.33743401e+53j  -2.33187006e+73 +3.72985089e+72j\n",
        "  -7.10089071e+53 +1.13598678e+53j  -6.56815140e+53 +1.05093176e+53j\n",
        "  -6.08950535e+53 +9.74500409e+52j  -5.65869619e+53 +9.05696970e+52j\n",
        "  -5.26920091e+53 +8.43482002e+52j  -4.91623108e+53 +7.87092876e+52j\n",
        "  -4.59549820e+53 +7.35846368e+52j  -4.30331300e+53 +6.89154591e+52j\n",
        "  -4.03650087e+53 +6.46511621e+52j  -3.79226567e+53 +6.07471757e+52j\n",
        "  -3.56825231e+53 +5.71659605e+52j  -3.36231184e+53 +5.38732511e+52j\n",
        "  -3.17264624e+53 +5.08403797e+52j  -2.99762428e+53 +4.80413304e+52j\n",
        "  -2.44247015e+68 +3.91486330e+67j  -2.70044501e+53 +4.32883517e+52j\n",
        "  -2.54702477e+53 +4.08334594e+52j  -2.41792180e+53 +3.87678316e+52j\n",
        "  -2.29779031e+53 +3.68455385e+52j  -2.18584507e+53 +3.50540494e+52j\n",
        "  -2.08140179e+53 +3.33824439e+52j  -1.98380774e+53 +3.18203018e+52j\n",
        "  -1.89250182e+53 +3.03586658e+52j  -1.80697494e+53 +2.89894087e+52j\n",
        "  -1.72675965e+53 +2.77050659e+52j]"
       ]
      },
      {
       "output_type": "stream",
       "stream": "stdout",
       "text": [
        " \n",
        "[  7.15662025e+116+0.j   1.42813033e+116+0.j  -1.80464267e+115+0.j\n",
        "  -5.41825683e+114+0.j  -2.17944752e+115+0.j   3.80877242e+114+0.j\n",
        "  -1.62872368e+114+0.j  -2.05499355e+114+0.j   2.95878789e+113+0.j\n",
        "   1.30541391e+113+0.j   1.53162553e+113+0.j   5.53936648e+113+0.j\n",
        "  -2.41373812e+113+0.j   9.63841876e+112+0.j   8.19923186e+112+0.j\n",
        "  -2.82576644e+112+0.j  -3.70975786e+112+0.j  -9.97660889e+111+0.j\n",
        "   2.24849467e+112+0.j  -6.93054916e+111+0.j   3.04136264e+110+0.j\n",
        "   5.96529816e+111+0.j   3.90503918e+111+0.j   1.14961159e+111+0.j\n",
        "   6.60556958e+111+0.j   5.65011514e+149+0.j  -4.74992737e+110+0.j\n",
        "   3.89858069e+110+0.j  -7.63569907e+110+0.j   3.60354503e+110+0.j\n",
        "  -3.90591988e+110+0.j   4.37416056e+109+0.j   8.72630353e+110+0.j\n",
        "   9.13729849e+109+0.j  -5.84126576e+110+0.j   3.21163198e+110+0.j\n",
        "   6.36418344e+110+0.j  -6.55720428e+110+0.j   3.61125118e+110+0.j\n",
        "  -4.12297659e+110+0.j   1.36192133e+140+0.j  -6.83095628e+109+0.j\n",
        "  -4.98698339e+109+0.j  -2.93567823e+109+0.j   8.32448258e+109+0.j\n",
        "   1.39068582e+110+0.j  -2.36689057e+109+0.j  -4.31544700e+109+0.j\n",
        "   2.35817528e+109+0.j   4.63561940e+109+0.j   7.43185292e+109+0.j]\n"
       ]
      }
     ],
     "prompt_number": 7
    },
    {
     "cell_type": "code",
     "collapsed": false,
     "input": [],
     "language": "python",
     "metadata": {},
     "outputs": []
    },
    {
     "cell_type": "code",
     "collapsed": false,
     "input": [
      "TPS = [8*(k_list[i])**3/(2*numpy.pi**2)*(numpy.absolute(hk_Nshss[i]))**2 for i in range(len(k_list))]"
     ],
     "language": "python",
     "metadata": {},
     "outputs": [],
     "prompt_number": 8
    },
    {
     "cell_type": "code",
     "collapsed": false,
     "input": [
      "h_NL = (-1./6)*((4./(2.*numpy.pi**2))**2)*(k_list**6)*G_array/TPS"
     ],
     "language": "python",
     "metadata": {},
     "outputs": [],
     "prompt_number": 9
    },
    {
     "cell_type": "code",
     "collapsed": false,
     "input": [
      "print TPS, G_array, h_NL"
     ],
     "language": "python",
     "metadata": {},
     "outputs": [
      {
       "output_type": "stream",
       "stream": "stdout",
       "text": [
        "[4.4869266367105577e-10, 4.4871078538689199e-10, 4.4872604072207382e-10, 4.4873954483493242e-10, 4.4875138223057888e-10, 4.4876175927534469e-10, 4.4877122219026554e-10, 4.4877597499241019e-10, 4.4878799488217636e-10, 4.4879524115570877e-10, 4.4880194597152489e-10, 4.4880849870931086e-10, 4.4882579974440718e-10, 4.4882050325358188e-10, 4.4882541210235239e-10, 4.4883043020796985e-10, 4.4883530086272516e-10, 4.4955108352534561e-10, 4.4884456196368316e-10, 4.4884828205550008e-10, 4.4885234499455292e-10, 4.4885610458945564e-10, 4.488596505820801e-10, 4.4886338373138326e-10, 4.4884000954492205e-10, 4362.5491731850871, 4.4887251122760338e-10, 4.4887616107124574e-10, 4.4886850034734587e-10, 4.4888203172766034e-10, 4.4888476435885089e-10, 4.4888744722883793e-10, 4.4889009305607102e-10, 4.4889267738625866e-10, 4.4889602795794162e-10, 4.4889759410379841e-10, 4.4890104771480462e-10, 4.4890221661997312e-10, 4.4890441617409891e-10, 4.4890619560732729e-10, 4.0637210434249491, 4.5051792824243868e-10, 4.4891177616934729e-10, 4.4891481633286393e-10, 4.4891676710152198e-10, 4.4891775795885779e-10, 4.489205804297809e-10, 4.4892238729377749e-10, 4.4892412051213563e-10, 4.489261766403784e-10, 4.489275881468076e-10] [  7.15662025e+116+0.j   1.42813033e+116+0.j  -1.80464267e+115+0.j\n",
        "  -5.41825683e+114+0.j  -2.17944752e+115+0.j   3.80877242e+114+0.j\n",
        "  -1.62872368e+114+0.j  -2.05499355e+114+0.j   2.95878789e+113+0.j\n",
        "   1.30541391e+113+0.j   1.53162553e+113+0.j   5.53936648e+113+0.j\n",
        "  -2.41373812e+113+0.j   9.63841876e+112+0.j   8.19923186e+112+0.j\n",
        "  -2.82576644e+112+0.j  -3.70975786e+112+0.j  -9.97660889e+111+0.j\n",
        "   2.24849467e+112+0.j  -6.93054916e+111+0.j   3.04136264e+110+0.j\n",
        "   5.96529816e+111+0.j   3.90503918e+111+0.j   1.14961159e+111+0.j\n",
        "   6.60556958e+111+0.j   5.65011514e+149+0.j  -4.74992737e+110+0.j\n",
        "   3.89858069e+110+0.j  -7.63569907e+110+0.j   3.60354503e+110+0.j\n",
        "  -3.90591988e+110+0.j   4.37416056e+109+0.j   8.72630353e+110+0.j\n",
        "   9.13729849e+109+0.j  -5.84126576e+110+0.j   3.21163198e+110+0.j\n",
        "   6.36418344e+110+0.j  -6.55720428e+110+0.j   3.61125118e+110+0.j\n",
        "  -4.12297659e+110+0.j   1.36192133e+140+0.j  -6.83095628e+109+0.j\n",
        "  -4.98698339e+109+0.j  -2.93567823e+109+0.j   8.32448258e+109+0.j\n",
        "   1.39068582e+110+0.j  -2.36689057e+109+0.j  -4.31544700e+109+0.j\n",
        "   2.35817528e+109+0.j   4.63561940e+109+0.j   7.43185292e+109+0.j] [ -1.09161188e+04+0.j  -5.88034259e+03+0.j   1.74161697e+03-0.j\n",
        "   1.10229749e+03-0.j   8.60638059e+03-0.j  -2.73275085e+03+0.j\n",
        "   2.01146125e+03-0.j   4.17581018e+03-0.j  -9.52183846e+02+0.j\n",
        "  -6.43897873e+02+0.j  -1.12552541e+03+0.j  -5.91569617e+03+0.j\n",
        "   3.66474771e+03-0.j  -2.04042743e+03+0.j  -2.37826892e+03+0.j\n",
        "   1.10553771e+03-0.j   1.93000379e+03-0.j   6.80251252e+02-0.j\n",
        "  -1.99205023e+03+0.j   7.87972294e+02-0.j  -4.39360439e+01+0.j\n",
        "  -1.08492983e+03+0.j  -8.86572258e+02+0.j  -3.23239868e+02+0.j\n",
        "  -2.28348284e+03+0.j  -2.45359202e+28+0.j   2.43199806e+02-0.j\n",
        "  -2.40699358e+02+0.j   5.65276013e+02-0.j  -3.18162719e+02+0.j\n",
        "   4.09239514e+02-0.j  -5.41279864e+01+0.j  -1.26963744e+03+0.j\n",
        "  -1.55647219e+02+0.j   1.16024689e+03-0.j  -7.41011430e+02+0.j\n",
        "  -1.69945984e+03+0.j   2.01952313e+03-0.j  -1.27852565e+03+0.j\n",
        "   1.67267178e+03-0.j  -6.97301337e+22+0.j   3.59370802e+02-0.j\n",
        "   2.99108505e+02-0.j   1.99490564e+02-0.j  -6.39278058e+02+0.j\n",
        "  -1.20398159e+03+0.j   2.30465420e+02-0.j   4.71531371e+02-0.j\n",
        "  -2.88519117e+02+0.j  -6.33739854e+02+0.j  -1.13300039e+03+0.j]\n"
       ]
      }
     ],
     "prompt_number": 10
    },
    {
     "cell_type": "code",
     "collapsed": false,
     "input": [
      "plt.cla()\n",
      "plt.hold(True)\n",
      "plt.loglog(k_list, -hk_Nshss.real, '.', label= 'real')\n",
      "plt.loglog(k_list, -hk_Nshss.imag, '.', label= 'imag')\n",
      "plt.legend()\n",
      "plt.savefig('hk_vs_k_matter_bounce.png')"
     ],
     "language": "python",
     "metadata": {},
     "outputs": [
      {
       "metadata": {},
       "output_type": "display_data",
       "png": "[encoded data removed]",
       "text": [
        "<matplotlib.figure.Figure at 0xaf1d416c>"
       ]
      }
     ],
     "prompt_number": 11
    },
    {
     "cell_type": "code",
     "collapsed": false,
     "input": [
      "plt.cla()\n",
      "plt.hold(True)\n",
      "plt.loglog(k_list, -hk_Nshss.real, '.', label= 'real')\n",
      "plt.loglog(k_list, -hk_Nshss.imag, '.', label= 'imag')\n",
      "plt.legend()"
     ],
     "language": "python",
     "metadata": {},
     "outputs": [
      {
       "metadata": {},
       "output_type": "pyout",
       "prompt_number": 20,
       "text": [
        "<matplotlib.legend.Legend at 0xae9904ec>"
       ]
      },
      {
       "metadata": {},
       "output_type": "display_data",
       "png": "[encoded data removed]",
       "text": [
        "<matplotlib.figure.Figure at 0xaea4504c>"
       ]
      }
     ],
     "prompt_number": 20
    },
    {
     "cell_type": "code",
     "collapsed": false,
     "input": [
      "test_write = open('hk_vs_k_matter_bounce_20_to_19.dat', 'w')\n",
      "for i in range(len(k_list)):\n",
      "    test_write.write(str(k_list[i])+\"\\t\"+str(Nics_array[i])+\"\\t\"+str(hk_Nshss[i].real)+\"\\t\"+str(hk_Nshss[i].imag)+\"\\t\"+str(TPS[i])+\"\\t\"+str(calG_array[i].real)+\"\\t\"+str(calG_array[i].imag)+\"\\t\"+str(calG_cc_array[i].real)+\"\\t\"+str(calG_cc_array[i].imag)+\"\\t\"+str(G_array[i].real)+\"\\t\"+str(G_array[i].imag)+\"\\t\"+str(h_NL[i].real)+\"\\n\")\n",
      "test_write.close()"
     ],
     "language": "python",
     "metadata": {},
     "outputs": [],
     "prompt_number": 12
    },
    {
     "cell_type": "code",
     "collapsed": false,
     "input": [
      "ls"
     ],
     "language": "python",
     "metadata": {},
     "outputs": [
      {
       "output_type": "stream",
       "stream": "stdout",
       "text": [
        "\u001b[0m\u001b[01;34mbuild\u001b[0m/                             \u001b[01;35mG_bouncing_model.png\u001b[0m                integration_tests.ipynb            power_spectrum_parallel.ipynb    tensor_bi-spectrum-Copy0.html\r\n",
        "\u001b[01;34mcython_tests\u001b[0m/                      hk_vs_k_matter_bounce_20_to_19.dat  \u001b[01;34mplots\u001b[0m/                             power_spectrum_parallel.py       tensor_bi-spectrum-Copy0.ipynb\r\n",
        "\u001b[01;34mdata_files\u001b[0m/                        \u001b[01;35mhk_vs_k_matter_bounce.png\u001b[0m           \u001b[01;35mpower_spectrum_bouncing_model.png\u001b[0m  power_spectrum.py                tensor_bi-spectrum.ipynb\r\n",
        "data_processing_and_fitting.ipynb  \u001b[01;35mh_NL_bouncing_model.png\u001b[0m             power_spectrum.ipynb               power_spectrum_rk2_vs_rk4.ipynb  Untitled0.ipynb\r\n"
       ]
      }
     ],
     "prompt_number": 13
    },
    {
     "cell_type": "code",
     "collapsed": false,
     "input": [],
     "language": "python",
     "metadata": {},
     "outputs": []
    },
    {
     "cell_type": "code",
     "collapsed": false,
     "input": [],
     "language": "python",
     "metadata": {},
     "outputs": []
    },
    {
     "cell_type": "code",
     "collapsed": false,
     "input": [
      "plt.cla()\n",
      "plt.xlabel(r'$k$')\n",
      "plt.ylabel(r'${\\mathcal{P}}_{\\rm T}(k)$')\n",
      "plt.title(r'${\\mathcal{P}}_{\\rm T}$ as a function of $k$')\n",
      "numerics, = plt.loglog(k_list, TPS)\n",
      "plt.legend([numerics],['numerical results'], loc = 'lower left')\n",
      "plt.savefig('power_spectrum_bouncing_model.png')"
     ],
     "language": "python",
     "metadata": {},
     "outputs": [
      {
       "metadata": {},
       "output_type": "display_data",
       "png": "[encoded data removed]",
       "text": [
        "<matplotlib.figure.Figure at 0xaf0f6b8c>"
       ]
      }
     ],
     "prompt_number": 12
    },
    {
     "cell_type": "code",
     "collapsed": false,
     "input": [
      "plt.cla()\n",
      "plt.xlabel(r'$k$')\n",
      "plt.ylabel(r'${\\mathcal{G}}_{\\rm \\gamma\\gamma\\gamma}(k)$')\n",
      "plt.title(r'${\\mathcal{G}}_{\\rm \\gamma\\gamma\\gamma}$ as a function of $k$')\n",
      "numerics, = plt.loglog(k_list, numpy.absolute(G_array))\n",
      "plt.legend([numerics],['numerical results'])\n",
      "plt.savefig('G_bouncing_model.png')"
     ],
     "language": "python",
     "metadata": {},
     "outputs": [
      {
       "metadata": {},
       "output_type": "display_data",
       "png": "[encoded data removed]",
       "text": [
        "<matplotlib.figure.Figure at 0xaefae8ec>"
       ]
      }
     ],
     "prompt_number": 13
    },
    {
     "cell_type": "code",
     "collapsed": false,
     "input": [
      "plt.cla()\n",
      "plt.xlabel(r'$k$')\n",
      "plt.ylabel(r'${h}_{\\rm NL}(k)$')\n",
      "plt.title(r'${h}_{\\rm NL}$ as a function of $k$')\n",
      "numerics, = plt.loglog(k_list, numpy.absolute(h_NL))\n",
      "plt.legend([numerics],['numerical results'], loc = 'upper right')\n",
      "plt.savefig('h_NL_bouncing_model.png')"
     ],
     "language": "python",
     "metadata": {},
     "outputs": [
      {
       "metadata": {},
       "output_type": "display_data",
       "png": "[encoded data removed]",
       "text": [
        "<matplotlib.figure.Figure at 0xaf04bc2c>"
       ]
      }
     ],
     "prompt_number": 14
    },
    {
     "cell_type": "code",
     "collapsed": false,
     "input": [],
     "language": "python",
     "metadata": {},
     "outputs": []
    },
    {
     "cell_type": "code",
     "collapsed": false,
     "input": [
      "numpy.linspace(1e-20, 1e-19, 101)"
     ],
     "language": "python",
     "metadata": {},
     "outputs": [
      {
       "metadata": {},
       "output_type": "pyout",
       "prompt_number": 9,
       "text": [
        "array([  1.00000000e-20,   1.09000000e-20,   1.18000000e-20,\n",
        "         1.27000000e-20,   1.36000000e-20,   1.45000000e-20,\n",
        "         1.54000000e-20,   1.63000000e-20,   1.72000000e-20,\n",
        "         1.81000000e-20,   1.90000000e-20,   1.99000000e-20,\n",
        "         2.08000000e-20,   2.17000000e-20,   2.26000000e-20,\n",
        "         2.35000000e-20,   2.44000000e-20,   2.53000000e-20,\n",
        "         2.62000000e-20,   2.71000000e-20,   2.80000000e-20,\n",
        "         2.89000000e-20,   2.98000000e-20,   3.07000000e-20,\n",
        "         3.16000000e-20,   3.25000000e-20,   3.34000000e-20,\n",
        "         3.43000000e-20,   3.52000000e-20,   3.61000000e-20,\n",
        "         3.70000000e-20,   3.79000000e-20,   3.88000000e-20,\n",
        "         3.97000000e-20,   4.06000000e-20,   4.15000000e-20,\n",
        "         4.24000000e-20,   4.33000000e-20,   4.42000000e-20,\n",
        "         4.51000000e-20,   4.60000000e-20,   4.69000000e-20,\n",
        "         4.78000000e-20,   4.87000000e-20,   4.96000000e-20,\n",
        "         5.05000000e-20,   5.14000000e-20,   5.23000000e-20,\n",
        "         5.32000000e-20,   5.41000000e-20,   5.50000000e-20,\n",
        "         5.59000000e-20,   5.68000000e-20,   5.77000000e-20,\n",
        "         5.86000000e-20,   5.95000000e-20,   6.04000000e-20,\n",
        "         6.13000000e-20,   6.22000000e-20,   6.31000000e-20,\n",
        "         6.40000000e-20,   6.49000000e-20,   6.58000000e-20,\n",
        "         6.67000000e-20,   6.76000000e-20,   6.85000000e-20,\n",
        "         6.94000000e-20,   7.03000000e-20,   7.12000000e-20,\n",
        "         7.21000000e-20,   7.30000000e-20,   7.39000000e-20,\n",
        "         7.48000000e-20,   7.57000000e-20,   7.66000000e-20,\n",
        "         7.75000000e-20,   7.84000000e-20,   7.93000000e-20,\n",
        "         8.02000000e-20,   8.11000000e-20,   8.20000000e-20,\n",
        "         8.29000000e-20,   8.38000000e-20,   8.47000000e-20,\n",
        "         8.56000000e-20,   8.65000000e-20,   8.74000000e-20,\n",
        "         8.83000000e-20,   8.92000000e-20,   9.01000000e-20,\n",
        "         9.10000000e-20,   9.19000000e-20,   9.28000000e-20,\n",
        "         9.37000000e-20,   9.46000000e-20,   9.55000000e-20,\n",
        "         9.64000000e-20,   9.73000000e-20,   9.82000000e-20,\n",
        "         9.91000000e-20,   1.00000000e-19])"
       ]
      }
     ],
     "prompt_number": 9
    },
    {
     "cell_type": "code",
     "collapsed": false,
     "input": [
      "data = numpy.loadtxt('hk_vs_k_matter_bounce_20_to_19_test.dat')"
     ],
     "language": "python",
     "metadata": {},
     "outputs": [],
     "prompt_number": 4
    },
    {
     "cell_type": "code",
     "collapsed": false,
     "input": [
      "plt.cla()\n",
      "plt.hold(True)\n",
      "plt.loglog(data[:,0], -data[:,2], '-', label = 'real')\n",
      "plt.loglog(data[:,0], -data[:,3], '--', label = 'imag')\n",
      "plt.legend()"
     ],
     "language": "python",
     "metadata": {},
     "outputs": [
      {
       "metadata": {},
       "output_type": "pyout",
       "prompt_number": 8,
       "text": [
        "<matplotlib.legend.Legend at 0xaecb652c>"
       ]
      },
      {
       "metadata": {},
       "output_type": "display_data",
       "png": "[encoded data removed]",
       "text": [
        "<matplotlib.figure.Figure at 0xaecb964c>"
       ]
      }
     ],
     "prompt_number": 8
    },
    {
     "cell_type": "code",
     "collapsed": false,
     "input": [],
     "language": "python",
     "metadata": {},
     "outputs": []
    }
   ],
   "metadata": {}
  }
 ]
}