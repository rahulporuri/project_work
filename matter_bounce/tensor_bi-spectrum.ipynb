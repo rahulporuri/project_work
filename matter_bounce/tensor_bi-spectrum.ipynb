{
 "metadata": {
  "name": "",
  "signature": "sha256:b9d8010e0e388f4171f68c318aec9b00f3b626e4b5c1d43659676305bfc8936d"
 },
 "nbformat": 3,
 "nbformat_minor": 0,
 "worksheets": [
  {
   "cells": [
    {
     "cell_type": "code",
     "collapsed": false,
     "input": [
      "import numpy\n",
      "import matplotlib.pyplot as plt\n",
      "import scipy.optimize as opt\n",
      "from scipy.integrate import romb, simps\n",
      "%matplotlib inline"
     ],
     "language": "python",
     "metadata": {},
     "outputs": [],
     "prompt_number": 1
    },
    {
     "cell_type": "code",
     "collapsed": false,
     "input": [
      "A = lambda N : a0*numpy.exp(N**2/2.)\n",
      "an = lambda n : a0*(1.+(n/n0)**2)\n",
      "aN = lambda N : an(n(N))\n",
      "h = lambda n : (2.*a0*n/n0**2)*(1./an(n)**2)\n",
      "H = lambda N : h(n(N))\n",
      "\n",
      "fn = lambda n : (2.*a0/n0**2)*(1./an(n))\n",
      "fN = lambda N : fn(n(N))    \n",
      "\n",
      "Heavi = lambda N : (1./2)*(numpy.sign(N)+1.)\n",
      "\n",
      "nm = lambda N : -n0*((A(N)/a0)**(1./p)-1)**(1./2)\n",
      "np = lambda N : n0*((A(N)/a0)**(1./p)-1)**(1./2)\n",
      "\n",
      "DHm = lambda N : -100000.0*N*(1.0*numpy.exp(N**2/2)**1.0 - 1.0)**(-0.5)*numpy.exp(N**2/2)**1.0/(100000.0*(1.0*numpy.exp(N**2/2)**1.0 - 1)**1.0 + 100000.0)**2 + 40000000000.0*N*(1.0*numpy.exp(N**2/2)**1.0 - 1.0)**0.5*numpy.exp(N**2/2)**1.0/(100000.0*(1.0*numpy.exp(N**2/2)**1.0 - 1)**1.0 + 100000.0)**3\n",
      "DHp = lambda N : 100000.0*N*(1.0*numpy.exp(N**2/2)**1.0 - 1.0)**(-0.5)*numpy.exp(N**2/2)**1.0/(100000.0*(1.0*numpy.exp(N**2/2)**1.0 - 1)**1.0 + 100000.0)**2 - 40000000000.0*N*(1.0*numpy.exp(N**2/2)**1.0 - 1.0)**0.5*numpy.exp(N**2/2)**1.0/(100000.0*(1.0*numpy.exp(N**2/2)**1.0 - 1)**1.0 + 100000.0)**3\n",
      "\n",
      "n = lambda N : Heavi(N)*np(N) + Heavi(-N)*nm(N)\n",
      "DH = lambda N : Heavi(N)*DHp(N) + Heavi(-N)*DHm(N)\n",
      "\n",
      "def DDhk(k0, N, hk0, Dhk0):\n",
      "    return -((3.*N -(1./N) +(DH(N)/H(N)))*Dhk0 +(((k0*N)/(A(N)*H(N)))**2)*hk0)\n",
      "\n",
      "def rk4_step(k0, N, hk0, Dhk0, step):\n",
      "    F1 = Dhk0\n",
      "    f1 = DDhk(k0, N, hk0, Dhk0)\n",
      "    F2 = Dhk0 +f1*step/2.\n",
      "    f2 = DDhk(k0, N +step/2., hk0 +F1*step/2., Dhk0 +f1*step/2.)\n",
      "    F3 = Dhk0 +f2*step/2.\n",
      "    f3 = DDhk(k0, N +step/2., hk0 +F2*step/2., Dhk0 +f2*step/2.)\n",
      "    F4 = Dhk0 +f3*step\n",
      "    f4 = DDhk(k0, N +step, hk0 +F3*step, Dhk0 +f3*step)    \n",
      "\n",
      "    return [numpy.array([(f1 +2*f2 +2*f3 +f4)*step/6.], dtype=complex), numpy.array([(F1 +2*F2 +2*F3 +F4)*step/6.], dtype=complex)] # [Dhk, hk] update"
     ],
     "language": "python",
     "metadata": {},
     "outputs": [],
     "prompt_number": 2
    },
    {
     "cell_type": "code",
     "collapsed": false,
     "input": [
      "def solve_Nics(k0):\n",
      "    Nics = numpy.array([-5])\n",
      "    for i in range(300):\n",
      "        Nics = opt.newton_krylov(lambda N : (k0)**2 - 1e+04*fN(N),Nics)\n",
      "\n",
      "    return Nics\n",
      "\n",
      "def initialize(Nics, k0):\n",
      "    hk0 = numpy.zeros(1,dtype=complex)\n",
      "    hk0.real = (((2.*k0)**(1./2))*A(Nics))**(-1.)\n",
      "\n",
      "    Dhk0 = numpy.zeros(1,dtype=complex)\n",
      "    Dhk0.real = -(Nics/A(Nics))*((2*k0)**(-1./2))\n",
      "    Dhk0.imag = -Nics*((k0/2)**(1./2))/(A(Nics)*A(Nics)*H(Nics))\n",
      "    \n",
      "    return [hk0, Dhk0]\n",
      "\n",
      "def evolve_hk(Nics, Nshss, k0, hk0, Dhk0, npts):\n",
      "    step = (Nshss-Nics)/npts\n",
      "    \n",
      "    results_array = numpy.empty(0, dtype=complex)\n",
      "    results_array = numpy.append(results_array, hk0)\n",
      "    N = Nics\n",
      "    for i in range(npts):\n",
      "        array = rk4_step(k0, N, hk0, Dhk0, step)\n",
      "        hk0 = hk0 + array[1]\n",
      "        results_array = numpy.append(results_array, hk0)\n",
      "        Dhk0 = Dhk0 + array[0]\n",
      "        N += step\n",
      "        \n",
      "    return results_array"
     ],
     "language": "python",
     "metadata": {},
     "outputs": [],
     "prompt_number": 3
    },
    {
     "cell_type": "code",
     "collapsed": false,
     "input": [
      "def calG(hk_array, k0, N_Array):\n",
      "    func_int = (n0/2.)*(A(N_array)**3/a0)*(A(N_array)/a0 -1.)**(-1./2)*N_array*numpy.conj(hk_array)**3\n",
      "    result = romb(func_int, N_Array[1]-N_Array[0])\n",
      "    print result, simps(func_int, N_Array)\n",
      "    return (-3.*k0**2/4.)*result*numpy.array([0.+1.j], dtype=complex)\n",
      "\n",
      "def calG_cc(hk_array, k0, N_Array):\n",
      "    func_int = (n0/2.)*(A(N_array)**3/a0)*(A(N_array)/a0 -1.)**(-1./2)*N_array*(hk_array)**3\n",
      "    result = romb(func_int, N_Array[1]-N_Array[0])\n",
      "    print result, simps(func_int, N_Array)\n",
      "    return (+3.*k0**2/4.)*result*numpy.array([0.+1.j], dtype=complex)\n",
      "\n",
      "def G(hk_array, N_array, k0, calG_array, calG_cc_array):\n",
      "    term1 = calG(hk_array, k0, N_array)\n",
      "    term2 = calG_cc(hk_array, k0, N_array)\n",
      "    calG_array = numpy.append(calG_array, term1)\n",
      "    calG_cc_array = numpy.append(calG_cc_array, term2)\n",
      "    print 'calG =', term1, 'calG* =', term2\n",
      "    \n",
      "    print 2*(hk_array[-1].real**3)*term1.real\n",
      "    print -6*hk_array[-1].real*(hk_array[-1].imag**2)*term1.real\n",
      "    print -6*(hk_array[-1].real**2)*hk_array[-1].imag*term1.imag\n",
      "    print 2*(hk_array[-1].imag**3)*term1.imag\n",
      "    \n",
      "    print '1st term =', (hk_array[-1]**3)*term1, '2nd term =', (numpy.conj(hk_array[-1])**3)*term2\n",
      "    result = (hk_array[-1]**3)*term1 + (numpy.conj(hk_array[-1])**3)*term2\n",
      "    return result"
     ],
     "language": "python",
     "metadata": {},
     "outputs": [],
     "prompt_number": 4
    },
    {
     "cell_type": "code",
     "collapsed": false,
     "input": [
      "a0 = 1e+05\n",
      "n0 = 1.0\n",
      "p = 1.0\n",
      "\n",
      "#k_min = 1e-40\n",
      "#k_max = 1e-5\n",
      "npts = 1024*64\n",
      "\n",
      "#Nshss = numpy.array([7])\n",
      "#for i in range(300):\n",
      "#    Nshss = opt.newton_krylov(lambda N : (k_max)**2 - 1e+04*fN(N),Nshss)\n",
      "\n",
      "Nshss = numpy.sqrt(2*numpy.log(10**4))\n",
      "print 'Nshss =', Nshss"
     ],
     "language": "python",
     "metadata": {},
     "outputs": [
      {
       "output_type": "stream",
       "stream": "stdout",
       "text": [
        "Nshss = 4.29193205258\n"
       ]
      }
     ],
     "prompt_number": 5
    },
    {
     "cell_type": "code",
     "collapsed": false,
     "input": [
      "k_list = numpy.array([10**(-40 + i) for i in range(35)])\n",
      "\n",
      "Nics_array = numpy.zeros(len(k_list))\n",
      "hk_Nshss = numpy.zeros(len(k_list), dtype=complex)\n",
      "\n",
      "calG_array = numpy.empty(0, dtype= complex)\n",
      "calG_cc_array = numpy.empty(0, dtype= complex)\n",
      "G_array = numpy.empty(0, dtype= complex)\n",
      "\n",
      "for i in range(len(k_list)):\n",
      "    k0 = k_list[i]\n",
      "    \n",
      "    hk_file_name = str('hk_'+str(-int(numpy.log10(k0)))+'.dat')\n",
      "    hk_file = open(hk_file_name, \"w\")\n",
      "    \n",
      "    Nics = solve_Nics(k0)\n",
      "    Nics_array[i] = Nics\n",
      "    N_array = numpy.linspace(Nics, Nshss, npts+1)\n",
      "    print 'k =', k0, 'Nics =', Nics\n",
      "    \n",
      "    temp_array = initialize(Nics, k0)\n",
      "    hk0 = temp_array[0]\n",
      "    Dhk0 = temp_array[1]\n",
      "   \n",
      "    hk_array = evolve_hk(Nics, Nshss, k0, hk0, Dhk0, npts)\n",
      "    hk_Nshss = numpy.append(hk_Nshss, hk_array[-1])\n",
      "    \n",
      "    tps_temp = 8*(k0)**3/(2*numpy.pi**2)*(numpy.absolute(hk_array[-1]))**2\n",
      "    \n",
      "    another_temp = G(hk_array, N_array, k0, calG_array, calG_cc_array)\n",
      "    G_array = numpy.append(G_array, another_temp)\n",
      "    \n",
      "    print 'k0=', k0, 'hk(Nshss) =', numpy.absolute(hk_array[-1]), 'TPS =', str(tps_temp).strip('[]'), 'G =', another_temp\n",
      "    print '\\n'\n",
      "    print '\\n'\n",
      "    \n",
      "    for i in range(len(N_array)):\n",
      "        hk_file.write(str(N_array[i])+'\\t'+str(hk_array[i].real).strip('[]')+'\\t'+str(hk_array[i].imag).strip('[]')+'\\n')\n",
      "    \n",
      "    hk_file.close()"
     ],
     "language": "python",
     "metadata": {},
     "outputs": [
      {
       "output_type": "stream",
       "stream": "stdout",
       "text": [
        "k = 1e-40 Nics = [-19.70331419]\n",
        "(9.19673109697e+184-7.20071183261e+185j)"
       ]
      },
      {
       "output_type": "stream",
       "stream": "stdout",
       "text": [
        " (9.19673109699e+184-7.20071183262e+185j)\n",
        "(9.19673109697e+184+7.20071183261e+185j)"
       ]
      },
      {
       "output_type": "stream",
       "stream": "stdout",
       "text": [
        " (9.19673109699e+184+7.20071183262e+185j)\n",
        "calG = [ -5.40053387e+105 -6.89754832e+104j] calG* = [ -5.40053387e+105 +6.89754832e+104j]\n",
        "[  2.97355655e+268]\n",
        "[ -4.96929013e+271]\n",
        "[ -2.68908149e+269]\n",
        "[  4.99320739e+271]\n",
        "1st term = [  2.79680662e+256 -1.97593905e+272j] 2nd term = [  2.79680662e+256 +1.97593905e+272j]\n",
        "k0= 1e-40 hk(Nshss) = 3.31086203319e+55 TPS = 4.44265320366e-10 G = [  5.59361325e+256+0.j]\n",
        "\n",
        "\n",
        "\n",
        "\n",
        "k ="
       ]
      },
      {
       "output_type": "stream",
       "stream": "stdout",
       "text": [
        " 1e-39 Nics = [-19.46818558]\n",
        "(2.99320288772e+180-2.28040856109e+181j)"
       ]
      },
      {
       "output_type": "stream",
       "stream": "stdout",
       "text": [
        " (2.99320288772e+180-2.28040856109e+181j)\n",
        "(2.99320288772e+180+2.28040856109e+181j)"
       ]
      },
      {
       "output_type": "stream",
       "stream": "stdout",
       "text": [
        " (2.99320288772e+180+2.28040856109e+181j)\n",
        "calG = [ -1.71030642e+103 -2.24490217e+102j] calG* = [ -1.71030642e+103 +2.24490217e+102j]\n",
        "[  3.23540629e+261]\n",
        "[ -5.12210775e+264]\n",
        "[ -2.92666415e+262]\n",
        "[  5.14813898e+264]\n",
        "1st term = [ -5.62412557e+248 -1.98353251e+265j] 2nd term = [ -5.62412557e+248 +1.98353251e+265j]\n",
        "k0= 1e-39 hk(Nshss) = 1.04765602121e+54 TPS = 4.44833691066e-10 G = [ -1.12482511e+249+0.j]\n",
        "\n",
        "\n",
        "\n",
        "\n",
        "k ="
       ]
      },
      {
       "output_type": "stream",
       "stream": "stdout",
       "text": [
        " 1e-38 Nics = [-19.23018225]\n",
        "(9.71880065181e+175-7.22091232727e+176j)"
       ]
      },
      {
       "output_type": "stream",
       "stream": "stdout",
       "text": [
        " (9.71880065182e+175-7.22091232728e+176j)\n",
        "(9.71880065181e+175+7.22091232727e+176j)"
       ]
      },
      {
       "output_type": "stream",
       "stream": "stdout",
       "text": [
        " (9.71880065182e+175+7.22091232728e+176j)\n",
        "calG = [ -5.41568425e+100 -7.28910049e+99j] calG* = [ -5.41568425e+100 +7.28910049e+99j]\n",
        "[  3.49597244e+254]\n",
        "[ -5.26645788e+257]\n",
        "[ -3.16318460e+255]\n",
        "[  5.29459376e+257]\n",
        "1st term = [  4.11020577e+242 -1.99056570e+258j] 2nd term = [  4.11020577e+242 +1.99056570e+258j]\n",
        "k0= 1e-38 hk(Nshss) = 3.31493420104e+52 TPS = 4.45358833472e-10 G = [  8.22041154e+242+0.j]\n",
        "\n",
        "\n",
        "\n",
        "\n",
        "k ="
       ]
      },
      {
       "output_type": "stream",
       "stream": "stdout",
       "text": [
        " 1e-37 Nics = [-18.98919611]\n",
        "(3.14880436931e+171-2.28619252494e+172j)"
       ]
      },
      {
       "output_type": "stream",
       "stream": "stdout",
       "text": [
        " (3.14880436933e+171-2.28619252495e+172j)\n",
        "(3.14880436931e+171+2.28619252494e+172j)"
       ]
      },
      {
       "output_type": "stream",
       "stream": "stdout",
       "text": [
        " (3.14880436933e+171+2.28619252495e+172j)\n",
        "calG = [ -1.71464439e+98 -2.36160328e+97j] calG* = [ -1.71464439e+98 +2.36160328e+97j]\n",
        "[  3.75355709e+247]\n",
        "[ -5.40238849e+250]\n",
        "[ -3.39709682e+248]\n",
        "[  5.43260590e+250]\n",
        "1st term = [  2.13160734e+234 -1.99702019e+251j] 2nd term = [  2.13160734e+234 +1.99702019e+251j]\n",
        "k0= 1e-37 hk(Nshss) = 1.04883998461e+51 TPS = 4.45839678517e-10 G = [  4.26321468e+234+0.j]\n",
        "\n",
        "\n",
        "\n",
        "\n",
        "k ="
       ]
      },
      {
       "output_type": "stream",
       "stream": "stdout",
       "text": [
        " 1e-36 Nics = [-18.74511212]\n",
        "(1.01816473453e+167-7.23742617639e+167j)"
       ]
      },
      {
       "output_type": "stream",
       "stream": "stdout",
       "text": [
        " (1.01816473453e+167-7.23742617638e+167j)\n",
        "(1.01816473453e+167+7.23742617639e+167j)"
       ]
      },
      {
       "output_type": "stream",
       "stream": "stdout",
       "text": [
        " (1.01816473453e+167+7.23742617638e+167j)\n",
        "calG = [ -5.42806963e+95 -7.63623551e+94j] calG* = [ -5.42806963e+95 +7.63623551e+94j]\n",
        "[  4.00676325e+240]\n",
        "[ -5.53022050e+243]\n",
        "[ -3.62712561e+241]\n",
        "[  5.56248499e+243]\n",
        "1st term = [ -3.93838704e+228 -2.00297235e+244j] 2nd term = [ -3.93838704e+228 +2.00297235e+244j]\n",
        "k0= 1e-36 hk(Nshss) = 3.31836880616e+49 TPS = 4.46282184623e-10 G = [ -7.87677407e+228+0.j]\n",
        "\n",
        "\n",
        "\n",
        "\n",
        "k ="
       ]
      },
      {
       "output_type": "stream",
       "stream": "stdout",
       "text": [
        " 1e-35 Nics = [-18.49780766]\n",
        "(3.28622445637e+162-2.29091116177e+163j)"
       ]
      },
      {
       "output_type": "stream",
       "stream": "stdout",
       "text": [
        " (3.28622445638e+162-2.29091116177e+163j)\n",
        "(3.28622445637e+162+2.29091116177e+163j)"
       ]
      },
      {
       "output_type": "stream",
       "stream": "stdout",
       "text": [
        " (3.28622445638e+162+2.29091116177e+163j)\n",
        "calG = [ -1.71818337e+93 -2.46466834e+92j] calG* = [ -1.71818337e+93 +2.46466834e+92j]\n",
        "[  4.25422530e+233]\n",
        "[ -5.65012524e+236]\n",
        "[ -3.85202310e+234]\n",
        "[  5.68439125e+236]\n",
        "1st term = [  4.58196265e+221 -2.00843451e+237j] 2nd term = [  4.58196265e+221 +2.00843451e+237j]\n",
        "k0= 1e-35 hk(Nshss) = 1.04983675221e+48 TPS = 4.46687490803e-10 G = [  9.16392530e+221+0.j]\n",
        "\n",
        "\n",
        "\n",
        "\n",
        "k ="
       ]
      },
      {
       "output_type": "stream",
       "stream": "stdout",
       "text": [
        " 1e-34 Nics = [-18.24715177]\n",
        "(1.05901332378e+158-7.25178760863e+158j)"
       ]
      },
      {
       "output_type": "stream",
       "stream": "stdout",
       "text": [
        " (1.05901332378e+158-7.25178760863e+158j)\n",
        "(1.05901332378e+158+7.25178760863e+158j)"
       ]
      },
      {
       "output_type": "stream",
       "stream": "stdout",
       "text": [
        " (1.05901332378e+158+7.25178760863e+158j)\n",
        "calG = [ -5.43884071e+90 -7.94259993e+89j] calG* = [ -5.43884071e+90 +7.94259993e+89j]\n",
        "[  4.49591828e+226]\n",
        "[ -5.76382615e+229]\n",
        "[ -4.07175479e+227]\n",
        "[  5.80004778e+229]\n",
        "1st term = [  5.81455423e+214 -2.01395654e+230j] 2nd term = [  5.81455423e+214 +2.01395654e+230j]\n",
        "k0= 1e-34 hk(Nshss) = 3.32139485552e+46 TPS = 4.47096492947e-10 G = [  1.16291085e+215+0.j]\n",
        "\n",
        "\n",
        "\n",
        "\n",
        "k ="
       ]
      },
      {
       "output_type": "stream",
       "stream": "stdout",
       "text": [
        " 1e-33 Nics = [-17.9930044]\n",
        "(3.40657119563e+153-2.29471692109e+154j)"
       ]
      },
      {
       "output_type": "stream",
       "stream": "stdout",
       "text": [
        " (3.40657119564e+153-2.2947169211e+154j)\n",
        "(3.40657119563e+153+2.29471692109e+154j)"
       ]
      },
      {
       "output_type": "stream",
       "stream": "stdout",
       "text": [
        " (3.40657119564e+153+2.2947169211e+154j)\n",
        "calG = [ -1.72103769e+88 -2.55492840e+87j] calG* = [ -1.72103769e+88 +2.55492840e+87j]\n",
        "[  4.72730472e+219]\n",
        "[ -5.86708169e+222]\n",
        "[ -4.28219900e+220]\n",
        "[  5.90517638e+222]\n",
        "1st term = [  7.37732636e+206 -2.01799861e+223j] 2nd term = [  7.37732636e+206 +2.01799861e+223j]\n",
        "k0= 1e-33 hk(Nshss) = 1.05066831821e+45 TPS = 4.4739540514e-10 G = [  1.47546527e+207+0.j]\n",
        "\n",
        "\n",
        "\n",
        "\n",
        "k ="
       ]
      },
      {
       "output_type": "stream",
       "stream": "stdout",
       "text": [
        " 1e-32 Nics = [-17.73521545]\n",
        "(1.09434467943e+149-7.26142629982e+149j)"
       ]
      },
      {
       "output_type": "stream",
       "stream": "stdout",
       "text": [
        " (1.09434467943e+149-7.26142629981e+149j)\n",
        "(1.09434467943e+149+7.26142629982e+149j)"
       ]
      },
      {
       "output_type": "stream",
       "stream": "stdout",
       "text": [
        " (1.09434467943e+149+7.26142629981e+149j)\n",
        "calG = [ -5.44606972e+85 -8.20758510e+84j] calG* = [ -5.44606972e+85 +8.20758510e+84j]\n",
        "[  4.95074910e+212]\n",
        "[ -5.96433715e+215]\n",
        "[ -4.48548466e+213]\n",
        "[  6.00424124e+215]\n",
        "1st term = [  8.24130074e+199 -2.02205472e+216j] 2nd term = [  8.24130074e+199 +2.02205472e+216j]\n",
        "k0= 1e-32 hk(Nshss) = 3.32361704197e+43 TPS = 4.47694954843e-10 G = [  1.64826015e+200+0.j]\n",
        "\n",
        "\n",
        "\n",
        "\n",
        "k ="
       ]
      },
      {
       "output_type": "stream",
       "stream": "stdout",
       "text": [
        " 1e-31 Nics = [-17.47362374]\n",
        "(3.51341828401e+144-2.29931828054e+145j)"
       ]
      },
      {
       "output_type": "stream",
       "stream": "stdout",
       "text": [
        " (3.51341828401e+144-2.29931828054e+145j)\n",
        "(3.51341828401e+144+2.29931828054e+145j)"
       ]
      },
      {
       "output_type": "stream",
       "stream": "stdout",
       "text": [
        " (3.51341828401e+144+2.29931828054e+145j)\n",
        "calG = [ -1.72448871e+83 -2.63506371e+82j] calG* = [ -1.72448871e+83 +2.63506371e+82j]\n",
        "[  5.17213908e+205]\n",
        "[ -6.06352312e+208]\n",
        "[ -4.68693584e+206]\n",
        "[  6.10522034e+208]\n",
        "1st term = [  3.15672771e+192 -2.02869746e+209j] 2nd term = [  3.15672771e+192 +2.02869746e+209j]\n",
        "k0= 1e-31 hk(Nshss) = 1.05159466432e+42 TPS = 4.48184666004e-10 G = [  6.31345542e+192+0.j]\n",
        "\n",
        "\n",
        "\n",
        "\n",
        "k ="
       ]
      },
      {
       "output_type": "stream",
       "stream": "stdout",
       "text": [
        " 1e-30 Nics = [-17.20805585]\n",
        "(1.12503117617e+140-7.27011751331e+140j)"
       ]
      },
      {
       "output_type": "stream",
       "stream": "stdout",
       "text": [
        " (1.12503117617e+140-7.2701175133e+140j)\n",
        "(1.12503117617e+140+7.27011751331e+140j)"
       ]
      },
      {
       "output_type": "stream",
       "stream": "stdout",
       "text": [
        " (1.12503117617e+140+7.2701175133e+140j)\n",
        "calG = [ -5.45258813e+80 -8.43773382e+79j] calG* = [ -5.45258813e+80 +8.43773382e+79j]\n",
        "[  5.36896166e+198]\n",
        "[ -6.13919520e+201]\n",
        "[ -4.86614030e+199]\n",
        "[  6.18248764e+201]\n",
        "1st term = [  1.19240479e+185 -2.02934418e+202j] 2nd term = [  1.19240479e+185 +2.02934418e+202j]\n",
        "k0= 1e-30 hk(Nshss) = 3.32561097602e+40 TPS = 4.48232286296e-10 G = [  2.38480959e+185+0.j]\n",
        "\n",
        "\n",
        "\n",
        "\n",
        "k ="
       ]
      },
      {
       "output_type": "stream",
       "stream": "stdout",
       "text": [
        " 1e-29 Nics = [-16.93832477]\n",
        "(3.60078283264e+135-2.30012705863e+136j)"
       ]
      },
      {
       "output_type": "stream",
       "stream": "stdout",
       "text": [
        " (3.60078283265e+135-2.30012705864e+136j)\n",
        "(3.60078283264e+135+2.30012705863e+136j)"
       ]
      },
      {
       "output_type": "stream",
       "stream": "stdout",
       "text": [
        " (3.60078283265e+135+2.30012705864e+136j)\n",
        "calG = [ -1.72509529e+78 -2.70058712e+77j] calG* = [ -1.72509529e+78 +2.70058712e+77j]\n",
        "[  5.56217162e+191]\n",
        "[ -6.21674391e+194]\n",
        "[ -5.04207627e+192]\n",
        "[  6.26160251e+194]\n",
        "1st term = [ -4.43216079e+176 -2.03242286e+195j] 2nd term = [ -4.43216079e+176 +2.03242286e+195j]\n",
        "k0= 1e-29 hk(Nshss) = 1.05191626775e+39 TPS = 4.48458839639e-10 G = [ -8.86432159e+176+0.j]\n",
        "\n",
        "\n",
        "\n",
        "\n",
        "k ="
       ]
      },
      {
       "output_type": "stream",
       "stream": "stdout",
       "text": [
        " 1e-28 Nics = [-16.66422832]\n",
        "(1.15124134256e+131-7.27673799403e+131j)"
       ]
      },
      {
       "output_type": "stream",
       "stream": "stdout",
       "text": [
        " (1.15124134257e+131-7.27673799408e+131j)\n",
        "(1.15124134256e+131+7.27673799403e+131j)"
       ]
      },
      {
       "output_type": "stream",
       "stream": "stdout",
       "text": [
        " (1.15124134257e+131+7.27673799408e+131j)\n",
        "calG = [ -5.45755350e+75 -8.63431007e+74j] calG* = [ -5.45755350e+75 +8.63431007e+74j]\n",
        "[  5.74439213e+184]\n",
        "[ -6.28818796e+187]\n",
        "[ -5.20804902e+185]\n",
        "[  6.33452406e+187]\n",
        "1st term = [ -4.70235718e+171 -2.03519253e+188j] 2nd term = [ -4.70235718e+171 +2.03519253e+188j]\n",
        "k0= 1e-28 hk(Nshss) = 3.3272064011e+37 TPS = 4.48662458419e-10 G = [ -9.40471436e+171+0.j]\n",
        "\n",
        "\n",
        "\n",
        "\n",
        "k ="
       ]
      },
      {
       "output_type": "stream",
       "stream": "stdout",
       "text": [
        " 1e-27 Nics = [-16.38554745]\n",
        "(3.67788417602e+126-2.30245349423e+127j)"
       ]
      },
      {
       "output_type": "stream",
       "stream": "stdout",
       "text": [
        " (3.67788417601e+126-2.30245349422e+127j)\n",
        "(3.67788417602e+126+2.30245349423e+127j)"
       ]
      },
      {
       "output_type": "stream",
       "stream": "stdout",
       "text": [
        " (3.67788417601e+126+2.30245349422e+127j)\n",
        "calG = [ -1.72684012e+73 -2.75841313e+72j] calG* = [ -1.72684012e+73 +2.75841313e+72j]\n",
        "[  5.91793180e+177]\n",
        "[ -6.35651262e+180]\n",
        "[ -5.36614302e+178]\n",
        "[  6.40425612e+180]\n",
        "1st term = [  3.74309628e+164 -2.03854219e+181j] 2nd term = [  3.74309628e+164 +2.03854219e+181j]\n",
        "k0= 1e-27 hk(Nshss) = 1.05244346793e+36 TPS = 4.48908470159e-10 G = [  7.48619255e+164+0.j]\n",
        "\n",
        "\n",
        "\n",
        "\n",
        "k ="
       ]
      },
      {
       "output_type": "stream",
       "stream": "stdout",
       "text": [
        " 1e-26 Nics = [-16.10204412]\n",
        "(1.17339841165e+122-7.28181252113e+122j)"
       ]
      },
      {
       "output_type": "stream",
       "stream": "stdout",
       "text": [
        " (1.17339841165e+122-7.28181252112e+122j)\n",
        "(1.17339841165e+122+7.28181252113e+122j)"
       ]
      },
      {
       "output_type": "stream",
       "stream": "stdout",
       "text": [
        " (1.17339841165e+122+7.28181252112e+122j)\n",
        "calG = [ -5.46135939e+70 -8.80048809e+69j] calG* = [ -5.46135939e+70 +8.80048809e+69j]\n",
        "[  6.07515261e+170]\n",
        "[ -6.41389761e+173]\n",
        "[ -5.50942452e+171]\n",
        "[  6.46291670e+173]\n",
        "1st term = [  5.75624010e+158 -2.03989407e+174j] 2nd term = [  5.75624010e+158 +2.03989407e+174j]\n",
        "k0= 1e-26 hk(Nshss) = 3.32848621343e+34 TPS = 4.49007681474e-10 G = [  1.15124802e+159+0.j]\n",
        "\n",
        "\n",
        "\n",
        "\n",
        "k ="
       ]
      },
      {
       "output_type": "stream",
       "stream": "stdout",
       "text": [
        " 1e-25 Nics = [-15.81345896]\n",
        "(3.74122364585e+117-2.30335707283e+118j)"
       ]
      },
      {
       "output_type": "stream",
       "stream": "stdout",
       "text": [
        " (3.74122364584e+117-2.30335707283e+118j)\n",
        "(3.74122364585e+117+2.30335707283e+118j)"
       ]
      },
      {
       "output_type": "stream",
       "stream": "stdout",
       "text": [
        " (3.74122364584e+117+2.30335707283e+118j)\n",
        "calG = [ -1.72751780e+68 -2.80591773e+67j] calG* = [ -1.72751780e+68 +2.80591773e+67j]\n",
        "[  6.22360106e+163]\n",
        "[ -6.46872158e+166]\n",
        "[ -5.64472946e+164]\n",
        "[  6.51894527e+166]\n",
        "1st term = [  4.31838220e+151 -2.04186476e+167j] 2nd term = [  4.31838220e+151 +2.04186476e+167j]\n",
        "k0= 1e-25 hk(Nshss) = 1.05272916653e+33 TPS = 4.4915222658e-10 G = [  8.63676440e+151+0.j]\n",
        "\n",
        "\n",
        "\n",
        "\n",
        "k ="
       ]
      },
      {
       "output_type": "stream",
       "stream": "stdout",
       "text": [
        " 1e-24 Nics = [-15.5195085]\n",
        "(1.19189316043e+113-7.28561734743e+113j)"
       ]
      },
      {
       "output_type": "stream",
       "stream": "stdout",
       "text": [
        " (1.19189316044e+113-7.28561734745e+113j)\n",
        "(1.19189316043e+113+7.28561734743e+113j)"
       ]
      },
      {
       "output_type": "stream",
       "stream": "stdout",
       "text": [
        " (1.19189316044e+113+7.28561734745e+113j)\n",
        "calG = [ -5.46421301e+65 -8.93919870e+64j] calG* = [ -5.46421301e+65 +8.93919870e+64j]\n",
        "[  6.36088362e+156]\n",
        "[ -6.51858242e+159]\n",
        "[ -5.76988162e+157]\n",
        "[  6.56992035e+159]\n",
        "1st term = [ -1.83962904e+144 -2.04361272e+160j] 2nd term = [ -1.83962904e+144 +2.04361272e+160j]\n",
        "k0= 1e-24 hk(Nshss) = 3.3294967287e+31 TPS = 4.49280356777e-10 G = [ -3.67925809e+144+0.j]\n",
        "\n",
        "\n",
        "\n",
        "\n",
        "k ="
       ]
      },
      {
       "output_type": "stream",
       "stream": "stdout",
       "text": [
        " 1e-23 Nics = [-15.21988185]\n",
        "(3.79438104507e+108-2.30439118358e+109j)"
       ]
      },
      {
       "output_type": "stream",
       "stream": "stdout",
       "text": [
        " (3.79438104507e+108-2.30439118358e+109j)\n",
        "(3.79438104507e+108+2.30439118358e+109j)"
       ]
      },
      {
       "output_type": "stream",
       "stream": "stdout",
       "text": [
        " (3.79438104507e+108+2.30439118358e+109j)\n",
        "calG = [ -1.72829339e+63 -2.84578578e+62j] calG* = [ -1.72829339e+63 +2.84578578e+62j]\n",
        "[  6.48718054e+149]\n",
        "[ -6.56375056e+152]\n",
        "[ -5.88503962e+150]\n",
        "[  6.61611377e+152]\n",
        "1st term = [  3.87268758e+137 -2.04515349e+153j] 2nd term = [  3.87268758e+137 +2.04515349e+153j]\n",
        "k0= 1e-23 hk(Nshss) = 1.05301157297e+30 TPS = 4.49393239179e-10 G = [  7.74537516e+137+0.j]\n",
        "\n",
        "\n",
        "\n",
        "\n",
        "k ="
       ]
      },
      {
       "output_type": "stream",
       "stream": "stdout",
       "text": [
        " 1e-22 Nics = [-14.91423693]\n",
        "(1.2071116573e+104-7.2883977145e+104j)"
       ]
      },
      {
       "output_type": "stream",
       "stream": "stdout",
       "text": [
        " (1.20711165729e+104-7.28839771449e+104j)\n",
        "(1.2071116573e+104+7.2883977145e+104j)"
       ]
      },
      {
       "output_type": "stream",
       "stream": "stdout",
       "text": [
        " (1.20711165729e+104+7.28839771449e+104j)\n",
        "calG = [ -5.46629829e+60 -9.05333743e+59j] calG* = [ -5.46629829e+60 +9.05333743e+59j]\n",
        "[  6.60274568e+142]\n",
        "[ -6.60449149e+145]\n",
        "[ -5.99042983e+143]\n",
        "[  6.65779304e+145]\n",
        "1st term = [  1.66035259e+130 -2.04650112e+146j] 2nd term = [  1.66035259e+130 +2.04650112e+146j]\n",
        "k0= 1e-22 hk(Nshss) = 3.33028057432e+28 TPS = 4.49491925024e-10 G = [  3.32070519e+130+0.j]\n",
        "\n",
        "\n",
        "\n",
        "\n",
        "k ="
       ]
      },
      {
       "output_type": "stream",
       "stream": "stdout",
       "text": [
        " 1e-21 Nics = [-14.60219583]\n",
        "(3.8377868382e+99-2.30514113467e+100j)"
       ]
      },
      {
       "output_type": "stream",
       "stream": "stdout",
       "text": [
        " (3.83778683819e+99-2.30514113467e+100j)\n",
        "(3.8377868382e+99+2.30514113467e+100j)"
       ]
      },
      {
       "output_type": "stream",
       "stream": "stdout",
       "text": [
        " (3.83778683819e+99+2.30514113467e+100j)\n",
        "calG = [ -1.72885585e+58 -2.87834013e+57j] calG* = [ -1.72885585e+58 +2.87834013e+57j]\n",
        "[  6.70797331e+135]\n",
        "[ -6.64114155e+138]\n",
        "[ -6.08640696e+136]\n",
        "[  6.69529765e+138]\n",
        "1st term = [  9.04755801e+122 -2.04769193e+139j] 2nd term = [  9.04755801e+122 +2.04769193e+139j]\n",
        "k0= 1e-21 hk(Nshss) = 1.05322929287e+27 TPS = 4.49579090822e-10 G = [  1.80951160e+123+0.j]\n",
        "\n",
        "\n",
        "\n",
        "\n",
        "k ="
       ]
      },
      {
       "output_type": "stream",
       "stream": "stdout",
       "text": [
        " 1e-20 Nics = [-14.28333933]\n",
        "(1.55518062524e+97-9.29764497359e+97j)"
       ]
      },
      {
       "output_type": "stream",
       "stream": "stdout",
       "text": [
        " (1.55518062524e+97-9.29764497358e+97j)\n",
        "(1.55518062524e+97+9.29764497359e+97j)"
       ]
      },
      {
       "output_type": "stream",
       "stream": "stdout",
       "text": [
        " (1.55518062524e+97+9.29764497358e+97j)\n",
        "calG = [ -6.97323373e+57 -1.16638547e+57j] calG* = [ -6.97323373e+57 +1.16638547e+57j]\n",
        "[  1.10650885e+133]\n",
        "[ -1.08548179e+136]\n",
        "[ -1.00405435e+134]\n",
        "[  1.09441583e+136]\n",
        "1st term = [ -3.63601713e+120 -3.33215758e+136j] 2nd term = [ -3.63601713e+120 +3.33215758e+136j]\n",
        "k0= 1e-20 hk(Nshss) = 1.67661418798e+26 TPS = 1.1392696287e-08 G = [ -7.27203426e+120+0.j]\n",
        "\n",
        "\n",
        "\n",
        "\n",
        "k ="
       ]
      },
      {
       "output_type": "stream",
       "stream": "stdout",
       "text": [
        " 1e-19 Nics = [-13.95720037]\n",
        "(3.87259937787e+90-2.30565995341e+91j)"
       ]
      },
      {
       "output_type": "stream",
       "stream": "stdout",
       "text": [
        " (3.87259937788e+90-2.30565995341e+91j)\n",
        "(3.87259937787e+90+2.30565995341e+91j)"
       ]
      },
      {
       "output_type": "stream",
       "stream": "stdout",
       "text": [
        " (3.87259937788e+90+2.30565995341e+91j)\n",
        "calG = [ -1.72924497e+53 -2.90444953e+52j] calG* = [ -1.72924497e+53 +2.90444953e+52j]\n",
        "[  6.88878315e+121]\n",
        "[ -6.70301003e+124]\n",
        "[ -6.25135459e+122]\n",
        "[  6.75863479e+124]\n",
        "1st term = [  9.17170097e+108 -2.04959540e+125j] 2nd term = [  9.17170097e+108 +2.04959540e+125j]\n",
        "k0= 1e-19 hk(Nshss) = 1.05339240492e+24 TPS = 4.49718352897e-10 G = [  1.83434019e+109+0.j]\n",
        "\n",
        "\n",
        "\n",
        "\n",
        "k ="
       ]
      },
      {
       "output_type": "stream",
       "stream": "stdout",
       "text": [
        " 1e-18 Nics = [-13.62325592]\n",
        "(1.22922395571e+86-7.29175454636e+86j)"
       ]
      },
      {
       "output_type": "stream",
       "stream": "stdout",
       "text": [
        " (1.22922395571e+86-7.29175454634e+86j)\n",
        "(1.22922395571e+86+7.29175454636e+86j)"
       ]
      },
      {
       "output_type": "stream",
       "stream": "stdout",
       "text": [
        " (1.22922395571e+86+7.29175454634e+86j)\n",
        "calG = [ -5.46881591e+50 -9.21917967e+49j] calG* = [ -5.46881591e+50 +9.21917967e+49j]\n",
        "[  6.96533620e+114]\n",
        "[ -6.72881101e+117]\n",
        "[ -6.32120404e+115]\n",
        "[  6.78505771e+117]\n",
        "1st term = [ -1.08815724e+102 -2.05035641e+118j] 2nd term = [ -1.08815724e+102 +2.05035641e+118j]\n",
        "k0= 1e-18 hk(Nshss) = 3.33132537528e+22 TPS = 4.49774005319e-10 G = [ -2.17631447e+102+0.j]\n",
        "\n",
        "\n",
        "\n",
        "\n",
        "k ="
       ]
      },
      {
       "output_type": "stream",
       "stream": "stdout",
       "text": [
        " 1e-17 Nics = [-13.28091719]\n",
        "(3.89996805432e+81-2.30601274113e+82j)"
       ]
      },
      {
       "output_type": "stream",
       "stream": "stdout",
       "text": [
        " (3.89996805431e+81-2.30601274113e+82j)\n",
        "(3.89996805432e+81+2.30601274113e+82j)"
       ]
      },
      {
       "output_type": "stream",
       "stream": "stdout",
       "text": [
        " (3.89996805431e+81+2.30601274113e+82j)\n",
        "calG = [ -1.72950956e+48 -2.92497604e+47j] calG* = [ -1.72950956e+48 +2.92497604e+47j]\n",
        "[  7.03330000e+107]\n",
        "[ -6.75150960e+110]\n",
        "[ -6.38322261e+108]\n",
        "[  6.80830853e+110]\n",
        "1st term = [ -8.63051402e+94 -2.05100311e+111j] 2nd term = [ -8.63051402e+94 +2.05100311e+111j]\n",
        "k0= 1e-17 hk(Nshss) = 1.05351295245e+21 TPS = 4.49821288021e-10 G = [ -1.72610280e+95+0.j]\n",
        "\n",
        "\n",
        "\n",
        "\n",
        "k ="
       ]
      },
      {
       "output_type": "stream",
       "stream": "stdout",
       "text": [
        " 1e-16 Nics = [-12.92951743]\n",
        "(1.23682966059e+77-7.29265691156e+77j)"
       ]
      },
      {
       "output_type": "stream",
       "stream": "stdout",
       "text": [
        " (1.23682966059e+77-7.29265691155e+77j)\n",
        "(1.23682966059e+77+7.29265691156e+77j)"
       ]
      },
      {
       "output_type": "stream",
       "stream": "stdout",
       "text": [
        " (1.23682966059e+77+7.29265691155e+77j)\n",
        "calG = [ -5.46949268e+45 -9.27622245e+44j] calG* = [ -5.46949268e+45 +9.27622245e+44j]\n",
        "[  7.09321986e+100]\n",
        "[ -6.77136665e+103]\n",
        "[ -6.43790572e+101]\n",
        "[  6.82865249e+103]\n",
        "1st term = [  4.79101002e+88 -2.05155318e+104j] 2nd term = [  4.79101002e+88 +2.05155318e+104j]\n",
        "k0= 1e-16 hk(Nshss) = 3.33164937315e+19 TPS = 4.49861497767e-10 G = [  9.58202004e+88+0.j]\n",
        "\n",
        "\n",
        "\n",
        "\n",
        "k ="
       ]
      },
      {
       "output_type": "stream",
       "stream": "stdout",
       "text": [
        " 1e-15 Nics = [-12.56829665]\n",
        "(3.9209587795e+72-2.30623778101e+73j)"
       ]
      },
      {
       "output_type": "stream",
       "stream": "stdout",
       "text": [
        " (3.9209587795e+72-2.30623778101e+73j)\n",
        "(3.9209587795e+72+2.30623778101e+73j)"
       ]
      },
      {
       "output_type": "stream",
       "stream": "stdout",
       "text": [
        " (3.9209587795e+72+2.30623778101e+73j)\n",
        "calG = [ -1.72967834e+43 -2.94071908e+42j] calG* = [ -1.72967834e+43 +2.94071908e+42j]\n",
        "[  7.14560401e+93]\n",
        "[ -6.78858430e+96]\n",
        "[ -6.48571561e+94]\n",
        "[  6.84629585e+96]\n",
        "1st term = [  1.84248372e+81 -2.05200788e+97j] 2nd term = [  1.84248372e+81 +2.05200788e+97j]\n",
        "k0= 1e-15 hk(Nshss) = 1.0535989529e+18 TPS = 4.49894730703e-10 G = [  3.68496745e+81+0.j]\n",
        "\n",
        "\n",
        "\n",
        "\n",
        "k ="
       ]
      },
      {
       "output_type": "stream",
       "stream": "stdout",
       "text": [
        " 1e-14 Nics = [-12.19638226]\n",
        "(1.24258118036e+68-7.2932139398e+68j)"
       ]
      },
      {
       "output_type": "stream",
       "stream": "stdout",
       "text": [
        " (1.24258118036e+68-7.29321393979e+68j)\n",
        "(1.24258118036e+68+7.2932139398e+68j)"
       ]
      },
      {
       "output_type": "stream",
       "stream": "stdout",
       "text": [
        " (1.24258118036e+68+7.29321393979e+68j)\n",
        "calG = [ -5.46991045e+40 -9.31935885e+39j] calG* = [ -5.46991045e+40 +9.31935885e+39j]\n",
        "[  7.19105627e+86]\n",
        "[ -6.80343886e+89]\n",
        "[ -6.52720169e+87]\n",
        "[  6.86151982e+89]\n",
        "1st term = [  1.48801651e+74 -2.05239255e+90j] 2nd term = [  1.48801651e+74 +2.05239255e+90j]\n",
        "k0= 1e-14 hk(Nshss) = 3.33187651973e+16 TPS = 4.49922841547e-10 G = [  2.97603302e+74+0.j]\n",
        "\n",
        "\n",
        "\n",
        "\n",
        "k ="
       ]
      },
      {
       "output_type": "stream",
       "stream": "stdout",
       "text": [
        " 1e-13 Nics = [-11.81276428]\n",
        "(3.9366933378e+63-2.30643404898e+64j)"
       ]
      },
      {
       "output_type": "stream",
       "stream": "stdout",
       "text": [
        " (3.9366933378e+63-2.30643404898e+64j)\n",
        "(3.9366933378e+63+2.30643404898e+64j)"
       ]
      },
      {
       "output_type": "stream",
       "stream": "stdout",
       "text": [
        " (3.9366933378e+63+2.30643404898e+64j)\n",
        "calG = [ -1.72982554e+38 -2.95252000e+37j] calG* = [ -1.72982554e+38 +2.95252000e+37j]\n",
        "[  7.23046545e+79]\n",
        "[ -6.81646208e+82]\n",
        "[ -6.56317238e+80]\n",
        "[  6.87486334e+82]\n",
        "1st term = [  5.90012114e+67 -2.05281094e+83j] 2nd term = [  5.90012114e+67 +2.05281094e+83j]\n",
        "k0= 1e-13 hk(Nshss) = 1.0536676638e+15 TPS = 4.49953412771e-10 G = [  1.18002423e+68+0.j]\n",
        "\n",
        "\n",
        "\n",
        "\n",
        "k ="
       ]
      },
      {
       "output_type": "stream",
       "stream": "stdout",
       "text": [
        " 1e-12 Nics = [-11.41626294]\n",
        "(1.24678836839e+59-7.29352483733e+59j)"
       ]
      },
      {
       "output_type": "stream",
       "stream": "stdout",
       "text": [
        " (1.24678836839e+59-7.29352483732e+59j)\n",
        "(1.24678836839e+59+7.29352483733e+59j)"
       ]
      },
      {
       "output_type": "stream",
       "stream": "stdout",
       "text": [
        " (1.24678836839e+59+7.29352483732e+59j)\n",
        "calG = [ -5.47014363e+35 -9.35091276e+34j] calG* = [ -5.47014363e+35 +9.35091276e+34j]\n",
        "[  7.26327079e+72]\n",
        "[ -6.82681282e+75]\n",
        "[ -6.59312058e+73]\n",
        "[  6.88548075e+75]\n",
        "1st term = [ -3.52302335e+59 -2.05295531e+76j] 2nd term = [ -3.52302335e+59 +2.05295531e+76j]\n",
        "k0= 1e-12 hk(Nshss) = 3.33202876803e+13 TPS = 4.49963960451e-10 G = [ -7.04604670e+59+0.j]\n",
        "\n",
        "\n",
        "\n",
        "\n",
        "k ="
       ]
      },
      {
       "output_type": "stream",
       "stream": "stdout",
       "text": [
        " 1e-11 Nics = [-11.00548587]\n",
        "(3.94780249054e+54-2.30644504477e+55j)"
       ]
      },
      {
       "output_type": "stream",
       "stream": "stdout",
       "text": [
        " (3.94780249052e+54-2.30644504477e+55j)\n",
        "(3.94780249054e+54+2.30644504477e+55j)"
       ]
      },
      {
       "output_type": "stream",
       "stream": "stdout",
       "text": [
        " (3.94780249052e+54+2.30644504477e+55j)\n",
        "calG = [ -1.72983378e+33 -2.96085187e+32j] calG* = [ -1.72983378e+33 +2.96085187e+32j]\n",
        "[  7.29116481e+65]\n",
        "[ -6.83577064e+68]\n",
        "[ -6.61858471e+66]\n",
        "[  6.89466533e+68]\n",
        "1st term = [ -1.40748454e+53 -2.05315840e+69j] 2nd term = [ -1.40748454e+53 +2.05315840e+69j]\n",
        "k0= 1e-11 hk(Nshss) = 1.05369738534e+12 TPS = 4.49978797428e-10 G = [ -2.81496907e+53+0.j]\n",
        "\n",
        "\n",
        "\n",
        "\n",
        "k ="
       ]
      },
      {
       "output_type": "stream",
       "stream": "stdout",
       "text": [
        " 1e-10 Nics = [-10.57877019]\n",
        "(1.24974192058e+50-7.29368518912e+50j)"
       ]
      },
      {
       "output_type": "stream",
       "stream": "stdout",
       "text": [
        " (1.24974192058e+50-7.29368518914e+50j)\n",
        "(1.24974192058e+50+7.29368518912e+50j)"
       ]
      },
      {
       "output_type": "stream",
       "stream": "stdout",
       "text": [
        " (1.24974192058e+50+7.29368518914e+50j)\n",
        "calG = [ -5.47026389e+30 -9.37306440e+29j] calG* = [ -5.47026389e+30 +9.37306440e+29j]\n",
        "[  7.31430545e+58]\n",
        "[ -6.84316916e+61]\n",
        "[ -6.63971036e+59]\n",
        "[  6.90225196e+61]\n",
        "1st term = [ -2.49628967e+46 -2.05331951e+62j] 2nd term = [ -2.49628967e+46 +2.05331951e+62j]\n",
        "k0= 1e-10 hk(Nshss) = 33321272784.5 TPS = 4.49990566941e-10 G = [ -4.99257933e+46+0.j]\n",
        "\n",
        "\n",
        "\n",
        "\n",
        "k ="
       ]
      },
      {
       "output_type": "stream",
       "stream": "stdout",
       "text": [
        " 1e-09 Nics = [-10.13410275]\n",
        "(3.95547679132e+45-2.30647862979e+46j)"
       ]
      },
      {
       "output_type": "stream",
       "stream": "stdout",
       "text": [
        " (3.95547679132e+45-2.30647862979e+46j)\n",
        "(3.95547679132e+45+2.30647862979e+46j)"
       ]
      },
      {
       "output_type": "stream",
       "stream": "stdout",
       "text": [
        " (3.95547679132e+45+2.30647862979e+46j)\n",
        "calG = [ -1.72985897e+28 -2.96660759e+27j] calG* = [ -1.72985897e+28 +2.96660759e+27j]\n",
        "[  7.33321099e+51]\n",
        "[ -6.84918649e+54]\n",
        "[ -6.65697029e+52]\n",
        "[  6.90842298e+54]\n",
        "1st term = [ -5.29697356e+38 -2.05344392e+55j] 2nd term = [ -5.29697356e+38 +2.05344392e+55j]\n",
        "k0= 1e-09 hk(Nshss) = 1053721805.69 TPS = 4.49999654971e-10 G = [ -1.05939471e+39+0.j]\n",
        "\n",
        "\n",
        "\n",
        "\n",
        "k ="
       ]
      },
      {
       "output_type": "stream",
       "stream": "stdout",
       "text": [
        " 1e-08 Nics = [-9.66900709]\n",
        "(1.25170657274e+41-7.29375997992e+41j)"
       ]
      },
      {
       "output_type": "stream",
       "stream": "stdout",
       "text": [
        " (1.25170657275e+41-7.29375997994e+41j)\n",
        "(1.25170657274e+41+7.29375997992e+41j)"
       ]
      },
      {
       "output_type": "stream",
       "stream": "stdout",
       "text": [
        " (1.25170657275e+41+7.29375997994e+41j)\n",
        "calG = [ -5.47031998e+25 -9.38779930e+24j] calG* = [ -5.47031998e+25 +9.38779930e+24j]\n",
        "[  7.34841346e+44]\n",
        "[ -6.85401976e+47]\n",
        "[ -6.67084977e+45]\n",
        "[  6.91337984e+47]\n",
        "1st term = [ -2.27880002e+32 -2.05354470e+48j] 2nd term = [ -2.27880002e+32 +2.05354470e+48j]\n",
        "k0= 1e-08 hk(Nshss) = 33321881.8127 TPS = 4.50007016458e-10 G = [ -4.55760005e+32+0.j]\n",
        "\n",
        "\n",
        "\n",
        "\n",
        "k ="
       ]
      },
      {
       "output_type": "stream",
       "stream": "stdout",
       "text": [
        " 1e-07 Nics = [-9.18037895]\n",
        "(3.96041885279e+36-2.30649708765e+37j)"
       ]
      },
      {
       "output_type": "stream",
       "stream": "stdout",
       "text": [
        " (3.96041885281e+36-2.30649708766e+37j)\n",
        "(3.96041885279e+36+2.30649708765e+37j)"
       ]
      },
      {
       "output_type": "stream",
       "stream": "stdout",
       "text": [
        " (3.96041885281e+36+2.30649708766e+37j)\n",
        "calG = [ -1.72987282e+23 -2.97031414e+22j] calG* = [ -1.72987282e+23 +2.97031414e+22j]\n",
        "[  7.36038129e+37]\n",
        "[ -6.85781684e+40]\n",
        "[ -6.68177633e+38]\n",
        "[  6.91727423e+40]\n",
        "1st term = [  2.31986253e+25 -2.05362254e+41j] 2nd term = [  2.31986253e+25 +2.05362254e+41j]\n",
        "k0= 1e-07 hk(Nshss) = 1053737.08141 TPS = 4.50012702276e-10 G = [  4.63972507e+25+0.j]\n",
        "\n",
        "\n",
        "\n",
        "\n",
        "k ="
       ]
      },
      {
       "output_type": "stream",
       "stream": "stdout",
       "text": [
        " 1e-06 Nics = [-8.66423784]\n",
        "(1.25291622646e+32-7.29376698542e+32j)"
       ]
      },
      {
       "output_type": "stream",
       "stream": "stdout",
       "text": [
        " (1.25291622646e+32-7.29376698539e+32j)\n",
        "(1.25291622646e+32+7.29376698542e+32j)"
       ]
      },
      {
       "output_type": "stream",
       "stream": "stdout",
       "text": [
        " (1.25291622646e+32+7.29376698539e+32j)\n",
        "calG = [ -5.47032524e+20 -9.39687170e+19j] calG* = [ -5.47032524e+20 +9.39687170e+19j]\n",
        "[  7.36950394e+30]\n",
        "[ -6.86066407e+33]\n",
        "[ -6.69010573e+31]\n",
        "[  6.92019562e+33]\n",
        "1st term = [  5.38236450e+18 -2.05366213e+34j] 2nd term = [  5.38236450e+18 +2.05366213e+34j]\n",
        "k0= 1e-06 hk(Nshss) = 33322.1993953 TPS = 4.50015594309e-10 G = [  1.07647290e+19+0.j]\n",
        "\n",
        "\n",
        "\n",
        "\n"
       ]
      },
      {
       "output_type": "stream",
       "stream": "stderr",
       "text": [
        "/usr/local/lib/python2.7/dist-packages/scipy/optimize/nonlin.py:474: RuntimeWarning: invalid value encountered in double_scalars\n",
        "  and dx_norm/self.x_rtol <= x_norm))\n"
       ]
      }
     ],
     "prompt_number": 6
    },
    {
     "cell_type": "code",
     "collapsed": false,
     "input": [
      "TPS = [8*(k_list[i])**3/(2*numpy.pi**2)*(numpy.absolute(hk_Nshss[i]))**2 for i in range(len(k_list))]"
     ],
     "language": "python",
     "metadata": {},
     "outputs": [],
     "prompt_number": 8
    },
    {
     "cell_type": "code",
     "collapsed": false,
     "input": [
      "data = numpy.loadtxt('numerical_matter_bounce.dat')\n",
      "\n",
      "k_list = numpy.zeros(len(data))\n",
      "hk_Nshss = numpy.zeros(len(data))\n",
      "TPS = numpy.zeros(len(data))\n",
      "G_array = numpy.zeros(len(data))\n",
      "\n",
      "k_list = data[:,0]\n",
      "hk_Nshss = data[:,2]\n",
      "TPS = data[:,3]\n",
      "G_array = data[:,8]"
     ],
     "language": "python",
     "metadata": {},
     "outputs": [],
     "prompt_number": 39
    },
    {
     "cell_type": "code",
     "collapsed": false,
     "input": [
      "calG = numpy.zeros(len(data), dtype=complex)\n",
      "calG.real = data[:,4]\n",
      "calG.imag = data[:,5]"
     ],
     "language": "python",
     "metadata": {},
     "outputs": [],
     "prompt_number": 40
    },
    {
     "cell_type": "code",
     "collapsed": false,
     "input": [
      "plt.loglog(k_list, numpy.absolute(calG))"
     ],
     "language": "python",
     "metadata": {},
     "outputs": [
      {
       "metadata": {},
       "output_type": "pyout",
       "prompt_number": 42,
       "text": [
        "[<matplotlib.lines.Line2D at 0xaed613ac>]"
       ]
      },
      {
       "metadata": {},
       "output_type": "display_data",
       "png": "[encoded data removed]",
       "text": [
        "<matplotlib.figure.Figure at 0xaed42a4c>"
       ]
      }
     ],
     "prompt_number": 42
    },
    {
     "cell_type": "code",
     "collapsed": false,
     "input": [
      "plt.loglog(k_list, (k_list**(5./2))*numpy.absolute(calG))"
     ],
     "language": "python",
     "metadata": {},
     "outputs": [
      {
       "metadata": {},
       "output_type": "pyout",
       "prompt_number": 43,
       "text": [
        "[<matplotlib.lines.Line2D at 0xae90132c>]"
       ]
      },
      {
       "metadata": {},
       "output_type": "display_data",
       "png": "[encoded data removed]",
       "text": [
        "<matplotlib.figure.Figure at 0xae8fef6c>"
       ]
      }
     ],
     "prompt_number": 43
    },
    {
     "cell_type": "code",
     "collapsed": false,
     "input": [
      "h_NL = (-1./6)*((4./(2.*numpy.pi**2))**2)*(k_list**6)*G_array.real/TPS"
     ],
     "language": "python",
     "metadata": {},
     "outputs": [],
     "prompt_number": 30
    },
    {
     "cell_type": "code",
     "collapsed": false,
     "input": [
      "plt.cla()\n",
      "plt.xlabel(r'$k$')\n",
      "plt.ylabel(r'${\\mathcal{P}}_{\\rm T}(k)$')\n",
      "plt.title(r'${\\mathcal{P}}_{\\rm T}$ as a function of $k$')\n",
      "numerics, = plt.loglog(k_list, TPS)\n",
      "plt.legend([numerics],['numerical results'], loc = 'lower left')\n",
      "plt.savefig('power_spectrum_matter_bounce.png')"
     ],
     "language": "python",
     "metadata": {},
     "outputs": [
      {
       "metadata": {},
       "output_type": "display_data",
       "png": "[encoded data removed]",
       "text": [
        "<matplotlib.figure.Figure at 0xaeccbd8c>"
       ]
      }
     ],
     "prompt_number": 34
    },
    {
     "cell_type": "code",
     "collapsed": false,
     "input": [
      "plt.cla()\n",
      "plt.xlabel(r'$k$')\n",
      "plt.ylabel(r'$k^{3/2}*h_{\\rm k}(Nshss)$')\n",
      "plt.title(r'$k^{3/2}*h_{\\rm k}$ as a function of $k$')\n",
      "numerics, = plt.loglog(k_list, k_list**(3./2)*hk_Nshss)\n",
      "plt.legend([numerics],['numerical results'], loc = 'lower left')\n",
      "plt.savefig('power_law_hk_matter_bounce.png')"
     ],
     "language": "python",
     "metadata": {},
     "outputs": [
      {
       "metadata": {},
       "output_type": "display_data",
       "png": "[encoded data removed]",
       "text": [
        "<matplotlib.figure.Figure at 0xae93910c>"
       ]
      }
     ],
     "prompt_number": 33
    },
    {
     "cell_type": "code",
     "collapsed": false,
     "input": [
      "plt.cla()\n",
      "plt.xlabel(r'$k$')\n",
      "plt.ylabel(r'${\\rm G}_{\\rm \\gamma\\gamma\\gamma}(k)$')\n",
      "plt.title(r'${\\rm G}_{\\rm \\gamma\\gamma\\gamma}$ as a function of $k$')\n",
      "numerics, = plt.loglog(k_list, numpy.absolute(G_array))\n",
      "plt.legend([numerics],['numerical results'])\n",
      "plt.savefig('G_matter_bounce.png')"
     ],
     "language": "python",
     "metadata": {},
     "outputs": [
      {
       "metadata": {},
       "output_type": "display_data",
       "png": "[encoded data removed]",
       "text": [
        "<matplotlib.figure.Figure at 0xae84180c>"
       ]
      }
     ],
     "prompt_number": 35
    },
    {
     "cell_type": "code",
     "collapsed": false,
     "input": [
      "plt.cla()\n",
      "plt.xlabel(r'$k$')\n",
      "plt.ylabel(r'${\\rm G}_{\\rm \\gamma\\gamma\\gamma}(k)$')\n",
      "plt.title(r'${\\rm G}_{\\rm \\gamma\\gamma\\gamma}$ as a function of $k$')\n",
      "numerics, = plt.loglog(k_list, k_list**7.*numpy.absolute(G_array))\n",
      "plt.legend([numerics],['numerical results'])\n",
      "plt.savefig('G_bouncing_model.png')"
     ],
     "language": "python",
     "metadata": {},
     "outputs": [
      {
       "metadata": {},
       "output_type": "display_data",
       "png": "[encoded data removed]",
       "text": [
        "<matplotlib.figure.Figure at 0xae9d742c>"
       ]
      }
     ],
     "prompt_number": 36
    },
    {
     "cell_type": "code",
     "collapsed": false,
     "input": [
      "plt.cla()\n",
      "plt.xlabel(r'$k$')\n",
      "plt.ylabel(r'${h}_{\\rm NL}(k)$')\n",
      "plt.title(r'${h}_{\\rm NL}$ as a function of $k$')\n",
      "numerics, = plt.loglog(k_list, numpy.absolute(h_NL))\n",
      "plt.legend([numerics],['numerical results'], loc = 'upper right')\n",
      "plt.savefig('h_NL_bouncing_model.png')"
     ],
     "language": "python",
     "metadata": {},
     "outputs": [
      {
       "metadata": {},
       "output_type": "display_data",
       "png": "[encoded data removed]",
       "text": [
        "<matplotlib.figure.Figure at 0xaea1314c>"
       ]
      }
     ],
     "prompt_number": 37
    },
    {
     "cell_type": "code",
     "collapsed": false,
     "input": [
      "plt.cla()\n",
      "plt.xlabel(r'$k$')\n",
      "plt.ylabel(r'${h}_{\\rm NL}(k)$')\n",
      "plt.title(r'${h}_{\\rm NL}$ as a function of $k$')\n",
      "numerics, = plt.loglog(k_list, k_list*numpy.absolute(h_NL))\n",
      "plt.legend([numerics],['numerical results'], loc = 'upper right')\n",
      "plt.savefig('h_NL_bouncing_model.png')"
     ],
     "language": "python",
     "metadata": {},
     "outputs": [
      {
       "metadata": {},
       "output_type": "display_data",
       "png": "[encoded data removed]",
       "text": [
        "<matplotlib.figure.Figure at 0xaea8d2cc>"
       ]
      }
     ],
     "prompt_number": 38
    },
    {
     "cell_type": "code",
     "collapsed": false,
     "input": [
      "tps_file = open('power_spectrum_bouncing_model.dat','w')\n",
      "G_file = open('G_bouncing_model.dat','w')\n",
      "h_NL_file = open('h_NL_bouncing_model.dat','w')\n",
      "\n",
      "for i in range(len(k_list)):\n",
      "    tps_file.write(str(k_list[i])+'\\t'+str(TPS[i])+'\\n')\n",
      "    G_file.write(str(k_list[i])+'\\t'+str(G_array[i].real)+'\\n')\n",
      "    h_NL_file.write(str(h_NL[i])+'\\t'+str(h_NL[i].real)+'\\n')"
     ],
     "language": "python",
     "metadata": {},
     "outputs": [],
     "prompt_number": 15
    },
    {
     "cell_type": "code",
     "collapsed": false,
     "input": [],
     "language": "python",
     "metadata": {},
     "outputs": []
    }
   ],
   "metadata": {}
  }
 ]
}