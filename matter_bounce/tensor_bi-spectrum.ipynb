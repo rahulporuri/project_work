{
 "metadata": {
  "name": "",
  "signature": "sha256:1d066ddf6a7bebb60e3faf52a34324c7f90d1b7e2460ee64aa7e4052f140d54d"
 },
 "nbformat": 3,
 "nbformat_minor": 0,
 "worksheets": [
  {
   "cells": [
    {
     "cell_type": "code",
     "collapsed": false,
     "input": [
      "import numpy\n",
      "import matplotlib.pyplot as plt\n",
      "import scipy.optimize as opt\n",
      "from scipy.integrate import simps\n",
      "%matplotlib inline"
     ],
     "language": "python",
     "metadata": {},
     "outputs": [],
     "prompt_number": 1
    },
    {
     "cell_type": "code",
     "collapsed": false,
     "input": [
      "A = lambda N : a0*numpy.exp(N**2/2.)\n",
      "an = lambda n : a0*(1.+(n/n0)**2)\n",
      "aN = lambda N : an(n(N))\n",
      "h = lambda n : (2.*a0*n/n0**2)*(1./an(n)**2)\n",
      "H = lambda N : h(n(N))\n",
      "\n",
      "fn = lambda n : (2.*a0/n0**2)*(1./an(n))\n",
      "fN = lambda N : fn(n(N))    \n",
      "\n",
      "Heavi = lambda N : (1./2)*(numpy.sign(N)+1.)\n",
      "\n",
      "nm = lambda N : -n0*((A(N)/a0)**(1./p)-1)**(1./2)\n",
      "np = lambda N : n0*((A(N)/a0)**(1./p)-1)**(1./2)\n",
      "\n",
      "DHm = lambda N : -100000.0*N*(1.0*numpy.exp(N**2/2)**1.0 - 1.0)**(-0.5)*numpy.exp(N**2/2)**1.0/(100000.0*(1.0*numpy.exp(N**2/2)**1.0 - 1)**1.0 + 100000.0)**2 + 40000000000.0*N*(1.0*numpy.exp(N**2/2)**1.0 - 1.0)**0.5*numpy.exp(N**2/2)**1.0/(100000.0*(1.0*numpy.exp(N**2/2)**1.0 - 1)**1.0 + 100000.0)**3\n",
      "DHp = lambda N : 100000.0*N*(1.0*numpy.exp(N**2/2)**1.0 - 1.0)**(-0.5)*numpy.exp(N**2/2)**1.0/(100000.0*(1.0*numpy.exp(N**2/2)**1.0 - 1)**1.0 + 100000.0)**2 - 40000000000.0*N*(1.0*numpy.exp(N**2/2)**1.0 - 1.0)**0.5*numpy.exp(N**2/2)**1.0/(100000.0*(1.0*numpy.exp(N**2/2)**1.0 - 1)**1.0 + 100000.0)**3\n",
      "\n",
      "n = lambda N : Heavi(N)*np(N) + Heavi(-N)*nm(N)\n",
      "DH = lambda N : Heavi(N)*DHp(N) + Heavi(-N)*DHm(N)\n",
      "\n",
      "def DDhk(k0, N, hk0, Dhk0):\n",
      "    return -((3.*N -(1./N) +(DH(N)/H(N)))*Dhk0 +(((k0*N)/(A(N)*H(N)))**2)*hk0)\n",
      "\n",
      "def rk4_step(k0, N, hk0, Dhk0, step):\n",
      "    F1 = Dhk0\n",
      "    f1 = DDhk(k0, N, hk0, Dhk0)\n",
      "    F2 = Dhk0 +f1*step/2.\n",
      "    f2 = DDhk(k0, N +step/2., hk0 +F1*step/2., Dhk0 +f1*step/2.)\n",
      "    F3 = Dhk0 +f2*step/2.\n",
      "    f3 = DDhk(k0, N +step/2., hk0 +F2*step/2., Dhk0 +f2*step/2.)\n",
      "    F4 = Dhk0 +f3*step\n",
      "    f4 = DDhk(k0, N +step, hk0 +F3*step, Dhk0 +f3*step)    \n",
      "\n",
      "    return [numpy.array([(f1 +2*f2 +2*f3 +f4)*step/6.], dtype=complex), numpy.array([(F1 +2*F2 +2*F3 +F4)*step/6.], dtype=complex)] # [Dhk, hk] update"
     ],
     "language": "python",
     "metadata": {},
     "outputs": [],
     "prompt_number": 2
    },
    {
     "cell_type": "code",
     "collapsed": false,
     "input": [
      "def solve_Nics(k0):\n",
      "    Nics = numpy.array([-5])\n",
      "    for i in range(200):\n",
      "        Nics = opt.newton_krylov(lambda N : (k0)**2 - 1e+04*fN(N),Nics)\n",
      "\n",
      "    return Nics\n",
      "\n",
      "def initialize(Nics, k0):\n",
      "    hk0 = numpy.zeros(1,dtype=complex)\n",
      "    hk0.real = (((2.*k0)**(1./2))*A(Nics))**(-1.)\n",
      "\n",
      "    Dhk0 = numpy.zeros(1,dtype=complex)\n",
      "    Dhk0.real = -(Nics/A(Nics))*((2*k0)**(-1./2))\n",
      "    Dhk0.imag = -Nics*((k0/2)**(1./2))/(A(Nics)*A(Nics)*H(Nics))\n",
      "    \n",
      "    return [hk0, Dhk0]\n",
      "\n",
      "def evolve_hk(Nics, Nshss, k0, hk0, Dhk0, npts):\n",
      "    step = (Nshss-Nics)/npts\n",
      "    \n",
      "    results_array = numpy.empty(0, dtype=complex)\n",
      "    results_array = numpy.append(results_array, hk0)\n",
      "    N = Nics\n",
      "    for i in range(npts):\n",
      "        array = rk4_step(k0, N, hk0, Dhk0, step)\n",
      "        hk0 = hk0 + array[1]\n",
      "        results_array = numpy.append(results_array, hk0)\n",
      "        Dhk0 = Dhk0 + array[0]\n",
      "        N += step\n",
      "        \n",
      "    return results_array"
     ],
     "language": "python",
     "metadata": {},
     "outputs": [],
     "prompt_number": 3
    },
    {
     "cell_type": "code",
     "collapsed": false,
     "input": [
      "def calG(hk_array, k0, N_Array):\n",
      "    func_int = (n0/2.)*(A(N_array)**3/a0)*(A(N_array)/a0 -1.)**(-1./2)*N_array*numpy.conj(hk_array)**3\n",
      "    result = simps(func_int, N_array)\n",
      "    return (-3.*k0**2/4.)*result*numpy.array([0.+1.j], dtype=complex)\n",
      "\n",
      "def calG_cc(hk_array, k0, N_Array):\n",
      "    func_int = (n0/2.)*(A(N_array)**3/a0)*(A(N_array)/a0 -1.)**(-1./2)*N_array*(hk_array)**3\n",
      "    result = simps(func_int, N_array)\n",
      "    return (+3.*k0**2/4.)*result*numpy.array([0.+1.j], dtype=complex)\n",
      "\n",
      "def G(hk_array, N_array, k0):\n",
      "    term1 = calG(hk_array, k0, N_array)\n",
      "    term2 = calG_cc(hk_array, k0, N_array)\n",
      "    print 'calG and calG* =', term1, term2\n",
      "    print 2*(hk_array[-1].real**3)*term1.real\n",
      "    print -6*hk_array[-1].real*(hk_array[-1].imag**2)*term1.real\n",
      "    print -6*(hk_array[-1].real**2)*hk_array[-1].imag*term1.imag\n",
      "    print 2*(hk_array[-1].imag**3)*term1.imag\n",
      "    print (hk_array[-1]**3)*term1, (numpy.conj(hk_array[-1])**3)*term2\n",
      "    result = (hk_array[-1]**3)*term1 + (numpy.conj(hk_array[-1])**3)*term2\n",
      "    return result"
     ],
     "language": "python",
     "metadata": {},
     "outputs": [],
     "prompt_number": 4
    },
    {
     "cell_type": "code",
     "collapsed": false,
     "input": [
      "a0 = 1e+05\n",
      "n0 = 1.0\n",
      "p = 1.0\n",
      "\n",
      "k_min = 1e-30\n",
      "k_max = 1e-4\n",
      "npts = 45000\n",
      "\n",
      "Nshss = numpy.array([7])\n",
      "for i in range(200):\n",
      "    Nshss = opt.newton_krylov(lambda N : (k_max)**2 - 1e+04*fN(N),Nshss)\n",
      "\n",
      "print 'Nshss =', Nshss"
     ],
     "language": "python",
     "metadata": {},
     "outputs": [
      {
       "output_type": "stream",
       "stream": "stdout",
       "text": [
        "Nshss = [ 7.52650892]\n"
       ]
      },
      {
       "output_type": "stream",
       "stream": "stderr",
       "text": [
        "/usr/local/lib/python2.7/dist-packages/scipy/optimize/nonlin.py:474: RuntimeWarning: invalid value encountered in double_scalars\n",
        "  and dx_norm/self.x_rtol <= x_norm))\n"
       ]
      }
     ],
     "prompt_number": 5
    },
    {
     "cell_type": "code",
     "collapsed": false,
     "input": [
      "k_list = numpy.array([10**(-30 + i) for i in range(26)])\n",
      "G_array = numpy.empty(0)\n",
      "calG_array = numpy.empty(0)\n",
      "k_vs_hk_array = numpy.empty(0)\n",
      "\n",
      "for k0 in k_list:\n",
      "    Nics = solve_Nics(k0)\n",
      "    \n",
      "    temp_array = initialize(Nics, k0)\n",
      "    hk0 = temp_array[0]\n",
      "    Dhk0 = temp_array[1]\n",
      "   \n",
      "    hk_array = evolve_hk(Nics, Nshss, k0, hk0, Dhk0, npts)\n",
      "    k_vs_hk_array = numpy.append(k_vs_hk_array, hk_array[-1])\n",
      "    \n",
      "    tps_temp = 8*(k0)**3/(2*numpy.pi**2)*(numpy.absolute(hk_array[-1]))**2\n",
      "    \n",
      "    Nics = solve_Nics(k0)\n",
      "    N_array = numpy.linspace(Nics, Nshss, npts+1)\n",
      "    another_temp = G(hk_array, N_array, k0)\n",
      "    \n",
      "    G_array = numpy.append(G_array, another_temp)\n",
      "    print 'k0=', k0, 'hk(Nshss) =', numpy.absolute(hk_array[-1]), 'TPS =', str(tps_temp).strip('[]'), 'G =', another_temp"
     ],
     "language": "python",
     "metadata": {},
     "outputs": [
      {
       "output_type": "stream",
       "stream": "stdout",
       "text": [
        "calG and calG* = [ -2.92254314e+101 -1.46629935e+100j] [ -2.92254314e+101 +1.46629935e+100j]\n",
        "[  9.40373186e+217]\n",
        "[ -1.01015438e+222]\n",
        "[ -8.46966693e+218]\n",
        "[  1.01090731e+222]\n",
        "[  3.06082229e+205 -1.00913080e+223j] [  3.06082229e+205 +1.00913080e+223j]\n",
        "k0= 1e-30 hk(Nshss) = 3.25496909027e+40 TPS = 4.29392034292e-10 G = [  6.12164458e+205+0.j]\n",
        "calG and calG* ="
       ]
      },
      {
       "output_type": "stream",
       "stream": "stdout",
       "text": [
        " [ -9.31444602e+98 -5.73866264e+97j] [ -9.31444602e+98 +5.73866264e+97j]\n",
        "[  1.76750468e+211]\n",
        "[ -1.26006339e+215]\n",
        "[ -1.59254156e+212]\n",
        "[  1.26147918e+215]\n",
        "[ -5.62968673e+198 -1.02634460e+216j] [ -5.62968673e+198 +1.02634460e+216j]\n",
        "k0= 1e-29 hk(Nshss) = 1.03221735998e+39 TPS = 4.31819811596e-10 G = [ -1.12593735e+199+0.j]\n",
        "calG and calG* ="
       ]
      },
      {
       "output_type": "stream",
       "stream": "stdout",
       "text": [
        " [ -2.96600660e+96 -2.14498213e+95j] [ -2.96600660e+96 +2.14498213e+95j]\n",
        "[  2.89627399e+204]\n",
        "[ -1.49983476e+208]\n",
        "[ -2.61068048e+205]\n",
        "[  1.50215581e+208]\n",
        "[ -1.56889590e+192 -1.04218166e+209j] [ -1.56889590e+192 +1.04218166e+209j]\n",
        "k0= 1e-28 hk(Nshss) = 3.27249905574e+37 TPS = 4.34029557198e-10 G = [ -3.13779180e+192+0.j]\n",
        "calG and calG* ="
       ]
      },
      {
       "output_type": "stream",
       "stream": "stdout",
       "text": [
        " [ -9.43711389e+93 -7.76846648e+92j] [ -9.43711389e+93 +7.76846648e+92j]\n",
        "[  4.32052081e+197]\n",
        "[ -1.72841018e+201]\n",
        "[ -3.89626229e+198]\n",
        "[  1.73187439e+201]\n",
        "[ -3.29039987e+185 -1.05668398e+202j] [ -3.29039987e+185 +1.05668398e+202j]\n",
        "k0= 1e-27 hk(Nshss) = 1.03724132849e+36 TPS = 4.36033514539e-10 G = [ -6.58079973e+185+0.j]\n",
        "calG and calG* ="
       ]
      },
      {
       "output_type": "stream",
       "stream": "stdout",
       "text": [
        " [ -3.00047378e+91 -2.74932103e+90j] [ -3.00047378e+91 +2.74932103e+90j]\n",
        "[  6.01821196e+190]\n",
        "[ -1.94497238e+194]\n",
        "[ -5.42983590e+191]\n",
        "[  1.94980039e+194]\n",
        "[  2.22478643e+178 -1.06990330e+195j] [  2.22478643e+178 +1.06990330e+195j]\n",
        "k0= 1e-26 hk(Nshss) = 3.2868486999e+34 TPS = 4.37844271643e-10 G = [  4.44957285e+178+0.j]\n",
        "calG and calG* ="
       ]
      },
      {
       "output_type": "stream",
       "stream": "stdout",
       "text": [
        " [ -9.53349518e+88 -9.55965089e+87j] [ -9.53349518e+88 +9.55965089e+87j]\n",
        "[  7.95531786e+183]\n",
        "[ -2.14891253e+187]\n",
        "[ -7.18106150e+184]\n",
        "[  2.15529806e+187]\n",
        "[ -2.13228877e+171 -1.08188987e+188j] [ -2.13228877e+171 +1.08188987e+188j]\n",
        "k0= 1e-25 hk(Nshss) = 1.0413246148e+33 TPS = 4.39473320029e-10 G = [ -4.26457754e+171+0.j]\n",
        "calG and calG* ="
       ]
      },
      {
       "output_type": "stream",
       "stream": "stdout",
       "text": [
        " [ -3.02729093e+86 -3.27779024e+85j] [ -3.02729093e+86 +3.27779024e+85j]\n",
        "[  1.00895963e+177]\n",
        "[ -2.33984117e+180]\n",
        "[ -9.11208388e+177]\n",
        "[  2.34794429e+180]\n",
        "[ -1.69609050e+164 -1.09270737e+181j] [ -1.69609050e+164 +1.09270737e+181j]\n",
        "k0= 1e-24 hk(Nshss) = 3.29842239514e+31 TPS = 4.40933186564e-10 G = [ -3.39218100e+164+0.j]\n",
        "calG and calG* ="
       ]
      },
      {
       "output_type": "stream",
       "stream": "stdout",
       "text": [
        " [ -9.60770653e+83 -1.11116269e+83j] [ -9.60770653e+83 +1.11116269e+83j]\n",
        "[  1.23737965e+170]\n",
        "[ -2.51752990e+173]\n",
        "[ -1.11804003e+171]\n",
        "[  2.52747292e+173]\n",
        "[  7.89719887e+156 -1.10241138e+174j] [  7.89719887e+156 +1.10241138e+174j]\n",
        "k0= 1e-23 hk(Nshss) = 1.04459090378e+30 TPS = 4.42234607149e-10 G = [  1.57943977e+157+0.j]\n",
        "calG and calG* ="
       ]
      },
      {
       "output_type": "stream",
       "stream": "stdout",
       "text": [
        " [ -3.04772713e+81 -3.73143422e+80j] [ -3.04772713e+81 +3.73143422e+80j]\n",
        "[  1.47589643e+163]\n",
        "[ -2.68197470e+166]\n",
        "[ -1.33418365e+164]\n",
        "[  2.69384064e+166]\n",
        "[ -3.48756753e+150 -1.11108592e+167j] [ -3.48756753e+150 +1.11108592e+167j]\n",
        "k0= 1e-22 hk(Nshss) = 3.30760443799e+28 TPS = 4.43391514941e-10 G = [ -6.97513506e+150+0.j]\n",
        "calG and calG* ="
       ]
      },
      {
       "output_type": "stream",
       "stream": "stdout",
       "text": [
        " [ -9.66367206e+78 -1.24312322e+78j] [ -9.66367206e+78 +1.24312322e+78j]\n",
        "[  1.71962469e+156]\n",
        "[ -2.83324273e+159]\n",
        "[ -1.55521827e+157]\n",
        "[  2.84707529e+159]\n",
        "[  3.85931500e+143 -1.11878333e+160j] [  3.85931500e+143 +1.11878333e+160j]\n",
        "k0= 1e-21 hk(Nshss) = 1.04716059071e+27 TPS = 4.44413071961e-10 G = [  7.71862999e+143+0.j]\n",
        "calG and calG* ="
       ]
      },
      {
       "output_type": "stream",
       "stream": "stdout",
       "text": [
        " [ -3.06293954e+76 -4.11334799e+75j] [ -3.06293954e+76 +4.11334799e+75j]\n",
        "[  1.96393599e+149]\n",
        "[ -2.97156167e+152]\n",
        "[ -1.77694381e+150]\n",
        "[  2.98736717e+152]\n",
        "[  8.35864533e+135 -1.12557197e+153j] [  8.35864533e+135 +1.12557197e+153j]\n",
        "k0= 1e-20 hk(Nshss) = 3.31475298597e+25 TPS = 4.45310142594e-10 G = [  1.67172907e+136+0.j]\n",
        "calG and calG* ="
       ]
      },
      {
       "output_type": "stream",
       "stream": "stdout",
       "text": [
        " [ -9.70476461e+73 -1.35308047e+73j] [ -9.70476461e+73 +1.35308047e+73j]\n",
        "[  2.20460816e+142]\n",
        "[ -3.09728817e+145]\n",
        "[ -1.99551850e+143]\n",
        "[  3.11503875e+145]\n",
        "[ -2.51679344e+129 -1.13152739e+146j] [ -2.51679344e+129 +1.13152739e+146j]\n",
        "k0= 1e-19 hk(Nshss) = 1.04913925537e+24 TPS = 4.46094142145e-10 G = [ -5.03358688e+129+0.j]\n",
        "calG and calG* ="
       ]
      },
      {
       "output_type": "stream",
       "stream": "stdout",
       "text": [
        " [ -3.07398013e+71 -4.42822172e+70j] [ -3.07398013e+71 +4.42822172e+70j]\n",
        "[  2.43792755e+135]\n",
        "[ -3.21087969e+138]\n",
        "[ -2.20755404e+136]\n",
        "[  3.23051731e+138]\n",
        "[  3.62644717e+122 -1.13672663e+139j] [  3.62644717e+122 +1.13672663e+139j]\n",
        "k0= 1e-18 hk(Nshss) = 3.32020549903e+22 TPS = 4.46776349194e-10 G = [  7.25289435e+122+0.j]\n",
        "calG and calG* ="
       ]
      },
      {
       "output_type": "stream",
       "stream": "stdout",
       "text": [
        " [ -9.07128586e+68 -1.34447360e+68j] [ -9.07128586e+68 +1.34447360e+68j]\n",
        "[  2.31064645e+128]\n",
        "[ -2.87696002e+131]\n",
        "[ -2.09304091e+129]\n",
        "[  2.89557978e+131]\n",
        "[  5.16574154e+114 -9.91078937e+131j] [  5.16574154e+114 +9.91078937e+131j]\n",
        "k0= 1e-17 hk(Nshss) = 1.026219666e+21 TPS = 4.26816216778e-10 G = [  1.03314831e+115+0.j]\n",
        "calG and calG* ="
       ]
      },
      {
       "output_type": "stream",
       "stream": "stdout",
       "text": [
        " [ -3.08170189e+66 -4.68177627e+65j] [ -3.08170189e+66 +4.68177627e+65j]\n",
        "[  2.87027109e+121]\n",
        "[ -3.40354448e+124]\n",
        "[ -2.60080524e+122]\n",
        "[  3.42668227e+124]\n",
        "[ -2.72811660e+108 -1.14505064e+125j] [ -2.72811660e+108 +1.14505064e+125j]\n",
        "k0= 1e-16 hk(Nshss) = 3.32424538214e+19 TPS = 4.47864247101e-10 G = [ -5.45623321e+108+0.j]\n",
        "calG and calG* ="
       ]
      },
      {
       "output_type": "stream",
       "stream": "stdout",
       "text": [
        " [ -9.75431237e+63 -1.51397535e+63j] [ -9.75431237e+63 +1.51397535e+63j]\n",
        "[  3.06479942e+114]\n",
        "[ -3.48386592e+117]\n",
        "[ -2.77788662e+115]\n",
        "[  3.50857999e+117]\n",
        "[  1.90427516e+101 -1.14832646e+118j] [  1.90427516e+101 +1.14832646e+118j]\n",
        "k0= 1e-15 hk(Nshss) = 1.05171932488e+18 TPS = 4.48290931786e-10 G = [  3.80855032e+101+0.j]\n",
        "calG and calG* ="
       ]
      },
      {
       "output_type": "stream",
       "stream": "stdout",
       "text": [
        " [ -3.08693083e+61 -4.88062643e+60j] [ -3.08693083e+61 +4.88062643e+60j]\n",
        "[  3.24285413e+107]\n",
        "[ -3.55436992e+110]\n",
        "[ -2.94004730e+108]\n",
        "[  3.58052754e+110]\n",
        "[ -4.54992356e+94 -1.15109289e+111j] [ -4.54992356e+94 +1.15109289e+111j]\n",
        "k0= 1e-14 hk(Nshss) = 3.3271625619e+16 TPS = 4.48650635364e-10 G = [ -9.09984711e+94+0.j]\n",
        "calG and calG* ="
       ]
      },
      {
       "output_type": "stream",
       "stream": "stdout",
       "text": [
        " [ -9.76765097e+58 -1.56902087e+58j] [ -9.76765097e+58 +1.56902087e+58j]\n",
        "[  3.40355701e+100]\n",
        "[ -3.61569348e+103]\n",
        "[ -3.08646625e+101]\n",
        "[  3.64315459e+103]\n",
        "[ -5.34233945e+86 -1.15339525e+104j] [ -5.34233945e+86 +1.15339525e+104j]\n",
        "k0= 1e-13 hk(Nshss) = 1.05249163154e+15 TPS = 4.48949558441e-10 G = [ -1.06846789e+87+0.j]\n",
        "calG and calG* ="
       ]
      },
      {
       "output_type": "stream",
       "stream": "stdout",
       "text": [
        " [ -3.09028512e+56 -5.03168455e+55j] [ -3.09028512e+56 +5.03168455e+55j]\n",
        "[  3.54659303e+93]\n",
        "[ -3.66856115e+96]\n",
        "[ -3.21683690e+94]\n",
        "[  3.69718292e+96]\n",
        "[  6.54109512e+80 -1.15529941e+97j] [  6.54109512e+80 +1.15529941e+97j]\n",
        "k0= 1e-12 hk(Nshss) = 3.32918593261e+13 TPS = 4.49196483403e-10 G = [  1.30821902e+81+0.j]\n",
        "calG and calG* ="
       ]
      },
      {
       "output_type": "stream",
       "stream": "stdout",
       "text": [
        " [ -9.77597469e+53 -1.61008027e+53j] [ -9.77597469e+53 +1.61008027e+53j]\n",
        "[  3.67203756e+86]\n",
        "[ -3.71365012e+89]\n",
        "[ -3.33121096e+87]\n",
        "[  3.74329019e+89]\n",
        "[  3.16790157e+73 -1.15685073e+90j] [  3.16790157e+73 +1.15685073e+90j]\n",
        "k0= 1e-11 hk(Nshss) = 1.05301650786e+12 TPS = 4.4939745131e-10 G = [  6.33580315e+73+0.j]\n",
        "calG and calG* ="
       ]
      },
      {
       "output_type": "stream",
       "stream": "stdout",
       "text": [
        " [ -3.09231044e+51 -5.14208016e+50j] [ -3.09231044e+51 +5.14208016e+50j]\n",
        "[  3.78036633e+79]\n",
        "[ -3.75166036e+82]\n",
        "[ -3.43000761e+80]\n",
        "[  3.78218007e+82]\n",
        "[ -4.58108469e+66 -1.15809875e+83j] [ -4.58108469e+66 +1.15809875e+83j]\n",
        "k0= 1e-10 hk(Nshss) = 33305290335.0 TPS = 4.49558997188e-10 G = [ -9.16216938e+66+0.j]\n",
        "calG and calG* ="
       ]
      },
      {
       "output_type": "stream",
       "stream": "stdout",
       "text": [
        " [ -9.78079755e+48 -1.63939871e+48j] [ -9.78079755e+48 +1.63939871e+48j]\n",
        "[  3.87235527e+72]\n",
        "[ -3.78326951e+75]\n",
        "[ -3.51392255e+73]\n",
        "[  3.81453638e+75]\n",
        "[  2.05967401e+58 -1.15908486e+76j] [  2.05967401e+58 +1.15908486e+76j]\n",
        "k0= 1e-09 hk(Nshss) = 1053355139.47 TPS = 4.49686534438e-10 G = [  4.11934801e+58+0.j]\n",
        "calG and calG* ="
       ]
      },
      {
       "output_type": "stream",
       "stream": "stdout",
       "text": [
        " [ -3.09329435e+46 -5.21861931e+45j] [ -3.09329435e+46 +5.21861931e+45j]\n",
        "[  3.94863633e+65]\n",
        "[ -3.80876033e+68]\n",
        "[ -3.58352457e+66]\n",
        "[  3.84064693e+68]\n",
        "[ -6.05997039e+52 -1.15973068e+69j] [ -6.05997039e+52 +1.15973068e+69j]\n",
        "k0= 1e-08 hk(Nshss) = 33313012.5616 TPS = 4.49767492529e-10 G = [ -1.21199408e+53+0.j]\n",
        "calG and calG* ="
       ]
      },
      {
       "output_type": "stream",
       "stream": "stdout",
       "text": [
        " [ -9.74147386e+43 -1.65207424e+43j] [ -9.74147386e+43 +1.65207424e+43j]\n",
        "[  3.97060982e+58]\n",
        "[ -3.79077424e+61]\n",
        "[ -3.60377844e+59]\n",
        "[  3.82284142e+61]\n",
        "[  7.60734171e+45 -1.14855700e+62j] [  7.60734171e+45 +1.14855700e+62j]\n",
        "k0= 1e-07 hk(Nshss) = 1051453.778 TPS = 4.48064583883e-10 G = [  1.52146834e+46+0.j]\n",
        "calG and calG* ="
       ]
      },
      {
       "output_type": "stream",
       "stream": "stdout",
       "text": [
        " [ -2.01364529e+41 -3.42907084e+40j] [ -2.01364529e+41 +3.42907084e+40j]\n",
        "[  1.42450431e+51]\n",
        "[ -1.34901599e+54]\n",
        "[ -1.29298815e+52]\n",
        "[  1.36052137e+54]\n",
        "[  4.43214460e+38 -4.07145689e+54j] [  4.43214460e+38 +4.07145689e+54j]\n",
        "k0= 1e-06 hk(Nshss) = 27113.5538724 TPS = 2.97942966594e-10 G = [  8.86428920e+38+0.j]\n",
        "calG and calG* ="
       ]
      },
      {
       "output_type": "stream",
       "stream": "stdout",
       "text": [
        " [ -6.32201696e+34 -1.07999742e+34j] [ -6.32201696e+34 +1.07999742e+34j]\n",
        "[  3.60296695e+31]\n",
        "[ -3.39088234e+34]\n",
        "[ -3.27050027e+32]\n",
        "[  3.41998438e+34]\n",
        "[ -8.56370728e+19 -1.02034416e+35j] [ -8.56370728e+19 +1.02034416e+35j]\n",
        "k0= 1e-05 hk(Nshss) = 1.16738709559 TPS = 5.52319049704e-16 G = [ -1.71274146e+20+0.j]\n"
       ]
      }
     ],
     "prompt_number": 6
    },
    {
     "cell_type": "code",
     "collapsed": false,
     "input": [
      "$"
     ],
     "language": "python",
     "metadata": {},
     "outputs": []
    },
    {
     "cell_type": "code",
     "collapsed": false,
     "input": [
      "TPS = [8*(k_list[i])**3/(2*numpy.pi**2)*(numpy.absolute(k_vs_hk_array[i]))**2 for i in range(len(k_list))]"
     ],
     "language": "python",
     "metadata": {},
     "outputs": [],
     "prompt_number": 7
    },
    {
     "cell_type": "code",
     "collapsed": false,
     "input": [
      "h_NL = (-1./6)*((4./(2.*numpy.pi**2))**2)*(k_list**6)*G_array/TPS"
     ],
     "language": "python",
     "metadata": {},
     "outputs": [],
     "prompt_number": 8
    },
    {
     "cell_type": "code",
     "collapsed": false,
     "input": [
      "plt.cla()\n",
      "plt.xlabel(r'$k$')\n",
      "plt.ylabel(r'${\\mathcal{P}}_{\\rm T}(k)$')\n",
      "plt.title(r'${\\mathcal{P}}_{\\rm T}$ as a function of $k$')\n",
      "numerics, = plt.loglog(k_list, TPS)\n",
      "plt.legend([numerics],['numerical results'], loc = 'lower left')\n",
      "plt.savefig('power_spectrum_bouncing_model.png')"
     ],
     "language": "python",
     "metadata": {},
     "outputs": [
      {
       "metadata": {},
       "output_type": "display_data",
       "png": "[encoded data removed]",
       "text": [
        "<matplotlib.figure.Figure at 0xaee6a18c>"
       ]
      }
     ],
     "prompt_number": 15
    },
    {
     "cell_type": "code",
     "collapsed": false,
     "input": [
      "plt.cla()\n",
      "plt.xlabel(r'$k$')\n",
      "plt.ylabel(r'${\\rm G}_{\\rm \\gamma\\gamma\\gamma}(k)$')\n",
      "plt.title(r'${\\rm G}_{\\rm \\gamma\\gamma\\gamma}$ as a function of $k$')\n",
      "numerics, = plt.loglog(k_list, numpy.absolute(G_array))\n",
      "plt.legend([numerics],['numerical results'])\n",
      "plt.savefig('G_bouncing_model.png')"
     ],
     "language": "python",
     "metadata": {},
     "outputs": [
      {
       "metadata": {},
       "output_type": "display_data",
       "png": "[encoded data removed]",
       "text": [
        "<matplotlib.figure.Figure at 0xaec994ec>"
       ]
      }
     ],
     "prompt_number": 16
    },
    {
     "cell_type": "code",
     "collapsed": false,
     "input": [
      "plt.cla()\n",
      "plt.xlabel(r'$k$')\n",
      "plt.ylabel(r'${h}_{\\rm NL}(k)$')\n",
      "plt.title(r'${h}_{\\rm NL}$ as a function of $k$')\n",
      "numerics, = plt.loglog(k_list, numpy.absolute(h_NL))\n",
      "plt.legend([numerics],['numerical results'], loc = 'upper right')\n",
      "plt.savefig('h_NL_bouncing_model.png')"
     ],
     "language": "python",
     "metadata": {},
     "outputs": [
      {
       "metadata": {},
       "output_type": "display_data",
       "png": "[encoded data removed]",
       "text": [
        "<matplotlib.figure.Figure at 0xaeee9a2c>"
       ]
      }
     ],
     "prompt_number": 14
    },
    {
     "cell_type": "code",
     "collapsed": false,
     "input": [],
     "language": "python",
     "metadata": {},
     "outputs": []
    },
    {
     "cell_type": "code",
     "collapsed": false,
     "input": [
      "tps_file = open('power_spectrum_bouncing_model.dat','w')\n",
      "G_file = open('G_bouncing_model.dat','w')"
     ],
     "language": "python",
     "metadata": {},
     "outputs": []
    }
   ],
   "metadata": {}
  }
 ]
}