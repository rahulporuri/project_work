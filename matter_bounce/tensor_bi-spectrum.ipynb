{
 "metadata": {
  "name": "",
  "signature": "sha256:e192341537838311392d17b1d2d1e6a872c8a3874ecf3b01f9bc5ec6e397cedc"
 },
 "nbformat": 3,
 "nbformat_minor": 0,
 "worksheets": [
  {
   "cells": [
    {
     "cell_type": "code",
     "collapsed": false,
     "input": [
      "import numpy\n",
      "import matplotlib.pyplot as plt\n",
      "import scipy.optimize as opt\n",
      "from scipy.integrate import simps\n",
      "%matplotlib inline"
     ],
     "language": "python",
     "metadata": {},
     "outputs": [],
     "prompt_number": 1
    },
    {
     "cell_type": "code",
     "collapsed": false,
     "input": [
      "A = lambda N : a0*numpy.exp(N**2/2.)\n",
      "an = lambda n : a0*(1.+(n/n0)**2)\n",
      "aN = lambda N : an(n(N))\n",
      "h = lambda n : (2.*a0*n/n0**2)*(1./an(n)**2)\n",
      "H = lambda N : h(n(N))\n",
      "\n",
      "fn = lambda n : (2.*a0/n0**2)*(1./an(n))\n",
      "fN = lambda N : fn(n(N))    \n",
      "\n",
      "Heavi = lambda N : (1./2)*(numpy.sign(N)+1.)\n",
      "\n",
      "nm = lambda N : -n0*((A(N)/a0)**(1./p)-1)**(1./2)\n",
      "np = lambda N : n0*((A(N)/a0)**(1./p)-1)**(1./2)\n",
      "\n",
      "DHm = lambda N : -100000.0*N*(1.0*numpy.exp(N**2/2)**1.0 - 1.0)**(-0.5)*numpy.exp(N**2/2)**1.0/(100000.0*(1.0*numpy.exp(N**2/2)**1.0 - 1)**1.0 + 100000.0)**2 + 40000000000.0*N*(1.0*numpy.exp(N**2/2)**1.0 - 1.0)**0.5*numpy.exp(N**2/2)**1.0/(100000.0*(1.0*numpy.exp(N**2/2)**1.0 - 1)**1.0 + 100000.0)**3\n",
      "DHp = lambda N : 100000.0*N*(1.0*numpy.exp(N**2/2)**1.0 - 1.0)**(-0.5)*numpy.exp(N**2/2)**1.0/(100000.0*(1.0*numpy.exp(N**2/2)**1.0 - 1)**1.0 + 100000.0)**2 - 40000000000.0*N*(1.0*numpy.exp(N**2/2)**1.0 - 1.0)**0.5*numpy.exp(N**2/2)**1.0/(100000.0*(1.0*numpy.exp(N**2/2)**1.0 - 1)**1.0 + 100000.0)**3\n",
      "\n",
      "n = lambda N : Heavi(N)*np(N) + Heavi(-N)*nm(N)\n",
      "DH = lambda N : Heavi(N)*DHp(N) + Heavi(-N)*DHm(N)\n",
      "\n",
      "def DDhk(k0, N, hk0, Dhk0):\n",
      "    return -((3.*N -(1./N) +(DH(N)/H(N)))*Dhk0 +(((k0*N)/(A(N)*H(N)))**2)*hk0)\n",
      "\n",
      "def rk4_step(k0, N, hk0, Dhk0, step):\n",
      "    F1 = Dhk0\n",
      "    f1 = DDhk(k0, N, hk0, Dhk0)\n",
      "    F2 = Dhk0 +f1*step/2.\n",
      "    f2 = DDhk(k0, N +step/2., hk0 +F1*step/2., Dhk0 +f1*step/2.)\n",
      "    F3 = Dhk0 +f2*step/2.\n",
      "    f3 = DDhk(k0, N +step/2., hk0 +F2*step/2., Dhk0 +f2*step/2.)\n",
      "    F4 = Dhk0 +f3*step\n",
      "    f4 = DDhk(k0, N +step, hk0 +F3*step, Dhk0 +f3*step)    \n",
      "\n",
      "    return [numpy.array([(f1 +2*f2 +2*f3 +f4)*step/6.], dtype=complex), numpy.array([(F1 +2*F2 +2*F3 +F4)*step/6.], dtype=complex)] # [Dhk, hk] update"
     ],
     "language": "python",
     "metadata": {},
     "outputs": [],
     "prompt_number": 2
    },
    {
     "cell_type": "code",
     "collapsed": false,
     "input": [
      "def solve_Nics(k0):\n",
      "    Nics = numpy.array([-5])\n",
      "    for i in range(300):\n",
      "        Nics = opt.newton_krylov(lambda N : (k0)**2 - 1e+04*fN(N),Nics)\n",
      "\n",
      "    return Nics\n",
      "\n",
      "def initialize(Nics, k0):\n",
      "    hk0 = numpy.zeros(1,dtype=complex)\n",
      "    hk0.real = (((2.*k0)**(1./2))*A(Nics))**(-1.)\n",
      "\n",
      "    Dhk0 = numpy.zeros(1,dtype=complex)\n",
      "    Dhk0.real = -(Nics/A(Nics))*((2*k0)**(-1./2))\n",
      "    Dhk0.imag = -Nics*((k0/2)**(1./2))/(A(Nics)*A(Nics)*H(Nics))\n",
      "    \n",
      "    return [hk0, Dhk0]\n",
      "\n",
      "def evolve_hk(Nics, Nshss, k0, hk0, Dhk0, npts):\n",
      "    step = (Nshss-Nics)/npts\n",
      "    \n",
      "    results_array = numpy.empty(0, dtype=complex)\n",
      "    results_array = numpy.append(results_array, hk0)\n",
      "    N = Nics\n",
      "    for i in range(npts):\n",
      "        array = rk4_step(k0, N, hk0, Dhk0, step)\n",
      "        hk0 = hk0 + array[1]\n",
      "        results_array = numpy.append(results_array, hk0)\n",
      "        Dhk0 = Dhk0 + array[0]\n",
      "        N += step\n",
      "        \n",
      "    return results_array"
     ],
     "language": "python",
     "metadata": {},
     "outputs": [],
     "prompt_number": 3
    },
    {
     "cell_type": "code",
     "collapsed": false,
     "input": [
      "def calG(hk_array, k0, N_Array):\n",
      "    func_int = (n0/2.)*(A(N_array)**3/a0)*(A(N_array)/a0 -1.)**(-1./2)*N_array*numpy.conj(hk_array)**3\n",
      "    result = simps(func_int, N_array)\n",
      "    return (-3.*k0**2/4.)*result*numpy.array([0.+1.j], dtype=complex)\n",
      "\n",
      "def calG_cc(hk_array, k0, N_Array):\n",
      "    func_int = (n0/2.)*(A(N_array)**3/a0)*(A(N_array)/a0 -1.)**(-1./2)*N_array*(hk_array)**3\n",
      "    result = simps(func_int, N_array)\n",
      "    return (+3.*k0**2/4.)*result*numpy.array([0.+1.j], dtype=complex)\n",
      "\n",
      "def G(hk_array, N_array, k0):\n",
      "    term1 = calG(hk_array, k0, N_array)\n",
      "    term2 = calG_cc(hk_array, k0, N_array)\n",
      "    print 'calG =', term1, 'calG* =', term2\n",
      "    print 2*(hk_array[-1].real**3)*term1.real\n",
      "    print -6*hk_array[-1].real*(hk_array[-1].imag**2)*term1.real\n",
      "    print -6*(hk_array[-1].real**2)*hk_array[-1].imag*term1.imag\n",
      "    print 2*(hk_array[-1].imag**3)*term1.imag\n",
      "    print '1st term =', (hk_array[-1]**3)*term1, '2nd term =', (numpy.conj(hk_array[-1])**3)*term2\n",
      "    result = (hk_array[-1]**3)*term1 + (numpy.conj(hk_array[-1])**3)*term2\n",
      "    return result"
     ],
     "language": "python",
     "metadata": {},
     "outputs": [],
     "prompt_number": 4
    },
    {
     "cell_type": "code",
     "collapsed": false,
     "input": [
      "a0 = 1e+05\n",
      "n0 = 1.0\n",
      "p = 1.0\n",
      "\n",
      "k_min = 1e-30\n",
      "k_max = 1e-4\n",
      "npts = 45000\n",
      "\n",
      "#Nshss = numpy.array([7])\n",
      "#for i in range(300):\n",
      "#    Nshss = opt.newton_krylov(lambda N : (k_max)**2 - 1e+04*fN(N),Nshss)\n",
      "\n",
      "Nshss = numpy.sqrt(2*numpy.log(10^4))\n",
      "print 'Nshss =', Nshss"
     ],
     "language": "python",
     "metadata": {},
     "outputs": [
      {
       "output_type": "stream",
       "stream": "stdout",
       "text": [
        "Nshss = 2.29741477736\n"
       ]
      }
     ],
     "prompt_number": 5
    },
    {
     "cell_type": "code",
     "collapsed": false,
     "input": [
      "k_list = numpy.array([10**(-30 + i) for i in range(26)])\n",
      "G_array = numpy.empty(0)\n",
      "calG_array = numpy.empty(0)\n",
      "k_vs_hk_array = numpy.empty(0)\n",
      "\n",
      "for k0 in k_list:\n",
      "    hk_file_name = str('hk_'+str(-int(numpy.log10(k0)))+'.dat')\n",
      "    hk_file = open(hk_file_name, \"w\")\n",
      "    Nics = solve_Nics(k0)\n",
      "    print 'k =', k0, 'Nics =', Nics\n",
      "    \n",
      "    temp_array = initialize(Nics, k0)\n",
      "    hk0 = temp_array[0]\n",
      "    Dhk0 = temp_array[1]\n",
      "   \n",
      "    hk_array = evolve_hk(Nics, Nshss, k0, hk0, Dhk0, npts)\n",
      "    k_vs_hk_array = numpy.append(k_vs_hk_array, hk_array[-1])\n",
      "    \n",
      "    tps_temp = 8*(k0)**3/(2*numpy.pi**2)*(numpy.absolute(hk_array[-1]))**2\n",
      "    \n",
      "    Nics = solve_Nics(k0)\n",
      "    N_array = numpy.linspace(Nics, Nshss, npts+1)\n",
      "    another_temp = G(hk_array, N_array, k0)\n",
      "    \n",
      "    G_array = numpy.append(G_array, another_temp)\n",
      "    print 'k0=', k0, 'hk(Nshss) =', numpy.absolute(hk_array[-1]), 'TPS =', str(tps_temp).strip('[]'), 'G =', another_temp\n",
      "    \n",
      "    for i in range(len(N_array)):\n",
      "        hk_file.write(str(N_array[i])+'\\t'+str(hk_array[i].real).strip('[]')+'\\t'+str(hk_array[i].imag).strip('[]')+'\\n')"
     ],
     "language": "python",
     "metadata": {},
     "outputs": [
      {
       "output_type": "stream",
       "stream": "stdout",
       "text": [
        "k = 1e-30 Nics = [-17.20805585]\n",
        "calG ="
       ]
      },
      {
       "output_type": "stream",
       "stream": "stdout",
       "text": [
        " [ -4.07896553e+73 -4.96831773e+72j] calG* = [ -4.07896553e+73 +4.96831773e+72j]\n",
        "[  1.92051473e+191]\n",
        "[ -3.52580329e+194]\n",
        "[ -1.73603236e+192]\n",
        "[  3.54124310e+194]\n",
        "1st term = [ -2.02486432e+179 -1.46800664e+195j] 2nd term = [ -2.02486432e+179 +1.46800664e+195j]\n",
        "k0= 1e-30 hk(Nshss) = 3.29351778908e+40 TPS = 4.39622865768e-10 G = [ -4.04972863e+179+0.j]\n",
        "k ="
       ]
      },
      {
       "output_type": "stream",
       "stream": "stdout",
       "text": [
        " 1e-29 Nics = [-16.93832477]\n",
        "calG ="
       ]
      },
      {
       "output_type": "stream",
       "stream": "stdout",
       "text": [
        " [ -1.29290903e+71 -1.64413031e+70j]"
       ]
      },
      {
       "output_type": "stream",
       "stream": "stdout",
       "text": [
        " calG* = [ -1.29290903e+71 +1.64413031e+70j]\n",
        "[  2.19412935e+184]\n",
        "[ -3.69848664e+187]\n",
        "[ -1.98413873e+185]\n",
        "[  3.71613389e+187]\n",
        "1st term = [ -4.50611114e+171 -1.47684480e+188j] 2nd term = [ -4.50611114e+171 +1.47684480e+188j]\n",
        "k0= 1e-29 hk(Nshss) = 1.04254425269e+39 TPS = 4.40503377704e-10 G = [ -9.01222227e+171+0.j]\n",
        "k ="
       ]
      },
      {
       "output_type": "stream",
       "stream": "stdout",
       "text": [
        " 1e-28 Nics = [-16.66422832]\n",
        "calG ="
       ]
      },
      {
       "output_type": "stream",
       "stream": "stdout",
       "text": [
        " [ -4.09691977e+68 -5.41250264e+67j] calG* = [ -4.09691977e+68 +5.41250264e+67j]\n",
        "[  2.46861270e+177]\n",
        "[ -3.85829649e+180]\n",
        "[ -2.23318945e+178]\n",
        "[  3.87815978e+180]\n",
        "1st term = [ -1.85074066e+165 -1.48477802e+181j] 2nd term = [ -1.85074066e+165 +1.48477802e+181j]\n",
        "k0= 1e-28 hk(Nshss) = 3.29975933159e+37 TPS = 4.41290702399e-10 G = [ -3.70148132e+165+0.j]\n",
        "k ="
       ]
      },
      {
       "output_type": "stream",
       "stream": "stdout",
       "text": [
        " 1e-27 Nics = [-16.38554745]\n",
        "calG ="
       ]
      },
      {
       "output_type": "stream",
       "stream": "stdout",
       "text": [
        " [ -1.29786994e+66 -1.77367072e+65j] calG* = [ -1.29786994e+66 +1.77367072e+65j]\n",
        "[  2.74039433e+170]\n",
        "[ -4.00556192e+173]\n",
        "[ -2.47993733e+171]\n",
        "[  4.02762090e+173]\n",
        "1st term = [ -3.13340471e+157 -1.49186827e+174j] 2nd term = [ -3.13340471e+157 +1.49186827e+174j]\n",
        "k0= 1e-27 hk(Nshss) = 1.04430435561e+36 TPS = 4.41992016222e-10 G = [ -6.26680943e+157+0.j]\n",
        "k ="
       ]
      },
      {
       "output_type": "stream",
       "stream": "stdout",
       "text": [
        " 1e-26 Nics = [-16.10204412]\n",
        "calG ="
       ]
      },
      {
       "output_type": "stream",
       "stream": "stdout",
       "text": [
        " [ -4.11057211e+63 -5.78887814e+62j] calG* = [ -4.11057211e+63 +5.78887814e+62j]\n",
        "[  3.00629363e+163]\n",
        "[ -4.14070497e+166]\n",
        "[ -2.72148287e+164]\n",
        "[  4.16491351e+166]\n",
        "1st term = [  4.55046048e+151 -1.49818591e+167j] 2nd term = [  4.55046048e+151 +1.49818591e+167j]\n",
        "k0= 1e-26 hk(Nshss) = 3.30470716912e+34 TPS = 4.42615084852e-10 G = [  9.10092096e+151+0.j]\n",
        "k ="
       ]
      },
      {
       "output_type": "stream",
       "stream": "stdout",
       "text": [
        " 1e-25 Nics = [-15.81345896]\n",
        "calG ="
       ]
      },
      {
       "output_type": "stream",
       "stream": "stdout",
       "text": [
        " [ -1.30160744e+61 -1.88259626e+60j] calG* = [ -1.30160744e+61 +1.88259626e+60j]\n",
        "[  3.26350162e+156]\n",
        "[ -4.26414345e+159]\n",
        "[ -2.95525944e+157]\n",
        "[  4.29043254e+159]\n",
        "1st term = [ -4.48255959e+144 -1.50377789e+160j] 2nd term = [ -4.48255959e+144 +1.50377789e+160j]\n",
        "k0= 1e-25 hk(Nshss) = 1.0456892191e+33 TPS = 4.43165054449e-10 G = [ -8.96511919e+144+0.j]\n",
        "k ="
       ]
      },
      {
       "output_type": "stream",
       "stream": "stdout",
       "text": [
        " 1e-24 Nics = [-15.5195085]\n",
        "calG ="
       ]
      },
      {
       "output_type": "stream",
       "stream": "stdout",
       "text": [
        " [ -4.12076639e+58 -6.10285573e+57j] calG* = [ -4.12076639e+58 +6.10285573e+57j]\n",
        "[  3.50972498e+149]\n",
        "[ -4.37644687e+152]\n",
        "[ -3.17916530e+150]\n",
        "[  4.40472880e+152]\n",
        "1st term = [  5.45651459e+137 -1.50872753e+153j] 2nd term = [  5.45651459e+137 +1.50872753e+153j]\n",
        "k0= 1e-24 hk(Nshss) = 3.30857125877e+31 TPS = 4.43650761651e-10 G = [  1.09130292e+138+0.j]\n",
        "k ="
       ]
      },
      {
       "output_type": "stream",
       "stream": "stdout",
       "text": [
        " 1e-23 Nics = [-15.21988185]\n",
        "calG ="
       ]
      },
      {
       "output_type": "stream",
       "stream": "stdout",
       "text": [
        " [ -1.30436004e+56 -1.97269446e+55j] calG* = [ -1.30436004e+56 +1.97269446e+55j]\n",
        "[  3.74292397e+142]\n",
        "[ -4.47798436e+145]\n",
        "[ -3.39132768e+143]\n",
        "[  4.50815471e+145]\n",
        "1st term = [  1.30050122e+130 -1.51303450e+146j] 2nd term = [  1.30050122e+130 +1.51303450e+146j]\n",
        "k0= 1e-23 hk(Nshss) = 1.04675928803e+30 TPS = 4.44072512961e-10 G = [  2.60100245e+130+0.j]\n",
        "k ="
       ]
      },
      {
       "output_type": "stream",
       "stream": "stdout",
       "text": [
        " 1e-22 Nics = [-14.91423693]\n",
        "calG ="
       ]
      },
      {
       "output_type": "stream",
       "stream": "stdout",
       "text": [
        " [ -4.12814547e+53 -6.36022787e+52j] calG* = [ -4.12814547e+53 +6.36022787e+52j]\n",
        "[  3.96175202e+135]\n",
        "[ -4.56947703e+138]\n",
        "[ -3.59050225e+136]\n",
        "[  4.60142030e+138]\n",
        "1st term = [ -2.03352178e+121 -1.51680846e+139j] 2nd term = [ -2.03352178e+121 +1.51680846e+139j]\n",
        "k0= 1e-22 hk(Nshss) = 3.31151820331e+28 TPS = 4.44441433118e-10 G = [ -4.06704356e+121+0.j]\n",
        "k ="
       ]
      },
      {
       "output_type": "stream",
       "stream": "stdout",
       "text": [
        " 1e-21 Nics = [-14.60219583]\n",
        "calG ="
       ]
      },
      {
       "output_type": "stream",
       "stream": "stdout",
       "text": [
        " [ -1.30661335e+51 -2.04631624e+50j] calG* = [ -1.30661335e+51 +2.04631624e+50j]\n",
        "[  4.16686020e+128]\n",
        "[ -4.65341248e+131]\n",
        "[ -3.77725694e+129]\n",
        "[  4.68701819e+131]\n",
        "1st term = [ -3.07250996e+115 -1.52072403e+132j] 2nd term = [ -3.07250996e+115 +1.52072403e+132j]\n",
        "k0= 1e-21 hk(Nshss) = 1.0476442738e+27 TPS = 4.44823715243e-10 G = [ -6.14501991e+115+0.j]\n",
        "k ="
       ]
      },
      {
       "output_type": "stream",
       "stream": "stdout",
       "text": [
        " 1e-20 Nics = [-14.28333933]\n",
        "calG ="
       ]
      },
      {
       "output_type": "stream",
       "stream": "stdout",
       "text": [
        " [ -4.13337527e+48 -6.56725478e+47j] calG* = [ -4.13337527e+48 +6.56725478e+47j]\n",
        "[  4.35225465e+121]\n",
        "[ -4.72444664e+124]\n",
        "[ -3.94613809e+122]\n",
        "[  4.75955577e+124]\n",
        "1st term = [  1.37197087e+109 -1.52289126e+125j] 2nd term = [  1.37197087e+109 +1.52289126e+125j]\n",
        "k0= 1e-20 hk(Nshss) = 3.31372766096e+25 TPS = 4.45034697025e-10 G = [  2.74394174e+109+0.j]\n",
        "k ="
       ]
      },
      {
       "output_type": "stream",
       "stream": "stdout",
       "text": [
        " 1e-19 Nics = [-13.95720037]\n",
        "calG ="
       ]
      },
      {
       "output_type": "stream",
       "stream": "stdout",
       "text": [
        " [ -1.30771058e+46 -2.10412929e+45j] calG* = [ -1.30771058e+46 +2.10412929e+45j]\n",
        "[  4.52293785e+114]\n",
        "[ -4.78912829e+117]\n",
        "[ -4.10166282e+115]\n",
        "[  4.82562198e+117]\n",
        "1st term = [  8.35256371e+101 -1.52530212e+118j] 2nd term = [  8.35256371e+101 +1.52530212e+118j]\n",
        "k0= 1e-19 hk(Nshss) = 1.04816903057e+24 TPS = 4.45269444247e-10 G = [  1.67051274e+102+0.j]\n",
        "k ="
       ]
      },
      {
       "output_type": "stream",
       "stream": "stdout",
       "text": [
        " 1e-18 Nics = [-13.62325592]\n",
        "calG ="
       ]
      },
      {
       "output_type": "stream",
       "stream": "stdout",
       "text": [
        " [ -4.13695413e+43 -6.73017655e+42j] calG* = [ -4.13695413e+43 +6.73017655e+42j]\n",
        "[  4.67710722e+107]\n",
        "[ -4.84605786e+110]\n",
        "[ -4.24218242e+108]\n",
        "[  4.88380258e+110]\n",
        "1st term = [ -8.37629193e+93 -1.52734850e+111j] 2nd term = [ -8.37629193e+93 +1.52734850e+111j]\n",
        "k0= 1e-18 hk(Nshss) = 3.31534226843e+22 TPS = 4.45468487292e-10 G = [ -1.67525839e+94+0.j]\n",
        "k ="
       ]
      },
      {
       "output_type": "stream",
       "stream": "stdout",
       "text": [
        " 1e-17 Nics = [-13.28091719]\n",
        "calG ="
       ]
      },
      {
       "output_type": "stream",
       "stream": "stdout",
       "text": [
        " [ -1.30863321e+41 -2.14941252e+40j] calG* = [ -1.30863321e+41 +2.14941252e+40j]\n",
        "[  4.81503242e+100]\n",
        "[ -4.89583905e+103]\n",
        "[ -4.36792970e+101]\n",
        "[  4.93470331e+103]\n",
        "1st term = [  3.81151637e+87 -1.52907554e+104j] 2nd term = [  3.81151637e+87 +1.52907554e+104j]\n",
        "k0= 1e-17 hk(Nshss) = 1.04860076837e+21 TPS = 4.45636330188e-10 G = [  7.62303273e+87+0.j]\n",
        "k ="
       ]
      },
      {
       "output_type": "stream",
       "stream": "stdout",
       "text": [
        " 1e-16 Nics = [-12.92951743]\n",
        "calG ="
       ]
      },
      {
       "output_type": "stream",
       "stream": "stdout",
       "text": [
        " [ -4.13942473e+38 -6.85537232e+37j] calG* = [ -4.13942473e+38 +6.85537232e+37j]\n",
        "[  4.93747409e+93]\n",
        "[ -4.93932405e+96]\n",
        "[ -4.47958579e+94]\n",
        "[  4.97918243e+96]\n",
        "1st term = [  2.27160921e+81 -1.53060523e+97j] 2nd term = [  2.27160921e+81 +1.53060523e+97j]\n",
        "k0= 1e-16 hk(Nshss) = 3.31651950089e+19 TPS = 4.45784902932e-10 G = [  4.54321841e+81+0.j]\n",
        "k ="
       ]
      },
      {
       "output_type": "stream",
       "stream": "stdout",
       "text": [
        " 1e-15 Nics = [-12.56829665]\n",
        "calG ="
       ]
      },
      {
       "output_type": "stream",
       "stream": "stdout",
       "text": [
        " [ -1.29124435e+36 -2.15366810e+35j] calG* = [ -1.29124435e+36 +2.15366810e+35j]\n",
        "[  4.90622962e+86]\n",
        "[ -4.84005818e+89]\n",
        "[ -4.45174415e+87]\n",
        "[  4.87966939e+89]\n",
        "1st term = [  8.60095630e+73 -1.48979464e+90j] 2nd term = [  8.60095630e+73 +1.48979464e+90j]\n",
        "k0= 1e-15 hk(Nshss) = 1.04404661175e+18 TPS = 4.41773867812e-10 G = [  1.72019126e+74+0.j]\n",
        "k ="
       ]
      },
      {
       "output_type": "stream",
       "stream": "stdout",
       "text": [
        " 1e-14 Nics = [-12.19638226]\n",
        "calG ="
       ]
      },
      {
       "output_type": "stream",
       "stream": "stdout",
       "text": [
        " [ -4.14074295e+33 -6.94817055e+32j] calG* = [ -4.14074295e+33 +6.94817055e+32j]\n",
        "[  5.13703579e+79]\n",
        "[ -5.00791125e+82]\n",
        "[ -4.66162606e+80]\n",
        "[  5.04939047e+82]\n",
        "1st term = [ -3.39187854e+67 -1.53266800e+83j] 2nd term = [ -3.39187854e+67 +1.53266800e+83j]\n",
        "k0= 1e-14 hk(Nshss) = 3.31726405353e+16 TPS = 4.45985081211e-10 G = [ -6.78375709e+67+0.j]\n",
        "k ="
       ]
      },
      {
       "output_type": "stream",
       "stream": "stdout",
       "text": [
        " 1e-13 Nics = [-11.81276428]\n",
        "calG ="
       ]
      },
      {
       "output_type": "stream",
       "stream": "stdout",
       "text": [
        " [ -1.30957915e+31 -2.20870128e+30j] calG* = [ -1.30957915e+31 +2.20870128e+30j]\n",
        "[  5.21663655e+72]\n",
        "[ -5.03478711e+75]\n",
        "[ -4.73425560e+73]\n",
        "[  5.07691303e+75]\n",
        "1st term = [  4.49793571e+59 -1.53347560e+76j] 2nd term = [  4.49793571e+59 +1.53347560e+76j]\n",
        "k0= 1e-13 hk(Nshss) = 1.04910310561e+15 TPS = 4.4606340091e-10 G = [  8.99587142e+59+0.j]\n",
        "k ="
       ]
      },
      {
       "output_type": "stream",
       "stream": "stdout",
       "text": [
        " 1e-12 Nics = [-11.41626294]\n",
        "calG ="
       ]
      },
      {
       "output_type": "stream",
       "stream": "stdout",
       "text": [
        " [ -4.14161930e+28 -7.01495289e+27j] calG* = [ -4.14161930e+28 +7.01495289e+27j]\n",
        "[  5.28394221e+65]\n",
        "[ -5.05721100e+68]\n",
        "[ -4.79567536e+66]\n",
        "[  5.09988381e+68]\n",
        "1st term = [ -1.84359663e+53 -1.53410970e+69j] 2nd term = [ -1.84359663e+53 +1.53410970e+69j]\n",
        "k0= 1e-12 hk(Nshss) = 3.31778387984e+13 TPS = 4.46124866854e-10 G = [ -3.68719325e+53+0.j]\n",
        "k ="
       ]
      },
      {
       "output_type": "stream",
       "stream": "stdout",
       "text": [
        " 1e-11 Nics = [-11.00548587]\n",
        "calG ="
       ]
      },
      {
       "output_type": "stream",
       "stream": "stdout",
       "text": [
        " [ -1.31120491e+26 -2.22870616e+25j] calG* = [ -1.31120491e+26 +2.22870616e+25j]\n",
        "[  5.35176516e+58]\n",
        "[ -5.08681173e+61]\n",
        "[ -4.85751591e+59]\n",
        "[  5.13003512e+61]\n",
        "1st term = [  2.18840000e+46 -1.53796229e+62j] 2nd term = [  2.18840000e+46 +1.53796229e+62j]\n",
        "k0= 1e-11 hk(Nshss) = 1.04961526103e+12 TPS = 4.46499029312e-10 G = [  4.37680000e+46+0.j]\n",
        "k ="
       ]
      },
      {
       "output_type": "stream",
       "stream": "stdout",
       "text": [
        " 1e-10 Nics = [-10.57877019]\n",
        "calG ="
       ]
      },
      {
       "output_type": "stream",
       "stream": "stdout",
       "text": [
        " [ -4.14207543e+23 -7.06066058e+22j] calG* = [ -4.14207543e+23 +7.06066058e+22j]\n",
        "[  5.38622945e+51]\n",
        "[ -5.09078871e+54]\n",
        "[ -4.88903245e+52]\n",
        "[  5.13429281e+54]\n",
        "1st term = [  4.86829753e+37 -1.53499705e+55j] 2nd term = [  4.86829753e+37 +1.53499705e+55j]\n",
        "k0= 1e-10 hk(Nshss) = 33181034609.5 TPS = 4.46210815759e-10 G = [  9.73659507e+37+0.j]\n",
        "k ="
       ]
      },
      {
       "output_type": "stream",
       "stream": "stdout",
       "text": [
        " 1e-09 Nics = [-10.13410275]\n",
        "calG ="
       ]
      },
      {
       "output_type": "stream",
       "stream": "stdout",
       "text": [
        " [ -1.30987629e+21 -2.23798177e+20j] calG* = [ -1.30987629e+21 +2.23798177e+20j]\n",
        "[  5.42343799e+44]\n",
        "[ -5.10282549e+47]\n",
        "[ -4.92299722e+45]\n",
        "[  5.14663202e+47]\n",
        "1st term = [ -5.13794634e+31 -1.53528395e+48j] 2nd term = [ -5.13794634e+31 +1.53528395e+48j]\n",
        "k0= 1e-09 hk(Nshss) = 1049309157.2 TPS = 4.46238638406e-10 G = [ -1.02758927e+32+0.j]\n",
        "k ="
       ]
      },
      {
       "output_type": "stream",
       "stream": "stdout",
       "text": [
        " 1e-08 Nics = [-9.66900709]\n",
        "calG ="
       ]
      },
      {
       "output_type": "stream",
       "stream": "stdout",
       "text": [
        " [ -4.14157025e+18 -7.08888568e+17j] calG* = [ -4.14157025e+18 +7.08888568e+17j]\n",
        "[  5.45103202e+37]\n",
        "[ -5.11055482e+40]\n",
        "[ -4.94819676e+38]\n",
        "[  5.15458576e+40]\n",
        "1st term = [ -2.03533995e+24 -1.53497895e+41j] 2nd term = [ -2.03533995e+24 +1.53497895e+41j]\n",
        "k0= 1e-08 hk(Nshss) = 33180964.0518 TPS = 4.46208918073e-10 G = [ -4.07067991e+24+0.j]\n",
        "k ="
       ]
      },
      {
       "output_type": "stream",
       "stream": "stdout",
       "text": [
        " 1e-07 Nics = [-9.18037895]\n",
        "calG ="
       ]
      },
      {
       "output_type": "stream",
       "stream": "stdout",
       "text": [
        " [ -1.30991679e+16 -2.24523877e+15j] calG* = [ -1.30991679e+16 +2.24523877e+15j]\n",
        "[  5.47564000e+30]\n",
        "[ -5.11956444e+33]\n",
        "[ -4.97065250e+31]\n",
        "[  5.16379533e+33]\n",
        "1st term = [ -1.81480991e+18 -1.53565892e+34j] 2nd term = [ -1.81480991e+18 +1.53565892e+34j]\n",
        "k0= 1e-07 hk(Nshss) = 1049351.85092 TPS = 4.46274951776e-10 G = [ -3.62961982e+18+0.j]\n",
        "k ="
       ]
      },
      {
       "output_type": "stream",
       "stream": "stdout",
       "text": [
        " 1e-06 Nics = [-8.66423784]\n",
        "calG ="
       ]
      },
      {
       "output_type": "stream",
       "stream": "stdout",
       "text": [
        " [ -4.14233683e+13 -7.10752516e+12j] calG* = [ -4.14233683e+13 +7.10752516e+12j]\n",
        "[  5.49270549e+23]\n",
        "[ -5.12497273e+26]\n",
        "[ -4.98623290e+24]\n",
        "[  5.16934236e+26]\n",
        "1st term = [ -1.04572387e+11 -1.53576277e+27j] 2nd term = [ -1.04572387e+11 +1.53576277e+27j]\n",
        "k0= 1e-06 hk(Nshss) = 33183.7932878 TPS = 4.46285014968e-10 G = [ -2.09144775e+11+0.j]\n",
        "k ="
       ]
      },
      {
       "output_type": "stream",
       "stream": "stdout",
       "text": [
        " 1e-05 Nics = [-8.11533591]\n",
        "calG ="
       ]
      },
      {
       "output_type": "stream",
       "stream": "stdout",
       "text": [
        " [ -1.30991394e+11 -2.24928756e+10j] calG* = [ -1.30991394e+11 +2.24928756e+10j]\n",
        "[  5.50501102e+16]\n",
        "[ -5.12880541e+19]\n",
        "[ -4.99746835e+17]\n",
        "[  5.17327509e+19]\n",
        "1st term = [ 25028. -1.53581083e+20j] 2nd term = [ 25028. +1.53581083e+20j]\n",
        "k0= 1e-05 hk(Nshss) = 1049.36917023 TPS = 4.46289683223e-10 G = [ 50056.+0.j]\n"
       ]
      },
      {
       "output_type": "stream",
       "stream": "stderr",
       "text": [
        "/usr/local/lib/python2.7/dist-packages/scipy/optimize/nonlin.py:474: RuntimeWarning: invalid value encountered in double_scalars\n",
        "  and dx_norm/self.x_rtol <= x_norm))\n"
       ]
      }
     ],
     "prompt_number": 6
    },
    {
     "cell_type": "code",
     "collapsed": false,
     "input": [
      "TPS = [8*(k_list[i])**3/(2*numpy.pi**2)*(numpy.absolute(k_vs_hk_array[i]))**2 for i in range(len(k_list))]"
     ],
     "language": "python",
     "metadata": {},
     "outputs": [],
     "prompt_number": 7
    },
    {
     "cell_type": "code",
     "collapsed": false,
     "input": [
      "h_NL = (-1./6)*((4./(2.*numpy.pi**2))**2)*(k_list**6)*G_array/TPS"
     ],
     "language": "python",
     "metadata": {},
     "outputs": [],
     "prompt_number": 8
    },
    {
     "cell_type": "code",
     "collapsed": false,
     "input": [
      "plt.cla()\n",
      "plt.xlabel(r'$k$')\n",
      "plt.ylabel(r'${\\mathcal{P}}_{\\rm T}(k)$')\n",
      "plt.title(r'${\\mathcal{P}}_{\\rm T}$ as a function of $k$')\n",
      "numerics, = plt.loglog(k_list, TPS)\n",
      "plt.legend([numerics],['numerical results'], loc = 'lower left')\n",
      "plt.savefig('power_spectrum_bouncing_model.png')"
     ],
     "language": "python",
     "metadata": {},
     "outputs": [
      {
       "metadata": {},
       "output_type": "display_data",
       "png": "[encoded data removed]",
       "text": [
        "<matplotlib.figure.Figure at 0xaf16670c>"
       ]
      }
     ],
     "prompt_number": 9
    },
    {
     "cell_type": "code",
     "collapsed": false,
     "input": [
      "plt.cla()\n",
      "plt.xlabel(r'$k$')\n",
      "plt.ylabel(r'${\\rm G}_{\\rm \\gamma\\gamma\\gamma}(k)$')\n",
      "plt.title(r'${\\rm G}_{\\rm \\gamma\\gamma\\gamma}$ as a function of $k$')\n",
      "numerics, = plt.loglog(k_list, numpy.absolute(G_array))\n",
      "plt.legend([numerics],['numerical results'])\n",
      "plt.savefig('G_bouncing_model.png')"
     ],
     "language": "python",
     "metadata": {},
     "outputs": [
      {
       "metadata": {},
       "output_type": "display_data",
       "png": "[encoded data removed]",
       "text": [
        "<matplotlib.figure.Figure at 0xaed4a58c>"
       ]
      }
     ],
     "prompt_number": 10
    },
    {
     "cell_type": "code",
     "collapsed": false,
     "input": [
      "plt.cla()\n",
      "plt.xlabel(r'$k$')\n",
      "plt.ylabel(r'${\\rm G}_{\\rm \\gamma\\gamma\\gamma}(k)$')\n",
      "plt.title(r'${\\rm G}_{\\rm \\gamma\\gamma\\gamma}$ as a function of $k$')\n",
      "numerics, = plt.loglog(k_list, numpy.asarray(k_list)**7*numpy.absolute(G_array))\n",
      "plt.legend([numerics],['numerical results'])\n",
      "plt.savefig('G_bouncing_model.png')"
     ],
     "language": "python",
     "metadata": {},
     "outputs": [
      {
       "metadata": {},
       "output_type": "display_data",
       "png": "[encoded data removed]",
       "text": [
        "<matplotlib.figure.Figure at 0xaf13398c>"
       ]
      }
     ],
     "prompt_number": 11
    },
    {
     "cell_type": "code",
     "collapsed": false,
     "input": [
      "plt.cla()\n",
      "plt.xlabel(r'$k$')\n",
      "plt.ylabel(r'${h}_{\\rm NL}(k)$')\n",
      "plt.title(r'${h}_{\\rm NL}$ as a function of $k$')\n",
      "numerics, = plt.loglog(k_list, numpy.absolute(h_NL))\n",
      "plt.legend([numerics],['numerical results'], loc = 'upper right')\n",
      "plt.savefig('h_NL_bouncing_model.png')"
     ],
     "language": "python",
     "metadata": {},
     "outputs": [
      {
       "metadata": {},
       "output_type": "display_data",
       "png": "[encoded data removed]",
       "text": [
        "<matplotlib.figure.Figure at 0xaecd58ec>"
       ]
      }
     ],
     "prompt_number": 12
    },
    {
     "cell_type": "code",
     "collapsed": false,
     "input": [
      "plt.cla()\n",
      "plt.xlabel(r'$k$')\n",
      "plt.ylabel(r'${h}_{\\rm NL}(k)$')\n",
      "plt.title(r'${h}_{\\rm NL}$ as a function of $k$')\n",
      "numerics, = plt.loglog(k_list, numpy.asarray(k_list)*numpy.absolute(h_NL))\n",
      "plt.legend([numerics],['numerical results'], loc = 'upper right')\n",
      "plt.savefig('h_NL_bouncing_model.png')"
     ],
     "language": "python",
     "metadata": {},
     "outputs": [
      {
       "metadata": {},
       "output_type": "display_data",
       "png": "[encoded data removed]",
       "text": [
        "<matplotlib.figure.Figure at 0xaf034aec>"
       ]
      }
     ],
     "prompt_number": 13
    },
    {
     "cell_type": "code",
     "collapsed": false,
     "input": [
      "tps_file = open('power_spectrum_bouncing_model.dat','w')\n",
      "G_file = open('G_bouncing_model.dat','w')\n",
      "h_NL_file = open('h_NL_bouncing_model.dat','w')\n",
      "\n",
      "for i in range(len(k_list)):\n",
      "    tps_file.write(str(k_list[i])+'\\t'+str(TPS[i])+'\\n')\n",
      "    G_file.write(str(k_list[i])+'\\t'+str(G_array[i].real)+'\\n')\n",
      "    h_NL_file.write(str(h_NL[i])+'\\t'+str(h_NL[i].real)+'\\n')"
     ],
     "language": "python",
     "metadata": {},
     "outputs": [],
     "prompt_number": 15
    },
    {
     "cell_type": "code",
     "collapsed": false,
     "input": [],
     "language": "python",
     "metadata": {},
     "outputs": []
    }
   ],
   "metadata": {}
  }
 ]
}