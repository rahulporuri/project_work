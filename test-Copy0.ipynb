{
 "metadata": {
  "name": "",
  "signature": "sha256:9a95e5748d9df8617aee65a92253e62d59adcc0f39dc4a5e9e4cdf2aacafbc25"
 },
 "nbformat": 3,
 "nbformat_minor": 0,
 "worksheets": [
  {
   "cells": [
    {
     "cell_type": "markdown",
     "metadata": {},
     "source": [
      "$$a(\\mathcal{N}) = a_0*e^{\\frac{\\mathcal{N}^2}{2}}$$\n",
      "\n",
      "$$a(\\eta) = a_0*(1+(\\frac{\\eta}{\\eta_0})^2)^p$$\n",
      "\n",
      "$$\\eta^+(\\mathcal{N}) = \\eta_0\\left[\\left(\\frac{a(\\mathcal{N})}{a_0}\\right)^{\\frac{1}{p}}-1\\right]^{\\frac{1}{2}}$$\n",
      "$$\\eta^-(\\mathcal{N}) = -\\eta_0\\left[\\left(\\frac{a(\\mathcal{N})}{a_0}\\right)^{\\frac{1}{p}}-1\\right]^{\\frac{1}{2}}$$\n",
      "\n",
      "<!--i could also use \\big(, \\Big(, \\bigg(, \\Bigg(-->\n",
      "\n",
      "$$\\eta(\\mathcal{N}) = \\theta(\\mathcal{N})*\\eta^+(\\mathcal{N}) + \\theta(\\mathcal{-N})*\\eta^-(\\mathcal{N})$$\n",
      "\n",
      "$$a(\\mathcal{N}) = a(\\eta(\\mathcal{N}))$$\n",
      "\n",
      "$$\\mathcal{H}(\\eta) = \\frac{a^{'}(\\eta)}{a(\\eta)^2}$$"
     ]
    },
    {
     "cell_type": "markdown",
     "metadata": {},
     "source": [
      "function prefix of 'd_' for differentiation with respect to $\\eta$ and 'D_' for differentiation with respect to $\\mathcal{N}$. Lower case function names for functions in terms of $\\eta$ and higher case function names for functions in terms of $\\mathcal{N}$"
     ]
    },
    {
     "cell_type": "markdown",
     "metadata": {},
     "source": [
      "$$\\frac{d^2h_k}{d\\mathcal{N}^2} + \\left(3\\mathcal{N} - \\frac{1}{\\mathcal{N}} + \\frac{1}{\\mathcal{H}}\\frac{d\\mathcal{H}}{d\\mathcal{N}}\\right)\\frac{dh_k}{d\\mathcal{N}} + \\left(\\frac{k_s\\mathcal{N}}{a\\mathcal{H}}\\right)^2 h_k = 0$$\n",
      "\n",
      "where $h = h(\\mathcal{N})$, $a = a(\\eta(\\mathcal{N}))$ and $\\mathcal{H} = \\mathcal{H}(\\eta(\\mathcal{N}))$"
     ]
    },
    {
     "cell_type": "markdown",
     "metadata": {},
     "source": [
      "testing\n",
      "====="
     ]
    },
    {
     "cell_type": "code",
     "collapsed": false,
     "input": [
      "import numpy as numpy\n",
      "import matplotlib.pyplot as plt\n",
      "%matplotlib inline\n",
      "import sympy as sym\n",
      "x = sym.symbols('x')\n",
      "# references -\n",
      "# http://docs.scipy.org/doc/scipy-0.14.0/reference/optimize.html\n",
      "#import scipy\n",
      "import scipy.optimize as opt"
     ],
     "language": "python",
     "metadata": {},
     "outputs": [],
     "prompt_number": 1
    },
    {
     "cell_type": "code",
     "collapsed": false,
     "input": [
      "a0 = 1e-05\n",
      "n0 = numpy.exp(25)\n",
      "k0 = numpy.exp(-25)\n",
      "p = 1"
     ],
     "language": "python",
     "metadata": {},
     "outputs": [],
     "prompt_number": 34
    },
    {
     "cell_type": "code",
     "collapsed": false,
     "input": [
      "#sym.diff(np(x),x)\n",
      "#sym.diff(np(x),x)\n",
      "from sympy.functions import exp"
     ],
     "language": "python",
     "metadata": {},
     "outputs": [],
     "prompt_number": 3
    },
    {
     "cell_type": "code",
     "collapsed": false,
     "input": [
      "A = lambda N : a0*exp(x**2/2).subs(x,N).evalf()\n",
      "an = lambda n : a0*((1+(n/n0)**2)**p)\n",
      "nm = lambda N : -n0*((A(N)/a0)**(1./p)-1)**(1./2)\n",
      "n = lambda N : nm(N)\n",
      "#aN = lambda N : an(n(N))\n",
      "h = lambda n : (sym.diff(an(x),x).subs(x,n).evalf())/(an(n)**2)\n",
      "H = lambda N : h(n(N))"
     ],
     "language": "python",
     "metadata": {},
     "outputs": [],
     "prompt_number": 35
    },
    {
     "cell_type": "code",
     "collapsed": false,
     "input": [
      "DH = lambda N : sym.diff(H(x),x).subs(x,N).evalf()"
     ],
     "language": "python",
     "metadata": {},
     "outputs": [],
     "prompt_number": 37
    },
    {
     "cell_type": "code",
     "collapsed": false,
     "input": [
      "fn = lambda n : sym.diff(sym.diff(an(x),x),x).subs(x,n).evalf()/an(n)\n",
      "fN = lambda N : fn(n(N))"
     ],
     "language": "python",
     "metadata": {},
     "outputs": [],
     "prompt_number": 38
    },
    {
     "cell_type": "code",
     "collapsed": false,
     "input": [
      "aN = lambda N : an(n(N))"
     ],
     "language": "python",
     "metadata": {},
     "outputs": [],
     "prompt_number": 40
    },
    {
     "cell_type": "code",
     "collapsed": false,
     "input": [
      "N = numpy.linspace(-5,0,51)"
     ],
     "language": "python",
     "metadata": {},
     "outputs": [],
     "prompt_number": 36
    },
    {
     "cell_type": "markdown",
     "metadata": {},
     "source": [
      "the behavior of a($\\eta$) for various $\\eta$\n",
      "==="
     ]
    },
    {
     "cell_type": "code",
     "collapsed": true,
     "input": [
      "plt.plot(numpy.arange(-1e06, 1e06,100),an(numpy.arange(-1e06, 1e06,100)))"
     ],
     "language": "python",
     "metadata": {},
     "outputs": [
      {
       "metadata": {},
       "output_type": "pyout",
       "prompt_number": 6,
       "text": [
        "[<matplotlib.lines.Line2D at 0xae8f1a8c>]"
       ]
      },
      {
       "metadata": {},
       "output_type": "display_data",
       "png": "[encoded data removed]",
       "text": [
        "<matplotlib.figure.Figure at 0xaea069ec>"
       ]
      }
     ],
     "prompt_number": 6
    },
    {
     "cell_type": "markdown",
     "metadata": {},
     "source": [
      "the behavior of $\\mathcal{H}(\\mathcal{N})$ for various $\\mathcal{N}$\n",
      "==="
     ]
    },
    {
     "cell_type": "code",
     "collapsed": false,
     "input": [
      "plt.plot(N,[H(i) for i in N])"
     ],
     "language": "python",
     "metadata": {},
     "outputs": [
      {
       "metadata": {},
       "output_type": "pyout",
       "prompt_number": 7,
       "text": [
        "[<matplotlib.lines.Line2D at 0xae69d9ac>]"
       ]
      },
      {
       "metadata": {},
       "output_type": "display_data",
       "png": "[encoded data removed]",
       "text": [
        "<matplotlib.figure.Figure at 0xae940e4c>"
       ]
      }
     ],
     "prompt_number": 7
    },
    {
     "cell_type": "markdown",
     "metadata": {},
     "source": [
      "the behavior of $\\mathcal{H}^{'}(\\mathcal{N})$ for various $\\mathcal{N}$\n",
      "==="
     ]
    },
    {
     "cell_type": "code",
     "collapsed": false,
     "input": [
      "plt.plot(N,[DH(i) for i in N])"
     ],
     "language": "python",
     "metadata": {},
     "outputs": [
      {
       "metadata": {},
       "output_type": "pyout",
       "prompt_number": 9,
       "text": [
        "[<matplotlib.lines.Line2D at 0xae5daa2c>]"
       ]
      },
      {
       "metadata": {},
       "output_type": "display_data",
       "png": "[encoded data removed]",
       "text": [
        "<matplotlib.figure.Figure at 0xae8cea6c>"
       ]
      }
     ],
     "prompt_number": 9
    },
    {
     "cell_type": "markdown",
     "metadata": {},
     "source": [
      "the behavior of $\\frac{a^{''}(\\mathcal{N})}{a(\\mathcal{N})}$ for various $\\mathcal{N}$\n",
      "==="
     ]
    },
    {
     "cell_type": "code",
     "collapsed": false,
     "input": [
      "plt.plot(N,[fN(i) for i in N])"
     ],
     "language": "python",
     "metadata": {},
     "outputs": [
      {
       "metadata": {},
       "output_type": "pyout",
       "prompt_number": 11,
       "text": [
        "[<matplotlib.lines.Line2D at 0xae5b440c>]"
       ]
      },
      {
       "metadata": {},
       "output_type": "display_data",
       "png": "[encoded data removed]",
       "text": [
        "<matplotlib.figure.Figure at 0xae667fac>"
       ]
      }
     ],
     "prompt_number": 11
    },
    {
     "cell_type": "markdown",
     "metadata": {},
     "source": [
      "finding the roots and initial conditions to solve the diff. eqn\n",
      "===\n",
      "\n",
      "$$h(Nics) = \\frac{1}{(2k_s)^\\frac{1}{2}*a(Nics)}$$\n",
      "$$h^{'}(Nics) = -\\frac{I*Nics*(2ks)^\\frac{1}{2}}{2*a(Nics)*a(Nics)*H(Nics)} - \\frac{a^{'}(Nics)}{a^2(Nics)*(2ks)^\\frac{1}{2}}$$\n",
      "\n",
      "results from mathematica -\n",
      "\n",
      "h0 = 948715.57472053941534264\n",
      "dh0 = 4.2222613144777582640577*1e+06"
     ]
    },
    {
     "cell_type": "code",
     "collapsed": false,
     "input": [
      "temp = numpy.array([-4])\n",
      "for i in range(10):\n",
      "    temp = opt.newton_krylov(lambda N : (1./n0)**2 - 1e+04*fN(N),temp)\n",
      "print temp"
     ],
     "language": "python",
     "metadata": {},
     "outputs": [
      {
       "output_type": "stream",
       "stream": "stdout",
       "text": [
        "[-4.45050279]\n"
       ]
      }
     ],
     "prompt_number": 39
    },
    {
     "cell_type": "code",
     "collapsed": false,
     "input": [
      "def DDhk(N,dh0,h0):\n",
      "    return -(3*N -1./N +(DH(N)/H(N)))*Dhk0 -(((k0*N)/(aN(N)*H(N)))**2)*hk0\n",
      "\n",
      "def euler_step():\n",
      "    F = Dhk0\n",
      "    f = DDhk(N,Dhk0,hk0)\n",
      "    return [f*step, F*step] #[dh, h] update\n",
      "\n",
      "npts = 1000\n",
      "Nics = -4.450498032115866\n",
      "Nshss = 0\n",
      "\n",
      "hk0 = 948735.674045\n",
      "Dhk0 = 4.2222613144777582640577*1e+06\n",
      "\n",
      "step = (Nshss-Nics)/(npts-1)\n",
      "\n",
      "hk = []\n",
      "hk.append(hk0)\n",
      "\n",
      "N = Nics\n",
      "while N < Nshss:\n",
      "    array = euler_step()\n",
      "    hk0 += array[1]\n",
      "    Dhk0 += array[0]\n",
      "    hk.append(hk0)\n",
      "    N += step"
     ],
     "language": "python",
     "metadata": {},
     "outputs": [],
     "prompt_number": 50
    },
    {
     "cell_type": "code",
     "collapsed": false,
     "input": [
      "plt.plot(hk)"
     ],
     "language": "python",
     "metadata": {},
     "outputs": [
      {
       "metadata": {},
       "output_type": "pyout",
       "prompt_number": 51,
       "text": [
        "[<matplotlib.lines.Line2D at 0xae06b42c>]"
       ]
      },
      {
       "metadata": {},
       "output_type": "display_data",
       "png": "[encoded data removed]",
       "text": [
        "<matplotlib.figure.Figure at 0xae11538c>"
       ]
      }
     ],
     "prompt_number": 51
    },
    {
     "cell_type": "code",
     "collapsed": false,
     "input": [
      "print hk0, Dhk0"
     ],
     "language": "python",
     "metadata": {},
     "outputs": [
      {
       "output_type": "stream",
       "stream": "stdout",
       "text": [
        "-4.91227263342018e+24 nan\n"
       ]
      }
     ],
     "prompt_number": 52
    },
    {
     "cell_type": "code",
     "collapsed": false,
     "input": [
      "N = numpy.linspace(0,5,51)"
     ],
     "language": "python",
     "metadata": {},
     "outputs": [],
     "prompt_number": 17
    },
    {
     "cell_type": "code",
     "collapsed": false,
     "input": [
      "A = lambda N : a0*exp(x**2/2).subs(x,N).evalf()\n",
      "an = lambda n : a0*((1+(n/n0)**2)**p)\n",
      "np = lambda N : n0*((A(N)/a0)**(1./p)-1)**(1./2)\n",
      "n = lambda N : np(N)\n",
      "#aN = lambda N : an(n(N))\n",
      "h = lambda n : (sym.diff(an(x),x).subs(x,n).evalf())/(an(n)**2)\n",
      "H = lambda N : h(n(N))"
     ],
     "language": "python",
     "metadata": {},
     "outputs": [],
     "prompt_number": 18
    },
    {
     "cell_type": "code",
     "collapsed": false,
     "input": [
      "fn = lambda n : sym.diff(sym.diff(an(x),x),x).subs(x,n).evalf()/an(n)\n",
      "fN = lambda N : fn(n(N))"
     ],
     "language": "python",
     "metadata": {},
     "outputs": [],
     "prompt_number": 23
    },
    {
     "cell_type": "code",
     "collapsed": false,
     "input": [
      "aN = lambda N : an(n(N))"
     ],
     "language": "python",
     "metadata": {},
     "outputs": [],
     "prompt_number": 7
    },
    {
     "cell_type": "code",
     "collapsed": false,
     "input": [
      "DH = lambda N : sym.diff(H(x),x).subs(x,N).evalf()"
     ],
     "language": "python",
     "metadata": {},
     "outputs": [],
     "prompt_number": 21
    },
    {
     "cell_type": "markdown",
     "metadata": {},
     "source": [
      "the behavior of a($\\eta$) for various $\\eta$\n",
      "==="
     ]
    },
    {
     "cell_type": "code",
     "collapsed": false,
     "input": [
      "plt.plot(numpy.arange(-1e06, 1e06,100),an(numpy.arange(-1e06, 1e06,100)))"
     ],
     "language": "python",
     "metadata": {},
     "outputs": [
      {
       "metadata": {},
       "output_type": "pyout",
       "prompt_number": 19,
       "text": [
        "[<matplotlib.lines.Line2D at 0xae4c06ac>]"
       ]
      },
      {
       "metadata": {},
       "output_type": "display_data",
       "png": "[encoded data removed]",
       "text": [
        "<matplotlib.figure.Figure at 0xae5e16cc>"
       ]
      }
     ],
     "prompt_number": 19
    },
    {
     "cell_type": "markdown",
     "metadata": {},
     "source": [
      "the behavior of $\\mathcal{H}(\\mathcal{N})$ for various $\\mathcal{N}$\n",
      "==="
     ]
    },
    {
     "cell_type": "code",
     "collapsed": false,
     "input": [
      "plt.plot(N,[H(i) for i in N])"
     ],
     "language": "python",
     "metadata": {},
     "outputs": [
      {
       "metadata": {},
       "output_type": "pyout",
       "prompt_number": 20,
       "text": [
        "[<matplotlib.lines.Line2D at 0xae42564c>]"
       ]
      },
      {
       "metadata": {},
       "output_type": "display_data",
       "png": "[encoded data removed]",
       "text": [
        "<matplotlib.figure.Figure at 0xae4d2bec>"
       ]
      }
     ],
     "prompt_number": 20
    },
    {
     "cell_type": "markdown",
     "metadata": {},
     "source": [
      "the behavior of $\\mathcal{H}^{'}(\\mathcal{N})$ for various $\\mathcal{N}$\n",
      "==="
     ]
    },
    {
     "cell_type": "code",
     "collapsed": false,
     "input": [
      "plt.plot(N,[DH(i) for i in N])"
     ],
     "language": "python",
     "metadata": {},
     "outputs": [
      {
       "metadata": {},
       "output_type": "pyout",
       "prompt_number": 22,
       "text": [
        "[<matplotlib.lines.Line2D at 0xae40bf2c>]"
       ]
      },
      {
       "metadata": {},
       "output_type": "display_data",
       "png": "[encoded data removed]",
       "text": [
        "<matplotlib.figure.Figure at 0xae7af7cc>"
       ]
      }
     ],
     "prompt_number": 22
    },
    {
     "cell_type": "code",
     "collapsed": false,
     "input": [
      "plt.plot(N,[fN(i) for i in N])"
     ],
     "language": "python",
     "metadata": {},
     "outputs": [
      {
       "metadata": {},
       "output_type": "pyout",
       "prompt_number": 24,
       "text": [
        "[<matplotlib.lines.Line2D at 0xae35bd2c>]"
       ]
      },
      {
       "metadata": {},
       "output_type": "display_data",
       "png": "[encoded data removed]",
       "text": [
        "<matplotlib.figure.Figure at 0xae77aa4c>"
       ]
      }
     ],
     "prompt_number": 24
    },
    {
     "cell_type": "markdown",
     "metadata": {},
     "source": [
      "finding the roots and initial conditions to solve the diff. eqn\n",
      "===\n",
      "\n",
      "$$h(Nics) = \\frac{1}{(2k_s)^\\frac{1}{2}*a(Nics)}$$\n",
      "$$h^{'}(Nics) = -\\frac{I*Nics*(2ks)^\\frac{1}{2}}{2*a(Nics)*a(Nics)*H(Nics)} - \\frac{a^{'}(Nics)}{a^2(Nics)*(2ks)^\\frac{1}{2}}$$\n",
      "\n",
      "results from mathematica -\n",
      "\n",
      "h0 = 948715.57472053941534264\n",
      "dh0 = 4.2222613144777582640577*1e+06"
     ]
    },
    {
     "cell_type": "code",
     "collapsed": false,
     "input": [
      "temp = numpy.array([5])\n",
      "for i in range(10):\n",
      "    temp = opt.newton_krylov(lambda N : (1./n0)**2 - 1e+06*fN(N),temp)\n",
      "    \n",
      "print temp"
     ],
     "language": "python",
     "metadata": {},
     "outputs": [
      {
       "output_type": "stream",
       "stream": "stdout",
       "text": [
        "[ 5.38677227]\n"
       ]
      }
     ],
     "prompt_number": 29
    },
    {
     "cell_type": "code",
     "collapsed": false,
     "input": [
      "def DDhk(N,dh0,h0):\n",
      "    return -(3*N -1./N +(DH(N)/H(N)))*Dhk0 -(((k0*N)/(aN(N)*H(N)))**2)*hk0\n",
      "\n",
      "def euler_step():\n",
      "    F = Dhk0\n",
      "    f = DDhk(N,Dhk0,hk0)\n",
      "    return [f*step, F*step] #[dh, h] update\n",
      "\n",
      "npts = 100\n",
      "\n",
      "Nics = 0\n",
      "Nshss = 5.386772255310419\n",
      "\n",
      "hk0 = 4.77132012650695e+26\n",
      "Dhk0 = 2.66633496464416e+26\n",
      "\n",
      "step = (Nshss-Nics)/(npts-1)\n",
      "\n",
      "hk = []\n",
      "hk.append(hk0)\n",
      "\n",
      "N = Nics+step\n",
      "\n",
      "while N < Nshss:\n",
      "    array = euler_step()\n",
      "    hk0 += array[1]\n",
      "    Dhk0 += array[0]\n",
      "    hk.append(hk0)\n",
      "    N += step"
     ],
     "language": "python",
     "metadata": {},
     "outputs": [],
     "prompt_number": 32
    },
    {
     "cell_type": "code",
     "collapsed": false,
     "input": [
      "plt.plot(hk)"
     ],
     "language": "python",
     "metadata": {},
     "outputs": [
      {
       "metadata": {},
       "output_type": "pyout",
       "prompt_number": 33,
       "text": [
        "[<matplotlib.lines.Line2D at 0xae38a64c>]"
       ]
      },
      {
       "metadata": {},
       "output_type": "display_data",
       "png": "[encoded data removed]",
       "text": [
        "<matplotlib.figure.Figure at 0xae8e640c>"
       ]
      }
     ],
     "prompt_number": 33
    },
    {
     "cell_type": "code",
     "collapsed": false,
     "input": [
      "print hk0, Dhk0"
     ],
     "language": "python",
     "metadata": {},
     "outputs": []
    },
    {
     "cell_type": "code",
     "collapsed": false,
     "input": [],
     "language": "python",
     "metadata": {},
     "outputs": []
    },
    {
     "cell_type": "markdown",
     "metadata": {},
     "source": [
      "references to help handle complex numbers using numpy\n",
      "http://docs.scipy.org/doc/numpy/reference/routines.math.html#handling-complex-numbers\n",
      "https://docs.python.org/2/library/cmath.html"
     ]
    },
    {
     "cell_type": "code",
     "collapsed": false,
     "input": [],
     "language": "python",
     "metadata": {},
     "outputs": []
    }
   ],
   "metadata": {}
  }
 ]
}