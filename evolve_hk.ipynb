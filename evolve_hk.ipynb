{
 "metadata": {
  "name": "",
  "signature": "sha256:69f74097f32fa8ca4f5b52cc9df6030add78df898580f7d95e32798e33527bf8"
 },
 "nbformat": 3,
 "nbformat_minor": 0,
 "worksheets": [
  {
   "cells": [
    {
     "cell_type": "code",
     "collapsed": false,
     "input": [
      "import numpy as numpy\n",
      "import matplotlib.pyplot as plt\n",
      "%matplotlib inline\n",
      "import sympy as sym\n",
      "from sympy.functions import exp\n",
      "import scipy.optimize as opt\n",
      "\n",
      "x = sym.symbols('x')"
     ],
     "language": "python",
     "metadata": {},
     "outputs": [],
     "prompt_number": 1
    },
    {
     "cell_type": "code",
     "collapsed": false,
     "input": [
      "a0 = 1e-05\n",
      "n0 = numpy.exp(25)\n",
      "k0 = numpy.exp(-25)\n",
      "p = 1"
     ],
     "language": "python",
     "metadata": {},
     "outputs": [],
     "prompt_number": 2
    },
    {
     "cell_type": "code",
     "collapsed": false,
     "input": [
      "A = lambda N : a0*exp(x**2/2).subs(x,N).evalf()\n",
      "an = lambda n : a0*((1+(n/n0)**2)**p)\n",
      "aN = lambda N : an(n(N))\n",
      "h = lambda n : (sym.diff(an(x),x).subs(x,n).evalf())/(an(n)**2)\n",
      "H = lambda N : h(n(N))\n",
      "DH = lambda N : sym.diff(H(x),x).subs(x,N).evalf()\n",
      "fn = lambda n : sym.diff(sym.diff(an(x),x),x).subs(x,n).evalf()/an(n)\n",
      "fN = lambda N : fn(n(N))"
     ],
     "language": "python",
     "metadata": {},
     "outputs": [],
     "prompt_number": 10
    },
    {
     "cell_type": "code",
     "collapsed": false,
     "input": [
      "def DDhk(N, hk0, Dhk0):\n",
      "    return -((3.*N -(1./N) +(DH(N)/H(N)))*Dhk0 +(((k0*N)/(A(N)*H(N)))**2)*hk0)\n",
      "\n",
      "def rk4_step(N, hk0, Dhk0, step):\n",
      "    F1 = Dhk0\n",
      "    f1 = DDhk(N, hk0, Dhk0)\n",
      "    F2 = Dhk0 +f1*step/2.\n",
      "    f2 = DDhk(N +step/2., hk0 +F1*step/2., Dhk0 +f1*step/2.)\n",
      "    F3 = Dhk0 +f2*step/2.\n",
      "    f3 = DDhk(N +step/2., hk0 +F2*step/2., Dhk0 +f2*step/2.)\n",
      "    F4 = Dhk0 +f3*step\n",
      "    f4 = DDhk(N +step, hk0 +F3*step, Dhk0 +f3*step)\n",
      "    \n",
      "    return numpy.array([(f1 +2*f2 +2*f3 +f4)*step/6.], dtype=complex), numpy.array([(F1 +2*F2 +2*F3 +F4)*step/6.], dtype=complex) # [Dhk, hk] update"
     ],
     "language": "python",
     "metadata": {},
     "outputs": [],
     "prompt_number": 11
    },
    {
     "cell_type": "code",
     "collapsed": false,
     "input": [
      "nm = lambda N : -n0*((A(N)/a0)**(1./p)-1)**(1./2)\n",
      "n = lambda N : nm(N)"
     ],
     "language": "python",
     "metadata": {},
     "outputs": [],
     "prompt_number": 12
    },
    {
     "cell_type": "code",
     "collapsed": false,
     "input": [
      "Nics = numpy.array([-4])\n",
      "for i in range(100):\n",
      "    Nics = opt.newton_krylov(lambda N : (1./n0)**2 - 1e+04*fN(N),Nics)\n",
      "\n",
      "print Nics"
     ],
     "language": "python",
     "metadata": {},
     "outputs": [
      {
       "output_type": "stream",
       "stream": "stdout",
       "text": [
        "[-4.45050279]\n"
       ]
      },
      {
       "output_type": "stream",
       "stream": "stderr",
       "text": [
        "/usr/local/lib/python2.7/dist-packages/scipy/optimize/nonlin.py:474: RuntimeWarning: invalid value encountered in double_scalars\n",
        "  and dx_norm/self.x_rtol <= x_norm))\n"
       ]
      }
     ],
     "prompt_number": 4
    },
    {
     "cell_type": "code",
     "collapsed": false,
     "input": [
      "hk0 = numpy.zeros(1,dtype=complex)\n",
      "hk0.real = (((2.*k0)**(1./2))*A(Nics))**(-1.)\n",
      "\n",
      "Dhk0 = numpy.zeros(1,dtype=complex)\n",
      "Dhk0.real = -(sym.diff(A(x),x).subs(x,Nics).evalf()/(A(Nics)**2))*((2*k0)**(-1./2))\n",
      "Dhk0.imag = -Nics*((k0/2)**(1./2))/(A(Nics)*A(Nics)*H(Nics))\n",
      "\n",
      "hkm = numpy.array(hk0, dtype = complex)"
     ],
     "language": "python",
     "metadata": {},
     "outputs": [],
     "prompt_number": 6
    },
    {
     "cell_type": "code",
     "collapsed": false,
     "input": [
      "print Nics, hk0, Dhk0"
     ],
     "language": "python",
     "metadata": {},
     "outputs": [
      {
       "output_type": "stream",
       "stream": "stdout",
       "text": [
        "[-4.45050279] [ 948715.57472054+0.j] [ 4222261.31447776 -2.98566425e+08j]\n"
       ]
      }
     ],
     "prompt_number": 7
    },
    {
     "cell_type": "code",
     "collapsed": false,
     "input": [
      "npts = 1000\n",
      "step = (0-Nics)/(npts-1)\n",
      "\n",
      "N = Nics\n",
      "while N < 0-2*step:\n",
      "    #array = euler_step(N, hk0, Dhk0, step)\n",
      "    array = rk4_step(N, hk0, Dhk0, step)\n",
      "    hk0 = hk0 + array[1]\n",
      "    Dhk0 = Dhk0 + array[0]\n",
      "    hkm = numpy.append(hkm,hk0)\n",
      "    N += step"
     ],
     "language": "python",
     "metadata": {},
     "outputs": [],
     "prompt_number": 8
    },
    {
     "cell_type": "code",
     "collapsed": false,
     "input": [
      "np = lambda N : n0*((A(N)/a0)**(1./p)-1)**(1./2)\n",
      "n = lambda N : np(N)"
     ],
     "language": "python",
     "metadata": {},
     "outputs": [],
     "prompt_number": 9
    },
    {
     "cell_type": "code",
     "collapsed": false,
     "input": [
      "Nshss = numpy.array([5])\n",
      "for i in range(100):\n",
      "    Nshss = opt.newton_krylov(lambda N : (k0)**2 - 1e+06*fN(N),Nshss)\n",
      "\n",
      "print Nshss"
     ],
     "language": "python",
     "metadata": {},
     "outputs": [
      {
       "output_type": "stream",
       "stream": "stdout",
       "text": [
        "[ 5.38677227]\n"
       ]
      }
     ],
     "prompt_number": 10
    },
    {
     "cell_type": "code",
     "collapsed": false,
     "input": [
      "step = (Nshss-0)/(npts-1)\n",
      "hkp = numpy.array(hk0, dtype = complex)\n",
      "\n",
      "N = 0 + 2*step\n",
      "while N < Nshss:\n",
      "    array = rk4_step(N, hk0, Dhk0, step)\n",
      "    hk0 = hk0 + array[1]\n",
      "    Dhk0 = Dhk0 + array[0]\n",
      "    hkp = numpy.append(hkp, hk0)\n",
      "    N += step"
     ],
     "language": "python",
     "metadata": {},
     "outputs": [],
     "prompt_number": 11
    },
    {
     "cell_type": "code",
     "collapsed": false,
     "input": [
      "Nics = -4.45050279"
     ],
     "language": "python",
     "metadata": {},
     "outputs": [],
     "prompt_number": 12
    },
    {
     "cell_type": "code",
     "collapsed": false,
     "input": [
      "plt.subplot(121)\n",
      "plt.hold(True)\n",
      "plt.semilogy(numpy.linspace(Nics,0,len(hkm)), numpy.absolute(hkm))\n",
      "plt.semilogy(numpy.linspace(0,Nshss,len(hkp[:850])), numpy.absolute(hkp[:850]))\n",
      "plt.subplot(122)\n",
      "plt.hold(True)\n",
      "plt.plot(numpy.linspace(Nics,0,len(hkm)), hkm.imag)\n",
      "plt.plot(numpy.linspace(0,Nshss,len(hkp[:850])), hkp.imag[:850])"
     ],
     "language": "python",
     "metadata": {},
     "outputs": [
      {
       "metadata": {},
       "output_type": "pyout",
       "prompt_number": 13,
       "text": [
        "[<matplotlib.lines.Line2D at 0xae6f4bec>]"
       ]
      },
      {
       "metadata": {},
       "output_type": "display_data",
       "png": "[encoded data removed]",
       "text": [
        "<matplotlib.figure.Figure at 0xae835f2c>"
       ]
      }
     ],
     "prompt_number": 13
    },
    {
     "cell_type": "code",
     "collapsed": false,
     "input": [],
     "language": "python",
     "metadata": {},
     "outputs": []
    },
    {
     "cell_type": "code",
     "collapsed": false,
     "input": [
      "A = lambda N : a0*exp(x**2/2).subs(x,N).evalf()\n",
      "an = lambda n : a0*((1+(n/n0)**2)**p)\n",
      "aN = lambda N : an(n(N))\n",
      "h = lambda n : (sym.diff(an(x),x).subs(x,n).evalf())/(an(n)**2)\n",
      "H = lambda N : h(n(N))\n",
      "DH = lambda N : sym.diff(H(x),x).subs(x,N).evalf()\n",
      "fn = lambda n : sym.diff(sym.diff(an(x),x),x).subs(x,n).evalf()/an(n)\n",
      "fN = lambda N : fn(n(N))"
     ],
     "language": "python",
     "metadata": {},
     "outputs": [],
     "prompt_number": 24
    },
    {
     "cell_type": "code",
     "collapsed": false,
     "input": [
      "k0 = 10**(-5)*numpy.exp(-25)"
     ],
     "language": "python",
     "metadata": {},
     "outputs": [],
     "prompt_number": 25
    },
    {
     "cell_type": "code",
     "collapsed": false,
     "input": [
      "nm = lambda N : -n0*((A(N)/a0)**(1./p)-1)**(1./2)\n",
      "n = lambda N : nm(N)"
     ],
     "language": "python",
     "metadata": {},
     "outputs": [],
     "prompt_number": 26
    },
    {
     "cell_type": "code",
     "collapsed": false,
     "input": [
      "Nics = numpy.array([-8])\n",
      "for i in range(100):\n",
      "    Nics = opt.newton_krylov(lambda N : (k0)**2 - 1e+04*fN(N),Nics)\n",
      "\n",
      "print Nics"
     ],
     "language": "python",
     "metadata": {},
     "outputs": [
      {
       "output_type": "stream",
       "stream": "stdout",
       "text": [
        "[-8.11533591]\n"
       ]
      }
     ],
     "prompt_number": 27
    },
    {
     "cell_type": "code",
     "collapsed": false,
     "input": [
      "hk0 = numpy.zeros(1,dtype=complex)\n",
      "hk0.real = (((2.*k0)**(1./2))*A(Nics))**(-1.)\n",
      "\n",
      "Dhk0 = numpy.zeros(1,dtype=complex)\n",
      "Dhk0.real = -(sym.diff(A(x),x).subs(x,Nics).evalf()/(A(Nics)**2))*((2.*k0)**(-1./2))\n",
      "Dhk0.imag = -Nics*((k0/2.)**(1./2))/(A(Nics)*A(Nics)*H(Nics))\n",
      "\n",
      "hkm = numpy.array(hk0, dtype = complex)"
     ],
     "language": "python",
     "metadata": {},
     "outputs": [],
     "prompt_number": 30
    },
    {
     "cell_type": "code",
     "collapsed": false,
     "input": [
      "print Nics, hk0, Dhk0"
     ],
     "language": "python",
     "metadata": {},
     "outputs": [
      {
       "output_type": "stream",
       "stream": "stdout",
       "text": [
        "[-8.11533591] [ 0.03000102+0.j] [ 0.24346836-17.21581287j]\n"
       ]
      }
     ],
     "prompt_number": 31
    },
    {
     "cell_type": "code",
     "collapsed": false,
     "input": [
      "npts = 2500\n",
      "step = (0-Nics)/(npts-1)\n",
      "\n",
      "N = Nics\n",
      "while N < 0-2*step:\n",
      "    array = rk4_step(N, hk0, Dhk0, step)\n",
      "    hk0 = hk0 + array[1]\n",
      "    Dhk0 = Dhk0 + array[0]\n",
      "    hkm = numpy.append(hkm,hk0)\n",
      "    N += step"
     ],
     "language": "python",
     "metadata": {},
     "outputs": [],
     "prompt_number": 32
    },
    {
     "cell_type": "code",
     "collapsed": false,
     "input": [
      "np = lambda N : n0*((A(N)/a0)**(1./p)-1)**(1./2)\n",
      "n = lambda N : np(N)"
     ],
     "language": "python",
     "metadata": {},
     "outputs": [],
     "prompt_number": 39
    },
    {
     "cell_type": "code",
     "collapsed": false,
     "input": [
      "Nshss = numpy.array([8])\n",
      "for i in range(100):\n",
      "    Nshss = opt.newton_krylov(lambda N : (k0)**2 - 1e+06*fN(N),Nshss)\n",
      "\n",
      "print Nshss"
     ],
     "language": "python",
     "metadata": {},
     "outputs": [
      {
       "output_type": "stream",
       "stream": "stdout",
       "text": [
        "[ 8.66423784]\n"
       ]
      }
     ],
     "prompt_number": 40
    },
    {
     "cell_type": "code",
     "collapsed": false,
     "input": [
      "step = (Nshss-0)/(npts-1)\n",
      "hkp = numpy.array(hk0, dtype = complex)\n",
      "\n",
      "N = 0 + 2*step\n",
      "while N < Nshss:\n",
      "    array = rk4_step(N, hk0, Dhk0, step)\n",
      "    hk0 = hk0 + array[1]\n",
      "    Dhk0 = Dhk0 + array[0]\n",
      "    hkp = numpy.append(hkp, hk0)\n",
      "    N += step"
     ],
     "language": "python",
     "metadata": {},
     "outputs": [],
     "prompt_number": 41
    },
    {
     "cell_type": "code",
     "collapsed": false,
     "input": [
      "Nics = -8.11533591"
     ],
     "language": "python",
     "metadata": {},
     "outputs": [],
     "prompt_number": 42
    },
    {
     "cell_type": "code",
     "collapsed": false,
     "input": [
      "plt.subplot(121)\n",
      "plt.hold(True)\n",
      "plt.semilogy(numpy.linspace(Nics,0,len(hkm)), numpy.absolute(hkm))\n",
      "plt.semilogy(numpy.linspace(0,Nshss,len(hkp[:2200])), numpy.absolute(hkp[:2200]))\n",
      "plt.subplot(122)\n",
      "plt.hold(True)\n",
      "plt.plot(numpy.linspace(Nics,0,len(hkm)), hkm.imag)\n",
      "plt.plot(numpy.linspace(0,Nshss,len(hkp[:2200])), hkp.imag[:2200])"
     ],
     "language": "python",
     "metadata": {},
     "outputs": [
      {
       "metadata": {},
       "output_type": "pyout",
       "prompt_number": 43,
       "text": [
        "[<matplotlib.lines.Line2D at 0xae45ab4c>]"
       ]
      },
      {
       "metadata": {},
       "output_type": "display_data",
       "png": "[encoded data removed]",
       "text": [
        "<matplotlib.figure.Figure at 0xae7d158c>"
       ]
      }
     ],
     "prompt_number": 43
    },
    {
     "cell_type": "code",
     "collapsed": false,
     "input": [],
     "language": "python",
     "metadata": {},
     "outputs": []
    },
    {
     "cell_type": "code",
     "collapsed": false,
     "input": [
      "A = lambda N : a0*exp(x**2/2).subs(x,N).evalf()\n",
      "an = lambda n : a0*((1+(n/n0)**2)**p)\n",
      "aN = lambda N : an(n(N))\n",
      "h = lambda n : (sym.diff(an(x),x).subs(x,n).evalf())/(an(n)**2)\n",
      "H = lambda N : h(n(N))\n",
      "DH = lambda N : sym.diff(H(x),x).subs(x,N).evalf()\n",
      "fn = lambda n : sym.diff(sym.diff(an(x),x),x).subs(x,n).evalf()/an(n)\n",
      "fN = lambda N : fn(n(N))"
     ],
     "language": "python",
     "metadata": {},
     "outputs": [],
     "prompt_number": 3
    },
    {
     "cell_type": "code",
     "collapsed": false,
     "input": [
      "k0 = 10**(-10)*numpy.exp(-25)"
     ],
     "language": "python",
     "metadata": {},
     "outputs": [],
     "prompt_number": 4
    },
    {
     "cell_type": "code",
     "collapsed": false,
     "input": [
      "nm = lambda N : -n0*((A(N)/a0)**(1./p)-1)**(1./2)\n",
      "n = lambda N : nm(N)"
     ],
     "language": "python",
     "metadata": {},
     "outputs": [],
     "prompt_number": 5
    },
    {
     "cell_type": "code",
     "collapsed": false,
     "input": [
      "Nics = numpy.array([-10])\n",
      "for i in range(100):\n",
      "    Nics = opt.newton_krylov(lambda N : (k0)**2 - 1e+04*fN(N),Nics)\n",
      "\n",
      "print Nics"
     ],
     "language": "python",
     "metadata": {},
     "outputs": [
      {
       "output_type": "stream",
       "stream": "stdout",
       "text": [
        "[-10.57877019]\n"
       ]
      },
      {
       "output_type": "stream",
       "stream": "stderr",
       "text": [
        "/usr/local/lib/python2.7/dist-packages/scipy/optimize/nonlin.py:474: RuntimeWarning: invalid value encountered in double_scalars\n",
        "  and dx_norm/self.x_rtol <= x_norm))\n"
       ]
      }
     ],
     "prompt_number": 6
    },
    {
     "cell_type": "code",
     "collapsed": false,
     "input": [
      "hk0 = numpy.zeros(1,dtype=complex)\n",
      "hk0.real = (((2.*k0)**(1./2))*A(Nics))**(-1.)\n",
      "\n",
      "Dhk0 = numpy.zeros(1,dtype=complex)\n",
      "Dhk0.real = -(sym.diff(A(x),x).subs(x,Nics).evalf()/(A(Nics)**2))*((2.*k0)**(-1./2))\n",
      "Dhk0.imag = -Nics*((k0/2.)**(1./2))/(A(Nics)*A(Nics)*H(Nics))\n",
      "hkm = numpy.array(hk0, dtype = complex)"
     ],
     "language": "python",
     "metadata": {},
     "outputs": [],
     "prompt_number": 7
    },
    {
     "cell_type": "code",
     "collapsed": false,
     "input": [
      "print Nics, hk0, Dhk0"
     ],
     "language": "python",
     "metadata": {},
     "outputs": [
      {
       "output_type": "stream",
       "stream": "stdout",
       "text": [
        "[-10.57877019] [  9.48715575e-10+0.j] [  1.00362440e-08 -7.09669622e-07j]\n"
       ]
      }
     ],
     "prompt_number": 8
    },
    {
     "cell_type": "code",
     "collapsed": false,
     "input": [
      "npts = 5000\n",
      "step = (0-Nics)/(npts-1)\n",
      "\n",
      "N = Nics\n",
      "while N < 0-2*step:\n",
      "    array = rk4_step(N, hk0, Dhk0, step)\n",
      "    hk0 = hk0 + array[1]\n",
      "    Dhk0 = Dhk0 + array[0]\n",
      "    hkm = numpy.append(hkm,hk0)\n",
      "    N += step"
     ],
     "language": "python",
     "metadata": {},
     "outputs": [],
     "prompt_number": 13
    },
    {
     "cell_type": "code",
     "collapsed": false,
     "input": [
      "np = lambda N : n0*((A(N)/a0)**(1./p)-1)**(1./2)\n",
      "n = lambda N : np(N)"
     ],
     "language": "python",
     "metadata": {},
     "outputs": [],
     "prompt_number": 14
    },
    {
     "cell_type": "code",
     "collapsed": false,
     "input": [
      "Nshss = numpy.array([8])\n",
      "for i in range(100):\n",
      "    Nshss = opt.newton_krylov(lambda N : (k0)**2 - 1e+06*fN(N),Nshss)\n",
      "\n",
      "print Nshss"
     ],
     "language": "python",
     "metadata": {},
     "outputs": [
      {
       "output_type": "stream",
       "stream": "stdout",
       "text": [
        "[ 11.00548587]\n"
       ]
      }
     ],
     "prompt_number": 15
    },
    {
     "cell_type": "code",
     "collapsed": false,
     "input": [
      "step = (Nshss-0)/(npts-1)\n",
      "hkp = numpy.array(hk0, dtype = complex)\n",
      "\n",
      "N = 0 + 2*step\n",
      "while N < Nshss:\n",
      "    array = rk4_step(N, hk0, Dhk0, step)\n",
      "    hk0 = hk0 + array[1]\n",
      "    Dhk0 = Dhk0 + array[0]\n",
      "    hkp = numpy.append(hkp, hk0)\n",
      "    N += step"
     ],
     "language": "python",
     "metadata": {},
     "outputs": [],
     "prompt_number": 16
    },
    {
     "cell_type": "code",
     "collapsed": false,
     "input": [
      "Nics = -10.57877019"
     ],
     "language": "python",
     "metadata": {},
     "outputs": [],
     "prompt_number": 17
    },
    {
     "cell_type": "code",
     "collapsed": false,
     "input": [
      "plt.subplot(121)\n",
      "plt.hold(True)\n",
      "plt.semilogy(numpy.linspace(Nics,0,len(hkm)), numpy.absolute(hkm))\n",
      "plt.semilogy(numpy.linspace(0,Nshss,len(hkp[:4850])), numpy.absolute(hkp[:4850]))\n",
      "plt.subplot(122)\n",
      "plt.hold(True)\n",
      "plt.plot(numpy.linspace(Nics,0,len(hkm)), hkm.imag)\n",
      "plt.plot(numpy.linspace(0,Nshss,len(hkp[:4850])), hkp.imag[:4850])"
     ],
     "language": "python",
     "metadata": {},
     "outputs": [
      {
       "metadata": {},
       "output_type": "pyout",
       "prompt_number": 24,
       "text": [
        "[<matplotlib.lines.Line2D at 0xade7f7ec>]"
       ]
      },
      {
       "metadata": {},
       "output_type": "display_data",
       "png": "[encoded data removed]",
       "text": [
        "<matplotlib.figure.Figure at 0xade974ac>"
       ]
      }
     ],
     "prompt_number": 24
    },
    {
     "cell_type": "code",
     "collapsed": false,
     "input": [],
     "language": "python",
     "metadata": {},
     "outputs": []
    }
   ],
   "metadata": {}
  }
 ]
}