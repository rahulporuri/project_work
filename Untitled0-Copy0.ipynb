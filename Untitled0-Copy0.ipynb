{
 "metadata": {
  "name": "",
  "signature": "sha256:f1c29e42996a24d0a36ce096964c075d38907a9f735a8f0be85272e34e2e82d5"
 },
 "nbformat": 3,
 "nbformat_minor": 0,
 "worksheets": [
  {
   "cells": [
    {
     "cell_type": "code",
     "collapsed": false,
     "input": [
      "import numpy as numpy\n",
      "import matplotlib.pyplot as plt\n",
      "%matplotlib inline\n",
      "\n",
      "import sympy as sym\n",
      "from sympy.functions import exp\n",
      "import scipy.optimize as opt\n",
      "\n",
      "x = sym.symbols('x')"
     ],
     "language": "python",
     "metadata": {},
     "outputs": [],
     "prompt_number": 1
    },
    {
     "cell_type": "code",
     "collapsed": false,
     "input": [
      "a0 = 1e-05\n",
      "n0 = numpy.exp(25)\n",
      "p = 1"
     ],
     "language": "python",
     "metadata": {},
     "outputs": [],
     "prompt_number": 2
    },
    {
     "cell_type": "code",
     "collapsed": false,
     "input": [
      "def DDhk(k0, N, hk0, Dhk0):\n",
      "    return -((3.*N -(1./N) +(DH(N)/H(N)))*Dhk0 +(((k0*N)/(A(N)*H(N)))**2)*hk0)\n",
      "\n",
      "def rk4_step(k0, N, hk0, Dhk0, step):\n",
      "    F1 = Dhk0\n",
      "    f1 = DDhk(k0, N, hk0, Dhk0)\n",
      "    F2 = Dhk0 +f1*step/2.\n",
      "    f2 = DDhk(k0, N +step/2., hk0 +F1*step/2., Dhk0 +f1*step/2.)\n",
      "    F3 = Dhk0 +f2*step/2.\n",
      "    f3 = DDhk(k0, N +step/2., hk0 +F2*step/2., Dhk0 +f2*step/2.)\n",
      "    F4 = Dhk0 +f3*step\n",
      "    f4 = DDhk(k0, N +step, hk0 +F3*step, Dhk0 +f3*step)   \n",
      "\n",
      "    return numpy.array([(f1 +2*f2 +2*f3 +f4)*step/6.], dtype=complex), numpy.array([(F1 +2*F2 +2*F3 +F4)*step/6.], dtype=complex) # [Dhk, hk] update\n",
      "\n",
      "k_min = 1e-16\n",
      "k_max = 1e-9\n",
      "\n",
      "Nshss = 3.02287778\n",
      "\n",
      "print 'lift off!'\n",
      "\n",
      "k_vs_hk = numpy.zeros(1,dtype=complex)\n",
      "\n",
      "k0 = k_min\n",
      "while k0 < k_max:\n",
      "    print 'k0 = ', k0\n",
      "\n",
      "    A = lambda N : a0*exp(x**2/2).subs(x,N).evalf()\n",
      "    an = lambda n : a0*((1+(n/n0)**2)**p)\n",
      "\n",
      "    nm = lambda N : -n0*((A(N)/a0)**(1./p)-1)**(1./2)\n",
      "    n = lambda N : nm(N)\n",
      "    \n",
      "    aN = lambda N : an(n(N))\n",
      "    h = lambda n : (sym.diff(an(x),x).subs(x,n).evalf())/(an(n)**2)\n",
      "    H = lambda N : h(n(N))\n",
      "    DH = lambda N : sym.diff(H(x),x).subs(x,N).evalf()\n",
      "\n",
      "    fn = lambda n : sym.diff(sym.diff(an(x),x),x).subs(x,n).evalf()/an(n)\n",
      "    fN = lambda N : fn(n(N))    \n",
      "    \n",
      "    Nics = numpy.array([-4])\n",
      "    for i in range(200):\n",
      "        Nics = opt.newton_krylov(lambda N : (k0)**2 - 1e+04*fN(N),Nics)\n",
      "    \n",
      "    hk0 = numpy.zeros(1,dtype=complex)\n",
      "    hk0.real = (((2.*k0)**(1./2))*A(Nics))**(-1.)\n",
      "    \n",
      "    Dhk0 = numpy.zeros(1,dtype=complex)\n",
      "    Dhk0.real = -(sym.diff(A(x),x).subs(x,Nics).evalf()/(A(Nics)**2))*((2*k0)**(-1./2))\n",
      "    Dhk0.imag = -Nics*((k0/2)**(1./2))/(A(Nics)*A(Nics)*H(Nics))\n",
      "\n",
      "    print 'got Nics, hk0 and Dhk0'\n",
      "\n",
      "    npts = 7500\n",
      "    step = (0-Nics)/(npts-1)\n",
      "\n",
      "    print 'starting from Nics'\n",
      "    \n",
      "    N = Nics\n",
      "    while N < 0 -2*step:\n",
      "        #array = euler_step(N, hk0, Dhk0, step)\n",
      "        array = rk4_step(k0, N, hk0, Dhk0, step)\n",
      "        hk0 = hk0 + array[1]\n",
      "        Dhk0 = Dhk0 + array[0]\n",
      "        N += step\n",
      "\n",
      "    print N-step, 0, hk0, Dhk0\n",
      "    print 'half way there!'\n",
      "\n",
      "    A = lambda N : a0*exp(x**2/2).subs(x,N).evalf()\n",
      "    an = lambda n : a0*((1+(n/n0)**2)**p)\n",
      "\n",
      "    np = lambda N : n0*((A(N)/a0)**(1./p)-1)**(1./2)\n",
      "    n = lambda N : np(N)\n",
      "    \n",
      "    aN = lambda N : an(n(N))\n",
      "    h = lambda n : (sym.diff(an(x),x).subs(x,n).evalf())/(an(n)**2)\n",
      "    H = lambda N : h(n(N))\n",
      "    DH = lambda N : sym.diff(H(x),x).subs(x,N).evalf()\n",
      "\n",
      "    fn = lambda n : sym.diff(sym.diff(an(x),x),x).subs(x,n).evalf()/an(n)\n",
      "    fN = lambda N : fn(n(N))    \n",
      "\n",
      "    step = (Nshss-0)/(npts-1)\n",
      "\n",
      "    N = 0 +step\n",
      "    while N < Nshss + step:\n",
      "        #array = euler_step()\n",
      "        array = rk4_step(k0, N, hk0, Dhk0, step)\n",
      "        hk0 = hk0 + array[1]\n",
      "        Dhk0 = Dhk0 + array[0]\n",
      "        N += step\n",
      "        \n",
      "    k_vs_hk = numpy.append(k_vs_hk, hk0)\n",
      "    print N-step, Nshss, hk0, Dhk0, Nics\n",
      "    print '\\n'\n",
      "    k0 = 10*k0"
     ],
     "language": "python",
     "metadata": {},
     "outputs": [
      {
       "output_type": "stream",
       "stream": "stdout",
       "text": [
        "lift off!\n",
        "k0 =  1e-16\n",
        "got Nics, hk0 and Dhk0"
       ]
      },
      {
       "output_type": "stream",
       "stream": "stdout",
       "text": [
        "\n",
        "starting from Nics\n",
        "[-0.00327879]"
       ]
      },
      {
       "output_type": "stream",
       "stream": "stdout",
       "text": [
        " 0 [[[[[[[[[[[[[[[[[[[[[[[[[[[[[[[[ -5.58916848e+16 -2.26808208e+18j]]]]]]]]]]]]]]]]]]]]]]]]]]]]]]]] [[[[[[[[[[[[[[[[[[[[[[[[[[[[[[[[ -5.04192687e+16 -2.04601168e+18j]]]]]]]]]]]]]]]]]]]]]]]]]]]]]]]]\n",
        "half way there!\n",
        "3.02328088412"
       ]
      },
      {
       "output_type": "stream",
       "stream": "stdout",
       "text": [
        " 3.02287778 [[[[[[[[[[[[[[[[[[[[[[[[[[[[[[[[ -1.11848010e+17 -4.53878726e+18j]]]]]]]]]]]]]]]]]]]]]]]]]]]]]]]] [[[[[[[[[[[[[[[[[[[[[[[[[[[[[[[[ -1.14003600e+14 -4.62626100e+15j]]]]]]]]]]]]]]]]]]]]]]]]]]]]]]]] [-0.00218586]\n",
        "\n",
        "\n",
        "k0 =  1e-15\n",
        "got Nics, hk0 and Dhk0"
       ]
      },
      {
       "output_type": "stream",
       "stream": "stdout",
       "text": [
        "\n",
        "starting from Nics\n",
        "[-0.00203048]"
       ]
      },
      {
       "output_type": "stream",
       "stream": "stdout",
       "text": [
        " 0 [[[[[[[[[[[[[[[[[[[[[[[[[[[[[[[[ -2.78378988e+15 -7.24169216e+16j]]]]]]]]]]]]]]]]]]]]]]]]]]]]]]]] [[[[[[[[[[[[[[[[[[[[[[[[[[[[[[[[ -2.50858276e+15 -6.52577419e+16j]]]]]]]]]]]]]]]]]]]]]]]]]]]]]]]]\n",
        "half way there!\n",
        "3.02328088412"
       ]
      },
      {
       "output_type": "stream",
       "stream": "stdout",
       "text": [
        " 3.02287778 [[[[[[[[[[[[[[[[[[[[[[[[[[[[[[[[ -5.56786552e+15 -1.44841277e+17j]]]]]]]]]]]]]]]]]]]]]]]]]]]]]]]] [[[[[[[[[[[[[[[[[[[[[[[[[[[[[[[[ -5.67133906e+12 -1.47533016e+14j]]]]]]]]]]]]]]]]]]]]]]]]]]]]]]]] [-0.00101524]\n",
        "\n",
        "\n",
        "k0 =  1e-14\n",
        "got Nics, hk0 and Dhk0"
       ]
      },
      {
       "output_type": "stream",
       "stream": "stdout",
       "text": [
        "\n",
        "starting from Nics\n",
        "[-0.00279327]"
       ]
      },
      {
       "output_type": "stream",
       "stream": "stdout",
       "text": [
        " 0 [[[[[[[[[[[[[[[[[[[[[[[[[[[[[[[[ -1.08960149e+14 -2.29870306e+15j]]]]]]]]]]]]]]]]]]]]]]]]]]]]]]]] [[[[[[[[[[[[[[[[[[[[[[[[[[[[[[[[ -9.82631085e+13 -2.07303046e+15j]]]]]]]]]]]]]]]]]]]]]]]]]]]]]]]]\n",
        "half way there!\n",
        "3.02328088412"
       ]
      },
      {
       "output_type": "stream",
       "stream": "stdout",
       "text": [
        " 3.02287778 [[[[[[[[[[[[[[[[[[[[[[[[[[[[[[[[ -2.18013379e+14 -4.59936983e+15j]]]]]]]]]]]]]]]]]]]]]]]]]]]]]]]] [[[[[[[[[[[[[[[[[[[[[[[[[[[[[[[[ -2.18834826e+11 -4.61669966e+12j]]]]]]]]]]]]]]]]]]]]]]]]]]]]]]]] [-0.00186218]\n",
        "\n",
        "\n",
        "k0 =  1e-13\n",
        "got Nics, hk0 and Dhk0"
       ]
      },
      {
       "output_type": "stream",
       "stream": "stdout",
       "text": [
        "\n",
        "starting from Nics\n",
        "[-0.00251561]"
       ]
      },
      {
       "output_type": "stream",
       "stream": "stdout",
       "text": [
        " 0 [[[[[[[[[[[[[[[[[[[[[[[[[[[[[[[[ -3.83903328e+12 -7.28540764e+13j]]]]]]]]]]]]]]]]]]]]]]]]]]]]]]]] [[[[[[[[[[[[[[[[[[[[[[[[[[[[[[[[ -3.46149004e+12 -6.56892993e+13j]]]]]]]]]]]]]]]]]]]]]]]]]]]]]]]]\n",
        "half way there!\n",
        "3.02328088412"
       ]
      },
      {
       "output_type": "stream",
       "stream": "stdout",
       "text": [
        " 3.02287778 [[[[[[[[[[[[[[[[[[[[[[[[[[[[[[[[ -7.67658980e+12 -1.45680055e+14j]]]]]]]]]]]]]]]]]]]]]]]]]]]]]]]] [[[[[[[[[[[[[[[[[[[[[[[[[[[[[[[[  3.96855719e+09 +7.53121135e+10j]]]]]]]]]]]]]]]]]]]]]]]]]]]]]]]] [-0.00167708]\n",
        "\n",
        "\n",
        "k0 =  1e-12\n",
        "got Nics, hk0 and Dhk0"
       ]
      },
      {
       "output_type": "stream",
       "stream": "stdout",
       "text": [
        "\n",
        "starting from Nics\n",
        "[-0.00146883]"
       ]
      },
      {
       "output_type": "stream",
       "stream": "stdout",
       "text": [
        " 0 [[[[[[[[[[[[[[[[[[[[[[[[[[[[[[[[ -1.32081604e+11 -2.29782146e+12j]]]]]]]]]]]]]]]]]]]]]]]]]]]]]]]] [[[[[[[[[[[[[[[[[[[[[[[[[[[[[[[[ -1.18834918e+11 -2.06544316e+12j]]]]]]]]]]]]]]]]]]]]]]]]]]]]]]]]\n",
        "half way there!\n",
        "3.02328088412"
       ]
      },
      {
       "output_type": "stream",
       "stream": "stdout",
       "text": [
        " 3.02287778 [[[[[[[[[[[[[[[[[[[[[[[[[[[[[[[[ -2.50226003e+11 -4.35114926e+12j]]]]]]]]]]]]]]]]]]]]]]]]]]]]]]]] [[[[[[[[[[[[[[[[[[[[[[[[[[[[[[[[  3.87496935e+10 +6.73815965e+11j]]]]]]]]]]]]]]]]]]]]]]]]]]]]]]]] [-0.00073441]\n",
        "\n",
        "\n",
        "k0 =  1e-11\n",
        "got Nics, hk0 and Dhk0"
       ]
      },
      {
       "output_type": "stream",
       "stream": "stdout",
       "text": [
        "\n",
        "starting from Nics\n",
        "[-0.00183854]"
       ]
      },
      {
       "output_type": "stream",
       "stream": "stdout",
       "text": [
        " 0 [[[[[[[[[[[[[[[[[[[[[[[[[[[[[[[[ -1.49539383e+10 -6.34763431e+10j]]]]]]]]]]]]]]]]]]]]]]]]]]]]]]]] [[[[[[[[[[[[[[[[[[[[[[[[[[[[[[[[ -1.42800220e+10 -4.35940613e+10j]]]]]]]]]]]]]]]]]]]]]]]]]]]]]]]]\n",
        "half way there!\n",
        "3.02328088412"
       ]
      },
      {
       "output_type": "stream",
       "stream": "stdout",
       "text": [
        " 3.02287778 [[[[[[[[[[[[[[[[[[[[[[[[[[[[[[[[  6.55058326e+08 +2.29768556e+09j]]]]]]]]]]]]]]]]]]]]]]]]]]]]]]]] [[[[[[[[[[[[[[[[[[[[[[[[[[[[[[[[ -1.60354079e+10 -5.71244874e+10j]]]]]]]]]]]]]]]]]]]]]]]]]]]]]]]] [-0.00122569]\n",
        "\n",
        "\n",
        "k0 =  1e-10\n",
        "got Nics, hk0 and Dhk0"
       ]
      },
      {
       "output_type": "stream",
       "stream": "stdout",
       "text": [
        "\n",
        "starting from Nics\n",
        "[-0.00092043]"
       ]
      },
      {
       "output_type": "stream",
       "stream": "stdout",
       "text": [
        " 0 [[[[[[[[[[[[[[[[[[[[[[[[[[[[[[[[ -6.71290224e+09 -2.43696113e+09j]]]]]]]]]]]]]]]]]]]]]]]]]]]]]]]] [[[[[[[[[[[[[[[[[[[[[[[[[[[[[[[[ -1.21660375e+10 +3.35064093e+10j]]]]]]]]]]]]]]]]]]]]]]]]]]]]]]]]\n",
        "half way there!\n",
        "3.02328088412"
       ]
      },
      {
       "output_type": "stream",
       "stream": "stdout",
       "text": [
        " 3.02287778 [[[[[[[[[[[[[[[[[[[[[[[[[[[[[[[[-53060060.93607394+50363428.71170373j]]]]]]]]]]]]]]]]]]]]]]]]]]]]]]]] [[[[[[[[[[[[[[[[[[[[[[[[[[[[[[[[  5.57762888e+09 +5.55429656e+09j]]]]]]]]]]]]]]]]]]]]]]]]]]]]]]]] [-0.00046021]\n",
        "\n",
        "\n"
       ]
      },
      {
       "output_type": "stream",
       "stream": "stderr",
       "text": [
        "/usr/local/lib/python2.7/dist-packages/scipy/optimize/nonlin.py:474: RuntimeWarning: invalid value encountered in double_scalars\n",
        "  and dx_norm/self.x_rtol <= x_norm))\n"
       ]
      }
     ],
     "prompt_number": 3
    },
    {
     "cell_type": "code",
     "collapsed": false,
     "input": [
      "k_vs_hk"
     ],
     "language": "python",
     "metadata": {},
     "outputs": [
      {
       "metadata": {},
       "output_type": "pyout",
       "prompt_number": 4,
       "text": [
        "array([  0.00000000e+00 +0.00000000e+00j,\n",
        "        -1.11848010e+17 -4.53878726e+18j,\n",
        "        -5.56786552e+15 -1.44841277e+17j,\n",
        "        -2.18013379e+14 -4.59936983e+15j,\n",
        "        -7.67658980e+12 -1.45680055e+14j,\n",
        "        -2.50226003e+11 -4.35114926e+12j,\n",
        "         6.55058326e+08 +2.29768556e+09j,  -5.30600609e+07 +5.03634287e+07j])"
       ]
      }
     ],
     "prompt_number": 4
    },
    {
     "cell_type": "code",
     "collapsed": false,
     "input": [
      "k_list = numpy.array([10**(-16 + i) for i in range(7)])\n",
      "#print len(k_list), len(k_vs_hk)\n",
      "TPS = [8*(k_list[i])**3/(2*numpy.pi**2)*(numpy.absolute(k_vs_hk[i+1]))**2 for i in range(len(k_list))]\n",
      "print k_list, TPS"
     ],
     "language": "python",
     "metadata": {},
     "outputs": [
      {
       "output_type": "stream",
       "stream": "stdout",
       "text": [
        "[  1.00000000e-16   1.00000000e-15   1.00000000e-14   1.00000000e-13\n",
        "   1.00000000e-12   1.00000000e-11   1.00000000e-10] [8.354174658871525e-12, 8.5150309261250045e-12, 8.5927385962661217e-12, 8.6251109948345337e-12, 7.6984293011304356e-12, 2.3135518401002882e-15, 2.1690210876326636e-15]\n"
       ]
      }
     ],
     "prompt_number": 6
    },
    {
     "cell_type": "code",
     "collapsed": false,
     "input": [
      "plt.loglog(k_list, TPS)"
     ],
     "language": "python",
     "metadata": {},
     "outputs": [
      {
       "metadata": {},
       "output_type": "pyout",
       "prompt_number": 7,
       "text": [
        "[<matplotlib.lines.Line2D at 0xae92a04c>]"
       ]
      },
      {
       "metadata": {},
       "output_type": "display_data",
       "png": "[encoded data removed]",
       "text": [
        "<matplotlib.figure.Figure at 0xae9e660c>"
       ]
      }
     ],
     "prompt_number": 7
    },
    {
     "cell_type": "code",
     "collapsed": false,
     "input": [],
     "language": "python",
     "metadata": {},
     "outputs": []
    },
    {
     "cell_type": "code",
     "collapsed": false,
     "input": [],
     "language": "python",
     "metadata": {},
     "outputs": []
    },
    {
     "cell_type": "code",
     "collapsed": false,
     "input": [],
     "language": "python",
     "metadata": {},
     "outputs": []
    },
    {
     "cell_type": "code",
     "collapsed": false,
     "input": [
      "#plt.semilogy(numpy.absolute(k_vs_hk[1:]))\n",
      "##numpy.absolute(k_vs_hk)\n",
      "k_list = numpy.array([10**(-20 + i) for i in range(4)])\n",
      "#print len(k_list), len(k_vs_hk)\n",
      "TPS = [8*(k_list[i])**3/(2*numpy.pi**2)*(numpy.absolute(k_vs_hk[i+1]))**2 for i in range(len(k_list))]\n",
      "TPS\n",
      "plt.loglog(k_list,TPS)"
     ],
     "language": "python",
     "metadata": {},
     "outputs": [
      {
       "metadata": {},
       "output_type": "pyout",
       "prompt_number": 8,
       "text": [
        "[<matplotlib.lines.Line2D at 0xad4d8acc>]"
       ]
      },
      {
       "metadata": {},
       "output_type": "display_data",
       "png": "[encoded data removed]",
       "text": [
        "<matplotlib.figure.Figure at 0xad7ce58c>"
       ]
      }
     ],
     "prompt_number": 8
    },
    {
     "cell_type": "code",
     "collapsed": false,
     "input": [
      "k_list = numpy.array([10**(-25 + i) for i in range(16)])\n",
      "print k_list, k_vs_hk, len(k_vs_hk), len(k_list)"
     ],
     "language": "python",
     "metadata": {},
     "outputs": [
      {
       "output_type": "stream",
       "stream": "stdout",
       "text": [
        "[  1.00000000e-25   1.00000000e-24   1.00000000e-23   1.00000000e-22\n",
        "   1.00000000e-21   1.00000000e-20   1.00000000e-19   1.00000000e-18\n",
        "   1.00000000e-17   1.00000000e-16   1.00000000e-15   1.00000000e-14\n",
        "   1.00000000e-13   1.00000000e-12   1.00000000e-11   1.00000000e-10] [  0.00000000e+00 +0.00000000e+00j  -3.40007644e+28 -1.21060994e+30j\n",
        "   4.20336586e+28 -1.14533343e+29j   4.89998868e+27 -8.55795170e+27j\n",
        "   3.47776389e+26 -5.56694644e+26j   1.83759718e+25 -3.21140971e+25j\n",
        "   7.71873338e+23 -1.64149008e+24j   2.65862252e+22 -7.46636515e+22j\n",
        "   7.61361968e+20 -3.06223773e+21j   1.80225224e+19 -1.15471001e+20j\n",
        "   3.32572855e+17 -4.07802238e+18j   3.51601011e+15 -1.37462565e+17j\n",
        "  -5.88539407e+13 -4.50199349e+15j  -5.35401188e+12 -1.44603508e+14j\n",
        "  -2.25142002e+11 -4.33946683e+12j   6.54838668e+08 +2.30894703e+09j\n",
        "  -5.42884261e+07 +4.91046991e+07j] 17 16\n"
       ]
      }
     ],
     "prompt_number": 8
    },
    {
     "cell_type": "code",
     "collapsed": false,
     "input": [
      "#plt.semilogy(numpy.absolute(k_vs_hk[1:]))\n",
      "##numpy.absolute(k_vs_hk)\n",
      "k_list = numpy.array([10**(-25 + i) for i in range(16)])\n",
      "#print len(k_list), len(k_vs_hk)\n",
      "TPS = [8*(k_list[i])**3/(2*numpy.pi**2)*(numpy.absolute(k_vs_hk[i+1]))**2 for i in range(len(k_list))]\n",
      "plt.loglog(k_list,TPS)"
     ],
     "language": "python",
     "metadata": {},
     "outputs": [
      {
       "ename": "NameError",
       "evalue": "name 'k_vs_hk' is not defined",
       "output_type": "pyerr",
       "traceback": [
        "\u001b[0;31m---------------------------------------------------------------------------\u001b[0m\n\u001b[0;31mNameError\u001b[0m                                 Traceback (most recent call last)",
        "\u001b[0;32m<ipython-input-4-838f1d66aaef>\u001b[0m in \u001b[0;36m<module>\u001b[0;34m()\u001b[0m\n\u001b[1;32m      3\u001b[0m \u001b[0mk_list\u001b[0m \u001b[0;34m=\u001b[0m \u001b[0mnumpy\u001b[0m\u001b[0;34m.\u001b[0m\u001b[0marray\u001b[0m\u001b[0;34m(\u001b[0m\u001b[0;34m[\u001b[0m\u001b[0;36m10\u001b[0m\u001b[0;34m**\u001b[0m\u001b[0;34m(\u001b[0m\u001b[0;34m-\u001b[0m\u001b[0;36m25\u001b[0m \u001b[0;34m+\u001b[0m \u001b[0mi\u001b[0m\u001b[0;34m)\u001b[0m \u001b[0;32mfor\u001b[0m \u001b[0mi\u001b[0m \u001b[0;32min\u001b[0m \u001b[0mrange\u001b[0m\u001b[0;34m(\u001b[0m\u001b[0;36m16\u001b[0m\u001b[0;34m)\u001b[0m\u001b[0;34m]\u001b[0m\u001b[0;34m)\u001b[0m\u001b[0;34m\u001b[0m\u001b[0m\n\u001b[1;32m      4\u001b[0m \u001b[0;31m#print len(k_list), len(k_vs_hk)\u001b[0m\u001b[0;34m\u001b[0m\u001b[0;34m\u001b[0m\u001b[0m\n\u001b[0;32m----> 5\u001b[0;31m \u001b[0mTPS\u001b[0m \u001b[0;34m=\u001b[0m \u001b[0;34m[\u001b[0m\u001b[0;36m8\u001b[0m\u001b[0;34m*\u001b[0m\u001b[0;34m(\u001b[0m\u001b[0mk_list\u001b[0m\u001b[0;34m[\u001b[0m\u001b[0mi\u001b[0m\u001b[0;34m]\u001b[0m\u001b[0;34m)\u001b[0m\u001b[0;34m**\u001b[0m\u001b[0;36m3\u001b[0m\u001b[0;34m/\u001b[0m\u001b[0;34m(\u001b[0m\u001b[0;36m2\u001b[0m\u001b[0;34m*\u001b[0m\u001b[0mnumpy\u001b[0m\u001b[0;34m.\u001b[0m\u001b[0mpi\u001b[0m\u001b[0;34m**\u001b[0m\u001b[0;36m2\u001b[0m\u001b[0;34m)\u001b[0m\u001b[0;34m*\u001b[0m\u001b[0;34m(\u001b[0m\u001b[0mnumpy\u001b[0m\u001b[0;34m.\u001b[0m\u001b[0mabsolute\u001b[0m\u001b[0;34m(\u001b[0m\u001b[0mk_vs_hk\u001b[0m\u001b[0;34m[\u001b[0m\u001b[0mi\u001b[0m\u001b[0;34m+\u001b[0m\u001b[0;36m1\u001b[0m\u001b[0;34m]\u001b[0m\u001b[0;34m)\u001b[0m\u001b[0;34m)\u001b[0m\u001b[0;34m**\u001b[0m\u001b[0;36m2\u001b[0m \u001b[0;32mfor\u001b[0m \u001b[0mi\u001b[0m \u001b[0;32min\u001b[0m \u001b[0mrange\u001b[0m\u001b[0;34m(\u001b[0m\u001b[0mlen\u001b[0m\u001b[0;34m(\u001b[0m\u001b[0mk_list\u001b[0m\u001b[0;34m)\u001b[0m\u001b[0;34m)\u001b[0m\u001b[0;34m]\u001b[0m\u001b[0;34m\u001b[0m\u001b[0m\n\u001b[0m\u001b[1;32m      6\u001b[0m \u001b[0mplt\u001b[0m\u001b[0;34m.\u001b[0m\u001b[0mloglog\u001b[0m\u001b[0;34m(\u001b[0m\u001b[0mk_list\u001b[0m\u001b[0;34m,\u001b[0m\u001b[0mTPS\u001b[0m\u001b[0;34m)\u001b[0m\u001b[0;34m\u001b[0m\u001b[0m\n",
        "\u001b[0;31mNameError\u001b[0m: name 'k_vs_hk' is not defined"
       ]
      }
     ],
     "prompt_number": 4
    },
    {
     "cell_type": "code",
     "collapsed": false,
     "input": [
      "numpy.absolute(TPS)"
     ],
     "language": "python",
     "metadata": {},
     "outputs": [
      {
       "metadata": {},
       "output_type": "pyout",
       "prompt_number": 15,
       "text": [
        "array([  5.94444281e-16,   6.03254781e-15,   3.94133027e-14,\n",
        "         1.74619904e-13,   5.54831386e-13,   1.33349950e-12,\n",
        "         2.54579129e-12,   4.03540873e-12,   5.53552620e-12,\n",
        "         6.78481955e-12,   7.66325311e-12,   8.21569270e-12,\n",
        "         8.48619220e-12,   7.65244910e-12,   2.33446036e-15,\n",
        "         2.17172014e-15,   5.32675300e+07,   5.32675300e+07])"
       ]
      }
     ],
     "prompt_number": 15
    },
    {
     "cell_type": "code",
     "collapsed": false,
     "input": [
      "k_list = numpy.array([10**(-25 + i) for i in range(17)])\n",
      "#TPS = numpy.append(TPS,numpy.array([-52854397.37028672-6621361.3902465j]))\n",
      "print TPS, k_list, len(k_list), len(TPS[:-1])\n",
      "plt.loglog(k_list,TPS[:-1])"
     ],
     "language": "python",
     "metadata": {},
     "outputs": [
      {
       "output_type": "stream",
       "stream": "stdout",
       "text": [
        "[  5.94444281e-16      +0.j          6.03254781e-15      +0.j\n",
        "   3.94133027e-14      +0.j          1.74619904e-13      +0.j\n",
        "   5.54831386e-13      +0.j          1.33349950e-12      +0.j\n",
        "   2.54579129e-12      +0.j          4.03540873e-12      +0.j\n",
        "   5.53552620e-12      +0.j          6.78481955e-12      +0.j\n",
        "   7.66325311e-12      +0.j          8.21569270e-12      +0.j\n",
        "   8.48619220e-12      +0.j          7.65244910e-12      +0.j\n",
        "   2.33446036e-15      +0.j          2.17172014e-15      +0.j\n",
        "  -5.28543974e+07-6621361.3902465j  -5.28543974e+07-6621361.3902465j] [  1.00000000e-25   1.00000000e-24   1.00000000e-23   1.00000000e-22\n",
        "   1.00000000e-21   1.00000000e-20   1.00000000e-19   1.00000000e-18\n",
        "   1.00000000e-17   1.00000000e-16   1.00000000e-15   1.00000000e-14\n",
        "   1.00000000e-13   1.00000000e-12   1.00000000e-11   1.00000000e-10\n",
        "   1.00000000e-09] 17 17\n"
       ]
      },
      {
       "metadata": {},
       "output_type": "pyout",
       "prompt_number": 13,
       "text": [
        "[<matplotlib.lines.Line2D at 0xa929c8ec>]"
       ]
      },
      {
       "metadata": {},
       "output_type": "display_data",
       "png": "[encoded data removed]",
       "text": [
        "<matplotlib.figure.Figure at 0xa8f5338c>"
       ]
      }
     ],
     "prompt_number": 13
    },
    {
     "cell_type": "code",
     "collapsed": false,
     "input": [
      "plt.semilogy(numpy.absolute(numpy.array([5.66745795e+55 +1.53574740e+56j, -3.66637056e+51 +2.89422112e+51j, -1.20761313e+46 -8.50306399e+45j, 2.58245042e+39 -2.59858971e+39j, 1.78588061e+31 -8.78613502e+29j, 4.89620158e+19 +2.64193910e+20j, 2.55526188e+09 -9.27435959e+09j, 48031759.33156778 +2.17902654e+08j])))"
     ],
     "language": "python",
     "metadata": {},
     "outputs": [
      {
       "metadata": {},
       "output_type": "pyout",
       "prompt_number": 51,
       "text": [
        "[<matplotlib.lines.Line2D at 0xad50d0cc>]"
       ]
      },
      {
       "metadata": {},
       "output_type": "display_data",
       "png": "[encoded data removed]",
       "text": [
        "<matplotlib.figure.Figure at 0xadad762c>"
       ]
      }
     ],
     "prompt_number": 51
    },
    {
     "cell_type": "code",
     "collapsed": false,
     "input": [
      "test = numpy.array([5.66745795e+55 +1.53574740e+56j, -3.66637056e+51 +2.89422112e+51j, -1.20761313e+46 -8.50306399e+45j, 2.58245042e+39 -2.59858971e+39j, 1.78588061e+31 -8.78613502e+29j, 4.89620158e+19 +2.64193910e+20j, 2.55526188e+09 -9.27435959e+09j, 48031759.33156778 +2.17902654e+08j])\n",
      "10**(-2*n+1)*numpy.absolute(test)**2"
     ],
     "language": "python",
     "metadata": {},
     "outputs": [
      {
       "metadata": {},
       "output_type": "pyout",
       "prompt_number": 17,
       "text": [
        "array([  2.67972087e+112,   2.18187890e+103,   2.18135044e+092,\n",
        "         1.34217187e+079,   3.19708917e+062,   7.21957011e+040,\n",
        "         9.25431091e+019,   4.97886165e+016])"
       ]
      }
     ],
     "prompt_number": 17
    },
    {
     "cell_type": "code",
     "collapsed": false,
     "input": [],
     "language": "python",
     "metadata": {},
     "outputs": []
    },
    {
     "cell_type": "code",
     "collapsed": false,
     "input": [
      "10**(-5)*numpy.exp(-25)"
     ],
     "language": "python",
     "metadata": {},
     "outputs": [
      {
       "metadata": {},
       "output_type": "pyout",
       "prompt_number": 58,
       "text": [
        "1.3887943864964023e-16"
       ]
      }
     ],
     "prompt_number": 58
    },
    {
     "cell_type": "code",
     "collapsed": false,
     "input": [],
     "language": "python",
     "metadata": {},
     "outputs": []
    },
    {
     "cell_type": "code",
     "collapsed": false,
     "input": [
      "print hk0, Dhk0"
     ],
     "language": "python",
     "metadata": {},
     "outputs": []
    },
    {
     "cell_type": "code",
     "collapsed": false,
     "input": [
      "A = lambda N : a0*exp(x**2/2).subs(x,N).evalf()\n",
      "an = lambda n : a0*((1+(n/n0)**2)**p)\n",
      "\n",
      "aN = lambda N : an(n(N))\n",
      "h = lambda n : (sym.diff(an(x),x).subs(x,n).evalf())/(an(n)**2)\n",
      "H = lambda N : h(n(N))\n",
      "DH = lambda N : sym.diff(H(x),x).subs(x,N).evalf()\n",
      "\n",
      "fn = lambda n : sym.diff(sym.diff(an(x),x),x).subs(x,n).evalf()/an(n)\n",
      "fN = lambda N : fn(n(N))\n",
      "\n",
      "nm = lambda N : -n0*((A(N)/a0)**(1./p)-1)**(1./2)\n",
      "n = lambda N : nm(N)"
     ],
     "language": "python",
     "metadata": {},
     "outputs": [],
     "prompt_number": 3
    },
    {
     "cell_type": "code",
     "collapsed": false,
     "input": [
      "k_min = 1e-9\n",
      "k_max = 1e-8\n",
      "\n",
      "k0 = k_min\n",
      "while k0 < k_max:\n",
      "    Nics = numpy.array([-4])\n",
      "    for i in range(100):\n",
      "        Nics = opt.newton_krylov(lambda N : (k0)**2 - 1e+04*fN(N),Nics)\n",
      "    print Nics\n",
      "    '''print 'k0', k0, 'Nics', Nics\n",
      "    print 'hk0', (((2.*k0)**(1./2))*A(Nics))**(-1.)\n",
      "    print 'imag part dhk0', -Nics*((k0/2)**(1./2))/(A(Nics)*A(Nics)*H(Nics))\n",
      "    print 'real part dhk0', -(sym.diff(A(x),x).subs(x,Nics).evalf()/(A(Nics)**2))*((2*k0)**(-1./2))\n",
      "    print 'hk0', numpy.array([ + 0j], dtype=complex)'''\n",
      "    hk0 = numpy.zeros(1,dtype=complex)\n",
      "    hk0.real = (((2.*k0)**(1./2))*A(-Nics))**(-1.)\n",
      "    print hk0\n",
      "    Dhk0 = numpy.zeros(1,dtype=complex)\n",
      "    Dhk0.real = -(sym.diff(A(x),x).subs(x,-Nics).evalf()/(A(-Nics)**2))*((2*k0)**(-1./2))\n",
      "    Dhk0.imag = -(-Nics)*((k0/2)**(1./2))/(A(-Nics)*A(-Nics)*H(-Nics))\n",
      "    print Dhk0\n",
      "    print '\\n'\n",
      "    k0 = 1e+02*k0"
     ],
     "language": "python",
     "metadata": {},
     "outputs": [
      {
       "output_type": "stream",
       "stream": "stdout",
       "text": [
        "[ 1.64317937]\n",
        "[  5.79667700e+08+0.j]\n",
        "[  9.52498008e+08 -7.82544300e+10j]\n",
        "\n",
        "\n"
       ]
      }
     ],
     "prompt_number": 8
    },
    {
     "cell_type": "code",
     "collapsed": false,
     "input": [],
     "language": "python",
     "metadata": {},
     "outputs": []
    },
    {
     "cell_type": "code",
     "collapsed": false,
     "input": [
      "A = lambda N : a0*exp(x**2/2).subs(x,N).evalf()\n",
      "an = lambda n : a0*((1+(n/n0)**2)**p)\n",
      "\n",
      "aN = lambda N : an(n(N))\n",
      "h = lambda n : (sym.diff(an(x),x).subs(x,n).evalf())/(an(n)**2)\n",
      "H = lambda N : h(n(N))\n",
      "DH = lambda N : sym.diff(H(x),x).subs(x,N).evalf()\n",
      "\n",
      "fn = lambda n : sym.diff(sym.diff(an(x),x),x).subs(x,n).evalf()/an(n)\n",
      "fN = lambda N : fn(n(N))\n",
      "\n",
      "np = lambda N : n0*((A(N)/a0)**(1./p)-1)**(1./2)\n",
      "n = lambda N : np(N)"
     ],
     "language": "python",
     "metadata": {},
     "outputs": [],
     "prompt_number": 59
    },
    {
     "cell_type": "code",
     "collapsed": false,
     "input": [
      "k_max = 1e-9\n",
      "k0 = k_max\n",
      "\n",
      "Nshs = numpy.array([+2])\n",
      "for i in range(250):\n",
      "    Nshs = opt.newton_krylov(lambda N : (k0)**2 - 25*1e+04*fN(N),Nshs)\n",
      "\n",
      "print k0, Nics"
     ],
     "language": "python",
     "metadata": {},
     "outputs": [
      {
       "output_type": "stream",
       "stream": "stdout",
       "text": [
        "1e-09 [ 4.98076739]\n"
       ]
      }
     ],
     "prompt_number": 64
    },
    {
     "cell_type": "code",
     "collapsed": false,
     "input": [
      "temp = numpy.array([3])\n",
      "for i in range(200):\n",
      "    temp = opt.newton_krylov(lambda N : (1e-09)**2 - 25*1e+04*fN(N),temp)\n",
      "    \n",
      "print temp"
     ],
     "language": "python",
     "metadata": {},
     "outputs": [
      {
       "output_type": "stream",
       "stream": "stdout",
       "text": [
        "[ 3.02287778]\n"
       ]
      }
     ],
     "prompt_number": 67
    },
    {
     "cell_type": "code",
     "collapsed": false,
     "input": [],
     "language": "python",
     "metadata": {},
     "outputs": []
    },
    {
     "cell_type": "code",
     "collapsed": false,
     "input": [],
     "language": "python",
     "metadata": {},
     "outputs": []
    },
    {
     "cell_type": "code",
     "collapsed": false,
     "input": [
      "def DDhk(k0, N, hk0, Dhk0):\n",
      "    return -((3.*N -(1./N) +(DH(N)/H(N)))*Dhk0 +(((k0*N)/(A(N)*H(N)))**2)*hk0)\n",
      "\n",
      "def rk4_step(k0, N, hk0, Dhk0, step):\n",
      "    F1 = Dhk0\n",
      "    f1 = DDhk(k0, N, hk0, Dhk0)\n",
      "    F2 = Dhk0 +f1*step/2.\n",
      "    f2 = DDhk(k0, N +step/2., hk0 +F1*step/2., Dhk0 +f1*step/2.)\n",
      "    F3 = Dhk0 +f2*step/2.\n",
      "    f3 = DDhk(k0, N +step/2., hk0 +F2*step/2., Dhk0 +f2*step/2.)\n",
      "    F4 = Dhk0 +f3*step\n",
      "    f4 = DDhk(k0, N +step, hk0 +F3*step, Dhk0 +f3*step)   \n",
      "\n",
      "    return numpy.array([(f1 +2*f2 +2*f3 +f4)*step/6.], dtype=complex), numpy.array([(F1 +2*F2 +2*F3 +F4)*step/6.], dtype=complex) # [Dhk, hk] update\n",
      "\n",
      "k_min = 1e-9\n",
      "k_max = 1e-8\n",
      "\n",
      "Nshss = 3.02287778\n",
      "\n",
      "print 'lift off!'\n",
      "\n",
      "k_vs_hk = numpy.zeros(1,dtype=complex)\n",
      "\n",
      "k0 = k_min\n",
      "while k0 < k_max:\n",
      "    print 'k0 = ', k0\n",
      "\n",
      "    A = lambda N : a0*exp(x**2/2).subs(x,N).evalf()\n",
      "    an = lambda n : a0*((1+(n/n0)**2)**p)\n",
      "\n",
      "    nm = lambda N : -n0*((A(N)/a0)**(1./p)-1)**(1./2)\n",
      "    n = lambda N : nm(N)\n",
      "    \n",
      "    aN = lambda N : an(n(N))\n",
      "    h = lambda n : (sym.diff(an(x),x).subs(x,n).evalf())/(an(n)**2)\n",
      "    H = lambda N : h(n(N))\n",
      "    DH = lambda N : sym.diff(H(x),x).subs(x,N).evalf()\n",
      "\n",
      "    fn = lambda n : sym.diff(sym.diff(an(x),x),x).subs(x,n).evalf()/an(n)\n",
      "    fN = lambda N : fn(n(N))    \n",
      "    \n",
      "    Nics = numpy.array([-4])\n",
      "    for i in range(200):\n",
      "        Nics = opt.newton_krylov(lambda N : (k0)**2 - 1e+04*fN(N),Nics)\n",
      "    \n",
      "    Nics = -Nics\n",
      "    \n",
      "    hk0 = numpy.zeros(1,dtype=complex)\n",
      "    hk0.real = (((2.*k0)**(1./2))*A(Nics))**(-1.)\n",
      "    \n",
      "    Dhk0 = numpy.zeros(1,dtype=complex)\n",
      "    Dhk0.real = -(sym.diff(A(x),x).subs(x,Nics).evalf()/(A(Nics)**2))*((2*k0)**(-1./2))\n",
      "    Dhk0.imag = -Nics*((k0/2)**(1./2))/(A(Nics)*A(Nics)*H(Nics))\n",
      "\n",
      "    print 'got Nics, hk0 and Dhk0'\n",
      "\n",
      "    npts = 7500\n",
      "    step = (0-Nics)/(npts-1)\n",
      "\n",
      "    print 'starting from Nics'\n",
      "    \n",
      "    N = Nics\n",
      "    while N < 0 -2*step:\n",
      "        #array = euler_step(N, hk0, Dhk0, step)\n",
      "        array = rk4_step(k0, N, hk0, Dhk0, step)\n",
      "        hk0 = hk0 + array[1]\n",
      "        Dhk0 = Dhk0 + array[0]\n",
      "        N += step\n",
      "\n",
      "    print N-step, 0, hk0, Dhk0\n",
      "    print 'half way there!'\n",
      "\n",
      "    A = lambda N : a0*exp(x**2/2).subs(x,N).evalf()\n",
      "    an = lambda n : a0*((1+(n/n0)**2)**p)\n",
      "\n",
      "    np = lambda N : n0*((A(N)/a0)**(1./p)-1)**(1./2)\n",
      "    n = lambda N : np(N)\n",
      "    \n",
      "    aN = lambda N : an(n(N))\n",
      "    h = lambda n : (sym.diff(an(x),x).subs(x,n).evalf())/(an(n)**2)\n",
      "    H = lambda N : h(n(N))\n",
      "    DH = lambda N : sym.diff(H(x),x).subs(x,N).evalf()\n",
      "\n",
      "    fn = lambda n : sym.diff(sym.diff(an(x),x),x).subs(x,n).evalf()/an(n)\n",
      "    fN = lambda N : fn(n(N))    \n",
      "\n",
      "    step = (Nshss-0)/(npts-1)\n",
      "\n",
      "    N = 0 +step\n",
      "    while N < Nshss + step:\n",
      "        #array = euler_step()\n",
      "        array = rk4_step(k0, N, hk0, Dhk0, step)\n",
      "        hk0 = hk0 + array[1]\n",
      "        Dhk0 = Dhk0 + array[0]\n",
      "        N += step\n",
      "        \n",
      "#    k_vs_hk = numpy.append(k_vs_hk, hk0)\n",
      "    print N-step, Nshss, hk0, Dhk0, Nics\n",
      "    print '\\n'\n",
      "    k0 = 10*k0"
     ],
     "language": "python",
     "metadata": {},
     "outputs": [
      {
       "output_type": "stream",
       "stream": "stdout",
       "text": [
        "lift off!\n",
        "k0 =  1e-09\n",
        "got Nics, hk0 and Dhk0"
       ]
      },
      {
       "output_type": "stream",
       "stream": "stdout",
       "text": [
        "\n",
        "starting from Nics\n",
        "[-0.00043824]"
       ]
      },
      {
       "output_type": "stream",
       "stream": "stdout",
       "text": [
        " 0 [[[[[[[[[[[[[[[[[[[[[[[[[[[[[[[[ -1.50988398e+09 -1.64961764e+09j]]]]]]]]]]]]]]]]]]]]]]]]]]]]]]]] [[[[[[[[[[[[[[[[[[[[[[[[[[[[[[[[ -8.39704417e+10 +7.68646005e+10j]]]]]]]]]]]]]]]]]]]]]]]]]]]]]]]]\n",
        "half way there!\n",
        "3.02328088412"
       ]
      },
      {
       "output_type": "stream",
       "stream": "stdout",
       "text": [
        " 3.02287778 [[[[[[[[[[[[[[[[[[[[[[[[[[[[[[[[-21708506.82766536-7280700.84639555j]]]]]]]]]]]]]]]]]]]]]]]]]]]]]]]] [[[[[[[[[[[[[[[[[[[[[[[[[[[[[[[[ -7.76747172e+09 +2.33793717e+10j]]]]]]]]]]]]]]]]]]]]]]]]]]]]]]]] [-0.00021912]\n",
        "\n",
        "\n"
       ]
      },
      {
       "output_type": "stream",
       "stream": "stderr",
       "text": [
        "/usr/local/lib/python2.7/dist-packages/scipy/optimize/nonlin.py:474: RuntimeWarning: invalid value encountered in double_scalars\n",
        "  and dx_norm/self.x_rtol <= x_norm))\n"
       ]
      }
     ],
     "prompt_number": 3
    },
    {
     "cell_type": "code",
     "collapsed": false,
     "input": [
      "8*(k0/10)**3/(2*numpy.pi**2)*(numpy.absolute(numpy.array([-21708506.82766536-7280700.84639555j])))**2"
     ],
     "language": "python",
     "metadata": {},
     "outputs": [
      {
       "metadata": {},
       "output_type": "pyout",
       "prompt_number": 4,
       "text": [
        "array([  2.12477766e-13])"
       ]
      }
     ],
     "prompt_number": 4
    },
    {
     "cell_type": "code",
     "collapsed": false,
     "input": [
      "k0"
     ],
     "language": "python",
     "metadata": {},
     "outputs": [
      {
       "metadata": {},
       "output_type": "pyout",
       "prompt_number": 13,
       "text": [
        "1e-08"
       ]
      }
     ],
     "prompt_number": 13
    },
    {
     "cell_type": "code",
     "collapsed": false,
     "input": [],
     "language": "python",
     "metadata": {},
     "outputs": []
    }
   ],
   "metadata": {}
  }
 ]
}